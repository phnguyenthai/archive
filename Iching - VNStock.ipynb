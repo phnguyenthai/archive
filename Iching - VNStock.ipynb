{
 "cells": [
  {
   "cell_type": "code",
   "execution_count": 1,
   "id": "d1efd31d",
   "metadata": {},
   "outputs": [],
   "source": [
    "import numpy as mp\n",
    "import pandas as pd\n",
    "import scipy\n",
    "import requests\n",
    "import os\n",
    "import requests\n",
    "from pandas import read_html"
   ]
  },
  {
   "cell_type": "code",
   "execution_count": null,
   "id": "d7909fe2",
   "metadata": {},
   "outputs": [],
   "source": [
    "csv_file_path = 'C:/Users/phong/OneDrive/Desktop/vnstock/price.csv'\n",
    "df = pd.read_csv(csv_file_path)"
   ]
  },
  {
   "cell_type": "code",
   "execution_count": 2,
   "id": "913abe29",
   "metadata": {},
   "outputs": [
    {
     "data": {
      "text/html": [
       "<div>\n",
       "<style scoped>\n",
       "    .dataframe tbody tr th:only-of-type {\n",
       "        vertical-align: middle;\n",
       "    }\n",
       "\n",
       "    .dataframe tbody tr th {\n",
       "        vertical-align: top;\n",
       "    }\n",
       "\n",
       "    .dataframe thead th {\n",
       "        text-align: right;\n",
       "    }\n",
       "</style>\n",
       "<table border=\"1\" class=\"dataframe\">\n",
       "  <thead>\n",
       "    <tr style=\"text-align: right;\">\n",
       "      <th></th>\n",
       "      <th>time</th>\n",
       "      <th>close</th>\n",
       "      <th>ticker</th>\n",
       "      <th>month</th>\n",
       "      <th>year</th>\n",
       "      <th>yearmonth</th>\n",
       "      <th>next month price</th>\n",
       "      <th>last month price</th>\n",
       "      <th>return</th>\n",
       "      <th>ranking</th>\n",
       "      <th>change</th>\n",
       "    </tr>\n",
       "  </thead>\n",
       "  <tbody>\n",
       "    <tr>\n",
       "      <th>0</th>\n",
       "      <td>2012-03-30</td>\n",
       "      <td>4461.0</td>\n",
       "      <td>AAA</td>\n",
       "      <td>3</td>\n",
       "      <td>2012</td>\n",
       "      <td>2012-03-01</td>\n",
       "      <td>5178.0</td>\n",
       "      <td>NaN</td>\n",
       "      <td>0.160726</td>\n",
       "      <td>97.0</td>\n",
       "      <td>B</td>\n",
       "    </tr>\n",
       "    <tr>\n",
       "      <th>1</th>\n",
       "      <td>2012-04-27</td>\n",
       "      <td>5178.0</td>\n",
       "      <td>AAA</td>\n",
       "      <td>4</td>\n",
       "      <td>2012</td>\n",
       "      <td>2012-04-01</td>\n",
       "      <td>4484.0</td>\n",
       "      <td>4461.0</td>\n",
       "      <td>-0.134029</td>\n",
       "      <td>208.0</td>\n",
       "      <td>A</td>\n",
       "    </tr>\n",
       "    <tr>\n",
       "      <th>2</th>\n",
       "      <td>2012-05-31</td>\n",
       "      <td>4484.0</td>\n",
       "      <td>AAA</td>\n",
       "      <td>5</td>\n",
       "      <td>2012</td>\n",
       "      <td>2012-05-01</td>\n",
       "      <td>3930.0</td>\n",
       "      <td>5178.0</td>\n",
       "      <td>-0.123550</td>\n",
       "      <td>214.0</td>\n",
       "      <td>B</td>\n",
       "    </tr>\n",
       "    <tr>\n",
       "      <th>3</th>\n",
       "      <td>2012-06-29</td>\n",
       "      <td>3930.0</td>\n",
       "      <td>AAA</td>\n",
       "      <td>6</td>\n",
       "      <td>2012</td>\n",
       "      <td>2012-06-01</td>\n",
       "      <td>4138.0</td>\n",
       "      <td>4484.0</td>\n",
       "      <td>0.052926</td>\n",
       "      <td>39.0</td>\n",
       "      <td>B</td>\n",
       "    </tr>\n",
       "    <tr>\n",
       "      <th>4</th>\n",
       "      <td>2012-07-31</td>\n",
       "      <td>4138.0</td>\n",
       "      <td>AAA</td>\n",
       "      <td>7</td>\n",
       "      <td>2012</td>\n",
       "      <td>2012-07-01</td>\n",
       "      <td>3873.0</td>\n",
       "      <td>3930.0</td>\n",
       "      <td>-0.064041</td>\n",
       "      <td>137.0</td>\n",
       "      <td>A</td>\n",
       "    </tr>\n",
       "  </tbody>\n",
       "</table>\n",
       "</div>"
      ],
      "text/plain": [
       "         time   close ticker  month  year   yearmonth  next month price  \\\n",
       "0  2012-03-30  4461.0    AAA      3  2012  2012-03-01            5178.0   \n",
       "1  2012-04-27  5178.0    AAA      4  2012  2012-04-01            4484.0   \n",
       "2  2012-05-31  4484.0    AAA      5  2012  2012-05-01            3930.0   \n",
       "3  2012-06-29  3930.0    AAA      6  2012  2012-06-01            4138.0   \n",
       "4  2012-07-31  4138.0    AAA      7  2012  2012-07-01            3873.0   \n",
       "\n",
       "   last month price    return  ranking change  \n",
       "0               NaN  0.160726     97.0      B  \n",
       "1            4461.0 -0.134029    208.0      A  \n",
       "2            5178.0 -0.123550    214.0      B  \n",
       "3            4484.0  0.052926     39.0      B  \n",
       "4            3930.0 -0.064041    137.0      A  "
      ]
     },
     "execution_count": 2,
     "metadata": {},
     "output_type": "execute_result"
    }
   ],
   "source": [
    "\n",
    "\n",
    "df = df.sort_values(by=['ticker', 'time'])\n",
    "\n",
    "# Group by ticker and calculate the change\n",
    "df['change'] = df.groupby('ticker')['close'].transform(lambda x: (x > x.shift(1)).astype(int))\n",
    "df['change'] = df['change'].apply(lambda x: 'A' if x == 1 else 'B')\n",
    "df.head()"
   ]
  },
  {
   "cell_type": "code",
   "execution_count": 3,
   "id": "77a9a9b1",
   "metadata": {},
   "outputs": [],
   "source": [
    "import pandas as pd\n",
    "\n",
    "# Assuming df is your DataFrame\n",
    "# Convert 'time' column to datetime if it's not already\n",
    "df['time'] = pd.to_datetime(df['time'])\n",
    "\n",
    "# Sort DataFrame by 'time'\n",
    "df = df.sort_values(by='time')\n",
    "\n",
    "# Group by 'ticker' and shift 'change' column to create columns for previous months\n",
    "df['d-1'] = df.groupby('ticker')['change'].shift(1)\n",
    "df['d-2'] = df.groupby('ticker')['change'].shift(2)\n",
    "df['d-3'] = df.groupby('ticker')['change'].shift(3)\n",
    "df['d-4'] = df.groupby('ticker')['change'].shift(4)\n",
    "df['d-5'] = df.groupby('ticker')['change'].shift(5)\n",
    "df['d-6'] = df.groupby('ticker')['change'].shift(6)\n"
   ]
  },
  {
   "cell_type": "code",
   "execution_count": 4,
   "id": "e9e293c6",
   "metadata": {},
   "outputs": [],
   "source": [
    "# Concatenate values from 'd-6' to 'd-1' along rows after filtering out 0 and \".\" and create a new column 'hexagram'\n",
    "df['hexagram'] = df[['d-6', 'd-5', 'd-4', 'd-3', 'd-2', 'd-1']].replace({0:'', '.':''}).astype(str).agg(''.join, axis=1)\n"
   ]
  },
  {
   "cell_type": "code",
   "execution_count": 5,
   "id": "715a397b",
   "metadata": {},
   "outputs": [],
   "source": [
    "df['flag'] = df['hexagram'].apply(lambda x: 0 if 'nan' in x else 1)"
   ]
  },
  {
   "cell_type": "code",
   "execution_count": 6,
   "id": "b860714d",
   "metadata": {},
   "outputs": [],
   "source": [
    "csv_file_path = 'C:/Users/phong/OneDrive/Desktop/vnstock/test1.csv'\n",
    "df.to_csv(csv_file_path, index=False)\n",
    "\n",
    "# Open the CSV file\n",
    "os.startfile(csv_file_path)"
   ]
  }
 ],
 "metadata": {
  "kernelspec": {
   "display_name": "Python 3 (ipykernel)",
   "language": "python",
   "name": "python3"
  },
  "language_info": {
   "codemirror_mode": {
    "name": "ipython",
    "version": 3
   },
   "file_extension": ".py",
   "mimetype": "text/x-python",
   "name": "python",
   "nbconvert_exporter": "python",
   "pygments_lexer": "ipython3",
   "version": "3.11.5"
  }
 },
 "nbformat": 4,
 "nbformat_minor": 5
}
