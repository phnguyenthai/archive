{
 "cells": [
  {
   "cell_type": "code",
   "execution_count": 85,
   "id": "a553c5b8",
   "metadata": {},
   "outputs": [],
   "source": [
    "import pandas as pd\n",
    "import numpy as np\n",
    "from vnstock import *\n",
    "from datetime import *\n",
    "import os\n",
    "from datetime import datetime, timedelta"
   ]
  },
  {
   "cell_type": "code",
   "execution_count": 86,
   "id": "695e1bac",
   "metadata": {},
   "outputs": [],
   "source": [
    "list = listing_companies(live=True)\n",
    "list = list[list['comGroupCode'] == \"HOSE\"]"
   ]
  },
  {
   "cell_type": "code",
   "execution_count": 87,
   "id": "982743f8",
   "metadata": {},
   "outputs": [],
   "source": [
    "#df = stock_historical_data('VIC', start_date, end_date, \"1D\", 'stock')"
   ]
  },
  {
   "cell_type": "markdown",
   "id": "783011f8",
   "metadata": {},
   "source": [
    "# Get the Price"
   ]
  },
  {
   "cell_type": "code",
   "execution_count": 88,
   "id": "f55bd7c7",
   "metadata": {},
   "outputs": [
    {
     "name": "stderr",
     "output_type": "stream",
     "text": [
      "\n",
      "KeyboardInterrupt\n",
      "\n"
     ]
    }
   ],
   "source": [
    "import pandas as pd\n",
    "from datetime import datetime, timedelta\n",
    "\n",
    "symbols = list['ticker'].tolist() \n",
    "dfs = []\n",
    "for symbol in symbols:\n",
    "    # Calculate start date\n",
    "    start_date = datetime.now() - timedelta(days=300*30)  # Assuming 30 days per month\n",
    "    start_date = start_date.strftime(\"%Y-%m-%d\")\n",
    "\n",
    "    # Calculate end date (yesterday)\n",
    "    end_date = datetime.now() - timedelta(days=1)\n",
    "    end_date = end_date.strftime(\"%Y-%m-%d\")\n",
    "    \n",
    "    df = stock_historical_data(symbol, start_date, end_date, \"1D\", 'stock')\n",
    "\n",
    "    # Assuming 'time' column is present in df and contains datetime objects\n",
    "    df['time'] = pd.to_datetime(df['time'])\n",
    "\n",
    "    # Extract year and month from the 'time' column\n",
    "    df['YearMonth'] = df['time'].dt.to_period('M')\n",
    "\n",
    "    # Find the maximum date for each year-month group\n",
    "    max_dates = df.groupby('YearMonth')['time'].max()\n",
    "\n",
    "    # Filter df to include only rows with the maximum date for each year-month group\n",
    "    df1 = df[df['time'].isin(max_dates)].copy()  # Explicitly create a copy\n",
    "\n",
    "    # Drop the 'YearMonth' column if you no longer need it\n",
    "    df1.drop('YearMonth', axis=1, inplace=True)\n",
    "\n",
    "    # Reset index if needed\n",
    "    df1.reset_index(drop=True, inplace=True)\n",
    "\n",
    "    dfs.append(df1)\n",
    "\n",
    "df_append = pd.concat(dfs, ignore_index=True)"
   ]
  },
  {
   "cell_type": "code",
   "execution_count": null,
   "id": "5e6a4f0e",
   "metadata": {},
   "outputs": [],
   "source": [
    "df = df_append"
   ]
  },
  {
   "cell_type": "code",
   "execution_count": null,
   "id": "c5a097c8",
   "metadata": {},
   "outputs": [],
   "source": [
    "df['time'] = pd.to_datetime(df['time'])\n",
    "df['year'] = df['time'].dt.year\n",
    "df['yearmonth'] = df['time'].dt.strftime('%Y-%m')"
   ]
  },
  {
   "cell_type": "code",
   "execution_count": null,
   "id": "02b5b5e8",
   "metadata": {},
   "outputs": [],
   "source": [
    "# Loop to find max price for previous years (excluding current year) for each ticker\n",
    "for ticker, data in df.groupby(['ticker']):\n",
    "    max_prices = {}  # Create a separate max_prices dictionary for each ticker\n",
    "    for row in data.itertuples():\n",
    "        current_year = row.year\n",
    "        current_price = row.close\n",
    "\n",
    "        # Skip the first row (current year has no previous years)\n",
    "        if current_year == data['year'].min():\n",
    "            continue\n",
    "\n",
    "        # Initialize max_price for this ticker (if not already done)\n",
    "        if current_year not in max_prices:\n",
    "            max_prices[current_year] = float('-inf')  # Negative infinity\n",
    "\n",
    "        # Handle missing values in 'close' column (assuming numerical data)\n",
    "        filtered_data = data[data['year'] < current_year]\n",
    "        if filtered_data.empty:  # No previous data for this year\n",
    "            continue  # Skip to next iteration\n",
    "\n",
    "        # Ensure numerical comparison by converting 'close' to numeric (assuming numerical data)\n",
    "        max_prev_price = filtered_data['close'].astype(float).max()  # Convert to float before max\n",
    "\n",
    "        # Update max_price with previous years' prices (excluding current year)\n",
    "        max_prices[current_year] = max(max_prices[current_year], max_prev_price)\n",
    "\n",
    "    # Add \"max_prev_years\" column for the current ticker's data\n",
    "    data['max_prev_years'] = data['year'].apply(lambda x: max_prices.get(x) if x in max_prices else pd.NA)  # Use 'year' for comparison\n",
    "\n",
    "    # Update the main DataFrame with the calculated values for this ticker\n",
    "    df.loc[data.index, 'max_prev_years'] = data['max_prev_years']\n"
   ]
  },
  {
   "cell_type": "code",
   "execution_count": null,
   "id": "9215c1ec",
   "metadata": {},
   "outputs": [],
   "source": [
    "# Assuming you have a DataFrame called df\n",
    "\n",
    "# Convert the 'time' column to datetime\n",
    "df['time'] = pd.to_datetime(df['time'])\n",
    "\n",
    "# Sort the DataFrame by 'time' column\n",
    "df.sort_values(by='time', inplace=True)\n",
    "\n",
    "# Calculate the cumulative maximum of the 'close' column up to each row\n",
    "df['max_price_ever'] = df.groupby('ticker')['close'].expanding().max().reset_index(level=0, drop=True)\n",
    "\n",
    "# Shift the values to exclude the current row's price\n",
    "df['max_price_ever'] = df.groupby('ticker')['max_price_ever'].shift()"
   ]
  },
  {
   "cell_type": "code",
   "execution_count": null,
   "id": "9db6771b",
   "metadata": {},
   "outputs": [],
   "source": [
    "# Assuming df is your DataFrame with columns: time, open, high, low, close, volume, ticker, yearmonth\n",
    "\n",
    "# Convert 'time' column to datetime format\n",
    "df['time'] = pd.to_datetime(df['time'])\n",
    "\n",
    "# Sort DataFrame by 'time' column\n",
    "df.sort_values(by='time', inplace=True)\n",
    "\n",
    "# Define a function to calculate average, minimum, and maximum of the last 12 months\n",
    "def calculate_stats(row):\n",
    "    # Filter the DataFrame for the last 12 months before the current time\n",
    "    last_12_months = df[(df['ticker'] == row['ticker']) & (df['time'] < row['time']) & (df['time'] >= row['time'] - pd.DateOffset(months=12))]\n",
    "    # Calculate average, minimum, and maximum of the 'close' column for the filtered data\n",
    "    avg = last_12_months['close'].mean()\n",
    "    min_value = last_12_months['close'].min()\n",
    "    max_value = last_12_months['close'].max()\n",
    "    return pd.Series({'Avg12M': avg, 'Min12M': min_value, 'Max12M': max_value})\n",
    "\n",
    "# Apply the function to each row of the DataFrame and assign the result to new columns\n",
    "df[['Avg12M', 'Min12M', 'Max12M']] = df.apply(calculate_stats, axis=1)"
   ]
  },
  {
   "cell_type": "code",
   "execution_count": null,
   "id": "69566cdb",
   "metadata": {},
   "outputs": [],
   "source": [
    "csv_file_path = 'C:/Users/atlas/OneDrive/Desktop/vnstock/price.csv'\n",
    "df.to_csv(csv_file_path, index=False)\n",
    "\n",
    "# Open the CSV file\n",
    "os.startfile(csv_file_path)\n"
   ]
  },
  {
   "cell_type": "markdown",
   "id": "78c69add",
   "metadata": {},
   "source": [
    "# Get financial  Ratio"
   ]
  },
  {
   "cell_type": "code",
   "execution_count": null,
   "id": "8a4a587c",
   "metadata": {},
   "outputs": [],
   "source": [
    "import pandas as pd\n",
    "\n",
    "def error_detective(symbols):\n",
    "    dfs = []\n",
    "    problematic_symbols = []\n",
    "    \n",
    "    for symbol in symbols:\n",
    "        try:\n",
    "            df = financial_ratio(symbol=symbol, report_range='quarterly', is_all=True)\n",
    "            df = df.transpose().reset_index()\n",
    "            df = df[['range', 'ticker', 'priceToEarning','earningPerShare','roa']]\n",
    "            dfs.append(df)\n",
    "        except KeyError:\n",
    "            print(f\"Error occurred for symbol: {symbol}\")\n",
    "            problematic_symbols.append(symbol)\n",
    "    \n",
    "    if problematic_symbols:\n",
    "        print(\"Error detective found issues with the following symbols:\")\n",
    "        print(problematic_symbols)\n",
    "    \n",
    "    df_append = pd.concat(dfs, ignore_index=True)\n",
    "    return df_append\n",
    "\n",
    "# Assuming 'financial_ratio' function and 'list' are defined elsewhere\n",
    "\n",
    "# Example usage:\n",
    "symbols = list['ticker'].tolist()  # Assuming 'list' is a DataFrame with a column named 'ticker'\n",
    "df = error_detective(symbols)\n",
    "print(df)"
   ]
  },
  {
   "cell_type": "code",
   "execution_count": null,
   "id": "24316ad5",
   "metadata": {},
   "outputs": [],
   "source": [
    "csv_file_path = 'C:/Users/atlas/OneDrive/Desktop/vnstock/ratio.csv'\n",
    "df.to_csv(csv_file_path, index=False)\n",
    "\n",
    "# Open the CSV file\n",
    "os.startfile(csv_file_path)"
   ]
  }
 ],
 "metadata": {
  "kernelspec": {
   "display_name": "Python 3 (ipykernel)",
   "language": "python",
   "name": "python3"
  },
  "language_info": {
   "codemirror_mode": {
    "name": "ipython",
    "version": 3
   },
   "file_extension": ".py",
   "mimetype": "text/x-python",
   "name": "python",
   "nbconvert_exporter": "python",
   "pygments_lexer": "ipython3",
   "version": "3.11.7"
  }
 },
 "nbformat": 4,
 "nbformat_minor": 5
}
