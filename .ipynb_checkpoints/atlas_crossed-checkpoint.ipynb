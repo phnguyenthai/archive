{
 "cells": [
  {
   "cell_type": "code",
   "execution_count": 631,
   "id": "f1d19cb5-62bb-4e03-b9ed-e16d29e8d7d2",
   "metadata": {},
   "outputs": [],
   "source": [
    "import pandas as pd\n",
    "import numpy as np\n",
    "from vnstock import *\n",
    "from datetime import datetime, timedelta\n",
    "from dateutil.parser import parse\n",
    "from dateutil.relativedelta import relativedelta"
   ]
  },
  {
   "cell_type": "code",
   "execution_count": 632,
   "id": "54494d45-e95c-45e0-8e36-e8c1e0010494",
   "metadata": {},
   "outputs": [],
   "source": [
    "path = 'C:/Users/atlas/OneDrive/Desktop/vnstock'"
   ]
  },
  {
   "cell_type": "code",
   "execution_count": 633,
   "id": "446ed66a-9a81-4fe9-aab0-921169410dba",
   "metadata": {},
   "outputs": [],
   "source": [
    "#daily_price = pd.read_csv(path + '/daily_price.csv')\n",
    "yearly_price = pd.read_csv(path + '/yearly_price.csv')\n",
    "df = pd.read_csv(path + '/df10.csv')"
   ]
  },
  {
   "cell_type": "code",
   "execution_count": null,
   "id": "6f4cdb25-f9a2-4464-95bc-f094974f600e",
   "metadata": {},
   "outputs": [],
   "source": [
    "# Initialize an empty list to store the results\n",
    "top_tickers_df_append = []\n",
    "\n",
    "# Finding the top ticker for each time point\n",
    "for x in range(1, 32):  # Loop from 1 to 3 as per your requirement\n",
    "    top_tickers_df = pd.DataFrame(columns=['time', 'Ranking', 'Top Ticker', 'x'])\n",
    "\n",
    "    for col in range(1, x):\n",
    "        max_ticker_idx = df.groupby('time')[str(col)].idxmax()\n",
    "        max_ticker = df.loc[max_ticker_idx]\n",
    "        max_ticker['Ranking'] = f'ranking{col}'  # Adjust ranking label based on column\n",
    "        max_ticker.rename(columns={'Ticker': 'Top Ticker', 'time': 'time'}, inplace=True)\n",
    "        max_ticker['x'] = col  # Assign the value of x dynamically\n",
    "        top_tickers_df = pd.concat([top_tickers_df, max_ticker[['time', 'Ranking', 'Top Ticker', 'x']]], ignore_index=True)\n",
    "\n",
    "    # Convert 'time' column in top_tickers_df to datetime64[ns]\n",
    "    top_tickers_df['time'] = pd.to_datetime(top_tickers_df['time'])\n",
    "\n",
    "    # Create the new column \"x_final\" to get the max value of \"x\"\n",
    "    top_tickers_df['x_final'] = top_tickers_df['x'].max()\n",
    "\n",
    "    # Append the DataFrame to the list\n",
    "    top_tickers_df_append.append(top_tickers_df)\n",
    "\n",
    "# Concatenate all DataFrames in the list\n",
    "top_tickers = pd.concat(top_tickers_df_append, ignore_index=True)"
   ]
  },
  {
   "cell_type": "code",
   "execution_count": null,
   "id": "78a51dc0-797a-41b4-a909-51990190bfe9",
   "metadata": {},
   "outputs": [],
   "source": [
    "yearly_price['time'] = pd.to_datetime(yearly_price['time'])\n",
    "top_tickers = pd.merge(top_tickers, yearly_price[['time','ticker','next date']], left_on=['time', 'Top Ticker'], right_on=['time', 'ticker'], how='left')\n",
    "top_tickers.drop(columns=['ticker'], inplace=True)\n",
    "top_tickers.rename(columns ={'next date':'buying date'}, inplace = True)\n",
    "top_tickers['buying date'] = pd.to_datetime(top_tickers['buying date'])"
   ]
  },
  {
   "cell_type": "code",
   "execution_count": null,
   "id": "886f5e1d-3d31-4fdf-b349-b0c381f47fac",
   "metadata": {},
   "outputs": [],
   "source": [
    "final = pd.merge(top_tickers, yearly_price, left_on=['buying date', 'Top Ticker'], right_on=['time', 'ticker'], how='left')\n",
    "final['year'] = final['buying date'].dt.year"
   ]
  },
  {
   "cell_type": "code",
   "execution_count": null,
   "id": "72de9311-19ba-49a2-abf3-c54e846732ca",
   "metadata": {},
   "outputs": [],
   "source": [
    "final.head()"
   ]
  },
  {
   "cell_type": "code",
   "execution_count": null,
   "id": "754095cb-5282-437b-84c1-7c315feb5471",
   "metadata": {},
   "outputs": [],
   "source": [
    "output = pd.pivot_table(data=final, values=\"return\", index=\"x_final\", columns='year', aggfunc='mean', fill_value=0)\n",
    "output.reset_index(drop=False, inplace=True)  # Reset index\n",
    "avg_annual_return = output.iloc[:, 1:-1].mean(axis=1)\n",
    "output['avg_annual_return'] = avg_annual_return\n",
    "output = output.sort_values(by='avg_annual_return', ascending=False)"
   ]
  },
  {
   "cell_type": "code",
   "execution_count": null,
   "id": "cfee91c2-a305-4caa-8573-73f3644da227",
   "metadata": {},
   "outputs": [],
   "source": [
    "#To create the maximum avg annual return:\n",
    "# Find the index of the row with maximum avg_annual_return\n",
    "max_index = output['avg_annual_return'].idxmax()\n",
    "x_final_max_return = output.loc[max_index, 'x_final']\n",
    "print(x_final_max_return)\n",
    "\n",
    "con4 = output ['x_final'] == x_final_max_return\n",
    "max_output = output[con4]\n",
    "\n",
    "#delete the last col\n",
    "max_output = max_output.iloc[:, :-1]\n",
    "\n",
    "#delete the first col\n",
    "max_output = max_output.iloc[:, 1:]\n",
    "max_output = max_output.T\n",
    "max_output.reset_index(drop=False, inplace=True)  # Reset index\n",
    "\n",
    "max_output = max_output.rename(columns={max_output.columns[1]: 'avg_return_model'})\n",
    "max_output['year'] = max_output['year'].astype(int)\n",
    "max_output.head()"
   ]
  },
  {
   "cell_type": "code",
   "execution_count": null,
   "id": "5c894720-eda3-4646-b30f-19c8658d4177",
   "metadata": {},
   "outputs": [],
   "source": [
    "import matplotlib.pyplot as plt\n",
    "\n",
    "# Remove '%' sign and convert to float\n",
    "output['avg_annual_return'] = output['avg_annual_return'].apply(lambda x: float(x.strip('%')) if isinstance(x, str) else x)\n",
    "\n",
    "# Sort DataFrame by \"x_final\"\n",
    "output_sorted = output.sort_values(by='x_final')\n",
    "\n",
    "# Plot the line chart\n",
    "plt.plot(output_sorted['x_final'], output_sorted['avg_annual_return'])\n",
    "plt.xlabel('x_final')\n",
    "plt.ylabel('Average Annual Return (%)')\n",
    "plt.title('Average Annual Return vs x_final')\n",
    "plt.grid(True)  # Add grid lines\n",
    "\n",
    "# Set x-axis ticks with steps of 1\n",
    "plt.xticks(range(int(output_sorted['x_final'].min()), int(output_sorted['x_final'].max()) + 1, 1))\n",
    "\n",
    "plt.show()\n"
   ]
  },
  {
   "cell_type": "code",
   "execution_count": null,
   "id": "6b2cf0bc-5371-48d4-9dbd-2530e0dc072d",
   "metadata": {},
   "outputs": [],
   "source": [
    "# Group the data by year and calculate the mean return for each year\n",
    "avg_return_market = yearly_price.groupby('year')['return'].mean().reset_index()\n",
    "\n",
    "# Rename the columns for clarity\n",
    "avg_return_market.columns = ['year', 'avg_return_market']\n",
    "avg_return_market.head(2)"
   ]
  },
  {
   "cell_type": "code",
   "execution_count": null,
   "id": "52566cdd-d204-4f18-82dd-10cf06188ffa",
   "metadata": {},
   "outputs": [],
   "source": [
    "return_comparison = pd.merge(max_output, avg_return_market, left_on=['year'], right_on=['year'], how='left')"
   ]
  },
  {
   "cell_type": "code",
   "execution_count": null,
   "id": "bab00c68-86c3-4caa-bd23-6873fa04ffde",
   "metadata": {},
   "outputs": [],
   "source": [
    "current_year = pd.Timestamp.now().year  # Get the current year\n",
    "\n",
    "# Create the gap_year column\n",
    "return_comparison['gap_year'] = current_year - return_comparison['year']"
   ]
  },
  {
   "cell_type": "code",
   "execution_count": null,
   "id": "ce736cc2-c0dc-49e9-af6e-23bfe429053a",
   "metadata": {},
   "outputs": [],
   "source": [
    "return_comparison.head(2)"
   ]
  },
  {
   "cell_type": "code",
   "execution_count": null,
   "id": "73a10930-479c-4073-adcc-07e94caada89",
   "metadata": {},
   "outputs": [],
   "source": [
    "import pandas as pd\n",
    "\n",
    "# Calculate cumulative sum and count of close prices for all history\n",
    "yearly_price['cumulative_sum_all'] = yearly_price.groupby('ticker')['close'].transform(lambda x: x.cumsum() - x)\n",
    "yearly_price['cumulative_count_all'] = yearly_price.groupby('ticker').cumcount()\n",
    "\n",
    "# Calculate cumulative sum and count of close prices for the last 3 years\n",
    "yearly_price['cumulative_sum_3years'] = yearly_price.groupby('ticker')['close'].transform(lambda x: x.rolling(window=4, min_periods=1).sum() - x)\n",
    "yearly_price['cumulative_count_3years'] = yearly_price.groupby('ticker')['close'].transform(lambda x: x.rolling(window=4, min_periods=1).count() - 1)\n",
    "\n",
    "# Calculate average close price for all history and last 3 years\n",
    "yearly_price['avg_price_all_history'] = yearly_price['cumulative_sum_all'] / yearly_price['cumulative_count_all']\n",
    "yearly_price['avg_price_3years'] = yearly_price['cumulative_sum_3years'] / yearly_price['cumulative_count_3years']\n",
    "\n",
    "# Drop unnecessary columns\n",
    "yearly_price.drop(columns=['cumulative_sum_all', 'cumulative_count_all', 'cumulative_sum_3years', 'cumulative_count_3years'], inplace=True)\n",
    "\n",
    "# Group by year and ticker, then take the last entry (which is the highest year) for each ticker\n",
    "new_df = yearly_price.groupby(['ticker', 'year']).last().reset_index()\n",
    "new_df.head(3)\n"
   ]
  },
  {
   "cell_type": "code",
   "execution_count": null,
   "id": "0dd4c776-8161-47f6-bfdb-b485d24ede09",
   "metadata": {},
   "outputs": [],
   "source": [
    "con5 = merged_df_final ['x_final'] == x_final_max_return\n",
    "stock_watch = merged_df_final[con5]\n",
    "stock_watch = stock_watch[['x_final','ticker','buying date','next date','close','next year price','return','year']]\n",
    "stock_watch = stock_watch.sort_values(by='buying date', ascending=False)\n",
    "stock_watch['return'] = (stock_watch['return'] * 100).map('{:.2f}%'.format)\n",
    "#stock_watch = pd.merge(stock_watch, new_df[['ticker','year','avg_price_all_history','avg_price_3years']], left_on=['year', 'ticker'], right_on=['year', 'ticker'], how='left')\n",
    "stock_watch.rename(columns={'close': 'buying price', 'next date': 'selling date', 'next year price': 'selling price'}, inplace=True)\n",
    "stock_watch[stock_watch['year'] == 2023]"
   ]
  },
  {
   "cell_type": "code",
   "execution_count": null,
   "id": "b17c0057-f7ef-451c-bab0-99f1ff7726e3",
   "metadata": {},
   "outputs": [],
   "source": [
    "\n",
    "# Create a new DataFrame with the first column unchanged and the rest converted to percentages\n",
    "output.iloc[:, 1:] = output.iloc[:, 1:].apply(lambda x: x.map(lambda val: f\"{val * 100:.1f}%\"))\n",
    "output.head()"
   ]
  },
  {
   "cell_type": "code",
   "execution_count": null,
   "id": "dc411bee-ecb6-434e-b3a1-f4aac3e3d12a",
   "metadata": {},
   "outputs": [],
   "source": [
    "stock_watch[stock_watch['year'] == 2023]"
   ]
  },
  {
   "cell_type": "code",
   "execution_count": null,
   "id": "d76e2106-1c27-435a-b6f9-fd6306486b1f",
   "metadata": {},
   "outputs": [],
   "source": [
    "# Assuming return_comparison is your DataFrame\n",
    "# Calculate the averages based on the conditions\n",
    "avg_return_model_condition = return_comparison[return_comparison['gap_year'] >= 2]['avg_return_model'].mean()\n",
    "avg_return_market_condition = return_comparison[return_comparison['gap_year'] >= 2]['avg_return_market'].mean()\n",
    "\n",
    "# Create a new DataFrame with the calculated averages\n",
    "new_df = pd.DataFrame({\n",
    "    'avg_return_model_condition': [avg_return_model_condition],\n",
    "    'avg_return_market_condition': [avg_return_market_condition]\n",
    "})\n",
    "\n",
    "new_df"
   ]
  },
  {
   "cell_type": "code",
   "execution_count": null,
   "id": "94ac0ab5-a935-4ade-aab5-5d7767fd5699",
   "metadata": {},
   "outputs": [],
   "source": [
    "import matplotlib.pyplot as plt\n",
    "\n",
    "# Calculate the averages based on the conditions\n",
    "avg_return_model_condition = return_comparison[return_comparison['gap_year'] >= 2]['avg_return_model'].mean()\n",
    "avg_return_market_condition = return_comparison[return_comparison['gap_year'] >= 2]['avg_return_market'].mean()\n",
    "\n",
    "# Create a bar chart\n",
    "labels = ['avg_return_model', 'avg_return_market']\n",
    "values = [avg_return_model_condition, avg_return_market_condition]\n",
    "\n",
    "plt.bar(labels, values, color=['blue', 'green'])\n",
    "plt.xlabel('Return Type')\n",
    "plt.ylabel('Average Return')\n",
    "plt.title('Comparison of Average Returns')\n",
    "plt.show()\n"
   ]
  },
  {
   "cell_type": "code",
   "execution_count": null,
   "id": "d1b2c314-f3b2-443c-a6ec-91313a4d28bd",
   "metadata": {},
   "outputs": [],
   "source": [
    "import matplotlib.pyplot as plt\n",
    "\n",
    "# Assuming return_comparison is your DataFrame\n",
    "\n",
    "# Sort DataFrame by year\n",
    "return_comparison_sorted = return_comparison.sort_values(by='year')\n",
    "\n",
    "# Plot the line chart\n",
    "plt.plot(return_comparison_sorted['year'], return_comparison_sorted['avg_return_model'], label='avg_return_model')\n",
    "plt.plot(return_comparison_sorted['year'], return_comparison_sorted['avg_return_market'], label='avg_return_market')\n",
    "\n",
    "# Add data points\n",
    "plt.scatter(return_comparison_sorted['year'], return_comparison_sorted['avg_return_model'], color='blue')\n",
    "plt.scatter(return_comparison_sorted['year'], return_comparison_sorted['avg_return_market'], color='green')\n",
    "\n",
    "# Add grid lines behind the chart\n",
    "plt.grid(True, zorder=0)\n",
    "\n",
    "# Add labels and title\n",
    "plt.xlabel('Year')\n",
    "plt.ylabel('Average Return')\n",
    "plt.title('Comparison of Average Returns Over the Years')\n",
    "\n",
    "# Set x-axis ticks with steps of 1 year\n",
    "plt.xticks(return_comparison_sorted['year'])\n",
    "\n",
    "# Add legend\n",
    "plt.legend()\n",
    "\n",
    "# Show plot\n",
    "plt.show()\n"
   ]
  }
 ],
 "metadata": {
  "kernelspec": {
   "display_name": "Python 3 (ipykernel)",
   "language": "python",
   "name": "python3"
  },
  "language_info": {
   "codemirror_mode": {
    "name": "ipython",
    "version": 3
   },
   "file_extension": ".py",
   "mimetype": "text/x-python",
   "name": "python",
   "nbconvert_exporter": "python",
   "pygments_lexer": "ipython3",
   "version": "3.11.7"
  }
 },
 "nbformat": 4,
 "nbformat_minor": 5
}
