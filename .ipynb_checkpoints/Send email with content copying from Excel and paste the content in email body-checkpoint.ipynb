{
 "cells": [
  {
   "cell_type": "code",
   "execution_count": 2,
   "id": "de2e4d5c",
   "metadata": {},
   "outputs": [
    {
     "name": "stdout",
     "output_type": "stream",
     "text": [
      "Email sent successfully.\n"
     ]
    }
   ],
   "source": [
    "import openpyxl\n",
    "import win32com.client as win32\n",
    "\n",
    "def read_excel_and_send_email(excel_file_path, email_address):\n",
    "    # Load the Excel workbook\n",
    "    workbook = openpyxl.load_workbook(excel_file_path)\n",
    "    sheet = workbook['Sheet1']\n",
    "\n",
    "    # Prepare the email body\n",
    "    email_body = \"Data from Excel Sheet1:\\n\\n\"\n",
    "    for row in sheet.iter_rows(min_row=2, max_col=3, values_only=True):\n",
    "        if row[0] is not None and row[0] != 0:\n",
    "            email_body += f\"{row[0]} | {row[1]} | {row[2]}\\n\"\n",
    "\n",
    "    # If no valid data found, return\n",
    "    if email_body == \"Data from Excel Sheet1:\\n\\n\":\n",
    "        print(\"No valid data found to send email.\")\n",
    "        return\n",
    "\n",
    "    # Set up the Outlook application\n",
    "    outlook = win32.Dispatch('outlook.application')\n",
    "    mail = outlook.CreateItem(0)\n",
    "    mail.To = email_address\n",
    "    mail.Subject = \"Data from Excel Sheet1\"\n",
    "    mail.Body = email_body\n",
    "\n",
    "    # Send the email\n",
    "    mail.Send()\n",
    "\n",
    "    print(\"Email sent successfully.\")\n",
    "\n",
    "# Example usage\n",
    "excel_file_path = \"C:/Users/phong/OneDrive/Desktop/auto_email/auto_email.xlsx\"\n",
    "email_address = \"phongnthai@gmail.com\"\n",
    "read_excel_and_send_email(excel_file_path, email_address)\n"
   ]
  }
 ],
 "metadata": {
  "kernelspec": {
   "display_name": "Python 3 (ipykernel)",
   "language": "python",
   "name": "python3"
  },
  "language_info": {
   "codemirror_mode": {
    "name": "ipython",
    "version": 3
   },
   "file_extension": ".py",
   "mimetype": "text/x-python",
   "name": "python",
   "nbconvert_exporter": "python",
   "pygments_lexer": "ipython3",
   "version": "3.11.5"
  }
 },
 "nbformat": 4,
 "nbformat_minor": 5
}
