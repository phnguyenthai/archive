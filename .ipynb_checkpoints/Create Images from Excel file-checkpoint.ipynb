{
 "cells": [
  {
   "cell_type": "code",
   "execution_count": 9,
   "id": "db0c8cf1",
   "metadata": {},
   "outputs": [
    {
     "name": "stdout",
     "output_type": "stream",
     "text": [
      "Requirement already satisfied: xlwings in c:\\users\\phong\\anaconda3\\lib\\site-packages (0.29.1)\n",
      "Requirement already satisfied: pillow in c:\\users\\phong\\anaconda3\\lib\\site-packages (9.4.0)\n",
      "Requirement already satisfied: pywin32 in c:\\users\\phong\\anaconda3\\lib\\site-packages (305.1)\n"
     ]
    }
   ],
   "source": [
    "#!pip install xlwings pillow pywin32"
   ]
  },
  {
   "cell_type": "code",
   "execution_count": 11,
   "id": "a456fc6f",
   "metadata": {},
   "outputs": [],
   "source": [
    "import xlwings as xw\n",
    "from PIL import ImageGrab\n",
    "import os\n",
    "\n",
    "# Define the file path\n",
    "file_path = 'C:/Users/phong/OneDrive/Desktop/auto_email/auto_email.xlsx'\n",
    "output_image_path = 'C:/Users/phong/OneDrive/Desktop/auto_email/copied_image.bmp'\n",
    "\n",
    "# Open the workbook and select the sheet\n",
    "app = xw.App(visible=False)\n",
    "wb = xw.Book(file_path)\n",
    "sheet = wb.sheets['Sheet1']\n",
    "\n",
    "# Select the range and copy it as a picture\n",
    "range_to_copy = sheet.range('A1:C10')\n",
    "range_to_copy.api.CopyPicture(Format=2)  # Format=2 corresponds to Bitmap\n",
    "\n",
    "# Get the picture from the clipboard and save it\n",
    "img = ImageGrab.grabclipboard()\n",
    "if img:\n",
    "    img.save(output_image_path, 'BMP')\n",
    "else:\n",
    "    print(\"No image found in clipboard\")\n",
    "\n",
    "# Clean up\n",
    "wb.close()\n",
    "app.quit()\n"
   ]
  },
  {
   "cell_type": "code",
   "execution_count": 14,
   "id": "170d30ee",
   "metadata": {},
   "outputs": [
    {
     "name": "stdout",
     "output_type": "stream",
     "text": [
      "Image saved at C:/Users/phong/OneDrive/Desktop/auto_email/copied_image.bmp\n"
     ]
    }
   ],
   "source": [
    "##looping to find the condition.\n",
    "\n",
    "import xlwings as xw\n",
    "from PIL import ImageGrab\n",
    "import os\n",
    "\n",
    "# Define the file path\n",
    "file_path = 'C:/Users/phong/OneDrive/Desktop/auto_email/auto_email.xlsx'\n",
    "output_image_path = 'C:/Users/phong/OneDrive/Desktop/auto_email/copied_image.bmp'\n",
    "\n",
    "# Open the workbook and select the sheet\n",
    "app = xw.App(visible=False)\n",
    "wb = xw.Book(file_path)\n",
    "sheet = wb.sheets['Sheet1']\n",
    "\n",
    "# Determine the dynamic range based on the condition\n",
    "last_row = 1\n",
    "for row in range(1, 101):\n",
    "    cell_value = sheet.range(f'A{row}').value\n",
    "    if cell_value is not None and cell_value != 0:\n",
    "        last_row = row\n",
    "\n",
    "range_to_copy = sheet.range(f'A1:C{last_row}')\n",
    "range_to_copy.api.CopyPicture(Format=2)  # Format=2 corresponds to Bitmap\n",
    "\n",
    "# Get the picture from the clipboard and save it\n",
    "img = ImageGrab.grabclipboard()\n",
    "if img:\n",
    "    img.save(output_image_path, 'BMP')\n",
    "    print(f\"Image saved at {output_image_path}\")\n",
    "else:\n",
    "    print(\"No image found in clipboard\")\n",
    "\n",
    "# Clean up\n",
    "wb.close()\n",
    "app.quit()\n"
   ]
  },
  {
   "cell_type": "code",
   "execution_count": 13,
   "id": "071ee930",
   "metadata": {},
   "outputs": [
    {
     "name": "stdout",
     "output_type": "stream",
     "text": [
      "Email sent successfully with BMP attachments.\n"
     ]
    }
   ],
   "source": [
    "import os\n",
    "import win32com.client as win32\n",
    "\n",
    "# Define the folder path\n",
    "folder_path = 'C:/Users/phong/OneDrive/Desktop/auto_email'\n",
    "\n",
    "# Get all BMP files in the folder\n",
    "bmp_files = [f for f in os.listdir(folder_path) if f.endswith('.bmp')]\n",
    "\n",
    "# Create an Outlook application instance\n",
    "outlook = win32.Dispatch('outlook.application')\n",
    "\n",
    "# Create a new mail item\n",
    "mail = outlook.CreateItem(0)\n",
    "\n",
    "# Define the recipient, subject, and body of the email\n",
    "mail.To = 'phongnthai@gmail.com'\n",
    "mail.Subject = 'Auto Email with BMP Attachments'\n",
    "mail.Body = 'Please find the attached BMP images.'\n",
    "\n",
    "# Attach all BMP files to the email\n",
    "for bmp_file in bmp_files:\n",
    "    attachment_path = os.path.join(folder_path, bmp_file)\n",
    "    mail.Attachments.Add(attachment_path)\n",
    "\n",
    "# Send the email\n",
    "mail.Send()\n",
    "\n",
    "print(\"Email sent successfully with BMP attachments.\")\n"
   ]
  },
  {
   "cell_type": "code",
   "execution_count": 15,
   "id": "1a61552f",
   "metadata": {},
   "outputs": [],
   "source": [
    "import xlwings as xw\n",
    "\n",
    "# Define the file path\n",
    "file_path = 'C:/Users/phong/OneDrive/Desktop/auto_email/auto_email.xlsx'\n",
    "\n",
    "# Open the workbook and bring it to the foreground\n",
    "app = xw.App(visible=True)\n",
    "wb = xw.Book(file_path)\n",
    "\n",
    "# Bring the workbook to the foreground\n",
    "app.activate(steal_focus=True)\n",
    "\n",
    "# Refresh all data connections in the workbook\n",
    "wb.api.RefreshAll()\n",
    "\n",
    "# Optional: Save and close the workbook\n",
    "# wb.save()\n",
    "# wb.close()\n",
    "# app.quit()\n"
   ]
  },
  {
   "cell_type": "code",
   "execution_count": 8,
   "id": "bb5d29bb",
   "metadata": {},
   "outputs": [
    {
     "name": "stdout",
     "output_type": "stream",
     "text": [
      "Email sent successfully with BMP embedded images.\n"
     ]
    }
   ],
   "source": [
    "### paste the content into the email body.\n",
    "\n",
    "import os\n",
    "import win32com.client as win32\n",
    "\n",
    "# Define the folder path\n",
    "folder_path = 'C:/Users/phong/OneDrive/Desktop/auto_email'\n",
    "\n",
    "# Get all BMP files in the folder\n",
    "bmp_files = [f for f in os.listdir(folder_path) if f.endswith('.bmp')]\n",
    "\n",
    "# Create an Outlook application instance\n",
    "outlook = win32.Dispatch('outlook.application')\n",
    "\n",
    "# Create a new mail item\n",
    "mail = outlook.CreateItem(0)\n",
    "\n",
    "# Define the recipient, subject, and body of the email\n",
    "mail.To = 'phongnthai@gmail.com'\n",
    "mail.Subject = 'Auto Email with BMP Embedded Images'\n",
    "mail.BodyFormat = 2  # Set the body format to HTML\n",
    "\n",
    "# Construct the email body with HTML\n",
    "body_html = '<html><body>'\n",
    "for idx, bmp_file in enumerate(bmp_files):\n",
    "    attachment_path = os.path.join(folder_path, bmp_file)\n",
    "    # Attach the image and get the Content ID (CID)\n",
    "    attachment = mail.Attachments.Add(attachment_path)\n",
    "    cid = f'image{idx + 1}'\n",
    "    attachment.PropertyAccessor.SetProperty(\"http://schemas.microsoft.com/mapi/proptag/0x3712001E\", cid)\n",
    "    # Embed the image using CID\n",
    "    body_html += f'<p><img src=\"cid:{cid}\" alt=\"{bmp_file}\"></p>'\n",
    "body_html += '</body></html>'\n",
    "\n",
    "# Set the HTMLBody property of the mail item\n",
    "mail.HTMLBody = body_html\n",
    "\n",
    "# Send the email\n",
    "mail.Send()\n",
    "\n",
    "print(\"Email sent successfully with BMP embedded images.\")\n"
   ]
  },
  {
   "cell_type": "code",
   "execution_count": 12,
   "id": "65c25217",
   "metadata": {},
   "outputs": [
    {
     "name": "stdout",
     "output_type": "stream",
     "text": [
      "Email sent successfully!\n"
     ]
    }
   ],
   "source": [
    "import pandas as pd\n",
    "import win32com.client as win32\n",
    "\n",
    "# Load the Excel file\n",
    "file_path = 'C:/Users/phong/OneDrive/Desktop/auto_email/auto_email.xlsx'\n",
    "df = pd.read_excel(file_path, sheet_name='Sheet1', usecols=[0, 1, 2], nrows=50)\n",
    "\n",
    "# Filter out rows where the first column (index 0) is null or 0\n",
    "filtered_df = df[(df.iloc[:, 0].notnull()) & (df.iloc[:, 0] != 0)]\n",
    "\n",
    "# Convert the filtered DataFrame to an HTML table\n",
    "html_table = filtered_df.to_html(index=False)\n",
    "\n",
    "# Create the email\n",
    "outlook = win32.Dispatch('outlook.application')\n",
    "mail = outlook.CreateItem(0)\n",
    "mail.To = 'phongnthai@gmail.com'\n",
    "mail.Subject = 'Filtered Data from Excel'\n",
    "mail.HTMLBody = f'<html><body>{html_table}</body></html>'\n",
    "\n",
    "# Send the email\n",
    "mail.Send()\n",
    "\n",
    "print(\"Email sent successfully!\")\n"
   ]
  }
 ],
 "metadata": {
  "kernelspec": {
   "display_name": "Python 3 (ipykernel)",
   "language": "python",
   "name": "python3"
  },
  "language_info": {
   "codemirror_mode": {
    "name": "ipython",
    "version": 3
   },
   "file_extension": ".py",
   "mimetype": "text/x-python",
   "name": "python",
   "nbconvert_exporter": "python",
   "pygments_lexer": "ipython3",
   "version": "3.11.5"
  }
 },
 "nbformat": 4,
 "nbformat_minor": 5
}
