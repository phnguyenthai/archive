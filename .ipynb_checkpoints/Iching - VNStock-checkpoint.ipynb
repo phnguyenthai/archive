{
 "cells": [
  {
   "cell_type": "code",
   "execution_count": null,
   "id": "d9c858fe",
   "metadata": {},
   "outputs": [],
   "source": [
    "import numpy as mp\n",
    "import pandas as pd\n",
    "import scipy\n",
    "import requests\n",
    "import os\n",
    "import requests\n",
    "from pandas import read_html"
   ]
  },
  {
   "cell_type": "code",
   "execution_count": null,
   "id": "4f4c8595",
   "metadata": {},
   "outputs": [],
   "source": [
    "csv_file_path = 'C:/Users/phong/OneDrive/Desktop/vnstock/price.csv'\n",
    "df = pd.read_csv(csv_file_path)\n",
    "\n",
    "\n",
    "df = df.sort_values(by=['ticker', 'time'])\n",
    "\n",
    "# Group by ticker and calculate the change\n",
    "df['change'] = df.groupby('ticker')['close'].transform(lambda x: (x > x.shift(1)).astype(int))\n",
    "df['change'] = df['change'].apply(lambda x: 'A' if x == 1 else 'B')\n",
    "df.head()"
   ]
  },
  {
   "cell_type": "code",
   "execution_count": null,
   "id": "96603a42",
   "metadata": {},
   "outputs": [],
   "source": [
    "import pandas as pd\n",
    "\n",
    "# Assuming df is your DataFrame\n",
    "# Convert 'time' column to datetime if it's not already\n",
    "df['time'] = pd.to_datetime(df['time'])\n",
    "\n",
    "# Sort DataFrame by 'time'\n",
    "df = df.sort_values(by='time')\n",
    "\n",
    "# Group by 'ticker' and shift 'change' column to create columns for previous months\n",
    "df['d-1'] = df.groupby('ticker')['change'].shift(1)\n",
    "df['d-2'] = df.groupby('ticker')['change'].shift(2)\n",
    "df['d-3'] = df.groupby('ticker')['change'].shift(3)\n",
    "df['d-4'] = df.groupby('ticker')['change'].shift(4)\n",
    "df['d-5'] = df.groupby('ticker')['change'].shift(5)\n",
    "df['d-6'] = df.groupby('ticker')['change'].shift(6)\n"
   ]
  },
  {
   "cell_type": "code",
   "execution_count": null,
   "id": "3ef0be35",
   "metadata": {},
   "outputs": [],
   "source": [
    "# Concatenate values from 'd-6' to 'd-1' along rows after filtering out 0 and \".\" and create a new column 'hexagram'\n",
    "df['hexagram'] = df[['d-6', 'd-5', 'd-4', 'd-3', 'd-2', 'd-1']].replace({0:'', '.':''}).astype(str).agg(''.join, axis=1)\n"
   ]
  },
  {
   "cell_type": "code",
   "execution_count": null,
   "id": "66735c5c",
   "metadata": {},
   "outputs": [],
   "source": [
    "df['flag'] = df['hexagram'].apply(lambda x: 0 if 'nan' in x else 1)"
   ]
  },
  {
   "cell_type": "code",
   "execution_count": null,
   "id": "eca42435",
   "metadata": {},
   "outputs": [],
   "source": [
    "csv_file_path = 'C:/Users/phong/OneDrive/Desktop/vnstock/test1.csv'\n",
    "df.to_csv(csv_file_path, index=False)\n",
    "\n",
    "# Open the CSV file\n",
    "os.startfile(csv_file_path)"
   ]
  }
 ],
 "metadata": {
  "kernelspec": {
   "display_name": "Python 3 (ipykernel)",
   "language": "python",
   "name": "python3"
  },
  "language_info": {
   "codemirror_mode": {
    "name": "ipython",
    "version": 3
   },
   "file_extension": ".py",
   "mimetype": "text/x-python",
   "name": "python",
   "nbconvert_exporter": "python",
   "pygments_lexer": "ipython3",
   "version": "3.11.5"
  }
 },
 "nbformat": 4,
 "nbformat_minor": 5
}
