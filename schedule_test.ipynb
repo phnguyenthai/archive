{
 "cells": [
  {
   "cell_type": "code",
   "execution_count": 2,
   "id": "745adbf9",
   "metadata": {},
   "outputs": [
    {
     "name": "stdout",
     "output_type": "stream",
     "text": [
      "Email sent successfully!\n"
     ]
    }
   ],
   "source": [
    "import pandas as pd\n",
    "import win32com.client as win32\n",
    "\n",
    "# Load the Excel file\n",
    "file_path = 'C:/Users/phong/OneDrive/Desktop/auto_email/auto_email.xlsx'\n",
    "df = pd.read_excel(file_path, sheet_name='Sheet1', usecols=[0, 1, 2], nrows=50)\n",
    "\n",
    "# Filter out rows where the first column (index 0) is null or 0\n",
    "filtered_df = df[(df.iloc[:, 0].notnull()) & (df.iloc[:, 0] != 0)]\n",
    "\n",
    "# Convert the filtered DataFrame to an HTML table\n",
    "html_table = filtered_df.to_html(index=False)\n",
    "\n",
    "# Create the email\n",
    "outlook = win32.Dispatch('outlook.application')\n",
    "mail = outlook.CreateItem(0)\n",
    "mail.To = 'phongnthai@gmail.com'\n",
    "mail.Subject = 'Filtered Data from Excel'\n",
    "mail.HTMLBody = f'<html><body>{html_table}</body></html>'\n",
    "\n",
    "# Send the email\n",
    "mail.Send()\n",
    "\n",
    "print(\"Email sent successfully!\")\n"
   ]
  },
  {
   "cell_type": "code",
   "execution_count": 3,
   "id": "28fcd906",
   "metadata": {},
   "outputs": [],
   "source": [
    "import nbformat\n",
    "from nbconvert import PythonExporter\n",
    "\n",
    "def convert_notebook_to_script(notebook_path, output_path):\n",
    "    \"\"\"\n",
    "    Convert a Jupyter Notebook (.ipynb) file to a Python script (.py).\n",
    "\n",
    "    Parameters:\n",
    "        notebook_path (str): Path to the Jupyter Notebook file.\n",
    "        output_path (str): Path to save the generated Python script.\n",
    "\n",
    "    Returns:\n",
    "        None\n",
    "    \"\"\"\n",
    "    with open(notebook_path, 'r', encoding='utf-8') as f:\n",
    "        nb = nbformat.read(f, as_version=4)\n",
    "\n",
    "    exporter = PythonExporter()\n",
    "    python_script, _ = exporter.from_notebook_node(nb)\n",
    "\n",
    "    with open(output_path, 'w', encoding='utf-8') as f:\n",
    "        f.write(python_script)\n",
    "\n",
    "# Example usage:\n",
    "notebook_path = 'C:/Users/phong/OneDrive/Desktop/GitHub/archive/schedule_test.ipynb'\n",
    "output_path = 'schedule_test.py'\n",
    "convert_notebook_to_script(notebook_path, output_path)\n"
   ]
  }
 ],
 "metadata": {
  "kernelspec": {
   "display_name": "Python 3 (ipykernel)",
   "language": "python",
   "name": "python3"
  },
  "language_info": {
   "codemirror_mode": {
    "name": "ipython",
    "version": 3
   },
   "file_extension": ".py",
   "mimetype": "text/x-python",
   "name": "python",
   "nbconvert_exporter": "python",
   "pygments_lexer": "ipython3",
   "version": "3.11.5"
  }
 },
 "nbformat": 4,
 "nbformat_minor": 5
}
