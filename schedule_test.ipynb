{
 "cells": [
  {
   "cell_type": "code",
   "execution_count": 4,
   "id": "de47cbe8",
   "metadata": {},
   "outputs": [
    {
     "name": "stdout",
     "output_type": "stream",
     "text": [
      "Email sent successfully!\n"
     ]
    }
   ],
   "source": [
    "import pandas as pd\n",
    "import win32com.client as win32\n",
    "\n",
    "# Load the Excel file\n",
    "file_path = 'C:/Users/phong/OneDrive/Desktop/auto_email/auto_email.xlsx'\n",
    "df = pd.read_excel(file_path, sheet_name='Sheet1', usecols=[0, 1, 2], nrows=50)\n",
    "\n",
    "# Filter out rows where the first column (index 0) is null or 0\n",
    "filtered_df = df[(df.iloc[:, 0].notnull()) & (df.iloc[:, 0] != 0)]\n",
    "\n",
    "# Convert the filtered DataFrame to an HTML table\n",
    "html_table = filtered_df.to_html(index=False)\n",
    "\n",
    "# Create the email\n",
    "outlook = win32.Dispatch('outlook.application')\n",
    "mail = outlook.CreateItem(0)\n",
    "mail.To = 'phongnthai@gmail.com'\n",
    "mail.Subject = 'Filtered Data from Excel'\n",
    "mail.HTMLBody = f'<html><body>{html_table}</body></html>'\n",
    "\n",
    "# Send the email\n",
    "mail.Send()\n",
    "\n",
    "print(\"Email sent successfully!\")\n"
   ]
  }
 ],
 "metadata": {
  "kernelspec": {
   "display_name": "Python 3 (ipykernel)",
   "language": "python",
   "name": "python3"
  },
  "language_info": {
   "codemirror_mode": {
    "name": "ipython",
    "version": 3
   },
   "file_extension": ".py",
   "mimetype": "text/x-python",
   "name": "python",
   "nbconvert_exporter": "python",
   "pygments_lexer": "ipython3",
   "version": "3.11.5"
  }
 },
 "nbformat": 4,
 "nbformat_minor": 5
}
