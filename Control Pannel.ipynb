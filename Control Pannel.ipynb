{
 "cells": [
  {
   "cell_type": "code",
   "execution_count": 6,
   "id": "7320c3da",
   "metadata": {},
   "outputs": [
    {
     "name": "stdout",
     "output_type": "stream",
     "text": [
      "Email sent successfully!\n"
     ]
    }
   ],
   "source": [
    "%run C:\\Users\\phong\\OneDrive\\Desktop\\GitHub\\archive\\schedule_test.py"
   ]
  },
  {
   "cell_type": "code",
   "execution_count": 4,
   "id": "e7e89885",
   "metadata": {},
   "outputs": [],
   "source": [
    "import nbformat\n",
    "from nbconvert import PythonExporter\n",
    "\n",
    "def convert_notebook_to_script(notebook_path, output_path):\n",
    "    \"\"\"\n",
    "    Convert a Jupyter Notebook (.ipynb) file to a Python script (.py).\n",
    "\n",
    "    Parameters:\n",
    "        notebook_path (str): Path to the Jupyter Notebook file.\n",
    "        output_path (str): Path to save the generated Python script.\n",
    "\n",
    "    Returns:\n",
    "        None\n",
    "    \"\"\"\n",
    "    with open(notebook_path, 'r', encoding='utf-8') as f:\n",
    "        nb = nbformat.read(f, as_version=4)\n",
    "\n",
    "    exporter = PythonExporter()\n",
    "    python_script, _ = exporter.from_notebook_node(nb)\n",
    "\n",
    "    with open(output_path, 'w', encoding='utf-8') as f:\n",
    "        f.write(python_script)\n",
    "\n",
    "# Example usage:\n",
    "notebook_path = 'C:/Users/phong/OneDrive/Desktop/GitHub/archive/schedule_test.ipynb'\n",
    "output_path = 'schedule_test.py'\n",
    "convert_notebook_to_script(notebook_path, output_path)\n"
   ]
  }
 ],
 "metadata": {
  "kernelspec": {
   "display_name": "Python 3 (ipykernel)",
   "language": "python",
   "name": "python3"
  },
  "language_info": {
   "codemirror_mode": {
    "name": "ipython",
    "version": 3
   },
   "file_extension": ".py",
   "mimetype": "text/x-python",
   "name": "python",
   "nbconvert_exporter": "python",
   "pygments_lexer": "ipython3",
   "version": "3.11.5"
  }
 },
 "nbformat": 4,
 "nbformat_minor": 5
}
