{
 "cells": [
  {
   "cell_type": "code",
   "execution_count": 4,
   "id": "0fd57616",
   "metadata": {},
   "outputs": [],
   "source": [
    "\n",
    "#%run C:/Users/phong/OneDrive/Desktop/program2/AACI.py\n",
    "import pandas as pd\n",
    "import subprocess\n",
    "import time"
   ]
  },
  {
   "cell_type": "code",
   "execution_count": 5,
   "id": "58cfd117",
   "metadata": {},
   "outputs": [],
   "source": [
    "\n",
    "\n",
    "csv_file_path = 'C:/Users/phong/OneDrive/Desktop/usstock/nasdaq_screener2.csv'\n",
    "df = pd.read_csv(csv_file_path)\n",
    "#con1 = df['type'] == 'J'\n",
    "#df = df[con1]\n",
    "\n",
    "con1 = (df['type'] >= 'A') & (df['type'] <= 'Z')\n",
    "df = df[con1]\n"
   ]
  },
  {
   "cell_type": "code",
   "execution_count": null,
   "id": "d08156ab",
   "metadata": {},
   "outputs": [
    {
     "name": "stdout",
     "output_type": "stream",
     "text": [
      "Script executed successfully: C:/Users/phong/OneDrive/Desktop/program2/A.py\n",
      "Output: \n",
      "Script executed successfully: C:/Users/phong/OneDrive/Desktop/program2/AA.py\n",
      "Output: \n",
      "Script executed successfully: C:/Users/phong/OneDrive/Desktop/program2/AACG.py\n",
      "Output: \n",
      "Script executed successfully: C:/Users/phong/OneDrive/Desktop/program2/AACI.py\n",
      "Output: \n",
      "Script executed successfully: C:/Users/phong/OneDrive/Desktop/program2/AACIU.py\n",
      "Output: \n",
      "Script executed successfully: C:/Users/phong/OneDrive/Desktop/program2/AACIW.py\n",
      "Output: \n",
      "Script executed successfully: C:/Users/phong/OneDrive/Desktop/program2/AACT.py\n",
      "Output: \n",
      "Script executed successfully: C:/Users/phong/OneDrive/Desktop/program2/AADI.py\n",
      "Output: \n",
      "Script executed successfully: C:/Users/phong/OneDrive/Desktop/program2/AAGR.py\n",
      "Output: \n",
      "Script executed successfully: C:/Users/phong/OneDrive/Desktop/program2/AAGRW.py\n",
      "Output: \n"
     ]
    }
   ],
   "source": [
    "\n",
    "\n",
    "# Define a function to execute each row's code\n",
    "def execute_code(code):\n",
    "    # Extract the file path from the %run command\n",
    "    file_path = code.split()[-1]\n",
    "    # Execute the script using subprocess\n",
    "    process = subprocess.Popen(['python', file_path], stdout=subprocess.PIPE, stderr=subprocess.PIPE)\n",
    "    stdout, stderr = process.communicate()\n",
    "    # Check if the process ran successfully\n",
    "    if process.returncode == 0:\n",
    "        print(\"Script executed successfully:\", file_path)\n",
    "        print(\"Output:\", stdout.decode())\n",
    "    else:\n",
    "        print(\"Error executing script:\", file_path)\n",
    "        print(\"Error message:\", stderr.decode())\n",
    "\n",
    "# Iterate through each row and execute the code with a delay\n",
    "for index, row in df.iterrows():\n",
    "    execute_code(row['create'])\n",
    "    time.sleep(30)  # Introduce a 5-second delay between each execution\n"
   ]
  }
 ],
 "metadata": {
  "kernelspec": {
   "display_name": "Python 3 (ipykernel)",
   "language": "python",
   "name": "python3"
  },
  "language_info": {
   "codemirror_mode": {
    "name": "ipython",
    "version": 3
   },
   "file_extension": ".py",
   "mimetype": "text/x-python",
   "name": "python",
   "nbconvert_exporter": "python",
   "pygments_lexer": "ipython3",
   "version": "3.11.5"
  }
 },
 "nbformat": 4,
 "nbformat_minor": 5
}
