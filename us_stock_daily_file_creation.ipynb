{
 "cells": [
  {
   "cell_type": "code",
   "execution_count": null,
   "id": "6954ce37-dfe7-48ad-90ee-20dc9462acb1",
   "metadata": {},
   "outputs": [],
   "source": [
    "import os\n",
    "import pandas as pd\n",
    "import yfinance as yf\n",
    "path = 'C:/Users/atlas/OneDrive/Desktop'"
   ]
  },
  {
   "cell_type": "code",
   "execution_count": 47,
   "id": "f5bf8990-f8c8-4a06-8ed8-19b628f10f3b",
   "metadata": {},
   "outputs": [],
   "source": [
    "df = pd.read_csv(path + '/nasdaq_screener.csv)\n",
    "(path + '/yearly_price.csv')"
   ]
  },
  {
   "cell_type": "code",
   "execution_count": 48,
   "id": "7086d657-bd43-4f0b-9a01-c626bec6ba87",
   "metadata": {},
   "outputs": [],
   "source": [
    "symbols = df['Symbol'].tolist()"
   ]
  },
  {
   "cell_type": "code",
   "execution_count": 49,
   "id": "ed37cb8c-67f0-44fa-9d18-cf4f9a7fe43a",
   "metadata": {},
   "outputs": [
    {
     "name": "stdout",
     "output_type": "stream",
     "text": [
      "Saved data for symbol A to C:/Users/atlas/OneDrive/Desktop/usstock/A.csv\n",
      "Saved data for symbol AA to C:/Users/atlas/OneDrive/Desktop/usstock/AA.csv\n",
      "Saved data for symbol AACG to C:/Users/atlas/OneDrive/Desktop/usstock/AACG.csv\n",
      "Saved data for symbol AACI to C:/Users/atlas/OneDrive/Desktop/usstock/AACI.csv\n"
     ]
    },
    {
     "name": "stderr",
     "output_type": "stream",
     "text": [
      "\n",
      "1 Failed download:\n",
      "['AACIW']: Exception('%ticker%: 1d data not available for startTime=-14831751840 and endTime=1713528042. Only 100 years worth of day granularity data are allowed to be fetched per request.')\n"
     ]
    },
    {
     "name": "stdout",
     "output_type": "stream",
     "text": [
      "Saved data for symbol AACIW to C:/Users/atlas/OneDrive/Desktop/usstock/AACIW.csv\n",
      "Saved data for symbol AACT to C:/Users/atlas/OneDrive/Desktop/usstock/AACT.csv\n",
      "Saved data for symbol AADI to C:/Users/atlas/OneDrive/Desktop/usstock/AADI.csv\n",
      "Saved data for symbol AAGR to C:/Users/atlas/OneDrive/Desktop/usstock/AAGR.csv\n"
     ]
    },
    {
     "name": "stderr",
     "output_type": "stream",
     "text": [
      "\n",
      "1 Failed download:\n",
      "['AAGRW']: Exception('%ticker%: 1d data not available for startTime=-14831751840 and endTime=1713528045. Only 100 years worth of day granularity data are allowed to be fetched per request.')\n"
     ]
    },
    {
     "name": "stdout",
     "output_type": "stream",
     "text": [
      "Saved data for symbol AAGRW to C:/Users/atlas/OneDrive/Desktop/usstock/AAGRW.csv\n",
      "Saved data for symbol AAL to C:/Users/atlas/OneDrive/Desktop/usstock/AAL.csv\n",
      "Saved data for symbol AAMC to C:/Users/atlas/OneDrive/Desktop/usstock/AAMC.csv\n",
      "Saved data for symbol AAME to C:/Users/atlas/OneDrive/Desktop/usstock/AAME.csv\n",
      "Saved data for symbol AAN to C:/Users/atlas/OneDrive/Desktop/usstock/AAN.csv\n",
      "Saved data for symbol AAOI to C:/Users/atlas/OneDrive/Desktop/usstock/AAOI.csv\n",
      "Saved data for symbol AAON to C:/Users/atlas/OneDrive/Desktop/usstock/AAON.csv\n",
      "Saved data for symbol AAP to C:/Users/atlas/OneDrive/Desktop/usstock/AAP.csv\n",
      "Saved data for symbol AAPL to C:/Users/atlas/OneDrive/Desktop/usstock/AAPL.csv\n",
      "Saved data for symbol AAT to C:/Users/atlas/OneDrive/Desktop/usstock/AAT.csv\n",
      "Saved data for symbol AB to C:/Users/atlas/OneDrive/Desktop/usstock/AB.csv\n",
      "Saved data for symbol ABAT to C:/Users/atlas/OneDrive/Desktop/usstock/ABAT.csv\n",
      "Saved data for symbol ABBV to C:/Users/atlas/OneDrive/Desktop/usstock/ABBV.csv\n",
      "Saved data for symbol ABCB to C:/Users/atlas/OneDrive/Desktop/usstock/ABCB.csv\n",
      "Saved data for symbol ABCL to C:/Users/atlas/OneDrive/Desktop/usstock/ABCL.csv\n",
      "Saved data for symbol ABEO to C:/Users/atlas/OneDrive/Desktop/usstock/ABEO.csv\n",
      "Saved data for symbol ABEV to C:/Users/atlas/OneDrive/Desktop/usstock/ABEV.csv\n",
      "Saved data for symbol ABG to C:/Users/atlas/OneDrive/Desktop/usstock/ABG.csv\n",
      "Saved data for symbol ABIO to C:/Users/atlas/OneDrive/Desktop/usstock/ABIO.csv\n",
      "Saved data for symbol ABL to C:/Users/atlas/OneDrive/Desktop/usstock/ABL.csv\n",
      "Saved data for symbol ABLLL to C:/Users/atlas/OneDrive/Desktop/usstock/ABLLL.csv\n"
     ]
    },
    {
     "name": "stderr",
     "output_type": "stream",
     "text": [
      "\n",
      "1 Failed download:\n",
      "['ABLLW']: Exception('%ticker%: 1d data not available for startTime=-14831751840 and endTime=1713528061. Only 100 years worth of day granularity data are allowed to be fetched per request.')\n"
     ]
    },
    {
     "name": "stdout",
     "output_type": "stream",
     "text": [
      "Saved data for symbol ABLLW to C:/Users/atlas/OneDrive/Desktop/usstock/ABLLW.csv\n",
      "Saved data for symbol ABLV to C:/Users/atlas/OneDrive/Desktop/usstock/ABLV.csv\n"
     ]
    },
    {
     "name": "stderr",
     "output_type": "stream",
     "text": [
      "\n",
      "1 Failed download:\n",
      "['ABLVW']: Exception('%ticker%: 1d data not available for startTime=-14831751840 and endTime=1713528064. Only 100 years worth of day granularity data are allowed to be fetched per request.')\n"
     ]
    },
    {
     "name": "stdout",
     "output_type": "stream",
     "text": [
      "Saved data for symbol ABLVW to C:/Users/atlas/OneDrive/Desktop/usstock/ABLVW.csv\n",
      "Saved data for symbol ABM to C:/Users/atlas/OneDrive/Desktop/usstock/ABM.csv\n",
      "Saved data for symbol ABNB to C:/Users/atlas/OneDrive/Desktop/usstock/ABNB.csv\n",
      "Saved data for symbol ABOS to C:/Users/atlas/OneDrive/Desktop/usstock/ABOS.csv\n",
      "Saved data for symbol ABR to C:/Users/atlas/OneDrive/Desktop/usstock/ABR.csv\n"
     ]
    },
    {
     "name": "stderr",
     "output_type": "stream",
     "text": [
      "\n",
      "1 Failed download:\n",
      "['ABR^D']: Exception('%ticker%: No timezone found, symbol may be delisted')\n"
     ]
    },
    {
     "name": "stdout",
     "output_type": "stream",
     "text": [
      "Saved data for symbol ABR^D to C:/Users/atlas/OneDrive/Desktop/usstock/ABR^D.csv\n"
     ]
    },
    {
     "name": "stderr",
     "output_type": "stream",
     "text": [
      "\n",
      "1 Failed download:\n",
      "['ABR^E']: Exception('%ticker%: No timezone found, symbol may be delisted')\n"
     ]
    },
    {
     "name": "stdout",
     "output_type": "stream",
     "text": [
      "Saved data for symbol ABR^E to C:/Users/atlas/OneDrive/Desktop/usstock/ABR^E.csv\n"
     ]
    },
    {
     "name": "stderr",
     "output_type": "stream",
     "text": [
      "\n",
      "1 Failed download:\n",
      "['ABR^F']: Exception('%ticker%: No timezone found, symbol may be delisted')\n"
     ]
    },
    {
     "name": "stdout",
     "output_type": "stream",
     "text": [
      "Saved data for symbol ABR^F to C:/Users/atlas/OneDrive/Desktop/usstock/ABR^F.csv\n",
      "Saved data for symbol ABSI to C:/Users/atlas/OneDrive/Desktop/usstock/ABSI.csv\n",
      "Saved data for symbol ABT to C:/Users/atlas/OneDrive/Desktop/usstock/ABT.csv\n",
      "Saved data for symbol ABTS to C:/Users/atlas/OneDrive/Desktop/usstock/ABTS.csv\n",
      "Saved data for symbol ABUS to C:/Users/atlas/OneDrive/Desktop/usstock/ABUS.csv\n",
      "Saved data for symbol ABVC to C:/Users/atlas/OneDrive/Desktop/usstock/ABVC.csv\n",
      "Saved data for symbol ABVX to C:/Users/atlas/OneDrive/Desktop/usstock/ABVX.csv\n",
      "Saved data for symbol AC to C:/Users/atlas/OneDrive/Desktop/usstock/AC.csv\n",
      "Saved data for symbol ACA to C:/Users/atlas/OneDrive/Desktop/usstock/ACA.csv\n",
      "Saved data for symbol ACAB to C:/Users/atlas/OneDrive/Desktop/usstock/ACAB.csv\n"
     ]
    },
    {
     "name": "stderr",
     "output_type": "stream",
     "text": [
      "\n",
      "1 Failed download:\n",
      "['ACABW']: Exception('%ticker%: 1d data not available for startTime=-14831751840 and endTime=1713528076. Only 100 years worth of day granularity data are allowed to be fetched per request.')\n"
     ]
    },
    {
     "name": "stdout",
     "output_type": "stream",
     "text": [
      "Saved data for symbol ACABW to C:/Users/atlas/OneDrive/Desktop/usstock/ACABW.csv\n",
      "Saved data for symbol ACAC to C:/Users/atlas/OneDrive/Desktop/usstock/ACAC.csv\n",
      "Saved data for symbol ACACU to C:/Users/atlas/OneDrive/Desktop/usstock/ACACU.csv\n"
     ]
    },
    {
     "name": "stderr",
     "output_type": "stream",
     "text": [
      "\n",
      "1 Failed download:\n",
      "['ACACW']: Exception('%ticker%: 1d data not available for startTime=-14831751840 and endTime=1713528078. Only 100 years worth of day granularity data are allowed to be fetched per request.')\n"
     ]
    },
    {
     "name": "stdout",
     "output_type": "stream",
     "text": [
      "Saved data for symbol ACACW to C:/Users/atlas/OneDrive/Desktop/usstock/ACACW.csv\n",
      "Saved data for symbol ACAD to C:/Users/atlas/OneDrive/Desktop/usstock/ACAD.csv\n",
      "Saved data for symbol ACB to C:/Users/atlas/OneDrive/Desktop/usstock/ACB.csv\n",
      "Saved data for symbol ACBA to C:/Users/atlas/OneDrive/Desktop/usstock/ACBA.csv\n",
      "Saved data for symbol ACCD to C:/Users/atlas/OneDrive/Desktop/usstock/ACCD.csv\n",
      "Saved data for symbol ACCO to C:/Users/atlas/OneDrive/Desktop/usstock/ACCO.csv\n",
      "Saved data for symbol ACDC to C:/Users/atlas/OneDrive/Desktop/usstock/ACDC.csv\n",
      "Saved data for symbol ACEL to C:/Users/atlas/OneDrive/Desktop/usstock/ACEL.csv\n",
      "Saved data for symbol ACET to C:/Users/atlas/OneDrive/Desktop/usstock/ACET.csv\n",
      "Saved data for symbol ACGL to C:/Users/atlas/OneDrive/Desktop/usstock/ACGL.csv\n",
      "Saved data for symbol ACGLN to C:/Users/atlas/OneDrive/Desktop/usstock/ACGLN.csv\n",
      "Saved data for symbol ACGLO to C:/Users/atlas/OneDrive/Desktop/usstock/ACGLO.csv\n",
      "Saved data for symbol ACHC to C:/Users/atlas/OneDrive/Desktop/usstock/ACHC.csv\n",
      "Saved data for symbol ACHL to C:/Users/atlas/OneDrive/Desktop/usstock/ACHL.csv\n",
      "Saved data for symbol ACHR to C:/Users/atlas/OneDrive/Desktop/usstock/ACHR.csv\n",
      "Saved data for symbol ACHV to C:/Users/atlas/OneDrive/Desktop/usstock/ACHV.csv\n",
      "Saved data for symbol ACI to C:/Users/atlas/OneDrive/Desktop/usstock/ACI.csv\n",
      "Saved data for symbol ACIC to C:/Users/atlas/OneDrive/Desktop/usstock/ACIC.csv\n",
      "Saved data for symbol ACIU to C:/Users/atlas/OneDrive/Desktop/usstock/ACIU.csv\n",
      "Saved data for symbol ACIW to C:/Users/atlas/OneDrive/Desktop/usstock/ACIW.csv\n",
      "Saved data for symbol ACLS to C:/Users/atlas/OneDrive/Desktop/usstock/ACLS.csv\n",
      "Saved data for symbol ACLX to C:/Users/atlas/OneDrive/Desktop/usstock/ACLX.csv\n",
      "Saved data for symbol ACM to C:/Users/atlas/OneDrive/Desktop/usstock/ACM.csv\n",
      "Saved data for symbol ACMR to C:/Users/atlas/OneDrive/Desktop/usstock/ACMR.csv\n",
      "Saved data for symbol ACN to C:/Users/atlas/OneDrive/Desktop/usstock/ACN.csv\n",
      "Saved data for symbol ACNB to C:/Users/atlas/OneDrive/Desktop/usstock/ACNB.csv\n",
      "Saved data for symbol ACNT to C:/Users/atlas/OneDrive/Desktop/usstock/ACNT.csv\n",
      "Saved data for symbol ACON to C:/Users/atlas/OneDrive/Desktop/usstock/ACON.csv\n"
     ]
    },
    {
     "name": "stderr",
     "output_type": "stream",
     "text": [
      "\n",
      "1 Failed download:\n",
      "['ACONW']: Exception('%ticker%: 1d data not available for startTime=-14831751840 and endTime=1713528090. Only 100 years worth of day granularity data are allowed to be fetched per request.')\n"
     ]
    },
    {
     "name": "stdout",
     "output_type": "stream",
     "text": [
      "Saved data for symbol ACONW to C:/Users/atlas/OneDrive/Desktop/usstock/ACONW.csv\n",
      "Saved data for symbol ACP to C:/Users/atlas/OneDrive/Desktop/usstock/ACP.csv\n"
     ]
    },
    {
     "name": "stderr",
     "output_type": "stream",
     "text": [
      "\n",
      "1 Failed download:\n",
      "['ACP^A']: Exception('%ticker%: No timezone found, symbol may be delisted')\n"
     ]
    },
    {
     "name": "stdout",
     "output_type": "stream",
     "text": [
      "Saved data for symbol ACP^A to C:/Users/atlas/OneDrive/Desktop/usstock/ACP^A.csv\n",
      "Saved data for symbol ACR to C:/Users/atlas/OneDrive/Desktop/usstock/ACR.csv\n"
     ]
    },
    {
     "name": "stderr",
     "output_type": "stream",
     "text": [
      "\n",
      "1 Failed download:\n",
      "['ACR^C']: Exception('%ticker%: No timezone found, symbol may be delisted')\n"
     ]
    },
    {
     "name": "stdout",
     "output_type": "stream",
     "text": [
      "Saved data for symbol ACR^C to C:/Users/atlas/OneDrive/Desktop/usstock/ACR^C.csv\n"
     ]
    },
    {
     "name": "stderr",
     "output_type": "stream",
     "text": [
      "\n",
      "1 Failed download:\n",
      "['ACR^D']: Exception('%ticker%: No timezone found, symbol may be delisted')\n"
     ]
    },
    {
     "name": "stdout",
     "output_type": "stream",
     "text": [
      "Saved data for symbol ACR^D to C:/Users/atlas/OneDrive/Desktop/usstock/ACR^D.csv\n",
      "Saved data for symbol ACRE to C:/Users/atlas/OneDrive/Desktop/usstock/ACRE.csv\n",
      "Saved data for symbol ACRS to C:/Users/atlas/OneDrive/Desktop/usstock/ACRS.csv\n",
      "Saved data for symbol ACRV to C:/Users/atlas/OneDrive/Desktop/usstock/ACRV.csv\n",
      "Saved data for symbol ACST to C:/Users/atlas/OneDrive/Desktop/usstock/ACST.csv\n",
      "Saved data for symbol ACT to C:/Users/atlas/OneDrive/Desktop/usstock/ACT.csv\n",
      "Saved data for symbol ACTG to C:/Users/atlas/OneDrive/Desktop/usstock/ACTG.csv\n",
      "Saved data for symbol ACU to C:/Users/atlas/OneDrive/Desktop/usstock/ACU.csv\n",
      "Saved data for symbol ACV to C:/Users/atlas/OneDrive/Desktop/usstock/ACV.csv\n",
      "Saved data for symbol ACVA to C:/Users/atlas/OneDrive/Desktop/usstock/ACVA.csv\n",
      "Saved data for symbol ACXP to C:/Users/atlas/OneDrive/Desktop/usstock/ACXP.csv\n",
      "Saved data for symbol ADAG to C:/Users/atlas/OneDrive/Desktop/usstock/ADAG.csv\n",
      "Saved data for symbol ADAP to C:/Users/atlas/OneDrive/Desktop/usstock/ADAP.csv\n",
      "Saved data for symbol ADBE to C:/Users/atlas/OneDrive/Desktop/usstock/ADBE.csv\n",
      "Saved data for symbol ADC to C:/Users/atlas/OneDrive/Desktop/usstock/ADC.csv\n"
     ]
    },
    {
     "name": "stderr",
     "output_type": "stream",
     "text": [
      "\n",
      "1 Failed download:\n",
      "['ADC^A']: Exception('%ticker%: No timezone found, symbol may be delisted')\n"
     ]
    },
    {
     "name": "stdout",
     "output_type": "stream",
     "text": [
      "Saved data for symbol ADC^A to C:/Users/atlas/OneDrive/Desktop/usstock/ADC^A.csv\n",
      "Saved data for symbol ADCT to C:/Users/atlas/OneDrive/Desktop/usstock/ADCT.csv\n",
      "Saved data for symbol ADD to C:/Users/atlas/OneDrive/Desktop/usstock/ADD.csv\n",
      "Saved data for symbol ADEA to C:/Users/atlas/OneDrive/Desktop/usstock/ADEA.csv\n",
      "Saved data for symbol ADI to C:/Users/atlas/OneDrive/Desktop/usstock/ADI.csv\n",
      "Saved data for symbol ADIL to C:/Users/atlas/OneDrive/Desktop/usstock/ADIL.csv\n",
      "Saved data for symbol ADM to C:/Users/atlas/OneDrive/Desktop/usstock/ADM.csv\n",
      "Saved data for symbol ADMA to C:/Users/atlas/OneDrive/Desktop/usstock/ADMA.csv\n",
      "Saved data for symbol ADN to C:/Users/atlas/OneDrive/Desktop/usstock/ADN.csv\n",
      "Saved data for symbol ADNT to C:/Users/atlas/OneDrive/Desktop/usstock/ADNT.csv\n"
     ]
    },
    {
     "name": "stderr",
     "output_type": "stream",
     "text": [
      "\n",
      "1 Failed download:\n",
      "['ADNWW']: Exception('%ticker%: 1d data not available for startTime=-14831751840 and endTime=1713528109. Only 100 years worth of day granularity data are allowed to be fetched per request.')\n"
     ]
    },
    {
     "name": "stdout",
     "output_type": "stream",
     "text": [
      "Saved data for symbol ADNWW to C:/Users/atlas/OneDrive/Desktop/usstock/ADNWW.csv\n",
      "Saved data for symbol ADP to C:/Users/atlas/OneDrive/Desktop/usstock/ADP.csv\n",
      "Saved data for symbol ADPT to C:/Users/atlas/OneDrive/Desktop/usstock/ADPT.csv\n",
      "Saved data for symbol ADRT to C:/Users/atlas/OneDrive/Desktop/usstock/ADRT.csv\n",
      "Saved data for symbol ADSE to C:/Users/atlas/OneDrive/Desktop/usstock/ADSE.csv\n"
     ]
    },
    {
     "name": "stderr",
     "output_type": "stream",
     "text": [
      "\n",
      "1 Failed download:\n",
      "['ADSEW']: Exception('%ticker%: 1d data not available for startTime=-14831751840 and endTime=1713528112. Only 100 years worth of day granularity data are allowed to be fetched per request.')\n"
     ]
    },
    {
     "name": "stdout",
     "output_type": "stream",
     "text": [
      "Saved data for symbol ADSEW to C:/Users/atlas/OneDrive/Desktop/usstock/ADSEW.csv\n",
      "Saved data for symbol ADSK to C:/Users/atlas/OneDrive/Desktop/usstock/ADSK.csv\n",
      "Saved data for symbol ADT to C:/Users/atlas/OneDrive/Desktop/usstock/ADT.csv\n",
      "Saved data for symbol ADTH to C:/Users/atlas/OneDrive/Desktop/usstock/ADTH.csv\n"
     ]
    },
    {
     "name": "stderr",
     "output_type": "stream",
     "text": [
      "\n",
      "1 Failed download:\n",
      "['ADTHW']: Exception('%ticker%: 1d data not available for startTime=-14831751840 and endTime=1713528116. Only 100 years worth of day granularity data are allowed to be fetched per request.')\n"
     ]
    },
    {
     "name": "stdout",
     "output_type": "stream",
     "text": [
      "Saved data for symbol ADTHW to C:/Users/atlas/OneDrive/Desktop/usstock/ADTHW.csv\n",
      "Saved data for symbol ADTN to C:/Users/atlas/OneDrive/Desktop/usstock/ADTN.csv\n",
      "Saved data for symbol ADTX to C:/Users/atlas/OneDrive/Desktop/usstock/ADTX.csv\n",
      "Saved data for symbol ADUS to C:/Users/atlas/OneDrive/Desktop/usstock/ADUS.csv\n",
      "Saved data for symbol ADV to C:/Users/atlas/OneDrive/Desktop/usstock/ADV.csv\n",
      "Saved data for symbol ADVM to C:/Users/atlas/OneDrive/Desktop/usstock/ADVM.csv\n"
     ]
    },
    {
     "name": "stderr",
     "output_type": "stream",
     "text": [
      "\n",
      "1 Failed download:\n",
      "['ADVWW']: Exception('%ticker%: 1d data not available for startTime=-14831751840 and endTime=1713528120. Only 100 years worth of day granularity data are allowed to be fetched per request.')\n"
     ]
    },
    {
     "name": "stdout",
     "output_type": "stream",
     "text": [
      "Saved data for symbol ADVWW to C:/Users/atlas/OneDrive/Desktop/usstock/ADVWW.csv\n",
      "Saved data for symbol ADX to C:/Users/atlas/OneDrive/Desktop/usstock/ADX.csv\n",
      "Saved data for symbol ADXN to C:/Users/atlas/OneDrive/Desktop/usstock/ADXN.csv\n",
      "Saved data for symbol AE to C:/Users/atlas/OneDrive/Desktop/usstock/AE.csv\n",
      "Saved data for symbol AEAE to C:/Users/atlas/OneDrive/Desktop/usstock/AEAE.csv\n"
     ]
    },
    {
     "name": "stderr",
     "output_type": "stream",
     "text": [
      "\n",
      "1 Failed download:\n",
      "['AEAEW']: Exception('%ticker%: 1d data not available for startTime=-14831751840 and endTime=1713528124. Only 100 years worth of day granularity data are allowed to be fetched per request.')\n"
     ]
    },
    {
     "name": "stdout",
     "output_type": "stream",
     "text": [
      "Saved data for symbol AEAEW to C:/Users/atlas/OneDrive/Desktop/usstock/AEAEW.csv\n",
      "Saved data for symbol AEE to C:/Users/atlas/OneDrive/Desktop/usstock/AEE.csv\n",
      "Saved data for symbol AEF to C:/Users/atlas/OneDrive/Desktop/usstock/AEF.csv\n",
      "Saved data for symbol AEFC to C:/Users/atlas/OneDrive/Desktop/usstock/AEFC.csv\n",
      "Saved data for symbol AEG to C:/Users/atlas/OneDrive/Desktop/usstock/AEG.csv\n",
      "Saved data for symbol AEHL to C:/Users/atlas/OneDrive/Desktop/usstock/AEHL.csv\n",
      "Saved data for symbol AEHR to C:/Users/atlas/OneDrive/Desktop/usstock/AEHR.csv\n",
      "Saved data for symbol AEI to C:/Users/atlas/OneDrive/Desktop/usstock/AEI.csv\n",
      "Saved data for symbol AEIS to C:/Users/atlas/OneDrive/Desktop/usstock/AEIS.csv\n",
      "Saved data for symbol AEL to C:/Users/atlas/OneDrive/Desktop/usstock/AEL.csv\n"
     ]
    },
    {
     "name": "stderr",
     "output_type": "stream",
     "text": [
      "\n",
      "1 Failed download:\n",
      "['AEL^A']: Exception('%ticker%: No timezone found, symbol may be delisted')\n"
     ]
    },
    {
     "name": "stdout",
     "output_type": "stream",
     "text": [
      "Saved data for symbol AEL^A to C:/Users/atlas/OneDrive/Desktop/usstock/AEL^A.csv\n"
     ]
    },
    {
     "name": "stderr",
     "output_type": "stream",
     "text": [
      "\n",
      "1 Failed download:\n",
      "['AEL^B']: Exception('%ticker%: No timezone found, symbol may be delisted')\n"
     ]
    },
    {
     "name": "stdout",
     "output_type": "stream",
     "text": [
      "Saved data for symbol AEL^B to C:/Users/atlas/OneDrive/Desktop/usstock/AEL^B.csv\n",
      "Saved data for symbol AEM to C:/Users/atlas/OneDrive/Desktop/usstock/AEM.csv\n",
      "Saved data for symbol AEMD to C:/Users/atlas/OneDrive/Desktop/usstock/AEMD.csv\n",
      "Saved data for symbol AENT to C:/Users/atlas/OneDrive/Desktop/usstock/AENT.csv\n"
     ]
    },
    {
     "name": "stderr",
     "output_type": "stream",
     "text": [
      "\n",
      "1 Failed download:\n",
      "['AENTW']: Exception('%ticker%: 1d data not available for startTime=-14831751840 and endTime=1713528134. Only 100 years worth of day granularity data are allowed to be fetched per request.')\n"
     ]
    },
    {
     "name": "stdout",
     "output_type": "stream",
     "text": [
      "Saved data for symbol AENTW to C:/Users/atlas/OneDrive/Desktop/usstock/AENTW.csv\n",
      "Saved data for symbol AEO to C:/Users/atlas/OneDrive/Desktop/usstock/AEO.csv\n",
      "Saved data for symbol AEON to C:/Users/atlas/OneDrive/Desktop/usstock/AEON.csv\n",
      "Saved data for symbol AEP to C:/Users/atlas/OneDrive/Desktop/usstock/AEP.csv\n",
      "Saved data for symbol AER to C:/Users/atlas/OneDrive/Desktop/usstock/AER.csv\n",
      "Saved data for symbol AERT to C:/Users/atlas/OneDrive/Desktop/usstock/AERT.csv\n"
     ]
    },
    {
     "name": "stderr",
     "output_type": "stream",
     "text": [
      "\n",
      "1 Failed download:\n",
      "['AERTW']: Exception('%ticker%: 1d data not available for startTime=-14831751840 and endTime=1713528138. Only 100 years worth of day granularity data are allowed to be fetched per request.')\n"
     ]
    },
    {
     "name": "stdout",
     "output_type": "stream",
     "text": [
      "Saved data for symbol AERTW to C:/Users/atlas/OneDrive/Desktop/usstock/AERTW.csv\n",
      "Saved data for symbol AES to C:/Users/atlas/OneDrive/Desktop/usstock/AES.csv\n",
      "Saved data for symbol AESI to C:/Users/atlas/OneDrive/Desktop/usstock/AESI.csv\n",
      "Saved data for symbol AEVA to C:/Users/atlas/OneDrive/Desktop/usstock/AEVA.csv\n",
      "Saved data for symbol AEYE to C:/Users/atlas/OneDrive/Desktop/usstock/AEYE.csv\n",
      "Saved data for symbol AEZS to C:/Users/atlas/OneDrive/Desktop/usstock/AEZS.csv\n",
      "Saved data for symbol AFAR to C:/Users/atlas/OneDrive/Desktop/usstock/AFAR.csv\n",
      "Saved data for symbol AFB to C:/Users/atlas/OneDrive/Desktop/usstock/AFB.csv\n",
      "Saved data for symbol AFBI to C:/Users/atlas/OneDrive/Desktop/usstock/AFBI.csv\n",
      "Saved data for symbol AFCG to C:/Users/atlas/OneDrive/Desktop/usstock/AFCG.csv\n",
      "Saved data for symbol AFG to C:/Users/atlas/OneDrive/Desktop/usstock/AFG.csv\n",
      "Saved data for symbol AFGB to C:/Users/atlas/OneDrive/Desktop/usstock/AFGB.csv\n",
      "Saved data for symbol AFGC to C:/Users/atlas/OneDrive/Desktop/usstock/AFGC.csv\n",
      "Saved data for symbol AFGD to C:/Users/atlas/OneDrive/Desktop/usstock/AFGD.csv\n",
      "Saved data for symbol AFGE to C:/Users/atlas/OneDrive/Desktop/usstock/AFGE.csv\n",
      "Saved data for symbol AFIB to C:/Users/atlas/OneDrive/Desktop/usstock/AFIB.csv\n",
      "Saved data for symbol AFJK to C:/Users/atlas/OneDrive/Desktop/usstock/AFJK.csv\n",
      "Saved data for symbol AFL to C:/Users/atlas/OneDrive/Desktop/usstock/AFL.csv\n",
      "Saved data for symbol AFMD to C:/Users/atlas/OneDrive/Desktop/usstock/AFMD.csv\n",
      "Saved data for symbol AFRI to C:/Users/atlas/OneDrive/Desktop/usstock/AFRI.csv\n"
     ]
    },
    {
     "name": "stderr",
     "output_type": "stream",
     "text": [
      "\n",
      "1 Failed download:\n",
      "['AFRIW']: Exception('%ticker%: 1d data not available for startTime=-14831751840 and endTime=1713528147. Only 100 years worth of day granularity data are allowed to be fetched per request.')\n"
     ]
    },
    {
     "name": "stdout",
     "output_type": "stream",
     "text": [
      "Saved data for symbol AFRIW to C:/Users/atlas/OneDrive/Desktop/usstock/AFRIW.csv\n",
      "Saved data for symbol AFRM to C:/Users/atlas/OneDrive/Desktop/usstock/AFRM.csv\n",
      "Saved data for symbol AFT to C:/Users/atlas/OneDrive/Desktop/usstock/AFT.csv\n",
      "Saved data for symbol AFYA to C:/Users/atlas/OneDrive/Desktop/usstock/AFYA.csv\n",
      "Saved data for symbol AG to C:/Users/atlas/OneDrive/Desktop/usstock/AG.csv\n",
      "Saved data for symbol AGAE to C:/Users/atlas/OneDrive/Desktop/usstock/AGAE.csv\n",
      "Saved data for symbol AGBA to C:/Users/atlas/OneDrive/Desktop/usstock/AGBA.csv\n"
     ]
    },
    {
     "name": "stderr",
     "output_type": "stream",
     "text": [
      "\n",
      "1 Failed download:\n",
      "['AGBAW']: Exception('%ticker%: 1d data not available for startTime=-14831751840 and endTime=1713528150. Only 100 years worth of day granularity data are allowed to be fetched per request.')\n"
     ]
    },
    {
     "name": "stdout",
     "output_type": "stream",
     "text": [
      "Saved data for symbol AGBAW to C:/Users/atlas/OneDrive/Desktop/usstock/AGBAW.csv\n",
      "Saved data for symbol AGCO to C:/Users/atlas/OneDrive/Desktop/usstock/AGCO.csv\n",
      "Saved data for symbol AGD to C:/Users/atlas/OneDrive/Desktop/usstock/AGD.csv\n",
      "Saved data for symbol AGEN to C:/Users/atlas/OneDrive/Desktop/usstock/AGEN.csv\n",
      "Saved data for symbol AGFY to C:/Users/atlas/OneDrive/Desktop/usstock/AGFY.csv\n",
      "Saved data for symbol AGI to C:/Users/atlas/OneDrive/Desktop/usstock/AGI.csv\n",
      "Saved data for symbol AGIO to C:/Users/atlas/OneDrive/Desktop/usstock/AGIO.csv\n",
      "Saved data for symbol AGL to C:/Users/atlas/OneDrive/Desktop/usstock/AGL.csv\n",
      "Saved data for symbol AGM to C:/Users/atlas/OneDrive/Desktop/usstock/AGM.csv\n"
     ]
    },
    {
     "name": "stderr",
     "output_type": "stream",
     "text": [
      "\n",
      "1 Failed download:\n",
      "['AGM^C']: Exception('%ticker%: No timezone found, symbol may be delisted')\n"
     ]
    },
    {
     "name": "stdout",
     "output_type": "stream",
     "text": [
      "Saved data for symbol AGM^C to C:/Users/atlas/OneDrive/Desktop/usstock/AGM^C.csv\n"
     ]
    },
    {
     "name": "stderr",
     "output_type": "stream",
     "text": [
      "\n",
      "1 Failed download:\n",
      "['AGM^D']: Exception('%ticker%: No timezone found, symbol may be delisted')\n"
     ]
    },
    {
     "name": "stdout",
     "output_type": "stream",
     "text": [
      "Saved data for symbol AGM^D to C:/Users/atlas/OneDrive/Desktop/usstock/AGM^D.csv\n"
     ]
    },
    {
     "name": "stderr",
     "output_type": "stream",
     "text": [
      "\n",
      "1 Failed download:\n",
      "['AGM^E']: Exception('%ticker%: No timezone found, symbol may be delisted')\n"
     ]
    },
    {
     "name": "stdout",
     "output_type": "stream",
     "text": [
      "Saved data for symbol AGM^E to C:/Users/atlas/OneDrive/Desktop/usstock/AGM^E.csv\n"
     ]
    },
    {
     "name": "stderr",
     "output_type": "stream",
     "text": [
      "\n",
      "1 Failed download:\n",
      "['AGM^F']: Exception('%ticker%: No timezone found, symbol may be delisted')\n"
     ]
    },
    {
     "name": "stdout",
     "output_type": "stream",
     "text": [
      "Saved data for symbol AGM^F to C:/Users/atlas/OneDrive/Desktop/usstock/AGM^F.csv\n"
     ]
    },
    {
     "name": "stderr",
     "output_type": "stream",
     "text": [
      "\n",
      "1 Failed download:\n",
      "['AGM^G']: Exception('%ticker%: No timezone found, symbol may be delisted')\n"
     ]
    },
    {
     "name": "stdout",
     "output_type": "stream",
     "text": [
      "Saved data for symbol AGM^G to C:/Users/atlas/OneDrive/Desktop/usstock/AGM^G.csv\n",
      "Saved data for symbol AGMH to C:/Users/atlas/OneDrive/Desktop/usstock/AGMH.csv\n",
      "Saved data for symbol AGNC to C:/Users/atlas/OneDrive/Desktop/usstock/AGNC.csv\n",
      "Saved data for symbol AGNCL to C:/Users/atlas/OneDrive/Desktop/usstock/AGNCL.csv\n",
      "Saved data for symbol AGNCM to C:/Users/atlas/OneDrive/Desktop/usstock/AGNCM.csv\n",
      "Saved data for symbol AGNCN to C:/Users/atlas/OneDrive/Desktop/usstock/AGNCN.csv\n",
      "Saved data for symbol AGNCO to C:/Users/atlas/OneDrive/Desktop/usstock/AGNCO.csv\n",
      "Saved data for symbol AGNCP to C:/Users/atlas/OneDrive/Desktop/usstock/AGNCP.csv\n",
      "Saved data for symbol AGO to C:/Users/atlas/OneDrive/Desktop/usstock/AGO.csv\n",
      "Saved data for symbol AGR to C:/Users/atlas/OneDrive/Desktop/usstock/AGR.csv\n",
      "Saved data for symbol AGRI to C:/Users/atlas/OneDrive/Desktop/usstock/AGRI.csv\n"
     ]
    },
    {
     "name": "stderr",
     "output_type": "stream",
     "text": [
      "\n",
      "1 Failed download:\n",
      "['AGRIW']: Exception('%ticker%: 1d data not available for startTime=-14831751840 and endTime=1713528168. Only 100 years worth of day granularity data are allowed to be fetched per request.')\n"
     ]
    },
    {
     "name": "stdout",
     "output_type": "stream",
     "text": [
      "Saved data for symbol AGRIW to C:/Users/atlas/OneDrive/Desktop/usstock/AGRIW.csv\n",
      "Saved data for symbol AGRO to C:/Users/atlas/OneDrive/Desktop/usstock/AGRO.csv\n",
      "Saved data for symbol AGS to C:/Users/atlas/OneDrive/Desktop/usstock/AGS.csv\n",
      "Saved data for symbol AGTI to C:/Users/atlas/OneDrive/Desktop/usstock/AGTI.csv\n",
      "Saved data for symbol AGX to C:/Users/atlas/OneDrive/Desktop/usstock/AGX.csv\n",
      "Saved data for symbol AGYS to C:/Users/atlas/OneDrive/Desktop/usstock/AGYS.csv\n",
      "Saved data for symbol AHCO to C:/Users/atlas/OneDrive/Desktop/usstock/AHCO.csv\n",
      "Saved data for symbol AHG to C:/Users/atlas/OneDrive/Desktop/usstock/AHG.csv\n",
      "Saved data for symbol AHH to C:/Users/atlas/OneDrive/Desktop/usstock/AHH.csv\n"
     ]
    },
    {
     "name": "stderr",
     "output_type": "stream",
     "text": [
      "\n",
      "1 Failed download:\n",
      "['AHH^A']: Exception('%ticker%: No timezone found, symbol may be delisted')\n"
     ]
    },
    {
     "name": "stdout",
     "output_type": "stream",
     "text": [
      "Saved data for symbol AHH^A to C:/Users/atlas/OneDrive/Desktop/usstock/AHH^A.csv\n"
     ]
    },
    {
     "name": "stderr",
     "output_type": "stream",
     "text": [
      "\n",
      "1 Failed download:\n",
      "['AHL^C']: Exception('%ticker%: No timezone found, symbol may be delisted')\n"
     ]
    },
    {
     "name": "stdout",
     "output_type": "stream",
     "text": [
      "Saved data for symbol AHL^C to C:/Users/atlas/OneDrive/Desktop/usstock/AHL^C.csv\n"
     ]
    },
    {
     "name": "stderr",
     "output_type": "stream",
     "text": [
      "\n",
      "1 Failed download:\n",
      "['AHL^D']: Exception('%ticker%: No timezone found, symbol may be delisted')\n"
     ]
    },
    {
     "name": "stdout",
     "output_type": "stream",
     "text": [
      "Saved data for symbol AHL^D to C:/Users/atlas/OneDrive/Desktop/usstock/AHL^D.csv\n"
     ]
    },
    {
     "name": "stderr",
     "output_type": "stream",
     "text": [
      "\n",
      "1 Failed download:\n",
      "['AHL^E']: Exception('%ticker%: No timezone found, symbol may be delisted')\n"
     ]
    },
    {
     "name": "stdout",
     "output_type": "stream",
     "text": [
      "Saved data for symbol AHL^E to C:/Users/atlas/OneDrive/Desktop/usstock/AHL^E.csv\n",
      "Saved data for symbol AHR to C:/Users/atlas/OneDrive/Desktop/usstock/AHR.csv\n",
      "Saved data for symbol AHT to C:/Users/atlas/OneDrive/Desktop/usstock/AHT.csv\n"
     ]
    },
    {
     "name": "stderr",
     "output_type": "stream",
     "text": [
      "\n",
      "1 Failed download:\n",
      "['AHT^D']: Exception('%ticker%: No timezone found, symbol may be delisted')\n"
     ]
    },
    {
     "name": "stdout",
     "output_type": "stream",
     "text": [
      "Saved data for symbol AHT^D to C:/Users/atlas/OneDrive/Desktop/usstock/AHT^D.csv\n"
     ]
    },
    {
     "name": "stderr",
     "output_type": "stream",
     "text": [
      "\n",
      "1 Failed download:\n",
      "['AHT^F']: Exception('%ticker%: No timezone found, symbol may be delisted')\n"
     ]
    },
    {
     "name": "stdout",
     "output_type": "stream",
     "text": [
      "Saved data for symbol AHT^F to C:/Users/atlas/OneDrive/Desktop/usstock/AHT^F.csv\n"
     ]
    },
    {
     "name": "stderr",
     "output_type": "stream",
     "text": [
      "\n",
      "1 Failed download:\n",
      "['AHT^G']: Exception('%ticker%: No timezone found, symbol may be delisted')\n"
     ]
    },
    {
     "name": "stdout",
     "output_type": "stream",
     "text": [
      "Saved data for symbol AHT^G to C:/Users/atlas/OneDrive/Desktop/usstock/AHT^G.csv\n"
     ]
    },
    {
     "name": "stderr",
     "output_type": "stream",
     "text": [
      "\n",
      "1 Failed download:\n",
      "['AHT^H']: Exception('%ticker%: No timezone found, symbol may be delisted')\n"
     ]
    },
    {
     "name": "stdout",
     "output_type": "stream",
     "text": [
      "Saved data for symbol AHT^H to C:/Users/atlas/OneDrive/Desktop/usstock/AHT^H.csv\n"
     ]
    },
    {
     "name": "stderr",
     "output_type": "stream",
     "text": [
      "\n",
      "1 Failed download:\n",
      "['AHT^I']: Exception('%ticker%: No timezone found, symbol may be delisted')\n"
     ]
    },
    {
     "name": "stdout",
     "output_type": "stream",
     "text": [
      "Saved data for symbol AHT^I to C:/Users/atlas/OneDrive/Desktop/usstock/AHT^I.csv\n",
      "Saved data for symbol AI to C:/Users/atlas/OneDrive/Desktop/usstock/AI.csv\n",
      "Saved data for symbol AIB to C:/Users/atlas/OneDrive/Desktop/usstock/AIB.csv\n",
      "Saved data for symbol AIF to C:/Users/atlas/OneDrive/Desktop/usstock/AIF.csv\n",
      "Saved data for symbol AIG to C:/Users/atlas/OneDrive/Desktop/usstock/AIG.csv\n",
      "Saved data for symbol AIH to C:/Users/atlas/OneDrive/Desktop/usstock/AIH.csv\n",
      "Saved data for symbol AIHS to C:/Users/atlas/OneDrive/Desktop/usstock/AIHS.csv\n",
      "Saved data for symbol AILE to C:/Users/atlas/OneDrive/Desktop/usstock/AILE.csv\n"
     ]
    },
    {
     "name": "stderr",
     "output_type": "stream",
     "text": [
      "\n",
      "1 Failed download:\n",
      "['AILEW']: Exception('%ticker%: 1d data not available for startTime=-14831751840 and endTime=1713528191. Only 100 years worth of day granularity data are allowed to be fetched per request.')\n"
     ]
    },
    {
     "name": "stdout",
     "output_type": "stream",
     "text": [
      "Saved data for symbol AILEW to C:/Users/atlas/OneDrive/Desktop/usstock/AILEW.csv\n",
      "Saved data for symbol AIM to C:/Users/atlas/OneDrive/Desktop/usstock/AIM.csv\n",
      "Saved data for symbol AIMBU to C:/Users/atlas/OneDrive/Desktop/usstock/AIMBU.csv\n",
      "Saved data for symbol AIMD to C:/Users/atlas/OneDrive/Desktop/usstock/AIMD.csv\n"
     ]
    },
    {
     "name": "stderr",
     "output_type": "stream",
     "text": [
      "\n",
      "1 Failed download:\n",
      "['AIMDW']: Exception('%ticker%: 1d data not available for startTime=-14831751840 and endTime=1713528193. Only 100 years worth of day granularity data are allowed to be fetched per request.')\n"
     ]
    },
    {
     "name": "stdout",
     "output_type": "stream",
     "text": [
      "Saved data for symbol AIMDW to C:/Users/atlas/OneDrive/Desktop/usstock/AIMDW.csv\n",
      "Saved data for symbol AIN to C:/Users/atlas/OneDrive/Desktop/usstock/AIN.csv\n",
      "Saved data for symbol AINC to C:/Users/atlas/OneDrive/Desktop/usstock/AINC.csv\n",
      "Saved data for symbol AIO to C:/Users/atlas/OneDrive/Desktop/usstock/AIO.csv\n",
      "Saved data for symbol AIP to C:/Users/atlas/OneDrive/Desktop/usstock/AIP.csv\n",
      "Saved data for symbol AIR to C:/Users/atlas/OneDrive/Desktop/usstock/AIR.csv\n",
      "Saved data for symbol AIRC to C:/Users/atlas/OneDrive/Desktop/usstock/AIRC.csv\n",
      "Saved data for symbol AIRE to C:/Users/atlas/OneDrive/Desktop/usstock/AIRE.csv\n",
      "Saved data for symbol AIRG to C:/Users/atlas/OneDrive/Desktop/usstock/AIRG.csv\n",
      "Saved data for symbol AIRI to C:/Users/atlas/OneDrive/Desktop/usstock/AIRI.csv\n",
      "Saved data for symbol AIRJ to C:/Users/atlas/OneDrive/Desktop/usstock/AIRJ.csv\n"
     ]
    },
    {
     "name": "stderr",
     "output_type": "stream",
     "text": [
      "\n",
      "1 Failed download:\n",
      "['AIRJW']: Exception('%ticker%: 1d data not available for startTime=-14831751840 and endTime=1713528199. Only 100 years worth of day granularity data are allowed to be fetched per request.')\n"
     ]
    },
    {
     "name": "stdout",
     "output_type": "stream",
     "text": [
      "Saved data for symbol AIRJW to C:/Users/atlas/OneDrive/Desktop/usstock/AIRJW.csv\n",
      "Saved data for symbol AIRS to C:/Users/atlas/OneDrive/Desktop/usstock/AIRS.csv\n",
      "Saved data for symbol AIRT to C:/Users/atlas/OneDrive/Desktop/usstock/AIRT.csv\n",
      "Saved data for symbol AIRTP to C:/Users/atlas/OneDrive/Desktop/usstock/AIRTP.csv\n",
      "Saved data for symbol AISP to C:/Users/atlas/OneDrive/Desktop/usstock/AISP.csv\n"
     ]
    },
    {
     "name": "stderr",
     "output_type": "stream",
     "text": [
      "\n",
      "1 Failed download:\n",
      "['AISPW']: Exception('%ticker%: 1d data not available for startTime=-14831751840 and endTime=1713528202. Only 100 years worth of day granularity data are allowed to be fetched per request.')\n"
     ]
    },
    {
     "name": "stdout",
     "output_type": "stream",
     "text": [
      "Saved data for symbol AISPW to C:/Users/atlas/OneDrive/Desktop/usstock/AISPW.csv\n",
      "Saved data for symbol AIT to C:/Users/atlas/OneDrive/Desktop/usstock/AIT.csv\n",
      "Saved data for symbol AITR to C:/Users/atlas/OneDrive/Desktop/usstock/AITR.csv\n"
     ]
    },
    {
     "name": "stderr",
     "output_type": "stream",
     "text": [
      "\n",
      "1 Failed download:\n",
      "['AITRR']: Exception('%ticker%: 1d data not available for startTime=-14831751840 and endTime=1713528205. Only 100 years worth of day granularity data are allowed to be fetched per request.')\n"
     ]
    },
    {
     "name": "stdout",
     "output_type": "stream",
     "text": [
      "Saved data for symbol AITRR to C:/Users/atlas/OneDrive/Desktop/usstock/AITRR.csv\n",
      "Saved data for symbol AITRU to C:/Users/atlas/OneDrive/Desktop/usstock/AITRU.csv\n",
      "Saved data for symbol AIU to C:/Users/atlas/OneDrive/Desktop/usstock/AIU.csv\n",
      "Saved data for symbol AIV to C:/Users/atlas/OneDrive/Desktop/usstock/AIV.csv\n",
      "Saved data for symbol AIXI to C:/Users/atlas/OneDrive/Desktop/usstock/AIXI.csv\n",
      "Saved data for symbol AIZ to C:/Users/atlas/OneDrive/Desktop/usstock/AIZ.csv\n",
      "Saved data for symbol AIZN to C:/Users/atlas/OneDrive/Desktop/usstock/AIZN.csv\n",
      "Saved data for symbol AJG to C:/Users/atlas/OneDrive/Desktop/usstock/AJG.csv\n",
      "Saved data for symbol AJX to C:/Users/atlas/OneDrive/Desktop/usstock/AJX.csv\n",
      "Saved data for symbol AJXA to C:/Users/atlas/OneDrive/Desktop/usstock/AJXA.csv\n",
      "Saved data for symbol AKA to C:/Users/atlas/OneDrive/Desktop/usstock/AKA.csv\n",
      "Saved data for symbol AKAM to C:/Users/atlas/OneDrive/Desktop/usstock/AKAM.csv\n",
      "Saved data for symbol AKAN to C:/Users/atlas/OneDrive/Desktop/usstock/AKAN.csv\n",
      "Saved data for symbol AKBA to C:/Users/atlas/OneDrive/Desktop/usstock/AKBA.csv\n",
      "Saved data for symbol AKLI to C:/Users/atlas/OneDrive/Desktop/usstock/AKLI.csv\n"
     ]
    },
    {
     "name": "stderr",
     "output_type": "stream",
     "text": [
      "Failed to get ticker 'AKO/A' reason: Expecting value: line 1 column 1 (char 0)\n",
      "\n",
      "1 Failed download:\n",
      "['AKO/A']: Exception('%ticker%: No timezone found, symbol may be delisted')\n"
     ]
    },
    {
     "name": "stdout",
     "output_type": "stream",
     "text": [
      "Error occurred while downloading data for symbol AKO/A: Cannot save file into a non-existent directory: 'C:\\Users\\atlas\\OneDrive\\Desktop\\usstock\\AKO'\n"
     ]
    },
    {
     "name": "stderr",
     "output_type": "stream",
     "text": [
      "Failed to get ticker 'AKO/B' reason: Expecting value: line 1 column 1 (char 0)\n",
      "\n",
      "1 Failed download:\n",
      "['AKO/B']: Exception('%ticker%: No timezone found, symbol may be delisted')\n"
     ]
    },
    {
     "name": "stdout",
     "output_type": "stream",
     "text": [
      "Error occurred while downloading data for symbol AKO/B: Cannot save file into a non-existent directory: 'C:\\Users\\atlas\\OneDrive\\Desktop\\usstock\\AKO'\n",
      "Saved data for symbol AKR to C:/Users/atlas/OneDrive/Desktop/usstock/AKR.csv\n",
      "Saved data for symbol AKRO to C:/Users/atlas/OneDrive/Desktop/usstock/AKRO.csv\n",
      "Saved data for symbol AKTS to C:/Users/atlas/OneDrive/Desktop/usstock/AKTS.csv\n",
      "Saved data for symbol AKTX to C:/Users/atlas/OneDrive/Desktop/usstock/AKTX.csv\n",
      "Saved data for symbol AKYA to C:/Users/atlas/OneDrive/Desktop/usstock/AKYA.csv\n",
      "Saved data for symbol AL to C:/Users/atlas/OneDrive/Desktop/usstock/AL.csv\n"
     ]
    },
    {
     "name": "stderr",
     "output_type": "stream",
     "text": [
      "\n",
      "1 Failed download:\n",
      "['AL^A']: Exception('%ticker%: No timezone found, symbol may be delisted')\n"
     ]
    },
    {
     "name": "stdout",
     "output_type": "stream",
     "text": [
      "Saved data for symbol AL^A to C:/Users/atlas/OneDrive/Desktop/usstock/AL^A.csv\n",
      "Saved data for symbol ALAB to C:/Users/atlas/OneDrive/Desktop/usstock/ALAB.csv\n",
      "Saved data for symbol ALAR to C:/Users/atlas/OneDrive/Desktop/usstock/ALAR.csv\n",
      "Saved data for symbol ALB to C:/Users/atlas/OneDrive/Desktop/usstock/ALB.csv\n"
     ]
    },
    {
     "name": "stderr",
     "output_type": "stream",
     "text": [
      "\n",
      "1 Failed download:\n",
      "['ALB^A']: Exception('%ticker%: No timezone found, symbol may be delisted')\n"
     ]
    },
    {
     "name": "stdout",
     "output_type": "stream",
     "text": [
      "Saved data for symbol ALB^A to C:/Users/atlas/OneDrive/Desktop/usstock/ALB^A.csv\n",
      "Saved data for symbol ALBT to C:/Users/atlas/OneDrive/Desktop/usstock/ALBT.csv\n",
      "Saved data for symbol ALC to C:/Users/atlas/OneDrive/Desktop/usstock/ALC.csv\n",
      "Saved data for symbol ALCC to C:/Users/atlas/OneDrive/Desktop/usstock/ALCC.csv\n",
      "Saved data for symbol ALCE to C:/Users/atlas/OneDrive/Desktop/usstock/ALCE.csv\n",
      "Saved data for symbol ALCO to C:/Users/atlas/OneDrive/Desktop/usstock/ALCO.csv\n",
      "Saved data for symbol ALCY to C:/Users/atlas/OneDrive/Desktop/usstock/ALCY.csv\n"
     ]
    },
    {
     "name": "stderr",
     "output_type": "stream",
     "text": [
      "\n",
      "1 Failed download:\n",
      "['ALCYW']: Exception('%ticker%: 1d data not available for startTime=-14831751840 and endTime=1713528226. Only 100 years worth of day granularity data are allowed to be fetched per request.')\n"
     ]
    },
    {
     "name": "stdout",
     "output_type": "stream",
     "text": [
      "Saved data for symbol ALCYW to C:/Users/atlas/OneDrive/Desktop/usstock/ALCYW.csv\n",
      "Saved data for symbol ALDX to C:/Users/atlas/OneDrive/Desktop/usstock/ALDX.csv\n",
      "Saved data for symbol ALE to C:/Users/atlas/OneDrive/Desktop/usstock/ALE.csv\n",
      "Saved data for symbol ALEC to C:/Users/atlas/OneDrive/Desktop/usstock/ALEC.csv\n",
      "Saved data for symbol ALEX to C:/Users/atlas/OneDrive/Desktop/usstock/ALEX.csv\n",
      "Saved data for symbol ALG to C:/Users/atlas/OneDrive/Desktop/usstock/ALG.csv\n",
      "Saved data for symbol ALGM to C:/Users/atlas/OneDrive/Desktop/usstock/ALGM.csv\n",
      "Saved data for symbol ALGN to C:/Users/atlas/OneDrive/Desktop/usstock/ALGN.csv\n",
      "Saved data for symbol ALGS to C:/Users/atlas/OneDrive/Desktop/usstock/ALGS.csv\n",
      "Saved data for symbol ALGT to C:/Users/atlas/OneDrive/Desktop/usstock/ALGT.csv\n",
      "Saved data for symbol ALHC to C:/Users/atlas/OneDrive/Desktop/usstock/ALHC.csv\n",
      "Saved data for symbol ALIM to C:/Users/atlas/OneDrive/Desktop/usstock/ALIM.csv\n",
      "Saved data for symbol ALIT to C:/Users/atlas/OneDrive/Desktop/usstock/ALIT.csv\n",
      "Saved data for symbol ALK to C:/Users/atlas/OneDrive/Desktop/usstock/ALK.csv\n",
      "Saved data for symbol ALKS to C:/Users/atlas/OneDrive/Desktop/usstock/ALKS.csv\n",
      "Saved data for symbol ALKT to C:/Users/atlas/OneDrive/Desktop/usstock/ALKT.csv\n",
      "Saved data for symbol ALL to C:/Users/atlas/OneDrive/Desktop/usstock/ALL.csv\n"
     ]
    },
    {
     "name": "stderr",
     "output_type": "stream",
     "text": [
      "\n",
      "1 Failed download:\n",
      "['ALL^B']: Exception('%ticker%: No timezone found, symbol may be delisted')\n"
     ]
    },
    {
     "name": "stdout",
     "output_type": "stream",
     "text": [
      "Saved data for symbol ALL^B to C:/Users/atlas/OneDrive/Desktop/usstock/ALL^B.csv\n"
     ]
    },
    {
     "name": "stderr",
     "output_type": "stream",
     "text": [
      "\n",
      "1 Failed download:\n",
      "['ALL^H']: Exception('%ticker%: No timezone found, symbol may be delisted')\n"
     ]
    },
    {
     "name": "stdout",
     "output_type": "stream",
     "text": [
      "Saved data for symbol ALL^H to C:/Users/atlas/OneDrive/Desktop/usstock/ALL^H.csv\n"
     ]
    },
    {
     "name": "stderr",
     "output_type": "stream",
     "text": [
      "\n",
      "1 Failed download:\n",
      "['ALL^I']: Exception('%ticker%: No timezone found, symbol may be delisted')\n"
     ]
    },
    {
     "name": "stdout",
     "output_type": "stream",
     "text": [
      "Saved data for symbol ALL^I to C:/Users/atlas/OneDrive/Desktop/usstock/ALL^I.csv\n"
     ]
    },
    {
     "name": "stderr",
     "output_type": "stream",
     "text": [
      "\n",
      "1 Failed download:\n",
      "['ALL^J']: Exception('%ticker%: No timezone found, symbol may be delisted')\n"
     ]
    },
    {
     "name": "stdout",
     "output_type": "stream",
     "text": [
      "Saved data for symbol ALL^J to C:/Users/atlas/OneDrive/Desktop/usstock/ALL^J.csv\n",
      "Saved data for symbol ALLE to C:/Users/atlas/OneDrive/Desktop/usstock/ALLE.csv\n",
      "Saved data for symbol ALLG to C:/Users/atlas/OneDrive/Desktop/usstock/ALLG.csv\n",
      "Saved data for symbol ALLK to C:/Users/atlas/OneDrive/Desktop/usstock/ALLK.csv\n",
      "Saved data for symbol ALLO to C:/Users/atlas/OneDrive/Desktop/usstock/ALLO.csv\n",
      "Saved data for symbol ALLR to C:/Users/atlas/OneDrive/Desktop/usstock/ALLR.csv\n",
      "Saved data for symbol ALLT to C:/Users/atlas/OneDrive/Desktop/usstock/ALLT.csv\n",
      "Saved data for symbol ALLY to C:/Users/atlas/OneDrive/Desktop/usstock/ALLY.csv\n",
      "Saved data for symbol ALNT to C:/Users/atlas/OneDrive/Desktop/usstock/ALNT.csv\n",
      "Saved data for symbol ALNY to C:/Users/atlas/OneDrive/Desktop/usstock/ALNY.csv\n",
      "Saved data for symbol ALOT to C:/Users/atlas/OneDrive/Desktop/usstock/ALOT.csv\n",
      "Saved data for symbol ALPN to C:/Users/atlas/OneDrive/Desktop/usstock/ALPN.csv\n",
      "Saved data for symbol ALPP to C:/Users/atlas/OneDrive/Desktop/usstock/ALPP.csv\n",
      "Saved data for symbol ALRM to C:/Users/atlas/OneDrive/Desktop/usstock/ALRM.csv\n",
      "Saved data for symbol ALRN to C:/Users/atlas/OneDrive/Desktop/usstock/ALRN.csv\n",
      "Saved data for symbol ALRS to C:/Users/atlas/OneDrive/Desktop/usstock/ALRS.csv\n",
      "Saved data for symbol ALSA to C:/Users/atlas/OneDrive/Desktop/usstock/ALSA.csv\n",
      "Saved data for symbol ALSAU to C:/Users/atlas/OneDrive/Desktop/usstock/ALSAU.csv\n",
      "Saved data for symbol ALSN to C:/Users/atlas/OneDrive/Desktop/usstock/ALSN.csv\n",
      "Saved data for symbol ALT to C:/Users/atlas/OneDrive/Desktop/usstock/ALT.csv\n",
      "Saved data for symbol ALTG to C:/Users/atlas/OneDrive/Desktop/usstock/ALTG.csv\n"
     ]
    },
    {
     "name": "stderr",
     "output_type": "stream",
     "text": [
      "\n",
      "1 Failed download:\n",
      "['ALTG^A']: Exception('%ticker%: No timezone found, symbol may be delisted')\n"
     ]
    },
    {
     "name": "stdout",
     "output_type": "stream",
     "text": [
      "Saved data for symbol ALTG^A to C:/Users/atlas/OneDrive/Desktop/usstock/ALTG^A.csv\n",
      "Saved data for symbol ALTI to C:/Users/atlas/OneDrive/Desktop/usstock/ALTI.csv\n",
      "Saved data for symbol ALTM to C:/Users/atlas/OneDrive/Desktop/usstock/ALTM.csv\n",
      "Saved data for symbol ALTO to C:/Users/atlas/OneDrive/Desktop/usstock/ALTO.csv\n",
      "Saved data for symbol ALTR to C:/Users/atlas/OneDrive/Desktop/usstock/ALTR.csv\n",
      "Saved data for symbol ALUR to C:/Users/atlas/OneDrive/Desktop/usstock/ALUR.csv\n",
      "Saved data for symbol ALV to C:/Users/atlas/OneDrive/Desktop/usstock/ALV.csv\n",
      "Saved data for symbol ALVO to C:/Users/atlas/OneDrive/Desktop/usstock/ALVO.csv\n"
     ]
    },
    {
     "name": "stderr",
     "output_type": "stream",
     "text": [
      "\n",
      "1 Failed download:\n",
      "['ALVOW']: Exception('%ticker%: 1d data not available for startTime=-14831751840 and endTime=1713528252. Only 100 years worth of day granularity data are allowed to be fetched per request.')\n"
     ]
    },
    {
     "name": "stdout",
     "output_type": "stream",
     "text": [
      "Saved data for symbol ALVOW to C:/Users/atlas/OneDrive/Desktop/usstock/ALVOW.csv\n",
      "Saved data for symbol ALVR to C:/Users/atlas/OneDrive/Desktop/usstock/ALVR.csv\n",
      "Saved data for symbol ALX to C:/Users/atlas/OneDrive/Desktop/usstock/ALX.csv\n",
      "Saved data for symbol ALXO to C:/Users/atlas/OneDrive/Desktop/usstock/ALXO.csv\n",
      "Saved data for symbol ALZN to C:/Users/atlas/OneDrive/Desktop/usstock/ALZN.csv\n",
      "Saved data for symbol AM to C:/Users/atlas/OneDrive/Desktop/usstock/AM.csv\n",
      "Saved data for symbol AMAL to C:/Users/atlas/OneDrive/Desktop/usstock/AMAL.csv\n",
      "Saved data for symbol AMAT to C:/Users/atlas/OneDrive/Desktop/usstock/AMAT.csv\n",
      "Saved data for symbol AMBA to C:/Users/atlas/OneDrive/Desktop/usstock/AMBA.csv\n",
      "Saved data for symbol AMBC to C:/Users/atlas/OneDrive/Desktop/usstock/AMBC.csv\n",
      "Saved data for symbol AMBI to C:/Users/atlas/OneDrive/Desktop/usstock/AMBI.csv\n",
      "Saved data for symbol AMBO to C:/Users/atlas/OneDrive/Desktop/usstock/AMBO.csv\n",
      "Saved data for symbol AMBP to C:/Users/atlas/OneDrive/Desktop/usstock/AMBP.csv\n",
      "Saved data for symbol AMC to C:/Users/atlas/OneDrive/Desktop/usstock/AMC.csv\n",
      "Saved data for symbol AMCR to C:/Users/atlas/OneDrive/Desktop/usstock/AMCR.csv\n",
      "Saved data for symbol AMCX to C:/Users/atlas/OneDrive/Desktop/usstock/AMCX.csv\n",
      "Saved data for symbol AMD to C:/Users/atlas/OneDrive/Desktop/usstock/AMD.csv\n",
      "Saved data for symbol AME to C:/Users/atlas/OneDrive/Desktop/usstock/AME.csv\n",
      "Saved data for symbol AMED to C:/Users/atlas/OneDrive/Desktop/usstock/AMED.csv\n",
      "Saved data for symbol AMG to C:/Users/atlas/OneDrive/Desktop/usstock/AMG.csv\n",
      "Saved data for symbol AMGN to C:/Users/atlas/OneDrive/Desktop/usstock/AMGN.csv\n",
      "Saved data for symbol AMH to C:/Users/atlas/OneDrive/Desktop/usstock/AMH.csv\n"
     ]
    },
    {
     "name": "stderr",
     "output_type": "stream",
     "text": [
      "\n",
      "1 Failed download:\n",
      "['AMH^G']: Exception('%ticker%: No timezone found, symbol may be delisted')\n"
     ]
    },
    {
     "name": "stdout",
     "output_type": "stream",
     "text": [
      "Saved data for symbol AMH^G to C:/Users/atlas/OneDrive/Desktop/usstock/AMH^G.csv\n"
     ]
    },
    {
     "name": "stderr",
     "output_type": "stream",
     "text": [
      "\n",
      "1 Failed download:\n",
      "['AMH^H']: Exception('%ticker%: No timezone found, symbol may be delisted')\n"
     ]
    },
    {
     "name": "stdout",
     "output_type": "stream",
     "text": [
      "Saved data for symbol AMH^H to C:/Users/atlas/OneDrive/Desktop/usstock/AMH^H.csv\n",
      "Saved data for symbol AMIX to C:/Users/atlas/OneDrive/Desktop/usstock/AMIX.csv\n",
      "Saved data for symbol AMK to C:/Users/atlas/OneDrive/Desktop/usstock/AMK.csv\n",
      "Saved data for symbol AMKR to C:/Users/atlas/OneDrive/Desktop/usstock/AMKR.csv\n",
      "Saved data for symbol AMLI to C:/Users/atlas/OneDrive/Desktop/usstock/AMLI.csv\n",
      "Saved data for symbol AMLX to C:/Users/atlas/OneDrive/Desktop/usstock/AMLX.csv\n",
      "Saved data for symbol AMN to C:/Users/atlas/OneDrive/Desktop/usstock/AMN.csv\n",
      "Saved data for symbol AMP to C:/Users/atlas/OneDrive/Desktop/usstock/AMP.csv\n",
      "Saved data for symbol AMPG to C:/Users/atlas/OneDrive/Desktop/usstock/AMPG.csv\n",
      "Saved data for symbol AMPH to C:/Users/atlas/OneDrive/Desktop/usstock/AMPH.csv\n",
      "Saved data for symbol AMPL to C:/Users/atlas/OneDrive/Desktop/usstock/AMPL.csv\n",
      "Saved data for symbol AMPS to C:/Users/atlas/OneDrive/Desktop/usstock/AMPS.csv\n",
      "Saved data for symbol AMPX to C:/Users/atlas/OneDrive/Desktop/usstock/AMPX.csv\n",
      "Saved data for symbol AMPY to C:/Users/atlas/OneDrive/Desktop/usstock/AMPY.csv\n",
      "Saved data for symbol AMR to C:/Users/atlas/OneDrive/Desktop/usstock/AMR.csv\n",
      "Saved data for symbol AMRC to C:/Users/atlas/OneDrive/Desktop/usstock/AMRC.csv\n",
      "Saved data for symbol AMRK to C:/Users/atlas/OneDrive/Desktop/usstock/AMRK.csv\n",
      "Saved data for symbol AMRN to C:/Users/atlas/OneDrive/Desktop/usstock/AMRN.csv\n",
      "Saved data for symbol AMRX to C:/Users/atlas/OneDrive/Desktop/usstock/AMRX.csv\n",
      "Saved data for symbol AMS to C:/Users/atlas/OneDrive/Desktop/usstock/AMS.csv\n",
      "Saved data for symbol AMSC to C:/Users/atlas/OneDrive/Desktop/usstock/AMSC.csv\n",
      "Saved data for symbol AMSF to C:/Users/atlas/OneDrive/Desktop/usstock/AMSF.csv\n",
      "Saved data for symbol AMST to C:/Users/atlas/OneDrive/Desktop/usstock/AMST.csv\n",
      "Saved data for symbol AMSWA to C:/Users/atlas/OneDrive/Desktop/usstock/AMSWA.csv\n",
      "Saved data for symbol AMT to C:/Users/atlas/OneDrive/Desktop/usstock/AMT.csv\n",
      "Saved data for symbol AMTB to C:/Users/atlas/OneDrive/Desktop/usstock/AMTB.csv\n",
      "Saved data for symbol AMTD to C:/Users/atlas/OneDrive/Desktop/usstock/AMTD.csv\n",
      "Saved data for symbol AMTX to C:/Users/atlas/OneDrive/Desktop/usstock/AMTX.csv\n",
      "Saved data for symbol AMWD to C:/Users/atlas/OneDrive/Desktop/usstock/AMWD.csv\n",
      "Saved data for symbol AMWL to C:/Users/atlas/OneDrive/Desktop/usstock/AMWL.csv\n",
      "Saved data for symbol AMX to C:/Users/atlas/OneDrive/Desktop/usstock/AMX.csv\n",
      "Saved data for symbol AMZN to C:/Users/atlas/OneDrive/Desktop/usstock/AMZN.csv\n",
      "Saved data for symbol AN to C:/Users/atlas/OneDrive/Desktop/usstock/AN.csv\n",
      "Saved data for symbol ANAB to C:/Users/atlas/OneDrive/Desktop/usstock/ANAB.csv\n",
      "Saved data for symbol ANDE to C:/Users/atlas/OneDrive/Desktop/usstock/ANDE.csv\n",
      "Saved data for symbol ANEB to C:/Users/atlas/OneDrive/Desktop/usstock/ANEB.csv\n",
      "Saved data for symbol ANET to C:/Users/atlas/OneDrive/Desktop/usstock/ANET.csv\n",
      "Saved data for symbol ANF to C:/Users/atlas/OneDrive/Desktop/usstock/ANF.csv\n",
      "Saved data for symbol ANGH to C:/Users/atlas/OneDrive/Desktop/usstock/ANGH.csv\n"
     ]
    },
    {
     "name": "stderr",
     "output_type": "stream",
     "text": [
      "\n",
      "1 Failed download:\n",
      "['ANGHW']: Exception('%ticker%: 1d data not available for startTime=-14831751840 and endTime=1713528279. Only 100 years worth of day granularity data are allowed to be fetched per request.')\n"
     ]
    },
    {
     "name": "stdout",
     "output_type": "stream",
     "text": [
      "Saved data for symbol ANGHW to C:/Users/atlas/OneDrive/Desktop/usstock/ANGHW.csv\n",
      "Saved data for symbol ANGI to C:/Users/atlas/OneDrive/Desktop/usstock/ANGI.csv\n",
      "Saved data for symbol ANGO to C:/Users/atlas/OneDrive/Desktop/usstock/ANGO.csv\n",
      "Saved data for symbol ANIK to C:/Users/atlas/OneDrive/Desktop/usstock/ANIK.csv\n",
      "Saved data for symbol ANIP to C:/Users/atlas/OneDrive/Desktop/usstock/ANIP.csv\n",
      "Saved data for symbol ANIX to C:/Users/atlas/OneDrive/Desktop/usstock/ANIX.csv\n",
      "Saved data for symbol ANL to C:/Users/atlas/OneDrive/Desktop/usstock/ANL.csv\n",
      "Saved data for symbol ANNX to C:/Users/atlas/OneDrive/Desktop/usstock/ANNX.csv\n",
      "Saved data for symbol ANRO to C:/Users/atlas/OneDrive/Desktop/usstock/ANRO.csv\n",
      "Saved data for symbol ANSC to C:/Users/atlas/OneDrive/Desktop/usstock/ANSC.csv\n",
      "Saved data for symbol ANSCU to C:/Users/atlas/OneDrive/Desktop/usstock/ANSCU.csv\n",
      "Saved data for symbol ANSS to C:/Users/atlas/OneDrive/Desktop/usstock/ANSS.csv\n",
      "Saved data for symbol ANTE to C:/Users/atlas/OneDrive/Desktop/usstock/ANTE.csv\n",
      "Saved data for symbol ANTX to C:/Users/atlas/OneDrive/Desktop/usstock/ANTX.csv\n",
      "Saved data for symbol ANVS to C:/Users/atlas/OneDrive/Desktop/usstock/ANVS.csv\n",
      "Saved data for symbol ANY to C:/Users/atlas/OneDrive/Desktop/usstock/ANY.csv\n",
      "Saved data for symbol AOD to C:/Users/atlas/OneDrive/Desktop/usstock/AOD.csv\n",
      "Saved data for symbol AOGO to C:/Users/atlas/OneDrive/Desktop/usstock/AOGO.csv\n"
     ]
    },
    {
     "name": "stderr",
     "output_type": "stream",
     "text": [
      "\n",
      "1 Failed download:\n",
      "['AOGOW']: Exception('%ticker%: 1d data not available for startTime=-14831751840 and endTime=1713528287. Only 100 years worth of day granularity data are allowed to be fetched per request.')\n"
     ]
    },
    {
     "name": "stdout",
     "output_type": "stream",
     "text": [
      "Saved data for symbol AOGOW to C:/Users/atlas/OneDrive/Desktop/usstock/AOGOW.csv\n",
      "Saved data for symbol AOMR to C:/Users/atlas/OneDrive/Desktop/usstock/AOMR.csv\n",
      "Saved data for symbol AON to C:/Users/atlas/OneDrive/Desktop/usstock/AON.csv\n",
      "Saved data for symbol AONC to C:/Users/atlas/OneDrive/Desktop/usstock/AONC.csv\n"
     ]
    },
    {
     "name": "stderr",
     "output_type": "stream",
     "text": [
      "\n",
      "1 Failed download:\n",
      "['AONCW']: Exception('%ticker%: 1d data not available for startTime=-14831751840 and endTime=1713528291. Only 100 years worth of day granularity data are allowed to be fetched per request.')\n"
     ]
    },
    {
     "name": "stdout",
     "output_type": "stream",
     "text": [
      "Saved data for symbol AONCW to C:/Users/atlas/OneDrive/Desktop/usstock/AONCW.csv\n",
      "Saved data for symbol AORT to C:/Users/atlas/OneDrive/Desktop/usstock/AORT.csv\n",
      "Saved data for symbol AOS to C:/Users/atlas/OneDrive/Desktop/usstock/AOS.csv\n",
      "Saved data for symbol AOSL to C:/Users/atlas/OneDrive/Desktop/usstock/AOSL.csv\n",
      "Saved data for symbol AOUT to C:/Users/atlas/OneDrive/Desktop/usstock/AOUT.csv\n",
      "Saved data for symbol AP to C:/Users/atlas/OneDrive/Desktop/usstock/AP.csv\n",
      "Saved data for symbol APA to C:/Users/atlas/OneDrive/Desktop/usstock/APA.csv\n",
      "Saved data for symbol APAM to C:/Users/atlas/OneDrive/Desktop/usstock/APAM.csv\n",
      "Saved data for symbol APCA to C:/Users/atlas/OneDrive/Desktop/usstock/APCA.csv\n",
      "Saved data for symbol APCX to C:/Users/atlas/OneDrive/Desktop/usstock/APCX.csv\n"
     ]
    },
    {
     "name": "stderr",
     "output_type": "stream",
     "text": [
      "\n",
      "1 Failed download:\n",
      "['APCXW']: Exception('%ticker%: 1d data not available for startTime=-14831751840 and endTime=1713528297. Only 100 years worth of day granularity data are allowed to be fetched per request.')\n"
     ]
    },
    {
     "name": "stdout",
     "output_type": "stream",
     "text": [
      "Saved data for symbol APCXW to C:/Users/atlas/OneDrive/Desktop/usstock/APCXW.csv\n",
      "Saved data for symbol APD to C:/Users/atlas/OneDrive/Desktop/usstock/APD.csv\n",
      "Saved data for symbol APDN to C:/Users/atlas/OneDrive/Desktop/usstock/APDN.csv\n",
      "Saved data for symbol APEI to C:/Users/atlas/OneDrive/Desktop/usstock/APEI.csv\n",
      "Saved data for symbol APG to C:/Users/atlas/OneDrive/Desktop/usstock/APG.csv\n",
      "Saved data for symbol APGE to C:/Users/atlas/OneDrive/Desktop/usstock/APGE.csv\n",
      "Saved data for symbol APH to C:/Users/atlas/OneDrive/Desktop/usstock/APH.csv\n",
      "Saved data for symbol API to C:/Users/atlas/OneDrive/Desktop/usstock/API.csv\n",
      "Saved data for symbol APLD to C:/Users/atlas/OneDrive/Desktop/usstock/APLD.csv\n",
      "Saved data for symbol APLE to C:/Users/atlas/OneDrive/Desktop/usstock/APLE.csv\n",
      "Saved data for symbol APLM to C:/Users/atlas/OneDrive/Desktop/usstock/APLM.csv\n",
      "Saved data for symbol APLMW to C:/Users/atlas/OneDrive/Desktop/usstock/APLMW.csv\n",
      "Saved data for symbol APLS to C:/Users/atlas/OneDrive/Desktop/usstock/APLS.csv\n",
      "Saved data for symbol APLT to C:/Users/atlas/OneDrive/Desktop/usstock/APLT.csv\n",
      "Saved data for symbol APM to C:/Users/atlas/OneDrive/Desktop/usstock/APM.csv\n",
      "Saved data for symbol APO to C:/Users/atlas/OneDrive/Desktop/usstock/APO.csv\n"
     ]
    },
    {
     "name": "stderr",
     "output_type": "stream",
     "text": [
      "\n",
      "1 Failed download:\n",
      "['APO^A']: Exception('%ticker%: No timezone found, symbol may be delisted')\n"
     ]
    },
    {
     "name": "stdout",
     "output_type": "stream",
     "text": [
      "Saved data for symbol APO^A to C:/Users/atlas/OneDrive/Desktop/usstock/APO^A.csv\n",
      "Saved data for symbol APOG to C:/Users/atlas/OneDrive/Desktop/usstock/APOG.csv\n",
      "Saved data for symbol APOS to C:/Users/atlas/OneDrive/Desktop/usstock/APOS.csv\n",
      "Saved data for symbol APP to C:/Users/atlas/OneDrive/Desktop/usstock/APP.csv\n",
      "Saved data for symbol APPF to C:/Users/atlas/OneDrive/Desktop/usstock/APPF.csv\n",
      "Saved data for symbol APPN to C:/Users/atlas/OneDrive/Desktop/usstock/APPN.csv\n",
      "Saved data for symbol APPS to C:/Users/atlas/OneDrive/Desktop/usstock/APPS.csv\n",
      "Saved data for symbol APRE to C:/Users/atlas/OneDrive/Desktop/usstock/APRE.csv\n",
      "Saved data for symbol APT to C:/Users/atlas/OneDrive/Desktop/usstock/APT.csv\n",
      "Saved data for symbol APTO to C:/Users/atlas/OneDrive/Desktop/usstock/APTO.csv\n",
      "Saved data for symbol APTV to C:/Users/atlas/OneDrive/Desktop/usstock/APTV.csv\n",
      "Saved data for symbol APVO to C:/Users/atlas/OneDrive/Desktop/usstock/APVO.csv\n",
      "Saved data for symbol APWC to C:/Users/atlas/OneDrive/Desktop/usstock/APWC.csv\n",
      "Saved data for symbol APXI to C:/Users/atlas/OneDrive/Desktop/usstock/APXI.csv\n",
      "Saved data for symbol APXIU to C:/Users/atlas/OneDrive/Desktop/usstock/APXIU.csv\n"
     ]
    },
    {
     "name": "stderr",
     "output_type": "stream",
     "text": [
      "\n",
      "1 Failed download:\n",
      "['APXIW']: Exception('%ticker%: 1d data not available for startTime=-14831751840 and endTime=1713528311. Only 100 years worth of day granularity data are allowed to be fetched per request.')\n"
     ]
    },
    {
     "name": "stdout",
     "output_type": "stream",
     "text": [
      "Saved data for symbol APXIW to C:/Users/atlas/OneDrive/Desktop/usstock/APXIW.csv\n",
      "Saved data for symbol APYX to C:/Users/atlas/OneDrive/Desktop/usstock/APYX.csv\n",
      "Saved data for symbol AQB to C:/Users/atlas/OneDrive/Desktop/usstock/AQB.csv\n",
      "Saved data for symbol AQMS to C:/Users/atlas/OneDrive/Desktop/usstock/AQMS.csv\n",
      "Saved data for symbol AQN to C:/Users/atlas/OneDrive/Desktop/usstock/AQN.csv\n",
      "Saved data for symbol AQNB to C:/Users/atlas/OneDrive/Desktop/usstock/AQNB.csv\n",
      "Saved data for symbol AQNU to C:/Users/atlas/OneDrive/Desktop/usstock/AQNU.csv\n",
      "Saved data for symbol AQST to C:/Users/atlas/OneDrive/Desktop/usstock/AQST.csv\n",
      "Saved data for symbol AQU to C:/Users/atlas/OneDrive/Desktop/usstock/AQU.csv\n",
      "Saved data for symbol AR to C:/Users/atlas/OneDrive/Desktop/usstock/AR.csv\n",
      "Saved data for symbol ARAY to C:/Users/atlas/OneDrive/Desktop/usstock/ARAY.csv\n",
      "Saved data for symbol ARBB to C:/Users/atlas/OneDrive/Desktop/usstock/ARBB.csv\n",
      "Saved data for symbol ARBE to C:/Users/atlas/OneDrive/Desktop/usstock/ARBE.csv\n"
     ]
    },
    {
     "name": "stderr",
     "output_type": "stream",
     "text": [
      "\n",
      "1 Failed download:\n",
      "['ARBEW']: Exception('%ticker%: 1d data not available for startTime=-14831751840 and endTime=1713528316. Only 100 years worth of day granularity data are allowed to be fetched per request.')\n"
     ]
    },
    {
     "name": "stdout",
     "output_type": "stream",
     "text": [
      "Saved data for symbol ARBEW to C:/Users/atlas/OneDrive/Desktop/usstock/ARBEW.csv\n",
      "Saved data for symbol ARBK to C:/Users/atlas/OneDrive/Desktop/usstock/ARBK.csv\n",
      "Saved data for symbol ARBKL to C:/Users/atlas/OneDrive/Desktop/usstock/ARBKL.csv\n",
      "Saved data for symbol ARC to C:/Users/atlas/OneDrive/Desktop/usstock/ARC.csv\n",
      "Saved data for symbol ARCB to C:/Users/atlas/OneDrive/Desktop/usstock/ARCB.csv\n",
      "Saved data for symbol ARCC to C:/Users/atlas/OneDrive/Desktop/usstock/ARCC.csv\n",
      "Saved data for symbol ARCH to C:/Users/atlas/OneDrive/Desktop/usstock/ARCH.csv\n",
      "Saved data for symbol ARCO to C:/Users/atlas/OneDrive/Desktop/usstock/ARCO.csv\n",
      "Saved data for symbol ARCT to C:/Users/atlas/OneDrive/Desktop/usstock/ARCT.csv\n",
      "Saved data for symbol ARDC to C:/Users/atlas/OneDrive/Desktop/usstock/ARDC.csv\n",
      "Saved data for symbol ARDX to C:/Users/atlas/OneDrive/Desktop/usstock/ARDX.csv\n",
      "Saved data for symbol ARE to C:/Users/atlas/OneDrive/Desktop/usstock/ARE.csv\n",
      "Saved data for symbol AREB to C:/Users/atlas/OneDrive/Desktop/usstock/AREB.csv\n"
     ]
    },
    {
     "name": "stderr",
     "output_type": "stream",
     "text": [
      "\n",
      "1 Failed download:\n",
      "['AREBW']: Exception('%ticker%: 1d data not available for startTime=-14831751840 and endTime=1713528322. Only 100 years worth of day granularity data are allowed to be fetched per request.')\n"
     ]
    },
    {
     "name": "stdout",
     "output_type": "stream",
     "text": [
      "Saved data for symbol AREBW to C:/Users/atlas/OneDrive/Desktop/usstock/AREBW.csv\n",
      "Saved data for symbol AREC to C:/Users/atlas/OneDrive/Desktop/usstock/AREC.csv\n",
      "Saved data for symbol AREN to C:/Users/atlas/OneDrive/Desktop/usstock/AREN.csv\n",
      "Saved data for symbol ARES to C:/Users/atlas/OneDrive/Desktop/usstock/ARES.csv\n",
      "Saved data for symbol ARGD to C:/Users/atlas/OneDrive/Desktop/usstock/ARGD.csv\n"
     ]
    },
    {
     "name": "stderr",
     "output_type": "stream",
     "text": [
      "\n",
      "1 Failed download:\n",
      "['ARGO^A']: Exception('%ticker%: No timezone found, symbol may be delisted')\n"
     ]
    },
    {
     "name": "stdout",
     "output_type": "stream",
     "text": [
      "Saved data for symbol ARGO^A to C:/Users/atlas/OneDrive/Desktop/usstock/ARGO^A.csv\n",
      "Saved data for symbol ARGX to C:/Users/atlas/OneDrive/Desktop/usstock/ARGX.csv\n",
      "Saved data for symbol ARHS to C:/Users/atlas/OneDrive/Desktop/usstock/ARHS.csv\n",
      "Saved data for symbol ARI to C:/Users/atlas/OneDrive/Desktop/usstock/ARI.csv\n",
      "Saved data for symbol ARIS to C:/Users/atlas/OneDrive/Desktop/usstock/ARIS.csv\n",
      "Saved data for symbol ARKO to C:/Users/atlas/OneDrive/Desktop/usstock/ARKO.csv\n"
     ]
    },
    {
     "name": "stderr",
     "output_type": "stream",
     "text": [
      "\n",
      "1 Failed download:\n",
      "['ARKOW']: Exception('%ticker%: 1d data not available for startTime=-14831751840 and endTime=1713528330. Only 100 years worth of day granularity data are allowed to be fetched per request.')\n"
     ]
    },
    {
     "name": "stdout",
     "output_type": "stream",
     "text": [
      "Saved data for symbol ARKOW to C:/Users/atlas/OneDrive/Desktop/usstock/ARKOW.csv\n",
      "Saved data for symbol ARKR to C:/Users/atlas/OneDrive/Desktop/usstock/ARKR.csv\n",
      "Saved data for symbol ARL to C:/Users/atlas/OneDrive/Desktop/usstock/ARL.csv\n",
      "Saved data for symbol ARLO to C:/Users/atlas/OneDrive/Desktop/usstock/ARLO.csv\n",
      "Saved data for symbol ARLP to C:/Users/atlas/OneDrive/Desktop/usstock/ARLP.csv\n",
      "Saved data for symbol ARM to C:/Users/atlas/OneDrive/Desktop/usstock/ARM.csv\n",
      "Saved data for symbol ARMK to C:/Users/atlas/OneDrive/Desktop/usstock/ARMK.csv\n",
      "Saved data for symbol ARMN to C:/Users/atlas/OneDrive/Desktop/usstock/ARMN.csv\n",
      "Saved data for symbol ARMP to C:/Users/atlas/OneDrive/Desktop/usstock/ARMP.csv\n",
      "Saved data for symbol AROC to C:/Users/atlas/OneDrive/Desktop/usstock/AROC.csv\n",
      "Saved data for symbol AROW to C:/Users/atlas/OneDrive/Desktop/usstock/AROW.csv\n",
      "Saved data for symbol ARQ to C:/Users/atlas/OneDrive/Desktop/usstock/ARQ.csv\n",
      "Saved data for symbol ARQQ to C:/Users/atlas/OneDrive/Desktop/usstock/ARQQ.csv\n",
      "Saved data for symbol ARQQW to C:/Users/atlas/OneDrive/Desktop/usstock/ARQQW.csv\n",
      "Saved data for symbol ARQT to C:/Users/atlas/OneDrive/Desktop/usstock/ARQT.csv\n",
      "Saved data for symbol ARR to C:/Users/atlas/OneDrive/Desktop/usstock/ARR.csv\n"
     ]
    },
    {
     "name": "stderr",
     "output_type": "stream",
     "text": [
      "\n",
      "1 Failed download:\n",
      "['ARR^C']: Exception('%ticker%: No timezone found, symbol may be delisted')\n"
     ]
    },
    {
     "name": "stdout",
     "output_type": "stream",
     "text": [
      "Saved data for symbol ARR^C to C:/Users/atlas/OneDrive/Desktop/usstock/ARR^C.csv\n",
      "Saved data for symbol ARRY to C:/Users/atlas/OneDrive/Desktop/usstock/ARRY.csv\n",
      "Saved data for symbol ARTL to C:/Users/atlas/OneDrive/Desktop/usstock/ARTL.csv\n"
     ]
    },
    {
     "name": "stderr",
     "output_type": "stream",
     "text": [
      "\n",
      "1 Failed download:\n",
      "['ARTLW']: Exception('%ticker%: 1d data not available for startTime=-14831751840 and endTime=1713528340. Only 100 years worth of day granularity data are allowed to be fetched per request.')\n"
     ]
    },
    {
     "name": "stdout",
     "output_type": "stream",
     "text": [
      "Saved data for symbol ARTLW to C:/Users/atlas/OneDrive/Desktop/usstock/ARTLW.csv\n",
      "Saved data for symbol ARTNA to C:/Users/atlas/OneDrive/Desktop/usstock/ARTNA.csv\n",
      "Saved data for symbol ARTW to C:/Users/atlas/OneDrive/Desktop/usstock/ARTW.csv\n",
      "Saved data for symbol ARVN to C:/Users/atlas/OneDrive/Desktop/usstock/ARVN.csv\n",
      "Saved data for symbol ARW to C:/Users/atlas/OneDrive/Desktop/usstock/ARW.csv\n",
      "Saved data for symbol ARWR to C:/Users/atlas/OneDrive/Desktop/usstock/ARWR.csv\n",
      "Saved data for symbol ARYD to C:/Users/atlas/OneDrive/Desktop/usstock/ARYD.csv\n",
      "Saved data for symbol AS to C:/Users/atlas/OneDrive/Desktop/usstock/AS.csv\n",
      "Saved data for symbol ASA to C:/Users/atlas/OneDrive/Desktop/usstock/ASA.csv\n",
      "Saved data for symbol ASAI to C:/Users/atlas/OneDrive/Desktop/usstock/ASAI.csv\n",
      "Saved data for symbol ASAN to C:/Users/atlas/OneDrive/Desktop/usstock/ASAN.csv\n",
      "Saved data for symbol ASB to C:/Users/atlas/OneDrive/Desktop/usstock/ASB.csv\n"
     ]
    },
    {
     "name": "stderr",
     "output_type": "stream",
     "text": [
      "\n",
      "1 Failed download:\n",
      "['ASB^E']: Exception('%ticker%: No timezone found, symbol may be delisted')\n"
     ]
    },
    {
     "name": "stdout",
     "output_type": "stream",
     "text": [
      "Saved data for symbol ASB^E to C:/Users/atlas/OneDrive/Desktop/usstock/ASB^E.csv\n"
     ]
    },
    {
     "name": "stderr",
     "output_type": "stream",
     "text": [
      "\n",
      "1 Failed download:\n",
      "['ASB^F']: Exception('%ticker%: No timezone found, symbol may be delisted')\n"
     ]
    },
    {
     "name": "stdout",
     "output_type": "stream",
     "text": [
      "Saved data for symbol ASB^F to C:/Users/atlas/OneDrive/Desktop/usstock/ASB^F.csv\n",
      "Saved data for symbol ASBA to C:/Users/atlas/OneDrive/Desktop/usstock/ASBA.csv\n",
      "Saved data for symbol ASC to C:/Users/atlas/OneDrive/Desktop/usstock/ASC.csv\n",
      "Saved data for symbol ASCB to C:/Users/atlas/OneDrive/Desktop/usstock/ASCB.csv\n",
      "Saved data for symbol ASG to C:/Users/atlas/OneDrive/Desktop/usstock/ASG.csv\n",
      "Saved data for symbol ASGI to C:/Users/atlas/OneDrive/Desktop/usstock/ASGI.csv\n",
      "Saved data for symbol ASGN to C:/Users/atlas/OneDrive/Desktop/usstock/ASGN.csv\n",
      "Saved data for symbol ASH to C:/Users/atlas/OneDrive/Desktop/usstock/ASH.csv\n",
      "Saved data for symbol ASIX to C:/Users/atlas/OneDrive/Desktop/usstock/ASIX.csv\n",
      "Saved data for symbol ASLE to C:/Users/atlas/OneDrive/Desktop/usstock/ASLE.csv\n",
      "Saved data for symbol ASLN to C:/Users/atlas/OneDrive/Desktop/usstock/ASLN.csv\n",
      "Saved data for symbol ASM to C:/Users/atlas/OneDrive/Desktop/usstock/ASM.csv\n",
      "Saved data for symbol ASMB to C:/Users/atlas/OneDrive/Desktop/usstock/ASMB.csv\n",
      "Saved data for symbol ASML to C:/Users/atlas/OneDrive/Desktop/usstock/ASML.csv\n",
      "Saved data for symbol ASND to C:/Users/atlas/OneDrive/Desktop/usstock/ASND.csv\n",
      "Saved data for symbol ASNS to C:/Users/atlas/OneDrive/Desktop/usstock/ASNS.csv\n",
      "Saved data for symbol ASO to C:/Users/atlas/OneDrive/Desktop/usstock/ASO.csv\n",
      "Saved data for symbol ASPI to C:/Users/atlas/OneDrive/Desktop/usstock/ASPI.csv\n",
      "Saved data for symbol ASPN to C:/Users/atlas/OneDrive/Desktop/usstock/ASPN.csv\n",
      "Saved data for symbol ASPS to C:/Users/atlas/OneDrive/Desktop/usstock/ASPS.csv\n",
      "Saved data for symbol ASR to C:/Users/atlas/OneDrive/Desktop/usstock/ASR.csv\n",
      "Saved data for symbol ASRT to C:/Users/atlas/OneDrive/Desktop/usstock/ASRT.csv\n",
      "Saved data for symbol ASRV to C:/Users/atlas/OneDrive/Desktop/usstock/ASRV.csv\n",
      "Saved data for symbol ASST to C:/Users/atlas/OneDrive/Desktop/usstock/ASST.csv\n",
      "Saved data for symbol ASTC to C:/Users/atlas/OneDrive/Desktop/usstock/ASTC.csv\n",
      "Saved data for symbol ASTE to C:/Users/atlas/OneDrive/Desktop/usstock/ASTE.csv\n",
      "Saved data for symbol ASTH to C:/Users/atlas/OneDrive/Desktop/usstock/ASTH.csv\n",
      "Saved data for symbol ASTI to C:/Users/atlas/OneDrive/Desktop/usstock/ASTI.csv\n",
      "Saved data for symbol ASTL to C:/Users/atlas/OneDrive/Desktop/usstock/ASTL.csv\n"
     ]
    },
    {
     "name": "stderr",
     "output_type": "stream",
     "text": [
      "\n",
      "1 Failed download:\n",
      "['ASTLW']: Exception('%ticker%: 1d data not available for startTime=-14831751840 and endTime=1713528361. Only 100 years worth of day granularity data are allowed to be fetched per request.')\n"
     ]
    },
    {
     "name": "stdout",
     "output_type": "stream",
     "text": [
      "Saved data for symbol ASTLW to C:/Users/atlas/OneDrive/Desktop/usstock/ASTLW.csv\n",
      "Saved data for symbol ASTR to C:/Users/atlas/OneDrive/Desktop/usstock/ASTR.csv\n",
      "Saved data for symbol ASTS to C:/Users/atlas/OneDrive/Desktop/usstock/ASTS.csv\n"
     ]
    },
    {
     "name": "stderr",
     "output_type": "stream",
     "text": [
      "\n",
      "1 Failed download:\n",
      "['ASTSW']: Exception('%ticker%: 1d data not available for startTime=-14831751840 and endTime=1713528364. Only 100 years worth of day granularity data are allowed to be fetched per request.')\n"
     ]
    },
    {
     "name": "stdout",
     "output_type": "stream",
     "text": [
      "Saved data for symbol ASTSW to C:/Users/atlas/OneDrive/Desktop/usstock/ASTSW.csv\n",
      "Saved data for symbol ASUR to C:/Users/atlas/OneDrive/Desktop/usstock/ASUR.csv\n",
      "Saved data for symbol ASX to C:/Users/atlas/OneDrive/Desktop/usstock/ASX.csv\n",
      "Saved data for symbol ASXC to C:/Users/atlas/OneDrive/Desktop/usstock/ASXC.csv\n",
      "Saved data for symbol ASYS to C:/Users/atlas/OneDrive/Desktop/usstock/ASYS.csv\n",
      "Saved data for symbol ATAI to C:/Users/atlas/OneDrive/Desktop/usstock/ATAI.csv\n",
      "Saved data for symbol ATAT to C:/Users/atlas/OneDrive/Desktop/usstock/ATAT.csv\n",
      "Saved data for symbol ATCH to C:/Users/atlas/OneDrive/Desktop/usstock/ATCH.csv\n"
     ]
    },
    {
     "name": "stderr",
     "output_type": "stream",
     "text": [
      "\n",
      "1 Failed download:\n",
      "['ATCO^D']: Exception('%ticker%: No timezone found, symbol may be delisted')\n"
     ]
    },
    {
     "name": "stdout",
     "output_type": "stream",
     "text": [
      "Saved data for symbol ATCO^D to C:/Users/atlas/OneDrive/Desktop/usstock/ATCO^D.csv\n"
     ]
    },
    {
     "name": "stderr",
     "output_type": "stream",
     "text": [
      "\n",
      "1 Failed download:\n",
      "['ATCO^H']: Exception('%ticker%: No timezone found, symbol may be delisted')\n"
     ]
    },
    {
     "name": "stdout",
     "output_type": "stream",
     "text": [
      "Saved data for symbol ATCO^H to C:/Users/atlas/OneDrive/Desktop/usstock/ATCO^H.csv\n",
      "Saved data for symbol ATCOL to C:/Users/atlas/OneDrive/Desktop/usstock/ATCOL.csv\n",
      "Saved data for symbol ATEC to C:/Users/atlas/OneDrive/Desktop/usstock/ATEC.csv\n",
      "Saved data for symbol ATEK to C:/Users/atlas/OneDrive/Desktop/usstock/ATEK.csv\n",
      "Saved data for symbol ATEN to C:/Users/atlas/OneDrive/Desktop/usstock/ATEN.csv\n",
      "Saved data for symbol ATER to C:/Users/atlas/OneDrive/Desktop/usstock/ATER.csv\n",
      "Saved data for symbol ATEX to C:/Users/atlas/OneDrive/Desktop/usstock/ATEX.csv\n",
      "Saved data for symbol ATGE to C:/Users/atlas/OneDrive/Desktop/usstock/ATGE.csv\n",
      "Saved data for symbol ATGL to C:/Users/atlas/OneDrive/Desktop/usstock/ATGL.csv\n"
     ]
    },
    {
     "name": "stderr",
     "output_type": "stream",
     "text": [
      "\n",
      "1 Failed download:\n",
      "['ATH^A']: Exception('%ticker%: No timezone found, symbol may be delisted')\n"
     ]
    },
    {
     "name": "stdout",
     "output_type": "stream",
     "text": [
      "Saved data for symbol ATH^A to C:/Users/atlas/OneDrive/Desktop/usstock/ATH^A.csv\n"
     ]
    },
    {
     "name": "stderr",
     "output_type": "stream",
     "text": [
      "\n",
      "1 Failed download:\n",
      "['ATH^B']: Exception('%ticker%: No timezone found, symbol may be delisted')\n"
     ]
    },
    {
     "name": "stdout",
     "output_type": "stream",
     "text": [
      "Saved data for symbol ATH^B to C:/Users/atlas/OneDrive/Desktop/usstock/ATH^B.csv\n"
     ]
    },
    {
     "name": "stderr",
     "output_type": "stream",
     "text": [
      "\n",
      "1 Failed download:\n",
      "['ATH^C']: Exception('%ticker%: No timezone found, symbol may be delisted')\n"
     ]
    },
    {
     "name": "stdout",
     "output_type": "stream",
     "text": [
      "Saved data for symbol ATH^C to C:/Users/atlas/OneDrive/Desktop/usstock/ATH^C.csv\n"
     ]
    },
    {
     "name": "stderr",
     "output_type": "stream",
     "text": [
      "\n",
      "1 Failed download:\n",
      "['ATH^D']: Exception('%ticker%: No timezone found, symbol may be delisted')\n"
     ]
    },
    {
     "name": "stdout",
     "output_type": "stream",
     "text": [
      "Saved data for symbol ATH^D to C:/Users/atlas/OneDrive/Desktop/usstock/ATH^D.csv\n"
     ]
    },
    {
     "name": "stderr",
     "output_type": "stream",
     "text": [
      "\n",
      "1 Failed download:\n",
      "['ATH^E']: Exception('%ticker%: No timezone found, symbol may be delisted')\n"
     ]
    },
    {
     "name": "stdout",
     "output_type": "stream",
     "text": [
      "Saved data for symbol ATH^E to C:/Users/atlas/OneDrive/Desktop/usstock/ATH^E.csv\n",
      "Saved data for symbol ATHA to C:/Users/atlas/OneDrive/Desktop/usstock/ATHA.csv\n",
      "Saved data for symbol ATHE to C:/Users/atlas/OneDrive/Desktop/usstock/ATHE.csv\n",
      "Saved data for symbol ATHM to C:/Users/atlas/OneDrive/Desktop/usstock/ATHM.csv\n",
      "Saved data for symbol ATHS to C:/Users/atlas/OneDrive/Desktop/usstock/ATHS.csv\n",
      "Saved data for symbol ATI to C:/Users/atlas/OneDrive/Desktop/usstock/ATI.csv\n",
      "Saved data for symbol ATIF to C:/Users/atlas/OneDrive/Desktop/usstock/ATIF.csv\n",
      "Saved data for symbol ATIP to C:/Users/atlas/OneDrive/Desktop/usstock/ATIP.csv\n",
      "Saved data for symbol ATKR to C:/Users/atlas/OneDrive/Desktop/usstock/ATKR.csv\n",
      "Saved data for symbol ATLC to C:/Users/atlas/OneDrive/Desktop/usstock/ATLC.csv\n",
      "Saved data for symbol ATLCL to C:/Users/atlas/OneDrive/Desktop/usstock/ATLCL.csv\n",
      "Saved data for symbol ATLCP to C:/Users/atlas/OneDrive/Desktop/usstock/ATLCP.csv\n",
      "Saved data for symbol ATLCZ to C:/Users/atlas/OneDrive/Desktop/usstock/ATLCZ.csv\n",
      "Saved data for symbol ATLO to C:/Users/atlas/OneDrive/Desktop/usstock/ATLO.csv\n",
      "Saved data for symbol ATLX to C:/Users/atlas/OneDrive/Desktop/usstock/ATLX.csv\n",
      "Saved data for symbol ATMC to C:/Users/atlas/OneDrive/Desktop/usstock/ATMC.csv\n"
     ]
    },
    {
     "name": "stderr",
     "output_type": "stream",
     "text": [
      "\n",
      "1 Failed download:\n",
      "['ATMCR']: Exception('%ticker%: 1d data not available for startTime=-14831751840 and endTime=1713528388. Only 100 years worth of day granularity data are allowed to be fetched per request.')\n"
     ]
    },
    {
     "name": "stdout",
     "output_type": "stream",
     "text": [
      "Saved data for symbol ATMCR to C:/Users/atlas/OneDrive/Desktop/usstock/ATMCR.csv\n",
      "Saved data for symbol ATMU to C:/Users/atlas/OneDrive/Desktop/usstock/ATMU.csv\n",
      "Saved data for symbol ATMV to C:/Users/atlas/OneDrive/Desktop/usstock/ATMV.csv\n",
      "Saved data for symbol ATMVU to C:/Users/atlas/OneDrive/Desktop/usstock/ATMVU.csv\n",
      "Saved data for symbol ATNF to C:/Users/atlas/OneDrive/Desktop/usstock/ATNF.csv\n"
     ]
    },
    {
     "name": "stderr",
     "output_type": "stream",
     "text": [
      "\n",
      "1 Failed download:\n",
      "['ATNFW']: Exception('%ticker%: 1d data not available for startTime=-14831751840 and endTime=1713528391. Only 100 years worth of day granularity data are allowed to be fetched per request.')\n"
     ]
    },
    {
     "name": "stdout",
     "output_type": "stream",
     "text": [
      "Saved data for symbol ATNFW to C:/Users/atlas/OneDrive/Desktop/usstock/ATNFW.csv\n",
      "Saved data for symbol ATNI to C:/Users/atlas/OneDrive/Desktop/usstock/ATNI.csv\n",
      "Saved data for symbol ATNM to C:/Users/atlas/OneDrive/Desktop/usstock/ATNM.csv\n",
      "Saved data for symbol ATO to C:/Users/atlas/OneDrive/Desktop/usstock/ATO.csv\n",
      "Saved data for symbol ATOM to C:/Users/atlas/OneDrive/Desktop/usstock/ATOM.csv\n",
      "Saved data for symbol ATOS to C:/Users/atlas/OneDrive/Desktop/usstock/ATOS.csv\n",
      "Saved data for symbol ATPC to C:/Users/atlas/OneDrive/Desktop/usstock/ATPC.csv\n",
      "Saved data for symbol ATR to C:/Users/atlas/OneDrive/Desktop/usstock/ATR.csv\n",
      "Saved data for symbol ATRA to C:/Users/atlas/OneDrive/Desktop/usstock/ATRA.csv\n",
      "Saved data for symbol ATRC to C:/Users/atlas/OneDrive/Desktop/usstock/ATRC.csv\n",
      "Saved data for symbol ATRI to C:/Users/atlas/OneDrive/Desktop/usstock/ATRI.csv\n",
      "Saved data for symbol ATRO to C:/Users/atlas/OneDrive/Desktop/usstock/ATRO.csv\n",
      "Saved data for symbol ATS to C:/Users/atlas/OneDrive/Desktop/usstock/ATS.csv\n",
      "Saved data for symbol ATSG to C:/Users/atlas/OneDrive/Desktop/usstock/ATSG.csv\n",
      "Saved data for symbol ATUS to C:/Users/atlas/OneDrive/Desktop/usstock/ATUS.csv\n",
      "Saved data for symbol ATXG to C:/Users/atlas/OneDrive/Desktop/usstock/ATXG.csv\n",
      "Saved data for symbol ATXI to C:/Users/atlas/OneDrive/Desktop/usstock/ATXI.csv\n",
      "Saved data for symbol ATXS to C:/Users/atlas/OneDrive/Desktop/usstock/ATXS.csv\n",
      "Saved data for symbol AU to C:/Users/atlas/OneDrive/Desktop/usstock/AU.csv\n",
      "Saved data for symbol AUB to C:/Users/atlas/OneDrive/Desktop/usstock/AUB.csv\n"
     ]
    },
    {
     "name": "stderr",
     "output_type": "stream",
     "text": [
      "\n",
      "1 Failed download:\n",
      "['AUB^A']: Exception('%ticker%: No timezone found, symbol may be delisted')\n"
     ]
    },
    {
     "name": "stdout",
     "output_type": "stream",
     "text": [
      "Saved data for symbol AUB^A to C:/Users/atlas/OneDrive/Desktop/usstock/AUB^A.csv\n",
      "Saved data for symbol AUBN to C:/Users/atlas/OneDrive/Desktop/usstock/AUBN.csv\n",
      "Saved data for symbol AUDC to C:/Users/atlas/OneDrive/Desktop/usstock/AUDC.csv\n",
      "Saved data for symbol AUGX to C:/Users/atlas/OneDrive/Desktop/usstock/AUGX.csv\n",
      "Saved data for symbol AUID to C:/Users/atlas/OneDrive/Desktop/usstock/AUID.csv\n",
      "Saved data for symbol AULT to C:/Users/atlas/OneDrive/Desktop/usstock/AULT.csv\n"
     ]
    },
    {
     "name": "stderr",
     "output_type": "stream",
     "text": [
      "\n",
      "1 Failed download:\n",
      "['AULT^D']: Exception('%ticker%: No timezone found, symbol may be delisted')\n"
     ]
    },
    {
     "name": "stdout",
     "output_type": "stream",
     "text": [
      "Saved data for symbol AULT^D to C:/Users/atlas/OneDrive/Desktop/usstock/AULT^D.csv\n",
      "Saved data for symbol AUMN to C:/Users/atlas/OneDrive/Desktop/usstock/AUMN.csv\n",
      "Saved data for symbol AUNA to C:/Users/atlas/OneDrive/Desktop/usstock/AUNA.csv\n",
      "Saved data for symbol AUPH to C:/Users/atlas/OneDrive/Desktop/usstock/AUPH.csv\n",
      "Saved data for symbol AUR to C:/Users/atlas/OneDrive/Desktop/usstock/AUR.csv\n",
      "Saved data for symbol AURA to C:/Users/atlas/OneDrive/Desktop/usstock/AURA.csv\n"
     ]
    },
    {
     "name": "stderr",
     "output_type": "stream",
     "text": [
      "\n",
      "1 Failed download:\n",
      "['AUROW']: Exception('%ticker%: 1d data not available for startTime=-14831751840 and endTime=1713528408. Only 100 years worth of day granularity data are allowed to be fetched per request.')\n"
     ]
    },
    {
     "name": "stdout",
     "output_type": "stream",
     "text": [
      "Saved data for symbol AUROW to C:/Users/atlas/OneDrive/Desktop/usstock/AUROW.csv\n",
      "Saved data for symbol AUST to C:/Users/atlas/OneDrive/Desktop/usstock/AUST.csv\n",
      "Saved data for symbol AUTL to C:/Users/atlas/OneDrive/Desktop/usstock/AUTL.csv\n",
      "Saved data for symbol AUUD to C:/Users/atlas/OneDrive/Desktop/usstock/AUUD.csv\n"
     ]
    },
    {
     "name": "stderr",
     "output_type": "stream",
     "text": [
      "\n",
      "1 Failed download:\n",
      "['AUUDW']: Exception('%ticker%: 1d data not available for startTime=-14831751840 and endTime=1713528411. Only 100 years worth of day granularity data are allowed to be fetched per request.')\n"
     ]
    },
    {
     "name": "stdout",
     "output_type": "stream",
     "text": [
      "Saved data for symbol AUUDW to C:/Users/atlas/OneDrive/Desktop/usstock/AUUDW.csv\n",
      "Saved data for symbol AUVI to C:/Users/atlas/OneDrive/Desktop/usstock/AUVI.csv\n",
      "Saved data for symbol AUVIP to C:/Users/atlas/OneDrive/Desktop/usstock/AUVIP.csv\n",
      "Saved data for symbol AVA to C:/Users/atlas/OneDrive/Desktop/usstock/AVA.csv\n",
      "Saved data for symbol AVAH to C:/Users/atlas/OneDrive/Desktop/usstock/AVAH.csv\n",
      "Saved data for symbol AVAL to C:/Users/atlas/OneDrive/Desktop/usstock/AVAL.csv\n",
      "Saved data for symbol AVAV to C:/Users/atlas/OneDrive/Desktop/usstock/AVAV.csv\n",
      "Saved data for symbol AVB to C:/Users/atlas/OneDrive/Desktop/usstock/AVB.csv\n",
      "Saved data for symbol AVBP to C:/Users/atlas/OneDrive/Desktop/usstock/AVBP.csv\n",
      "Saved data for symbol AVD to C:/Users/atlas/OneDrive/Desktop/usstock/AVD.csv\n",
      "Saved data for symbol AVDL to C:/Users/atlas/OneDrive/Desktop/usstock/AVDL.csv\n",
      "Saved data for symbol AVDX to C:/Users/atlas/OneDrive/Desktop/usstock/AVDX.csv\n",
      "Saved data for symbol AVGO to C:/Users/atlas/OneDrive/Desktop/usstock/AVGO.csv\n",
      "Saved data for symbol AVGR to C:/Users/atlas/OneDrive/Desktop/usstock/AVGR.csv\n",
      "Saved data for symbol AVIR to C:/Users/atlas/OneDrive/Desktop/usstock/AVIR.csv\n",
      "Saved data for symbol AVK to C:/Users/atlas/OneDrive/Desktop/usstock/AVK.csv\n",
      "Saved data for symbol AVNS to C:/Users/atlas/OneDrive/Desktop/usstock/AVNS.csv\n",
      "Saved data for symbol AVNT to C:/Users/atlas/OneDrive/Desktop/usstock/AVNT.csv\n",
      "Saved data for symbol AVNW to C:/Users/atlas/OneDrive/Desktop/usstock/AVNW.csv\n",
      "Saved data for symbol AVO to C:/Users/atlas/OneDrive/Desktop/usstock/AVO.csv\n",
      "Saved data for symbol AVPT to C:/Users/atlas/OneDrive/Desktop/usstock/AVPT.csv\n"
     ]
    },
    {
     "name": "stderr",
     "output_type": "stream",
     "text": [
      "\n",
      "1 Failed download:\n",
      "['AVPTW']: Exception('%ticker%: 1d data not available for startTime=-14831751840 and endTime=1713528420. Only 100 years worth of day granularity data are allowed to be fetched per request.')\n"
     ]
    },
    {
     "name": "stdout",
     "output_type": "stream",
     "text": [
      "Saved data for symbol AVPTW to C:/Users/atlas/OneDrive/Desktop/usstock/AVPTW.csv\n",
      "Saved data for symbol AVRO to C:/Users/atlas/OneDrive/Desktop/usstock/AVRO.csv\n",
      "Saved data for symbol AVT to C:/Users/atlas/OneDrive/Desktop/usstock/AVT.csv\n",
      "Saved data for symbol AVTE to C:/Users/atlas/OneDrive/Desktop/usstock/AVTE.csv\n",
      "Saved data for symbol AVTR to C:/Users/atlas/OneDrive/Desktop/usstock/AVTR.csv\n",
      "Saved data for symbol AVTX to C:/Users/atlas/OneDrive/Desktop/usstock/AVTX.csv\n",
      "Saved data for symbol AVXL to C:/Users/atlas/OneDrive/Desktop/usstock/AVXL.csv\n",
      "Saved data for symbol AVY to C:/Users/atlas/OneDrive/Desktop/usstock/AVY.csv\n",
      "Saved data for symbol AWF to C:/Users/atlas/OneDrive/Desktop/usstock/AWF.csv\n",
      "Saved data for symbol AWH to C:/Users/atlas/OneDrive/Desktop/usstock/AWH.csv\n",
      "Saved data for symbol AWI to C:/Users/atlas/OneDrive/Desktop/usstock/AWI.csv\n",
      "Saved data for symbol AWIN to C:/Users/atlas/OneDrive/Desktop/usstock/AWIN.csv\n"
     ]
    },
    {
     "name": "stderr",
     "output_type": "stream",
     "text": [
      "\n",
      "1 Failed download:\n",
      "['AWINW']: Exception('%ticker%: 1d data not available for startTime=-14831751840 and endTime=1713528426. Only 100 years worth of day granularity data are allowed to be fetched per request.')\n"
     ]
    },
    {
     "name": "stdout",
     "output_type": "stream",
     "text": [
      "Saved data for symbol AWINW to C:/Users/atlas/OneDrive/Desktop/usstock/AWINW.csv\n",
      "Saved data for symbol AWK to C:/Users/atlas/OneDrive/Desktop/usstock/AWK.csv\n",
      "Saved data for symbol AWP to C:/Users/atlas/OneDrive/Desktop/usstock/AWP.csv\n",
      "Saved data for symbol AWR to C:/Users/atlas/OneDrive/Desktop/usstock/AWR.csv\n",
      "Saved data for symbol AWRE to C:/Users/atlas/OneDrive/Desktop/usstock/AWRE.csv\n",
      "Saved data for symbol AWX to C:/Users/atlas/OneDrive/Desktop/usstock/AWX.csv\n",
      "Saved data for symbol AX to C:/Users/atlas/OneDrive/Desktop/usstock/AX.csv\n",
      "Saved data for symbol AXDX to C:/Users/atlas/OneDrive/Desktop/usstock/AXDX.csv\n",
      "Saved data for symbol AXGN to C:/Users/atlas/OneDrive/Desktop/usstock/AXGN.csv\n",
      "Saved data for symbol AXIL to C:/Users/atlas/OneDrive/Desktop/usstock/AXIL.csv\n",
      "Saved data for symbol AXL to C:/Users/atlas/OneDrive/Desktop/usstock/AXL.csv\n",
      "Saved data for symbol AXNX to C:/Users/atlas/OneDrive/Desktop/usstock/AXNX.csv\n",
      "Saved data for symbol AXON to C:/Users/atlas/OneDrive/Desktop/usstock/AXON.csv\n",
      "Saved data for symbol AXP to C:/Users/atlas/OneDrive/Desktop/usstock/AXP.csv\n",
      "Saved data for symbol AXR to C:/Users/atlas/OneDrive/Desktop/usstock/AXR.csv\n",
      "Saved data for symbol AXS to C:/Users/atlas/OneDrive/Desktop/usstock/AXS.csv\n"
     ]
    },
    {
     "name": "stderr",
     "output_type": "stream",
     "text": [
      "\n",
      "1 Failed download:\n",
      "['AXS^E']: Exception('%ticker%: No timezone found, symbol may be delisted')\n"
     ]
    },
    {
     "name": "stdout",
     "output_type": "stream",
     "text": [
      "Saved data for symbol AXS^E to C:/Users/atlas/OneDrive/Desktop/usstock/AXS^E.csv\n",
      "Saved data for symbol AXSM to C:/Users/atlas/OneDrive/Desktop/usstock/AXSM.csv\n",
      "Saved data for symbol AXTA to C:/Users/atlas/OneDrive/Desktop/usstock/AXTA.csv\n",
      "Saved data for symbol AXTI to C:/Users/atlas/OneDrive/Desktop/usstock/AXTI.csv\n",
      "Saved data for symbol AY to C:/Users/atlas/OneDrive/Desktop/usstock/AY.csv\n",
      "Saved data for symbol AYI to C:/Users/atlas/OneDrive/Desktop/usstock/AYI.csv\n",
      "Saved data for symbol AYRO to C:/Users/atlas/OneDrive/Desktop/usstock/AYRO.csv\n",
      "Saved data for symbol AYTU to C:/Users/atlas/OneDrive/Desktop/usstock/AYTU.csv\n",
      "Saved data for symbol AZ to C:/Users/atlas/OneDrive/Desktop/usstock/AZ.csv\n",
      "Saved data for symbol AZEK to C:/Users/atlas/OneDrive/Desktop/usstock/AZEK.csv\n",
      "Saved data for symbol AZN to C:/Users/atlas/OneDrive/Desktop/usstock/AZN.csv\n",
      "Saved data for symbol AZO to C:/Users/atlas/OneDrive/Desktop/usstock/AZO.csv\n",
      "Saved data for symbol AZPN to C:/Users/atlas/OneDrive/Desktop/usstock/AZPN.csv\n",
      "Saved data for symbol AZTA to C:/Users/atlas/OneDrive/Desktop/usstock/AZTA.csv\n",
      "Saved data for symbol AZTR to C:/Users/atlas/OneDrive/Desktop/usstock/AZTR.csv\n",
      "Saved data for symbol AZUL to C:/Users/atlas/OneDrive/Desktop/usstock/AZUL.csv\n",
      "Saved data for symbol AZZ to C:/Users/atlas/OneDrive/Desktop/usstock/AZZ.csv\n",
      "Saved data for symbol B to C:/Users/atlas/OneDrive/Desktop/usstock/B.csv\n",
      "Saved data for symbol BA to C:/Users/atlas/OneDrive/Desktop/usstock/BA.csv\n",
      "Saved data for symbol BABA to C:/Users/atlas/OneDrive/Desktop/usstock/BABA.csv\n",
      "Saved data for symbol BAC to C:/Users/atlas/OneDrive/Desktop/usstock/BAC.csv\n"
     ]
    },
    {
     "name": "stderr",
     "output_type": "stream",
     "text": [
      "\n",
      "1 Failed download:\n",
      "['BAC^B']: Exception('%ticker%: No timezone found, symbol may be delisted')\n"
     ]
    },
    {
     "name": "stdout",
     "output_type": "stream",
     "text": [
      "Saved data for symbol BAC^B to C:/Users/atlas/OneDrive/Desktop/usstock/BAC^B.csv\n"
     ]
    },
    {
     "name": "stderr",
     "output_type": "stream",
     "text": [
      "\n",
      "1 Failed download:\n",
      "['BAC^E']: Exception('%ticker%: No timezone found, symbol may be delisted')\n"
     ]
    },
    {
     "name": "stdout",
     "output_type": "stream",
     "text": [
      "Saved data for symbol BAC^E to C:/Users/atlas/OneDrive/Desktop/usstock/BAC^E.csv\n"
     ]
    },
    {
     "name": "stderr",
     "output_type": "stream",
     "text": [
      "\n",
      "1 Failed download:\n",
      "['BAC^K']: Exception('%ticker%: No timezone found, symbol may be delisted')\n"
     ]
    },
    {
     "name": "stdout",
     "output_type": "stream",
     "text": [
      "Saved data for symbol BAC^K to C:/Users/atlas/OneDrive/Desktop/usstock/BAC^K.csv\n"
     ]
    },
    {
     "name": "stderr",
     "output_type": "stream",
     "text": [
      "\n",
      "1 Failed download:\n",
      "['BAC^L']: Exception('%ticker%: No timezone found, symbol may be delisted')\n"
     ]
    },
    {
     "name": "stdout",
     "output_type": "stream",
     "text": [
      "Saved data for symbol BAC^L to C:/Users/atlas/OneDrive/Desktop/usstock/BAC^L.csv\n"
     ]
    },
    {
     "name": "stderr",
     "output_type": "stream",
     "text": [
      "\n",
      "1 Failed download:\n",
      "['BAC^M']: Exception('%ticker%: No timezone found, symbol may be delisted')\n"
     ]
    },
    {
     "name": "stdout",
     "output_type": "stream",
     "text": [
      "Saved data for symbol BAC^M to C:/Users/atlas/OneDrive/Desktop/usstock/BAC^M.csv\n"
     ]
    },
    {
     "name": "stderr",
     "output_type": "stream",
     "text": [
      "\n",
      "1 Failed download:\n",
      "['BAC^N']: Exception('%ticker%: No timezone found, symbol may be delisted')\n"
     ]
    },
    {
     "name": "stdout",
     "output_type": "stream",
     "text": [
      "Saved data for symbol BAC^N to C:/Users/atlas/OneDrive/Desktop/usstock/BAC^N.csv\n"
     ]
    },
    {
     "name": "stderr",
     "output_type": "stream",
     "text": [
      "\n",
      "1 Failed download:\n",
      "['BAC^O']: Exception('%ticker%: No timezone found, symbol may be delisted')\n"
     ]
    },
    {
     "name": "stdout",
     "output_type": "stream",
     "text": [
      "Saved data for symbol BAC^O to C:/Users/atlas/OneDrive/Desktop/usstock/BAC^O.csv\n"
     ]
    },
    {
     "name": "stderr",
     "output_type": "stream",
     "text": [
      "\n",
      "1 Failed download:\n",
      "['BAC^P']: Exception('%ticker%: No timezone found, symbol may be delisted')\n"
     ]
    },
    {
     "name": "stdout",
     "output_type": "stream",
     "text": [
      "Saved data for symbol BAC^P to C:/Users/atlas/OneDrive/Desktop/usstock/BAC^P.csv\n"
     ]
    },
    {
     "name": "stderr",
     "output_type": "stream",
     "text": [
      "\n",
      "1 Failed download:\n",
      "['BAC^Q']: Exception('%ticker%: No timezone found, symbol may be delisted')\n"
     ]
    },
    {
     "name": "stdout",
     "output_type": "stream",
     "text": [
      "Saved data for symbol BAC^Q to C:/Users/atlas/OneDrive/Desktop/usstock/BAC^Q.csv\n"
     ]
    },
    {
     "name": "stderr",
     "output_type": "stream",
     "text": [
      "\n",
      "1 Failed download:\n",
      "['BAC^S']: Exception('%ticker%: No timezone found, symbol may be delisted')\n"
     ]
    },
    {
     "name": "stdout",
     "output_type": "stream",
     "text": [
      "Saved data for symbol BAC^S to C:/Users/atlas/OneDrive/Desktop/usstock/BAC^S.csv\n",
      "Saved data for symbol BACA to C:/Users/atlas/OneDrive/Desktop/usstock/BACA.csv\n",
      "Saved data for symbol BACK to C:/Users/atlas/OneDrive/Desktop/usstock/BACK.csv\n",
      "Saved data for symbol BAER to C:/Users/atlas/OneDrive/Desktop/usstock/BAER.csv\n"
     ]
    },
    {
     "name": "stderr",
     "output_type": "stream",
     "text": [
      "\n",
      "1 Failed download:\n",
      "['BAERW']: Exception('%ticker%: 1d data not available for startTime=-14831751840 and endTime=1713528465. Only 100 years worth of day granularity data are allowed to be fetched per request.')\n"
     ]
    },
    {
     "name": "stdout",
     "output_type": "stream",
     "text": [
      "Saved data for symbol BAERW to C:/Users/atlas/OneDrive/Desktop/usstock/BAERW.csv\n",
      "Saved data for symbol BAFN to C:/Users/atlas/OneDrive/Desktop/usstock/BAFN.csv\n",
      "Saved data for symbol BAH to C:/Users/atlas/OneDrive/Desktop/usstock/BAH.csv\n",
      "Saved data for symbol BAK to C:/Users/atlas/OneDrive/Desktop/usstock/BAK.csv\n",
      "Saved data for symbol BALL to C:/Users/atlas/OneDrive/Desktop/usstock/BALL.csv\n",
      "Saved data for symbol BALY to C:/Users/atlas/OneDrive/Desktop/usstock/BALY.csv\n",
      "Saved data for symbol BAM to C:/Users/atlas/OneDrive/Desktop/usstock/BAM.csv\n",
      "Saved data for symbol BANC to C:/Users/atlas/OneDrive/Desktop/usstock/BANC.csv\n"
     ]
    },
    {
     "name": "stderr",
     "output_type": "stream",
     "text": [
      "\n",
      "1 Failed download:\n",
      "['BANC^F']: Exception('%ticker%: No timezone found, symbol may be delisted')\n"
     ]
    },
    {
     "name": "stdout",
     "output_type": "stream",
     "text": [
      "Saved data for symbol BANC^F to C:/Users/atlas/OneDrive/Desktop/usstock/BANC^F.csv\n",
      "Saved data for symbol BAND to C:/Users/atlas/OneDrive/Desktop/usstock/BAND.csv\n",
      "Saved data for symbol BANF to C:/Users/atlas/OneDrive/Desktop/usstock/BANF.csv\n",
      "Saved data for symbol BANFP to C:/Users/atlas/OneDrive/Desktop/usstock/BANFP.csv\n",
      "Saved data for symbol BANL to C:/Users/atlas/OneDrive/Desktop/usstock/BANL.csv\n",
      "Saved data for symbol BANR to C:/Users/atlas/OneDrive/Desktop/usstock/BANR.csv\n",
      "Saved data for symbol BANX to C:/Users/atlas/OneDrive/Desktop/usstock/BANX.csv\n",
      "Saved data for symbol BAOS to C:/Users/atlas/OneDrive/Desktop/usstock/BAOS.csv\n",
      "Saved data for symbol BAP to C:/Users/atlas/OneDrive/Desktop/usstock/BAP.csv\n",
      "Saved data for symbol BARK to C:/Users/atlas/OneDrive/Desktop/usstock/BARK.csv\n",
      "Saved data for symbol BASE to C:/Users/atlas/OneDrive/Desktop/usstock/BASE.csv\n",
      "Saved data for symbol BATL to C:/Users/atlas/OneDrive/Desktop/usstock/BATL.csv\n",
      "Saved data for symbol BATRA to C:/Users/atlas/OneDrive/Desktop/usstock/BATRA.csv\n",
      "Saved data for symbol BATRK to C:/Users/atlas/OneDrive/Desktop/usstock/BATRK.csv\n",
      "Saved data for symbol BAX to C:/Users/atlas/OneDrive/Desktop/usstock/BAX.csv\n",
      "Saved data for symbol BAYA to C:/Users/atlas/OneDrive/Desktop/usstock/BAYA.csv\n",
      "Saved data for symbol BB to C:/Users/atlas/OneDrive/Desktop/usstock/BB.csv\n",
      "Saved data for symbol BBAI to C:/Users/atlas/OneDrive/Desktop/usstock/BBAI.csv\n",
      "Saved data for symbol BBAR to C:/Users/atlas/OneDrive/Desktop/usstock/BBAR.csv\n",
      "Saved data for symbol BBCP to C:/Users/atlas/OneDrive/Desktop/usstock/BBCP.csv\n",
      "Saved data for symbol BBD to C:/Users/atlas/OneDrive/Desktop/usstock/BBD.csv\n",
      "Saved data for symbol BBDC to C:/Users/atlas/OneDrive/Desktop/usstock/BBDC.csv\n",
      "Saved data for symbol BBDO to C:/Users/atlas/OneDrive/Desktop/usstock/BBDO.csv\n",
      "Saved data for symbol BBGI to C:/Users/atlas/OneDrive/Desktop/usstock/BBGI.csv\n",
      "Saved data for symbol BBIO to C:/Users/atlas/OneDrive/Desktop/usstock/BBIO.csv\n",
      "Saved data for symbol BBLG to C:/Users/atlas/OneDrive/Desktop/usstock/BBLG.csv\n",
      "Saved data for symbol BBLGW to C:/Users/atlas/OneDrive/Desktop/usstock/BBLGW.csv\n",
      "Saved data for symbol BBN to C:/Users/atlas/OneDrive/Desktop/usstock/BBN.csv\n",
      "Saved data for symbol BBSI to C:/Users/atlas/OneDrive/Desktop/usstock/BBSI.csv\n",
      "Saved data for symbol BBU to C:/Users/atlas/OneDrive/Desktop/usstock/BBU.csv\n",
      "Saved data for symbol BBUC to C:/Users/atlas/OneDrive/Desktop/usstock/BBUC.csv\n",
      "Saved data for symbol BBVA to C:/Users/atlas/OneDrive/Desktop/usstock/BBVA.csv\n",
      "Saved data for symbol BBW to C:/Users/atlas/OneDrive/Desktop/usstock/BBW.csv\n",
      "Saved data for symbol BBWI to C:/Users/atlas/OneDrive/Desktop/usstock/BBWI.csv\n",
      "Saved data for symbol BBY to C:/Users/atlas/OneDrive/Desktop/usstock/BBY.csv\n",
      "Saved data for symbol BC to C:/Users/atlas/OneDrive/Desktop/usstock/BC.csv\n"
     ]
    },
    {
     "name": "stderr",
     "output_type": "stream",
     "text": [
      "\n",
      "1 Failed download:\n",
      "['BC^A']: Exception('%ticker%: No timezone found, symbol may be delisted')\n"
     ]
    },
    {
     "name": "stdout",
     "output_type": "stream",
     "text": [
      "Saved data for symbol BC^A to C:/Users/atlas/OneDrive/Desktop/usstock/BC^A.csv\n"
     ]
    },
    {
     "name": "stderr",
     "output_type": "stream",
     "text": [
      "\n",
      "1 Failed download:\n",
      "['BC^B']: Exception('%ticker%: No timezone found, symbol may be delisted')\n"
     ]
    },
    {
     "name": "stdout",
     "output_type": "stream",
     "text": [
      "Saved data for symbol BC^B to C:/Users/atlas/OneDrive/Desktop/usstock/BC^B.csv\n"
     ]
    },
    {
     "name": "stderr",
     "output_type": "stream",
     "text": [
      "\n",
      "1 Failed download:\n",
      "['BC^C']: Exception('%ticker%: No timezone found, symbol may be delisted')\n"
     ]
    },
    {
     "name": "stdout",
     "output_type": "stream",
     "text": [
      "Saved data for symbol BC^C to C:/Users/atlas/OneDrive/Desktop/usstock/BC^C.csv\n",
      "Saved data for symbol BCAB to C:/Users/atlas/OneDrive/Desktop/usstock/BCAB.csv\n",
      "Saved data for symbol BCAL to C:/Users/atlas/OneDrive/Desktop/usstock/BCAL.csv\n",
      "Saved data for symbol BCAN to C:/Users/atlas/OneDrive/Desktop/usstock/BCAN.csv\n",
      "Saved data for symbol BCAT to C:/Users/atlas/OneDrive/Desktop/usstock/BCAT.csv\n",
      "Saved data for symbol BCBP to C:/Users/atlas/OneDrive/Desktop/usstock/BCBP.csv\n",
      "Saved data for symbol BCC to C:/Users/atlas/OneDrive/Desktop/usstock/BCC.csv\n",
      "Saved data for symbol BCDA to C:/Users/atlas/OneDrive/Desktop/usstock/BCDA.csv\n"
     ]
    },
    {
     "name": "stderr",
     "output_type": "stream",
     "text": [
      "\n",
      "1 Failed download:\n",
      "['BCDAW']: Exception('%ticker%: 1d data not available for startTime=-14831751840 and endTime=1713528494. Only 100 years worth of day granularity data are allowed to be fetched per request.')\n"
     ]
    },
    {
     "name": "stdout",
     "output_type": "stream",
     "text": [
      "Saved data for symbol BCDAW to C:/Users/atlas/OneDrive/Desktop/usstock/BCDAW.csv\n",
      "Saved data for symbol BCE to C:/Users/atlas/OneDrive/Desktop/usstock/BCE.csv\n",
      "Saved data for symbol BCG to C:/Users/atlas/OneDrive/Desktop/usstock/BCG.csv\n"
     ]
    },
    {
     "name": "stderr",
     "output_type": "stream",
     "text": [
      "\n",
      "1 Failed download:\n",
      "['BCGWW']: Exception('%ticker%: 1d data not available for startTime=-14831751840 and endTime=1713528496. Only 100 years worth of day granularity data are allowed to be fetched per request.')\n"
     ]
    },
    {
     "name": "stdout",
     "output_type": "stream",
     "text": [
      "Saved data for symbol BCGWW to C:/Users/atlas/OneDrive/Desktop/usstock/BCGWW.csv\n",
      "Saved data for symbol BCH to C:/Users/atlas/OneDrive/Desktop/usstock/BCH.csv\n",
      "Saved data for symbol BCLI to C:/Users/atlas/OneDrive/Desktop/usstock/BCLI.csv\n",
      "Saved data for symbol BCML to C:/Users/atlas/OneDrive/Desktop/usstock/BCML.csv\n",
      "Saved data for symbol BCO to C:/Users/atlas/OneDrive/Desktop/usstock/BCO.csv\n",
      "Saved data for symbol BCOV to C:/Users/atlas/OneDrive/Desktop/usstock/BCOV.csv\n",
      "Saved data for symbol BCOW to C:/Users/atlas/OneDrive/Desktop/usstock/BCOW.csv\n",
      "Saved data for symbol BCPC to C:/Users/atlas/OneDrive/Desktop/usstock/BCPC.csv\n",
      "Saved data for symbol BCRX to C:/Users/atlas/OneDrive/Desktop/usstock/BCRX.csv\n",
      "Saved data for symbol BCS to C:/Users/atlas/OneDrive/Desktop/usstock/BCS.csv\n",
      "Saved data for symbol BCSA to C:/Users/atlas/OneDrive/Desktop/usstock/BCSA.csv\n",
      "Saved data for symbol BCSAU to C:/Users/atlas/OneDrive/Desktop/usstock/BCSAU.csv\n"
     ]
    },
    {
     "name": "stderr",
     "output_type": "stream",
     "text": [
      "\n",
      "1 Failed download:\n",
      "['BCSAW']: Exception('%ticker%: 1d data not available for startTime=-14831751840 and endTime=1713528503. Only 100 years worth of day granularity data are allowed to be fetched per request.')\n"
     ]
    },
    {
     "name": "stdout",
     "output_type": "stream",
     "text": [
      "Saved data for symbol BCSAW to C:/Users/atlas/OneDrive/Desktop/usstock/BCSAW.csv\n",
      "Saved data for symbol BCSF to C:/Users/atlas/OneDrive/Desktop/usstock/BCSF.csv\n",
      "Saved data for symbol BCTX to C:/Users/atlas/OneDrive/Desktop/usstock/BCTX.csv\n"
     ]
    },
    {
     "name": "stderr",
     "output_type": "stream",
     "text": [
      "\n",
      "1 Failed download:\n",
      "['BCTXW']: Exception('%ticker%: 1d data not available for startTime=-14831751840 and endTime=1713528506. Only 100 years worth of day granularity data are allowed to be fetched per request.')\n"
     ]
    },
    {
     "name": "stdout",
     "output_type": "stream",
     "text": [
      "Saved data for symbol BCTXW to C:/Users/atlas/OneDrive/Desktop/usstock/BCTXW.csv\n",
      "Saved data for symbol BCV to C:/Users/atlas/OneDrive/Desktop/usstock/BCV.csv\n"
     ]
    },
    {
     "name": "stderr",
     "output_type": "stream",
     "text": [
      "\n",
      "1 Failed download:\n",
      "['BCV^A']: Exception('%ticker%: No timezone found, symbol may be delisted')\n"
     ]
    },
    {
     "name": "stdout",
     "output_type": "stream",
     "text": [
      "Saved data for symbol BCV^A to C:/Users/atlas/OneDrive/Desktop/usstock/BCV^A.csv\n",
      "Saved data for symbol BCX to C:/Users/atlas/OneDrive/Desktop/usstock/BCX.csv\n",
      "Saved data for symbol BCYC to C:/Users/atlas/OneDrive/Desktop/usstock/BCYC.csv\n",
      "Saved data for symbol BDC to C:/Users/atlas/OneDrive/Desktop/usstock/BDC.csv\n",
      "Saved data for symbol BDJ to C:/Users/atlas/OneDrive/Desktop/usstock/BDJ.csv\n",
      "Saved data for symbol BDL to C:/Users/atlas/OneDrive/Desktop/usstock/BDL.csv\n",
      "Saved data for symbol BDN to C:/Users/atlas/OneDrive/Desktop/usstock/BDN.csv\n",
      "Saved data for symbol BDRX to C:/Users/atlas/OneDrive/Desktop/usstock/BDRX.csv\n",
      "Saved data for symbol BDSX to C:/Users/atlas/OneDrive/Desktop/usstock/BDSX.csv\n",
      "Saved data for symbol BDTX to C:/Users/atlas/OneDrive/Desktop/usstock/BDTX.csv\n",
      "Saved data for symbol BDX to C:/Users/atlas/OneDrive/Desktop/usstock/BDX.csv\n",
      "Saved data for symbol BE to C:/Users/atlas/OneDrive/Desktop/usstock/BE.csv\n",
      "Saved data for symbol BEAM to C:/Users/atlas/OneDrive/Desktop/usstock/BEAM.csv\n",
      "Saved data for symbol BEAT to C:/Users/atlas/OneDrive/Desktop/usstock/BEAT.csv\n"
     ]
    },
    {
     "name": "stderr",
     "output_type": "stream",
     "text": [
      "\n",
      "1 Failed download:\n",
      "['BEATW']: Exception('%ticker%: 1d data not available for startTime=-14831751840 and endTime=1713528516. Only 100 years worth of day granularity data are allowed to be fetched per request.')\n"
     ]
    },
    {
     "name": "stdout",
     "output_type": "stream",
     "text": [
      "Saved data for symbol BEATW to C:/Users/atlas/OneDrive/Desktop/usstock/BEATW.csv\n",
      "Saved data for symbol BECN to C:/Users/atlas/OneDrive/Desktop/usstock/BECN.csv\n",
      "Saved data for symbol BEDU to C:/Users/atlas/OneDrive/Desktop/usstock/BEDU.csv\n",
      "Saved data for symbol BEEM to C:/Users/atlas/OneDrive/Desktop/usstock/BEEM.csv\n",
      "Saved data for symbol BEEP to C:/Users/atlas/OneDrive/Desktop/usstock/BEEP.csv\n",
      "Saved data for symbol BEKE to C:/Users/atlas/OneDrive/Desktop/usstock/BEKE.csv\n",
      "Saved data for symbol BELFA to C:/Users/atlas/OneDrive/Desktop/usstock/BELFA.csv\n",
      "Saved data for symbol BELFB to C:/Users/atlas/OneDrive/Desktop/usstock/BELFB.csv\n",
      "Saved data for symbol BEN to C:/Users/atlas/OneDrive/Desktop/usstock/BEN.csv\n",
      "Saved data for symbol BENF to C:/Users/atlas/OneDrive/Desktop/usstock/BENF.csv\n"
     ]
    },
    {
     "name": "stderr",
     "output_type": "stream",
     "text": [
      "\n",
      "1 Failed download:\n",
      "['BENFW']: Exception('%ticker%: 1d data not available for startTime=-14831751840 and endTime=1713528522. Only 100 years worth of day granularity data are allowed to be fetched per request.')\n"
     ]
    },
    {
     "name": "stdout",
     "output_type": "stream",
     "text": [
      "Saved data for symbol BENFW to C:/Users/atlas/OneDrive/Desktop/usstock/BENFW.csv\n",
      "Saved data for symbol BEP to C:/Users/atlas/OneDrive/Desktop/usstock/BEP.csv\n"
     ]
    },
    {
     "name": "stderr",
     "output_type": "stream",
     "text": [
      "\n",
      "1 Failed download:\n",
      "['BEP^A']: Exception('%ticker%: No timezone found, symbol may be delisted')\n"
     ]
    },
    {
     "name": "stdout",
     "output_type": "stream",
     "text": [
      "Saved data for symbol BEP^A to C:/Users/atlas/OneDrive/Desktop/usstock/BEP^A.csv\n",
      "Saved data for symbol BEPC to C:/Users/atlas/OneDrive/Desktop/usstock/BEPC.csv\n",
      "Saved data for symbol BEPH to C:/Users/atlas/OneDrive/Desktop/usstock/BEPH.csv\n",
      "Saved data for symbol BEPI to C:/Users/atlas/OneDrive/Desktop/usstock/BEPI.csv\n",
      "Saved data for symbol BEPJ to C:/Users/atlas/OneDrive/Desktop/usstock/BEPJ.csv\n",
      "Saved data for symbol BERY to C:/Users/atlas/OneDrive/Desktop/usstock/BERY.csv\n",
      "Saved data for symbol BEST to C:/Users/atlas/OneDrive/Desktop/usstock/BEST.csv\n",
      "Saved data for symbol BETR to C:/Users/atlas/OneDrive/Desktop/usstock/BETR.csv\n"
     ]
    },
    {
     "name": "stderr",
     "output_type": "stream",
     "text": [
      "\n",
      "1 Failed download:\n",
      "['BETRW']: Exception('%ticker%: 1d data not available for startTime=-14831751840 and endTime=1713528528. Only 100 years worth of day granularity data are allowed to be fetched per request.')\n"
     ]
    },
    {
     "name": "stdout",
     "output_type": "stream",
     "text": [
      "Saved data for symbol BETRW to C:/Users/atlas/OneDrive/Desktop/usstock/BETRW.csv\n"
     ]
    },
    {
     "name": "stderr",
     "output_type": "stream",
     "text": [
      "Failed to get ticker 'BF/A' reason: Expecting value: line 1 column 1 (char 0)\n",
      "\n",
      "1 Failed download:\n",
      "['BF/A']: Exception('%ticker%: No timezone found, symbol may be delisted')\n"
     ]
    },
    {
     "name": "stdout",
     "output_type": "stream",
     "text": [
      "Error occurred while downloading data for symbol BF/A: Cannot save file into a non-existent directory: 'C:\\Users\\atlas\\OneDrive\\Desktop\\usstock\\BF'\n"
     ]
    },
    {
     "name": "stderr",
     "output_type": "stream",
     "text": [
      "Failed to get ticker 'BF/B' reason: Expecting value: line 1 column 1 (char 0)\n",
      "\n",
      "1 Failed download:\n",
      "['BF/B']: Exception('%ticker%: No timezone found, symbol may be delisted')\n"
     ]
    },
    {
     "name": "stdout",
     "output_type": "stream",
     "text": [
      "Error occurred while downloading data for symbol BF/B: Cannot save file into a non-existent directory: 'C:\\Users\\atlas\\OneDrive\\Desktop\\usstock\\BF'\n",
      "Saved data for symbol BFAC to C:/Users/atlas/OneDrive/Desktop/usstock/BFAC.csv\n",
      "Saved data for symbol BFAM to C:/Users/atlas/OneDrive/Desktop/usstock/BFAM.csv\n",
      "Saved data for symbol BFC to C:/Users/atlas/OneDrive/Desktop/usstock/BFC.csv\n",
      "Saved data for symbol BFH to C:/Users/atlas/OneDrive/Desktop/usstock/BFH.csv\n",
      "Saved data for symbol BFI to C:/Users/atlas/OneDrive/Desktop/usstock/BFI.csv\n"
     ]
    },
    {
     "name": "stderr",
     "output_type": "stream",
     "text": [
      "\n",
      "1 Failed download:\n",
      "['BFIIW']: Exception('%ticker%: 1d data not available for startTime=-14831751840 and endTime=1713528535. Only 100 years worth of day granularity data are allowed to be fetched per request.')\n"
     ]
    },
    {
     "name": "stdout",
     "output_type": "stream",
     "text": [
      "Saved data for symbol BFIIW to C:/Users/atlas/OneDrive/Desktop/usstock/BFIIW.csv\n",
      "Saved data for symbol BFIN to C:/Users/atlas/OneDrive/Desktop/usstock/BFIN.csv\n",
      "Saved data for symbol BFK to C:/Users/atlas/OneDrive/Desktop/usstock/BFK.csv\n",
      "Saved data for symbol BFLY to C:/Users/atlas/OneDrive/Desktop/usstock/BFLY.csv\n",
      "Saved data for symbol BFRG to C:/Users/atlas/OneDrive/Desktop/usstock/BFRG.csv\n"
     ]
    },
    {
     "name": "stderr",
     "output_type": "stream",
     "text": [
      "\n",
      "1 Failed download:\n",
      "['BFRGW']: Exception('%ticker%: 1d data not available for startTime=-14831751840 and endTime=1713528538. Only 100 years worth of day granularity data are allowed to be fetched per request.')\n"
     ]
    },
    {
     "name": "stdout",
     "output_type": "stream",
     "text": [
      "Saved data for symbol BFRGW to C:/Users/atlas/OneDrive/Desktop/usstock/BFRGW.csv\n",
      "Saved data for symbol BFRI to C:/Users/atlas/OneDrive/Desktop/usstock/BFRI.csv\n"
     ]
    },
    {
     "name": "stderr",
     "output_type": "stream",
     "text": [
      "\n",
      "1 Failed download:\n",
      "['BFRIW']: Exception('%ticker%: 1d data not available for startTime=-14831751840 and endTime=1713528540. Only 100 years worth of day granularity data are allowed to be fetched per request.')\n"
     ]
    },
    {
     "name": "stdout",
     "output_type": "stream",
     "text": [
      "Saved data for symbol BFRIW to C:/Users/atlas/OneDrive/Desktop/usstock/BFRIW.csv\n",
      "Saved data for symbol BFS to C:/Users/atlas/OneDrive/Desktop/usstock/BFS.csv\n"
     ]
    },
    {
     "name": "stderr",
     "output_type": "stream",
     "text": [
      "\n",
      "1 Failed download:\n",
      "['BFS^D']: Exception('%ticker%: No timezone found, symbol may be delisted')\n"
     ]
    },
    {
     "name": "stdout",
     "output_type": "stream",
     "text": [
      "Saved data for symbol BFS^D to C:/Users/atlas/OneDrive/Desktop/usstock/BFS^D.csv\n"
     ]
    },
    {
     "name": "stderr",
     "output_type": "stream",
     "text": [
      "\n",
      "1 Failed download:\n",
      "['BFS^E']: Exception('%ticker%: No timezone found, symbol may be delisted')\n"
     ]
    },
    {
     "name": "stdout",
     "output_type": "stream",
     "text": [
      "Saved data for symbol BFS^E to C:/Users/atlas/OneDrive/Desktop/usstock/BFS^E.csv\n",
      "Saved data for symbol BFST to C:/Users/atlas/OneDrive/Desktop/usstock/BFST.csv\n",
      "Saved data for symbol BFZ to C:/Users/atlas/OneDrive/Desktop/usstock/BFZ.csv\n",
      "Saved data for symbol BG to C:/Users/atlas/OneDrive/Desktop/usstock/BG.csv\n",
      "Saved data for symbol BGB to C:/Users/atlas/OneDrive/Desktop/usstock/BGB.csv\n",
      "Saved data for symbol BGC to C:/Users/atlas/OneDrive/Desktop/usstock/BGC.csv\n",
      "Saved data for symbol BGFV to C:/Users/atlas/OneDrive/Desktop/usstock/BGFV.csv\n",
      "Saved data for symbol BGH to C:/Users/atlas/OneDrive/Desktop/usstock/BGH.csv\n",
      "Saved data for symbol BGI to C:/Users/atlas/OneDrive/Desktop/usstock/BGI.csv\n",
      "Saved data for symbol BGLC to C:/Users/atlas/OneDrive/Desktop/usstock/BGLC.csv\n",
      "Saved data for symbol BGNE to C:/Users/atlas/OneDrive/Desktop/usstock/BGNE.csv\n",
      "Saved data for symbol BGR to C:/Users/atlas/OneDrive/Desktop/usstock/BGR.csv\n",
      "Saved data for symbol BGS to C:/Users/atlas/OneDrive/Desktop/usstock/BGS.csv\n",
      "Saved data for symbol BGSF to C:/Users/atlas/OneDrive/Desktop/usstock/BGSF.csv\n",
      "Saved data for symbol BGT to C:/Users/atlas/OneDrive/Desktop/usstock/BGT.csv\n",
      "Saved data for symbol BGX to C:/Users/atlas/OneDrive/Desktop/usstock/BGX.csv\n",
      "Saved data for symbol BGXX to C:/Users/atlas/OneDrive/Desktop/usstock/BGXX.csv\n",
      "Saved data for symbol BGY to C:/Users/atlas/OneDrive/Desktop/usstock/BGY.csv\n",
      "Saved data for symbol BH to C:/Users/atlas/OneDrive/Desktop/usstock/BH.csv\n",
      "Saved data for symbol BHAC to C:/Users/atlas/OneDrive/Desktop/usstock/BHAC.csv\n"
     ]
    },
    {
     "name": "stderr",
     "output_type": "stream",
     "text": [
      "\n",
      "1 Failed download:\n",
      "['BHACW']: Exception('%ticker%: 1d data not available for startTime=-14831751840 and endTime=1713528553. Only 100 years worth of day granularity data are allowed to be fetched per request.')\n"
     ]
    },
    {
     "name": "stdout",
     "output_type": "stream",
     "text": [
      "Saved data for symbol BHACW to C:/Users/atlas/OneDrive/Desktop/usstock/BHACW.csv\n",
      "Saved data for symbol BHAT to C:/Users/atlas/OneDrive/Desktop/usstock/BHAT.csv\n",
      "Saved data for symbol BHB to C:/Users/atlas/OneDrive/Desktop/usstock/BHB.csv\n",
      "Saved data for symbol BHC to C:/Users/atlas/OneDrive/Desktop/usstock/BHC.csv\n",
      "Saved data for symbol BHE to C:/Users/atlas/OneDrive/Desktop/usstock/BHE.csv\n",
      "Saved data for symbol BHF to C:/Users/atlas/OneDrive/Desktop/usstock/BHF.csv\n",
      "Saved data for symbol BHFAL to C:/Users/atlas/OneDrive/Desktop/usstock/BHFAL.csv\n",
      "Saved data for symbol BHFAM to C:/Users/atlas/OneDrive/Desktop/usstock/BHFAM.csv\n",
      "Saved data for symbol BHFAN to C:/Users/atlas/OneDrive/Desktop/usstock/BHFAN.csv\n",
      "Saved data for symbol BHFAO to C:/Users/atlas/OneDrive/Desktop/usstock/BHFAO.csv\n",
      "Saved data for symbol BHFAP to C:/Users/atlas/OneDrive/Desktop/usstock/BHFAP.csv\n",
      "Saved data for symbol BHIL to C:/Users/atlas/OneDrive/Desktop/usstock/BHIL.csv\n",
      "Saved data for symbol BHK to C:/Users/atlas/OneDrive/Desktop/usstock/BHK.csv\n",
      "Saved data for symbol BHLB to C:/Users/atlas/OneDrive/Desktop/usstock/BHLB.csv\n",
      "Saved data for symbol BHM to C:/Users/atlas/OneDrive/Desktop/usstock/BHM.csv\n",
      "Saved data for symbol BHP to C:/Users/atlas/OneDrive/Desktop/usstock/BHP.csv\n",
      "Saved data for symbol BHR to C:/Users/atlas/OneDrive/Desktop/usstock/BHR.csv\n"
     ]
    },
    {
     "name": "stderr",
     "output_type": "stream",
     "text": [
      "\n",
      "1 Failed download:\n",
      "['BHR^B']: Exception('%ticker%: No timezone found, symbol may be delisted')\n"
     ]
    },
    {
     "name": "stdout",
     "output_type": "stream",
     "text": [
      "Saved data for symbol BHR^B to C:/Users/atlas/OneDrive/Desktop/usstock/BHR^B.csv\n"
     ]
    },
    {
     "name": "stderr",
     "output_type": "stream",
     "text": [
      "\n",
      "1 Failed download:\n",
      "['BHR^D']: Exception('%ticker%: No timezone found, symbol may be delisted')\n"
     ]
    },
    {
     "name": "stdout",
     "output_type": "stream",
     "text": [
      "Saved data for symbol BHR^D to C:/Users/atlas/OneDrive/Desktop/usstock/BHR^D.csv\n",
      "Saved data for symbol BHRB to C:/Users/atlas/OneDrive/Desktop/usstock/BHRB.csv\n",
      "Saved data for symbol BHV to C:/Users/atlas/OneDrive/Desktop/usstock/BHV.csv\n",
      "Saved data for symbol BHVN to C:/Users/atlas/OneDrive/Desktop/usstock/BHVN.csv\n",
      "Saved data for symbol BIAF to C:/Users/atlas/OneDrive/Desktop/usstock/BIAF.csv\n"
     ]
    },
    {
     "name": "stderr",
     "output_type": "stream",
     "text": [
      "\n",
      "1 Failed download:\n",
      "['BIAFW']: Exception('%ticker%: 1d data not available for startTime=-14831751840 and endTime=1713528566. Only 100 years worth of day granularity data are allowed to be fetched per request.')\n"
     ]
    },
    {
     "name": "stdout",
     "output_type": "stream",
     "text": [
      "Saved data for symbol BIAFW to C:/Users/atlas/OneDrive/Desktop/usstock/BIAFW.csv\n",
      "Saved data for symbol BIDU to C:/Users/atlas/OneDrive/Desktop/usstock/BIDU.csv\n",
      "Saved data for symbol BIG to C:/Users/atlas/OneDrive/Desktop/usstock/BIG.csv\n",
      "Saved data for symbol BIGC to C:/Users/atlas/OneDrive/Desktop/usstock/BIGC.csv\n",
      "Saved data for symbol BIGZ to C:/Users/atlas/OneDrive/Desktop/usstock/BIGZ.csv\n",
      "Saved data for symbol BIIB to C:/Users/atlas/OneDrive/Desktop/usstock/BIIB.csv\n",
      "Saved data for symbol BILI to C:/Users/atlas/OneDrive/Desktop/usstock/BILI.csv\n",
      "Saved data for symbol BILL to C:/Users/atlas/OneDrive/Desktop/usstock/BILL.csv\n",
      "Saved data for symbol BIMI to C:/Users/atlas/OneDrive/Desktop/usstock/BIMI.csv\n",
      "Saved data for symbol BIO to C:/Users/atlas/OneDrive/Desktop/usstock/BIO.csv\n"
     ]
    },
    {
     "name": "stderr",
     "output_type": "stream",
     "text": [
      "Failed to get ticker 'BIO/B' reason: Expecting value: line 1 column 1 (char 0)\n",
      "\n",
      "1 Failed download:\n",
      "['BIO/B']: Exception('%ticker%: No timezone found, symbol may be delisted')\n"
     ]
    },
    {
     "name": "stdout",
     "output_type": "stream",
     "text": [
      "Error occurred while downloading data for symbol BIO/B: Cannot save file into a non-existent directory: 'C:\\Users\\atlas\\OneDrive\\Desktop\\usstock\\BIO'\n",
      "Saved data for symbol BIOL to C:/Users/atlas/OneDrive/Desktop/usstock/BIOL.csv\n",
      "Saved data for symbol BIOR to C:/Users/atlas/OneDrive/Desktop/usstock/BIOR.csv\n",
      "Saved data for symbol BIOX to C:/Users/atlas/OneDrive/Desktop/usstock/BIOX.csv\n",
      "Saved data for symbol BIP to C:/Users/atlas/OneDrive/Desktop/usstock/BIP.csv\n"
     ]
    },
    {
     "name": "stderr",
     "output_type": "stream",
     "text": [
      "\n",
      "1 Failed download:\n",
      "['BIP^A']: Exception('%ticker%: No timezone found, symbol may be delisted')\n"
     ]
    },
    {
     "name": "stdout",
     "output_type": "stream",
     "text": [
      "Saved data for symbol BIP^A to C:/Users/atlas/OneDrive/Desktop/usstock/BIP^A.csv\n"
     ]
    },
    {
     "name": "stderr",
     "output_type": "stream",
     "text": [
      "\n",
      "1 Failed download:\n",
      "['BIP^B']: Exception('%ticker%: No timezone found, symbol may be delisted')\n"
     ]
    },
    {
     "name": "stdout",
     "output_type": "stream",
     "text": [
      "Saved data for symbol BIP^B to C:/Users/atlas/OneDrive/Desktop/usstock/BIP^B.csv\n",
      "Saved data for symbol BIPC to C:/Users/atlas/OneDrive/Desktop/usstock/BIPC.csv\n",
      "Saved data for symbol BIPH to C:/Users/atlas/OneDrive/Desktop/usstock/BIPH.csv\n",
      "Saved data for symbol BIPI to C:/Users/atlas/OneDrive/Desktop/usstock/BIPI.csv\n",
      "Saved data for symbol BIRD to C:/Users/atlas/OneDrive/Desktop/usstock/BIRD.csv\n",
      "Saved data for symbol BIRK to C:/Users/atlas/OneDrive/Desktop/usstock/BIRK.csv\n",
      "Saved data for symbol BIT to C:/Users/atlas/OneDrive/Desktop/usstock/BIT.csv\n",
      "Saved data for symbol BITE to C:/Users/atlas/OneDrive/Desktop/usstock/BITE.csv\n",
      "Saved data for symbol BITF to C:/Users/atlas/OneDrive/Desktop/usstock/BITF.csv\n",
      "Saved data for symbol BIVI to C:/Users/atlas/OneDrive/Desktop/usstock/BIVI.csv\n",
      "Saved data for symbol BJ to C:/Users/atlas/OneDrive/Desktop/usstock/BJ.csv\n",
      "Saved data for symbol BJDX to C:/Users/atlas/OneDrive/Desktop/usstock/BJDX.csv\n",
      "Saved data for symbol BJRI to C:/Users/atlas/OneDrive/Desktop/usstock/BJRI.csv\n",
      "Saved data for symbol BK to C:/Users/atlas/OneDrive/Desktop/usstock/BK.csv\n",
      "Saved data for symbol BKD to C:/Users/atlas/OneDrive/Desktop/usstock/BKD.csv\n",
      "Saved data for symbol BKDT to C:/Users/atlas/OneDrive/Desktop/usstock/BKDT.csv\n",
      "Saved data for symbol BKE to C:/Users/atlas/OneDrive/Desktop/usstock/BKE.csv\n",
      "Saved data for symbol BKH to C:/Users/atlas/OneDrive/Desktop/usstock/BKH.csv\n",
      "Saved data for symbol BKHAU to C:/Users/atlas/OneDrive/Desktop/usstock/BKHAU.csv\n",
      "Saved data for symbol BKKT to C:/Users/atlas/OneDrive/Desktop/usstock/BKKT.csv\n",
      "Saved data for symbol BKN to C:/Users/atlas/OneDrive/Desktop/usstock/BKN.csv\n",
      "Saved data for symbol BKNG to C:/Users/atlas/OneDrive/Desktop/usstock/BKNG.csv\n",
      "Saved data for symbol BKR to C:/Users/atlas/OneDrive/Desktop/usstock/BKR.csv\n",
      "Saved data for symbol BKSY to C:/Users/atlas/OneDrive/Desktop/usstock/BKSY.csv\n",
      "Saved data for symbol BKT to C:/Users/atlas/OneDrive/Desktop/usstock/BKT.csv\n",
      "Saved data for symbol BKTI to C:/Users/atlas/OneDrive/Desktop/usstock/BKTI.csv\n",
      "Saved data for symbol BKU to C:/Users/atlas/OneDrive/Desktop/usstock/BKU.csv\n",
      "Saved data for symbol BKYI to C:/Users/atlas/OneDrive/Desktop/usstock/BKYI.csv\n",
      "Saved data for symbol BL to C:/Users/atlas/OneDrive/Desktop/usstock/BL.csv\n",
      "Saved data for symbol BLAC to C:/Users/atlas/OneDrive/Desktop/usstock/BLAC.csv\n",
      "Saved data for symbol BLBD to C:/Users/atlas/OneDrive/Desktop/usstock/BLBD.csv\n",
      "Saved data for symbol BLBX to C:/Users/atlas/OneDrive/Desktop/usstock/BLBX.csv\n",
      "Saved data for symbol BLCO to C:/Users/atlas/OneDrive/Desktop/usstock/BLCO.csv\n",
      "Saved data for symbol BLD to C:/Users/atlas/OneDrive/Desktop/usstock/BLD.csv\n",
      "Saved data for symbol BLDE to C:/Users/atlas/OneDrive/Desktop/usstock/BLDE.csv\n"
     ]
    },
    {
     "name": "stderr",
     "output_type": "stream",
     "text": [
      "\n",
      "1 Failed download:\n",
      "['BLDEW']: Exception('%ticker%: 1d data not available for startTime=-14831751840 and endTime=1713528592. Only 100 years worth of day granularity data are allowed to be fetched per request.')\n"
     ]
    },
    {
     "name": "stdout",
     "output_type": "stream",
     "text": [
      "Saved data for symbol BLDEW to C:/Users/atlas/OneDrive/Desktop/usstock/BLDEW.csv\n",
      "Saved data for symbol BLDP to C:/Users/atlas/OneDrive/Desktop/usstock/BLDP.csv\n",
      "Saved data for symbol BLDR to C:/Users/atlas/OneDrive/Desktop/usstock/BLDR.csv\n",
      "Saved data for symbol BLE to C:/Users/atlas/OneDrive/Desktop/usstock/BLE.csv\n",
      "Saved data for symbol BLEU to C:/Users/atlas/OneDrive/Desktop/usstock/BLEU.csv\n",
      "Saved data for symbol BLFS to C:/Users/atlas/OneDrive/Desktop/usstock/BLFS.csv\n",
      "Saved data for symbol BLFY to C:/Users/atlas/OneDrive/Desktop/usstock/BLFY.csv\n",
      "Saved data for symbol BLIN to C:/Users/atlas/OneDrive/Desktop/usstock/BLIN.csv\n",
      "Saved data for symbol BLK to C:/Users/atlas/OneDrive/Desktop/usstock/BLK.csv\n",
      "Saved data for symbol BLKB to C:/Users/atlas/OneDrive/Desktop/usstock/BLKB.csv\n",
      "Saved data for symbol BLMN to C:/Users/atlas/OneDrive/Desktop/usstock/BLMN.csv\n",
      "Saved data for symbol BLND to C:/Users/atlas/OneDrive/Desktop/usstock/BLND.csv\n",
      "Saved data for symbol BLNK to C:/Users/atlas/OneDrive/Desktop/usstock/BLNK.csv\n",
      "Saved data for symbol BLRX to C:/Users/atlas/OneDrive/Desktop/usstock/BLRX.csv\n",
      "Saved data for symbol BLTE to C:/Users/atlas/OneDrive/Desktop/usstock/BLTE.csv\n",
      "Saved data for symbol BLUA to C:/Users/atlas/OneDrive/Desktop/usstock/BLUA.csv\n",
      "Saved data for symbol BLUE to C:/Users/atlas/OneDrive/Desktop/usstock/BLUE.csv\n",
      "Saved data for symbol BLW to C:/Users/atlas/OneDrive/Desktop/usstock/BLW.csv\n",
      "Saved data for symbol BLX to C:/Users/atlas/OneDrive/Desktop/usstock/BLX.csv\n",
      "Saved data for symbol BLZE to C:/Users/atlas/OneDrive/Desktop/usstock/BLZE.csv\n",
      "Saved data for symbol BMA to C:/Users/atlas/OneDrive/Desktop/usstock/BMA.csv\n",
      "Saved data for symbol BMBL to C:/Users/atlas/OneDrive/Desktop/usstock/BMBL.csv\n",
      "Saved data for symbol BME to C:/Users/atlas/OneDrive/Desktop/usstock/BME.csv\n",
      "Saved data for symbol BMEA to C:/Users/atlas/OneDrive/Desktop/usstock/BMEA.csv\n",
      "Saved data for symbol BMEZ to C:/Users/atlas/OneDrive/Desktop/usstock/BMEZ.csv\n",
      "Saved data for symbol BMI to C:/Users/atlas/OneDrive/Desktop/usstock/BMI.csv\n"
     ]
    },
    {
     "name": "stderr",
     "output_type": "stream",
     "text": [
      "\n",
      "1 Failed download:\n",
      "['BML^G']: Exception('%ticker%: No timezone found, symbol may be delisted')\n"
     ]
    },
    {
     "name": "stdout",
     "output_type": "stream",
     "text": [
      "Saved data for symbol BML^G to C:/Users/atlas/OneDrive/Desktop/usstock/BML^G.csv\n"
     ]
    },
    {
     "name": "stderr",
     "output_type": "stream",
     "text": [
      "\n",
      "1 Failed download:\n",
      "['BML^H']: Exception('%ticker%: No timezone found, symbol may be delisted')\n"
     ]
    },
    {
     "name": "stdout",
     "output_type": "stream",
     "text": [
      "Saved data for symbol BML^H to C:/Users/atlas/OneDrive/Desktop/usstock/BML^H.csv\n"
     ]
    },
    {
     "name": "stderr",
     "output_type": "stream",
     "text": [
      "\n",
      "1 Failed download:\n",
      "['BML^J']: Exception('%ticker%: No timezone found, symbol may be delisted')\n"
     ]
    },
    {
     "name": "stdout",
     "output_type": "stream",
     "text": [
      "Saved data for symbol BML^J to C:/Users/atlas/OneDrive/Desktop/usstock/BML^J.csv\n"
     ]
    },
    {
     "name": "stderr",
     "output_type": "stream",
     "text": [
      "\n",
      "1 Failed download:\n",
      "['BML^L']: Exception('%ticker%: No timezone found, symbol may be delisted')\n"
     ]
    },
    {
     "name": "stdout",
     "output_type": "stream",
     "text": [
      "Saved data for symbol BML^L to C:/Users/atlas/OneDrive/Desktop/usstock/BML^L.csv\n",
      "Saved data for symbol BMN to C:/Users/atlas/OneDrive/Desktop/usstock/BMN.csv\n",
      "Saved data for symbol BMO to C:/Users/atlas/OneDrive/Desktop/usstock/BMO.csv\n",
      "Saved data for symbol BMR to C:/Users/atlas/OneDrive/Desktop/usstock/BMR.csv\n",
      "Saved data for symbol BMRA to C:/Users/atlas/OneDrive/Desktop/usstock/BMRA.csv\n",
      "Saved data for symbol BMRC to C:/Users/atlas/OneDrive/Desktop/usstock/BMRC.csv\n",
      "Saved data for symbol BMRN to C:/Users/atlas/OneDrive/Desktop/usstock/BMRN.csv\n",
      "Saved data for symbol BMTX to C:/Users/atlas/OneDrive/Desktop/usstock/BMTX.csv\n",
      "Saved data for symbol BMY to C:/Users/atlas/OneDrive/Desktop/usstock/BMY.csv\n",
      "Saved data for symbol BN to C:/Users/atlas/OneDrive/Desktop/usstock/BN.csv\n",
      "Saved data for symbol BNAI to C:/Users/atlas/OneDrive/Desktop/usstock/BNAI.csv\n"
     ]
    },
    {
     "name": "stderr",
     "output_type": "stream",
     "text": [
      "\n",
      "1 Failed download:\n",
      "['BNAIW']: Exception('%ticker%: 1d data not available for startTime=-14831751840 and endTime=1713528616. Only 100 years worth of day granularity data are allowed to be fetched per request.')\n"
     ]
    },
    {
     "name": "stdout",
     "output_type": "stream",
     "text": [
      "Saved data for symbol BNAIW to C:/Users/atlas/OneDrive/Desktop/usstock/BNAIW.csv\n",
      "Saved data for symbol BNED to C:/Users/atlas/OneDrive/Desktop/usstock/BNED.csv\n",
      "Saved data for symbol BNGO to C:/Users/atlas/OneDrive/Desktop/usstock/BNGO.csv\n",
      "Saved data for symbol BNH to C:/Users/atlas/OneDrive/Desktop/usstock/BNH.csv\n",
      "Saved data for symbol BNIX to C:/Users/atlas/OneDrive/Desktop/usstock/BNIX.csv\n"
     ]
    },
    {
     "name": "stderr",
     "output_type": "stream",
     "text": [
      "\n",
      "1 Failed download:\n",
      "['BNIXR']: Exception('%ticker%: 1d data not available for startTime=-14831751840 and endTime=1713528620. Only 100 years worth of day granularity data are allowed to be fetched per request.')\n"
     ]
    },
    {
     "name": "stdout",
     "output_type": "stream",
     "text": [
      "Saved data for symbol BNIXR to C:/Users/atlas/OneDrive/Desktop/usstock/BNIXR.csv\n"
     ]
    },
    {
     "name": "stderr",
     "output_type": "stream",
     "text": [
      "\n",
      "1 Failed download:\n",
      "['BNIXW']: Exception('%ticker%: 1d data not available for startTime=-14831751840 and endTime=1713528622. Only 100 years worth of day granularity data are allowed to be fetched per request.')\n"
     ]
    },
    {
     "name": "stdout",
     "output_type": "stream",
     "text": [
      "Saved data for symbol BNIXW to C:/Users/atlas/OneDrive/Desktop/usstock/BNIXW.csv\n",
      "Saved data for symbol BNJ to C:/Users/atlas/OneDrive/Desktop/usstock/BNJ.csv\n",
      "Saved data for symbol BNL to C:/Users/atlas/OneDrive/Desktop/usstock/BNL.csv\n",
      "Saved data for symbol BNOX to C:/Users/atlas/OneDrive/Desktop/usstock/BNOX.csv\n",
      "Saved data for symbol BNR to C:/Users/atlas/OneDrive/Desktop/usstock/BNR.csv\n",
      "Saved data for symbol BNRE to C:/Users/atlas/OneDrive/Desktop/usstock/BNRE.csv\n",
      "Saved data for symbol BNRG to C:/Users/atlas/OneDrive/Desktop/usstock/BNRG.csv\n",
      "Saved data for symbol BNS to C:/Users/atlas/OneDrive/Desktop/usstock/BNS.csv\n",
      "Saved data for symbol BNTC to C:/Users/atlas/OneDrive/Desktop/usstock/BNTC.csv\n",
      "Saved data for symbol BNTX to C:/Users/atlas/OneDrive/Desktop/usstock/BNTX.csv\n",
      "Saved data for symbol BNY to C:/Users/atlas/OneDrive/Desktop/usstock/BNY.csv\n",
      "Saved data for symbol BNZI to C:/Users/atlas/OneDrive/Desktop/usstock/BNZI.csv\n",
      "Saved data for symbol BOC to C:/Users/atlas/OneDrive/Desktop/usstock/BOC.csv\n",
      "Saved data for symbol BOCN to C:/Users/atlas/OneDrive/Desktop/usstock/BOCN.csv\n",
      "Saved data for symbol BODI to C:/Users/atlas/OneDrive/Desktop/usstock/BODI.csv\n",
      "Saved data for symbol BOE to C:/Users/atlas/OneDrive/Desktop/usstock/BOE.csv\n",
      "Saved data for symbol BOF to C:/Users/atlas/OneDrive/Desktop/usstock/BOF.csv\n",
      "Saved data for symbol BOH to C:/Users/atlas/OneDrive/Desktop/usstock/BOH.csv\n"
     ]
    },
    {
     "name": "stderr",
     "output_type": "stream",
     "text": [
      "\n",
      "1 Failed download:\n",
      "['BOH^A']: Exception('%ticker%: No timezone found, symbol may be delisted')\n"
     ]
    },
    {
     "name": "stdout",
     "output_type": "stream",
     "text": [
      "Saved data for symbol BOH^A to C:/Users/atlas/OneDrive/Desktop/usstock/BOH^A.csv\n",
      "Saved data for symbol BOKF to C:/Users/atlas/OneDrive/Desktop/usstock/BOKF.csv\n",
      "Saved data for symbol BOLD to C:/Users/atlas/OneDrive/Desktop/usstock/BOLD.csv\n",
      "Saved data for symbol BOLT to C:/Users/atlas/OneDrive/Desktop/usstock/BOLT.csv\n",
      "Saved data for symbol BON to C:/Users/atlas/OneDrive/Desktop/usstock/BON.csv\n",
      "Saved data for symbol BOOM to C:/Users/atlas/OneDrive/Desktop/usstock/BOOM.csv\n",
      "Saved data for symbol BOOT to C:/Users/atlas/OneDrive/Desktop/usstock/BOOT.csv\n",
      "Saved data for symbol BORR to C:/Users/atlas/OneDrive/Desktop/usstock/BORR.csv\n",
      "Saved data for symbol BOSC to C:/Users/atlas/OneDrive/Desktop/usstock/BOSC.csv\n",
      "Saved data for symbol BOTJ to C:/Users/atlas/OneDrive/Desktop/usstock/BOTJ.csv\n",
      "Saved data for symbol BOWL to C:/Users/atlas/OneDrive/Desktop/usstock/BOWL.csv\n",
      "Saved data for symbol BOWN to C:/Users/atlas/OneDrive/Desktop/usstock/BOWN.csv\n",
      "Saved data for symbol BOX to C:/Users/atlas/OneDrive/Desktop/usstock/BOX.csv\n",
      "Saved data for symbol BOXL to C:/Users/atlas/OneDrive/Desktop/usstock/BOXL.csv\n",
      "Saved data for symbol BP to C:/Users/atlas/OneDrive/Desktop/usstock/BP.csv\n",
      "Saved data for symbol BPMC to C:/Users/atlas/OneDrive/Desktop/usstock/BPMC.csv\n",
      "Saved data for symbol BPOP to C:/Users/atlas/OneDrive/Desktop/usstock/BPOP.csv\n",
      "Saved data for symbol BPOPM to C:/Users/atlas/OneDrive/Desktop/usstock/BPOPM.csv\n",
      "Saved data for symbol BPRN to C:/Users/atlas/OneDrive/Desktop/usstock/BPRN.csv\n",
      "Saved data for symbol BPT to C:/Users/atlas/OneDrive/Desktop/usstock/BPT.csv\n",
      "Saved data for symbol BPTH to C:/Users/atlas/OneDrive/Desktop/usstock/BPTH.csv\n",
      "Saved data for symbol BPTS to C:/Users/atlas/OneDrive/Desktop/usstock/BPTS.csv\n",
      "Saved data for symbol BPYPM to C:/Users/atlas/OneDrive/Desktop/usstock/BPYPM.csv\n",
      "Saved data for symbol BPYPN to C:/Users/atlas/OneDrive/Desktop/usstock/BPYPN.csv\n",
      "Saved data for symbol BPYPO to C:/Users/atlas/OneDrive/Desktop/usstock/BPYPO.csv\n",
      "Saved data for symbol BPYPP to C:/Users/atlas/OneDrive/Desktop/usstock/BPYPP.csv\n",
      "Saved data for symbol BQ to C:/Users/atlas/OneDrive/Desktop/usstock/BQ.csv\n",
      "Saved data for symbol BR to C:/Users/atlas/OneDrive/Desktop/usstock/BR.csv\n",
      "Saved data for symbol BRAC to C:/Users/atlas/OneDrive/Desktop/usstock/BRAC.csv\n",
      "Saved data for symbol BRAG to C:/Users/atlas/OneDrive/Desktop/usstock/BRAG.csv\n",
      "Saved data for symbol BRBR to C:/Users/atlas/OneDrive/Desktop/usstock/BRBR.csv\n",
      "Saved data for symbol BRBS to C:/Users/atlas/OneDrive/Desktop/usstock/BRBS.csv\n",
      "Saved data for symbol BRC to C:/Users/atlas/OneDrive/Desktop/usstock/BRC.csv\n",
      "Saved data for symbol BRCC to C:/Users/atlas/OneDrive/Desktop/usstock/BRCC.csv\n",
      "Saved data for symbol BRDG to C:/Users/atlas/OneDrive/Desktop/usstock/BRDG.csv\n",
      "Saved data for symbol BREA to C:/Users/atlas/OneDrive/Desktop/usstock/BREA.csv\n",
      "Saved data for symbol BREZ to C:/Users/atlas/OneDrive/Desktop/usstock/BREZ.csv\n"
     ]
    },
    {
     "name": "stderr",
     "output_type": "stream",
     "text": [
      "\n",
      "1 Failed download:\n",
      "['BREZR']: Exception('%ticker%: 1d data not available for startTime=-14831751840 and endTime=1713528644. Only 100 years worth of day granularity data are allowed to be fetched per request.')\n"
     ]
    },
    {
     "name": "stdout",
     "output_type": "stream",
     "text": [
      "Saved data for symbol BREZR to C:/Users/atlas/OneDrive/Desktop/usstock/BREZR.csv\n"
     ]
    },
    {
     "name": "stderr",
     "output_type": "stream",
     "text": [
      "\n",
      "1 Failed download:\n",
      "['BREZW']: Exception('%ticker%: 1d data not available for startTime=-14831751840 and endTime=1713528645. Only 100 years worth of day granularity data are allowed to be fetched per request.')\n"
     ]
    },
    {
     "name": "stdout",
     "output_type": "stream",
     "text": [
      "Saved data for symbol BREZW to C:/Users/atlas/OneDrive/Desktop/usstock/BREZW.csv\n",
      "Saved data for symbol BRFH to C:/Users/atlas/OneDrive/Desktop/usstock/BRFH.csv\n",
      "Saved data for symbol BRFS to C:/Users/atlas/OneDrive/Desktop/usstock/BRFS.csv\n",
      "Saved data for symbol BRID to C:/Users/atlas/OneDrive/Desktop/usstock/BRID.csv\n"
     ]
    },
    {
     "name": "stderr",
     "output_type": "stream",
     "text": [
      "Failed to get ticker 'BRK/A' reason: Expecting value: line 1 column 1 (char 0)\n",
      "\n",
      "1 Failed download:\n",
      "['BRK/A']: Exception('%ticker%: No timezone found, symbol may be delisted')\n"
     ]
    },
    {
     "name": "stdout",
     "output_type": "stream",
     "text": [
      "Error occurred while downloading data for symbol BRK/A: Cannot save file into a non-existent directory: 'C:\\Users\\atlas\\OneDrive\\Desktop\\usstock\\BRK'\n"
     ]
    },
    {
     "name": "stderr",
     "output_type": "stream",
     "text": [
      "Failed to get ticker 'BRK/B' reason: Expecting value: line 1 column 1 (char 0)\n",
      "\n",
      "1 Failed download:\n",
      "['BRK/B']: Exception('%ticker%: No timezone found, symbol may be delisted')\n"
     ]
    },
    {
     "name": "stdout",
     "output_type": "stream",
     "text": [
      "Error occurred while downloading data for symbol BRK/B: Cannot save file into a non-existent directory: 'C:\\Users\\atlas\\OneDrive\\Desktop\\usstock\\BRK'\n",
      "Saved data for symbol BRKH to C:/Users/atlas/OneDrive/Desktop/usstock/BRKH.csv\n",
      "Saved data for symbol BRKHU to C:/Users/atlas/OneDrive/Desktop/usstock/BRKHU.csv\n"
     ]
    },
    {
     "name": "stderr",
     "output_type": "stream",
     "text": [
      "\n",
      "1 Failed download:\n",
      "['BRKHW']: Exception('%ticker%: 1d data not available for startTime=-14831751840 and endTime=1713528653. Only 100 years worth of day granularity data are allowed to be fetched per request.')\n"
     ]
    },
    {
     "name": "stdout",
     "output_type": "stream",
     "text": [
      "Saved data for symbol BRKHW to C:/Users/atlas/OneDrive/Desktop/usstock/BRKHW.csv\n",
      "Saved data for symbol BRKL to C:/Users/atlas/OneDrive/Desktop/usstock/BRKL.csv\n",
      "Saved data for symbol BRKR to C:/Users/atlas/OneDrive/Desktop/usstock/BRKR.csv\n",
      "Saved data for symbol BRLS to C:/Users/atlas/OneDrive/Desktop/usstock/BRLS.csv\n"
     ]
    },
    {
     "name": "stderr",
     "output_type": "stream",
     "text": [
      "\n",
      "1 Failed download:\n",
      "['BRLSW']: Exception('%ticker%: 1d data not available for startTime=-14831751840 and endTime=1713528657. Only 100 years worth of day granularity data are allowed to be fetched per request.')\n"
     ]
    },
    {
     "name": "stdout",
     "output_type": "stream",
     "text": [
      "Saved data for symbol BRLSW to C:/Users/atlas/OneDrive/Desktop/usstock/BRLSW.csv\n",
      "Saved data for symbol BRLT to C:/Users/atlas/OneDrive/Desktop/usstock/BRLT.csv\n",
      "Saved data for symbol BRN to C:/Users/atlas/OneDrive/Desktop/usstock/BRN.csv\n",
      "Saved data for symbol BRNS to C:/Users/atlas/OneDrive/Desktop/usstock/BRNS.csv\n",
      "Saved data for symbol BRO to C:/Users/atlas/OneDrive/Desktop/usstock/BRO.csv\n",
      "Saved data for symbol BROG to C:/Users/atlas/OneDrive/Desktop/usstock/BROG.csv\n"
     ]
    },
    {
     "name": "stderr",
     "output_type": "stream",
     "text": [
      "\n",
      "1 Failed download:\n",
      "['BROGW']: Exception('%ticker%: 1d data not available for startTime=-14831751840 and endTime=1713528662. Only 100 years worth of day granularity data are allowed to be fetched per request.')\n"
     ]
    },
    {
     "name": "stdout",
     "output_type": "stream",
     "text": [
      "Saved data for symbol BROGW to C:/Users/atlas/OneDrive/Desktop/usstock/BROGW.csv\n",
      "Saved data for symbol BROS to C:/Users/atlas/OneDrive/Desktop/usstock/BROS.csv\n",
      "Saved data for symbol BRP to C:/Users/atlas/OneDrive/Desktop/usstock/BRP.csv\n",
      "Saved data for symbol BRSH to C:/Users/atlas/OneDrive/Desktop/usstock/BRSH.csv\n",
      "Saved data for symbol BRSP to C:/Users/atlas/OneDrive/Desktop/usstock/BRSP.csv\n",
      "Saved data for symbol BRT to C:/Users/atlas/OneDrive/Desktop/usstock/BRT.csv\n",
      "Saved data for symbol BRTX to C:/Users/atlas/OneDrive/Desktop/usstock/BRTX.csv\n",
      "Saved data for symbol BRW to C:/Users/atlas/OneDrive/Desktop/usstock/BRW.csv\n",
      "Saved data for symbol BRX to C:/Users/atlas/OneDrive/Desktop/usstock/BRX.csv\n",
      "Saved data for symbol BRY to C:/Users/atlas/OneDrive/Desktop/usstock/BRY.csv\n",
      "Saved data for symbol BRZE to C:/Users/atlas/OneDrive/Desktop/usstock/BRZE.csv\n",
      "Saved data for symbol BSAC to C:/Users/atlas/OneDrive/Desktop/usstock/BSAC.csv\n",
      "Saved data for symbol BSBK to C:/Users/atlas/OneDrive/Desktop/usstock/BSBK.csv\n",
      "Saved data for symbol BSBR to C:/Users/atlas/OneDrive/Desktop/usstock/BSBR.csv\n",
      "Saved data for symbol BSET to C:/Users/atlas/OneDrive/Desktop/usstock/BSET.csv\n",
      "Saved data for symbol BSFC to C:/Users/atlas/OneDrive/Desktop/usstock/BSFC.csv\n",
      "Saved data for symbol BSGM to C:/Users/atlas/OneDrive/Desktop/usstock/BSGM.csv\n",
      "Saved data for symbol BSIG to C:/Users/atlas/OneDrive/Desktop/usstock/BSIG.csv\n",
      "Saved data for symbol BSL to C:/Users/atlas/OneDrive/Desktop/usstock/BSL.csv\n",
      "Saved data for symbol BSM to C:/Users/atlas/OneDrive/Desktop/usstock/BSM.csv\n",
      "Saved data for symbol BSRR to C:/Users/atlas/OneDrive/Desktop/usstock/BSRR.csv\n",
      "Saved data for symbol BST to C:/Users/atlas/OneDrive/Desktop/usstock/BST.csv\n",
      "Saved data for symbol BSTZ to C:/Users/atlas/OneDrive/Desktop/usstock/BSTZ.csv\n",
      "Saved data for symbol BSVN to C:/Users/atlas/OneDrive/Desktop/usstock/BSVN.csv\n",
      "Saved data for symbol BSX to C:/Users/atlas/OneDrive/Desktop/usstock/BSX.csv\n",
      "Saved data for symbol BSY to C:/Users/atlas/OneDrive/Desktop/usstock/BSY.csv\n",
      "Saved data for symbol BTA to C:/Users/atlas/OneDrive/Desktop/usstock/BTA.csv\n",
      "Saved data for symbol BTAI to C:/Users/atlas/OneDrive/Desktop/usstock/BTAI.csv\n",
      "Saved data for symbol BTBD to C:/Users/atlas/OneDrive/Desktop/usstock/BTBD.csv\n",
      "Saved data for symbol BTBT to C:/Users/atlas/OneDrive/Desktop/usstock/BTBT.csv\n",
      "Saved data for symbol BTCM to C:/Users/atlas/OneDrive/Desktop/usstock/BTCM.csv\n",
      "Saved data for symbol BTCS to C:/Users/atlas/OneDrive/Desktop/usstock/BTCS.csv\n",
      "Saved data for symbol BTCT to C:/Users/atlas/OneDrive/Desktop/usstock/BTCT.csv\n"
     ]
    },
    {
     "name": "stderr",
     "output_type": "stream",
     "text": [
      "\n",
      "1 Failed download:\n",
      "['BTCTW']: Exception('%ticker%: 1d data not available for startTime=-14831751840 and endTime=1713528674. Only 100 years worth of day granularity data are allowed to be fetched per request.')\n"
     ]
    },
    {
     "name": "stdout",
     "output_type": "stream",
     "text": [
      "Saved data for symbol BTCTW to C:/Users/atlas/OneDrive/Desktop/usstock/BTCTW.csv\n",
      "Saved data for symbol BTCY to C:/Users/atlas/OneDrive/Desktop/usstock/BTCY.csv\n",
      "Saved data for symbol BTDR to C:/Users/atlas/OneDrive/Desktop/usstock/BTDR.csv\n",
      "Saved data for symbol BTE to C:/Users/atlas/OneDrive/Desktop/usstock/BTE.csv\n",
      "Saved data for symbol BTG to C:/Users/atlas/OneDrive/Desktop/usstock/BTG.csv\n",
      "Saved data for symbol BTI to C:/Users/atlas/OneDrive/Desktop/usstock/BTI.csv\n",
      "Saved data for symbol BTM to C:/Users/atlas/OneDrive/Desktop/usstock/BTM.csv\n",
      "Saved data for symbol BTMD to C:/Users/atlas/OneDrive/Desktop/usstock/BTMD.csv\n"
     ]
    },
    {
     "name": "stderr",
     "output_type": "stream",
     "text": [
      "\n",
      "1 Failed download:\n",
      "['BTMWW']: Exception('%ticker%: 1d data not available for startTime=-14831751840 and endTime=1713528678. Only 100 years worth of day granularity data are allowed to be fetched per request.')\n"
     ]
    },
    {
     "name": "stdout",
     "output_type": "stream",
     "text": [
      "Saved data for symbol BTMWW to C:/Users/atlas/OneDrive/Desktop/usstock/BTMWW.csv\n",
      "Saved data for symbol BTO to C:/Users/atlas/OneDrive/Desktop/usstock/BTO.csv\n",
      "Saved data for symbol BTOG to C:/Users/atlas/OneDrive/Desktop/usstock/BTOG.csv\n",
      "Saved data for symbol BTSG to C:/Users/atlas/OneDrive/Desktop/usstock/BTSG.csv\n",
      "Saved data for symbol BTSGU to C:/Users/atlas/OneDrive/Desktop/usstock/BTSGU.csv\n",
      "Saved data for symbol BTT to C:/Users/atlas/OneDrive/Desktop/usstock/BTT.csv\n",
      "Saved data for symbol BTTR to C:/Users/atlas/OneDrive/Desktop/usstock/BTTR.csv\n",
      "Saved data for symbol BTU to C:/Users/atlas/OneDrive/Desktop/usstock/BTU.csv\n",
      "Saved data for symbol BTZ to C:/Users/atlas/OneDrive/Desktop/usstock/BTZ.csv\n",
      "Saved data for symbol BUD to C:/Users/atlas/OneDrive/Desktop/usstock/BUD.csv\n",
      "Saved data for symbol BUI to C:/Users/atlas/OneDrive/Desktop/usstock/BUI.csv\n",
      "Saved data for symbol BUJA to C:/Users/atlas/OneDrive/Desktop/usstock/BUJA.csv\n"
     ]
    },
    {
     "name": "stderr",
     "output_type": "stream",
     "text": [
      "\n",
      "1 Failed download:\n",
      "['BUJAR']: Exception('%ticker%: 1d data not available for startTime=-14831751840 and endTime=1713528683. Only 100 years worth of day granularity data are allowed to be fetched per request.')\n"
     ]
    },
    {
     "name": "stdout",
     "output_type": "stream",
     "text": [
      "Saved data for symbol BUJAR to C:/Users/atlas/OneDrive/Desktop/usstock/BUJAR.csv\n"
     ]
    },
    {
     "name": "stderr",
     "output_type": "stream",
     "text": [
      "\n",
      "1 Failed download:\n",
      "['BUJAW']: Exception('%ticker%: 1d data not available for startTime=-14831751840 and endTime=1713528686. Only 100 years worth of day granularity data are allowed to be fetched per request.')\n"
     ]
    },
    {
     "name": "stdout",
     "output_type": "stream",
     "text": [
      "Saved data for symbol BUJAW to C:/Users/atlas/OneDrive/Desktop/usstock/BUJAW.csv\n",
      "Saved data for symbol BUR to C:/Users/atlas/OneDrive/Desktop/usstock/BUR.csv\n",
      "Saved data for symbol BURL to C:/Users/atlas/OneDrive/Desktop/usstock/BURL.csv\n",
      "Saved data for symbol BURU to C:/Users/atlas/OneDrive/Desktop/usstock/BURU.csv\n",
      "Saved data for symbol BUSE to C:/Users/atlas/OneDrive/Desktop/usstock/BUSE.csv\n",
      "Saved data for symbol BV to C:/Users/atlas/OneDrive/Desktop/usstock/BV.csv\n",
      "Saved data for symbol BVFL to C:/Users/atlas/OneDrive/Desktop/usstock/BVFL.csv\n",
      "Saved data for symbol BVN to C:/Users/atlas/OneDrive/Desktop/usstock/BVN.csv\n",
      "Saved data for symbol BVS to C:/Users/atlas/OneDrive/Desktop/usstock/BVS.csv\n",
      "Saved data for symbol BW to C:/Users/atlas/OneDrive/Desktop/usstock/BW.csv\n"
     ]
    },
    {
     "name": "stderr",
     "output_type": "stream",
     "text": [
      "\n",
      "1 Failed download:\n",
      "['BW^A']: Exception('%ticker%: No timezone found, symbol may be delisted')\n"
     ]
    },
    {
     "name": "stdout",
     "output_type": "stream",
     "text": [
      "Saved data for symbol BW^A to C:/Users/atlas/OneDrive/Desktop/usstock/BW^A.csv\n",
      "Saved data for symbol BWA to C:/Users/atlas/OneDrive/Desktop/usstock/BWA.csv\n",
      "Saved data for symbol BWAQ to C:/Users/atlas/OneDrive/Desktop/usstock/BWAQ.csv\n"
     ]
    },
    {
     "name": "stderr",
     "output_type": "stream",
     "text": [
      "\n",
      "1 Failed download:\n",
      "['BWAQR']: Exception('%ticker%: 1d data not available for startTime=-14831751840 and endTime=1713528692. Only 100 years worth of day granularity data are allowed to be fetched per request.')\n"
     ]
    },
    {
     "name": "stdout",
     "output_type": "stream",
     "text": [
      "Saved data for symbol BWAQR to C:/Users/atlas/OneDrive/Desktop/usstock/BWAQR.csv\n"
     ]
    },
    {
     "name": "stderr",
     "output_type": "stream",
     "text": [
      "\n",
      "1 Failed download:\n",
      "['BWAQW']: Exception('%ticker%: 1d data not available for startTime=-14831751840 and endTime=1713528694. Only 100 years worth of day granularity data are allowed to be fetched per request.')\n"
     ]
    },
    {
     "name": "stdout",
     "output_type": "stream",
     "text": [
      "Saved data for symbol BWAQW to C:/Users/atlas/OneDrive/Desktop/usstock/BWAQW.csv\n",
      "Saved data for symbol BWAY to C:/Users/atlas/OneDrive/Desktop/usstock/BWAY.csv\n",
      "Saved data for symbol BWB to C:/Users/atlas/OneDrive/Desktop/usstock/BWB.csv\n",
      "Saved data for symbol BWBBP to C:/Users/atlas/OneDrive/Desktop/usstock/BWBBP.csv\n",
      "Saved data for symbol BWEN to C:/Users/atlas/OneDrive/Desktop/usstock/BWEN.csv\n",
      "Saved data for symbol BWFG to C:/Users/atlas/OneDrive/Desktop/usstock/BWFG.csv\n",
      "Saved data for symbol BWG to C:/Users/atlas/OneDrive/Desktop/usstock/BWG.csv\n",
      "Saved data for symbol BWMN to C:/Users/atlas/OneDrive/Desktop/usstock/BWMN.csv\n",
      "Saved data for symbol BWMX to C:/Users/atlas/OneDrive/Desktop/usstock/BWMX.csv\n",
      "Saved data for symbol BWNB to C:/Users/atlas/OneDrive/Desktop/usstock/BWNB.csv\n",
      "Saved data for symbol BWSN to C:/Users/atlas/OneDrive/Desktop/usstock/BWSN.csv\n",
      "Saved data for symbol BWXT to C:/Users/atlas/OneDrive/Desktop/usstock/BWXT.csv\n",
      "Saved data for symbol BX to C:/Users/atlas/OneDrive/Desktop/usstock/BX.csv\n",
      "Saved data for symbol BXC to C:/Users/atlas/OneDrive/Desktop/usstock/BXC.csv\n",
      "Saved data for symbol BXMT to C:/Users/atlas/OneDrive/Desktop/usstock/BXMT.csv\n",
      "Saved data for symbol BXMX to C:/Users/atlas/OneDrive/Desktop/usstock/BXMX.csv\n",
      "Saved data for symbol BXP to C:/Users/atlas/OneDrive/Desktop/usstock/BXP.csv\n",
      "Saved data for symbol BXSL to C:/Users/atlas/OneDrive/Desktop/usstock/BXSL.csv\n",
      "Saved data for symbol BY to C:/Users/atlas/OneDrive/Desktop/usstock/BY.csv\n",
      "Saved data for symbol BYD to C:/Users/atlas/OneDrive/Desktop/usstock/BYD.csv\n",
      "Saved data for symbol BYFC to C:/Users/atlas/OneDrive/Desktop/usstock/BYFC.csv\n",
      "Saved data for symbol BYM to C:/Users/atlas/OneDrive/Desktop/usstock/BYM.csv\n",
      "Saved data for symbol BYND to C:/Users/atlas/OneDrive/Desktop/usstock/BYND.csv\n",
      "Saved data for symbol BYNO to C:/Users/atlas/OneDrive/Desktop/usstock/BYNO.csv\n",
      "Saved data for symbol BYON to C:/Users/atlas/OneDrive/Desktop/usstock/BYON.csv\n",
      "Saved data for symbol BYRN to C:/Users/atlas/OneDrive/Desktop/usstock/BYRN.csv\n",
      "Saved data for symbol BYSI to C:/Users/atlas/OneDrive/Desktop/usstock/BYSI.csv\n",
      "Saved data for symbol BYU to C:/Users/atlas/OneDrive/Desktop/usstock/BYU.csv\n",
      "Saved data for symbol BZ to C:/Users/atlas/OneDrive/Desktop/usstock/BZ.csv\n",
      "Saved data for symbol BZFD to C:/Users/atlas/OneDrive/Desktop/usstock/BZFD.csv\n"
     ]
    },
    {
     "name": "stderr",
     "output_type": "stream",
     "text": [
      "\n",
      "1 Failed download:\n",
      "['BZFDW']: Exception('%ticker%: 1d data not available for startTime=-14831751840 and endTime=1713528706. Only 100 years worth of day granularity data are allowed to be fetched per request.')\n"
     ]
    },
    {
     "name": "stdout",
     "output_type": "stream",
     "text": [
      "Saved data for symbol BZFDW to C:/Users/atlas/OneDrive/Desktop/usstock/BZFDW.csv\n",
      "Saved data for symbol BZH to C:/Users/atlas/OneDrive/Desktop/usstock/BZH.csv\n",
      "Saved data for symbol BZUN to C:/Users/atlas/OneDrive/Desktop/usstock/BZUN.csv\n",
      "Saved data for symbol C to C:/Users/atlas/OneDrive/Desktop/usstock/C.csv\n"
     ]
    },
    {
     "name": "stderr",
     "output_type": "stream",
     "text": [
      "\n",
      "1 Failed download:\n",
      "['C^N']: Exception('%ticker%: No timezone found, symbol may be delisted')\n"
     ]
    },
    {
     "name": "stdout",
     "output_type": "stream",
     "text": [
      "Saved data for symbol C^N to C:/Users/atlas/OneDrive/Desktop/usstock/C^N.csv\n",
      "Saved data for symbol CAAP to C:/Users/atlas/OneDrive/Desktop/usstock/CAAP.csv\n",
      "Saved data for symbol CAAS to C:/Users/atlas/OneDrive/Desktop/usstock/CAAS.csv\n",
      "Saved data for symbol CABA to C:/Users/atlas/OneDrive/Desktop/usstock/CABA.csv\n",
      "Saved data for symbol CABO to C:/Users/atlas/OneDrive/Desktop/usstock/CABO.csv\n",
      "Saved data for symbol CAC to C:/Users/atlas/OneDrive/Desktop/usstock/CAC.csv\n",
      "Saved data for symbol CACC to C:/Users/atlas/OneDrive/Desktop/usstock/CACC.csv\n",
      "Saved data for symbol CACI to C:/Users/atlas/OneDrive/Desktop/usstock/CACI.csv\n",
      "Saved data for symbol CACO to C:/Users/atlas/OneDrive/Desktop/usstock/CACO.csv\n",
      "Saved data for symbol CADE to C:/Users/atlas/OneDrive/Desktop/usstock/CADE.csv\n"
     ]
    },
    {
     "name": "stderr",
     "output_type": "stream",
     "text": [
      "\n",
      "1 Failed download:\n",
      "['CADE^A']: Exception('%ticker%: No timezone found, symbol may be delisted')\n"
     ]
    },
    {
     "name": "stdout",
     "output_type": "stream",
     "text": [
      "Saved data for symbol CADE^A to C:/Users/atlas/OneDrive/Desktop/usstock/CADE^A.csv\n",
      "Saved data for symbol CADL to C:/Users/atlas/OneDrive/Desktop/usstock/CADL.csv\n",
      "Saved data for symbol CAE to C:/Users/atlas/OneDrive/Desktop/usstock/CAE.csv\n",
      "Saved data for symbol CAF to C:/Users/atlas/OneDrive/Desktop/usstock/CAF.csv\n",
      "Saved data for symbol CAG to C:/Users/atlas/OneDrive/Desktop/usstock/CAG.csv\n",
      "Saved data for symbol CAH to C:/Users/atlas/OneDrive/Desktop/usstock/CAH.csv\n",
      "Saved data for symbol CAKE to C:/Users/atlas/OneDrive/Desktop/usstock/CAKE.csv\n",
      "Saved data for symbol CAL to C:/Users/atlas/OneDrive/Desktop/usstock/CAL.csv\n",
      "Saved data for symbol CALB to C:/Users/atlas/OneDrive/Desktop/usstock/CALB.csv\n",
      "Saved data for symbol CALC to C:/Users/atlas/OneDrive/Desktop/usstock/CALC.csv\n",
      "Saved data for symbol CALM to C:/Users/atlas/OneDrive/Desktop/usstock/CALM.csv\n",
      "Saved data for symbol CALT to C:/Users/atlas/OneDrive/Desktop/usstock/CALT.csv\n",
      "Saved data for symbol CALX to C:/Users/atlas/OneDrive/Desktop/usstock/CALX.csv\n",
      "Saved data for symbol CAMP to C:/Users/atlas/OneDrive/Desktop/usstock/CAMP.csv\n",
      "Saved data for symbol CAMT to C:/Users/atlas/OneDrive/Desktop/usstock/CAMT.csv\n",
      "Saved data for symbol CAN to C:/Users/atlas/OneDrive/Desktop/usstock/CAN.csv\n",
      "Saved data for symbol CANF to C:/Users/atlas/OneDrive/Desktop/usstock/CANF.csv\n",
      "Saved data for symbol CANG to C:/Users/atlas/OneDrive/Desktop/usstock/CANG.csv\n",
      "Saved data for symbol CAPL to C:/Users/atlas/OneDrive/Desktop/usstock/CAPL.csv\n",
      "Saved data for symbol CAPR to C:/Users/atlas/OneDrive/Desktop/usstock/CAPR.csv\n",
      "Saved data for symbol CAPT to C:/Users/atlas/OneDrive/Desktop/usstock/CAPT.csv\n"
     ]
    },
    {
     "name": "stderr",
     "output_type": "stream",
     "text": [
      "\n",
      "1 Failed download:\n",
      "['CAPTW']: Exception('%ticker%: 1d data not available for startTime=-14831751840 and endTime=1713528725. Only 100 years worth of day granularity data are allowed to be fetched per request.')\n"
     ]
    },
    {
     "name": "stdout",
     "output_type": "stream",
     "text": [
      "Saved data for symbol CAPTW to C:/Users/atlas/OneDrive/Desktop/usstock/CAPTW.csv\n",
      "Saved data for symbol CAR to C:/Users/atlas/OneDrive/Desktop/usstock/CAR.csv\n",
      "Saved data for symbol CARA to C:/Users/atlas/OneDrive/Desktop/usstock/CARA.csv\n",
      "Saved data for symbol CARE to C:/Users/atlas/OneDrive/Desktop/usstock/CARE.csv\n",
      "Saved data for symbol CARG to C:/Users/atlas/OneDrive/Desktop/usstock/CARG.csv\n",
      "Saved data for symbol CARM to C:/Users/atlas/OneDrive/Desktop/usstock/CARM.csv\n",
      "Saved data for symbol CARR to C:/Users/atlas/OneDrive/Desktop/usstock/CARR.csv\n",
      "Saved data for symbol CARS to C:/Users/atlas/OneDrive/Desktop/usstock/CARS.csv\n",
      "Saved data for symbol CART to C:/Users/atlas/OneDrive/Desktop/usstock/CART.csv\n",
      "Saved data for symbol CARV to C:/Users/atlas/OneDrive/Desktop/usstock/CARV.csv\n",
      "Saved data for symbol CASH to C:/Users/atlas/OneDrive/Desktop/usstock/CASH.csv\n",
      "Saved data for symbol CASI to C:/Users/atlas/OneDrive/Desktop/usstock/CASI.csv\n",
      "Saved data for symbol CASS to C:/Users/atlas/OneDrive/Desktop/usstock/CASS.csv\n",
      "Saved data for symbol CASY to C:/Users/atlas/OneDrive/Desktop/usstock/CASY.csv\n",
      "Saved data for symbol CAT to C:/Users/atlas/OneDrive/Desktop/usstock/CAT.csv\n",
      "Saved data for symbol CATC to C:/Users/atlas/OneDrive/Desktop/usstock/CATC.csv\n",
      "Saved data for symbol CATO to C:/Users/atlas/OneDrive/Desktop/usstock/CATO.csv\n",
      "Saved data for symbol CATX to C:/Users/atlas/OneDrive/Desktop/usstock/CATX.csv\n",
      "Saved data for symbol CATY to C:/Users/atlas/OneDrive/Desktop/usstock/CATY.csv\n",
      "Saved data for symbol CAUD to C:/Users/atlas/OneDrive/Desktop/usstock/CAUD.csv\n",
      "Saved data for symbol CAVA to C:/Users/atlas/OneDrive/Desktop/usstock/CAVA.csv\n",
      "Saved data for symbol CB to C:/Users/atlas/OneDrive/Desktop/usstock/CB.csv\n",
      "Saved data for symbol CBAN to C:/Users/atlas/OneDrive/Desktop/usstock/CBAN.csv\n",
      "Saved data for symbol CBAT to C:/Users/atlas/OneDrive/Desktop/usstock/CBAT.csv\n",
      "Saved data for symbol CBD to C:/Users/atlas/OneDrive/Desktop/usstock/CBD.csv\n",
      "Saved data for symbol CBFV to C:/Users/atlas/OneDrive/Desktop/usstock/CBFV.csv\n",
      "Saved data for symbol CBH to C:/Users/atlas/OneDrive/Desktop/usstock/CBH.csv\n",
      "Saved data for symbol CBL to C:/Users/atlas/OneDrive/Desktop/usstock/CBL.csv\n",
      "Saved data for symbol CBNK to C:/Users/atlas/OneDrive/Desktop/usstock/CBNK.csv\n",
      "Saved data for symbol CBOE to C:/Users/atlas/OneDrive/Desktop/usstock/CBOE.csv\n",
      "Saved data for symbol CBRE to C:/Users/atlas/OneDrive/Desktop/usstock/CBRE.csv\n",
      "Saved data for symbol CBRG to C:/Users/atlas/OneDrive/Desktop/usstock/CBRG.csv\n",
      "Saved data for symbol CBRGU to C:/Users/atlas/OneDrive/Desktop/usstock/CBRGU.csv\n",
      "Saved data for symbol CBRL to C:/Users/atlas/OneDrive/Desktop/usstock/CBRL.csv\n",
      "Saved data for symbol CBSH to C:/Users/atlas/OneDrive/Desktop/usstock/CBSH.csv\n",
      "Saved data for symbol CBT to C:/Users/atlas/OneDrive/Desktop/usstock/CBT.csv\n",
      "Saved data for symbol CBU to C:/Users/atlas/OneDrive/Desktop/usstock/CBU.csv\n",
      "Saved data for symbol CBUS to C:/Users/atlas/OneDrive/Desktop/usstock/CBUS.csv\n",
      "Saved data for symbol CBZ to C:/Users/atlas/OneDrive/Desktop/usstock/CBZ.csv\n",
      "Saved data for symbol CC to C:/Users/atlas/OneDrive/Desktop/usstock/CC.csv\n",
      "Saved data for symbol CCAP to C:/Users/atlas/OneDrive/Desktop/usstock/CCAP.csv\n",
      "Saved data for symbol CCB to C:/Users/atlas/OneDrive/Desktop/usstock/CCB.csv\n",
      "Saved data for symbol CCBG to C:/Users/atlas/OneDrive/Desktop/usstock/CCBG.csv\n",
      "Saved data for symbol CCCC to C:/Users/atlas/OneDrive/Desktop/usstock/CCCC.csv\n",
      "Saved data for symbol CCCS to C:/Users/atlas/OneDrive/Desktop/usstock/CCCS.csv\n",
      "Saved data for symbol CCD to C:/Users/atlas/OneDrive/Desktop/usstock/CCD.csv\n",
      "Saved data for symbol CCEL to C:/Users/atlas/OneDrive/Desktop/usstock/CCEL.csv\n",
      "Saved data for symbol CCEP to C:/Users/atlas/OneDrive/Desktop/usstock/CCEP.csv\n",
      "Saved data for symbol CCG to C:/Users/atlas/OneDrive/Desktop/usstock/CCG.csv\n",
      "Saved data for symbol CCGWW to C:/Users/atlas/OneDrive/Desktop/usstock/CCGWW.csv\n",
      "Saved data for symbol CCI to C:/Users/atlas/OneDrive/Desktop/usstock/CCI.csv\n",
      "Saved data for symbol CCIA to C:/Users/atlas/OneDrive/Desktop/usstock/CCIA.csv\n",
      "Saved data for symbol CCIF to C:/Users/atlas/OneDrive/Desktop/usstock/CCIF.csv\n",
      "Saved data for symbol CCJ to C:/Users/atlas/OneDrive/Desktop/usstock/CCJ.csv\n",
      "Saved data for symbol CCK to C:/Users/atlas/OneDrive/Desktop/usstock/CCK.csv\n",
      "Saved data for symbol CCL to C:/Users/atlas/OneDrive/Desktop/usstock/CCL.csv\n",
      "Saved data for symbol CCLD to C:/Users/atlas/OneDrive/Desktop/usstock/CCLD.csv\n",
      "Saved data for symbol CCLDO to C:/Users/atlas/OneDrive/Desktop/usstock/CCLDO.csv\n",
      "Saved data for symbol CCLDP to C:/Users/atlas/OneDrive/Desktop/usstock/CCLDP.csv\n",
      "Saved data for symbol CCM to C:/Users/atlas/OneDrive/Desktop/usstock/CCM.csv\n",
      "Saved data for symbol CCNE to C:/Users/atlas/OneDrive/Desktop/usstock/CCNE.csv\n",
      "Saved data for symbol CCNEP to C:/Users/atlas/OneDrive/Desktop/usstock/CCNEP.csv\n",
      "Saved data for symbol CCO to C:/Users/atlas/OneDrive/Desktop/usstock/CCO.csv\n",
      "Saved data for symbol CCOI to C:/Users/atlas/OneDrive/Desktop/usstock/CCOI.csv\n",
      "Saved data for symbol CCRD to C:/Users/atlas/OneDrive/Desktop/usstock/CCRD.csv\n",
      "Saved data for symbol CCRN to C:/Users/atlas/OneDrive/Desktop/usstock/CCRN.csv\n",
      "Saved data for symbol CCS to C:/Users/atlas/OneDrive/Desktop/usstock/CCS.csv\n",
      "Saved data for symbol CCSI to C:/Users/atlas/OneDrive/Desktop/usstock/CCSI.csv\n",
      "Saved data for symbol CCTG to C:/Users/atlas/OneDrive/Desktop/usstock/CCTG.csv\n",
      "Saved data for symbol CCTS to C:/Users/atlas/OneDrive/Desktop/usstock/CCTS.csv\n"
     ]
    },
    {
     "name": "stderr",
     "output_type": "stream",
     "text": [
      "\n",
      "1 Failed download:\n",
      "['CCTSW']: Exception('%ticker%: 1d data not available for startTime=-14831751840 and endTime=1713528756. Only 100 years worth of day granularity data are allowed to be fetched per request.')\n"
     ]
    },
    {
     "name": "stdout",
     "output_type": "stream",
     "text": [
      "Saved data for symbol CCTSW to C:/Users/atlas/OneDrive/Desktop/usstock/CCTSW.csv\n",
      "Saved data for symbol CCU to C:/Users/atlas/OneDrive/Desktop/usstock/CCU.csv\n",
      "Saved data for symbol CCZ to C:/Users/atlas/OneDrive/Desktop/usstock/CCZ.csv\n",
      "Saved data for symbol CDAQ to C:/Users/atlas/OneDrive/Desktop/usstock/CDAQ.csv\n",
      "Saved data for symbol CDAQU to C:/Users/atlas/OneDrive/Desktop/usstock/CDAQU.csv\n",
      "Saved data for symbol CDE to C:/Users/atlas/OneDrive/Desktop/usstock/CDE.csv\n",
      "Saved data for symbol CDIO to C:/Users/atlas/OneDrive/Desktop/usstock/CDIO.csv\n"
     ]
    },
    {
     "name": "stderr",
     "output_type": "stream",
     "text": [
      "\n",
      "1 Failed download:\n",
      "['CDIOW']: Exception('%ticker%: 1d data not available for startTime=-14831751840 and endTime=1713528760. Only 100 years worth of day granularity data are allowed to be fetched per request.')\n"
     ]
    },
    {
     "name": "stdout",
     "output_type": "stream",
     "text": [
      "Saved data for symbol CDIOW to C:/Users/atlas/OneDrive/Desktop/usstock/CDIOW.csv\n",
      "Saved data for symbol CDLR to C:/Users/atlas/OneDrive/Desktop/usstock/CDLR.csv\n",
      "Saved data for symbol CDLX to C:/Users/atlas/OneDrive/Desktop/usstock/CDLX.csv\n",
      "Saved data for symbol CDMO to C:/Users/atlas/OneDrive/Desktop/usstock/CDMO.csv\n",
      "Saved data for symbol CDNA to C:/Users/atlas/OneDrive/Desktop/usstock/CDNA.csv\n",
      "Saved data for symbol CDNS to C:/Users/atlas/OneDrive/Desktop/usstock/CDNS.csv\n",
      "Saved data for symbol CDP to C:/Users/atlas/OneDrive/Desktop/usstock/CDP.csv\n"
     ]
    },
    {
     "name": "stderr",
     "output_type": "stream",
     "text": [
      "\n",
      "1 Failed download:\n",
      "['CDR^B']: Exception('%ticker%: No timezone found, symbol may be delisted')\n"
     ]
    },
    {
     "name": "stdout",
     "output_type": "stream",
     "text": [
      "Saved data for symbol CDR^B to C:/Users/atlas/OneDrive/Desktop/usstock/CDR^B.csv\n"
     ]
    },
    {
     "name": "stderr",
     "output_type": "stream",
     "text": [
      "\n",
      "1 Failed download:\n",
      "['CDR^C']: Exception('%ticker%: No timezone found, symbol may be delisted')\n"
     ]
    },
    {
     "name": "stdout",
     "output_type": "stream",
     "text": [
      "Saved data for symbol CDR^C to C:/Users/atlas/OneDrive/Desktop/usstock/CDR^C.csv\n",
      "Saved data for symbol CDRE to C:/Users/atlas/OneDrive/Desktop/usstock/CDRE.csv\n",
      "Saved data for symbol CDRO to C:/Users/atlas/OneDrive/Desktop/usstock/CDRO.csv\n"
     ]
    },
    {
     "name": "stderr",
     "output_type": "stream",
     "text": [
      "\n",
      "1 Failed download:\n",
      "['CDROW']: Exception('%ticker%: 1d data not available for startTime=-14831751840 and endTime=1713528768. Only 100 years worth of day granularity data are allowed to be fetched per request.')\n"
     ]
    },
    {
     "name": "stdout",
     "output_type": "stream",
     "text": [
      "Saved data for symbol CDROW to C:/Users/atlas/OneDrive/Desktop/usstock/CDROW.csv\n",
      "Saved data for symbol CDT to C:/Users/atlas/OneDrive/Desktop/usstock/CDT.csv\n",
      "Saved data for symbol CDTG to C:/Users/atlas/OneDrive/Desktop/usstock/CDTG.csv\n"
     ]
    },
    {
     "name": "stderr",
     "output_type": "stream",
     "text": [
      "\n",
      "1 Failed download:\n",
      "['CDTTW']: Exception('%ticker%: 1d data not available for startTime=-14831751840 and endTime=1713528770. Only 100 years worth of day granularity data are allowed to be fetched per request.')\n"
     ]
    },
    {
     "name": "stdout",
     "output_type": "stream",
     "text": [
      "Saved data for symbol CDTTW to C:/Users/atlas/OneDrive/Desktop/usstock/CDTTW.csv\n",
      "Saved data for symbol CDTX to C:/Users/atlas/OneDrive/Desktop/usstock/CDTX.csv\n",
      "Saved data for symbol CDW to C:/Users/atlas/OneDrive/Desktop/usstock/CDW.csv\n",
      "Saved data for symbol CDXC to C:/Users/atlas/OneDrive/Desktop/usstock/CDXC.csv\n",
      "Saved data for symbol CDXS to C:/Users/atlas/OneDrive/Desktop/usstock/CDXS.csv\n",
      "Saved data for symbol CDZI to C:/Users/atlas/OneDrive/Desktop/usstock/CDZI.csv\n",
      "Saved data for symbol CDZIP to C:/Users/atlas/OneDrive/Desktop/usstock/CDZIP.csv\n",
      "Saved data for symbol CE to C:/Users/atlas/OneDrive/Desktop/usstock/CE.csv\n",
      "Saved data for symbol CEAD to C:/Users/atlas/OneDrive/Desktop/usstock/CEAD.csv\n"
     ]
    },
    {
     "name": "stderr",
     "output_type": "stream",
     "text": [
      "\n",
      "1 Failed download:\n",
      "['CEADW']: Exception('%ticker%: 1d data not available for startTime=-14831751840 and endTime=1713528775. Only 100 years worth of day granularity data are allowed to be fetched per request.')\n"
     ]
    },
    {
     "name": "stdout",
     "output_type": "stream",
     "text": [
      "Saved data for symbol CEADW to C:/Users/atlas/OneDrive/Desktop/usstock/CEADW.csv\n",
      "Saved data for symbol CECO to C:/Users/atlas/OneDrive/Desktop/usstock/CECO.csv\n",
      "Saved data for symbol CEE to C:/Users/atlas/OneDrive/Desktop/usstock/CEE.csv\n",
      "Saved data for symbol CEG to C:/Users/atlas/OneDrive/Desktop/usstock/CEG.csv\n",
      "Saved data for symbol CEI to C:/Users/atlas/OneDrive/Desktop/usstock/CEI.csv\n",
      "Saved data for symbol CEIX to C:/Users/atlas/OneDrive/Desktop/usstock/CEIX.csv\n",
      "Saved data for symbol CELC to C:/Users/atlas/OneDrive/Desktop/usstock/CELC.csv\n",
      "Saved data for symbol CELH to C:/Users/atlas/OneDrive/Desktop/usstock/CELH.csv\n",
      "Saved data for symbol CELU to C:/Users/atlas/OneDrive/Desktop/usstock/CELU.csv\n"
     ]
    },
    {
     "name": "stderr",
     "output_type": "stream",
     "text": [
      "\n",
      "1 Failed download:\n",
      "['CELUW']: Exception('%ticker%: 1d data not available for startTime=-14831751840 and endTime=1713528781. Only 100 years worth of day granularity data are allowed to be fetched per request.')\n"
     ]
    },
    {
     "name": "stdout",
     "output_type": "stream",
     "text": [
      "Saved data for symbol CELUW to C:/Users/atlas/OneDrive/Desktop/usstock/CELUW.csv\n",
      "Saved data for symbol CELZ to C:/Users/atlas/OneDrive/Desktop/usstock/CELZ.csv\n",
      "Saved data for symbol CEM to C:/Users/atlas/OneDrive/Desktop/usstock/CEM.csv\n",
      "Saved data for symbol CENN to C:/Users/atlas/OneDrive/Desktop/usstock/CENN.csv\n",
      "Saved data for symbol CENT to C:/Users/atlas/OneDrive/Desktop/usstock/CENT.csv\n",
      "Saved data for symbol CENTA to C:/Users/atlas/OneDrive/Desktop/usstock/CENTA.csv\n",
      "Saved data for symbol CENX to C:/Users/atlas/OneDrive/Desktop/usstock/CENX.csv\n",
      "Saved data for symbol CEPU to C:/Users/atlas/OneDrive/Desktop/usstock/CEPU.csv\n",
      "Saved data for symbol CERE to C:/Users/atlas/OneDrive/Desktop/usstock/CERE.csv\n",
      "Saved data for symbol CERO to C:/Users/atlas/OneDrive/Desktop/usstock/CERO.csv\n"
     ]
    },
    {
     "name": "stderr",
     "output_type": "stream",
     "text": [
      "\n",
      "1 Failed download:\n",
      "['CEROW']: Exception('%ticker%: 1d data not available for startTime=-14831751840 and endTime=1713528786. Only 100 years worth of day granularity data are allowed to be fetched per request.')\n"
     ]
    },
    {
     "name": "stdout",
     "output_type": "stream",
     "text": [
      "Saved data for symbol CEROW to C:/Users/atlas/OneDrive/Desktop/usstock/CEROW.csv\n",
      "Saved data for symbol CERS to C:/Users/atlas/OneDrive/Desktop/usstock/CERS.csv\n",
      "Saved data for symbol CERT to C:/Users/atlas/OneDrive/Desktop/usstock/CERT.csv\n",
      "Saved data for symbol CET to C:/Users/atlas/OneDrive/Desktop/usstock/CET.csv\n",
      "Saved data for symbol CETU to C:/Users/atlas/OneDrive/Desktop/usstock/CETU.csv\n"
     ]
    },
    {
     "name": "stderr",
     "output_type": "stream",
     "text": [
      "\n",
      "1 Failed download:\n",
      "['CETUW']: Exception('%ticker%: 1d data not available for startTime=-14831751840 and endTime=1713528790. Only 100 years worth of day granularity data are allowed to be fetched per request.')\n"
     ]
    },
    {
     "name": "stdout",
     "output_type": "stream",
     "text": [
      "Saved data for symbol CETUW to C:/Users/atlas/OneDrive/Desktop/usstock/CETUW.csv\n",
      "Saved data for symbol CETX to C:/Users/atlas/OneDrive/Desktop/usstock/CETX.csv\n",
      "Saved data for symbol CETY to C:/Users/atlas/OneDrive/Desktop/usstock/CETY.csv\n",
      "Saved data for symbol CEV to C:/Users/atlas/OneDrive/Desktop/usstock/CEV.csv\n",
      "Saved data for symbol CEVA to C:/Users/atlas/OneDrive/Desktop/usstock/CEVA.csv\n",
      "Saved data for symbol CF to C:/Users/atlas/OneDrive/Desktop/usstock/CF.csv\n",
      "Saved data for symbol CFB to C:/Users/atlas/OneDrive/Desktop/usstock/CFB.csv\n",
      "Saved data for symbol CFBK to C:/Users/atlas/OneDrive/Desktop/usstock/CFBK.csv\n",
      "Saved data for symbol CFFI to C:/Users/atlas/OneDrive/Desktop/usstock/CFFI.csv\n",
      "Saved data for symbol CFFN to C:/Users/atlas/OneDrive/Desktop/usstock/CFFN.csv\n",
      "Saved data for symbol CFFS to C:/Users/atlas/OneDrive/Desktop/usstock/CFFS.csv\n"
     ]
    },
    {
     "name": "stderr",
     "output_type": "stream",
     "text": [
      "\n",
      "1 Failed download:\n",
      "['CFFSW']: Exception('%ticker%: 1d data not available for startTime=-14831751840 and endTime=1713528796. Only 100 years worth of day granularity data are allowed to be fetched per request.')\n"
     ]
    },
    {
     "name": "stdout",
     "output_type": "stream",
     "text": [
      "Saved data for symbol CFFSW to C:/Users/atlas/OneDrive/Desktop/usstock/CFFSW.csv\n",
      "Saved data for symbol CFG to C:/Users/atlas/OneDrive/Desktop/usstock/CFG.csv\n"
     ]
    },
    {
     "name": "stderr",
     "output_type": "stream",
     "text": [
      "\n",
      "1 Failed download:\n",
      "['CFG^D']: Exception('%ticker%: No timezone found, symbol may be delisted')\n"
     ]
    },
    {
     "name": "stdout",
     "output_type": "stream",
     "text": [
      "Saved data for symbol CFG^D to C:/Users/atlas/OneDrive/Desktop/usstock/CFG^D.csv\n"
     ]
    },
    {
     "name": "stderr",
     "output_type": "stream",
     "text": [
      "\n",
      "1 Failed download:\n",
      "['CFG^E']: Exception('%ticker%: No timezone found, symbol may be delisted')\n"
     ]
    },
    {
     "name": "stdout",
     "output_type": "stream",
     "text": [
      "Saved data for symbol CFG^E to C:/Users/atlas/OneDrive/Desktop/usstock/CFG^E.csv\n",
      "Saved data for symbol CFLT to C:/Users/atlas/OneDrive/Desktop/usstock/CFLT.csv\n",
      "Saved data for symbol CFR to C:/Users/atlas/OneDrive/Desktop/usstock/CFR.csv\n"
     ]
    },
    {
     "name": "stderr",
     "output_type": "stream",
     "text": [
      "\n",
      "1 Failed download:\n",
      "['CFR^B']: Exception('%ticker%: No timezone found, symbol may be delisted')\n"
     ]
    },
    {
     "name": "stdout",
     "output_type": "stream",
     "text": [
      "Saved data for symbol CFR^B to C:/Users/atlas/OneDrive/Desktop/usstock/CFR^B.csv\n",
      "Saved data for symbol CFSB to C:/Users/atlas/OneDrive/Desktop/usstock/CFSB.csv\n",
      "Saved data for symbol CG to C:/Users/atlas/OneDrive/Desktop/usstock/CG.csv\n",
      "Saved data for symbol CGA to C:/Users/atlas/OneDrive/Desktop/usstock/CGA.csv\n",
      "Saved data for symbol CGABL to C:/Users/atlas/OneDrive/Desktop/usstock/CGABL.csv\n",
      "Saved data for symbol CGAU to C:/Users/atlas/OneDrive/Desktop/usstock/CGAU.csv\n",
      "Saved data for symbol CGBD to C:/Users/atlas/OneDrive/Desktop/usstock/CGBD.csv\n",
      "Saved data for symbol CGBDL to C:/Users/atlas/OneDrive/Desktop/usstock/CGBDL.csv\n",
      "Saved data for symbol CGC to C:/Users/atlas/OneDrive/Desktop/usstock/CGC.csv\n",
      "Saved data for symbol CGEM to C:/Users/atlas/OneDrive/Desktop/usstock/CGEM.csv\n",
      "Saved data for symbol CGEN to C:/Users/atlas/OneDrive/Desktop/usstock/CGEN.csv\n",
      "Saved data for symbol CGNT to C:/Users/atlas/OneDrive/Desktop/usstock/CGNT.csv\n",
      "Saved data for symbol CGNX to C:/Users/atlas/OneDrive/Desktop/usstock/CGNX.csv\n",
      "Saved data for symbol CGO to C:/Users/atlas/OneDrive/Desktop/usstock/CGO.csv\n",
      "Saved data for symbol CGON to C:/Users/atlas/OneDrive/Desktop/usstock/CGON.csv\n",
      "Saved data for symbol CGTX to C:/Users/atlas/OneDrive/Desktop/usstock/CGTX.csv\n",
      "Saved data for symbol CHAA to C:/Users/atlas/OneDrive/Desktop/usstock/CHAA.csv\n",
      "Saved data for symbol CHCI to C:/Users/atlas/OneDrive/Desktop/usstock/CHCI.csv\n",
      "Saved data for symbol CHCO to C:/Users/atlas/OneDrive/Desktop/usstock/CHCO.csv\n",
      "Saved data for symbol CHCT to C:/Users/atlas/OneDrive/Desktop/usstock/CHCT.csv\n",
      "Saved data for symbol CHD to C:/Users/atlas/OneDrive/Desktop/usstock/CHD.csv\n",
      "Saved data for symbol CHDN to C:/Users/atlas/OneDrive/Desktop/usstock/CHDN.csv\n",
      "Saved data for symbol CHE to C:/Users/atlas/OneDrive/Desktop/usstock/CHE.csv\n",
      "Saved data for symbol CHEF to C:/Users/atlas/OneDrive/Desktop/usstock/CHEF.csv\n",
      "Saved data for symbol CHEK to C:/Users/atlas/OneDrive/Desktop/usstock/CHEK.csv\n",
      "Saved data for symbol CHGG to C:/Users/atlas/OneDrive/Desktop/usstock/CHGG.csv\n",
      "Saved data for symbol CHH to C:/Users/atlas/OneDrive/Desktop/usstock/CHH.csv\n",
      "Saved data for symbol CHI to C:/Users/atlas/OneDrive/Desktop/usstock/CHI.csv\n",
      "Saved data for symbol CHK to C:/Users/atlas/OneDrive/Desktop/usstock/CHK.csv\n",
      "Saved data for symbol CHKEL to C:/Users/atlas/OneDrive/Desktop/usstock/CHKEL.csv\n",
      "Saved data for symbol CHKEW to C:/Users/atlas/OneDrive/Desktop/usstock/CHKEW.csv\n",
      "Saved data for symbol CHKEZ to C:/Users/atlas/OneDrive/Desktop/usstock/CHKEZ.csv\n",
      "Saved data for symbol CHKP to C:/Users/atlas/OneDrive/Desktop/usstock/CHKP.csv\n",
      "Saved data for symbol CHMG to C:/Users/atlas/OneDrive/Desktop/usstock/CHMG.csv\n",
      "Saved data for symbol CHMI to C:/Users/atlas/OneDrive/Desktop/usstock/CHMI.csv\n"
     ]
    },
    {
     "name": "stderr",
     "output_type": "stream",
     "text": [
      "\n",
      "1 Failed download:\n",
      "['CHMI^A']: Exception('%ticker%: No timezone found, symbol may be delisted')\n"
     ]
    },
    {
     "name": "stdout",
     "output_type": "stream",
     "text": [
      "Saved data for symbol CHMI^A to C:/Users/atlas/OneDrive/Desktop/usstock/CHMI^A.csv\n"
     ]
    },
    {
     "name": "stderr",
     "output_type": "stream",
     "text": [
      "\n",
      "1 Failed download:\n",
      "['CHMI^B']: Exception('%ticker%: No timezone found, symbol may be delisted')\n"
     ]
    },
    {
     "name": "stdout",
     "output_type": "stream",
     "text": [
      "Saved data for symbol CHMI^B to C:/Users/atlas/OneDrive/Desktop/usstock/CHMI^B.csv\n",
      "Saved data for symbol CHN to C:/Users/atlas/OneDrive/Desktop/usstock/CHN.csv\n",
      "Saved data for symbol CHNR to C:/Users/atlas/OneDrive/Desktop/usstock/CHNR.csv\n",
      "Saved data for symbol CHPT to C:/Users/atlas/OneDrive/Desktop/usstock/CHPT.csv\n",
      "Saved data for symbol CHR to C:/Users/atlas/OneDrive/Desktop/usstock/CHR.csv\n",
      "Saved data for symbol CHRD to C:/Users/atlas/OneDrive/Desktop/usstock/CHRD.csv\n",
      "Saved data for symbol CHRO to C:/Users/atlas/OneDrive/Desktop/usstock/CHRO.csv\n",
      "Saved data for symbol CHRS to C:/Users/atlas/OneDrive/Desktop/usstock/CHRS.csv\n",
      "Saved data for symbol CHRW to C:/Users/atlas/OneDrive/Desktop/usstock/CHRW.csv\n",
      "Saved data for symbol CHSCL to C:/Users/atlas/OneDrive/Desktop/usstock/CHSCL.csv\n",
      "Saved data for symbol CHSCM to C:/Users/atlas/OneDrive/Desktop/usstock/CHSCM.csv\n",
      "Saved data for symbol CHSCN to C:/Users/atlas/OneDrive/Desktop/usstock/CHSCN.csv\n",
      "Saved data for symbol CHSCO to C:/Users/atlas/OneDrive/Desktop/usstock/CHSCO.csv\n",
      "Saved data for symbol CHSCP to C:/Users/atlas/OneDrive/Desktop/usstock/CHSCP.csv\n",
      "Saved data for symbol CHSN to C:/Users/atlas/OneDrive/Desktop/usstock/CHSN.csv\n",
      "Saved data for symbol CHT to C:/Users/atlas/OneDrive/Desktop/usstock/CHT.csv\n",
      "Saved data for symbol CHTR to C:/Users/atlas/OneDrive/Desktop/usstock/CHTR.csv\n",
      "Saved data for symbol CHUY to C:/Users/atlas/OneDrive/Desktop/usstock/CHUY.csv\n",
      "Saved data for symbol CHW to C:/Users/atlas/OneDrive/Desktop/usstock/CHW.csv\n",
      "Saved data for symbol CHWY to C:/Users/atlas/OneDrive/Desktop/usstock/CHWY.csv\n",
      "Saved data for symbol CHX to C:/Users/atlas/OneDrive/Desktop/usstock/CHX.csv\n",
      "Saved data for symbol CHY to C:/Users/atlas/OneDrive/Desktop/usstock/CHY.csv\n",
      "Saved data for symbol CI to C:/Users/atlas/OneDrive/Desktop/usstock/CI.csv\n",
      "Saved data for symbol CIA to C:/Users/atlas/OneDrive/Desktop/usstock/CIA.csv\n",
      "Saved data for symbol CIB to C:/Users/atlas/OneDrive/Desktop/usstock/CIB.csv\n",
      "Saved data for symbol CIEN to C:/Users/atlas/OneDrive/Desktop/usstock/CIEN.csv\n",
      "Saved data for symbol CIF to C:/Users/atlas/OneDrive/Desktop/usstock/CIF.csv\n",
      "Saved data for symbol CIFR to C:/Users/atlas/OneDrive/Desktop/usstock/CIFR.csv\n"
     ]
    },
    {
     "name": "stderr",
     "output_type": "stream",
     "text": [
      "\n",
      "1 Failed download:\n",
      "['CIFRW']: Exception('%ticker%: 1d data not available for startTime=-14831751840 and endTime=1713528833. Only 100 years worth of day granularity data are allowed to be fetched per request.')\n"
     ]
    },
    {
     "name": "stdout",
     "output_type": "stream",
     "text": [
      "Saved data for symbol CIFRW to C:/Users/atlas/OneDrive/Desktop/usstock/CIFRW.csv\n",
      "Saved data for symbol CIG to C:/Users/atlas/OneDrive/Desktop/usstock/CIG.csv\n",
      "Saved data for symbol CIGI to C:/Users/atlas/OneDrive/Desktop/usstock/CIGI.csv\n",
      "Saved data for symbol CII to C:/Users/atlas/OneDrive/Desktop/usstock/CII.csv\n",
      "Saved data for symbol CIK to C:/Users/atlas/OneDrive/Desktop/usstock/CIK.csv\n",
      "Saved data for symbol CIM to C:/Users/atlas/OneDrive/Desktop/usstock/CIM.csv\n"
     ]
    },
    {
     "name": "stderr",
     "output_type": "stream",
     "text": [
      "\n",
      "1 Failed download:\n",
      "['CIM^A']: Exception('%ticker%: No timezone found, symbol may be delisted')\n"
     ]
    },
    {
     "name": "stdout",
     "output_type": "stream",
     "text": [
      "Saved data for symbol CIM^A to C:/Users/atlas/OneDrive/Desktop/usstock/CIM^A.csv\n"
     ]
    },
    {
     "name": "stderr",
     "output_type": "stream",
     "text": [
      "\n",
      "1 Failed download:\n",
      "['CIM^B']: Exception('%ticker%: No timezone found, symbol may be delisted')\n"
     ]
    },
    {
     "name": "stdout",
     "output_type": "stream",
     "text": [
      "Saved data for symbol CIM^B to C:/Users/atlas/OneDrive/Desktop/usstock/CIM^B.csv\n"
     ]
    },
    {
     "name": "stderr",
     "output_type": "stream",
     "text": [
      "\n",
      "1 Failed download:\n",
      "['CIM^C']: Exception('%ticker%: No timezone found, symbol may be delisted')\n"
     ]
    },
    {
     "name": "stdout",
     "output_type": "stream",
     "text": [
      "Saved data for symbol CIM^C to C:/Users/atlas/OneDrive/Desktop/usstock/CIM^C.csv\n"
     ]
    },
    {
     "name": "stderr",
     "output_type": "stream",
     "text": [
      "\n",
      "1 Failed download:\n",
      "['CIM^D']: Exception('%ticker%: No timezone found, symbol may be delisted')\n"
     ]
    },
    {
     "name": "stdout",
     "output_type": "stream",
     "text": [
      "Saved data for symbol CIM^D to C:/Users/atlas/OneDrive/Desktop/usstock/CIM^D.csv\n",
      "Saved data for symbol CINF to C:/Users/atlas/OneDrive/Desktop/usstock/CINF.csv\n",
      "Saved data for symbol CING to C:/Users/atlas/OneDrive/Desktop/usstock/CING.csv\n"
     ]
    },
    {
     "name": "stderr",
     "output_type": "stream",
     "text": [
      "\n",
      "1 Failed download:\n",
      "['CINGW']: Exception('%ticker%: 1d data not available for startTime=-14831751840 and endTime=1713528846. Only 100 years worth of day granularity data are allowed to be fetched per request.')\n"
     ]
    },
    {
     "name": "stdout",
     "output_type": "stream",
     "text": [
      "Saved data for symbol CINGW to C:/Users/atlas/OneDrive/Desktop/usstock/CINGW.csv\n",
      "Saved data for symbol CINT to C:/Users/atlas/OneDrive/Desktop/usstock/CINT.csv\n",
      "Saved data for symbol CIO to C:/Users/atlas/OneDrive/Desktop/usstock/CIO.csv\n"
     ]
    },
    {
     "name": "stderr",
     "output_type": "stream",
     "text": [
      "\n",
      "1 Failed download:\n",
      "['CIO^A']: Exception('%ticker%: No timezone found, symbol may be delisted')\n"
     ]
    },
    {
     "name": "stdout",
     "output_type": "stream",
     "text": [
      "Saved data for symbol CIO^A to C:/Users/atlas/OneDrive/Desktop/usstock/CIO^A.csv\n",
      "Saved data for symbol CION to C:/Users/atlas/OneDrive/Desktop/usstock/CION.csv\n",
      "Saved data for symbol CISO to C:/Users/atlas/OneDrive/Desktop/usstock/CISO.csv\n",
      "Saved data for symbol CISS to C:/Users/atlas/OneDrive/Desktop/usstock/CISS.csv\n",
      "Saved data for symbol CITE to C:/Users/atlas/OneDrive/Desktop/usstock/CITE.csv\n",
      "Saved data for symbol CITEU to C:/Users/atlas/OneDrive/Desktop/usstock/CITEU.csv\n",
      "Saved data for symbol CIVB to C:/Users/atlas/OneDrive/Desktop/usstock/CIVB.csv\n",
      "Saved data for symbol CIVI to C:/Users/atlas/OneDrive/Desktop/usstock/CIVI.csv\n",
      "Saved data for symbol CIX to C:/Users/atlas/OneDrive/Desktop/usstock/CIX.csv\n",
      "Saved data for symbol CJET to C:/Users/atlas/OneDrive/Desktop/usstock/CJET.csv\n",
      "Saved data for symbol CJJD to C:/Users/atlas/OneDrive/Desktop/usstock/CJJD.csv\n",
      "Saved data for symbol CKPT to C:/Users/atlas/OneDrive/Desktop/usstock/CKPT.csv\n",
      "Saved data for symbol CKX to C:/Users/atlas/OneDrive/Desktop/usstock/CKX.csv\n",
      "Saved data for symbol CL to C:/Users/atlas/OneDrive/Desktop/usstock/CL.csv\n",
      "Saved data for symbol CLAR to C:/Users/atlas/OneDrive/Desktop/usstock/CLAR.csv\n",
      "Saved data for symbol CLB to C:/Users/atlas/OneDrive/Desktop/usstock/CLB.csv\n",
      "Saved data for symbol CLBK to C:/Users/atlas/OneDrive/Desktop/usstock/CLBK.csv\n",
      "Saved data for symbol CLBR to C:/Users/atlas/OneDrive/Desktop/usstock/CLBR.csv\n",
      "Saved data for symbol CLBT to C:/Users/atlas/OneDrive/Desktop/usstock/CLBT.csv\n"
     ]
    },
    {
     "name": "stderr",
     "output_type": "stream",
     "text": [
      "\n",
      "1 Failed download:\n",
      "['CLBTW']: Exception('%ticker%: 1d data not available for startTime=-14831751840 and endTime=1713528858. Only 100 years worth of day granularity data are allowed to be fetched per request.')\n"
     ]
    },
    {
     "name": "stdout",
     "output_type": "stream",
     "text": [
      "Saved data for symbol CLBTW to C:/Users/atlas/OneDrive/Desktop/usstock/CLBTW.csv\n",
      "Saved data for symbol CLCO to C:/Users/atlas/OneDrive/Desktop/usstock/CLCO.csv\n",
      "Saved data for symbol CLDI to C:/Users/atlas/OneDrive/Desktop/usstock/CLDI.csv\n",
      "Saved data for symbol CLDT to C:/Users/atlas/OneDrive/Desktop/usstock/CLDT.csv\n"
     ]
    },
    {
     "name": "stderr",
     "output_type": "stream",
     "text": [
      "\n",
      "1 Failed download:\n",
      "['CLDT^A']: Exception('%ticker%: No timezone found, symbol may be delisted')\n"
     ]
    },
    {
     "name": "stdout",
     "output_type": "stream",
     "text": [
      "Saved data for symbol CLDT^A to C:/Users/atlas/OneDrive/Desktop/usstock/CLDT^A.csv\n",
      "Saved data for symbol CLDX to C:/Users/atlas/OneDrive/Desktop/usstock/CLDX.csv\n",
      "Saved data for symbol CLEU to C:/Users/atlas/OneDrive/Desktop/usstock/CLEU.csv\n",
      "Saved data for symbol CLF to C:/Users/atlas/OneDrive/Desktop/usstock/CLF.csv\n",
      "Saved data for symbol CLFD to C:/Users/atlas/OneDrive/Desktop/usstock/CLFD.csv\n",
      "Saved data for symbol CLGN to C:/Users/atlas/OneDrive/Desktop/usstock/CLGN.csv\n",
      "Saved data for symbol CLH to C:/Users/atlas/OneDrive/Desktop/usstock/CLH.csv\n",
      "Saved data for symbol CLIR to C:/Users/atlas/OneDrive/Desktop/usstock/CLIR.csv\n",
      "Saved data for symbol CLLS to C:/Users/atlas/OneDrive/Desktop/usstock/CLLS.csv\n",
      "Saved data for symbol CLM to C:/Users/atlas/OneDrive/Desktop/usstock/CLM.csv\n",
      "Saved data for symbol CLMB to C:/Users/atlas/OneDrive/Desktop/usstock/CLMB.csv\n",
      "Saved data for symbol CLMT to C:/Users/atlas/OneDrive/Desktop/usstock/CLMT.csv\n",
      "Saved data for symbol CLNE to C:/Users/atlas/OneDrive/Desktop/usstock/CLNE.csv\n",
      "Saved data for symbol CLNN to C:/Users/atlas/OneDrive/Desktop/usstock/CLNN.csv\n"
     ]
    },
    {
     "name": "stderr",
     "output_type": "stream",
     "text": [
      "\n",
      "1 Failed download:\n",
      "['CLNNW']: Exception('%ticker%: 1d data not available for startTime=-14831751840 and endTime=1713528867. Only 100 years worth of day granularity data are allowed to be fetched per request.')\n"
     ]
    },
    {
     "name": "stdout",
     "output_type": "stream",
     "text": [
      "Saved data for symbol CLNNW to C:/Users/atlas/OneDrive/Desktop/usstock/CLNNW.csv\n",
      "Saved data for symbol CLOE to C:/Users/atlas/OneDrive/Desktop/usstock/CLOE.csv\n"
     ]
    },
    {
     "name": "stderr",
     "output_type": "stream",
     "text": [
      "\n",
      "1 Failed download:\n",
      "['CLOER']: Exception('%ticker%: 1d data not available for startTime=-14831751840 and endTime=1713528869. Only 100 years worth of day granularity data are allowed to be fetched per request.')\n"
     ]
    },
    {
     "name": "stdout",
     "output_type": "stream",
     "text": [
      "Saved data for symbol CLOER to C:/Users/atlas/OneDrive/Desktop/usstock/CLOER.csv\n",
      "Saved data for symbol CLOEU to C:/Users/atlas/OneDrive/Desktop/usstock/CLOEU.csv\n",
      "Saved data for symbol CLOV to C:/Users/atlas/OneDrive/Desktop/usstock/CLOV.csv\n",
      "Saved data for symbol CLPR to C:/Users/atlas/OneDrive/Desktop/usstock/CLPR.csv\n",
      "Saved data for symbol CLPS to C:/Users/atlas/OneDrive/Desktop/usstock/CLPS.csv\n",
      "Saved data for symbol CLPT to C:/Users/atlas/OneDrive/Desktop/usstock/CLPT.csv\n",
      "Saved data for symbol CLRB to C:/Users/atlas/OneDrive/Desktop/usstock/CLRB.csv\n",
      "Saved data for symbol CLRC to C:/Users/atlas/OneDrive/Desktop/usstock/CLRC.csv\n",
      "Saved data for symbol CLRO to C:/Users/atlas/OneDrive/Desktop/usstock/CLRO.csv\n",
      "Saved data for symbol CLS to C:/Users/atlas/OneDrive/Desktop/usstock/CLS.csv\n",
      "Saved data for symbol CLSD to C:/Users/atlas/OneDrive/Desktop/usstock/CLSD.csv\n",
      "Saved data for symbol CLSK to C:/Users/atlas/OneDrive/Desktop/usstock/CLSK.csv\n",
      "Saved data for symbol CLST to C:/Users/atlas/OneDrive/Desktop/usstock/CLST.csv\n",
      "Saved data for symbol CLVR to C:/Users/atlas/OneDrive/Desktop/usstock/CLVR.csv\n",
      "Saved data for symbol CLVRW to C:/Users/atlas/OneDrive/Desktop/usstock/CLVRW.csv\n",
      "Saved data for symbol CLVT to C:/Users/atlas/OneDrive/Desktop/usstock/CLVT.csv\n"
     ]
    },
    {
     "name": "stderr",
     "output_type": "stream",
     "text": [
      "\n",
      "1 Failed download:\n",
      "['CLVT^A']: Exception('%ticker%: No timezone found, symbol may be delisted')\n"
     ]
    },
    {
     "name": "stdout",
     "output_type": "stream",
     "text": [
      "Saved data for symbol CLVT^A to C:/Users/atlas/OneDrive/Desktop/usstock/CLVT^A.csv\n",
      "Saved data for symbol CLW to C:/Users/atlas/OneDrive/Desktop/usstock/CLW.csv\n",
      "Saved data for symbol CLWT to C:/Users/atlas/OneDrive/Desktop/usstock/CLWT.csv\n",
      "Saved data for symbol CLX to C:/Users/atlas/OneDrive/Desktop/usstock/CLX.csv\n",
      "Saved data for symbol CM to C:/Users/atlas/OneDrive/Desktop/usstock/CM.csv\n",
      "Saved data for symbol CMA to C:/Users/atlas/OneDrive/Desktop/usstock/CMA.csv\n",
      "Saved data for symbol CMAX to C:/Users/atlas/OneDrive/Desktop/usstock/CMAX.csv\n"
     ]
    },
    {
     "name": "stderr",
     "output_type": "stream",
     "text": [
      "\n",
      "1 Failed download:\n",
      "['CMAXW']: Exception('%ticker%: 1d data not available for startTime=-14831751840 and endTime=1713528880. Only 100 years worth of day granularity data are allowed to be fetched per request.')\n"
     ]
    },
    {
     "name": "stdout",
     "output_type": "stream",
     "text": [
      "Saved data for symbol CMAXW to C:/Users/atlas/OneDrive/Desktop/usstock/CMAXW.csv\n",
      "Saved data for symbol CMBM to C:/Users/atlas/OneDrive/Desktop/usstock/CMBM.csv\n",
      "Saved data for symbol CMC to C:/Users/atlas/OneDrive/Desktop/usstock/CMC.csv\n",
      "Saved data for symbol CMCA to C:/Users/atlas/OneDrive/Desktop/usstock/CMCA.csv\n",
      "Saved data for symbol CMCAU to C:/Users/atlas/OneDrive/Desktop/usstock/CMCAU.csv\n"
     ]
    },
    {
     "name": "stderr",
     "output_type": "stream",
     "text": [
      "\n",
      "1 Failed download:\n",
      "['CMCAW']: Exception('%ticker%: 1d data not available for startTime=-14831751840 and endTime=1713528883. Only 100 years worth of day granularity data are allowed to be fetched per request.')\n"
     ]
    },
    {
     "name": "stdout",
     "output_type": "stream",
     "text": [
      "Saved data for symbol CMCAW to C:/Users/atlas/OneDrive/Desktop/usstock/CMCAW.csv\n",
      "Saved data for symbol CMCL to C:/Users/atlas/OneDrive/Desktop/usstock/CMCL.csv\n",
      "Saved data for symbol CMCM to C:/Users/atlas/OneDrive/Desktop/usstock/CMCM.csv\n",
      "Saved data for symbol CMCO to C:/Users/atlas/OneDrive/Desktop/usstock/CMCO.csv\n",
      "Saved data for symbol CMCSA to C:/Users/atlas/OneDrive/Desktop/usstock/CMCSA.csv\n",
      "Saved data for symbol CMCT to C:/Users/atlas/OneDrive/Desktop/usstock/CMCT.csv\n",
      "Saved data for symbol CME to C:/Users/atlas/OneDrive/Desktop/usstock/CME.csv\n",
      "Saved data for symbol CMG to C:/Users/atlas/OneDrive/Desktop/usstock/CMG.csv\n",
      "Saved data for symbol CMI to C:/Users/atlas/OneDrive/Desktop/usstock/CMI.csv\n",
      "Saved data for symbol CMLS to C:/Users/atlas/OneDrive/Desktop/usstock/CMLS.csv\n",
      "Saved data for symbol CMMB to C:/Users/atlas/OneDrive/Desktop/usstock/CMMB.csv\n",
      "Saved data for symbol CMND to C:/Users/atlas/OneDrive/Desktop/usstock/CMND.csv\n",
      "Saved data for symbol CMP to C:/Users/atlas/OneDrive/Desktop/usstock/CMP.csv\n",
      "Saved data for symbol CMPO to C:/Users/atlas/OneDrive/Desktop/usstock/CMPO.csv\n"
     ]
    },
    {
     "name": "stderr",
     "output_type": "stream",
     "text": [
      "\n",
      "1 Failed download:\n",
      "['CMPOW']: Exception('%ticker%: 1d data not available for startTime=-14831751840 and endTime=1713528891. Only 100 years worth of day granularity data are allowed to be fetched per request.')\n"
     ]
    },
    {
     "name": "stdout",
     "output_type": "stream",
     "text": [
      "Saved data for symbol CMPOW to C:/Users/atlas/OneDrive/Desktop/usstock/CMPOW.csv\n",
      "Saved data for symbol CMPR to C:/Users/atlas/OneDrive/Desktop/usstock/CMPR.csv\n",
      "Saved data for symbol CMPS to C:/Users/atlas/OneDrive/Desktop/usstock/CMPS.csv\n",
      "Saved data for symbol CMPX to C:/Users/atlas/OneDrive/Desktop/usstock/CMPX.csv\n",
      "Saved data for symbol CMRE to C:/Users/atlas/OneDrive/Desktop/usstock/CMRE.csv\n"
     ]
    },
    {
     "name": "stderr",
     "output_type": "stream",
     "text": [
      "\n",
      "1 Failed download:\n",
      "['CMRE^B']: Exception('%ticker%: No timezone found, symbol may be delisted')\n"
     ]
    },
    {
     "name": "stdout",
     "output_type": "stream",
     "text": [
      "Saved data for symbol CMRE^B to C:/Users/atlas/OneDrive/Desktop/usstock/CMRE^B.csv\n"
     ]
    },
    {
     "name": "stderr",
     "output_type": "stream",
     "text": [
      "\n",
      "1 Failed download:\n",
      "['CMRE^C']: Exception('%ticker%: No timezone found, symbol may be delisted')\n"
     ]
    },
    {
     "name": "stdout",
     "output_type": "stream",
     "text": [
      "Saved data for symbol CMRE^C to C:/Users/atlas/OneDrive/Desktop/usstock/CMRE^C.csv\n"
     ]
    },
    {
     "name": "stderr",
     "output_type": "stream",
     "text": [
      "\n",
      "1 Failed download:\n",
      "['CMRE^D']: Exception('%ticker%: No timezone found, symbol may be delisted')\n"
     ]
    },
    {
     "name": "stdout",
     "output_type": "stream",
     "text": [
      "Saved data for symbol CMRE^D to C:/Users/atlas/OneDrive/Desktop/usstock/CMRE^D.csv\n"
     ]
    },
    {
     "name": "stderr",
     "output_type": "stream",
     "text": [
      "\n",
      "1 Failed download:\n",
      "['CMRE^E']: Exception('%ticker%: No timezone found, symbol may be delisted')\n"
     ]
    },
    {
     "name": "stdout",
     "output_type": "stream",
     "text": [
      "Saved data for symbol CMRE^E to C:/Users/atlas/OneDrive/Desktop/usstock/CMRE^E.csv\n",
      "Saved data for symbol CMRX to C:/Users/atlas/OneDrive/Desktop/usstock/CMRX.csv\n",
      "Saved data for symbol CMS to C:/Users/atlas/OneDrive/Desktop/usstock/CMS.csv\n"
     ]
    },
    {
     "name": "stderr",
     "output_type": "stream",
     "text": [
      "\n",
      "1 Failed download:\n",
      "['CMS^B']: Exception('%ticker%: No timezone found, symbol may be delisted')\n"
     ]
    },
    {
     "name": "stdout",
     "output_type": "stream",
     "text": [
      "Saved data for symbol CMS^B to C:/Users/atlas/OneDrive/Desktop/usstock/CMS^B.csv\n"
     ]
    },
    {
     "name": "stderr",
     "output_type": "stream",
     "text": [
      "\n",
      "1 Failed download:\n",
      "['CMS^C']: Exception('%ticker%: No timezone found, symbol may be delisted')\n"
     ]
    },
    {
     "name": "stdout",
     "output_type": "stream",
     "text": [
      "Saved data for symbol CMS^C to C:/Users/atlas/OneDrive/Desktop/usstock/CMS^C.csv\n",
      "Saved data for symbol CMSA to C:/Users/atlas/OneDrive/Desktop/usstock/CMSA.csv\n",
      "Saved data for symbol CMSC to C:/Users/atlas/OneDrive/Desktop/usstock/CMSC.csv\n",
      "Saved data for symbol CMSD to C:/Users/atlas/OneDrive/Desktop/usstock/CMSD.csv\n",
      "Saved data for symbol CMT to C:/Users/atlas/OneDrive/Desktop/usstock/CMT.csv\n",
      "Saved data for symbol CMTG to C:/Users/atlas/OneDrive/Desktop/usstock/CMTG.csv\n",
      "Saved data for symbol CMTL to C:/Users/atlas/OneDrive/Desktop/usstock/CMTL.csv\n",
      "Saved data for symbol CMU to C:/Users/atlas/OneDrive/Desktop/usstock/CMU.csv\n",
      "Saved data for symbol CNA to C:/Users/atlas/OneDrive/Desktop/usstock/CNA.csv\n",
      "Saved data for symbol CNC to C:/Users/atlas/OneDrive/Desktop/usstock/CNC.csv\n",
      "Saved data for symbol CNDA to C:/Users/atlas/OneDrive/Desktop/usstock/CNDA.csv\n",
      "Saved data for symbol CNDT to C:/Users/atlas/OneDrive/Desktop/usstock/CNDT.csv\n",
      "Saved data for symbol CNET to C:/Users/atlas/OneDrive/Desktop/usstock/CNET.csv\n",
      "Saved data for symbol CNEY to C:/Users/atlas/OneDrive/Desktop/usstock/CNEY.csv\n",
      "Saved data for symbol CNF to C:/Users/atlas/OneDrive/Desktop/usstock/CNF.csv\n",
      "Saved data for symbol CNFR to C:/Users/atlas/OneDrive/Desktop/usstock/CNFR.csv\n"
     ]
    },
    {
     "name": "stderr",
     "output_type": "stream",
     "text": [
      "\n",
      "1 Failed download:\n",
      "['CNFRZ']: Exception('%ticker%: 1d data not available for startTime=-14831751840 and endTime=1713528914. Only 100 years worth of day granularity data are allowed to be fetched per request.')\n"
     ]
    },
    {
     "name": "stdout",
     "output_type": "stream",
     "text": [
      "Saved data for symbol CNFRZ to C:/Users/atlas/OneDrive/Desktop/usstock/CNFRZ.csv\n",
      "Saved data for symbol CNGLU to C:/Users/atlas/OneDrive/Desktop/usstock/CNGLU.csv\n"
     ]
    },
    {
     "name": "stderr",
     "output_type": "stream",
     "text": [
      "\n",
      "1 Failed download:\n",
      "['CNGLW']: Exception('%ticker%: 1d data not available for startTime=-14831751840 and endTime=1713528916. Only 100 years worth of day granularity data are allowed to be fetched per request.')\n"
     ]
    },
    {
     "name": "stdout",
     "output_type": "stream",
     "text": [
      "Saved data for symbol CNGLW to C:/Users/atlas/OneDrive/Desktop/usstock/CNGLW.csv\n",
      "Saved data for symbol CNHI to C:/Users/atlas/OneDrive/Desktop/usstock/CNHI.csv\n",
      "Saved data for symbol CNI to C:/Users/atlas/OneDrive/Desktop/usstock/CNI.csv\n",
      "Saved data for symbol CNK to C:/Users/atlas/OneDrive/Desktop/usstock/CNK.csv\n",
      "Saved data for symbol CNM to C:/Users/atlas/OneDrive/Desktop/usstock/CNM.csv\n",
      "Saved data for symbol CNMD to C:/Users/atlas/OneDrive/Desktop/usstock/CNMD.csv\n",
      "Saved data for symbol CNNE to C:/Users/atlas/OneDrive/Desktop/usstock/CNNE.csv\n",
      "Saved data for symbol CNO to C:/Users/atlas/OneDrive/Desktop/usstock/CNO.csv\n"
     ]
    },
    {
     "name": "stderr",
     "output_type": "stream",
     "text": [
      "\n",
      "1 Failed download:\n",
      "['CNO^A']: Exception('%ticker%: No timezone found, symbol may be delisted')\n"
     ]
    },
    {
     "name": "stdout",
     "output_type": "stream",
     "text": [
      "Saved data for symbol CNO^A to C:/Users/atlas/OneDrive/Desktop/usstock/CNO^A.csv\n",
      "Saved data for symbol CNOB to C:/Users/atlas/OneDrive/Desktop/usstock/CNOB.csv\n",
      "Saved data for symbol CNOBP to C:/Users/atlas/OneDrive/Desktop/usstock/CNOBP.csv\n",
      "Saved data for symbol CNP to C:/Users/atlas/OneDrive/Desktop/usstock/CNP.csv\n",
      "Saved data for symbol CNQ to C:/Users/atlas/OneDrive/Desktop/usstock/CNQ.csv\n",
      "Saved data for symbol CNS to C:/Users/atlas/OneDrive/Desktop/usstock/CNS.csv\n",
      "Saved data for symbol CNSL to C:/Users/atlas/OneDrive/Desktop/usstock/CNSL.csv\n",
      "Saved data for symbol CNSP to C:/Users/atlas/OneDrive/Desktop/usstock/CNSP.csv\n",
      "Saved data for symbol CNTA to C:/Users/atlas/OneDrive/Desktop/usstock/CNTA.csv\n",
      "Saved data for symbol CNTB to C:/Users/atlas/OneDrive/Desktop/usstock/CNTB.csv\n",
      "Saved data for symbol CNTG to C:/Users/atlas/OneDrive/Desktop/usstock/CNTG.csv\n",
      "Saved data for symbol CNTX to C:/Users/atlas/OneDrive/Desktop/usstock/CNTX.csv\n",
      "Saved data for symbol CNTY to C:/Users/atlas/OneDrive/Desktop/usstock/CNTY.csv\n",
      "Saved data for symbol CNVS to C:/Users/atlas/OneDrive/Desktop/usstock/CNVS.csv\n",
      "Saved data for symbol CNX to C:/Users/atlas/OneDrive/Desktop/usstock/CNX.csv\n",
      "Saved data for symbol CNXC to C:/Users/atlas/OneDrive/Desktop/usstock/CNXC.csv\n",
      "Saved data for symbol CNXN to C:/Users/atlas/OneDrive/Desktop/usstock/CNXN.csv\n",
      "Saved data for symbol COCH to C:/Users/atlas/OneDrive/Desktop/usstock/COCH.csv\n"
     ]
    },
    {
     "name": "stderr",
     "output_type": "stream",
     "text": [
      "\n",
      "1 Failed download:\n",
      "['COCHW']: Exception('%ticker%: 1d data not available for startTime=-14831751840 and endTime=1713528930. Only 100 years worth of day granularity data are allowed to be fetched per request.')\n"
     ]
    },
    {
     "name": "stdout",
     "output_type": "stream",
     "text": [
      "Saved data for symbol COCHW to C:/Users/atlas/OneDrive/Desktop/usstock/COCHW.csv\n",
      "Saved data for symbol COCO to C:/Users/atlas/OneDrive/Desktop/usstock/COCO.csv\n",
      "Saved data for symbol COCP to C:/Users/atlas/OneDrive/Desktop/usstock/COCP.csv\n",
      "Saved data for symbol CODA to C:/Users/atlas/OneDrive/Desktop/usstock/CODA.csv\n",
      "Saved data for symbol CODI to C:/Users/atlas/OneDrive/Desktop/usstock/CODI.csv\n"
     ]
    },
    {
     "name": "stderr",
     "output_type": "stream",
     "text": [
      "\n",
      "1 Failed download:\n",
      "['CODI^A']: Exception('%ticker%: No timezone found, symbol may be delisted')\n"
     ]
    },
    {
     "name": "stdout",
     "output_type": "stream",
     "text": [
      "Saved data for symbol CODI^A to C:/Users/atlas/OneDrive/Desktop/usstock/CODI^A.csv\n"
     ]
    },
    {
     "name": "stderr",
     "output_type": "stream",
     "text": [
      "\n",
      "1 Failed download:\n",
      "['CODI^B']: Exception('%ticker%: No timezone found, symbol may be delisted')\n"
     ]
    },
    {
     "name": "stdout",
     "output_type": "stream",
     "text": [
      "Saved data for symbol CODI^B to C:/Users/atlas/OneDrive/Desktop/usstock/CODI^B.csv\n"
     ]
    },
    {
     "name": "stderr",
     "output_type": "stream",
     "text": [
      "\n",
      "1 Failed download:\n",
      "['CODI^C']: Exception('%ticker%: No timezone found, symbol may be delisted')\n"
     ]
    },
    {
     "name": "stdout",
     "output_type": "stream",
     "text": [
      "Saved data for symbol CODI^C to C:/Users/atlas/OneDrive/Desktop/usstock/CODI^C.csv\n",
      "Saved data for symbol CODX to C:/Users/atlas/OneDrive/Desktop/usstock/CODX.csv\n",
      "Saved data for symbol COE to C:/Users/atlas/OneDrive/Desktop/usstock/COE.csv\n",
      "Saved data for symbol COEP to C:/Users/atlas/OneDrive/Desktop/usstock/COEP.csv\n"
     ]
    },
    {
     "name": "stderr",
     "output_type": "stream",
     "text": [
      "\n",
      "1 Failed download:\n",
      "['COEPW']: Exception('%ticker%: 1d data not available for startTime=-14831751840 and endTime=1713528942. Only 100 years worth of day granularity data are allowed to be fetched per request.')\n"
     ]
    },
    {
     "name": "stdout",
     "output_type": "stream",
     "text": [
      "Saved data for symbol COEPW to C:/Users/atlas/OneDrive/Desktop/usstock/COEPW.csv\n",
      "Saved data for symbol COF to C:/Users/atlas/OneDrive/Desktop/usstock/COF.csv\n"
     ]
    },
    {
     "name": "stderr",
     "output_type": "stream",
     "text": [
      "\n",
      "1 Failed download:\n",
      "['COF^I']: Exception('%ticker%: No timezone found, symbol may be delisted')\n"
     ]
    },
    {
     "name": "stdout",
     "output_type": "stream",
     "text": [
      "Saved data for symbol COF^I to C:/Users/atlas/OneDrive/Desktop/usstock/COF^I.csv\n"
     ]
    },
    {
     "name": "stderr",
     "output_type": "stream",
     "text": [
      "\n",
      "1 Failed download:\n",
      "['COF^J']: Exception('%ticker%: No timezone found, symbol may be delisted')\n"
     ]
    },
    {
     "name": "stdout",
     "output_type": "stream",
     "text": [
      "Saved data for symbol COF^J to C:/Users/atlas/OneDrive/Desktop/usstock/COF^J.csv\n"
     ]
    },
    {
     "name": "stderr",
     "output_type": "stream",
     "text": [
      "\n",
      "1 Failed download:\n",
      "['COF^K']: Exception('%ticker%: No timezone found, symbol may be delisted')\n"
     ]
    },
    {
     "name": "stdout",
     "output_type": "stream",
     "text": [
      "Saved data for symbol COF^K to C:/Users/atlas/OneDrive/Desktop/usstock/COF^K.csv\n"
     ]
    },
    {
     "name": "stderr",
     "output_type": "stream",
     "text": [
      "\n",
      "1 Failed download:\n",
      "['COF^L']: Exception('%ticker%: No timezone found, symbol may be delisted')\n"
     ]
    },
    {
     "name": "stdout",
     "output_type": "stream",
     "text": [
      "Saved data for symbol COF^L to C:/Users/atlas/OneDrive/Desktop/usstock/COF^L.csv\n"
     ]
    },
    {
     "name": "stderr",
     "output_type": "stream",
     "text": [
      "\n",
      "1 Failed download:\n",
      "['COF^N']: Exception('%ticker%: No timezone found, symbol may be delisted')\n"
     ]
    },
    {
     "name": "stdout",
     "output_type": "stream",
     "text": [
      "Saved data for symbol COF^N to C:/Users/atlas/OneDrive/Desktop/usstock/COF^N.csv\n",
      "Saved data for symbol COFS to C:/Users/atlas/OneDrive/Desktop/usstock/COFS.csv\n",
      "Saved data for symbol COGT to C:/Users/atlas/OneDrive/Desktop/usstock/COGT.csv\n",
      "Saved data for symbol COHN to C:/Users/atlas/OneDrive/Desktop/usstock/COHN.csv\n",
      "Saved data for symbol COHR to C:/Users/atlas/OneDrive/Desktop/usstock/COHR.csv\n",
      "Saved data for symbol COHU to C:/Users/atlas/OneDrive/Desktop/usstock/COHU.csv\n",
      "Saved data for symbol COIN to C:/Users/atlas/OneDrive/Desktop/usstock/COIN.csv\n",
      "Saved data for symbol COKE to C:/Users/atlas/OneDrive/Desktop/usstock/COKE.csv\n",
      "Saved data for symbol COLB to C:/Users/atlas/OneDrive/Desktop/usstock/COLB.csv\n",
      "Saved data for symbol COLD to C:/Users/atlas/OneDrive/Desktop/usstock/COLD.csv\n",
      "Saved data for symbol COLL to C:/Users/atlas/OneDrive/Desktop/usstock/COLL.csv\n",
      "Saved data for symbol COLM to C:/Users/atlas/OneDrive/Desktop/usstock/COLM.csv\n",
      "Saved data for symbol COMM to C:/Users/atlas/OneDrive/Desktop/usstock/COMM.csv\n",
      "Saved data for symbol COMP to C:/Users/atlas/OneDrive/Desktop/usstock/COMP.csv\n",
      "Saved data for symbol CONN to C:/Users/atlas/OneDrive/Desktop/usstock/CONN.csv\n",
      "Saved data for symbol CONX to C:/Users/atlas/OneDrive/Desktop/usstock/CONX.csv\n"
     ]
    },
    {
     "name": "stderr",
     "output_type": "stream",
     "text": [
      "\n",
      "1 Failed download:\n",
      "['CONXW']: Exception('%ticker%: 1d data not available for startTime=-14831751840 and endTime=1713528959. Only 100 years worth of day granularity data are allowed to be fetched per request.')\n"
     ]
    },
    {
     "name": "stdout",
     "output_type": "stream",
     "text": [
      "Saved data for symbol CONXW to C:/Users/atlas/OneDrive/Desktop/usstock/CONXW.csv\n",
      "Saved data for symbol COO to C:/Users/atlas/OneDrive/Desktop/usstock/COO.csv\n",
      "Saved data for symbol COOK to C:/Users/atlas/OneDrive/Desktop/usstock/COOK.csv\n",
      "Saved data for symbol COOL to C:/Users/atlas/OneDrive/Desktop/usstock/COOL.csv\n",
      "Saved data for symbol COOLW to C:/Users/atlas/OneDrive/Desktop/usstock/COOLW.csv\n",
      "Saved data for symbol COOP to C:/Users/atlas/OneDrive/Desktop/usstock/COOP.csv\n",
      "Saved data for symbol COOT to C:/Users/atlas/OneDrive/Desktop/usstock/COOT.csv\n"
     ]
    },
    {
     "name": "stderr",
     "output_type": "stream",
     "text": [
      "\n",
      "1 Failed download:\n",
      "['COOTW']: Exception('%ticker%: 1d data not available for startTime=-14831751840 and endTime=1713528963. Only 100 years worth of day granularity data are allowed to be fetched per request.')\n"
     ]
    },
    {
     "name": "stdout",
     "output_type": "stream",
     "text": [
      "Saved data for symbol COOTW to C:/Users/atlas/OneDrive/Desktop/usstock/COOTW.csv\n",
      "Saved data for symbol COP to C:/Users/atlas/OneDrive/Desktop/usstock/COP.csv\n",
      "Saved data for symbol COR to C:/Users/atlas/OneDrive/Desktop/usstock/COR.csv\n",
      "Saved data for symbol CORT to C:/Users/atlas/OneDrive/Desktop/usstock/CORT.csv\n",
      "Saved data for symbol CORZ to C:/Users/atlas/OneDrive/Desktop/usstock/CORZ.csv\n"
     ]
    },
    {
     "name": "stderr",
     "output_type": "stream",
     "text": [
      "\n",
      "1 Failed download:\n",
      "['CORZW']: Exception('%ticker%: 1d data not available for startTime=-14831751840 and endTime=1713528968. Only 100 years worth of day granularity data are allowed to be fetched per request.')\n"
     ]
    },
    {
     "name": "stdout",
     "output_type": "stream",
     "text": [
      "Saved data for symbol CORZW to C:/Users/atlas/OneDrive/Desktop/usstock/CORZW.csv\n"
     ]
    },
    {
     "name": "stderr",
     "output_type": "stream",
     "text": [
      "\n",
      "1 Failed download:\n",
      "['CORZZ']: Exception('%ticker%: 1d data not available for startTime=-14831751840 and endTime=1713528970. Only 100 years worth of day granularity data are allowed to be fetched per request.')\n"
     ]
    },
    {
     "name": "stdout",
     "output_type": "stream",
     "text": [
      "Saved data for symbol CORZZ to C:/Users/atlas/OneDrive/Desktop/usstock/CORZZ.csv\n",
      "Saved data for symbol COSM to C:/Users/atlas/OneDrive/Desktop/usstock/COSM.csv\n",
      "Saved data for symbol COST to C:/Users/atlas/OneDrive/Desktop/usstock/COST.csv\n",
      "Saved data for symbol COTY to C:/Users/atlas/OneDrive/Desktop/usstock/COTY.csv\n",
      "Saved data for symbol COUR to C:/Users/atlas/OneDrive/Desktop/usstock/COUR.csv\n",
      "Saved data for symbol COYA to C:/Users/atlas/OneDrive/Desktop/usstock/COYA.csv\n",
      "Saved data for symbol CP to C:/Users/atlas/OneDrive/Desktop/usstock/CP.csv\n",
      "Saved data for symbol CPA to C:/Users/atlas/OneDrive/Desktop/usstock/CPA.csv\n",
      "Saved data for symbol CPAC to C:/Users/atlas/OneDrive/Desktop/usstock/CPAC.csv\n",
      "Saved data for symbol CPAY to C:/Users/atlas/OneDrive/Desktop/usstock/CPAY.csv\n",
      "Saved data for symbol CPB to C:/Users/atlas/OneDrive/Desktop/usstock/CPB.csv\n",
      "Saved data for symbol CPBI to C:/Users/atlas/OneDrive/Desktop/usstock/CPBI.csv\n",
      "Saved data for symbol CPF to C:/Users/atlas/OneDrive/Desktop/usstock/CPF.csv\n",
      "Saved data for symbol CPG to C:/Users/atlas/OneDrive/Desktop/usstock/CPG.csv\n",
      "Saved data for symbol CPHC to C:/Users/atlas/OneDrive/Desktop/usstock/CPHC.csv\n",
      "Saved data for symbol CPHI to C:/Users/atlas/OneDrive/Desktop/usstock/CPHI.csv\n",
      "Saved data for symbol CPIX to C:/Users/atlas/OneDrive/Desktop/usstock/CPIX.csv\n",
      "Saved data for symbol CPK to C:/Users/atlas/OneDrive/Desktop/usstock/CPK.csv\n",
      "Saved data for symbol CPLP to C:/Users/atlas/OneDrive/Desktop/usstock/CPLP.csv\n",
      "Saved data for symbol CPNG to C:/Users/atlas/OneDrive/Desktop/usstock/CPNG.csv\n",
      "Saved data for symbol CPOP to C:/Users/atlas/OneDrive/Desktop/usstock/CPOP.csv\n",
      "Saved data for symbol CPRI to C:/Users/atlas/OneDrive/Desktop/usstock/CPRI.csv\n",
      "Saved data for symbol CPRT to C:/Users/atlas/OneDrive/Desktop/usstock/CPRT.csv\n",
      "Saved data for symbol CPRX to C:/Users/atlas/OneDrive/Desktop/usstock/CPRX.csv\n",
      "Saved data for symbol CPS to C:/Users/atlas/OneDrive/Desktop/usstock/CPS.csv\n",
      "Saved data for symbol CPSH to C:/Users/atlas/OneDrive/Desktop/usstock/CPSH.csv\n",
      "Saved data for symbol CPSS to C:/Users/atlas/OneDrive/Desktop/usstock/CPSS.csv\n",
      "Saved data for symbol CPT to C:/Users/atlas/OneDrive/Desktop/usstock/CPT.csv\n",
      "Saved data for symbol CPTN to C:/Users/atlas/OneDrive/Desktop/usstock/CPTN.csv\n"
     ]
    },
    {
     "name": "stderr",
     "output_type": "stream",
     "text": [
      "\n",
      "1 Failed download:\n",
      "['CPTNW']: Exception('%ticker%: 1d data not available for startTime=-14831751840 and endTime=1713528984. Only 100 years worth of day granularity data are allowed to be fetched per request.')\n"
     ]
    },
    {
     "name": "stdout",
     "output_type": "stream",
     "text": [
      "Saved data for symbol CPTNW to C:/Users/atlas/OneDrive/Desktop/usstock/CPTNW.csv\n",
      "Saved data for symbol CPZ to C:/Users/atlas/OneDrive/Desktop/usstock/CPZ.csv\n",
      "Saved data for symbol CQP to C:/Users/atlas/OneDrive/Desktop/usstock/CQP.csv\n",
      "Saved data for symbol CR to C:/Users/atlas/OneDrive/Desktop/usstock/CR.csv\n",
      "Saved data for symbol CRAI to C:/Users/atlas/OneDrive/Desktop/usstock/CRAI.csv\n",
      "Saved data for symbol CRBG to C:/Users/atlas/OneDrive/Desktop/usstock/CRBG.csv\n",
      "Saved data for symbol CRBP to C:/Users/atlas/OneDrive/Desktop/usstock/CRBP.csv\n",
      "Saved data for symbol CRBU to C:/Users/atlas/OneDrive/Desktop/usstock/CRBU.csv\n",
      "Saved data for symbol CRC to C:/Users/atlas/OneDrive/Desktop/usstock/CRC.csv\n",
      "Saved data for symbol CRCT to C:/Users/atlas/OneDrive/Desktop/usstock/CRCT.csv\n"
     ]
    },
    {
     "name": "stderr",
     "output_type": "stream",
     "text": [
      "Failed to get ticker 'CRD/A' reason: Expecting value: line 1 column 1 (char 0)\n",
      "\n",
      "1 Failed download:\n",
      "['CRD/A']: Exception('%ticker%: No timezone found, symbol may be delisted')\n"
     ]
    },
    {
     "name": "stdout",
     "output_type": "stream",
     "text": [
      "Error occurred while downloading data for symbol CRD/A: Cannot save file into a non-existent directory: 'C:\\Users\\atlas\\OneDrive\\Desktop\\usstock\\CRD'\n"
     ]
    },
    {
     "name": "stderr",
     "output_type": "stream",
     "text": [
      "Failed to get ticker 'CRD/B' reason: Expecting value: line 1 column 1 (char 0)\n",
      "\n",
      "1 Failed download:\n",
      "['CRD/B']: Exception('%ticker%: No timezone found, symbol may be delisted')\n"
     ]
    },
    {
     "name": "stdout",
     "output_type": "stream",
     "text": [
      "Error occurred while downloading data for symbol CRD/B: Cannot save file into a non-existent directory: 'C:\\Users\\atlas\\OneDrive\\Desktop\\usstock\\CRD'\n",
      "Saved data for symbol CRDF to C:/Users/atlas/OneDrive/Desktop/usstock/CRDF.csv\n",
      "Saved data for symbol CRDL to C:/Users/atlas/OneDrive/Desktop/usstock/CRDL.csv\n",
      "Saved data for symbol CRDO to C:/Users/atlas/OneDrive/Desktop/usstock/CRDO.csv\n",
      "Saved data for symbol CREG to C:/Users/atlas/OneDrive/Desktop/usstock/CREG.csv\n"
     ]
    },
    {
     "name": "stderr",
     "output_type": "stream",
     "text": [
      "\n",
      "1 Failed download:\n",
      "['CRESW']: Exception('%ticker%: 1d data not available for startTime=-14831751840 and endTime=1713528994. Only 100 years worth of day granularity data are allowed to be fetched per request.')\n"
     ]
    },
    {
     "name": "stdout",
     "output_type": "stream",
     "text": [
      "Saved data for symbol CRESW to C:/Users/atlas/OneDrive/Desktop/usstock/CRESW.csv\n",
      "Saved data for symbol CRESY to C:/Users/atlas/OneDrive/Desktop/usstock/CRESY.csv\n",
      "Saved data for symbol CREV to C:/Users/atlas/OneDrive/Desktop/usstock/CREV.csv\n"
     ]
    },
    {
     "name": "stderr",
     "output_type": "stream",
     "text": [
      "\n",
      "1 Failed download:\n",
      "['CREVW']: Exception('%ticker%: 1d data not available for startTime=-14831751840 and endTime=1713528997. Only 100 years worth of day granularity data are allowed to be fetched per request.')\n"
     ]
    },
    {
     "name": "stdout",
     "output_type": "stream",
     "text": [
      "Saved data for symbol CREVW to C:/Users/atlas/OneDrive/Desktop/usstock/CREVW.csv\n",
      "Saved data for symbol CREX to C:/Users/atlas/OneDrive/Desktop/usstock/CREX.csv\n",
      "Saved data for symbol CRF to C:/Users/atlas/OneDrive/Desktop/usstock/CRF.csv\n",
      "Saved data for symbol CRGO to C:/Users/atlas/OneDrive/Desktop/usstock/CRGO.csv\n",
      "Saved data for symbol CRGX to C:/Users/atlas/OneDrive/Desktop/usstock/CRGX.csv\n",
      "Saved data for symbol CRGY to C:/Users/atlas/OneDrive/Desktop/usstock/CRGY.csv\n",
      "Saved data for symbol CRH to C:/Users/atlas/OneDrive/Desktop/usstock/CRH.csv\n",
      "Saved data for symbol CRI to C:/Users/atlas/OneDrive/Desktop/usstock/CRI.csv\n",
      "Saved data for symbol CRIS to C:/Users/atlas/OneDrive/Desktop/usstock/CRIS.csv\n",
      "Saved data for symbol CRK to C:/Users/atlas/OneDrive/Desktop/usstock/CRK.csv\n",
      "Saved data for symbol CRKN to C:/Users/atlas/OneDrive/Desktop/usstock/CRKN.csv\n",
      "Saved data for symbol CRL to C:/Users/atlas/OneDrive/Desktop/usstock/CRL.csv\n",
      "Saved data for symbol CRM to C:/Users/atlas/OneDrive/Desktop/usstock/CRM.csv\n",
      "Saved data for symbol CRMD to C:/Users/atlas/OneDrive/Desktop/usstock/CRMD.csv\n",
      "Saved data for symbol CRML to C:/Users/atlas/OneDrive/Desktop/usstock/CRML.csv\n"
     ]
    },
    {
     "name": "stderr",
     "output_type": "stream",
     "text": [
      "\n",
      "1 Failed download:\n",
      "['CRMLW']: Exception('%ticker%: 1d data not available for startTime=-14831751840 and endTime=1713529004. Only 100 years worth of day granularity data are allowed to be fetched per request.')\n"
     ]
    },
    {
     "name": "stdout",
     "output_type": "stream",
     "text": [
      "Saved data for symbol CRMLW to C:/Users/atlas/OneDrive/Desktop/usstock/CRMLW.csv\n",
      "Saved data for symbol CRMT to C:/Users/atlas/OneDrive/Desktop/usstock/CRMT.csv\n",
      "Saved data for symbol CRNC to C:/Users/atlas/OneDrive/Desktop/usstock/CRNC.csv\n",
      "Saved data for symbol CRNT to C:/Users/atlas/OneDrive/Desktop/usstock/CRNT.csv\n",
      "Saved data for symbol CRNX to C:/Users/atlas/OneDrive/Desktop/usstock/CRNX.csv\n",
      "Saved data for symbol CRON to C:/Users/atlas/OneDrive/Desktop/usstock/CRON.csv\n",
      "Saved data for symbol CROX to C:/Users/atlas/OneDrive/Desktop/usstock/CROX.csv\n",
      "Saved data for symbol CRS to C:/Users/atlas/OneDrive/Desktop/usstock/CRS.csv\n",
      "Saved data for symbol CRSP to C:/Users/atlas/OneDrive/Desktop/usstock/CRSP.csv\n",
      "Saved data for symbol CRSR to C:/Users/atlas/OneDrive/Desktop/usstock/CRSR.csv\n",
      "Saved data for symbol CRT to C:/Users/atlas/OneDrive/Desktop/usstock/CRT.csv\n",
      "Saved data for symbol CRTO to C:/Users/atlas/OneDrive/Desktop/usstock/CRTO.csv\n",
      "Saved data for symbol CRUS to C:/Users/atlas/OneDrive/Desktop/usstock/CRUS.csv\n",
      "Saved data for symbol CRVL to C:/Users/atlas/OneDrive/Desktop/usstock/CRVL.csv\n",
      "Saved data for symbol CRVO to C:/Users/atlas/OneDrive/Desktop/usstock/CRVO.csv\n",
      "Saved data for symbol CRVS to C:/Users/atlas/OneDrive/Desktop/usstock/CRVS.csv\n",
      "Saved data for symbol CRWD to C:/Users/atlas/OneDrive/Desktop/usstock/CRWD.csv\n",
      "Saved data for symbol CRWS to C:/Users/atlas/OneDrive/Desktop/usstock/CRWS.csv\n",
      "Saved data for symbol CSAN to C:/Users/atlas/OneDrive/Desktop/usstock/CSAN.csv\n",
      "Saved data for symbol CSBR to C:/Users/atlas/OneDrive/Desktop/usstock/CSBR.csv\n",
      "Saved data for symbol CSCO to C:/Users/atlas/OneDrive/Desktop/usstock/CSCO.csv\n",
      "Saved data for symbol CSGP to C:/Users/atlas/OneDrive/Desktop/usstock/CSGP.csv\n",
      "Saved data for symbol CSGS to C:/Users/atlas/OneDrive/Desktop/usstock/CSGS.csv\n",
      "Saved data for symbol CSIQ to C:/Users/atlas/OneDrive/Desktop/usstock/CSIQ.csv\n",
      "Saved data for symbol CSL to C:/Users/atlas/OneDrive/Desktop/usstock/CSL.csv\n",
      "Saved data for symbol CSLM to C:/Users/atlas/OneDrive/Desktop/usstock/CSLM.csv\n"
     ]
    },
    {
     "name": "stderr",
     "output_type": "stream",
     "text": [
      "\n",
      "1 Failed download:\n",
      "['CSLMR']: Exception('%ticker%: 1d data not available for startTime=-14831751840 and endTime=1713529016. Only 100 years worth of day granularity data are allowed to be fetched per request.')\n"
     ]
    },
    {
     "name": "stdout",
     "output_type": "stream",
     "text": [
      "Saved data for symbol CSLMR to C:/Users/atlas/OneDrive/Desktop/usstock/CSLMR.csv\n"
     ]
    },
    {
     "name": "stderr",
     "output_type": "stream",
     "text": [
      "\n",
      "1 Failed download:\n",
      "['CSLMW']: Exception('%ticker%: 1d data not available for startTime=-14831751840 and endTime=1713529018. Only 100 years worth of day granularity data are allowed to be fetched per request.')\n"
     ]
    },
    {
     "name": "stdout",
     "output_type": "stream",
     "text": [
      "Saved data for symbol CSLMW to C:/Users/atlas/OneDrive/Desktop/usstock/CSLMW.csv\n",
      "Saved data for symbol CSLR to C:/Users/atlas/OneDrive/Desktop/usstock/CSLR.csv\n",
      "Saved data for symbol CSPI to C:/Users/atlas/OneDrive/Desktop/usstock/CSPI.csv\n",
      "Saved data for symbol CSQ to C:/Users/atlas/OneDrive/Desktop/usstock/CSQ.csv\n",
      "Saved data for symbol CSR to C:/Users/atlas/OneDrive/Desktop/usstock/CSR.csv\n"
     ]
    },
    {
     "name": "stderr",
     "output_type": "stream",
     "text": [
      "\n",
      "1 Failed download:\n",
      "['CSR^C']: Exception('%ticker%: No timezone found, symbol may be delisted')\n"
     ]
    },
    {
     "name": "stdout",
     "output_type": "stream",
     "text": [
      "Saved data for symbol CSR^C to C:/Users/atlas/OneDrive/Desktop/usstock/CSR^C.csv\n",
      "Saved data for symbol CSSE to C:/Users/atlas/OneDrive/Desktop/usstock/CSSE.csv\n"
     ]
    },
    {
     "name": "stderr",
     "output_type": "stream",
     "text": [
      "\n",
      "1 Failed download:\n",
      "['CSSEL']: Exception('%ticker%: 1d data not available for startTime=-14831751840 and endTime=1713529024. Only 100 years worth of day granularity data are allowed to be fetched per request.')\n"
     ]
    },
    {
     "name": "stdout",
     "output_type": "stream",
     "text": [
      "Saved data for symbol CSSEL to C:/Users/atlas/OneDrive/Desktop/usstock/CSSEL.csv\n",
      "Saved data for symbol CSSEN to C:/Users/atlas/OneDrive/Desktop/usstock/CSSEN.csv\n",
      "Saved data for symbol CSSEP to C:/Users/atlas/OneDrive/Desktop/usstock/CSSEP.csv\n",
      "Saved data for symbol CSTE to C:/Users/atlas/OneDrive/Desktop/usstock/CSTE.csv\n",
      "Saved data for symbol CSTL to C:/Users/atlas/OneDrive/Desktop/usstock/CSTL.csv\n",
      "Saved data for symbol CSTM to C:/Users/atlas/OneDrive/Desktop/usstock/CSTM.csv\n",
      "Saved data for symbol CSV to C:/Users/atlas/OneDrive/Desktop/usstock/CSV.csv\n",
      "Saved data for symbol CSWC to C:/Users/atlas/OneDrive/Desktop/usstock/CSWC.csv\n",
      "Saved data for symbol CSWCZ to C:/Users/atlas/OneDrive/Desktop/usstock/CSWCZ.csv\n",
      "Saved data for symbol CSWI to C:/Users/atlas/OneDrive/Desktop/usstock/CSWI.csv\n",
      "Saved data for symbol CSX to C:/Users/atlas/OneDrive/Desktop/usstock/CSX.csv\n"
     ]
    },
    {
     "name": "stderr",
     "output_type": "stream",
     "text": [
      "\n",
      "1 Failed download:\n",
      "['CTA^A']: Exception('%ticker%: No timezone found, symbol may be delisted')\n"
     ]
    },
    {
     "name": "stdout",
     "output_type": "stream",
     "text": [
      "Saved data for symbol CTA^A to C:/Users/atlas/OneDrive/Desktop/usstock/CTA^A.csv\n"
     ]
    },
    {
     "name": "stderr",
     "output_type": "stream",
     "text": [
      "\n",
      "1 Failed download:\n",
      "['CTA^B']: Exception('%ticker%: No timezone found, symbol may be delisted')\n"
     ]
    },
    {
     "name": "stdout",
     "output_type": "stream",
     "text": [
      "Saved data for symbol CTA^B to C:/Users/atlas/OneDrive/Desktop/usstock/CTA^B.csv\n",
      "Saved data for symbol CTAS to C:/Users/atlas/OneDrive/Desktop/usstock/CTAS.csv\n",
      "Saved data for symbol CTBB to C:/Users/atlas/OneDrive/Desktop/usstock/CTBB.csv\n",
      "Saved data for symbol CTBI to C:/Users/atlas/OneDrive/Desktop/usstock/CTBI.csv\n",
      "Saved data for symbol CTCX to C:/Users/atlas/OneDrive/Desktop/usstock/CTCX.csv\n"
     ]
    },
    {
     "name": "stderr",
     "output_type": "stream",
     "text": [
      "\n",
      "1 Failed download:\n",
      "['CTCXW']: Exception('%ticker%: 1d data not available for startTime=-14831751840 and endTime=1713529040. Only 100 years worth of day granularity data are allowed to be fetched per request.')\n"
     ]
    },
    {
     "name": "stdout",
     "output_type": "stream",
     "text": [
      "Saved data for symbol CTCXW to C:/Users/atlas/OneDrive/Desktop/usstock/CTCXW.csv\n",
      "Saved data for symbol CTDD to C:/Users/atlas/OneDrive/Desktop/usstock/CTDD.csv\n",
      "Saved data for symbol CTGO to C:/Users/atlas/OneDrive/Desktop/usstock/CTGO.csv\n",
      "Saved data for symbol CTHR to C:/Users/atlas/OneDrive/Desktop/usstock/CTHR.csv\n",
      "Saved data for symbol CTKB to C:/Users/atlas/OneDrive/Desktop/usstock/CTKB.csv\n",
      "Saved data for symbol CTLP to C:/Users/atlas/OneDrive/Desktop/usstock/CTLP.csv\n",
      "Saved data for symbol CTLT to C:/Users/atlas/OneDrive/Desktop/usstock/CTLT.csv\n",
      "Saved data for symbol CTM to C:/Users/atlas/OneDrive/Desktop/usstock/CTM.csv\n",
      "Saved data for symbol CTMX to C:/Users/atlas/OneDrive/Desktop/usstock/CTMX.csv\n",
      "Saved data for symbol CTNM to C:/Users/atlas/OneDrive/Desktop/usstock/CTNM.csv\n",
      "Saved data for symbol CTNT to C:/Users/atlas/OneDrive/Desktop/usstock/CTNT.csv\n",
      "Saved data for symbol CTO to C:/Users/atlas/OneDrive/Desktop/usstock/CTO.csv\n"
     ]
    },
    {
     "name": "stderr",
     "output_type": "stream",
     "text": [
      "\n",
      "1 Failed download:\n",
      "['CTO^A']: Exception('%ticker%: No timezone found, symbol may be delisted')\n"
     ]
    },
    {
     "name": "stdout",
     "output_type": "stream",
     "text": [
      "Saved data for symbol CTO^A to C:/Users/atlas/OneDrive/Desktop/usstock/CTO^A.csv\n",
      "Saved data for symbol CTOS to C:/Users/atlas/OneDrive/Desktop/usstock/CTOS.csv\n",
      "Saved data for symbol CTR to C:/Users/atlas/OneDrive/Desktop/usstock/CTR.csv\n",
      "Saved data for symbol CTRA to C:/Users/atlas/OneDrive/Desktop/usstock/CTRA.csv\n",
      "Saved data for symbol CTRE to C:/Users/atlas/OneDrive/Desktop/usstock/CTRE.csv\n",
      "Saved data for symbol CTRI to C:/Users/atlas/OneDrive/Desktop/usstock/CTRI.csv\n",
      "Saved data for symbol CTRM to C:/Users/atlas/OneDrive/Desktop/usstock/CTRM.csv\n",
      "Saved data for symbol CTRN to C:/Users/atlas/OneDrive/Desktop/usstock/CTRN.csv\n",
      "Saved data for symbol CTS to C:/Users/atlas/OneDrive/Desktop/usstock/CTS.csv\n",
      "Saved data for symbol CTSH to C:/Users/atlas/OneDrive/Desktop/usstock/CTSH.csv\n",
      "Saved data for symbol CTSO to C:/Users/atlas/OneDrive/Desktop/usstock/CTSO.csv\n",
      "Saved data for symbol CTV to C:/Users/atlas/OneDrive/Desktop/usstock/CTV.csv\n",
      "Saved data for symbol CTVA to C:/Users/atlas/OneDrive/Desktop/usstock/CTVA.csv\n",
      "Saved data for symbol CTXR to C:/Users/atlas/OneDrive/Desktop/usstock/CTXR.csv\n",
      "Saved data for symbol CUBA to C:/Users/atlas/OneDrive/Desktop/usstock/CUBA.csv\n",
      "Saved data for symbol CUBB to C:/Users/atlas/OneDrive/Desktop/usstock/CUBB.csv\n",
      "Saved data for symbol CUBE to C:/Users/atlas/OneDrive/Desktop/usstock/CUBE.csv\n",
      "Saved data for symbol CUBI to C:/Users/atlas/OneDrive/Desktop/usstock/CUBI.csv\n"
     ]
    },
    {
     "name": "stderr",
     "output_type": "stream",
     "text": [
      "\n",
      "1 Failed download:\n",
      "['CUBI^E']: Exception('%ticker%: No timezone found, symbol may be delisted')\n"
     ]
    },
    {
     "name": "stdout",
     "output_type": "stream",
     "text": [
      "Saved data for symbol CUBI^E to C:/Users/atlas/OneDrive/Desktop/usstock/CUBI^E.csv\n"
     ]
    },
    {
     "name": "stderr",
     "output_type": "stream",
     "text": [
      "\n",
      "1 Failed download:\n",
      "['CUBI^F']: Exception('%ticker%: No timezone found, symbol may be delisted')\n"
     ]
    },
    {
     "name": "stdout",
     "output_type": "stream",
     "text": [
      "Saved data for symbol CUBI^F to C:/Users/atlas/OneDrive/Desktop/usstock/CUBI^F.csv\n",
      "Saved data for symbol CUE to C:/Users/atlas/OneDrive/Desktop/usstock/CUE.csv\n",
      "Saved data for symbol CUK to C:/Users/atlas/OneDrive/Desktop/usstock/CUK.csv\n",
      "Saved data for symbol CULL to C:/Users/atlas/OneDrive/Desktop/usstock/CULL.csv\n",
      "Saved data for symbol CULP to C:/Users/atlas/OneDrive/Desktop/usstock/CULP.csv\n",
      "Saved data for symbol CURI to C:/Users/atlas/OneDrive/Desktop/usstock/CURI.csv\n"
     ]
    },
    {
     "name": "stderr",
     "output_type": "stream",
     "text": [
      "\n",
      "1 Failed download:\n",
      "['CURIW']: Exception('%ticker%: 1d data not available for startTime=-14831751840 and endTime=1713529062. Only 100 years worth of day granularity data are allowed to be fetched per request.')\n"
     ]
    },
    {
     "name": "stdout",
     "output_type": "stream",
     "text": [
      "Saved data for symbol CURIW to C:/Users/atlas/OneDrive/Desktop/usstock/CURIW.csv\n",
      "Saved data for symbol CURV to C:/Users/atlas/OneDrive/Desktop/usstock/CURV.csv\n",
      "Saved data for symbol CUTR to C:/Users/atlas/OneDrive/Desktop/usstock/CUTR.csv\n",
      "Saved data for symbol CUZ to C:/Users/atlas/OneDrive/Desktop/usstock/CUZ.csv\n",
      "Saved data for symbol CVAC to C:/Users/atlas/OneDrive/Desktop/usstock/CVAC.csv\n",
      "Saved data for symbol CVBF to C:/Users/atlas/OneDrive/Desktop/usstock/CVBF.csv\n",
      "Saved data for symbol CVCO to C:/Users/atlas/OneDrive/Desktop/usstock/CVCO.csv\n",
      "Saved data for symbol CVE to C:/Users/atlas/OneDrive/Desktop/usstock/CVE.csv\n",
      "Saved data for symbol CVEO to C:/Users/atlas/OneDrive/Desktop/usstock/CVEO.csv\n",
      "Saved data for symbol CVGI to C:/Users/atlas/OneDrive/Desktop/usstock/CVGI.csv\n",
      "Saved data for symbol CVGW to C:/Users/atlas/OneDrive/Desktop/usstock/CVGW.csv\n",
      "Saved data for symbol CVI to C:/Users/atlas/OneDrive/Desktop/usstock/CVI.csv\n",
      "Saved data for symbol CVII to C:/Users/atlas/OneDrive/Desktop/usstock/CVII.csv\n",
      "Saved data for symbol CVIIU to C:/Users/atlas/OneDrive/Desktop/usstock/CVIIU.csv\n"
     ]
    },
    {
     "name": "stderr",
     "output_type": "stream",
     "text": [
      "\n",
      "1 Failed download:\n",
      "['CVIIW']: Exception('%ticker%: 1d data not available for startTime=-14831751840 and endTime=1713529069. Only 100 years worth of day granularity data are allowed to be fetched per request.')\n"
     ]
    },
    {
     "name": "stdout",
     "output_type": "stream",
     "text": [
      "Saved data for symbol CVIIW to C:/Users/atlas/OneDrive/Desktop/usstock/CVIIW.csv\n",
      "Saved data for symbol CVKD to C:/Users/atlas/OneDrive/Desktop/usstock/CVKD.csv\n",
      "Saved data for symbol CVLG to C:/Users/atlas/OneDrive/Desktop/usstock/CVLG.csv\n",
      "Saved data for symbol CVLT to C:/Users/atlas/OneDrive/Desktop/usstock/CVLT.csv\n",
      "Saved data for symbol CVLY to C:/Users/atlas/OneDrive/Desktop/usstock/CVLY.csv\n",
      "Saved data for symbol CVM to C:/Users/atlas/OneDrive/Desktop/usstock/CVM.csv\n",
      "Saved data for symbol CVNA to C:/Users/atlas/OneDrive/Desktop/usstock/CVNA.csv\n",
      "Saved data for symbol CVR to C:/Users/atlas/OneDrive/Desktop/usstock/CVR.csv\n",
      "Saved data for symbol CVRX to C:/Users/atlas/OneDrive/Desktop/usstock/CVRX.csv\n",
      "Saved data for symbol CVS to C:/Users/atlas/OneDrive/Desktop/usstock/CVS.csv\n",
      "Saved data for symbol CVU to C:/Users/atlas/OneDrive/Desktop/usstock/CVU.csv\n",
      "Saved data for symbol CVV to C:/Users/atlas/OneDrive/Desktop/usstock/CVV.csv\n",
      "Saved data for symbol CVX to C:/Users/atlas/OneDrive/Desktop/usstock/CVX.csv\n",
      "Saved data for symbol CW to C:/Users/atlas/OneDrive/Desktop/usstock/CW.csv\n",
      "Saved data for symbol CWAN to C:/Users/atlas/OneDrive/Desktop/usstock/CWAN.csv\n",
      "Saved data for symbol CWBC to C:/Users/atlas/OneDrive/Desktop/usstock/CWBC.csv\n",
      "Saved data for symbol CWCO to C:/Users/atlas/OneDrive/Desktop/usstock/CWCO.csv\n",
      "Saved data for symbol CWD to C:/Users/atlas/OneDrive/Desktop/usstock/CWD.csv\n",
      "Saved data for symbol CWEN to C:/Users/atlas/OneDrive/Desktop/usstock/CWEN.csv\n",
      "Saved data for symbol CWH to C:/Users/atlas/OneDrive/Desktop/usstock/CWH.csv\n",
      "Saved data for symbol CWK to C:/Users/atlas/OneDrive/Desktop/usstock/CWK.csv\n",
      "Saved data for symbol CWST to C:/Users/atlas/OneDrive/Desktop/usstock/CWST.csv\n",
      "Saved data for symbol CWT to C:/Users/atlas/OneDrive/Desktop/usstock/CWT.csv\n",
      "Saved data for symbol CX to C:/Users/atlas/OneDrive/Desktop/usstock/CX.csv\n",
      "Saved data for symbol CXAI to C:/Users/atlas/OneDrive/Desktop/usstock/CXAI.csv\n"
     ]
    },
    {
     "name": "stderr",
     "output_type": "stream",
     "text": [
      "\n",
      "1 Failed download:\n",
      "['CXAIW']: Exception('%ticker%: 1d data not available for startTime=-14831751840 and endTime=1713529082. Only 100 years worth of day granularity data are allowed to be fetched per request.')\n"
     ]
    },
    {
     "name": "stdout",
     "output_type": "stream",
     "text": [
      "Saved data for symbol CXAIW to C:/Users/atlas/OneDrive/Desktop/usstock/CXAIW.csv\n",
      "Saved data for symbol CXDO to C:/Users/atlas/OneDrive/Desktop/usstock/CXDO.csv\n",
      "Saved data for symbol CXE to C:/Users/atlas/OneDrive/Desktop/usstock/CXE.csv\n",
      "Saved data for symbol CXH to C:/Users/atlas/OneDrive/Desktop/usstock/CXH.csv\n",
      "Saved data for symbol CXM to C:/Users/atlas/OneDrive/Desktop/usstock/CXM.csv\n",
      "Saved data for symbol CXT to C:/Users/atlas/OneDrive/Desktop/usstock/CXT.csv\n",
      "Saved data for symbol CXW to C:/Users/atlas/OneDrive/Desktop/usstock/CXW.csv\n",
      "Saved data for symbol CYBN to C:/Users/atlas/OneDrive/Desktop/usstock/CYBN.csv\n",
      "Saved data for symbol CYBR to C:/Users/atlas/OneDrive/Desktop/usstock/CYBR.csv\n",
      "Saved data for symbol CYCC to C:/Users/atlas/OneDrive/Desktop/usstock/CYCC.csv\n",
      "Saved data for symbol CYCCP to C:/Users/atlas/OneDrive/Desktop/usstock/CYCCP.csv\n",
      "Saved data for symbol CYCN to C:/Users/atlas/OneDrive/Desktop/usstock/CYCN.csv\n",
      "Saved data for symbol CYD to C:/Users/atlas/OneDrive/Desktop/usstock/CYD.csv\n",
      "Saved data for symbol CYH to C:/Users/atlas/OneDrive/Desktop/usstock/CYH.csv\n",
      "Saved data for symbol CYN to C:/Users/atlas/OneDrive/Desktop/usstock/CYN.csv\n",
      "Saved data for symbol CYRX to C:/Users/atlas/OneDrive/Desktop/usstock/CYRX.csv\n",
      "Saved data for symbol CYTH to C:/Users/atlas/OneDrive/Desktop/usstock/CYTH.csv\n",
      "Saved data for symbol CYTHW to C:/Users/atlas/OneDrive/Desktop/usstock/CYTHW.csv\n",
      "Saved data for symbol CYTK to C:/Users/atlas/OneDrive/Desktop/usstock/CYTK.csv\n",
      "Saved data for symbol CYTO to C:/Users/atlas/OneDrive/Desktop/usstock/CYTO.csv\n",
      "Saved data for symbol CZFS to C:/Users/atlas/OneDrive/Desktop/usstock/CZFS.csv\n",
      "Saved data for symbol CZNC to C:/Users/atlas/OneDrive/Desktop/usstock/CZNC.csv\n",
      "Saved data for symbol CZOO to C:/Users/atlas/OneDrive/Desktop/usstock/CZOO.csv\n",
      "Saved data for symbol CZR to C:/Users/atlas/OneDrive/Desktop/usstock/CZR.csv\n",
      "Saved data for symbol CZWI to C:/Users/atlas/OneDrive/Desktop/usstock/CZWI.csv\n",
      "Saved data for symbol D to C:/Users/atlas/OneDrive/Desktop/usstock/D.csv\n",
      "Saved data for symbol DAC to C:/Users/atlas/OneDrive/Desktop/usstock/DAC.csv\n",
      "Saved data for symbol DADA to C:/Users/atlas/OneDrive/Desktop/usstock/DADA.csv\n",
      "Saved data for symbol DAIO to C:/Users/atlas/OneDrive/Desktop/usstock/DAIO.csv\n",
      "Saved data for symbol DAKT to C:/Users/atlas/OneDrive/Desktop/usstock/DAKT.csv\n",
      "Saved data for symbol DAL to C:/Users/atlas/OneDrive/Desktop/usstock/DAL.csv\n",
      "Saved data for symbol DALN to C:/Users/atlas/OneDrive/Desktop/usstock/DALN.csv\n",
      "Saved data for symbol DAN to C:/Users/atlas/OneDrive/Desktop/usstock/DAN.csv\n",
      "Saved data for symbol DAO to C:/Users/atlas/OneDrive/Desktop/usstock/DAO.csv\n",
      "Saved data for symbol DAR to C:/Users/atlas/OneDrive/Desktop/usstock/DAR.csv\n",
      "Saved data for symbol DARE to C:/Users/atlas/OneDrive/Desktop/usstock/DARE.csv\n",
      "Saved data for symbol DASH to C:/Users/atlas/OneDrive/Desktop/usstock/DASH.csv\n",
      "Saved data for symbol DATS to C:/Users/atlas/OneDrive/Desktop/usstock/DATS.csv\n",
      "Saved data for symbol DATSW to C:/Users/atlas/OneDrive/Desktop/usstock/DATSW.csv\n",
      "Saved data for symbol DAVA to C:/Users/atlas/OneDrive/Desktop/usstock/DAVA.csv\n",
      "Saved data for symbol DAVE to C:/Users/atlas/OneDrive/Desktop/usstock/DAVE.csv\n"
     ]
    },
    {
     "name": "stderr",
     "output_type": "stream",
     "text": [
      "\n",
      "1 Failed download:\n",
      "['DAVEW']: Exception('%ticker%: 1d data not available for startTime=-14831751840 and endTime=1713529099. Only 100 years worth of day granularity data are allowed to be fetched per request.')\n"
     ]
    },
    {
     "name": "stdout",
     "output_type": "stream",
     "text": [
      "Saved data for symbol DAVEW to C:/Users/atlas/OneDrive/Desktop/usstock/DAVEW.csv\n",
      "Saved data for symbol DAWN to C:/Users/atlas/OneDrive/Desktop/usstock/DAWN.csv\n",
      "Saved data for symbol DAY to C:/Users/atlas/OneDrive/Desktop/usstock/DAY.csv\n",
      "Saved data for symbol DB to C:/Users/atlas/OneDrive/Desktop/usstock/DB.csv\n",
      "Saved data for symbol DBD to C:/Users/atlas/OneDrive/Desktop/usstock/DBD.csv\n",
      "Saved data for symbol DBGI to C:/Users/atlas/OneDrive/Desktop/usstock/DBGI.csv\n"
     ]
    },
    {
     "name": "stderr",
     "output_type": "stream",
     "text": [
      "\n",
      "1 Failed download:\n",
      "['DBGIW']: Exception('%ticker%: 1d data not available for startTime=-14831751840 and endTime=1713529102. Only 100 years worth of day granularity data are allowed to be fetched per request.')\n"
     ]
    },
    {
     "name": "stdout",
     "output_type": "stream",
     "text": [
      "Saved data for symbol DBGIW to C:/Users/atlas/OneDrive/Desktop/usstock/DBGIW.csv\n",
      "Saved data for symbol DBI to C:/Users/atlas/OneDrive/Desktop/usstock/DBI.csv\n",
      "Saved data for symbol DBL to C:/Users/atlas/OneDrive/Desktop/usstock/DBL.csv\n",
      "Saved data for symbol DBRG to C:/Users/atlas/OneDrive/Desktop/usstock/DBRG.csv\n"
     ]
    },
    {
     "name": "stderr",
     "output_type": "stream",
     "text": [
      "\n",
      "1 Failed download:\n",
      "['DBRG^H']: Exception('%ticker%: No timezone found, symbol may be delisted')\n"
     ]
    },
    {
     "name": "stdout",
     "output_type": "stream",
     "text": [
      "Saved data for symbol DBRG^H to C:/Users/atlas/OneDrive/Desktop/usstock/DBRG^H.csv\n"
     ]
    },
    {
     "name": "stderr",
     "output_type": "stream",
     "text": [
      "\n",
      "1 Failed download:\n",
      "['DBRG^I']: Exception('%ticker%: No timezone found, symbol may be delisted')\n"
     ]
    },
    {
     "name": "stdout",
     "output_type": "stream",
     "text": [
      "Saved data for symbol DBRG^I to C:/Users/atlas/OneDrive/Desktop/usstock/DBRG^I.csv\n"
     ]
    },
    {
     "name": "stderr",
     "output_type": "stream",
     "text": [
      "\n",
      "1 Failed download:\n",
      "['DBRG^J']: Exception('%ticker%: No timezone found, symbol may be delisted')\n"
     ]
    },
    {
     "name": "stdout",
     "output_type": "stream",
     "text": [
      "Saved data for symbol DBRG^J to C:/Users/atlas/OneDrive/Desktop/usstock/DBRG^J.csv\n",
      "Saved data for symbol DBVT to C:/Users/atlas/OneDrive/Desktop/usstock/DBVT.csv\n",
      "Saved data for symbol DBX to C:/Users/atlas/OneDrive/Desktop/usstock/DBX.csv\n",
      "Saved data for symbol DC to C:/Users/atlas/OneDrive/Desktop/usstock/DC.csv\n",
      "Saved data for symbol DCBO to C:/Users/atlas/OneDrive/Desktop/usstock/DCBO.csv\n",
      "Saved data for symbol DCF to C:/Users/atlas/OneDrive/Desktop/usstock/DCF.csv\n",
      "Saved data for symbol DCFC to C:/Users/atlas/OneDrive/Desktop/usstock/DCFC.csv\n"
     ]
    },
    {
     "name": "stderr",
     "output_type": "stream",
     "text": [
      "\n",
      "1 Failed download:\n",
      "['DCFCW']: Exception('%ticker%: 1d data not available for startTime=-14831751840 and endTime=1713529116. Only 100 years worth of day granularity data are allowed to be fetched per request.')\n"
     ]
    },
    {
     "name": "stdout",
     "output_type": "stream",
     "text": [
      "Saved data for symbol DCFCW to C:/Users/atlas/OneDrive/Desktop/usstock/DCFCW.csv\n",
      "Saved data for symbol DCGO to C:/Users/atlas/OneDrive/Desktop/usstock/DCGO.csv\n",
      "Saved data for symbol DCI to C:/Users/atlas/OneDrive/Desktop/usstock/DCI.csv\n",
      "Saved data for symbol DCO to C:/Users/atlas/OneDrive/Desktop/usstock/DCO.csv\n",
      "Saved data for symbol DCOM to C:/Users/atlas/OneDrive/Desktop/usstock/DCOM.csv\n",
      "Saved data for symbol DCOMP to C:/Users/atlas/OneDrive/Desktop/usstock/DCOMP.csv\n",
      "Saved data for symbol DCPH to C:/Users/atlas/OneDrive/Desktop/usstock/DCPH.csv\n",
      "Saved data for symbol DCTH to C:/Users/atlas/OneDrive/Desktop/usstock/DCTH.csv\n",
      "Saved data for symbol DD to C:/Users/atlas/OneDrive/Desktop/usstock/DD.csv\n",
      "Saved data for symbol DDC to C:/Users/atlas/OneDrive/Desktop/usstock/DDC.csv\n",
      "Saved data for symbol DDD to C:/Users/atlas/OneDrive/Desktop/usstock/DDD.csv\n",
      "Saved data for symbol DDI to C:/Users/atlas/OneDrive/Desktop/usstock/DDI.csv\n",
      "Saved data for symbol DDL to C:/Users/atlas/OneDrive/Desktop/usstock/DDL.csv\n",
      "Saved data for symbol DDOG to C:/Users/atlas/OneDrive/Desktop/usstock/DDOG.csv\n",
      "Saved data for symbol DDS to C:/Users/atlas/OneDrive/Desktop/usstock/DDS.csv\n",
      "Saved data for symbol DDT to C:/Users/atlas/OneDrive/Desktop/usstock/DDT.csv\n",
      "Saved data for symbol DE to C:/Users/atlas/OneDrive/Desktop/usstock/DE.csv\n",
      "Saved data for symbol DEA to C:/Users/atlas/OneDrive/Desktop/usstock/DEA.csv\n",
      "Saved data for symbol DEC to C:/Users/atlas/OneDrive/Desktop/usstock/DEC.csv\n",
      "Saved data for symbol DECA to C:/Users/atlas/OneDrive/Desktop/usstock/DECA.csv\n",
      "Saved data for symbol DECAU to C:/Users/atlas/OneDrive/Desktop/usstock/DECAU.csv\n",
      "Saved data for symbol DECK to C:/Users/atlas/OneDrive/Desktop/usstock/DECK.csv\n",
      "Saved data for symbol DEI to C:/Users/atlas/OneDrive/Desktop/usstock/DEI.csv\n",
      "Saved data for symbol DELL to C:/Users/atlas/OneDrive/Desktop/usstock/DELL.csv\n",
      "Saved data for symbol DENN to C:/Users/atlas/OneDrive/Desktop/usstock/DENN.csv\n",
      "Saved data for symbol DEO to C:/Users/atlas/OneDrive/Desktop/usstock/DEO.csv\n",
      "Saved data for symbol DERM to C:/Users/atlas/OneDrive/Desktop/usstock/DERM.csv\n",
      "Saved data for symbol DESP to C:/Users/atlas/OneDrive/Desktop/usstock/DESP.csv\n",
      "Saved data for symbol DFH to C:/Users/atlas/OneDrive/Desktop/usstock/DFH.csv\n",
      "Saved data for symbol DFIN to C:/Users/atlas/OneDrive/Desktop/usstock/DFIN.csv\n",
      "Saved data for symbol DFLI to C:/Users/atlas/OneDrive/Desktop/usstock/DFLI.csv\n"
     ]
    },
    {
     "name": "stderr",
     "output_type": "stream",
     "text": [
      "\n",
      "1 Failed download:\n",
      "['DFLIW']: Exception('%ticker%: 1d data not available for startTime=-14831751840 and endTime=1713529130. Only 100 years worth of day granularity data are allowed to be fetched per request.')\n"
     ]
    },
    {
     "name": "stdout",
     "output_type": "stream",
     "text": [
      "Saved data for symbol DFLIW to C:/Users/atlas/OneDrive/Desktop/usstock/DFLIW.csv\n",
      "Saved data for symbol DFP to C:/Users/atlas/OneDrive/Desktop/usstock/DFP.csv\n",
      "Saved data for symbol DFS to C:/Users/atlas/OneDrive/Desktop/usstock/DFS.csv\n",
      "Saved data for symbol DG to C:/Users/atlas/OneDrive/Desktop/usstock/DG.csv\n",
      "Saved data for symbol DGHI to C:/Users/atlas/OneDrive/Desktop/usstock/DGHI.csv\n",
      "Saved data for symbol DGICA to C:/Users/atlas/OneDrive/Desktop/usstock/DGICA.csv\n",
      "Saved data for symbol DGICB to C:/Users/atlas/OneDrive/Desktop/usstock/DGICB.csv\n",
      "Saved data for symbol DGII to C:/Users/atlas/OneDrive/Desktop/usstock/DGII.csv\n",
      "Saved data for symbol DGLY to C:/Users/atlas/OneDrive/Desktop/usstock/DGLY.csv\n",
      "Saved data for symbol DGX to C:/Users/atlas/OneDrive/Desktop/usstock/DGX.csv\n",
      "Saved data for symbol DH to C:/Users/atlas/OneDrive/Desktop/usstock/DH.csv\n",
      "Saved data for symbol DHAC to C:/Users/atlas/OneDrive/Desktop/usstock/DHAC.csv\n"
     ]
    },
    {
     "name": "stderr",
     "output_type": "stream",
     "text": [
      "\n",
      "1 Failed download:\n",
      "['DHACW']: Exception('%ticker%: 1d data not available for startTime=-14831751840 and endTime=1713529138. Only 100 years worth of day granularity data are allowed to be fetched per request.')\n"
     ]
    },
    {
     "name": "stdout",
     "output_type": "stream",
     "text": [
      "Saved data for symbol DHACW to C:/Users/atlas/OneDrive/Desktop/usstock/DHACW.csv\n",
      "Saved data for symbol DHAI to C:/Users/atlas/OneDrive/Desktop/usstock/DHAI.csv\n"
     ]
    },
    {
     "name": "stderr",
     "output_type": "stream",
     "text": [
      "\n",
      "1 Failed download:\n",
      "['DHAIW']: Exception('%ticker%: 1d data not available for startTime=-14831751840 and endTime=1713529139. Only 100 years worth of day granularity data are allowed to be fetched per request.')\n"
     ]
    },
    {
     "name": "stdout",
     "output_type": "stream",
     "text": [
      "Saved data for symbol DHAIW to C:/Users/atlas/OneDrive/Desktop/usstock/DHAIW.csv\n",
      "Saved data for symbol DHC to C:/Users/atlas/OneDrive/Desktop/usstock/DHC.csv\n",
      "Saved data for symbol DHCNI to C:/Users/atlas/OneDrive/Desktop/usstock/DHCNI.csv\n"
     ]
    },
    {
     "name": "stderr",
     "output_type": "stream",
     "text": [
      "\n",
      "1 Failed download:\n",
      "['DHCNL']: Exception('%ticker%: 1d data not available for startTime=-14831751840 and endTime=1713529144. Only 100 years worth of day granularity data are allowed to be fetched per request.')\n"
     ]
    },
    {
     "name": "stdout",
     "output_type": "stream",
     "text": [
      "Saved data for symbol DHCNL to C:/Users/atlas/OneDrive/Desktop/usstock/DHCNL.csv\n",
      "Saved data for symbol DHF to C:/Users/atlas/OneDrive/Desktop/usstock/DHF.csv\n",
      "Saved data for symbol DHI to C:/Users/atlas/OneDrive/Desktop/usstock/DHI.csv\n",
      "Saved data for symbol DHIL to C:/Users/atlas/OneDrive/Desktop/usstock/DHIL.csv\n",
      "Saved data for symbol DHR to C:/Users/atlas/OneDrive/Desktop/usstock/DHR.csv\n",
      "Saved data for symbol DHT to C:/Users/atlas/OneDrive/Desktop/usstock/DHT.csv\n",
      "Saved data for symbol DHX to C:/Users/atlas/OneDrive/Desktop/usstock/DHX.csv\n",
      "Saved data for symbol DHY to C:/Users/atlas/OneDrive/Desktop/usstock/DHY.csv\n",
      "Saved data for symbol DIAX to C:/Users/atlas/OneDrive/Desktop/usstock/DIAX.csv\n",
      "Saved data for symbol DIBS to C:/Users/atlas/OneDrive/Desktop/usstock/DIBS.csv\n",
      "Saved data for symbol DIN to C:/Users/atlas/OneDrive/Desktop/usstock/DIN.csv\n",
      "Saved data for symbol DINO to C:/Users/atlas/OneDrive/Desktop/usstock/DINO.csv\n",
      "Saved data for symbol DIOD to C:/Users/atlas/OneDrive/Desktop/usstock/DIOD.csv\n",
      "Saved data for symbol DIS to C:/Users/atlas/OneDrive/Desktop/usstock/DIS.csv\n",
      "Saved data for symbol DIST to C:/Users/atlas/OneDrive/Desktop/usstock/DIST.csv\n",
      "Saved data for symbol DIT to C:/Users/atlas/OneDrive/Desktop/usstock/DIT.csv\n",
      "Saved data for symbol DJCO to C:/Users/atlas/OneDrive/Desktop/usstock/DJCO.csv\n",
      "Saved data for symbol DJT to C:/Users/atlas/OneDrive/Desktop/usstock/DJT.csv\n",
      "Saved data for symbol DJTWW to C:/Users/atlas/OneDrive/Desktop/usstock/DJTWW.csv\n",
      "Saved data for symbol DK to C:/Users/atlas/OneDrive/Desktop/usstock/DK.csv\n",
      "Saved data for symbol DKL to C:/Users/atlas/OneDrive/Desktop/usstock/DKL.csv\n",
      "Saved data for symbol DKNG to C:/Users/atlas/OneDrive/Desktop/usstock/DKNG.csv\n",
      "Saved data for symbol DKS to C:/Users/atlas/OneDrive/Desktop/usstock/DKS.csv\n",
      "Saved data for symbol DLA to C:/Users/atlas/OneDrive/Desktop/usstock/DLA.csv\n",
      "Saved data for symbol DLB to C:/Users/atlas/OneDrive/Desktop/usstock/DLB.csv\n",
      "Saved data for symbol DLHC to C:/Users/atlas/OneDrive/Desktop/usstock/DLHC.csv\n",
      "Saved data for symbol DLNG to C:/Users/atlas/OneDrive/Desktop/usstock/DLNG.csv\n"
     ]
    },
    {
     "name": "stderr",
     "output_type": "stream",
     "text": [
      "\n",
      "1 Failed download:\n",
      "['DLNG^A']: Exception('%ticker%: No timezone found, symbol may be delisted')\n"
     ]
    },
    {
     "name": "stdout",
     "output_type": "stream",
     "text": [
      "Saved data for symbol DLNG^A to C:/Users/atlas/OneDrive/Desktop/usstock/DLNG^A.csv\n"
     ]
    },
    {
     "name": "stderr",
     "output_type": "stream",
     "text": [
      "\n",
      "1 Failed download:\n",
      "['DLNG^B']: Exception('%ticker%: No timezone found, symbol may be delisted')\n"
     ]
    },
    {
     "name": "stdout",
     "output_type": "stream",
     "text": [
      "Saved data for symbol DLNG^B to C:/Users/atlas/OneDrive/Desktop/usstock/DLNG^B.csv\n",
      "Saved data for symbol DLO to C:/Users/atlas/OneDrive/Desktop/usstock/DLO.csv\n",
      "Saved data for symbol DLPN to C:/Users/atlas/OneDrive/Desktop/usstock/DLPN.csv\n",
      "Saved data for symbol DLR to C:/Users/atlas/OneDrive/Desktop/usstock/DLR.csv\n"
     ]
    },
    {
     "name": "stderr",
     "output_type": "stream",
     "text": [
      "\n",
      "1 Failed download:\n",
      "['DLR^J']: Exception('%ticker%: No timezone found, symbol may be delisted')\n"
     ]
    },
    {
     "name": "stdout",
     "output_type": "stream",
     "text": [
      "Saved data for symbol DLR^J to C:/Users/atlas/OneDrive/Desktop/usstock/DLR^J.csv\n"
     ]
    },
    {
     "name": "stderr",
     "output_type": "stream",
     "text": [
      "\n",
      "1 Failed download:\n",
      "['DLR^K']: Exception('%ticker%: No timezone found, symbol may be delisted')\n"
     ]
    },
    {
     "name": "stdout",
     "output_type": "stream",
     "text": [
      "Saved data for symbol DLR^K to C:/Users/atlas/OneDrive/Desktop/usstock/DLR^K.csv\n"
     ]
    },
    {
     "name": "stderr",
     "output_type": "stream",
     "text": [
      "\n",
      "1 Failed download:\n",
      "['DLR^L']: Exception('%ticker%: No timezone found, symbol may be delisted')\n"
     ]
    },
    {
     "name": "stdout",
     "output_type": "stream",
     "text": [
      "Saved data for symbol DLR^L to C:/Users/atlas/OneDrive/Desktop/usstock/DLR^L.csv\n",
      "Saved data for symbol DLTH to C:/Users/atlas/OneDrive/Desktop/usstock/DLTH.csv\n",
      "Saved data for symbol DLTR to C:/Users/atlas/OneDrive/Desktop/usstock/DLTR.csv\n",
      "Saved data for symbol DLX to C:/Users/atlas/OneDrive/Desktop/usstock/DLX.csv\n",
      "Saved data for symbol DLY to C:/Users/atlas/OneDrive/Desktop/usstock/DLY.csv\n",
      "Saved data for symbol DM to C:/Users/atlas/OneDrive/Desktop/usstock/DM.csv\n",
      "Saved data for symbol DMA to C:/Users/atlas/OneDrive/Desktop/usstock/DMA.csv\n",
      "Saved data for symbol DMAC to C:/Users/atlas/OneDrive/Desktop/usstock/DMAC.csv\n",
      "Saved data for symbol DMB to C:/Users/atlas/OneDrive/Desktop/usstock/DMB.csv\n",
      "Saved data for symbol DMF to C:/Users/atlas/OneDrive/Desktop/usstock/DMF.csv\n",
      "Saved data for symbol DMLP to C:/Users/atlas/OneDrive/Desktop/usstock/DMLP.csv\n",
      "Saved data for symbol DMO to C:/Users/atlas/OneDrive/Desktop/usstock/DMO.csv\n",
      "Saved data for symbol DMRC to C:/Users/atlas/OneDrive/Desktop/usstock/DMRC.csv\n",
      "Saved data for symbol DMTK to C:/Users/atlas/OneDrive/Desktop/usstock/DMTK.csv\n",
      "Saved data for symbol DMYY to C:/Users/atlas/OneDrive/Desktop/usstock/DMYY.csv\n",
      "Saved data for symbol DNA to C:/Users/atlas/OneDrive/Desktop/usstock/DNA.csv\n",
      "Saved data for symbol DNB to C:/Users/atlas/OneDrive/Desktop/usstock/DNB.csv\n",
      "Saved data for symbol DNLI to C:/Users/atlas/OneDrive/Desktop/usstock/DNLI.csv\n",
      "Saved data for symbol DNMR to C:/Users/atlas/OneDrive/Desktop/usstock/DNMR.csv\n",
      "Saved data for symbol DNN to C:/Users/atlas/OneDrive/Desktop/usstock/DNN.csv\n",
      "Saved data for symbol DNOW to C:/Users/atlas/OneDrive/Desktop/usstock/DNOW.csv\n",
      "Saved data for symbol DNP to C:/Users/atlas/OneDrive/Desktop/usstock/DNP.csv\n",
      "Saved data for symbol DNTH to C:/Users/atlas/OneDrive/Desktop/usstock/DNTH.csv\n",
      "Saved data for symbol DNUT to C:/Users/atlas/OneDrive/Desktop/usstock/DNUT.csv\n",
      "Saved data for symbol DO to C:/Users/atlas/OneDrive/Desktop/usstock/DO.csv\n",
      "Saved data for symbol DOC to C:/Users/atlas/OneDrive/Desktop/usstock/DOC.csv\n",
      "Saved data for symbol DOCN to C:/Users/atlas/OneDrive/Desktop/usstock/DOCN.csv\n",
      "Saved data for symbol DOCS to C:/Users/atlas/OneDrive/Desktop/usstock/DOCS.csv\n",
      "Saved data for symbol DOCU to C:/Users/atlas/OneDrive/Desktop/usstock/DOCU.csv\n",
      "Saved data for symbol DOGZ to C:/Users/atlas/OneDrive/Desktop/usstock/DOGZ.csv\n",
      "Saved data for symbol DOLE to C:/Users/atlas/OneDrive/Desktop/usstock/DOLE.csv\n",
      "Saved data for symbol DOMA to C:/Users/atlas/OneDrive/Desktop/usstock/DOMA.csv\n",
      "Saved data for symbol DOMH to C:/Users/atlas/OneDrive/Desktop/usstock/DOMH.csv\n",
      "Saved data for symbol DOMO to C:/Users/atlas/OneDrive/Desktop/usstock/DOMO.csv\n",
      "Saved data for symbol DOOO to C:/Users/atlas/OneDrive/Desktop/usstock/DOOO.csv\n",
      "Saved data for symbol DOOR to C:/Users/atlas/OneDrive/Desktop/usstock/DOOR.csv\n",
      "Saved data for symbol DORM to C:/Users/atlas/OneDrive/Desktop/usstock/DORM.csv\n",
      "Saved data for symbol DOUG to C:/Users/atlas/OneDrive/Desktop/usstock/DOUG.csv\n",
      "Saved data for symbol DOV to C:/Users/atlas/OneDrive/Desktop/usstock/DOV.csv\n",
      "Saved data for symbol DOW to C:/Users/atlas/OneDrive/Desktop/usstock/DOW.csv\n",
      "Saved data for symbol DOX to C:/Users/atlas/OneDrive/Desktop/usstock/DOX.csv\n",
      "Saved data for symbol DOYU to C:/Users/atlas/OneDrive/Desktop/usstock/DOYU.csv\n",
      "Saved data for symbol DPCS to C:/Users/atlas/OneDrive/Desktop/usstock/DPCS.csv\n",
      "Saved data for symbol DPG to C:/Users/atlas/OneDrive/Desktop/usstock/DPG.csv\n",
      "Saved data for symbol DPRO to C:/Users/atlas/OneDrive/Desktop/usstock/DPRO.csv\n",
      "Saved data for symbol DPSI to C:/Users/atlas/OneDrive/Desktop/usstock/DPSI.csv\n",
      "Saved data for symbol DPZ to C:/Users/atlas/OneDrive/Desktop/usstock/DPZ.csv\n",
      "Saved data for symbol DQ to C:/Users/atlas/OneDrive/Desktop/usstock/DQ.csv\n",
      "Saved data for symbol DRCT to C:/Users/atlas/OneDrive/Desktop/usstock/DRCT.csv\n",
      "Saved data for symbol DRD to C:/Users/atlas/OneDrive/Desktop/usstock/DRD.csv\n",
      "Saved data for symbol DRH to C:/Users/atlas/OneDrive/Desktop/usstock/DRH.csv\n"
     ]
    },
    {
     "name": "stderr",
     "output_type": "stream",
     "text": [
      "\n",
      "1 Failed download:\n",
      "['DRH^A']: Exception('%ticker%: No timezone found, symbol may be delisted')\n"
     ]
    },
    {
     "name": "stdout",
     "output_type": "stream",
     "text": [
      "Saved data for symbol DRH^A to C:/Users/atlas/OneDrive/Desktop/usstock/DRH^A.csv\n",
      "Saved data for symbol DRI to C:/Users/atlas/OneDrive/Desktop/usstock/DRI.csv\n",
      "Saved data for symbol DRIO to C:/Users/atlas/OneDrive/Desktop/usstock/DRIO.csv\n",
      "Saved data for symbol DRMA to C:/Users/atlas/OneDrive/Desktop/usstock/DRMA.csv\n",
      "Saved data for symbol DRQ to C:/Users/atlas/OneDrive/Desktop/usstock/DRQ.csv\n",
      "Saved data for symbol DRRX to C:/Users/atlas/OneDrive/Desktop/usstock/DRRX.csv\n",
      "Saved data for symbol DRS to C:/Users/atlas/OneDrive/Desktop/usstock/DRS.csv\n",
      "Saved data for symbol DRTS to C:/Users/atlas/OneDrive/Desktop/usstock/DRTS.csv\n"
     ]
    },
    {
     "name": "stderr",
     "output_type": "stream",
     "text": [
      "\n",
      "1 Failed download:\n",
      "['DRTSW']: Exception('%ticker%: 1d data not available for startTime=-14831751840 and endTime=1713529196. Only 100 years worth of day granularity data are allowed to be fetched per request.')\n"
     ]
    },
    {
     "name": "stdout",
     "output_type": "stream",
     "text": [
      "Saved data for symbol DRTSW to C:/Users/atlas/OneDrive/Desktop/usstock/DRTSW.csv\n",
      "Saved data for symbol DRUG to C:/Users/atlas/OneDrive/Desktop/usstock/DRUG.csv\n",
      "Saved data for symbol DRVN to C:/Users/atlas/OneDrive/Desktop/usstock/DRVN.csv\n",
      "Saved data for symbol DSAQ to C:/Users/atlas/OneDrive/Desktop/usstock/DSAQ.csv\n",
      "Saved data for symbol DSGN to C:/Users/atlas/OneDrive/Desktop/usstock/DSGN.csv\n",
      "Saved data for symbol DSGR to C:/Users/atlas/OneDrive/Desktop/usstock/DSGR.csv\n",
      "Saved data for symbol DSGX to C:/Users/atlas/OneDrive/Desktop/usstock/DSGX.csv\n",
      "Saved data for symbol DSL to C:/Users/atlas/OneDrive/Desktop/usstock/DSL.csv\n",
      "Saved data for symbol DSM to C:/Users/atlas/OneDrive/Desktop/usstock/DSM.csv\n",
      "Saved data for symbol DSP to C:/Users/atlas/OneDrive/Desktop/usstock/DSP.csv\n",
      "Saved data for symbol DSS to C:/Users/atlas/OneDrive/Desktop/usstock/DSS.csv\n",
      "Saved data for symbol DSU to C:/Users/atlas/OneDrive/Desktop/usstock/DSU.csv\n",
      "Saved data for symbol DSWL to C:/Users/atlas/OneDrive/Desktop/usstock/DSWL.csv\n",
      "Saved data for symbol DSX to C:/Users/atlas/OneDrive/Desktop/usstock/DSX.csv\n"
     ]
    },
    {
     "name": "stderr",
     "output_type": "stream",
     "text": [
      "\n",
      "1 Failed download:\n",
      "['DSX^B']: Exception('%ticker%: No timezone found, symbol may be delisted')\n"
     ]
    },
    {
     "name": "stdout",
     "output_type": "stream",
     "text": [
      "Saved data for symbol DSX^B to C:/Users/atlas/OneDrive/Desktop/usstock/DSX^B.csv\n",
      "Saved data for symbol DT to C:/Users/atlas/OneDrive/Desktop/usstock/DT.csv\n",
      "Saved data for symbol DTB to C:/Users/atlas/OneDrive/Desktop/usstock/DTB.csv\n",
      "Saved data for symbol DTC to C:/Users/atlas/OneDrive/Desktop/usstock/DTC.csv\n",
      "Saved data for symbol DTCK to C:/Users/atlas/OneDrive/Desktop/usstock/DTCK.csv\n",
      "Saved data for symbol DTE to C:/Users/atlas/OneDrive/Desktop/usstock/DTE.csv\n",
      "Saved data for symbol DTF to C:/Users/atlas/OneDrive/Desktop/usstock/DTF.csv\n",
      "Saved data for symbol DTG to C:/Users/atlas/OneDrive/Desktop/usstock/DTG.csv\n",
      "Saved data for symbol DTI to C:/Users/atlas/OneDrive/Desktop/usstock/DTI.csv\n",
      "Saved data for symbol DTIL to C:/Users/atlas/OneDrive/Desktop/usstock/DTIL.csv\n",
      "Saved data for symbol DTM to C:/Users/atlas/OneDrive/Desktop/usstock/DTM.csv\n",
      "Saved data for symbol DTSS to C:/Users/atlas/OneDrive/Desktop/usstock/DTSS.csv\n",
      "Saved data for symbol DTST to C:/Users/atlas/OneDrive/Desktop/usstock/DTST.csv\n"
     ]
    },
    {
     "name": "stderr",
     "output_type": "stream",
     "text": [
      "\n",
      "1 Failed download:\n",
      "['DTSTW']: Exception('%ticker%: 1d data not available for startTime=-14831751840 and endTime=1713529210. Only 100 years worth of day granularity data are allowed to be fetched per request.')\n"
     ]
    },
    {
     "name": "stdout",
     "output_type": "stream",
     "text": [
      "Saved data for symbol DTSTW to C:/Users/atlas/OneDrive/Desktop/usstock/DTSTW.csv\n",
      "Saved data for symbol DTW to C:/Users/atlas/OneDrive/Desktop/usstock/DTW.csv\n",
      "Saved data for symbol DUET to C:/Users/atlas/OneDrive/Desktop/usstock/DUET.csv\n",
      "Saved data for symbol DUK to C:/Users/atlas/OneDrive/Desktop/usstock/DUK.csv\n"
     ]
    },
    {
     "name": "stderr",
     "output_type": "stream",
     "text": [
      "\n",
      "1 Failed download:\n",
      "['DUK^A']: Exception('%ticker%: No timezone found, symbol may be delisted')\n"
     ]
    },
    {
     "name": "stdout",
     "output_type": "stream",
     "text": [
      "Saved data for symbol DUK^A to C:/Users/atlas/OneDrive/Desktop/usstock/DUK^A.csv\n",
      "Saved data for symbol DUKB to C:/Users/atlas/OneDrive/Desktop/usstock/DUKB.csv\n",
      "Saved data for symbol DUO to C:/Users/atlas/OneDrive/Desktop/usstock/DUO.csv\n",
      "Saved data for symbol DUOL to C:/Users/atlas/OneDrive/Desktop/usstock/DUOL.csv\n",
      "Saved data for symbol DUOT to C:/Users/atlas/OneDrive/Desktop/usstock/DUOT.csv\n",
      "Saved data for symbol DV to C:/Users/atlas/OneDrive/Desktop/usstock/DV.csv\n",
      "Saved data for symbol DVA to C:/Users/atlas/OneDrive/Desktop/usstock/DVA.csv\n",
      "Saved data for symbol DVAX to C:/Users/atlas/OneDrive/Desktop/usstock/DVAX.csv\n",
      "Saved data for symbol DVN to C:/Users/atlas/OneDrive/Desktop/usstock/DVN.csv\n",
      "Saved data for symbol DWSN to C:/Users/atlas/OneDrive/Desktop/usstock/DWSN.csv\n",
      "Saved data for symbol DX to C:/Users/atlas/OneDrive/Desktop/usstock/DX.csv\n"
     ]
    },
    {
     "name": "stderr",
     "output_type": "stream",
     "text": [
      "\n",
      "1 Failed download:\n",
      "['DX^C']: Exception('%ticker%: No timezone found, symbol may be delisted')\n"
     ]
    },
    {
     "name": "stdout",
     "output_type": "stream",
     "text": [
      "Saved data for symbol DX^C to C:/Users/atlas/OneDrive/Desktop/usstock/DX^C.csv\n",
      "Saved data for symbol DXC to C:/Users/atlas/OneDrive/Desktop/usstock/DXC.csv\n",
      "Saved data for symbol DXCM to C:/Users/atlas/OneDrive/Desktop/usstock/DXCM.csv\n",
      "Saved data for symbol DXF to C:/Users/atlas/OneDrive/Desktop/usstock/DXF.csv\n",
      "Saved data for symbol DXLG to C:/Users/atlas/OneDrive/Desktop/usstock/DXLG.csv\n",
      "Saved data for symbol DXPE to C:/Users/atlas/OneDrive/Desktop/usstock/DXPE.csv\n",
      "Saved data for symbol DXR to C:/Users/atlas/OneDrive/Desktop/usstock/DXR.csv\n",
      "Saved data for symbol DXYN to C:/Users/atlas/OneDrive/Desktop/usstock/DXYN.csv\n",
      "Saved data for symbol DXYZ to C:/Users/atlas/OneDrive/Desktop/usstock/DXYZ.csv\n",
      "Saved data for symbol DY to C:/Users/atlas/OneDrive/Desktop/usstock/DY.csv\n",
      "Saved data for symbol DYAI to C:/Users/atlas/OneDrive/Desktop/usstock/DYAI.csv\n",
      "Saved data for symbol DYCQ to C:/Users/atlas/OneDrive/Desktop/usstock/DYCQ.csv\n"
     ]
    },
    {
     "name": "stderr",
     "output_type": "stream",
     "text": [
      "\n",
      "1 Failed download:\n",
      "['DYCQR']: Exception('%ticker%: 1d data not available for startTime=-14831751840 and endTime=1713529227. Only 100 years worth of day granularity data are allowed to be fetched per request.')\n"
     ]
    },
    {
     "name": "stdout",
     "output_type": "stream",
     "text": [
      "Saved data for symbol DYCQR to C:/Users/atlas/OneDrive/Desktop/usstock/DYCQR.csv\n",
      "Saved data for symbol DYCQU to C:/Users/atlas/OneDrive/Desktop/usstock/DYCQU.csv\n",
      "Saved data for symbol DYN to C:/Users/atlas/OneDrive/Desktop/usstock/DYN.csv\n",
      "Saved data for symbol DYNT to C:/Users/atlas/OneDrive/Desktop/usstock/DYNT.csv\n",
      "Saved data for symbol DZSI to C:/Users/atlas/OneDrive/Desktop/usstock/DZSI.csv\n",
      "Saved data for symbol E to C:/Users/atlas/OneDrive/Desktop/usstock/E.csv\n",
      "Saved data for symbol EA to C:/Users/atlas/OneDrive/Desktop/usstock/EA.csv\n",
      "Saved data for symbol EAD to C:/Users/atlas/OneDrive/Desktop/usstock/EAD.csv\n",
      "Saved data for symbol EAF to C:/Users/atlas/OneDrive/Desktop/usstock/EAF.csv\n",
      "Saved data for symbol EAI to C:/Users/atlas/OneDrive/Desktop/usstock/EAI.csv\n",
      "Saved data for symbol EARN to C:/Users/atlas/OneDrive/Desktop/usstock/EARN.csv\n",
      "Saved data for symbol EAST to C:/Users/atlas/OneDrive/Desktop/usstock/EAST.csv\n",
      "Saved data for symbol EAT to C:/Users/atlas/OneDrive/Desktop/usstock/EAT.csv\n",
      "Saved data for symbol EB to C:/Users/atlas/OneDrive/Desktop/usstock/EB.csv\n",
      "Saved data for symbol EBAY to C:/Users/atlas/OneDrive/Desktop/usstock/EBAY.csv\n",
      "Saved data for symbol EBC to C:/Users/atlas/OneDrive/Desktop/usstock/EBC.csv\n",
      "Saved data for symbol EBF to C:/Users/atlas/OneDrive/Desktop/usstock/EBF.csv\n",
      "Saved data for symbol EBMT to C:/Users/atlas/OneDrive/Desktop/usstock/EBMT.csv\n",
      "Saved data for symbol EBON to C:/Users/atlas/OneDrive/Desktop/usstock/EBON.csv\n",
      "Saved data for symbol EBR to C:/Users/atlas/OneDrive/Desktop/usstock/EBR.csv\n",
      "Saved data for symbol EBS to C:/Users/atlas/OneDrive/Desktop/usstock/EBS.csv\n",
      "Saved data for symbol EBTC to C:/Users/atlas/OneDrive/Desktop/usstock/EBTC.csv\n",
      "Saved data for symbol EC to C:/Users/atlas/OneDrive/Desktop/usstock/EC.csv\n",
      "Saved data for symbol ECAT to C:/Users/atlas/OneDrive/Desktop/usstock/ECAT.csv\n",
      "Saved data for symbol ECBK to C:/Users/atlas/OneDrive/Desktop/usstock/ECBK.csv\n",
      "Saved data for symbol ECC            to C:/Users/atlas/OneDrive/Desktop/usstock/ECC           .csv\n"
     ]
    },
    {
     "name": "stderr",
     "output_type": "stream",
     "text": [
      "\n",
      "1 Failed download:\n",
      "['ECC^D']: Exception('%ticker%: No timezone found, symbol may be delisted')\n"
     ]
    },
    {
     "name": "stdout",
     "output_type": "stream",
     "text": [
      "Saved data for symbol ECC^D to C:/Users/atlas/OneDrive/Desktop/usstock/ECC^D.csv\n",
      "Saved data for symbol ECCC to C:/Users/atlas/OneDrive/Desktop/usstock/ECCC.csv\n",
      "Saved data for symbol ECCF to C:/Users/atlas/OneDrive/Desktop/usstock/ECCF.csv\n",
      "Saved data for symbol ECCV to C:/Users/atlas/OneDrive/Desktop/usstock/ECCV.csv\n",
      "Saved data for symbol ECCW to C:/Users/atlas/OneDrive/Desktop/usstock/ECCW.csv\n",
      "Saved data for symbol ECCX to C:/Users/atlas/OneDrive/Desktop/usstock/ECCX.csv\n",
      "Saved data for symbol ECDA to C:/Users/atlas/OneDrive/Desktop/usstock/ECDA.csv\n"
     ]
    },
    {
     "name": "stderr",
     "output_type": "stream",
     "text": [
      "\n",
      "1 Failed download:\n",
      "['ECDAW']: Exception('%ticker%: 1d data not available for startTime=-14831751840 and endTime=1713529246. Only 100 years worth of day granularity data are allowed to be fetched per request.')\n"
     ]
    },
    {
     "name": "stdout",
     "output_type": "stream",
     "text": [
      "Saved data for symbol ECDAW to C:/Users/atlas/OneDrive/Desktop/usstock/ECDAW.csv\n",
      "Saved data for symbol ECF to C:/Users/atlas/OneDrive/Desktop/usstock/ECF.csv\n"
     ]
    },
    {
     "name": "stderr",
     "output_type": "stream",
     "text": [
      "\n",
      "1 Failed download:\n",
      "['ECF^A']: Exception('%ticker%: No timezone found, symbol may be delisted')\n"
     ]
    },
    {
     "name": "stdout",
     "output_type": "stream",
     "text": [
      "Saved data for symbol ECF^A to C:/Users/atlas/OneDrive/Desktop/usstock/ECF^A.csv\n",
      "Saved data for symbol ECL to C:/Users/atlas/OneDrive/Desktop/usstock/ECL.csv\n",
      "Saved data for symbol ECO to C:/Users/atlas/OneDrive/Desktop/usstock/ECO.csv\n",
      "Saved data for symbol ECOR to C:/Users/atlas/OneDrive/Desktop/usstock/ECOR.csv\n",
      "Saved data for symbol ECPG to C:/Users/atlas/OneDrive/Desktop/usstock/ECPG.csv\n",
      "Saved data for symbol ECVT to C:/Users/atlas/OneDrive/Desktop/usstock/ECVT.csv\n",
      "Saved data for symbol ECX to C:/Users/atlas/OneDrive/Desktop/usstock/ECX.csv\n"
     ]
    },
    {
     "name": "stderr",
     "output_type": "stream",
     "text": [
      "\n",
      "1 Failed download:\n",
      "['ECXWW']: Exception('%ticker%: 1d data not available for startTime=-14831751840 and endTime=1713529253. Only 100 years worth of day granularity data are allowed to be fetched per request.')\n"
     ]
    },
    {
     "name": "stdout",
     "output_type": "stream",
     "text": [
      "Saved data for symbol ECXWW to C:/Users/atlas/OneDrive/Desktop/usstock/ECXWW.csv\n",
      "Saved data for symbol ED to C:/Users/atlas/OneDrive/Desktop/usstock/ED.csv\n",
      "Saved data for symbol EDAP to C:/Users/atlas/OneDrive/Desktop/usstock/EDAP.csv\n",
      "Saved data for symbol EDBL to C:/Users/atlas/OneDrive/Desktop/usstock/EDBL.csv\n"
     ]
    },
    {
     "name": "stderr",
     "output_type": "stream",
     "text": [
      "\n",
      "1 Failed download:\n",
      "['EDBLW']: Exception('%ticker%: 1d data not available for startTime=-14831751840 and endTime=1713529256. Only 100 years worth of day granularity data are allowed to be fetched per request.')\n"
     ]
    },
    {
     "name": "stdout",
     "output_type": "stream",
     "text": [
      "Saved data for symbol EDBLW to C:/Users/atlas/OneDrive/Desktop/usstock/EDBLW.csv\n",
      "Saved data for symbol EDD to C:/Users/atlas/OneDrive/Desktop/usstock/EDD.csv\n",
      "Saved data for symbol EDF to C:/Users/atlas/OneDrive/Desktop/usstock/EDF.csv\n",
      "Saved data for symbol EDIT to C:/Users/atlas/OneDrive/Desktop/usstock/EDIT.csv\n",
      "Saved data for symbol EDN to C:/Users/atlas/OneDrive/Desktop/usstock/EDN.csv\n",
      "Saved data for symbol EDR to C:/Users/atlas/OneDrive/Desktop/usstock/EDR.csv\n",
      "Saved data for symbol EDRY to C:/Users/atlas/OneDrive/Desktop/usstock/EDRY.csv\n",
      "Saved data for symbol EDSA to C:/Users/atlas/OneDrive/Desktop/usstock/EDSA.csv\n",
      "Saved data for symbol EDTK to C:/Users/atlas/OneDrive/Desktop/usstock/EDTK.csv\n",
      "Saved data for symbol EDU to C:/Users/atlas/OneDrive/Desktop/usstock/EDU.csv\n",
      "Saved data for symbol EDUC to C:/Users/atlas/OneDrive/Desktop/usstock/EDUC.csv\n",
      "Saved data for symbol EE to C:/Users/atlas/OneDrive/Desktop/usstock/EE.csv\n",
      "Saved data for symbol EEA to C:/Users/atlas/OneDrive/Desktop/usstock/EEA.csv\n",
      "Saved data for symbol EEFT to C:/Users/atlas/OneDrive/Desktop/usstock/EEFT.csv\n",
      "Saved data for symbol EEIQ to C:/Users/atlas/OneDrive/Desktop/usstock/EEIQ.csv\n",
      "Saved data for symbol EEX to C:/Users/atlas/OneDrive/Desktop/usstock/EEX.csv\n",
      "Saved data for symbol EFC to C:/Users/atlas/OneDrive/Desktop/usstock/EFC.csv\n"
     ]
    },
    {
     "name": "stderr",
     "output_type": "stream",
     "text": [
      "\n",
      "1 Failed download:\n",
      "['EFC^A']: Exception('%ticker%: No timezone found, symbol may be delisted')\n"
     ]
    },
    {
     "name": "stdout",
     "output_type": "stream",
     "text": [
      "Saved data for symbol EFC^A to C:/Users/atlas/OneDrive/Desktop/usstock/EFC^A.csv\n"
     ]
    },
    {
     "name": "stderr",
     "output_type": "stream",
     "text": [
      "\n",
      "1 Failed download:\n",
      "['EFC^B']: Exception('%ticker%: No timezone found, symbol may be delisted')\n"
     ]
    },
    {
     "name": "stdout",
     "output_type": "stream",
     "text": [
      "Saved data for symbol EFC^B to C:/Users/atlas/OneDrive/Desktop/usstock/EFC^B.csv\n"
     ]
    },
    {
     "name": "stderr",
     "output_type": "stream",
     "text": [
      "\n",
      "1 Failed download:\n",
      "['EFC^C']: Exception('%ticker%: No timezone found, symbol may be delisted')\n"
     ]
    },
    {
     "name": "stdout",
     "output_type": "stream",
     "text": [
      "Saved data for symbol EFC^C to C:/Users/atlas/OneDrive/Desktop/usstock/EFC^C.csv\n"
     ]
    },
    {
     "name": "stderr",
     "output_type": "stream",
     "text": [
      "\n",
      "1 Failed download:\n",
      "['EFC^D']: Exception('%ticker%: No timezone found, symbol may be delisted')\n"
     ]
    },
    {
     "name": "stdout",
     "output_type": "stream",
     "text": [
      "Saved data for symbol EFC^D to C:/Users/atlas/OneDrive/Desktop/usstock/EFC^D.csv\n"
     ]
    },
    {
     "name": "stderr",
     "output_type": "stream",
     "text": [
      "\n",
      "1 Failed download:\n",
      "['EFC^E']: Exception('%ticker%: No timezone found, symbol may be delisted')\n"
     ]
    },
    {
     "name": "stdout",
     "output_type": "stream",
     "text": [
      "Saved data for symbol EFC^E to C:/Users/atlas/OneDrive/Desktop/usstock/EFC^E.csv\n",
      "Saved data for symbol EFOI to C:/Users/atlas/OneDrive/Desktop/usstock/EFOI.csv\n",
      "Saved data for symbol EFR to C:/Users/atlas/OneDrive/Desktop/usstock/EFR.csv\n",
      "Saved data for symbol EFSC to C:/Users/atlas/OneDrive/Desktop/usstock/EFSC.csv\n",
      "Saved data for symbol EFSCP to C:/Users/atlas/OneDrive/Desktop/usstock/EFSCP.csv\n",
      "Saved data for symbol EFSH to C:/Users/atlas/OneDrive/Desktop/usstock/EFSH.csv\n",
      "Saved data for symbol EFT to C:/Users/atlas/OneDrive/Desktop/usstock/EFT.csv\n",
      "Saved data for symbol EFTR to C:/Users/atlas/OneDrive/Desktop/usstock/EFTR.csv\n"
     ]
    },
    {
     "name": "stderr",
     "output_type": "stream",
     "text": [
      "\n",
      "1 Failed download:\n",
      "['EFTRW']: Exception('%ticker%: 1d data not available for startTime=-14831751840 and endTime=1713529277. Only 100 years worth of day granularity data are allowed to be fetched per request.')\n"
     ]
    },
    {
     "name": "stdout",
     "output_type": "stream",
     "text": [
      "Saved data for symbol EFTRW to C:/Users/atlas/OneDrive/Desktop/usstock/EFTRW.csv\n",
      "Saved data for symbol EFX to C:/Users/atlas/OneDrive/Desktop/usstock/EFX.csv\n",
      "Saved data for symbol EFXT to C:/Users/atlas/OneDrive/Desktop/usstock/EFXT.csv\n",
      "Saved data for symbol EG to C:/Users/atlas/OneDrive/Desktop/usstock/EG.csv\n",
      "Saved data for symbol EGAN to C:/Users/atlas/OneDrive/Desktop/usstock/EGAN.csv\n",
      "Saved data for symbol EGBN to C:/Users/atlas/OneDrive/Desktop/usstock/EGBN.csv\n",
      "Saved data for symbol EGF to C:/Users/atlas/OneDrive/Desktop/usstock/EGF.csv\n",
      "Saved data for symbol EGHT to C:/Users/atlas/OneDrive/Desktop/usstock/EGHT.csv\n",
      "Saved data for symbol EGIO to C:/Users/atlas/OneDrive/Desktop/usstock/EGIO.csv\n",
      "Saved data for symbol EGO to C:/Users/atlas/OneDrive/Desktop/usstock/EGO.csv\n",
      "Saved data for symbol EGOX to C:/Users/atlas/OneDrive/Desktop/usstock/EGOX.csv\n",
      "Saved data for symbol EGP to C:/Users/atlas/OneDrive/Desktop/usstock/EGP.csv\n",
      "Saved data for symbol EGRX to C:/Users/atlas/OneDrive/Desktop/usstock/EGRX.csv\n",
      "Saved data for symbol EGY to C:/Users/atlas/OneDrive/Desktop/usstock/EGY.csv\n",
      "Saved data for symbol EH to C:/Users/atlas/OneDrive/Desktop/usstock/EH.csv\n",
      "Saved data for symbol EHAB to C:/Users/atlas/OneDrive/Desktop/usstock/EHAB.csv\n",
      "Saved data for symbol EHC to C:/Users/atlas/OneDrive/Desktop/usstock/EHC.csv\n",
      "Saved data for symbol EHI to C:/Users/atlas/OneDrive/Desktop/usstock/EHI.csv\n",
      "Saved data for symbol EHTH to C:/Users/atlas/OneDrive/Desktop/usstock/EHTH.csv\n",
      "Saved data for symbol EIC to C:/Users/atlas/OneDrive/Desktop/usstock/EIC.csv\n",
      "Saved data for symbol EICA to C:/Users/atlas/OneDrive/Desktop/usstock/EICA.csv\n",
      "Saved data for symbol EICB to C:/Users/atlas/OneDrive/Desktop/usstock/EICB.csv\n",
      "Saved data for symbol EICC to C:/Users/atlas/OneDrive/Desktop/usstock/EICC.csv\n",
      "Saved data for symbol EIG to C:/Users/atlas/OneDrive/Desktop/usstock/EIG.csv\n",
      "Saved data for symbol EIM to C:/Users/atlas/OneDrive/Desktop/usstock/EIM.csv\n",
      "Saved data for symbol EIX to C:/Users/atlas/OneDrive/Desktop/usstock/EIX.csv\n",
      "Saved data for symbol EJH to C:/Users/atlas/OneDrive/Desktop/usstock/EJH.csv\n",
      "Saved data for symbol EKSO to C:/Users/atlas/OneDrive/Desktop/usstock/EKSO.csv\n",
      "Saved data for symbol EL to C:/Users/atlas/OneDrive/Desktop/usstock/EL.csv\n",
      "Saved data for symbol ELA to C:/Users/atlas/OneDrive/Desktop/usstock/ELA.csv\n",
      "Saved data for symbol ELAB to C:/Users/atlas/OneDrive/Desktop/usstock/ELAB.csv\n",
      "Saved data for symbol ELAN to C:/Users/atlas/OneDrive/Desktop/usstock/ELAN.csv\n",
      "Saved data for symbol ELBM to C:/Users/atlas/OneDrive/Desktop/usstock/ELBM.csv\n",
      "Saved data for symbol ELC to C:/Users/atlas/OneDrive/Desktop/usstock/ELC.csv\n",
      "Saved data for symbol ELDN to C:/Users/atlas/OneDrive/Desktop/usstock/ELDN.csv\n",
      "Saved data for symbol ELEV to C:/Users/atlas/OneDrive/Desktop/usstock/ELEV.csv\n",
      "Saved data for symbol ELF to C:/Users/atlas/OneDrive/Desktop/usstock/ELF.csv\n",
      "Saved data for symbol ELLO to C:/Users/atlas/OneDrive/Desktop/usstock/ELLO.csv\n",
      "Saved data for symbol ELMD to C:/Users/atlas/OneDrive/Desktop/usstock/ELMD.csv\n",
      "Saved data for symbol ELME to C:/Users/atlas/OneDrive/Desktop/usstock/ELME.csv\n",
      "Saved data for symbol ELP to C:/Users/atlas/OneDrive/Desktop/usstock/ELP.csv\n",
      "Saved data for symbol ELPC to C:/Users/atlas/OneDrive/Desktop/usstock/ELPC.csv\n",
      "Saved data for symbol ELS to C:/Users/atlas/OneDrive/Desktop/usstock/ELS.csv\n",
      "Saved data for symbol ELSE to C:/Users/atlas/OneDrive/Desktop/usstock/ELSE.csv\n",
      "Saved data for symbol ELTK to C:/Users/atlas/OneDrive/Desktop/usstock/ELTK.csv\n",
      "Saved data for symbol ELTX to C:/Users/atlas/OneDrive/Desktop/usstock/ELTX.csv\n",
      "Saved data for symbol ELUT to C:/Users/atlas/OneDrive/Desktop/usstock/ELUT.csv\n",
      "Saved data for symbol ELV to C:/Users/atlas/OneDrive/Desktop/usstock/ELV.csv\n",
      "Saved data for symbol ELVA to C:/Users/atlas/OneDrive/Desktop/usstock/ELVA.csv\n",
      "Saved data for symbol ELVN to C:/Users/atlas/OneDrive/Desktop/usstock/ELVN.csv\n",
      "Saved data for symbol ELWS to C:/Users/atlas/OneDrive/Desktop/usstock/ELWS.csv\n",
      "Saved data for symbol ELYM to C:/Users/atlas/OneDrive/Desktop/usstock/ELYM.csv\n",
      "Saved data for symbol EM to C:/Users/atlas/OneDrive/Desktop/usstock/EM.csv\n",
      "Saved data for symbol EMBC to C:/Users/atlas/OneDrive/Desktop/usstock/EMBC.csv\n",
      "Saved data for symbol EMCG to C:/Users/atlas/OneDrive/Desktop/usstock/EMCG.csv\n"
     ]
    },
    {
     "name": "stderr",
     "output_type": "stream",
     "text": [
      "\n",
      "1 Failed download:\n",
      "['EMCGR']: Exception('%ticker%: 1d data not available for startTime=-14831751840 and endTime=1713529301. Only 100 years worth of day granularity data are allowed to be fetched per request.')\n"
     ]
    },
    {
     "name": "stdout",
     "output_type": "stream",
     "text": [
      "Saved data for symbol EMCGR to C:/Users/atlas/OneDrive/Desktop/usstock/EMCGR.csv\n"
     ]
    },
    {
     "name": "stderr",
     "output_type": "stream",
     "text": [
      "\n",
      "1 Failed download:\n",
      "['EMCGW']: Exception('%ticker%: 1d data not available for startTime=-14831751840 and endTime=1713529303. Only 100 years worth of day granularity data are allowed to be fetched per request.')\n"
     ]
    },
    {
     "name": "stdout",
     "output_type": "stream",
     "text": [
      "Saved data for symbol EMCGW to C:/Users/atlas/OneDrive/Desktop/usstock/EMCGW.csv\n",
      "Saved data for symbol EMD to C:/Users/atlas/OneDrive/Desktop/usstock/EMD.csv\n",
      "Saved data for symbol EME to C:/Users/atlas/OneDrive/Desktop/usstock/EME.csv\n",
      "Saved data for symbol EMF to C:/Users/atlas/OneDrive/Desktop/usstock/EMF.csv\n",
      "Saved data for symbol EMKR to C:/Users/atlas/OneDrive/Desktop/usstock/EMKR.csv\n",
      "Saved data for symbol EML to C:/Users/atlas/OneDrive/Desktop/usstock/EML.csv\n",
      "Saved data for symbol EMLD to C:/Users/atlas/OneDrive/Desktop/usstock/EMLD.csv\n"
     ]
    },
    {
     "name": "stderr",
     "output_type": "stream",
     "text": [
      "\n",
      "1 Failed download:\n",
      "['EMLDW']: Exception('%ticker%: 1d data not available for startTime=-14831751840 and endTime=1713529308. Only 100 years worth of day granularity data are allowed to be fetched per request.')\n"
     ]
    },
    {
     "name": "stdout",
     "output_type": "stream",
     "text": [
      "Saved data for symbol EMLDW to C:/Users/atlas/OneDrive/Desktop/usstock/EMLDW.csv\n",
      "Saved data for symbol EMN to C:/Users/atlas/OneDrive/Desktop/usstock/EMN.csv\n",
      "Saved data for symbol EMO to C:/Users/atlas/OneDrive/Desktop/usstock/EMO.csv\n",
      "Saved data for symbol EMP to C:/Users/atlas/OneDrive/Desktop/usstock/EMP.csv\n",
      "Saved data for symbol EMR to C:/Users/atlas/OneDrive/Desktop/usstock/EMR.csv\n",
      "Saved data for symbol EMX to C:/Users/atlas/OneDrive/Desktop/usstock/EMX.csv\n",
      "Saved data for symbol ENB to C:/Users/atlas/OneDrive/Desktop/usstock/ENB.csv\n",
      "Saved data for symbol ENFN to C:/Users/atlas/OneDrive/Desktop/usstock/ENFN.csv\n",
      "Saved data for symbol ENG to C:/Users/atlas/OneDrive/Desktop/usstock/ENG.csv\n",
      "Saved data for symbol ENGN to C:/Users/atlas/OneDrive/Desktop/usstock/ENGN.csv\n"
     ]
    },
    {
     "name": "stderr",
     "output_type": "stream",
     "text": [
      "\n",
      "1 Failed download:\n",
      "['ENGNW']: Exception('%ticker%: 1d data not available for startTime=-14831751840 and endTime=1713529315. Only 100 years worth of day granularity data are allowed to be fetched per request.')\n"
     ]
    },
    {
     "name": "stdout",
     "output_type": "stream",
     "text": [
      "Saved data for symbol ENGNW to C:/Users/atlas/OneDrive/Desktop/usstock/ENGNW.csv\n",
      "Saved data for symbol ENIC to C:/Users/atlas/OneDrive/Desktop/usstock/ENIC.csv\n",
      "Saved data for symbol ENJ to C:/Users/atlas/OneDrive/Desktop/usstock/ENJ.csv\n",
      "Saved data for symbol ENLC to C:/Users/atlas/OneDrive/Desktop/usstock/ENLC.csv\n",
      "Saved data for symbol ENLT to C:/Users/atlas/OneDrive/Desktop/usstock/ENLT.csv\n",
      "Saved data for symbol ENLV to C:/Users/atlas/OneDrive/Desktop/usstock/ENLV.csv\n",
      "Saved data for symbol ENO to C:/Users/atlas/OneDrive/Desktop/usstock/ENO.csv\n",
      "Saved data for symbol ENOV to C:/Users/atlas/OneDrive/Desktop/usstock/ENOV.csv\n",
      "Saved data for symbol ENPH to C:/Users/atlas/OneDrive/Desktop/usstock/ENPH.csv\n",
      "Saved data for symbol ENR to C:/Users/atlas/OneDrive/Desktop/usstock/ENR.csv\n",
      "Saved data for symbol ENS to C:/Users/atlas/OneDrive/Desktop/usstock/ENS.csv\n",
      "Saved data for symbol ENSC to C:/Users/atlas/OneDrive/Desktop/usstock/ENSC.csv\n",
      "Saved data for symbol ENSG to C:/Users/atlas/OneDrive/Desktop/usstock/ENSG.csv\n",
      "Saved data for symbol ENSV to C:/Users/atlas/OneDrive/Desktop/usstock/ENSV.csv\n",
      "Saved data for symbol ENTA to C:/Users/atlas/OneDrive/Desktop/usstock/ENTA.csv\n",
      "Saved data for symbol ENTG to C:/Users/atlas/OneDrive/Desktop/usstock/ENTG.csv\n",
      "Saved data for symbol ENTX to C:/Users/atlas/OneDrive/Desktop/usstock/ENTX.csv\n",
      "Saved data for symbol ENV to C:/Users/atlas/OneDrive/Desktop/usstock/ENV.csv\n",
      "Saved data for symbol ENVA to C:/Users/atlas/OneDrive/Desktop/usstock/ENVA.csv\n",
      "Saved data for symbol ENVB to C:/Users/atlas/OneDrive/Desktop/usstock/ENVB.csv\n",
      "Saved data for symbol ENVX to C:/Users/atlas/OneDrive/Desktop/usstock/ENVX.csv\n",
      "Saved data for symbol ENX to C:/Users/atlas/OneDrive/Desktop/usstock/ENX.csv\n",
      "Saved data for symbol ENZ to C:/Users/atlas/OneDrive/Desktop/usstock/ENZ.csv\n",
      "Saved data for symbol EOD to C:/Users/atlas/OneDrive/Desktop/usstock/EOD.csv\n",
      "Saved data for symbol EOG to C:/Users/atlas/OneDrive/Desktop/usstock/EOG.csv\n",
      "Saved data for symbol EOI to C:/Users/atlas/OneDrive/Desktop/usstock/EOI.csv\n",
      "Saved data for symbol EOLS to C:/Users/atlas/OneDrive/Desktop/usstock/EOLS.csv\n",
      "Saved data for symbol EOS to C:/Users/atlas/OneDrive/Desktop/usstock/EOS.csv\n",
      "Saved data for symbol EOSE to C:/Users/atlas/OneDrive/Desktop/usstock/EOSE.csv\n",
      "Saved data for symbol EOSEW to C:/Users/atlas/OneDrive/Desktop/usstock/EOSEW.csv\n",
      "Saved data for symbol EOT to C:/Users/atlas/OneDrive/Desktop/usstock/EOT.csv\n",
      "Saved data for symbol EP to C:/Users/atlas/OneDrive/Desktop/usstock/EP.csv\n"
     ]
    },
    {
     "name": "stderr",
     "output_type": "stream",
     "text": [
      "\n",
      "1 Failed download:\n",
      "['EP^C']: Exception('%ticker%: No timezone found, symbol may be delisted')\n"
     ]
    },
    {
     "name": "stdout",
     "output_type": "stream",
     "text": [
      "Saved data for symbol EP^C to C:/Users/atlas/OneDrive/Desktop/usstock/EP^C.csv\n",
      "Saved data for symbol EPAC to C:/Users/atlas/OneDrive/Desktop/usstock/EPAC.csv\n",
      "Saved data for symbol EPAM to C:/Users/atlas/OneDrive/Desktop/usstock/EPAM.csv\n",
      "Saved data for symbol EPC to C:/Users/atlas/OneDrive/Desktop/usstock/EPC.csv\n",
      "Saved data for symbol EPD to C:/Users/atlas/OneDrive/Desktop/usstock/EPD.csv\n",
      "Saved data for symbol EPIX to C:/Users/atlas/OneDrive/Desktop/usstock/EPIX.csv\n",
      "Saved data for symbol EPM to C:/Users/atlas/OneDrive/Desktop/usstock/EPM.csv\n",
      "Saved data for symbol EPOW to C:/Users/atlas/OneDrive/Desktop/usstock/EPOW.csv\n",
      "Saved data for symbol EPR to C:/Users/atlas/OneDrive/Desktop/usstock/EPR.csv\n"
     ]
    },
    {
     "name": "stderr",
     "output_type": "stream",
     "text": [
      "\n",
      "1 Failed download:\n",
      "['EPR^C']: Exception('%ticker%: No timezone found, symbol may be delisted')\n"
     ]
    },
    {
     "name": "stdout",
     "output_type": "stream",
     "text": [
      "Saved data for symbol EPR^C to C:/Users/atlas/OneDrive/Desktop/usstock/EPR^C.csv\n"
     ]
    },
    {
     "name": "stderr",
     "output_type": "stream",
     "text": [
      "\n",
      "1 Failed download:\n",
      "['EPR^E']: Exception('%ticker%: No timezone found, symbol may be delisted')\n"
     ]
    },
    {
     "name": "stdout",
     "output_type": "stream",
     "text": [
      "Saved data for symbol EPR^E to C:/Users/atlas/OneDrive/Desktop/usstock/EPR^E.csv\n"
     ]
    },
    {
     "name": "stderr",
     "output_type": "stream",
     "text": [
      "\n",
      "1 Failed download:\n",
      "['EPR^G']: Exception('%ticker%: No timezone found, symbol may be delisted')\n"
     ]
    },
    {
     "name": "stdout",
     "output_type": "stream",
     "text": [
      "Saved data for symbol EPR^G to C:/Users/atlas/OneDrive/Desktop/usstock/EPR^G.csv\n",
      "Saved data for symbol EPRT to C:/Users/atlas/OneDrive/Desktop/usstock/EPRT.csv\n",
      "Saved data for symbol EPRX to C:/Users/atlas/OneDrive/Desktop/usstock/EPRX.csv\n",
      "Saved data for symbol EPSN to C:/Users/atlas/OneDrive/Desktop/usstock/EPSN.csv\n",
      "Saved data for symbol EQ to C:/Users/atlas/OneDrive/Desktop/usstock/EQ.csv\n",
      "Saved data for symbol EQBK to C:/Users/atlas/OneDrive/Desktop/usstock/EQBK.csv\n",
      "Saved data for symbol EQC to C:/Users/atlas/OneDrive/Desktop/usstock/EQC.csv\n"
     ]
    },
    {
     "name": "stderr",
     "output_type": "stream",
     "text": [
      "\n",
      "1 Failed download:\n",
      "['EQC^D']: Exception('%ticker%: No timezone found, symbol may be delisted')\n"
     ]
    },
    {
     "name": "stdout",
     "output_type": "stream",
     "text": [
      "Saved data for symbol EQC^D to C:/Users/atlas/OneDrive/Desktop/usstock/EQC^D.csv\n",
      "Saved data for symbol EQH to C:/Users/atlas/OneDrive/Desktop/usstock/EQH.csv\n"
     ]
    },
    {
     "name": "stderr",
     "output_type": "stream",
     "text": [
      "\n",
      "1 Failed download:\n",
      "['EQH^A']: Exception('%ticker%: No timezone found, symbol may be delisted')\n"
     ]
    },
    {
     "name": "stdout",
     "output_type": "stream",
     "text": [
      "Saved data for symbol EQH^A to C:/Users/atlas/OneDrive/Desktop/usstock/EQH^A.csv\n"
     ]
    },
    {
     "name": "stderr",
     "output_type": "stream",
     "text": [
      "\n",
      "1 Failed download:\n",
      "['EQH^C']: Exception('%ticker%: No timezone found, symbol may be delisted')\n"
     ]
    },
    {
     "name": "stdout",
     "output_type": "stream",
     "text": [
      "Saved data for symbol EQH^C to C:/Users/atlas/OneDrive/Desktop/usstock/EQH^C.csv\n",
      "Saved data for symbol EQIX to C:/Users/atlas/OneDrive/Desktop/usstock/EQIX.csv\n",
      "Saved data for symbol EQNR to C:/Users/atlas/OneDrive/Desktop/usstock/EQNR.csv\n",
      "Saved data for symbol EQR to C:/Users/atlas/OneDrive/Desktop/usstock/EQR.csv\n",
      "Saved data for symbol EQS to C:/Users/atlas/OneDrive/Desktop/usstock/EQS.csv\n",
      "Saved data for symbol EQT to C:/Users/atlas/OneDrive/Desktop/usstock/EQT.csv\n",
      "Saved data for symbol EQX to C:/Users/atlas/OneDrive/Desktop/usstock/EQX.csv\n",
      "Saved data for symbol ERAS to C:/Users/atlas/OneDrive/Desktop/usstock/ERAS.csv\n",
      "Saved data for symbol ERC to C:/Users/atlas/OneDrive/Desktop/usstock/ERC.csv\n",
      "Saved data for symbol ERF to C:/Users/atlas/OneDrive/Desktop/usstock/ERF.csv\n",
      "Saved data for symbol ERH to C:/Users/atlas/OneDrive/Desktop/usstock/ERH.csv\n",
      "Saved data for symbol ERIC to C:/Users/atlas/OneDrive/Desktop/usstock/ERIC.csv\n",
      "Saved data for symbol ERIE to C:/Users/atlas/OneDrive/Desktop/usstock/ERIE.csv\n",
      "Saved data for symbol ERII to C:/Users/atlas/OneDrive/Desktop/usstock/ERII.csv\n",
      "Saved data for symbol ERJ to C:/Users/atlas/OneDrive/Desktop/usstock/ERJ.csv\n",
      "Saved data for symbol ERNA to C:/Users/atlas/OneDrive/Desktop/usstock/ERNA.csv\n",
      "Saved data for symbol ERO to C:/Users/atlas/OneDrive/Desktop/usstock/ERO.csv\n",
      "Saved data for symbol ES to C:/Users/atlas/OneDrive/Desktop/usstock/ES.csv\n",
      "Saved data for symbol ESAB to C:/Users/atlas/OneDrive/Desktop/usstock/ESAB.csv\n",
      "Saved data for symbol ESCA to C:/Users/atlas/OneDrive/Desktop/usstock/ESCA.csv\n",
      "Saved data for symbol ESE to C:/Users/atlas/OneDrive/Desktop/usstock/ESE.csv\n",
      "Saved data for symbol ESEA to C:/Users/atlas/OneDrive/Desktop/usstock/ESEA.csv\n",
      "Saved data for symbol ESGL to C:/Users/atlas/OneDrive/Desktop/usstock/ESGL.csv\n"
     ]
    },
    {
     "name": "stderr",
     "output_type": "stream",
     "text": [
      "\n",
      "1 Failed download:\n",
      "['ESGLW']: Exception('%ticker%: 1d data not available for startTime=-14831751840 and endTime=1713529365. Only 100 years worth of day granularity data are allowed to be fetched per request.')\n"
     ]
    },
    {
     "name": "stdout",
     "output_type": "stream",
     "text": [
      "Saved data for symbol ESGLW to C:/Users/atlas/OneDrive/Desktop/usstock/ESGLW.csv\n",
      "Saved data for symbol ESGR to C:/Users/atlas/OneDrive/Desktop/usstock/ESGR.csv\n",
      "Saved data for symbol ESGRO to C:/Users/atlas/OneDrive/Desktop/usstock/ESGRO.csv\n",
      "Saved data for symbol ESGRP to C:/Users/atlas/OneDrive/Desktop/usstock/ESGRP.csv\n",
      "Saved data for symbol ESHA to C:/Users/atlas/OneDrive/Desktop/usstock/ESHA.csv\n"
     ]
    },
    {
     "name": "stderr",
     "output_type": "stream",
     "text": [
      "\n",
      "1 Failed download:\n",
      "['ESHAR']: Exception('%ticker%: 1d data not available for startTime=-14831751840 and endTime=1713529369. Only 100 years worth of day granularity data are allowed to be fetched per request.')\n"
     ]
    },
    {
     "name": "stdout",
     "output_type": "stream",
     "text": [
      "Saved data for symbol ESHAR to C:/Users/atlas/OneDrive/Desktop/usstock/ESHAR.csv\n",
      "Saved data for symbol ESI to C:/Users/atlas/OneDrive/Desktop/usstock/ESI.csv\n",
      "Saved data for symbol ESLA to C:/Users/atlas/OneDrive/Desktop/usstock/ESLA.csv\n"
     ]
    },
    {
     "name": "stderr",
     "output_type": "stream",
     "text": [
      "\n",
      "1 Failed download:\n",
      "['ESLAW']: Exception('%ticker%: 1d data not available for startTime=-14831751840 and endTime=1713529372. Only 100 years worth of day granularity data are allowed to be fetched per request.')\n"
     ]
    },
    {
     "name": "stdout",
     "output_type": "stream",
     "text": [
      "Saved data for symbol ESLAW to C:/Users/atlas/OneDrive/Desktop/usstock/ESLAW.csv\n",
      "Saved data for symbol ESLT to C:/Users/atlas/OneDrive/Desktop/usstock/ESLT.csv\n",
      "Saved data for symbol ESNT to C:/Users/atlas/OneDrive/Desktop/usstock/ESNT.csv\n",
      "Saved data for symbol ESOA to C:/Users/atlas/OneDrive/Desktop/usstock/ESOA.csv\n",
      "Saved data for symbol ESP to C:/Users/atlas/OneDrive/Desktop/usstock/ESP.csv\n",
      "Saved data for symbol ESPR to C:/Users/atlas/OneDrive/Desktop/usstock/ESPR.csv\n",
      "Saved data for symbol ESQ to C:/Users/atlas/OneDrive/Desktop/usstock/ESQ.csv\n",
      "Saved data for symbol ESRT to C:/Users/atlas/OneDrive/Desktop/usstock/ESRT.csv\n",
      "Saved data for symbol ESS to C:/Users/atlas/OneDrive/Desktop/usstock/ESS.csv\n",
      "Saved data for symbol ESSA to C:/Users/atlas/OneDrive/Desktop/usstock/ESSA.csv\n",
      "Saved data for symbol ESTA to C:/Users/atlas/OneDrive/Desktop/usstock/ESTA.csv\n",
      "Saved data for symbol ESTC to C:/Users/atlas/OneDrive/Desktop/usstock/ESTC.csv\n",
      "Saved data for symbol ET to C:/Users/atlas/OneDrive/Desktop/usstock/ET.csv\n"
     ]
    },
    {
     "name": "stderr",
     "output_type": "stream",
     "text": [
      "\n",
      "1 Failed download:\n",
      "['ET^E']: Exception('%ticker%: No timezone found, symbol may be delisted')\n"
     ]
    },
    {
     "name": "stdout",
     "output_type": "stream",
     "text": [
      "Saved data for symbol ET^E to C:/Users/atlas/OneDrive/Desktop/usstock/ET^E.csv\n"
     ]
    },
    {
     "name": "stderr",
     "output_type": "stream",
     "text": [
      "\n",
      "1 Failed download:\n",
      "['ET^I']: Exception('%ticker%: No timezone found, symbol may be delisted')\n"
     ]
    },
    {
     "name": "stdout",
     "output_type": "stream",
     "text": [
      "Saved data for symbol ET^I to C:/Users/atlas/OneDrive/Desktop/usstock/ET^I.csv\n",
      "Saved data for symbol ETAO to C:/Users/atlas/OneDrive/Desktop/usstock/ETAO.csv\n",
      "Saved data for symbol ETB to C:/Users/atlas/OneDrive/Desktop/usstock/ETB.csv\n",
      "Saved data for symbol ETD to C:/Users/atlas/OneDrive/Desktop/usstock/ETD.csv\n",
      "Saved data for symbol ETG to C:/Users/atlas/OneDrive/Desktop/usstock/ETG.csv\n"
     ]
    },
    {
     "name": "stderr",
     "output_type": "stream",
     "text": [
      "\n",
      "1 Failed download:\n",
      "['ETI^']: Exception('%ticker%: No timezone found, symbol may be delisted')\n"
     ]
    },
    {
     "name": "stdout",
     "output_type": "stream",
     "text": [
      "Saved data for symbol ETI^ to C:/Users/atlas/OneDrive/Desktop/usstock/ETI^.csv\n",
      "Saved data for symbol ETJ to C:/Users/atlas/OneDrive/Desktop/usstock/ETJ.csv\n",
      "Saved data for symbol ETN to C:/Users/atlas/OneDrive/Desktop/usstock/ETN.csv\n",
      "Saved data for symbol ETNB to C:/Users/atlas/OneDrive/Desktop/usstock/ETNB.csv\n",
      "Saved data for symbol ETO to C:/Users/atlas/OneDrive/Desktop/usstock/ETO.csv\n",
      "Saved data for symbol ETON to C:/Users/atlas/OneDrive/Desktop/usstock/ETON.csv\n",
      "Saved data for symbol ETR to C:/Users/atlas/OneDrive/Desktop/usstock/ETR.csv\n",
      "Saved data for symbol ETRN to C:/Users/atlas/OneDrive/Desktop/usstock/ETRN.csv\n",
      "Saved data for symbol ETSY to C:/Users/atlas/OneDrive/Desktop/usstock/ETSY.csv\n",
      "Saved data for symbol ETV to C:/Users/atlas/OneDrive/Desktop/usstock/ETV.csv\n",
      "Saved data for symbol ETW to C:/Users/atlas/OneDrive/Desktop/usstock/ETW.csv\n",
      "Saved data for symbol ETWO to C:/Users/atlas/OneDrive/Desktop/usstock/ETWO.csv\n",
      "Saved data for symbol ETX            to C:/Users/atlas/OneDrive/Desktop/usstock/ETX           .csv\n",
      "Saved data for symbol ETY to C:/Users/atlas/OneDrive/Desktop/usstock/ETY.csv\n",
      "Saved data for symbol EU to C:/Users/atlas/OneDrive/Desktop/usstock/EU.csv\n",
      "Saved data for symbol EUDA to C:/Users/atlas/OneDrive/Desktop/usstock/EUDA.csv\n"
     ]
    },
    {
     "name": "stderr",
     "output_type": "stream",
     "text": [
      "\n",
      "1 Failed download:\n",
      "['EUDAW']: Exception('%ticker%: 1d data not available for startTime=-14831751840 and endTime=1713529397. Only 100 years worth of day granularity data are allowed to be fetched per request.')\n"
     ]
    },
    {
     "name": "stdout",
     "output_type": "stream",
     "text": [
      "Saved data for symbol EUDAW to C:/Users/atlas/OneDrive/Desktop/usstock/EUDAW.csv\n",
      "Saved data for symbol EURN to C:/Users/atlas/OneDrive/Desktop/usstock/EURN.csv\n",
      "Saved data for symbol EVA to C:/Users/atlas/OneDrive/Desktop/usstock/EVA.csv\n",
      "Saved data for symbol EVAX to C:/Users/atlas/OneDrive/Desktop/usstock/EVAX.csv\n",
      "Saved data for symbol EVBG to C:/Users/atlas/OneDrive/Desktop/usstock/EVBG.csv\n",
      "Saved data for symbol EVBN to C:/Users/atlas/OneDrive/Desktop/usstock/EVBN.csv\n",
      "Saved data for symbol EVC to C:/Users/atlas/OneDrive/Desktop/usstock/EVC.csv\n",
      "Saved data for symbol EVCM to C:/Users/atlas/OneDrive/Desktop/usstock/EVCM.csv\n",
      "Saved data for symbol EVE to C:/Users/atlas/OneDrive/Desktop/usstock/EVE.csv\n",
      "Saved data for symbol EVER to C:/Users/atlas/OneDrive/Desktop/usstock/EVER.csv\n",
      "Saved data for symbol EVEX to C:/Users/atlas/OneDrive/Desktop/usstock/EVEX.csv\n",
      "Saved data for symbol EVF to C:/Users/atlas/OneDrive/Desktop/usstock/EVF.csv\n",
      "Saved data for symbol EVG to C:/Users/atlas/OneDrive/Desktop/usstock/EVG.csv\n",
      "Saved data for symbol EVGN to C:/Users/atlas/OneDrive/Desktop/usstock/EVGN.csv\n",
      "Saved data for symbol EVGO to C:/Users/atlas/OneDrive/Desktop/usstock/EVGO.csv\n",
      "Saved data for symbol EVGOW to C:/Users/atlas/OneDrive/Desktop/usstock/EVGOW.csv\n",
      "Saved data for symbol EVGR to C:/Users/atlas/OneDrive/Desktop/usstock/EVGR.csv\n",
      "Saved data for symbol EVGRU to C:/Users/atlas/OneDrive/Desktop/usstock/EVGRU.csv\n"
     ]
    },
    {
     "name": "stderr",
     "output_type": "stream",
     "text": [
      "\n",
      "1 Failed download:\n",
      "['EVGRW']: Exception('%ticker%: 1d data not available for startTime=-14831751840 and endTime=1713529404. Only 100 years worth of day granularity data are allowed to be fetched per request.')\n"
     ]
    },
    {
     "name": "stdout",
     "output_type": "stream",
     "text": [
      "Saved data for symbol EVGRW to C:/Users/atlas/OneDrive/Desktop/usstock/EVGRW.csv\n",
      "Saved data for symbol EVH to C:/Users/atlas/OneDrive/Desktop/usstock/EVH.csv\n",
      "Saved data for symbol EVI to C:/Users/atlas/OneDrive/Desktop/usstock/EVI.csv\n",
      "Saved data for symbol EVLV to C:/Users/atlas/OneDrive/Desktop/usstock/EVLV.csv\n"
     ]
    },
    {
     "name": "stderr",
     "output_type": "stream",
     "text": [
      "\n",
      "1 Failed download:\n",
      "['EVLVW']: Exception('%ticker%: 1d data not available for startTime=-14831751840 and endTime=1713529407. Only 100 years worth of day granularity data are allowed to be fetched per request.')\n"
     ]
    },
    {
     "name": "stdout",
     "output_type": "stream",
     "text": [
      "Saved data for symbol EVLVW to C:/Users/atlas/OneDrive/Desktop/usstock/EVLVW.csv\n",
      "Saved data for symbol EVM to C:/Users/atlas/OneDrive/Desktop/usstock/EVM.csv\n",
      "Saved data for symbol EVN to C:/Users/atlas/OneDrive/Desktop/usstock/EVN.csv\n",
      "Saved data for symbol EVO to C:/Users/atlas/OneDrive/Desktop/usstock/EVO.csv\n",
      "Saved data for symbol EVOK to C:/Users/atlas/OneDrive/Desktop/usstock/EVOK.csv\n",
      "Saved data for symbol EVR to C:/Users/atlas/OneDrive/Desktop/usstock/EVR.csv\n",
      "Saved data for symbol EVRG to C:/Users/atlas/OneDrive/Desktop/usstock/EVRG.csv\n",
      "Saved data for symbol EVRI to C:/Users/atlas/OneDrive/Desktop/usstock/EVRI.csv\n",
      "Saved data for symbol EVT to C:/Users/atlas/OneDrive/Desktop/usstock/EVT.csv\n",
      "Saved data for symbol EVTC to C:/Users/atlas/OneDrive/Desktop/usstock/EVTC.csv\n",
      "Saved data for symbol EVTL to C:/Users/atlas/OneDrive/Desktop/usstock/EVTL.csv\n",
      "Saved data for symbol EVTV to C:/Users/atlas/OneDrive/Desktop/usstock/EVTV.csv\n",
      "Saved data for symbol EVV to C:/Users/atlas/OneDrive/Desktop/usstock/EVV.csv\n",
      "Saved data for symbol EW to C:/Users/atlas/OneDrive/Desktop/usstock/EW.csv\n",
      "Saved data for symbol EWBC to C:/Users/atlas/OneDrive/Desktop/usstock/EWBC.csv\n",
      "Saved data for symbol EWCZ to C:/Users/atlas/OneDrive/Desktop/usstock/EWCZ.csv\n",
      "Saved data for symbol EWTX to C:/Users/atlas/OneDrive/Desktop/usstock/EWTX.csv\n",
      "Saved data for symbol EXAI to C:/Users/atlas/OneDrive/Desktop/usstock/EXAI.csv\n",
      "Saved data for symbol EXAS to C:/Users/atlas/OneDrive/Desktop/usstock/EXAS.csv\n",
      "Saved data for symbol EXC to C:/Users/atlas/OneDrive/Desktop/usstock/EXC.csv\n",
      "Saved data for symbol EXEL to C:/Users/atlas/OneDrive/Desktop/usstock/EXEL.csv\n",
      "Saved data for symbol EXFY to C:/Users/atlas/OneDrive/Desktop/usstock/EXFY.csv\n",
      "Saved data for symbol EXG to C:/Users/atlas/OneDrive/Desktop/usstock/EXG.csv\n",
      "Saved data for symbol EXK to C:/Users/atlas/OneDrive/Desktop/usstock/EXK.csv\n",
      "Saved data for symbol EXLS to C:/Users/atlas/OneDrive/Desktop/usstock/EXLS.csv\n",
      "Saved data for symbol EXP to C:/Users/atlas/OneDrive/Desktop/usstock/EXP.csv\n",
      "Saved data for symbol EXPD to C:/Users/atlas/OneDrive/Desktop/usstock/EXPD.csv\n",
      "Saved data for symbol EXPE to C:/Users/atlas/OneDrive/Desktop/usstock/EXPE.csv\n",
      "Saved data for symbol EXPI to C:/Users/atlas/OneDrive/Desktop/usstock/EXPI.csv\n",
      "Saved data for symbol EXPO to C:/Users/atlas/OneDrive/Desktop/usstock/EXPO.csv\n",
      "Saved data for symbol EXR to C:/Users/atlas/OneDrive/Desktop/usstock/EXR.csv\n",
      "Saved data for symbol EXTO to C:/Users/atlas/OneDrive/Desktop/usstock/EXTO.csv\n",
      "Saved data for symbol EXTR to C:/Users/atlas/OneDrive/Desktop/usstock/EXTR.csv\n",
      "Saved data for symbol EYE to C:/Users/atlas/OneDrive/Desktop/usstock/EYE.csv\n",
      "Saved data for symbol EYEN to C:/Users/atlas/OneDrive/Desktop/usstock/EYEN.csv\n",
      "Saved data for symbol EYPT to C:/Users/atlas/OneDrive/Desktop/usstock/EYPT.csv\n",
      "Saved data for symbol EZFL to C:/Users/atlas/OneDrive/Desktop/usstock/EZFL.csv\n",
      "Saved data for symbol EZGO to C:/Users/atlas/OneDrive/Desktop/usstock/EZGO.csv\n",
      "Saved data for symbol EZPW to C:/Users/atlas/OneDrive/Desktop/usstock/EZPW.csv\n",
      "Saved data for symbol F to C:/Users/atlas/OneDrive/Desktop/usstock/F.csv\n"
     ]
    },
    {
     "name": "stderr",
     "output_type": "stream",
     "text": [
      "\n",
      "1 Failed download:\n",
      "['F^B']: Exception('%ticker%: No timezone found, symbol may be delisted')\n"
     ]
    },
    {
     "name": "stdout",
     "output_type": "stream",
     "text": [
      "Saved data for symbol F^B to C:/Users/atlas/OneDrive/Desktop/usstock/F^B.csv\n"
     ]
    },
    {
     "name": "stderr",
     "output_type": "stream",
     "text": [
      "\n",
      "1 Failed download:\n",
      "['F^C']: Exception('%ticker%: No timezone found, symbol may be delisted')\n"
     ]
    },
    {
     "name": "stdout",
     "output_type": "stream",
     "text": [
      "Saved data for symbol F^C to C:/Users/atlas/OneDrive/Desktop/usstock/F^C.csv\n"
     ]
    },
    {
     "name": "stderr",
     "output_type": "stream",
     "text": [
      "\n",
      "1 Failed download:\n",
      "['F^D']: Exception('%ticker%: No timezone found, symbol may be delisted')\n"
     ]
    },
    {
     "name": "stdout",
     "output_type": "stream",
     "text": [
      "Saved data for symbol F^D to C:/Users/atlas/OneDrive/Desktop/usstock/F^D.csv\n",
      "Saved data for symbol FA to C:/Users/atlas/OneDrive/Desktop/usstock/FA.csv\n",
      "Saved data for symbol FAAS to C:/Users/atlas/OneDrive/Desktop/usstock/FAAS.csv\n"
     ]
    },
    {
     "name": "stderr",
     "output_type": "stream",
     "text": [
      "\n",
      "1 Failed download:\n",
      "['FAASW']: Exception('%ticker%: 1d data not available for startTime=-14831751840 and endTime=1713529431. Only 100 years worth of day granularity data are allowed to be fetched per request.')\n"
     ]
    },
    {
     "name": "stdout",
     "output_type": "stream",
     "text": [
      "Saved data for symbol FAASW to C:/Users/atlas/OneDrive/Desktop/usstock/FAASW.csv\n",
      "Saved data for symbol FAF to C:/Users/atlas/OneDrive/Desktop/usstock/FAF.csv\n",
      "Saved data for symbol FAM to C:/Users/atlas/OneDrive/Desktop/usstock/FAM.csv\n",
      "Saved data for symbol FAMI to C:/Users/atlas/OneDrive/Desktop/usstock/FAMI.csv\n",
      "Saved data for symbol FANG to C:/Users/atlas/OneDrive/Desktop/usstock/FANG.csv\n",
      "Saved data for symbol FANH to C:/Users/atlas/OneDrive/Desktop/usstock/FANH.csv\n",
      "Saved data for symbol FARM to C:/Users/atlas/OneDrive/Desktop/usstock/FARM.csv\n",
      "Saved data for symbol FARO to C:/Users/atlas/OneDrive/Desktop/usstock/FARO.csv\n",
      "Saved data for symbol FAST to C:/Users/atlas/OneDrive/Desktop/usstock/FAST.csv\n",
      "Saved data for symbol FAT to C:/Users/atlas/OneDrive/Desktop/usstock/FAT.csv\n",
      "Saved data for symbol FATBB to C:/Users/atlas/OneDrive/Desktop/usstock/FATBB.csv\n",
      "Saved data for symbol FATBP to C:/Users/atlas/OneDrive/Desktop/usstock/FATBP.csv\n",
      "Saved data for symbol FATE to C:/Users/atlas/OneDrive/Desktop/usstock/FATE.csv\n",
      "Saved data for symbol FATH to C:/Users/atlas/OneDrive/Desktop/usstock/FATH.csv\n",
      "Saved data for symbol FAX to C:/Users/atlas/OneDrive/Desktop/usstock/FAX.csv\n",
      "Saved data for symbol FBIN to C:/Users/atlas/OneDrive/Desktop/usstock/FBIN.csv\n",
      "Saved data for symbol FBIO to C:/Users/atlas/OneDrive/Desktop/usstock/FBIO.csv\n",
      "Saved data for symbol FBIOP to C:/Users/atlas/OneDrive/Desktop/usstock/FBIOP.csv\n",
      "Saved data for symbol FBIZ to C:/Users/atlas/OneDrive/Desktop/usstock/FBIZ.csv\n",
      "Saved data for symbol FBK to C:/Users/atlas/OneDrive/Desktop/usstock/FBK.csv\n",
      "Saved data for symbol FBLG to C:/Users/atlas/OneDrive/Desktop/usstock/FBLG.csv\n",
      "Saved data for symbol FBMS to C:/Users/atlas/OneDrive/Desktop/usstock/FBMS.csv\n",
      "Saved data for symbol FBNC to C:/Users/atlas/OneDrive/Desktop/usstock/FBNC.csv\n",
      "Saved data for symbol FBP to C:/Users/atlas/OneDrive/Desktop/usstock/FBP.csv\n",
      "Saved data for symbol FBRT to C:/Users/atlas/OneDrive/Desktop/usstock/FBRT.csv\n"
     ]
    },
    {
     "name": "stderr",
     "output_type": "stream",
     "text": [
      "\n",
      "1 Failed download:\n",
      "['FBRT^E']: Exception('%ticker%: No timezone found, symbol may be delisted')\n"
     ]
    },
    {
     "name": "stdout",
     "output_type": "stream",
     "text": [
      "Saved data for symbol FBRT^E to C:/Users/atlas/OneDrive/Desktop/usstock/FBRT^E.csv\n",
      "Saved data for symbol FBRX to C:/Users/atlas/OneDrive/Desktop/usstock/FBRX.csv\n",
      "Saved data for symbol FBYD to C:/Users/atlas/OneDrive/Desktop/usstock/FBYD.csv\n"
     ]
    },
    {
     "name": "stderr",
     "output_type": "stream",
     "text": [
      "\n",
      "1 Failed download:\n",
      "['FBYDW']: Exception('%ticker%: 1d data not available for startTime=-14831751840 and endTime=1713529448. Only 100 years worth of day granularity data are allowed to be fetched per request.')\n"
     ]
    },
    {
     "name": "stdout",
     "output_type": "stream",
     "text": [
      "Saved data for symbol FBYDW to C:/Users/atlas/OneDrive/Desktop/usstock/FBYDW.csv\n",
      "Saved data for symbol FC to C:/Users/atlas/OneDrive/Desktop/usstock/FC.csv\n",
      "Saved data for symbol FCAP to C:/Users/atlas/OneDrive/Desktop/usstock/FCAP.csv\n",
      "Saved data for symbol FCBC to C:/Users/atlas/OneDrive/Desktop/usstock/FCBC.csv\n",
      "Saved data for symbol FCCO to C:/Users/atlas/OneDrive/Desktop/usstock/FCCO.csv\n",
      "Saved data for symbol FCEL to C:/Users/atlas/OneDrive/Desktop/usstock/FCEL.csv\n",
      "Saved data for symbol FCF to C:/Users/atlas/OneDrive/Desktop/usstock/FCF.csv\n",
      "Saved data for symbol FCFS to C:/Users/atlas/OneDrive/Desktop/usstock/FCFS.csv\n",
      "Saved data for symbol FCN to C:/Users/atlas/OneDrive/Desktop/usstock/FCN.csv\n",
      "Saved data for symbol FCNCA to C:/Users/atlas/OneDrive/Desktop/usstock/FCNCA.csv\n",
      "Saved data for symbol FCNCO to C:/Users/atlas/OneDrive/Desktop/usstock/FCNCO.csv\n",
      "Saved data for symbol FCNCP to C:/Users/atlas/OneDrive/Desktop/usstock/FCNCP.csv\n",
      "Saved data for symbol FCO to C:/Users/atlas/OneDrive/Desktop/usstock/FCO.csv\n",
      "Saved data for symbol FCPT to C:/Users/atlas/OneDrive/Desktop/usstock/FCPT.csv\n",
      "Saved data for symbol FCRX to C:/Users/atlas/OneDrive/Desktop/usstock/FCRX.csv\n",
      "Saved data for symbol FCT to C:/Users/atlas/OneDrive/Desktop/usstock/FCT.csv\n",
      "Saved data for symbol FCUV to C:/Users/atlas/OneDrive/Desktop/usstock/FCUV.csv\n",
      "Saved data for symbol FCX to C:/Users/atlas/OneDrive/Desktop/usstock/FCX.csv\n",
      "Saved data for symbol FDBC to C:/Users/atlas/OneDrive/Desktop/usstock/FDBC.csv\n",
      "Saved data for symbol FDMT to C:/Users/atlas/OneDrive/Desktop/usstock/FDMT.csv\n",
      "Saved data for symbol FDP to C:/Users/atlas/OneDrive/Desktop/usstock/FDP.csv\n",
      "Saved data for symbol FDS to C:/Users/atlas/OneDrive/Desktop/usstock/FDS.csv\n",
      "Saved data for symbol FDUS to C:/Users/atlas/OneDrive/Desktop/usstock/FDUS.csv\n",
      "Saved data for symbol FDX to C:/Users/atlas/OneDrive/Desktop/usstock/FDX.csv\n",
      "Saved data for symbol FE to C:/Users/atlas/OneDrive/Desktop/usstock/FE.csv\n",
      "Saved data for symbol FEAM to C:/Users/atlas/OneDrive/Desktop/usstock/FEAM.csv\n",
      "Saved data for symbol FEBO to C:/Users/atlas/OneDrive/Desktop/usstock/FEBO.csv\n",
      "Saved data for symbol FEDU to C:/Users/atlas/OneDrive/Desktop/usstock/FEDU.csv\n",
      "Saved data for symbol FEI            to C:/Users/atlas/OneDrive/Desktop/usstock/FEI           .csv\n",
      "Saved data for symbol FEIM to C:/Users/atlas/OneDrive/Desktop/usstock/FEIM.csv\n",
      "Saved data for symbol FELE to C:/Users/atlas/OneDrive/Desktop/usstock/FELE.csv\n",
      "Saved data for symbol FEMY to C:/Users/atlas/OneDrive/Desktop/usstock/FEMY.csv\n",
      "Saved data for symbol FEN to C:/Users/atlas/OneDrive/Desktop/usstock/FEN.csv\n",
      "Saved data for symbol FENC to C:/Users/atlas/OneDrive/Desktop/usstock/FENC.csv\n",
      "Saved data for symbol FENG to C:/Users/atlas/OneDrive/Desktop/usstock/FENG.csv\n",
      "Saved data for symbol FERG to C:/Users/atlas/OneDrive/Desktop/usstock/FERG.csv\n",
      "Saved data for symbol FET to C:/Users/atlas/OneDrive/Desktop/usstock/FET.csv\n",
      "Saved data for symbol FEXD to C:/Users/atlas/OneDrive/Desktop/usstock/FEXD.csv\n"
     ]
    },
    {
     "name": "stderr",
     "output_type": "stream",
     "text": [
      "\n",
      "1 Failed download:\n",
      "['FEXDR']: Exception('%ticker%: 1d data not available for startTime=-14831751840 and endTime=1713529467. Only 100 years worth of day granularity data are allowed to be fetched per request.')\n"
     ]
    },
    {
     "name": "stdout",
     "output_type": "stream",
     "text": [
      "Saved data for symbol FEXDR to C:/Users/atlas/OneDrive/Desktop/usstock/FEXDR.csv\n"
     ]
    },
    {
     "name": "stderr",
     "output_type": "stream",
     "text": [
      "\n",
      "1 Failed download:\n",
      "['FEXDW']: Exception('%ticker%: 1d data not available for startTime=-14831751840 and endTime=1713529470. Only 100 years worth of day granularity data are allowed to be fetched per request.')\n"
     ]
    },
    {
     "name": "stdout",
     "output_type": "stream",
     "text": [
      "Saved data for symbol FEXDW to C:/Users/atlas/OneDrive/Desktop/usstock/FEXDW.csv\n",
      "Saved data for symbol FF to C:/Users/atlas/OneDrive/Desktop/usstock/FF.csv\n",
      "Saved data for symbol FFA to C:/Users/atlas/OneDrive/Desktop/usstock/FFA.csv\n",
      "Saved data for symbol FFBC to C:/Users/atlas/OneDrive/Desktop/usstock/FFBC.csv\n",
      "Saved data for symbol FFC to C:/Users/atlas/OneDrive/Desktop/usstock/FFC.csv\n",
      "Saved data for symbol FFIC to C:/Users/atlas/OneDrive/Desktop/usstock/FFIC.csv\n",
      "Saved data for symbol FFIE to C:/Users/atlas/OneDrive/Desktop/usstock/FFIE.csv\n"
     ]
    },
    {
     "name": "stderr",
     "output_type": "stream",
     "text": [
      "\n",
      "1 Failed download:\n",
      "['FFIEW']: Exception('%ticker%: 1d data not available for startTime=-14831751840 and endTime=1713529475. Only 100 years worth of day granularity data are allowed to be fetched per request.')\n"
     ]
    },
    {
     "name": "stdout",
     "output_type": "stream",
     "text": [
      "Saved data for symbol FFIEW to C:/Users/atlas/OneDrive/Desktop/usstock/FFIEW.csv\n",
      "Saved data for symbol FFIN to C:/Users/atlas/OneDrive/Desktop/usstock/FFIN.csv\n",
      "Saved data for symbol FFIV to C:/Users/atlas/OneDrive/Desktop/usstock/FFIV.csv\n",
      "Saved data for symbol FFNW to C:/Users/atlas/OneDrive/Desktop/usstock/FFNW.csv\n",
      "Saved data for symbol FFWM to C:/Users/atlas/OneDrive/Desktop/usstock/FFWM.csv\n",
      "Saved data for symbol FG to C:/Users/atlas/OneDrive/Desktop/usstock/FG.csv\n",
      "Saved data for symbol FGB to C:/Users/atlas/OneDrive/Desktop/usstock/FGB.csv\n",
      "Saved data for symbol FGBI to C:/Users/atlas/OneDrive/Desktop/usstock/FGBI.csv\n",
      "Saved data for symbol FGBIP to C:/Users/atlas/OneDrive/Desktop/usstock/FGBIP.csv\n",
      "Saved data for symbol FGEN to C:/Users/atlas/OneDrive/Desktop/usstock/FGEN.csv\n",
      "Saved data for symbol FGF to C:/Users/atlas/OneDrive/Desktop/usstock/FGF.csv\n",
      "Saved data for symbol FGFPP to C:/Users/atlas/OneDrive/Desktop/usstock/FGFPP.csv\n",
      "Saved data for symbol FGI to C:/Users/atlas/OneDrive/Desktop/usstock/FGI.csv\n",
      "Saved data for symbol FGN to C:/Users/atlas/OneDrive/Desktop/usstock/FGN.csv\n",
      "Saved data for symbol FHB to C:/Users/atlas/OneDrive/Desktop/usstock/FHB.csv\n",
      "Saved data for symbol FHI to C:/Users/atlas/OneDrive/Desktop/usstock/FHI.csv\n",
      "Saved data for symbol FHLT to C:/Users/atlas/OneDrive/Desktop/usstock/FHLT.csv\n"
     ]
    },
    {
     "name": "stderr",
     "output_type": "stream",
     "text": [
      "\n",
      "1 Failed download:\n",
      "['FHLTW']: Exception('%ticker%: 1d data not available for startTime=-14831751840 and endTime=1713529481. Only 100 years worth of day granularity data are allowed to be fetched per request.')\n"
     ]
    },
    {
     "name": "stdout",
     "output_type": "stream",
     "text": [
      "Saved data for symbol FHLTW to C:/Users/atlas/OneDrive/Desktop/usstock/FHLTW.csv\n",
      "Saved data for symbol FHN to C:/Users/atlas/OneDrive/Desktop/usstock/FHN.csv\n"
     ]
    },
    {
     "name": "stderr",
     "output_type": "stream",
     "text": [
      "\n",
      "1 Failed download:\n",
      "['FHN^B']: Exception('%ticker%: No timezone found, symbol may be delisted')\n"
     ]
    },
    {
     "name": "stdout",
     "output_type": "stream",
     "text": [
      "Saved data for symbol FHN^B to C:/Users/atlas/OneDrive/Desktop/usstock/FHN^B.csv\n"
     ]
    },
    {
     "name": "stderr",
     "output_type": "stream",
     "text": [
      "\n",
      "1 Failed download:\n",
      "['FHN^C']: Exception('%ticker%: No timezone found, symbol may be delisted')\n"
     ]
    },
    {
     "name": "stdout",
     "output_type": "stream",
     "text": [
      "Saved data for symbol FHN^C to C:/Users/atlas/OneDrive/Desktop/usstock/FHN^C.csv\n"
     ]
    },
    {
     "name": "stderr",
     "output_type": "stream",
     "text": [
      "\n",
      "1 Failed download:\n",
      "['FHN^D']: Exception('%ticker%: No timezone found, symbol may be delisted')\n"
     ]
    },
    {
     "name": "stdout",
     "output_type": "stream",
     "text": [
      "Saved data for symbol FHN^D to C:/Users/atlas/OneDrive/Desktop/usstock/FHN^D.csv\n"
     ]
    },
    {
     "name": "stderr",
     "output_type": "stream",
     "text": [
      "\n",
      "1 Failed download:\n",
      "['FHN^E']: Exception('%ticker%: No timezone found, symbol may be delisted')\n"
     ]
    },
    {
     "name": "stdout",
     "output_type": "stream",
     "text": [
      "Saved data for symbol FHN^E to C:/Users/atlas/OneDrive/Desktop/usstock/FHN^E.csv\n"
     ]
    },
    {
     "name": "stderr",
     "output_type": "stream",
     "text": [
      "\n",
      "1 Failed download:\n",
      "['FHN^F']: Exception('%ticker%: No timezone found, symbol may be delisted')\n"
     ]
    },
    {
     "name": "stdout",
     "output_type": "stream",
     "text": [
      "Saved data for symbol FHN^F to C:/Users/atlas/OneDrive/Desktop/usstock/FHN^F.csv\n",
      "Saved data for symbol FHTX to C:/Users/atlas/OneDrive/Desktop/usstock/FHTX.csv\n",
      "Saved data for symbol FI to C:/Users/atlas/OneDrive/Desktop/usstock/FI.csv\n",
      "Saved data for symbol FIAC to C:/Users/atlas/OneDrive/Desktop/usstock/FIAC.csv\n",
      "Saved data for symbol FIBK to C:/Users/atlas/OneDrive/Desktop/usstock/FIBK.csv\n",
      "Saved data for symbol FICO to C:/Users/atlas/OneDrive/Desktop/usstock/FICO.csv\n",
      "Saved data for symbol FIF to C:/Users/atlas/OneDrive/Desktop/usstock/FIF.csv\n",
      "Saved data for symbol FIGS to C:/Users/atlas/OneDrive/Desktop/usstock/FIGS.csv\n",
      "Saved data for symbol FIHL to C:/Users/atlas/OneDrive/Desktop/usstock/FIHL.csv\n",
      "Saved data for symbol FINS to C:/Users/atlas/OneDrive/Desktop/usstock/FINS.csv\n",
      "Saved data for symbol FINV to C:/Users/atlas/OneDrive/Desktop/usstock/FINV.csv\n",
      "Saved data for symbol FINW to C:/Users/atlas/OneDrive/Desktop/usstock/FINW.csv\n",
      "Saved data for symbol FIP to C:/Users/atlas/OneDrive/Desktop/usstock/FIP.csv\n",
      "Saved data for symbol FIS to C:/Users/atlas/OneDrive/Desktop/usstock/FIS.csv\n",
      "Saved data for symbol FISI to C:/Users/atlas/OneDrive/Desktop/usstock/FISI.csv\n",
      "Saved data for symbol FITB to C:/Users/atlas/OneDrive/Desktop/usstock/FITB.csv\n",
      "Saved data for symbol FITBI to C:/Users/atlas/OneDrive/Desktop/usstock/FITBI.csv\n",
      "Saved data for symbol FITBO to C:/Users/atlas/OneDrive/Desktop/usstock/FITBO.csv\n",
      "Saved data for symbol FITBP to C:/Users/atlas/OneDrive/Desktop/usstock/FITBP.csv\n",
      "Saved data for symbol FIVE to C:/Users/atlas/OneDrive/Desktop/usstock/FIVE.csv\n",
      "Saved data for symbol FIVN to C:/Users/atlas/OneDrive/Desktop/usstock/FIVN.csv\n",
      "Saved data for symbol FIX to C:/Users/atlas/OneDrive/Desktop/usstock/FIX.csv\n",
      "Saved data for symbol FIZZ to C:/Users/atlas/OneDrive/Desktop/usstock/FIZZ.csv\n",
      "Saved data for symbol FKWL to C:/Users/atlas/OneDrive/Desktop/usstock/FKWL.csv\n",
      "Saved data for symbol FL to C:/Users/atlas/OneDrive/Desktop/usstock/FL.csv\n",
      "Saved data for symbol FLC to C:/Users/atlas/OneDrive/Desktop/usstock/FLC.csv\n",
      "Saved data for symbol FLEX to C:/Users/atlas/OneDrive/Desktop/usstock/FLEX.csv\n",
      "Saved data for symbol FLFV to C:/Users/atlas/OneDrive/Desktop/usstock/FLFV.csv\n",
      "Saved data for symbol FLGC to C:/Users/atlas/OneDrive/Desktop/usstock/FLGC.csv\n",
      "Saved data for symbol FLGT to C:/Users/atlas/OneDrive/Desktop/usstock/FLGT.csv\n",
      "Saved data for symbol FLIC to C:/Users/atlas/OneDrive/Desktop/usstock/FLIC.csv\n",
      "Saved data for symbol FLJ to C:/Users/atlas/OneDrive/Desktop/usstock/FLJ.csv\n",
      "Saved data for symbol FLL to C:/Users/atlas/OneDrive/Desktop/usstock/FLL.csv\n",
      "Saved data for symbol FLNC to C:/Users/atlas/OneDrive/Desktop/usstock/FLNC.csv\n",
      "Saved data for symbol FLNG to C:/Users/atlas/OneDrive/Desktop/usstock/FLNG.csv\n",
      "Saved data for symbol FLNT to C:/Users/atlas/OneDrive/Desktop/usstock/FLNT.csv\n",
      "Saved data for symbol FLO to C:/Users/atlas/OneDrive/Desktop/usstock/FLO.csv\n",
      "Saved data for symbol FLR to C:/Users/atlas/OneDrive/Desktop/usstock/FLR.csv\n",
      "Saved data for symbol FLS to C:/Users/atlas/OneDrive/Desktop/usstock/FLS.csv\n",
      "Saved data for symbol FLUT to C:/Users/atlas/OneDrive/Desktop/usstock/FLUT.csv\n",
      "Saved data for symbol FLUX to C:/Users/atlas/OneDrive/Desktop/usstock/FLUX.csv\n",
      "Saved data for symbol FLWS to C:/Users/atlas/OneDrive/Desktop/usstock/FLWS.csv\n",
      "Saved data for symbol FLXS to C:/Users/atlas/OneDrive/Desktop/usstock/FLXS.csv\n",
      "Saved data for symbol FLYW to C:/Users/atlas/OneDrive/Desktop/usstock/FLYW.csv\n",
      "Saved data for symbol FLYX to C:/Users/atlas/OneDrive/Desktop/usstock/FLYX.csv\n",
      "Saved data for symbol FMAO to C:/Users/atlas/OneDrive/Desktop/usstock/FMAO.csv\n",
      "Saved data for symbol FMBH to C:/Users/atlas/OneDrive/Desktop/usstock/FMBH.csv\n",
      "Saved data for symbol FMC to C:/Users/atlas/OneDrive/Desktop/usstock/FMC.csv\n",
      "Saved data for symbol FMN to C:/Users/atlas/OneDrive/Desktop/usstock/FMN.csv\n",
      "Saved data for symbol FMNB to C:/Users/atlas/OneDrive/Desktop/usstock/FMNB.csv\n",
      "Saved data for symbol FMS to C:/Users/atlas/OneDrive/Desktop/usstock/FMS.csv\n",
      "Saved data for symbol FMST to C:/Users/atlas/OneDrive/Desktop/usstock/FMST.csv\n"
     ]
    },
    {
     "name": "stderr",
     "output_type": "stream",
     "text": [
      "\n",
      "1 Failed download:\n",
      "['FMSTW']: Exception('%ticker%: 1d data not available for startTime=-14831751840 and endTime=1713529516. Only 100 years worth of day granularity data are allowed to be fetched per request.')\n"
     ]
    },
    {
     "name": "stdout",
     "output_type": "stream",
     "text": [
      "Saved data for symbol FMSTW to C:/Users/atlas/OneDrive/Desktop/usstock/FMSTW.csv\n",
      "Saved data for symbol FMX to C:/Users/atlas/OneDrive/Desktop/usstock/FMX.csv\n",
      "Saved data for symbol FMY to C:/Users/atlas/OneDrive/Desktop/usstock/FMY.csv\n",
      "Saved data for symbol FN to C:/Users/atlas/OneDrive/Desktop/usstock/FN.csv\n",
      "Saved data for symbol FNA to C:/Users/atlas/OneDrive/Desktop/usstock/FNA.csv\n",
      "Saved data for symbol FNB to C:/Users/atlas/OneDrive/Desktop/usstock/FNB.csv\n",
      "Saved data for symbol FNCB to C:/Users/atlas/OneDrive/Desktop/usstock/FNCB.csv\n",
      "Saved data for symbol FNCH to C:/Users/atlas/OneDrive/Desktop/usstock/FNCH.csv\n",
      "Saved data for symbol FND to C:/Users/atlas/OneDrive/Desktop/usstock/FND.csv\n",
      "Saved data for symbol FNF to C:/Users/atlas/OneDrive/Desktop/usstock/FNF.csv\n",
      "Saved data for symbol FNGR to C:/Users/atlas/OneDrive/Desktop/usstock/FNGR.csv\n",
      "Saved data for symbol FNKO to C:/Users/atlas/OneDrive/Desktop/usstock/FNKO.csv\n",
      "Saved data for symbol FNLC to C:/Users/atlas/OneDrive/Desktop/usstock/FNLC.csv\n",
      "Saved data for symbol FNV to C:/Users/atlas/OneDrive/Desktop/usstock/FNV.csv\n",
      "Saved data for symbol FNVT to C:/Users/atlas/OneDrive/Desktop/usstock/FNVT.csv\n",
      "Saved data for symbol FNVTU to C:/Users/atlas/OneDrive/Desktop/usstock/FNVTU.csv\n"
     ]
    },
    {
     "name": "stderr",
     "output_type": "stream",
     "text": [
      "\n",
      "1 Failed download:\n",
      "['FNVTW']: Exception('%ticker%: 1d data not available for startTime=-14831751840 and endTime=1713529526. Only 100 years worth of day granularity data are allowed to be fetched per request.')\n"
     ]
    },
    {
     "name": "stdout",
     "output_type": "stream",
     "text": [
      "Saved data for symbol FNVTW to C:/Users/atlas/OneDrive/Desktop/usstock/FNVTW.csv\n",
      "Saved data for symbol FNWB to C:/Users/atlas/OneDrive/Desktop/usstock/FNWB.csv\n",
      "Saved data for symbol FNWD to C:/Users/atlas/OneDrive/Desktop/usstock/FNWD.csv\n",
      "Saved data for symbol FOA to C:/Users/atlas/OneDrive/Desktop/usstock/FOA.csv\n",
      "Saved data for symbol FOF to C:/Users/atlas/OneDrive/Desktop/usstock/FOF.csv\n",
      "Saved data for symbol FOLD to C:/Users/atlas/OneDrive/Desktop/usstock/FOLD.csv\n",
      "Saved data for symbol FONR to C:/Users/atlas/OneDrive/Desktop/usstock/FONR.csv\n",
      "Saved data for symbol FOR to C:/Users/atlas/OneDrive/Desktop/usstock/FOR.csv\n",
      "Saved data for symbol FORA to C:/Users/atlas/OneDrive/Desktop/usstock/FORA.csv\n",
      "Saved data for symbol FORD to C:/Users/atlas/OneDrive/Desktop/usstock/FORD.csv\n",
      "Saved data for symbol FORL to C:/Users/atlas/OneDrive/Desktop/usstock/FORL.csv\n",
      "Saved data for symbol FORLU to C:/Users/atlas/OneDrive/Desktop/usstock/FORLU.csv\n",
      "Saved data for symbol FORM to C:/Users/atlas/OneDrive/Desktop/usstock/FORM.csv\n",
      "Saved data for symbol FORR to C:/Users/atlas/OneDrive/Desktop/usstock/FORR.csv\n",
      "Saved data for symbol FORTY to C:/Users/atlas/OneDrive/Desktop/usstock/FORTY.csv\n",
      "Saved data for symbol FOSL to C:/Users/atlas/OneDrive/Desktop/usstock/FOSL.csv\n",
      "Saved data for symbol FOSLL to C:/Users/atlas/OneDrive/Desktop/usstock/FOSLL.csv\n",
      "Saved data for symbol FOUR to C:/Users/atlas/OneDrive/Desktop/usstock/FOUR.csv\n",
      "Saved data for symbol FOX to C:/Users/atlas/OneDrive/Desktop/usstock/FOX.csv\n",
      "Saved data for symbol FOXA to C:/Users/atlas/OneDrive/Desktop/usstock/FOXA.csv\n",
      "Saved data for symbol FOXF to C:/Users/atlas/OneDrive/Desktop/usstock/FOXF.csv\n",
      "Saved data for symbol FOXO to C:/Users/atlas/OneDrive/Desktop/usstock/FOXO.csv\n",
      "Saved data for symbol FPAY to C:/Users/atlas/OneDrive/Desktop/usstock/FPAY.csv\n",
      "Saved data for symbol FPF to C:/Users/atlas/OneDrive/Desktop/usstock/FPF.csv\n",
      "Saved data for symbol FPH to C:/Users/atlas/OneDrive/Desktop/usstock/FPH.csv\n",
      "Saved data for symbol FPI to C:/Users/atlas/OneDrive/Desktop/usstock/FPI.csv\n",
      "Saved data for symbol FPL to C:/Users/atlas/OneDrive/Desktop/usstock/FPL.csv\n",
      "Saved data for symbol FR to C:/Users/atlas/OneDrive/Desktop/usstock/FR.csv\n",
      "Saved data for symbol FRA to C:/Users/atlas/OneDrive/Desktop/usstock/FRA.csv\n",
      "Saved data for symbol FRAF to C:/Users/atlas/OneDrive/Desktop/usstock/FRAF.csv\n",
      "Saved data for symbol FRBA to C:/Users/atlas/OneDrive/Desktop/usstock/FRBA.csv\n",
      "Saved data for symbol FRD to C:/Users/atlas/OneDrive/Desktop/usstock/FRD.csv\n",
      "Saved data for symbol FREE to C:/Users/atlas/OneDrive/Desktop/usstock/FREE.csv\n",
      "Saved data for symbol FRES to C:/Users/atlas/OneDrive/Desktop/usstock/FRES.csv\n",
      "Saved data for symbol FREY to C:/Users/atlas/OneDrive/Desktop/usstock/FREY.csv\n",
      "Saved data for symbol FRGE to C:/Users/atlas/OneDrive/Desktop/usstock/FRGE.csv\n",
      "Saved data for symbol FRGT to C:/Users/atlas/OneDrive/Desktop/usstock/FRGT.csv\n",
      "Saved data for symbol FRHC to C:/Users/atlas/OneDrive/Desktop/usstock/FRHC.csv\n",
      "Saved data for symbol FRLA to C:/Users/atlas/OneDrive/Desktop/usstock/FRLA.csv\n",
      "Saved data for symbol FRME to C:/Users/atlas/OneDrive/Desktop/usstock/FRME.csv\n",
      "Saved data for symbol FRMEP to C:/Users/atlas/OneDrive/Desktop/usstock/FRMEP.csv\n",
      "Saved data for symbol FRO to C:/Users/atlas/OneDrive/Desktop/usstock/FRO.csv\n",
      "Saved data for symbol FROG to C:/Users/atlas/OneDrive/Desktop/usstock/FROG.csv\n",
      "Saved data for symbol FRPH to C:/Users/atlas/OneDrive/Desktop/usstock/FRPH.csv\n",
      "Saved data for symbol FRPT to C:/Users/atlas/OneDrive/Desktop/usstock/FRPT.csv\n",
      "Saved data for symbol FRSH to C:/Users/atlas/OneDrive/Desktop/usstock/FRSH.csv\n",
      "Saved data for symbol FRST to C:/Users/atlas/OneDrive/Desktop/usstock/FRST.csv\n",
      "Saved data for symbol FRSX to C:/Users/atlas/OneDrive/Desktop/usstock/FRSX.csv\n",
      "Saved data for symbol FRT to C:/Users/atlas/OneDrive/Desktop/usstock/FRT.csv\n"
     ]
    },
    {
     "name": "stderr",
     "output_type": "stream",
     "text": [
      "\n",
      "1 Failed download:\n",
      "['FRT^C']: Exception('%ticker%: No timezone found, symbol may be delisted')\n"
     ]
    },
    {
     "name": "stdout",
     "output_type": "stream",
     "text": [
      "Saved data for symbol FRT^C to C:/Users/atlas/OneDrive/Desktop/usstock/FRT^C.csv\n",
      "Saved data for symbol FRZA to C:/Users/atlas/OneDrive/Desktop/usstock/FRZA.csv\n",
      "Saved data for symbol FSBC to C:/Users/atlas/OneDrive/Desktop/usstock/FSBC.csv\n",
      "Saved data for symbol FSBW to C:/Users/atlas/OneDrive/Desktop/usstock/FSBW.csv\n",
      "Saved data for symbol FSCO to C:/Users/atlas/OneDrive/Desktop/usstock/FSCO.csv\n",
      "Saved data for symbol FSD to C:/Users/atlas/OneDrive/Desktop/usstock/FSD.csv\n",
      "Saved data for symbol FSEA to C:/Users/atlas/OneDrive/Desktop/usstock/FSEA.csv\n",
      "Saved data for symbol FSFG to C:/Users/atlas/OneDrive/Desktop/usstock/FSFG.csv\n",
      "Saved data for symbol FSI to C:/Users/atlas/OneDrive/Desktop/usstock/FSI.csv\n",
      "Saved data for symbol FSK to C:/Users/atlas/OneDrive/Desktop/usstock/FSK.csv\n",
      "Saved data for symbol FSLR to C:/Users/atlas/OneDrive/Desktop/usstock/FSLR.csv\n",
      "Saved data for symbol FSLY to C:/Users/atlas/OneDrive/Desktop/usstock/FSLY.csv\n",
      "Saved data for symbol FSM to C:/Users/atlas/OneDrive/Desktop/usstock/FSM.csv\n",
      "Saved data for symbol FSP to C:/Users/atlas/OneDrive/Desktop/usstock/FSP.csv\n",
      "Saved data for symbol FSS to C:/Users/atlas/OneDrive/Desktop/usstock/FSS.csv\n",
      "Saved data for symbol FSTR to C:/Users/atlas/OneDrive/Desktop/usstock/FSTR.csv\n",
      "Saved data for symbol FSV to C:/Users/atlas/OneDrive/Desktop/usstock/FSV.csv\n",
      "Saved data for symbol FT to C:/Users/atlas/OneDrive/Desktop/usstock/FT.csv\n",
      "Saved data for symbol FTAI to C:/Users/atlas/OneDrive/Desktop/usstock/FTAI.csv\n",
      "Saved data for symbol FTAIM to C:/Users/atlas/OneDrive/Desktop/usstock/FTAIM.csv\n",
      "Saved data for symbol FTAIN to C:/Users/atlas/OneDrive/Desktop/usstock/FTAIN.csv\n",
      "Saved data for symbol FTAIO to C:/Users/atlas/OneDrive/Desktop/usstock/FTAIO.csv\n",
      "Saved data for symbol FTAIP to C:/Users/atlas/OneDrive/Desktop/usstock/FTAIP.csv\n",
      "Saved data for symbol FTCI to C:/Users/atlas/OneDrive/Desktop/usstock/FTCI.csv\n",
      "Saved data for symbol FTDR to C:/Users/atlas/OneDrive/Desktop/usstock/FTDR.csv\n",
      "Saved data for symbol FTEK to C:/Users/atlas/OneDrive/Desktop/usstock/FTEK.csv\n",
      "Saved data for symbol FTEL to C:/Users/atlas/OneDrive/Desktop/usstock/FTEL.csv\n",
      "Saved data for symbol FTF to C:/Users/atlas/OneDrive/Desktop/usstock/FTF.csv\n",
      "Saved data for symbol FTFT to C:/Users/atlas/OneDrive/Desktop/usstock/FTFT.csv\n",
      "Saved data for symbol FTHM to C:/Users/atlas/OneDrive/Desktop/usstock/FTHM.csv\n",
      "Saved data for symbol FTHY to C:/Users/atlas/OneDrive/Desktop/usstock/FTHY.csv\n",
      "Saved data for symbol FTI to C:/Users/atlas/OneDrive/Desktop/usstock/FTI.csv\n",
      "Saved data for symbol FTK to C:/Users/atlas/OneDrive/Desktop/usstock/FTK.csv\n",
      "Saved data for symbol FTLF to C:/Users/atlas/OneDrive/Desktop/usstock/FTLF.csv\n",
      "Saved data for symbol FTNT to C:/Users/atlas/OneDrive/Desktop/usstock/FTNT.csv\n",
      "Saved data for symbol FTRE to C:/Users/atlas/OneDrive/Desktop/usstock/FTRE.csv\n",
      "Saved data for symbol FTS to C:/Users/atlas/OneDrive/Desktop/usstock/FTS.csv\n",
      "Saved data for symbol FTV to C:/Users/atlas/OneDrive/Desktop/usstock/FTV.csv\n",
      "Saved data for symbol FUBO to C:/Users/atlas/OneDrive/Desktop/usstock/FUBO.csv\n",
      "Saved data for symbol FUFU to C:/Users/atlas/OneDrive/Desktop/usstock/FUFU.csv\n"
     ]
    },
    {
     "name": "stderr",
     "output_type": "stream",
     "text": [
      "\n",
      "1 Failed download:\n",
      "['FUFUW']: Exception('%ticker%: 1d data not available for startTime=-14831751840 and endTime=1713529565. Only 100 years worth of day granularity data are allowed to be fetched per request.')\n"
     ]
    },
    {
     "name": "stdout",
     "output_type": "stream",
     "text": [
      "Saved data for symbol FUFUW to C:/Users/atlas/OneDrive/Desktop/usstock/FUFUW.csv\n",
      "Saved data for symbol FUL to C:/Users/atlas/OneDrive/Desktop/usstock/FUL.csv\n",
      "Saved data for symbol FULC to C:/Users/atlas/OneDrive/Desktop/usstock/FULC.csv\n",
      "Saved data for symbol FULT to C:/Users/atlas/OneDrive/Desktop/usstock/FULT.csv\n",
      "Saved data for symbol FULTP to C:/Users/atlas/OneDrive/Desktop/usstock/FULTP.csv\n",
      "Saved data for symbol FUN to C:/Users/atlas/OneDrive/Desktop/usstock/FUN.csv\n",
      "Saved data for symbol FUNC to C:/Users/atlas/OneDrive/Desktop/usstock/FUNC.csv\n",
      "Saved data for symbol FUND to C:/Users/atlas/OneDrive/Desktop/usstock/FUND.csv\n",
      "Saved data for symbol FURY to C:/Users/atlas/OneDrive/Desktop/usstock/FURY.csv\n",
      "Saved data for symbol FUSB to C:/Users/atlas/OneDrive/Desktop/usstock/FUSB.csv\n",
      "Saved data for symbol FUSN to C:/Users/atlas/OneDrive/Desktop/usstock/FUSN.csv\n",
      "Saved data for symbol FUTU to C:/Users/atlas/OneDrive/Desktop/usstock/FUTU.csv\n",
      "Saved data for symbol FUV to C:/Users/atlas/OneDrive/Desktop/usstock/FUV.csv\n",
      "Saved data for symbol FVCB to C:/Users/atlas/OneDrive/Desktop/usstock/FVCB.csv\n",
      "Saved data for symbol FVRR to C:/Users/atlas/OneDrive/Desktop/usstock/FVRR.csv\n",
      "Saved data for symbol FWBI to C:/Users/atlas/OneDrive/Desktop/usstock/FWBI.csv\n",
      "Saved data for symbol FWONA to C:/Users/atlas/OneDrive/Desktop/usstock/FWONA.csv\n",
      "Saved data for symbol FWONK to C:/Users/atlas/OneDrive/Desktop/usstock/FWONK.csv\n",
      "Saved data for symbol FWRD to C:/Users/atlas/OneDrive/Desktop/usstock/FWRD.csv\n",
      "Saved data for symbol FWRG to C:/Users/atlas/OneDrive/Desktop/usstock/FWRG.csv\n",
      "Saved data for symbol FXNC to C:/Users/atlas/OneDrive/Desktop/usstock/FXNC.csv\n",
      "Saved data for symbol FYBR to C:/Users/atlas/OneDrive/Desktop/usstock/FYBR.csv\n",
      "Saved data for symbol G to C:/Users/atlas/OneDrive/Desktop/usstock/G.csv\n",
      "Saved data for symbol GAB to C:/Users/atlas/OneDrive/Desktop/usstock/GAB.csv\n"
     ]
    },
    {
     "name": "stderr",
     "output_type": "stream",
     "text": [
      "\n",
      "1 Failed download:\n",
      "['GAB^G']: Exception('%ticker%: No timezone found, symbol may be delisted')\n"
     ]
    },
    {
     "name": "stdout",
     "output_type": "stream",
     "text": [
      "Saved data for symbol GAB^G to C:/Users/atlas/OneDrive/Desktop/usstock/GAB^G.csv\n"
     ]
    },
    {
     "name": "stderr",
     "output_type": "stream",
     "text": [
      "\n",
      "1 Failed download:\n",
      "['GAB^H']: Exception('%ticker%: No timezone found, symbol may be delisted')\n"
     ]
    },
    {
     "name": "stdout",
     "output_type": "stream",
     "text": [
      "Saved data for symbol GAB^H to C:/Users/atlas/OneDrive/Desktop/usstock/GAB^H.csv\n"
     ]
    },
    {
     "name": "stderr",
     "output_type": "stream",
     "text": [
      "\n",
      "1 Failed download:\n",
      "['GAB^K']: Exception('%ticker%: No timezone found, symbol may be delisted')\n"
     ]
    },
    {
     "name": "stdout",
     "output_type": "stream",
     "text": [
      "Saved data for symbol GAB^K to C:/Users/atlas/OneDrive/Desktop/usstock/GAB^K.csv\n",
      "Saved data for symbol GABC to C:/Users/atlas/OneDrive/Desktop/usstock/GABC.csv\n",
      "Saved data for symbol GAIA to C:/Users/atlas/OneDrive/Desktop/usstock/GAIA.csv\n",
      "Saved data for symbol GAIN to C:/Users/atlas/OneDrive/Desktop/usstock/GAIN.csv\n",
      "Saved data for symbol GAINL to C:/Users/atlas/OneDrive/Desktop/usstock/GAINL.csv\n",
      "Saved data for symbol GAINN to C:/Users/atlas/OneDrive/Desktop/usstock/GAINN.csv\n",
      "Saved data for symbol GAINZ to C:/Users/atlas/OneDrive/Desktop/usstock/GAINZ.csv\n",
      "Saved data for symbol GALT to C:/Users/atlas/OneDrive/Desktop/usstock/GALT.csv\n",
      "Saved data for symbol GAM to C:/Users/atlas/OneDrive/Desktop/usstock/GAM.csv\n"
     ]
    },
    {
     "name": "stderr",
     "output_type": "stream",
     "text": [
      "\n",
      "1 Failed download:\n",
      "['GAM^B']: Exception('%ticker%: No timezone found, symbol may be delisted')\n"
     ]
    },
    {
     "name": "stdout",
     "output_type": "stream",
     "text": [
      "Saved data for symbol GAM^B to C:/Users/atlas/OneDrive/Desktop/usstock/GAM^B.csv\n",
      "Saved data for symbol GAMB to C:/Users/atlas/OneDrive/Desktop/usstock/GAMB.csv\n",
      "Saved data for symbol GAMC to C:/Users/atlas/OneDrive/Desktop/usstock/GAMC.csv\n"
     ]
    },
    {
     "name": "stderr",
     "output_type": "stream",
     "text": [
      "\n",
      "1 Failed download:\n",
      "['GAMCW']: Exception('%ticker%: 1d data not available for startTime=-14831751840 and endTime=1713529589. Only 100 years worth of day granularity data are allowed to be fetched per request.')\n"
     ]
    },
    {
     "name": "stdout",
     "output_type": "stream",
     "text": [
      "Saved data for symbol GAMCW to C:/Users/atlas/OneDrive/Desktop/usstock/GAMCW.csv\n",
      "Saved data for symbol GAME to C:/Users/atlas/OneDrive/Desktop/usstock/GAME.csv\n",
      "Saved data for symbol GAN to C:/Users/atlas/OneDrive/Desktop/usstock/GAN.csv\n",
      "Saved data for symbol GANX to C:/Users/atlas/OneDrive/Desktop/usstock/GANX.csv\n",
      "Saved data for symbol GAQ to C:/Users/atlas/OneDrive/Desktop/usstock/GAQ.csv\n",
      "Saved data for symbol GASS to C:/Users/atlas/OneDrive/Desktop/usstock/GASS.csv\n",
      "Saved data for symbol GATE to C:/Users/atlas/OneDrive/Desktop/usstock/GATE.csv\n",
      "Saved data for symbol GATEW to C:/Users/atlas/OneDrive/Desktop/usstock/GATEW.csv\n",
      "Saved data for symbol GATO to C:/Users/atlas/OneDrive/Desktop/usstock/GATO.csv\n",
      "Saved data for symbol GATX to C:/Users/atlas/OneDrive/Desktop/usstock/GATX.csv\n",
      "Saved data for symbol GAU to C:/Users/atlas/OneDrive/Desktop/usstock/GAU.csv\n",
      "Saved data for symbol GB to C:/Users/atlas/OneDrive/Desktop/usstock/GB.csv\n",
      "Saved data for symbol GBAB to C:/Users/atlas/OneDrive/Desktop/usstock/GBAB.csv\n",
      "Saved data for symbol GBBK to C:/Users/atlas/OneDrive/Desktop/usstock/GBBK.csv\n"
     ]
    },
    {
     "name": "stderr",
     "output_type": "stream",
     "text": [
      "\n",
      "1 Failed download:\n",
      "['GBBKR']: Exception('%ticker%: 1d data not available for startTime=-14831751840 and endTime=1713529594. Only 100 years worth of day granularity data are allowed to be fetched per request.')\n"
     ]
    },
    {
     "name": "stdout",
     "output_type": "stream",
     "text": [
      "Saved data for symbol GBBKR to C:/Users/atlas/OneDrive/Desktop/usstock/GBBKR.csv\n",
      "Saved data for symbol GBCI to C:/Users/atlas/OneDrive/Desktop/usstock/GBCI.csv\n",
      "Saved data for symbol GBDC to C:/Users/atlas/OneDrive/Desktop/usstock/GBDC.csv\n",
      "Saved data for symbol GBIO to C:/Users/atlas/OneDrive/Desktop/usstock/GBIO.csv\n",
      "Saved data for symbol GBLI to C:/Users/atlas/OneDrive/Desktop/usstock/GBLI.csv\n",
      "Saved data for symbol GBNY to C:/Users/atlas/OneDrive/Desktop/usstock/GBNY.csv\n",
      "Saved data for symbol GBR to C:/Users/atlas/OneDrive/Desktop/usstock/GBR.csv\n",
      "Saved data for symbol GBTG to C:/Users/atlas/OneDrive/Desktop/usstock/GBTG.csv\n",
      "Saved data for symbol GBX to C:/Users/atlas/OneDrive/Desktop/usstock/GBX.csv\n",
      "Saved data for symbol GCBC to C:/Users/atlas/OneDrive/Desktop/usstock/GCBC.csv\n",
      "Saved data for symbol GCI to C:/Users/atlas/OneDrive/Desktop/usstock/GCI.csv\n",
      "Saved data for symbol GCMG to C:/Users/atlas/OneDrive/Desktop/usstock/GCMG.csv\n"
     ]
    },
    {
     "name": "stderr",
     "output_type": "stream",
     "text": [
      "\n",
      "1 Failed download:\n",
      "['GCMGW']: Exception('%ticker%: 1d data not available for startTime=-14831751840 and endTime=1713529600. Only 100 years worth of day granularity data are allowed to be fetched per request.')\n"
     ]
    },
    {
     "name": "stdout",
     "output_type": "stream",
     "text": [
      "Saved data for symbol GCMGW to C:/Users/atlas/OneDrive/Desktop/usstock/GCMGW.csv\n",
      "Saved data for symbol GCO to C:/Users/atlas/OneDrive/Desktop/usstock/GCO.csv\n",
      "Saved data for symbol GCT to C:/Users/atlas/OneDrive/Desktop/usstock/GCT.csv\n",
      "Saved data for symbol GCTK to C:/Users/atlas/OneDrive/Desktop/usstock/GCTK.csv\n",
      "Saved data for symbol GCTS to C:/Users/atlas/OneDrive/Desktop/usstock/GCTS.csv\n",
      "Saved data for symbol GCV to C:/Users/atlas/OneDrive/Desktop/usstock/GCV.csv\n",
      "Saved data for symbol GD to C:/Users/atlas/OneDrive/Desktop/usstock/GD.csv\n",
      "Saved data for symbol GDC to C:/Users/atlas/OneDrive/Desktop/usstock/GDC.csv\n",
      "Saved data for symbol GDDY to C:/Users/atlas/OneDrive/Desktop/usstock/GDDY.csv\n",
      "Saved data for symbol GDEN to C:/Users/atlas/OneDrive/Desktop/usstock/GDEN.csv\n",
      "Saved data for symbol GDEV to C:/Users/atlas/OneDrive/Desktop/usstock/GDEV.csv\n",
      "Saved data for symbol GDHG to C:/Users/atlas/OneDrive/Desktop/usstock/GDHG.csv\n",
      "Saved data for symbol GDL to C:/Users/atlas/OneDrive/Desktop/usstock/GDL.csv\n"
     ]
    },
    {
     "name": "stderr",
     "output_type": "stream",
     "text": [
      "\n",
      "1 Failed download:\n",
      "['GDL^C']: Exception('%ticker%: No timezone found, symbol may be delisted')\n"
     ]
    },
    {
     "name": "stdout",
     "output_type": "stream",
     "text": [
      "Saved data for symbol GDL^C to C:/Users/atlas/OneDrive/Desktop/usstock/GDL^C.csv\n",
      "Saved data for symbol GDO to C:/Users/atlas/OneDrive/Desktop/usstock/GDO.csv\n",
      "Saved data for symbol GDOT to C:/Users/atlas/OneDrive/Desktop/usstock/GDOT.csv\n",
      "Saved data for symbol GDRX to C:/Users/atlas/OneDrive/Desktop/usstock/GDRX.csv\n",
      "Saved data for symbol GDS to C:/Users/atlas/OneDrive/Desktop/usstock/GDS.csv\n",
      "Saved data for symbol GDST to C:/Users/atlas/OneDrive/Desktop/usstock/GDST.csv\n"
     ]
    },
    {
     "name": "stderr",
     "output_type": "stream",
     "text": [
      "\n",
      "1 Failed download:\n",
      "['GDSTW']: Exception('%ticker%: 1d data not available for startTime=-14831751840 and endTime=1713529612. Only 100 years worth of day granularity data are allowed to be fetched per request.')\n"
     ]
    },
    {
     "name": "stdout",
     "output_type": "stream",
     "text": [
      "Saved data for symbol GDSTW to C:/Users/atlas/OneDrive/Desktop/usstock/GDSTW.csv\n",
      "Saved data for symbol GDTC to C:/Users/atlas/OneDrive/Desktop/usstock/GDTC.csv\n",
      "Saved data for symbol GDV to C:/Users/atlas/OneDrive/Desktop/usstock/GDV.csv\n"
     ]
    },
    {
     "name": "stderr",
     "output_type": "stream",
     "text": [
      "\n",
      "1 Failed download:\n",
      "['GDV^H']: Exception('%ticker%: No timezone found, symbol may be delisted')\n"
     ]
    },
    {
     "name": "stdout",
     "output_type": "stream",
     "text": [
      "Saved data for symbol GDV^H to C:/Users/atlas/OneDrive/Desktop/usstock/GDV^H.csv\n"
     ]
    },
    {
     "name": "stderr",
     "output_type": "stream",
     "text": [
      "\n",
      "1 Failed download:\n",
      "['GDV^K']: Exception('%ticker%: No timezone found, symbol may be delisted')\n"
     ]
    },
    {
     "name": "stdout",
     "output_type": "stream",
     "text": [
      "Saved data for symbol GDV^K to C:/Users/atlas/OneDrive/Desktop/usstock/GDV^K.csv\n",
      "Saved data for symbol GDYN to C:/Users/atlas/OneDrive/Desktop/usstock/GDYN.csv\n",
      "Saved data for symbol GE to C:/Users/atlas/OneDrive/Desktop/usstock/GE.csv\n",
      "Saved data for symbol GECC to C:/Users/atlas/OneDrive/Desktop/usstock/GECC.csv\n"
     ]
    },
    {
     "name": "stderr",
     "output_type": "stream",
     "text": [
      "\n",
      "1 Failed download:\n",
      "['GECCI']: Exception('%ticker%: 1d data not available for startTime=-14831751840 and endTime=1713529622. Only 100 years worth of day granularity data are allowed to be fetched per request.')\n"
     ]
    },
    {
     "name": "stdout",
     "output_type": "stream",
     "text": [
      "Saved data for symbol GECCI to C:/Users/atlas/OneDrive/Desktop/usstock/GECCI.csv\n",
      "Saved data for symbol GECCM to C:/Users/atlas/OneDrive/Desktop/usstock/GECCM.csv\n",
      "Saved data for symbol GECCO to C:/Users/atlas/OneDrive/Desktop/usstock/GECCO.csv\n"
     ]
    },
    {
     "name": "stderr",
     "output_type": "stream",
     "text": [
      "\n",
      "1 Failed download:\n",
      "['GECCZ']: Exception('%ticker%: 1d data not available for startTime=-14831751840 and endTime=1713529624. Only 100 years worth of day granularity data are allowed to be fetched per request.')\n"
     ]
    },
    {
     "name": "stdout",
     "output_type": "stream",
     "text": [
      "Saved data for symbol GECCZ to C:/Users/atlas/OneDrive/Desktop/usstock/GECCZ.csv\n",
      "Saved data for symbol GEF to C:/Users/atlas/OneDrive/Desktop/usstock/GEF.csv\n",
      "Saved data for symbol GEG to C:/Users/atlas/OneDrive/Desktop/usstock/GEG.csv\n",
      "Saved data for symbol GEGGL to C:/Users/atlas/OneDrive/Desktop/usstock/GEGGL.csv\n",
      "Saved data for symbol GEHC to C:/Users/atlas/OneDrive/Desktop/usstock/GEHC.csv\n",
      "Saved data for symbol GEL to C:/Users/atlas/OneDrive/Desktop/usstock/GEL.csv\n",
      "Saved data for symbol GEN to C:/Users/atlas/OneDrive/Desktop/usstock/GEN.csv\n",
      "Saved data for symbol GENC to C:/Users/atlas/OneDrive/Desktop/usstock/GENC.csv\n",
      "Saved data for symbol GENE to C:/Users/atlas/OneDrive/Desktop/usstock/GENE.csv\n",
      "Saved data for symbol GENI to C:/Users/atlas/OneDrive/Desktop/usstock/GENI.csv\n",
      "Saved data for symbol GENK to C:/Users/atlas/OneDrive/Desktop/usstock/GENK.csv\n",
      "Saved data for symbol GEO to C:/Users/atlas/OneDrive/Desktop/usstock/GEO.csv\n",
      "Saved data for symbol GEOS to C:/Users/atlas/OneDrive/Desktop/usstock/GEOS.csv\n",
      "Saved data for symbol GERN to C:/Users/atlas/OneDrive/Desktop/usstock/GERN.csv\n",
      "Saved data for symbol GES to C:/Users/atlas/OneDrive/Desktop/usstock/GES.csv\n",
      "Saved data for symbol GETR to C:/Users/atlas/OneDrive/Desktop/usstock/GETR.csv\n",
      "Saved data for symbol GETY to C:/Users/atlas/OneDrive/Desktop/usstock/GETY.csv\n",
      "Saved data for symbol GEV to C:/Users/atlas/OneDrive/Desktop/usstock/GEV.csv\n",
      "Saved data for symbol GEVO to C:/Users/atlas/OneDrive/Desktop/usstock/GEVO.csv\n",
      "Saved data for symbol GF to C:/Users/atlas/OneDrive/Desktop/usstock/GF.csv\n",
      "Saved data for symbol GFAI to C:/Users/atlas/OneDrive/Desktop/usstock/GFAI.csv\n"
     ]
    },
    {
     "name": "stderr",
     "output_type": "stream",
     "text": [
      "\n",
      "1 Failed download:\n",
      "['GFAIW']: Exception('%ticker%: 1d data not available for startTime=-14831751840 and endTime=1713529635. Only 100 years worth of day granularity data are allowed to be fetched per request.')\n"
     ]
    },
    {
     "name": "stdout",
     "output_type": "stream",
     "text": [
      "Saved data for symbol GFAIW to C:/Users/atlas/OneDrive/Desktop/usstock/GFAIW.csv\n",
      "Saved data for symbol GFF to C:/Users/atlas/OneDrive/Desktop/usstock/GFF.csv\n",
      "Saved data for symbol GFI to C:/Users/atlas/OneDrive/Desktop/usstock/GFI.csv\n",
      "Saved data for symbol GFL to C:/Users/atlas/OneDrive/Desktop/usstock/GFL.csv\n",
      "Saved data for symbol GFR to C:/Users/atlas/OneDrive/Desktop/usstock/GFR.csv\n",
      "Saved data for symbol GFS to C:/Users/atlas/OneDrive/Desktop/usstock/GFS.csv\n",
      "Saved data for symbol GGAL to C:/Users/atlas/OneDrive/Desktop/usstock/GGAL.csv\n",
      "Saved data for symbol GGB to C:/Users/atlas/OneDrive/Desktop/usstock/GGB.csv\n",
      "Saved data for symbol GGE to C:/Users/atlas/OneDrive/Desktop/usstock/GGE.csv\n",
      "Saved data for symbol GGG to C:/Users/atlas/OneDrive/Desktop/usstock/GGG.csv\n",
      "Saved data for symbol GGN to C:/Users/atlas/OneDrive/Desktop/usstock/GGN.csv\n"
     ]
    },
    {
     "name": "stderr",
     "output_type": "stream",
     "text": [
      "\n",
      "1 Failed download:\n",
      "['GGN^B']: Exception('%ticker%: No timezone found, symbol may be delisted')\n"
     ]
    },
    {
     "name": "stdout",
     "output_type": "stream",
     "text": [
      "Saved data for symbol GGN^B to C:/Users/atlas/OneDrive/Desktop/usstock/GGN^B.csv\n",
      "Saved data for symbol GGR to C:/Users/atlas/OneDrive/Desktop/usstock/GGR.csv\n"
     ]
    },
    {
     "name": "stderr",
     "output_type": "stream",
     "text": [
      "\n",
      "1 Failed download:\n",
      "['GGROW']: Exception('%ticker%: 1d data not available for startTime=-14831751840 and endTime=1713529645. Only 100 years worth of day granularity data are allowed to be fetched per request.')\n"
     ]
    },
    {
     "name": "stdout",
     "output_type": "stream",
     "text": [
      "Saved data for symbol GGROW to C:/Users/atlas/OneDrive/Desktop/usstock/GGROW.csv\n",
      "Saved data for symbol GGT to C:/Users/atlas/OneDrive/Desktop/usstock/GGT.csv\n"
     ]
    },
    {
     "name": "stderr",
     "output_type": "stream",
     "text": [
      "\n",
      "1 Failed download:\n",
      "['GGT^E']: Exception('%ticker%: No timezone found, symbol may be delisted')\n"
     ]
    },
    {
     "name": "stdout",
     "output_type": "stream",
     "text": [
      "Saved data for symbol GGT^E to C:/Users/atlas/OneDrive/Desktop/usstock/GGT^E.csv\n"
     ]
    },
    {
     "name": "stderr",
     "output_type": "stream",
     "text": [
      "\n",
      "1 Failed download:\n",
      "['GGT^G']: Exception('%ticker%: No timezone found, symbol may be delisted')\n"
     ]
    },
    {
     "name": "stdout",
     "output_type": "stream",
     "text": [
      "Saved data for symbol GGT^G to C:/Users/atlas/OneDrive/Desktop/usstock/GGT^G.csv\n",
      "Saved data for symbol GGZ to C:/Users/atlas/OneDrive/Desktop/usstock/GGZ.csv\n",
      "Saved data for symbol GH to C:/Users/atlas/OneDrive/Desktop/usstock/GH.csv\n",
      "Saved data for symbol GHC to C:/Users/atlas/OneDrive/Desktop/usstock/GHC.csv\n",
      "Saved data for symbol GHG to C:/Users/atlas/OneDrive/Desktop/usstock/GHG.csv\n",
      "Saved data for symbol GHI to C:/Users/atlas/OneDrive/Desktop/usstock/GHI.csv\n",
      "Saved data for symbol GHIX to C:/Users/atlas/OneDrive/Desktop/usstock/GHIX.csv\n",
      "Saved data for symbol GHIXU to C:/Users/atlas/OneDrive/Desktop/usstock/GHIXU.csv\n"
     ]
    },
    {
     "name": "stderr",
     "output_type": "stream",
     "text": [
      "\n",
      "1 Failed download:\n",
      "['GHIXW']: Exception('%ticker%: 1d data not available for startTime=-14831751840 and endTime=1713529654. Only 100 years worth of day granularity data are allowed to be fetched per request.')\n"
     ]
    },
    {
     "name": "stdout",
     "output_type": "stream",
     "text": [
      "Saved data for symbol GHIXW to C:/Users/atlas/OneDrive/Desktop/usstock/GHIXW.csv\n",
      "Saved data for symbol GHLD to C:/Users/atlas/OneDrive/Desktop/usstock/GHLD.csv\n",
      "Saved data for symbol GHM to C:/Users/atlas/OneDrive/Desktop/usstock/GHM.csv\n",
      "Saved data for symbol GHRS to C:/Users/atlas/OneDrive/Desktop/usstock/GHRS.csv\n",
      "Saved data for symbol GHSI to C:/Users/atlas/OneDrive/Desktop/usstock/GHSI.csv\n",
      "Saved data for symbol GHY to C:/Users/atlas/OneDrive/Desktop/usstock/GHY.csv\n",
      "Saved data for symbol GIB to C:/Users/atlas/OneDrive/Desktop/usstock/GIB.csv\n",
      "Saved data for symbol GIC to C:/Users/atlas/OneDrive/Desktop/usstock/GIC.csv\n",
      "Saved data for symbol GIFI to C:/Users/atlas/OneDrive/Desktop/usstock/GIFI.csv\n",
      "Saved data for symbol GIGM to C:/Users/atlas/OneDrive/Desktop/usstock/GIGM.csv\n",
      "Saved data for symbol GIII to C:/Users/atlas/OneDrive/Desktop/usstock/GIII.csv\n",
      "Saved data for symbol GIL to C:/Users/atlas/OneDrive/Desktop/usstock/GIL.csv\n",
      "Saved data for symbol GILD to C:/Users/atlas/OneDrive/Desktop/usstock/GILD.csv\n",
      "Saved data for symbol GILT to C:/Users/atlas/OneDrive/Desktop/usstock/GILT.csv\n",
      "Saved data for symbol GIPR to C:/Users/atlas/OneDrive/Desktop/usstock/GIPR.csv\n"
     ]
    },
    {
     "name": "stderr",
     "output_type": "stream",
     "text": [
      "\n",
      "1 Failed download:\n",
      "['GIPRW']: Exception('%ticker%: 1d data not available for startTime=-14831751840 and endTime=1713529663. Only 100 years worth of day granularity data are allowed to be fetched per request.')\n"
     ]
    },
    {
     "name": "stdout",
     "output_type": "stream",
     "text": [
      "Saved data for symbol GIPRW to C:/Users/atlas/OneDrive/Desktop/usstock/GIPRW.csv\n",
      "Saved data for symbol GIS to C:/Users/atlas/OneDrive/Desktop/usstock/GIS.csv\n",
      "Saved data for symbol GJH to C:/Users/atlas/OneDrive/Desktop/usstock/GJH.csv\n",
      "Saved data for symbol GJO to C:/Users/atlas/OneDrive/Desktop/usstock/GJO.csv\n",
      "Saved data for symbol GJP to C:/Users/atlas/OneDrive/Desktop/usstock/GJP.csv\n",
      "Saved data for symbol GJR to C:/Users/atlas/OneDrive/Desktop/usstock/GJR.csv\n",
      "Saved data for symbol GJS to C:/Users/atlas/OneDrive/Desktop/usstock/GJS.csv\n",
      "Saved data for symbol GJT to C:/Users/atlas/OneDrive/Desktop/usstock/GJT.csv\n",
      "Saved data for symbol GKOS to C:/Users/atlas/OneDrive/Desktop/usstock/GKOS.csv\n",
      "Saved data for symbol GL to C:/Users/atlas/OneDrive/Desktop/usstock/GL.csv\n"
     ]
    },
    {
     "name": "stderr",
     "output_type": "stream",
     "text": [
      "\n",
      "1 Failed download:\n",
      "['GL^D']: Exception('%ticker%: No timezone found, symbol may be delisted')\n"
     ]
    },
    {
     "name": "stdout",
     "output_type": "stream",
     "text": [
      "Saved data for symbol GL^D to C:/Users/atlas/OneDrive/Desktop/usstock/GL^D.csv\n",
      "Saved data for symbol GLAC to C:/Users/atlas/OneDrive/Desktop/usstock/GLAC.csv\n"
     ]
    },
    {
     "name": "stderr",
     "output_type": "stream",
     "text": [
      "\n",
      "1 Failed download:\n",
      "['GLACR']: Exception('%ticker%: 1d data not available for startTime=-14831751840 and endTime=1713529672. Only 100 years worth of day granularity data are allowed to be fetched per request.')\n"
     ]
    },
    {
     "name": "stdout",
     "output_type": "stream",
     "text": [
      "Saved data for symbol GLACR to C:/Users/atlas/OneDrive/Desktop/usstock/GLACR.csv\n",
      "Saved data for symbol GLACU to C:/Users/atlas/OneDrive/Desktop/usstock/GLACU.csv\n",
      "Saved data for symbol GLAD to C:/Users/atlas/OneDrive/Desktop/usstock/GLAD.csv\n",
      "Saved data for symbol GLADZ to C:/Users/atlas/OneDrive/Desktop/usstock/GLADZ.csv\n",
      "Saved data for symbol GLBE to C:/Users/atlas/OneDrive/Desktop/usstock/GLBE.csv\n",
      "Saved data for symbol GLBS to C:/Users/atlas/OneDrive/Desktop/usstock/GLBS.csv\n",
      "Saved data for symbol GLBZ to C:/Users/atlas/OneDrive/Desktop/usstock/GLBZ.csv\n",
      "Saved data for symbol GLDD to C:/Users/atlas/OneDrive/Desktop/usstock/GLDD.csv\n",
      "Saved data for symbol GLDG to C:/Users/atlas/OneDrive/Desktop/usstock/GLDG.csv\n",
      "Saved data for symbol GLLI to C:/Users/atlas/OneDrive/Desktop/usstock/GLLI.csv\n",
      "Saved data for symbol GLMD to C:/Users/atlas/OneDrive/Desktop/usstock/GLMD.csv\n",
      "Saved data for symbol GLNG to C:/Users/atlas/OneDrive/Desktop/usstock/GLNG.csv\n",
      "Saved data for symbol GLO to C:/Users/atlas/OneDrive/Desktop/usstock/GLO.csv\n",
      "Saved data for symbol GLOB to C:/Users/atlas/OneDrive/Desktop/usstock/GLOB.csv\n"
     ]
    },
    {
     "name": "stderr",
     "output_type": "stream",
     "text": [
      "\n",
      "1 Failed download:\n",
      "['GLOG^A']: Exception('%ticker%: No timezone found, symbol may be delisted')\n"
     ]
    },
    {
     "name": "stdout",
     "output_type": "stream",
     "text": [
      "Saved data for symbol GLOG^A to C:/Users/atlas/OneDrive/Desktop/usstock/GLOG^A.csv\n"
     ]
    },
    {
     "name": "stderr",
     "output_type": "stream",
     "text": [
      "\n",
      "1 Failed download:\n",
      "['GLOP^A']: Exception('%ticker%: No timezone found, symbol may be delisted')\n"
     ]
    },
    {
     "name": "stdout",
     "output_type": "stream",
     "text": [
      "Saved data for symbol GLOP^A to C:/Users/atlas/OneDrive/Desktop/usstock/GLOP^A.csv\n"
     ]
    },
    {
     "name": "stderr",
     "output_type": "stream",
     "text": [
      "\n",
      "1 Failed download:\n",
      "['GLOP^B']: Exception('%ticker%: No timezone found, symbol may be delisted')\n"
     ]
    },
    {
     "name": "stdout",
     "output_type": "stream",
     "text": [
      "Saved data for symbol GLOP^B to C:/Users/atlas/OneDrive/Desktop/usstock/GLOP^B.csv\n"
     ]
    },
    {
     "name": "stderr",
     "output_type": "stream",
     "text": [
      "\n",
      "1 Failed download:\n",
      "['GLOP^C']: Exception('%ticker%: No timezone found, symbol may be delisted')\n"
     ]
    },
    {
     "name": "stdout",
     "output_type": "stream",
     "text": [
      "Saved data for symbol GLOP^C to C:/Users/atlas/OneDrive/Desktop/usstock/GLOP^C.csv\n",
      "Saved data for symbol GLP to C:/Users/atlas/OneDrive/Desktop/usstock/GLP.csv\n"
     ]
    },
    {
     "name": "stderr",
     "output_type": "stream",
     "text": [
      "\n",
      "1 Failed download:\n",
      "['GLP^B']: Exception('%ticker%: No timezone found, symbol may be delisted')\n"
     ]
    },
    {
     "name": "stdout",
     "output_type": "stream",
     "text": [
      "Saved data for symbol GLP^B to C:/Users/atlas/OneDrive/Desktop/usstock/GLP^B.csv\n",
      "Saved data for symbol GLPG to C:/Users/atlas/OneDrive/Desktop/usstock/GLPG.csv\n",
      "Saved data for symbol GLPI to C:/Users/atlas/OneDrive/Desktop/usstock/GLPI.csv\n",
      "Saved data for symbol GLQ to C:/Users/atlas/OneDrive/Desktop/usstock/GLQ.csv\n",
      "Saved data for symbol GLRE to C:/Users/atlas/OneDrive/Desktop/usstock/GLRE.csv\n",
      "Saved data for symbol GLSI to C:/Users/atlas/OneDrive/Desktop/usstock/GLSI.csv\n",
      "Saved data for symbol GLST to C:/Users/atlas/OneDrive/Desktop/usstock/GLST.csv\n"
     ]
    },
    {
     "name": "stderr",
     "output_type": "stream",
     "text": [
      "\n",
      "1 Failed download:\n",
      "['GLSTR']: Exception('%ticker%: 1d data not available for startTime=-14831751840 and endTime=1713529693. Only 100 years worth of day granularity data are allowed to be fetched per request.')\n"
     ]
    },
    {
     "name": "stdout",
     "output_type": "stream",
     "text": [
      "Saved data for symbol GLSTR to C:/Users/atlas/OneDrive/Desktop/usstock/GLSTR.csv\n"
     ]
    },
    {
     "name": "stderr",
     "output_type": "stream",
     "text": [
      "\n",
      "1 Failed download:\n",
      "['GLSTW']: Exception('%ticker%: 1d data not available for startTime=-14831751840 and endTime=1713529696. Only 100 years worth of day granularity data are allowed to be fetched per request.')\n"
     ]
    },
    {
     "name": "stdout",
     "output_type": "stream",
     "text": [
      "Saved data for symbol GLSTW to C:/Users/atlas/OneDrive/Desktop/usstock/GLSTW.csv\n",
      "Saved data for symbol GLT to C:/Users/atlas/OneDrive/Desktop/usstock/GLT.csv\n",
      "Saved data for symbol GLTO to C:/Users/atlas/OneDrive/Desktop/usstock/GLTO.csv\n",
      "Saved data for symbol GLU to C:/Users/atlas/OneDrive/Desktop/usstock/GLU.csv\n"
     ]
    },
    {
     "name": "stderr",
     "output_type": "stream",
     "text": [
      "\n",
      "1 Failed download:\n",
      "['GLU^B']: Exception('%ticker%: No timezone found, symbol may be delisted')\n"
     ]
    },
    {
     "name": "stdout",
     "output_type": "stream",
     "text": [
      "Saved data for symbol GLU^B to C:/Users/atlas/OneDrive/Desktop/usstock/GLU^B.csv\n",
      "Saved data for symbol GLUE to C:/Users/atlas/OneDrive/Desktop/usstock/GLUE.csv\n",
      "Saved data for symbol GLV to C:/Users/atlas/OneDrive/Desktop/usstock/GLV.csv\n",
      "Saved data for symbol GLW to C:/Users/atlas/OneDrive/Desktop/usstock/GLW.csv\n",
      "Saved data for symbol GLYC to C:/Users/atlas/OneDrive/Desktop/usstock/GLYC.csv\n",
      "Saved data for symbol GM to C:/Users/atlas/OneDrive/Desktop/usstock/GM.csv\n",
      "Saved data for symbol GMAB to C:/Users/atlas/OneDrive/Desktop/usstock/GMAB.csv\n",
      "Saved data for symbol GME to C:/Users/atlas/OneDrive/Desktop/usstock/GME.csv\n",
      "Saved data for symbol GMED to C:/Users/atlas/OneDrive/Desktop/usstock/GMED.csv\n",
      "Saved data for symbol GMFI to C:/Users/atlas/OneDrive/Desktop/usstock/GMFI.csv\n",
      "Saved data for symbol GMFIU to C:/Users/atlas/OneDrive/Desktop/usstock/GMFIU.csv\n"
     ]
    },
    {
     "name": "stderr",
     "output_type": "stream",
     "text": [
      "\n",
      "1 Failed download:\n",
      "['GMFIW']: Exception('%ticker%: 1d data not available for startTime=-14831751840 and endTime=1713529705. Only 100 years worth of day granularity data are allowed to be fetched per request.')\n"
     ]
    },
    {
     "name": "stdout",
     "output_type": "stream",
     "text": [
      "Saved data for symbol GMFIW to C:/Users/atlas/OneDrive/Desktop/usstock/GMFIW.csv\n",
      "Saved data for symbol GMGI to C:/Users/atlas/OneDrive/Desktop/usstock/GMGI.csv\n",
      "Saved data for symbol GMM to C:/Users/atlas/OneDrive/Desktop/usstock/GMM.csv\n",
      "Saved data for symbol GMRE to C:/Users/atlas/OneDrive/Desktop/usstock/GMRE.csv\n"
     ]
    },
    {
     "name": "stderr",
     "output_type": "stream",
     "text": [
      "\n",
      "1 Failed download:\n",
      "['GMRE^A']: Exception('%ticker%: No timezone found, symbol may be delisted')\n"
     ]
    },
    {
     "name": "stdout",
     "output_type": "stream",
     "text": [
      "Saved data for symbol GMRE^A to C:/Users/atlas/OneDrive/Desktop/usstock/GMRE^A.csv\n",
      "Saved data for symbol GMS to C:/Users/atlas/OneDrive/Desktop/usstock/GMS.csv\n",
      "Saved data for symbol GNE to C:/Users/atlas/OneDrive/Desktop/usstock/GNE.csv\n",
      "Saved data for symbol GNFT to C:/Users/atlas/OneDrive/Desktop/usstock/GNFT.csv\n",
      "Saved data for symbol GNK to C:/Users/atlas/OneDrive/Desktop/usstock/GNK.csv\n",
      "Saved data for symbol GNL to C:/Users/atlas/OneDrive/Desktop/usstock/GNL.csv\n"
     ]
    },
    {
     "name": "stderr",
     "output_type": "stream",
     "text": [
      "\n",
      "1 Failed download:\n",
      "['GNL^A']: Exception('%ticker%: No timezone found, symbol may be delisted')\n"
     ]
    },
    {
     "name": "stdout",
     "output_type": "stream",
     "text": [
      "Saved data for symbol GNL^A to C:/Users/atlas/OneDrive/Desktop/usstock/GNL^A.csv\n"
     ]
    },
    {
     "name": "stderr",
     "output_type": "stream",
     "text": [
      "\n",
      "1 Failed download:\n",
      "['GNL^B']: Exception('%ticker%: No timezone found, symbol may be delisted')\n"
     ]
    },
    {
     "name": "stdout",
     "output_type": "stream",
     "text": [
      "Saved data for symbol GNL^B to C:/Users/atlas/OneDrive/Desktop/usstock/GNL^B.csv\n"
     ]
    },
    {
     "name": "stderr",
     "output_type": "stream",
     "text": [
      "\n",
      "1 Failed download:\n",
      "['GNL^D']: Exception('%ticker%: No timezone found, symbol may be delisted')\n"
     ]
    },
    {
     "name": "stdout",
     "output_type": "stream",
     "text": [
      "Saved data for symbol GNL^D to C:/Users/atlas/OneDrive/Desktop/usstock/GNL^D.csv\n"
     ]
    },
    {
     "name": "stderr",
     "output_type": "stream",
     "text": [
      "\n",
      "1 Failed download:\n",
      "['GNL^E']: Exception('%ticker%: No timezone found, symbol may be delisted')\n"
     ]
    },
    {
     "name": "stdout",
     "output_type": "stream",
     "text": [
      "Saved data for symbol GNL^E to C:/Users/atlas/OneDrive/Desktop/usstock/GNL^E.csv\n",
      "Saved data for symbol GNLN to C:/Users/atlas/OneDrive/Desktop/usstock/GNLN.csv\n",
      "Saved data for symbol GNLX to C:/Users/atlas/OneDrive/Desktop/usstock/GNLX.csv\n",
      "Saved data for symbol GNPX to C:/Users/atlas/OneDrive/Desktop/usstock/GNPX.csv\n",
      "Saved data for symbol GNRC to C:/Users/atlas/OneDrive/Desktop/usstock/GNRC.csv\n",
      "Saved data for symbol GNS to C:/Users/atlas/OneDrive/Desktop/usstock/GNS.csv\n",
      "Saved data for symbol GNSS to C:/Users/atlas/OneDrive/Desktop/usstock/GNSS.csv\n",
      "Saved data for symbol GNT to C:/Users/atlas/OneDrive/Desktop/usstock/GNT.csv\n"
     ]
    },
    {
     "name": "stderr",
     "output_type": "stream",
     "text": [
      "\n",
      "1 Failed download:\n",
      "['GNT^A']: Exception('%ticker%: No timezone found, symbol may be delisted')\n"
     ]
    },
    {
     "name": "stdout",
     "output_type": "stream",
     "text": [
      "Saved data for symbol GNT^A to C:/Users/atlas/OneDrive/Desktop/usstock/GNT^A.csv\n",
      "Saved data for symbol GNTA to C:/Users/atlas/OneDrive/Desktop/usstock/GNTA.csv\n",
      "Saved data for symbol GNTX to C:/Users/atlas/OneDrive/Desktop/usstock/GNTX.csv\n",
      "Saved data for symbol GNTY to C:/Users/atlas/OneDrive/Desktop/usstock/GNTY.csv\n",
      "Saved data for symbol GNW to C:/Users/atlas/OneDrive/Desktop/usstock/GNW.csv\n",
      "Saved data for symbol GO to C:/Users/atlas/OneDrive/Desktop/usstock/GO.csv\n",
      "Saved data for symbol GOCO to C:/Users/atlas/OneDrive/Desktop/usstock/GOCO.csv\n",
      "Saved data for symbol GODN to C:/Users/atlas/OneDrive/Desktop/usstock/GODN.csv\n",
      "Saved data for symbol GOEV to C:/Users/atlas/OneDrive/Desktop/usstock/GOEV.csv\n"
     ]
    },
    {
     "name": "stderr",
     "output_type": "stream",
     "text": [
      "\n",
      "1 Failed download:\n",
      "['GOEVW']: Exception('%ticker%: 1d data not available for startTime=-14831751840 and endTime=1713529732. Only 100 years worth of day granularity data are allowed to be fetched per request.')\n"
     ]
    },
    {
     "name": "stdout",
     "output_type": "stream",
     "text": [
      "Saved data for symbol GOEVW to C:/Users/atlas/OneDrive/Desktop/usstock/GOEVW.csv\n",
      "Saved data for symbol GOF to C:/Users/atlas/OneDrive/Desktop/usstock/GOF.csv\n",
      "Saved data for symbol GOGL to C:/Users/atlas/OneDrive/Desktop/usstock/GOGL.csv\n",
      "Saved data for symbol GOGO to C:/Users/atlas/OneDrive/Desktop/usstock/GOGO.csv\n",
      "Saved data for symbol GOLD to C:/Users/atlas/OneDrive/Desktop/usstock/GOLD.csv\n",
      "Saved data for symbol GOLF to C:/Users/atlas/OneDrive/Desktop/usstock/GOLF.csv\n",
      "Saved data for symbol GOOD to C:/Users/atlas/OneDrive/Desktop/usstock/GOOD.csv\n",
      "Saved data for symbol GOODN to C:/Users/atlas/OneDrive/Desktop/usstock/GOODN.csv\n",
      "Saved data for symbol GOODO to C:/Users/atlas/OneDrive/Desktop/usstock/GOODO.csv\n",
      "Saved data for symbol GOOG to C:/Users/atlas/OneDrive/Desktop/usstock/GOOG.csv\n",
      "Saved data for symbol GOOGL to C:/Users/atlas/OneDrive/Desktop/usstock/GOOGL.csv\n",
      "Saved data for symbol GOOS to C:/Users/atlas/OneDrive/Desktop/usstock/GOOS.csv\n",
      "Saved data for symbol GORO to C:/Users/atlas/OneDrive/Desktop/usstock/GORO.csv\n",
      "Saved data for symbol GORV to C:/Users/atlas/OneDrive/Desktop/usstock/GORV.csv\n",
      "Saved data for symbol GOSS to C:/Users/atlas/OneDrive/Desktop/usstock/GOSS.csv\n",
      "Saved data for symbol GOTU to C:/Users/atlas/OneDrive/Desktop/usstock/GOTU.csv\n",
      "Saved data for symbol GOVX to C:/Users/atlas/OneDrive/Desktop/usstock/GOVX.csv\n"
     ]
    },
    {
     "name": "stderr",
     "output_type": "stream",
     "text": [
      "\n",
      "1 Failed download:\n",
      "['GOVXW']: Exception('%ticker%: 1d data not available for startTime=-14831751840 and endTime=1713529740. Only 100 years worth of day granularity data are allowed to be fetched per request.')\n"
     ]
    },
    {
     "name": "stdout",
     "output_type": "stream",
     "text": [
      "Saved data for symbol GOVXW to C:/Users/atlas/OneDrive/Desktop/usstock/GOVXW.csv\n",
      "Saved data for symbol GP to C:/Users/atlas/OneDrive/Desktop/usstock/GP.csv\n",
      "Saved data for symbol GPAC to C:/Users/atlas/OneDrive/Desktop/usstock/GPAC.csv\n",
      "Saved data for symbol GPACU to C:/Users/atlas/OneDrive/Desktop/usstock/GPACU.csv\n"
     ]
    },
    {
     "name": "stderr",
     "output_type": "stream",
     "text": [
      "\n",
      "1 Failed download:\n",
      "['GPACW']: Exception('%ticker%: 1d data not available for startTime=-14831751840 and endTime=1713529742. Only 100 years worth of day granularity data are allowed to be fetched per request.')\n"
     ]
    },
    {
     "name": "stdout",
     "output_type": "stream",
     "text": [
      "Saved data for symbol GPACW to C:/Users/atlas/OneDrive/Desktop/usstock/GPACW.csv\n",
      "Saved data for symbol GPAK to C:/Users/atlas/OneDrive/Desktop/usstock/GPAK.csv\n",
      "Saved data for symbol GPC to C:/Users/atlas/OneDrive/Desktop/usstock/GPC.csv\n",
      "Saved data for symbol GPCR to C:/Users/atlas/OneDrive/Desktop/usstock/GPCR.csv\n",
      "Saved data for symbol GPI to C:/Users/atlas/OneDrive/Desktop/usstock/GPI.csv\n",
      "Saved data for symbol GPJA to C:/Users/atlas/OneDrive/Desktop/usstock/GPJA.csv\n",
      "Saved data for symbol GPK to C:/Users/atlas/OneDrive/Desktop/usstock/GPK.csv\n",
      "Saved data for symbol GPMT to C:/Users/atlas/OneDrive/Desktop/usstock/GPMT.csv\n"
     ]
    },
    {
     "name": "stderr",
     "output_type": "stream",
     "text": [
      "\n",
      "1 Failed download:\n",
      "['GPMT^A']: Exception('%ticker%: No timezone found, symbol may be delisted')\n"
     ]
    },
    {
     "name": "stdout",
     "output_type": "stream",
     "text": [
      "Saved data for symbol GPMT^A to C:/Users/atlas/OneDrive/Desktop/usstock/GPMT^A.csv\n",
      "Saved data for symbol GPN to C:/Users/atlas/OneDrive/Desktop/usstock/GPN.csv\n",
      "Saved data for symbol GPOR to C:/Users/atlas/OneDrive/Desktop/usstock/GPOR.csv\n",
      "Saved data for symbol GPRE to C:/Users/atlas/OneDrive/Desktop/usstock/GPRE.csv\n",
      "Saved data for symbol GPRK to C:/Users/atlas/OneDrive/Desktop/usstock/GPRK.csv\n",
      "Saved data for symbol GPRO to C:/Users/atlas/OneDrive/Desktop/usstock/GPRO.csv\n",
      "Saved data for symbol GPS to C:/Users/atlas/OneDrive/Desktop/usstock/GPS.csv\n",
      "Saved data for symbol GRAB to C:/Users/atlas/OneDrive/Desktop/usstock/GRAB.csv\n",
      "Saved data for symbol GRABW to C:/Users/atlas/OneDrive/Desktop/usstock/GRABW.csv\n",
      "Saved data for symbol GRBK to C:/Users/atlas/OneDrive/Desktop/usstock/GRBK.csv\n"
     ]
    },
    {
     "name": "stderr",
     "output_type": "stream",
     "text": [
      "\n",
      "1 Failed download:\n",
      "['GRBK^A']: Exception('%ticker%: No timezone found, symbol may be delisted')\n"
     ]
    },
    {
     "name": "stdout",
     "output_type": "stream",
     "text": [
      "Saved data for symbol GRBK^A to C:/Users/atlas/OneDrive/Desktop/usstock/GRBK^A.csv\n",
      "Saved data for symbol GRC to C:/Users/atlas/OneDrive/Desktop/usstock/GRC.csv\n",
      "Saved data for symbol GRDI to C:/Users/atlas/OneDrive/Desktop/usstock/GRDI.csv\n"
     ]
    },
    {
     "name": "stderr",
     "output_type": "stream",
     "text": [
      "\n",
      "1 Failed download:\n",
      "['GRDIW']: Exception('%ticker%: 1d data not available for startTime=-14831751840 and endTime=1713529756. Only 100 years worth of day granularity data are allowed to be fetched per request.')\n"
     ]
    },
    {
     "name": "stdout",
     "output_type": "stream",
     "text": [
      "Saved data for symbol GRDIW to C:/Users/atlas/OneDrive/Desktop/usstock/GRDIW.csv\n",
      "Saved data for symbol GREE to C:/Users/atlas/OneDrive/Desktop/usstock/GREE.csv\n",
      "Saved data for symbol GREEL to C:/Users/atlas/OneDrive/Desktop/usstock/GREEL.csv\n",
      "Saved data for symbol GRF to C:/Users/atlas/OneDrive/Desktop/usstock/GRF.csv\n",
      "Saved data for symbol GRFS to C:/Users/atlas/OneDrive/Desktop/usstock/GRFS.csv\n",
      "Saved data for symbol GRFX to C:/Users/atlas/OneDrive/Desktop/usstock/GRFX.csv\n",
      "Saved data for symbol GRI to C:/Users/atlas/OneDrive/Desktop/usstock/GRI.csv\n",
      "Saved data for symbol GRIN to C:/Users/atlas/OneDrive/Desktop/usstock/GRIN.csv\n",
      "Saved data for symbol GRMN to C:/Users/atlas/OneDrive/Desktop/usstock/GRMN.csv\n",
      "Saved data for symbol GRND to C:/Users/atlas/OneDrive/Desktop/usstock/GRND.csv\n",
      "Saved data for symbol GRNQ to C:/Users/atlas/OneDrive/Desktop/usstock/GRNQ.csv\n",
      "Saved data for symbol GRNT to C:/Users/atlas/OneDrive/Desktop/usstock/GRNT.csv\n",
      "Saved data for symbol GROM to C:/Users/atlas/OneDrive/Desktop/usstock/GROM.csv\n"
     ]
    },
    {
     "name": "stderr",
     "output_type": "stream",
     "text": [
      "\n",
      "1 Failed download:\n",
      "['GROMW']: Exception('%ticker%: 1d data not available for startTime=-14831751840 and endTime=1713529763. Only 100 years worth of day granularity data are allowed to be fetched per request.')\n"
     ]
    },
    {
     "name": "stdout",
     "output_type": "stream",
     "text": [
      "Saved data for symbol GROMW to C:/Users/atlas/OneDrive/Desktop/usstock/GROMW.csv\n",
      "Saved data for symbol GROV to C:/Users/atlas/OneDrive/Desktop/usstock/GROV.csv\n",
      "Saved data for symbol GROW to C:/Users/atlas/OneDrive/Desktop/usstock/GROW.csv\n",
      "Saved data for symbol GROY to C:/Users/atlas/OneDrive/Desktop/usstock/GROY.csv\n",
      "Saved data for symbol GRPN to C:/Users/atlas/OneDrive/Desktop/usstock/GRPN.csv\n",
      "Saved data for symbol GRRR to C:/Users/atlas/OneDrive/Desktop/usstock/GRRR.csv\n"
     ]
    },
    {
     "name": "stderr",
     "output_type": "stream",
     "text": [
      "\n",
      "1 Failed download:\n",
      "['GRRRW']: Exception('%ticker%: 1d data not available for startTime=-14831751840 and endTime=1713529767. Only 100 years worth of day granularity data are allowed to be fetched per request.')\n"
     ]
    },
    {
     "name": "stdout",
     "output_type": "stream",
     "text": [
      "Saved data for symbol GRRRW to C:/Users/atlas/OneDrive/Desktop/usstock/GRRRW.csv\n",
      "Saved data for symbol GRTS to C:/Users/atlas/OneDrive/Desktop/usstock/GRTS.csv\n",
      "Saved data for symbol GRTX to C:/Users/atlas/OneDrive/Desktop/usstock/GRTX.csv\n",
      "Saved data for symbol GRVY to C:/Users/atlas/OneDrive/Desktop/usstock/GRVY.csv\n",
      "Saved data for symbol GRWG to C:/Users/atlas/OneDrive/Desktop/usstock/GRWG.csv\n",
      "Saved data for symbol GRX to C:/Users/atlas/OneDrive/Desktop/usstock/GRX.csv\n",
      "Saved data for symbol GRYP to C:/Users/atlas/OneDrive/Desktop/usstock/GRYP.csv\n",
      "Saved data for symbol GS to C:/Users/atlas/OneDrive/Desktop/usstock/GS.csv\n"
     ]
    },
    {
     "name": "stderr",
     "output_type": "stream",
     "text": [
      "\n",
      "1 Failed download:\n",
      "['GS^A']: Exception('%ticker%: No timezone found, symbol may be delisted')\n"
     ]
    },
    {
     "name": "stdout",
     "output_type": "stream",
     "text": [
      "Saved data for symbol GS^A to C:/Users/atlas/OneDrive/Desktop/usstock/GS^A.csv\n"
     ]
    },
    {
     "name": "stderr",
     "output_type": "stream",
     "text": [
      "\n",
      "1 Failed download:\n",
      "['GS^C']: Exception('%ticker%: No timezone found, symbol may be delisted')\n"
     ]
    },
    {
     "name": "stdout",
     "output_type": "stream",
     "text": [
      "Saved data for symbol GS^C to C:/Users/atlas/OneDrive/Desktop/usstock/GS^C.csv\n"
     ]
    },
    {
     "name": "stderr",
     "output_type": "stream",
     "text": [
      "\n",
      "1 Failed download:\n",
      "['GS^D']: Exception('%ticker%: No timezone found, symbol may be delisted')\n"
     ]
    },
    {
     "name": "stdout",
     "output_type": "stream",
     "text": [
      "Saved data for symbol GS^D to C:/Users/atlas/OneDrive/Desktop/usstock/GS^D.csv\n"
     ]
    },
    {
     "name": "stderr",
     "output_type": "stream",
     "text": [
      "\n",
      "1 Failed download:\n",
      "['GS^K']: Exception('%ticker%: No timezone found, symbol may be delisted')\n"
     ]
    },
    {
     "name": "stdout",
     "output_type": "stream",
     "text": [
      "Saved data for symbol GS^K to C:/Users/atlas/OneDrive/Desktop/usstock/GS^K.csv\n",
      "Saved data for symbol GSAT to C:/Users/atlas/OneDrive/Desktop/usstock/GSAT.csv\n",
      "Saved data for symbol GSBC to C:/Users/atlas/OneDrive/Desktop/usstock/GSBC.csv\n",
      "Saved data for symbol GSBD to C:/Users/atlas/OneDrive/Desktop/usstock/GSBD.csv\n",
      "Saved data for symbol GSHD to C:/Users/atlas/OneDrive/Desktop/usstock/GSHD.csv\n",
      "Saved data for symbol GSIT to C:/Users/atlas/OneDrive/Desktop/usstock/GSIT.csv\n",
      "Saved data for symbol GSIW to C:/Users/atlas/OneDrive/Desktop/usstock/GSIW.csv\n",
      "Saved data for symbol GSK to C:/Users/atlas/OneDrive/Desktop/usstock/GSK.csv\n",
      "Saved data for symbol GSL to C:/Users/atlas/OneDrive/Desktop/usstock/GSL.csv\n"
     ]
    },
    {
     "name": "stderr",
     "output_type": "stream",
     "text": [
      "\n",
      "1 Failed download:\n",
      "['GSL^B']: Exception('%ticker%: No timezone found, symbol may be delisted')\n"
     ]
    },
    {
     "name": "stdout",
     "output_type": "stream",
     "text": [
      "Saved data for symbol GSL^B to C:/Users/atlas/OneDrive/Desktop/usstock/GSL^B.csv\n",
      "Saved data for symbol GSM to C:/Users/atlas/OneDrive/Desktop/usstock/GSM.csv\n"
     ]
    },
    {
     "name": "stderr",
     "output_type": "stream",
     "text": [
      "\n",
      "1 Failed download:\n",
      "['GSMGW']: Exception('%ticker%: 1d data not available for startTime=-14831751840 and endTime=1713529786. Only 100 years worth of day granularity data are allowed to be fetched per request.')\n"
     ]
    },
    {
     "name": "stdout",
     "output_type": "stream",
     "text": [
      "Saved data for symbol GSMGW to C:/Users/atlas/OneDrive/Desktop/usstock/GSMGW.csv\n",
      "Saved data for symbol GSUN to C:/Users/atlas/OneDrive/Desktop/usstock/GSUN.csv\n",
      "Saved data for symbol GT to C:/Users/atlas/OneDrive/Desktop/usstock/GT.csv\n",
      "Saved data for symbol GTAC to C:/Users/atlas/OneDrive/Desktop/usstock/GTAC.csv\n"
     ]
    },
    {
     "name": "stderr",
     "output_type": "stream",
     "text": [
      "\n",
      "1 Failed download:\n",
      "['GTACW']: Exception('%ticker%: 1d data not available for startTime=-14831751840 and endTime=1713529789. Only 100 years worth of day granularity data are allowed to be fetched per request.')\n"
     ]
    },
    {
     "name": "stdout",
     "output_type": "stream",
     "text": [
      "Saved data for symbol GTACW to C:/Users/atlas/OneDrive/Desktop/usstock/GTACW.csv\n",
      "Saved data for symbol GTBP to C:/Users/atlas/OneDrive/Desktop/usstock/GTBP.csv\n",
      "Saved data for symbol GTE to C:/Users/atlas/OneDrive/Desktop/usstock/GTE.csv\n",
      "Saved data for symbol GTEC to C:/Users/atlas/OneDrive/Desktop/usstock/GTEC.csv\n",
      "Saved data for symbol GTES to C:/Users/atlas/OneDrive/Desktop/usstock/GTES.csv\n",
      "Saved data for symbol GTHX to C:/Users/atlas/OneDrive/Desktop/usstock/GTHX.csv\n",
      "Saved data for symbol GTI to C:/Users/atlas/OneDrive/Desktop/usstock/GTI.csv\n",
      "Saved data for symbol GTIM to C:/Users/atlas/OneDrive/Desktop/usstock/GTIM.csv\n",
      "Saved data for symbol GTLB to C:/Users/atlas/OneDrive/Desktop/usstock/GTLB.csv\n",
      "Saved data for symbol GTLS to C:/Users/atlas/OneDrive/Desktop/usstock/GTLS.csv\n"
     ]
    },
    {
     "name": "stderr",
     "output_type": "stream",
     "text": [
      "\n",
      "1 Failed download:\n",
      "['GTLS^B']: Exception('%ticker%: No timezone found, symbol may be delisted')\n"
     ]
    },
    {
     "name": "stdout",
     "output_type": "stream",
     "text": [
      "Saved data for symbol GTLS^B to C:/Users/atlas/OneDrive/Desktop/usstock/GTLS^B.csv\n",
      "Saved data for symbol GTN to C:/Users/atlas/OneDrive/Desktop/usstock/GTN.csv\n",
      "Saved data for symbol GTX to C:/Users/atlas/OneDrive/Desktop/usstock/GTX.csv\n",
      "Saved data for symbol GTY to C:/Users/atlas/OneDrive/Desktop/usstock/GTY.csv\n",
      "Saved data for symbol GUG to C:/Users/atlas/OneDrive/Desktop/usstock/GUG.csv\n",
      "Saved data for symbol GURE to C:/Users/atlas/OneDrive/Desktop/usstock/GURE.csv\n",
      "Saved data for symbol GUT to C:/Users/atlas/OneDrive/Desktop/usstock/GUT.csv\n"
     ]
    },
    {
     "name": "stderr",
     "output_type": "stream",
     "text": [
      "\n",
      "1 Failed download:\n",
      "['GUT^C']: Exception('%ticker%: No timezone found, symbol may be delisted')\n"
     ]
    },
    {
     "name": "stdout",
     "output_type": "stream",
     "text": [
      "Saved data for symbol GUT^C to C:/Users/atlas/OneDrive/Desktop/usstock/GUT^C.csv\n",
      "Saved data for symbol GUTS to C:/Users/atlas/OneDrive/Desktop/usstock/GUTS.csv\n",
      "Saved data for symbol GV to C:/Users/atlas/OneDrive/Desktop/usstock/GV.csv\n",
      "Saved data for symbol GVA to C:/Users/atlas/OneDrive/Desktop/usstock/GVA.csv\n",
      "Saved data for symbol GVH to C:/Users/atlas/OneDrive/Desktop/usstock/GVH.csv\n",
      "Saved data for symbol GVP to C:/Users/atlas/OneDrive/Desktop/usstock/GVP.csv\n",
      "Saved data for symbol GWAV to C:/Users/atlas/OneDrive/Desktop/usstock/GWAV.csv\n",
      "Saved data for symbol GWH to C:/Users/atlas/OneDrive/Desktop/usstock/GWH.csv\n",
      "Saved data for symbol GWRE to C:/Users/atlas/OneDrive/Desktop/usstock/GWRE.csv\n",
      "Saved data for symbol GWRS to C:/Users/atlas/OneDrive/Desktop/usstock/GWRS.csv\n",
      "Saved data for symbol GWW to C:/Users/atlas/OneDrive/Desktop/usstock/GWW.csv\n",
      "Saved data for symbol GXAI to C:/Users/atlas/OneDrive/Desktop/usstock/GXAI.csv\n",
      "Saved data for symbol GXO to C:/Users/atlas/OneDrive/Desktop/usstock/GXO.csv\n",
      "Saved data for symbol GYRE to C:/Users/atlas/OneDrive/Desktop/usstock/GYRE.csv\n",
      "Saved data for symbol GYRO to C:/Users/atlas/OneDrive/Desktop/usstock/GYRO.csv\n",
      "Saved data for symbol H to C:/Users/atlas/OneDrive/Desktop/usstock/H.csv\n",
      "Saved data for symbol HA to C:/Users/atlas/OneDrive/Desktop/usstock/HA.csv\n",
      "Saved data for symbol HAE to C:/Users/atlas/OneDrive/Desktop/usstock/HAE.csv\n",
      "Saved data for symbol HAFC to C:/Users/atlas/OneDrive/Desktop/usstock/HAFC.csv\n",
      "Saved data for symbol HAFN to C:/Users/atlas/OneDrive/Desktop/usstock/HAFN.csv\n",
      "Saved data for symbol HAIA to C:/Users/atlas/OneDrive/Desktop/usstock/HAIA.csv\n"
     ]
    },
    {
     "name": "stderr",
     "output_type": "stream",
     "text": [
      "\n",
      "1 Failed download:\n",
      "['HAIAW']: Exception('%ticker%: 1d data not available for startTime=-14831751840 and endTime=1713529808. Only 100 years worth of day granularity data are allowed to be fetched per request.')\n"
     ]
    },
    {
     "name": "stdout",
     "output_type": "stream",
     "text": [
      "Saved data for symbol HAIAW to C:/Users/atlas/OneDrive/Desktop/usstock/HAIAW.csv\n",
      "Saved data for symbol HAIN to C:/Users/atlas/OneDrive/Desktop/usstock/HAIN.csv\n",
      "Saved data for symbol HAL to C:/Users/atlas/OneDrive/Desktop/usstock/HAL.csv\n",
      "Saved data for symbol HALO to C:/Users/atlas/OneDrive/Desktop/usstock/HALO.csv\n",
      "Saved data for symbol HAO to C:/Users/atlas/OneDrive/Desktop/usstock/HAO.csv\n",
      "Saved data for symbol HAS to C:/Users/atlas/OneDrive/Desktop/usstock/HAS.csv\n",
      "Saved data for symbol HASI to C:/Users/atlas/OneDrive/Desktop/usstock/HASI.csv\n",
      "Saved data for symbol HAYN to C:/Users/atlas/OneDrive/Desktop/usstock/HAYN.csv\n",
      "Saved data for symbol HAYW to C:/Users/atlas/OneDrive/Desktop/usstock/HAYW.csv\n",
      "Saved data for symbol HBAN to C:/Users/atlas/OneDrive/Desktop/usstock/HBAN.csv\n",
      "Saved data for symbol HBANL to C:/Users/atlas/OneDrive/Desktop/usstock/HBANL.csv\n",
      "Saved data for symbol HBANM to C:/Users/atlas/OneDrive/Desktop/usstock/HBANM.csv\n",
      "Saved data for symbol HBANP to C:/Users/atlas/OneDrive/Desktop/usstock/HBANP.csv\n",
      "Saved data for symbol HBB to C:/Users/atlas/OneDrive/Desktop/usstock/HBB.csv\n",
      "Saved data for symbol HBCP to C:/Users/atlas/OneDrive/Desktop/usstock/HBCP.csv\n",
      "Saved data for symbol HBI to C:/Users/atlas/OneDrive/Desktop/usstock/HBI.csv\n",
      "Saved data for symbol HBIO to C:/Users/atlas/OneDrive/Desktop/usstock/HBIO.csv\n",
      "Saved data for symbol HBM to C:/Users/atlas/OneDrive/Desktop/usstock/HBM.csv\n",
      "Saved data for symbol HBNC to C:/Users/atlas/OneDrive/Desktop/usstock/HBNC.csv\n",
      "Saved data for symbol HBT to C:/Users/atlas/OneDrive/Desktop/usstock/HBT.csv\n",
      "Saved data for symbol HCA to C:/Users/atlas/OneDrive/Desktop/usstock/HCA.csv\n",
      "Saved data for symbol HCAT to C:/Users/atlas/OneDrive/Desktop/usstock/HCAT.csv\n",
      "Saved data for symbol HCC to C:/Users/atlas/OneDrive/Desktop/usstock/HCC.csv\n",
      "Saved data for symbol HCI to C:/Users/atlas/OneDrive/Desktop/usstock/HCI.csv\n",
      "Saved data for symbol HCKT to C:/Users/atlas/OneDrive/Desktop/usstock/HCKT.csv\n",
      "Saved data for symbol HCM to C:/Users/atlas/OneDrive/Desktop/usstock/HCM.csv\n",
      "Saved data for symbol HCP to C:/Users/atlas/OneDrive/Desktop/usstock/HCP.csv\n",
      "Saved data for symbol HCSG to C:/Users/atlas/OneDrive/Desktop/usstock/HCSG.csv\n",
      "Saved data for symbol HCTI to C:/Users/atlas/OneDrive/Desktop/usstock/HCTI.csv\n",
      "Saved data for symbol HCVI to C:/Users/atlas/OneDrive/Desktop/usstock/HCVI.csv\n",
      "Saved data for symbol HCVIU to C:/Users/atlas/OneDrive/Desktop/usstock/HCVIU.csv\n"
     ]
    },
    {
     "name": "stderr",
     "output_type": "stream",
     "text": [
      "\n",
      "1 Failed download:\n",
      "['HCVIW']: Exception('%ticker%: 1d data not available for startTime=-14831751840 and endTime=1713529823. Only 100 years worth of day granularity data are allowed to be fetched per request.')\n"
     ]
    },
    {
     "name": "stdout",
     "output_type": "stream",
     "text": [
      "Saved data for symbol HCVIW to C:/Users/atlas/OneDrive/Desktop/usstock/HCVIW.csv\n",
      "Saved data for symbol HCWB to C:/Users/atlas/OneDrive/Desktop/usstock/HCWB.csv\n",
      "Saved data for symbol HCXY to C:/Users/atlas/OneDrive/Desktop/usstock/HCXY.csv\n",
      "Saved data for symbol HD to C:/Users/atlas/OneDrive/Desktop/usstock/HD.csv\n",
      "Saved data for symbol HDB to C:/Users/atlas/OneDrive/Desktop/usstock/HDB.csv\n",
      "Saved data for symbol HDSN to C:/Users/atlas/OneDrive/Desktop/usstock/HDSN.csv\n",
      "Saved data for symbol HE to C:/Users/atlas/OneDrive/Desktop/usstock/HE.csv\n",
      "Saved data for symbol HEAR to C:/Users/atlas/OneDrive/Desktop/usstock/HEAR.csv\n",
      "Saved data for symbol HEES to C:/Users/atlas/OneDrive/Desktop/usstock/HEES.csv\n",
      "Saved data for symbol HEI to C:/Users/atlas/OneDrive/Desktop/usstock/HEI.csv\n"
     ]
    },
    {
     "name": "stderr",
     "output_type": "stream",
     "text": [
      "Failed to get ticker 'HEI/A' reason: Expecting value: line 1 column 1 (char 0)\n",
      "\n",
      "1 Failed download:\n",
      "['HEI/A']: Exception('%ticker%: No timezone found, symbol may be delisted')\n"
     ]
    },
    {
     "name": "stdout",
     "output_type": "stream",
     "text": [
      "Error occurred while downloading data for symbol HEI/A: Cannot save file into a non-existent directory: 'C:\\Users\\atlas\\OneDrive\\Desktop\\usstock\\HEI'\n",
      "Saved data for symbol HELE to C:/Users/atlas/OneDrive/Desktop/usstock/HELE.csv\n",
      "Saved data for symbol HEPA to C:/Users/atlas/OneDrive/Desktop/usstock/HEPA.csv\n",
      "Saved data for symbol HEPS to C:/Users/atlas/OneDrive/Desktop/usstock/HEPS.csv\n",
      "Saved data for symbol HEQ to C:/Users/atlas/OneDrive/Desktop/usstock/HEQ.csv\n",
      "Saved data for symbol HES to C:/Users/atlas/OneDrive/Desktop/usstock/HES.csv\n",
      "Saved data for symbol HESM to C:/Users/atlas/OneDrive/Desktop/usstock/HESM.csv\n",
      "Saved data for symbol HFBL to C:/Users/atlas/OneDrive/Desktop/usstock/HFBL.csv\n",
      "Saved data for symbol HFFG to C:/Users/atlas/OneDrive/Desktop/usstock/HFFG.csv\n",
      "Saved data for symbol HFRO to C:/Users/atlas/OneDrive/Desktop/usstock/HFRO.csv\n"
     ]
    },
    {
     "name": "stderr",
     "output_type": "stream",
     "text": [
      "\n",
      "1 Failed download:\n",
      "['HFRO^A']: Exception('%ticker%: No timezone found, symbol may be delisted')\n"
     ]
    },
    {
     "name": "stdout",
     "output_type": "stream",
     "text": [
      "Saved data for symbol HFRO^A to C:/Users/atlas/OneDrive/Desktop/usstock/HFRO^A.csv\n",
      "Saved data for symbol HFWA to C:/Users/atlas/OneDrive/Desktop/usstock/HFWA.csv\n",
      "Saved data for symbol HG to C:/Users/atlas/OneDrive/Desktop/usstock/HG.csv\n",
      "Saved data for symbol HGAS to C:/Users/atlas/OneDrive/Desktop/usstock/HGAS.csv\n"
     ]
    },
    {
     "name": "stderr",
     "output_type": "stream",
     "text": [
      "\n",
      "1 Failed download:\n",
      "['HGASW']: Exception('%ticker%: 1d data not available for startTime=-14831751840 and endTime=1713529840. Only 100 years worth of day granularity data are allowed to be fetched per request.')\n"
     ]
    },
    {
     "name": "stdout",
     "output_type": "stream",
     "text": [
      "Saved data for symbol HGASW to C:/Users/atlas/OneDrive/Desktop/usstock/HGASW.csv\n",
      "Saved data for symbol HGBL to C:/Users/atlas/OneDrive/Desktop/usstock/HGBL.csv\n",
      "Saved data for symbol HGLB to C:/Users/atlas/OneDrive/Desktop/usstock/HGLB.csv\n",
      "Saved data for symbol HGTY to C:/Users/atlas/OneDrive/Desktop/usstock/HGTY.csv\n",
      "Saved data for symbol HGV to C:/Users/atlas/OneDrive/Desktop/usstock/HGV.csv\n",
      "Saved data for symbol HHGC to C:/Users/atlas/OneDrive/Desktop/usstock/HHGC.csv\n",
      "Saved data for symbol HHH to C:/Users/atlas/OneDrive/Desktop/usstock/HHH.csv\n",
      "Saved data for symbol HHS to C:/Users/atlas/OneDrive/Desktop/usstock/HHS.csv\n",
      "Saved data for symbol HI to C:/Users/atlas/OneDrive/Desktop/usstock/HI.csv\n",
      "Saved data for symbol HIBB to C:/Users/atlas/OneDrive/Desktop/usstock/HIBB.csv\n",
      "Saved data for symbol HIE to C:/Users/atlas/OneDrive/Desktop/usstock/HIE.csv\n",
      "Saved data for symbol HIFS to C:/Users/atlas/OneDrive/Desktop/usstock/HIFS.csv\n",
      "Saved data for symbol HIG to C:/Users/atlas/OneDrive/Desktop/usstock/HIG.csv\n"
     ]
    },
    {
     "name": "stderr",
     "output_type": "stream",
     "text": [
      "\n",
      "1 Failed download:\n",
      "['HIG^G']: Exception('%ticker%: No timezone found, symbol may be delisted')\n"
     ]
    },
    {
     "name": "stdout",
     "output_type": "stream",
     "text": [
      "Saved data for symbol HIG^G to C:/Users/atlas/OneDrive/Desktop/usstock/HIG^G.csv\n",
      "Saved data for symbol HIHO to C:/Users/atlas/OneDrive/Desktop/usstock/HIHO.csv\n",
      "Saved data for symbol HII to C:/Users/atlas/OneDrive/Desktop/usstock/HII.csv\n",
      "Saved data for symbol HIMS to C:/Users/atlas/OneDrive/Desktop/usstock/HIMS.csv\n",
      "Saved data for symbol HIMX to C:/Users/atlas/OneDrive/Desktop/usstock/HIMX.csv\n",
      "Saved data for symbol HIO to C:/Users/atlas/OneDrive/Desktop/usstock/HIO.csv\n",
      "Saved data for symbol HIPO to C:/Users/atlas/OneDrive/Desktop/usstock/HIPO.csv\n",
      "Saved data for symbol HITI to C:/Users/atlas/OneDrive/Desktop/usstock/HITI.csv\n",
      "Saved data for symbol HIVE to C:/Users/atlas/OneDrive/Desktop/usstock/HIVE.csv\n",
      "Saved data for symbol HIW to C:/Users/atlas/OneDrive/Desktop/usstock/HIW.csv\n",
      "Saved data for symbol HIX to C:/Users/atlas/OneDrive/Desktop/usstock/HIX.csv\n",
      "Saved data for symbol HKD to C:/Users/atlas/OneDrive/Desktop/usstock/HKD.csv\n",
      "Saved data for symbol HKIT to C:/Users/atlas/OneDrive/Desktop/usstock/HKIT.csv\n",
      "Saved data for symbol HL to C:/Users/atlas/OneDrive/Desktop/usstock/HL.csv\n"
     ]
    },
    {
     "name": "stderr",
     "output_type": "stream",
     "text": [
      "\n",
      "1 Failed download:\n",
      "['HL^B']: Exception('%ticker%: No timezone found, symbol may be delisted')\n"
     ]
    },
    {
     "name": "stdout",
     "output_type": "stream",
     "text": [
      "Saved data for symbol HL^B to C:/Users/atlas/OneDrive/Desktop/usstock/HL^B.csv\n",
      "Saved data for symbol HLF to C:/Users/atlas/OneDrive/Desktop/usstock/HLF.csv\n",
      "Saved data for symbol HLI to C:/Users/atlas/OneDrive/Desktop/usstock/HLI.csv\n",
      "Saved data for symbol HLIO to C:/Users/atlas/OneDrive/Desktop/usstock/HLIO.csv\n",
      "Saved data for symbol HLIT to C:/Users/atlas/OneDrive/Desktop/usstock/HLIT.csv\n",
      "Saved data for symbol HLLY to C:/Users/atlas/OneDrive/Desktop/usstock/HLLY.csv\n",
      "Saved data for symbol HLMN to C:/Users/atlas/OneDrive/Desktop/usstock/HLMN.csv\n",
      "Saved data for symbol HLN to C:/Users/atlas/OneDrive/Desktop/usstock/HLN.csv\n",
      "Saved data for symbol HLNE to C:/Users/atlas/OneDrive/Desktop/usstock/HLNE.csv\n",
      "Saved data for symbol HLP to C:/Users/atlas/OneDrive/Desktop/usstock/HLP.csv\n",
      "Saved data for symbol HLT to C:/Users/atlas/OneDrive/Desktop/usstock/HLT.csv\n",
      "Saved data for symbol HLTH to C:/Users/atlas/OneDrive/Desktop/usstock/HLTH.csv\n",
      "Saved data for symbol HLVX to C:/Users/atlas/OneDrive/Desktop/usstock/HLVX.csv\n",
      "Saved data for symbol HLX to C:/Users/atlas/OneDrive/Desktop/usstock/HLX.csv\n",
      "Saved data for symbol HMC to C:/Users/atlas/OneDrive/Desktop/usstock/HMC.csv\n",
      "Saved data for symbol HMN to C:/Users/atlas/OneDrive/Desktop/usstock/HMN.csv\n",
      "Saved data for symbol HMNF to C:/Users/atlas/OneDrive/Desktop/usstock/HMNF.csv\n",
      "Saved data for symbol HMST to C:/Users/atlas/OneDrive/Desktop/usstock/HMST.csv\n",
      "Saved data for symbol HMY to C:/Users/atlas/OneDrive/Desktop/usstock/HMY.csv\n",
      "Saved data for symbol HNI to C:/Users/atlas/OneDrive/Desktop/usstock/HNI.csv\n",
      "Saved data for symbol HNNA to C:/Users/atlas/OneDrive/Desktop/usstock/HNNA.csv\n",
      "Saved data for symbol HNNAZ to C:/Users/atlas/OneDrive/Desktop/usstock/HNNAZ.csv\n",
      "Saved data for symbol HNRA to C:/Users/atlas/OneDrive/Desktop/usstock/HNRA.csv\n",
      "Saved data for symbol HNRG to C:/Users/atlas/OneDrive/Desktop/usstock/HNRG.csv\n",
      "Saved data for symbol HNST to C:/Users/atlas/OneDrive/Desktop/usstock/HNST.csv\n",
      "Saved data for symbol HNVR to C:/Users/atlas/OneDrive/Desktop/usstock/HNVR.csv\n",
      "Saved data for symbol HNW to C:/Users/atlas/OneDrive/Desktop/usstock/HNW.csv\n",
      "Saved data for symbol HOFT to C:/Users/atlas/OneDrive/Desktop/usstock/HOFT.csv\n",
      "Saved data for symbol HOFV to C:/Users/atlas/OneDrive/Desktop/usstock/HOFV.csv\n"
     ]
    },
    {
     "name": "stderr",
     "output_type": "stream",
     "text": [
      "\n",
      "1 Failed download:\n",
      "['HOFVW']: Exception('%ticker%: 1d data not available for startTime=-14831751840 and endTime=1713529868. Only 100 years worth of day granularity data are allowed to be fetched per request.')\n"
     ]
    },
    {
     "name": "stdout",
     "output_type": "stream",
     "text": [
      "Saved data for symbol HOFVW to C:/Users/atlas/OneDrive/Desktop/usstock/HOFVW.csv\n",
      "Saved data for symbol HOG to C:/Users/atlas/OneDrive/Desktop/usstock/HOG.csv\n",
      "Saved data for symbol HOLI to C:/Users/atlas/OneDrive/Desktop/usstock/HOLI.csv\n",
      "Saved data for symbol HOLO to C:/Users/atlas/OneDrive/Desktop/usstock/HOLO.csv\n"
     ]
    },
    {
     "name": "stderr",
     "output_type": "stream",
     "text": [
      "\n",
      "1 Failed download:\n",
      "['HOLOW']: Exception('%ticker%: 1d data not available for startTime=-14831751840 and endTime=1713529871. Only 100 years worth of day granularity data are allowed to be fetched per request.')\n"
     ]
    },
    {
     "name": "stdout",
     "output_type": "stream",
     "text": [
      "Saved data for symbol HOLOW to C:/Users/atlas/OneDrive/Desktop/usstock/HOLOW.csv\n",
      "Saved data for symbol HOLX to C:/Users/atlas/OneDrive/Desktop/usstock/HOLX.csv\n",
      "Saved data for symbol HOMB to C:/Users/atlas/OneDrive/Desktop/usstock/HOMB.csv\n",
      "Saved data for symbol HON to C:/Users/atlas/OneDrive/Desktop/usstock/HON.csv\n",
      "Saved data for symbol HONE to C:/Users/atlas/OneDrive/Desktop/usstock/HONE.csv\n",
      "Saved data for symbol HOOD to C:/Users/atlas/OneDrive/Desktop/usstock/HOOD.csv\n",
      "Saved data for symbol HOOK to C:/Users/atlas/OneDrive/Desktop/usstock/HOOK.csv\n",
      "Saved data for symbol HOPE to C:/Users/atlas/OneDrive/Desktop/usstock/HOPE.csv\n",
      "Saved data for symbol HOTH to C:/Users/atlas/OneDrive/Desktop/usstock/HOTH.csv\n",
      "Saved data for symbol HOUR to C:/Users/atlas/OneDrive/Desktop/usstock/HOUR.csv\n",
      "Saved data for symbol HOUS to C:/Users/atlas/OneDrive/Desktop/usstock/HOUS.csv\n",
      "Saved data for symbol HOV to C:/Users/atlas/OneDrive/Desktop/usstock/HOV.csv\n",
      "Saved data for symbol HOVNP to C:/Users/atlas/OneDrive/Desktop/usstock/HOVNP.csv\n",
      "Saved data for symbol HOVR to C:/Users/atlas/OneDrive/Desktop/usstock/HOVR.csv\n",
      "Saved data for symbol HOWL to C:/Users/atlas/OneDrive/Desktop/usstock/HOWL.csv\n",
      "Saved data for symbol HP to C:/Users/atlas/OneDrive/Desktop/usstock/HP.csv\n",
      "Saved data for symbol HPCO to C:/Users/atlas/OneDrive/Desktop/usstock/HPCO.csv\n",
      "Saved data for symbol HPE to C:/Users/atlas/OneDrive/Desktop/usstock/HPE.csv\n",
      "Saved data for symbol HPF to C:/Users/atlas/OneDrive/Desktop/usstock/HPF.csv\n",
      "Saved data for symbol HPH to C:/Users/atlas/OneDrive/Desktop/usstock/HPH.csv\n",
      "Saved data for symbol HPI to C:/Users/atlas/OneDrive/Desktop/usstock/HPI.csv\n",
      "Saved data for symbol HPK to C:/Users/atlas/OneDrive/Desktop/usstock/HPK.csv\n",
      "Saved data for symbol HPKEW to C:/Users/atlas/OneDrive/Desktop/usstock/HPKEW.csv\n",
      "Saved data for symbol HPP to C:/Users/atlas/OneDrive/Desktop/usstock/HPP.csv\n"
     ]
    },
    {
     "name": "stderr",
     "output_type": "stream",
     "text": [
      "\n",
      "1 Failed download:\n",
      "['HPP^C']: Exception('%ticker%: No timezone found, symbol may be delisted')\n"
     ]
    },
    {
     "name": "stdout",
     "output_type": "stream",
     "text": [
      "Saved data for symbol HPP^C to C:/Users/atlas/OneDrive/Desktop/usstock/HPP^C.csv\n",
      "Saved data for symbol HPQ to C:/Users/atlas/OneDrive/Desktop/usstock/HPQ.csv\n",
      "Saved data for symbol HPS to C:/Users/atlas/OneDrive/Desktop/usstock/HPS.csv\n",
      "Saved data for symbol HQH to C:/Users/atlas/OneDrive/Desktop/usstock/HQH.csv\n",
      "Saved data for symbol HQI to C:/Users/atlas/OneDrive/Desktop/usstock/HQI.csv\n",
      "Saved data for symbol HQL to C:/Users/atlas/OneDrive/Desktop/usstock/HQL.csv\n",
      "Saved data for symbol HQY to C:/Users/atlas/OneDrive/Desktop/usstock/HQY.csv\n",
      "Saved data for symbol HR to C:/Users/atlas/OneDrive/Desktop/usstock/HR.csv\n",
      "Saved data for symbol HRB to C:/Users/atlas/OneDrive/Desktop/usstock/HRB.csv\n",
      "Saved data for symbol HRI to C:/Users/atlas/OneDrive/Desktop/usstock/HRI.csv\n",
      "Saved data for symbol HRL to C:/Users/atlas/OneDrive/Desktop/usstock/HRL.csv\n",
      "Saved data for symbol HRMY to C:/Users/atlas/OneDrive/Desktop/usstock/HRMY.csv\n",
      "Saved data for symbol HROW to C:/Users/atlas/OneDrive/Desktop/usstock/HROW.csv\n",
      "Saved data for symbol HROWL to C:/Users/atlas/OneDrive/Desktop/usstock/HROWL.csv\n",
      "Saved data for symbol HROWM to C:/Users/atlas/OneDrive/Desktop/usstock/HROWM.csv\n",
      "Saved data for symbol HRT to C:/Users/atlas/OneDrive/Desktop/usstock/HRT.csv\n",
      "Saved data for symbol HRTG to C:/Users/atlas/OneDrive/Desktop/usstock/HRTG.csv\n",
      "Saved data for symbol HRTX to C:/Users/atlas/OneDrive/Desktop/usstock/HRTX.csv\n",
      "Saved data for symbol HRYU to C:/Users/atlas/OneDrive/Desktop/usstock/HRYU.csv\n",
      "Saved data for symbol HRZN to C:/Users/atlas/OneDrive/Desktop/usstock/HRZN.csv\n",
      "Saved data for symbol HSAI to C:/Users/atlas/OneDrive/Desktop/usstock/HSAI.csv\n",
      "Saved data for symbol HSBC to C:/Users/atlas/OneDrive/Desktop/usstock/HSBC.csv\n",
      "Saved data for symbol HSCS to C:/Users/atlas/OneDrive/Desktop/usstock/HSCS.csv\n"
     ]
    },
    {
     "name": "stderr",
     "output_type": "stream",
     "text": [
      "\n",
      "1 Failed download:\n",
      "['HSCSW']: Exception('%ticker%: 1d data not available for startTime=-14831751840 and endTime=1713529896. Only 100 years worth of day granularity data are allowed to be fetched per request.')\n"
     ]
    },
    {
     "name": "stdout",
     "output_type": "stream",
     "text": [
      "Saved data for symbol HSCSW to C:/Users/atlas/OneDrive/Desktop/usstock/HSCSW.csv\n",
      "Saved data for symbol HSDT to C:/Users/atlas/OneDrive/Desktop/usstock/HSDT.csv\n",
      "Saved data for symbol HSHP to C:/Users/atlas/OneDrive/Desktop/usstock/HSHP.csv\n",
      "Saved data for symbol HSIC to C:/Users/atlas/OneDrive/Desktop/usstock/HSIC.csv\n",
      "Saved data for symbol HSII to C:/Users/atlas/OneDrive/Desktop/usstock/HSII.csv\n",
      "Saved data for symbol HSON to C:/Users/atlas/OneDrive/Desktop/usstock/HSON.csv\n",
      "Saved data for symbol HSPO to C:/Users/atlas/OneDrive/Desktop/usstock/HSPO.csv\n"
     ]
    },
    {
     "name": "stderr",
     "output_type": "stream",
     "text": [
      "\n",
      "1 Failed download:\n",
      "['HSPOW']: Exception('%ticker%: 1d data not available for startTime=-14831751840 and endTime=1713529900. Only 100 years worth of day granularity data are allowed to be fetched per request.')\n"
     ]
    },
    {
     "name": "stdout",
     "output_type": "stream",
     "text": [
      "Saved data for symbol HSPOW to C:/Users/atlas/OneDrive/Desktop/usstock/HSPOW.csv\n",
      "Saved data for symbol HST to C:/Users/atlas/OneDrive/Desktop/usstock/HST.csv\n",
      "Saved data for symbol HSTM to C:/Users/atlas/OneDrive/Desktop/usstock/HSTM.csv\n",
      "Saved data for symbol HSY to C:/Users/atlas/OneDrive/Desktop/usstock/HSY.csv\n",
      "Saved data for symbol HTBI to C:/Users/atlas/OneDrive/Desktop/usstock/HTBI.csv\n",
      "Saved data for symbol HTBK to C:/Users/atlas/OneDrive/Desktop/usstock/HTBK.csv\n",
      "Saved data for symbol HTCR to C:/Users/atlas/OneDrive/Desktop/usstock/HTCR.csv\n",
      "Saved data for symbol HTD to C:/Users/atlas/OneDrive/Desktop/usstock/HTD.csv\n",
      "Saved data for symbol HTFB to C:/Users/atlas/OneDrive/Desktop/usstock/HTFB.csv\n",
      "Saved data for symbol HTFC to C:/Users/atlas/OneDrive/Desktop/usstock/HTFC.csv\n",
      "Saved data for symbol HTGC to C:/Users/atlas/OneDrive/Desktop/usstock/HTGC.csv\n",
      "Saved data for symbol HTH to C:/Users/atlas/OneDrive/Desktop/usstock/HTH.csv\n",
      "Saved data for symbol HTHT to C:/Users/atlas/OneDrive/Desktop/usstock/HTHT.csv\n",
      "Saved data for symbol HTIA to C:/Users/atlas/OneDrive/Desktop/usstock/HTIA.csv\n",
      "Saved data for symbol HTIBP to C:/Users/atlas/OneDrive/Desktop/usstock/HTIBP.csv\n",
      "Saved data for symbol HTLD to C:/Users/atlas/OneDrive/Desktop/usstock/HTLD.csv\n",
      "Saved data for symbol HTLF to C:/Users/atlas/OneDrive/Desktop/usstock/HTLF.csv\n",
      "Saved data for symbol HTLFP to C:/Users/atlas/OneDrive/Desktop/usstock/HTLFP.csv\n",
      "Saved data for symbol HTOO to C:/Users/atlas/OneDrive/Desktop/usstock/HTOO.csv\n",
      "Saved data for symbol HTOOW to C:/Users/atlas/OneDrive/Desktop/usstock/HTOOW.csv\n",
      "Saved data for symbol HTZ to C:/Users/atlas/OneDrive/Desktop/usstock/HTZ.csv\n"
     ]
    },
    {
     "name": "stderr",
     "output_type": "stream",
     "text": [
      "\n",
      "1 Failed download:\n",
      "['HTZWW']: Exception('%ticker%: 1d data not available for startTime=-14831751840 and endTime=1713529910. Only 100 years worth of day granularity data are allowed to be fetched per request.')\n"
     ]
    },
    {
     "name": "stdout",
     "output_type": "stream",
     "text": [
      "Saved data for symbol HTZWW to C:/Users/atlas/OneDrive/Desktop/usstock/HTZWW.csv\n",
      "Saved data for symbol HUBB to C:/Users/atlas/OneDrive/Desktop/usstock/HUBB.csv\n",
      "Saved data for symbol HUBC to C:/Users/atlas/OneDrive/Desktop/usstock/HUBC.csv\n"
     ]
    },
    {
     "name": "stderr",
     "output_type": "stream",
     "text": [
      "\n",
      "1 Failed download:\n",
      "['HUBCW']: Exception('%ticker%: 1d data not available for startTime=-14831751840 and endTime=1713529913. Only 100 years worth of day granularity data are allowed to be fetched per request.')\n"
     ]
    },
    {
     "name": "stdout",
     "output_type": "stream",
     "text": [
      "Saved data for symbol HUBCW to C:/Users/atlas/OneDrive/Desktop/usstock/HUBCW.csv\n",
      "Saved data for symbol HUBG to C:/Users/atlas/OneDrive/Desktop/usstock/HUBG.csv\n",
      "Saved data for symbol HUBS to C:/Users/atlas/OneDrive/Desktop/usstock/HUBS.csv\n",
      "Saved data for symbol HUDA to C:/Users/atlas/OneDrive/Desktop/usstock/HUDA.csv\n",
      "Saved data for symbol HUDAR to C:/Users/atlas/OneDrive/Desktop/usstock/HUDAR.csv\n",
      "Saved data for symbol HUDI to C:/Users/atlas/OneDrive/Desktop/usstock/HUDI.csv\n",
      "Saved data for symbol HUGE to C:/Users/atlas/OneDrive/Desktop/usstock/HUGE.csv\n",
      "Saved data for symbol HUIZ to C:/Users/atlas/OneDrive/Desktop/usstock/HUIZ.csv\n",
      "Saved data for symbol HUM to C:/Users/atlas/OneDrive/Desktop/usstock/HUM.csv\n",
      "Saved data for symbol HUMA to C:/Users/atlas/OneDrive/Desktop/usstock/HUMA.csv\n"
     ]
    },
    {
     "name": "stderr",
     "output_type": "stream",
     "text": [
      "\n",
      "1 Failed download:\n",
      "['HUMAW']: Exception('%ticker%: 1d data not available for startTime=-14831751840 and endTime=1713529919. Only 100 years worth of day granularity data are allowed to be fetched per request.')\n"
     ]
    },
    {
     "name": "stdout",
     "output_type": "stream",
     "text": [
      "Saved data for symbol HUMAW to C:/Users/atlas/OneDrive/Desktop/usstock/HUMAW.csv\n",
      "Saved data for symbol HUN to C:/Users/atlas/OneDrive/Desktop/usstock/HUN.csv\n",
      "Saved data for symbol HURC to C:/Users/atlas/OneDrive/Desktop/usstock/HURC.csv\n",
      "Saved data for symbol HURN to C:/Users/atlas/OneDrive/Desktop/usstock/HURN.csv\n",
      "Saved data for symbol HUSA to C:/Users/atlas/OneDrive/Desktop/usstock/HUSA.csv\n",
      "Saved data for symbol HUT to C:/Users/atlas/OneDrive/Desktop/usstock/HUT.csv\n",
      "Saved data for symbol HUYA to C:/Users/atlas/OneDrive/Desktop/usstock/HUYA.csv\n",
      "Saved data for symbol HVT to C:/Users/atlas/OneDrive/Desktop/usstock/HVT.csv\n"
     ]
    },
    {
     "name": "stderr",
     "output_type": "stream",
     "text": [
      "Failed to get ticker 'HVT/A' reason: Expecting value: line 1 column 1 (char 0)\n",
      "\n",
      "1 Failed download:\n",
      "['HVT/A']: Exception('%ticker%: No timezone found, symbol may be delisted')\n"
     ]
    },
    {
     "name": "stdout",
     "output_type": "stream",
     "text": [
      "Error occurred while downloading data for symbol HVT/A: Cannot save file into a non-existent directory: 'C:\\Users\\atlas\\OneDrive\\Desktop\\usstock\\HVT'\n",
      "Saved data for symbol HWBK to C:/Users/atlas/OneDrive/Desktop/usstock/HWBK.csv\n",
      "Saved data for symbol HWC to C:/Users/atlas/OneDrive/Desktop/usstock/HWC.csv\n",
      "Saved data for symbol HWCPZ to C:/Users/atlas/OneDrive/Desktop/usstock/HWCPZ.csv\n",
      "Saved data for symbol HWH to C:/Users/atlas/OneDrive/Desktop/usstock/HWH.csv\n",
      "Saved data for symbol HWKN to C:/Users/atlas/OneDrive/Desktop/usstock/HWKN.csv\n",
      "Saved data for symbol HWM to C:/Users/atlas/OneDrive/Desktop/usstock/HWM.csv\n"
     ]
    },
    {
     "name": "stderr",
     "output_type": "stream",
     "text": [
      "\n",
      "1 Failed download:\n",
      "['HWM^']: Exception('%ticker%: No timezone found, symbol may be delisted')\n"
     ]
    },
    {
     "name": "stdout",
     "output_type": "stream",
     "text": [
      "Saved data for symbol HWM^ to C:/Users/atlas/OneDrive/Desktop/usstock/HWM^.csv\n",
      "Saved data for symbol HXL to C:/Users/atlas/OneDrive/Desktop/usstock/HXL.csv\n",
      "Saved data for symbol HY to C:/Users/atlas/OneDrive/Desktop/usstock/HY.csv\n",
      "Saved data for symbol HYAC to C:/Users/atlas/OneDrive/Desktop/usstock/HYAC.csv\n",
      "Saved data for symbol HYB to C:/Users/atlas/OneDrive/Desktop/usstock/HYB.csv\n",
      "Saved data for symbol HYFM to C:/Users/atlas/OneDrive/Desktop/usstock/HYFM.csv\n",
      "Saved data for symbol HYI to C:/Users/atlas/OneDrive/Desktop/usstock/HYI.csv\n",
      "Saved data for symbol HYLN to C:/Users/atlas/OneDrive/Desktop/usstock/HYLN.csv\n",
      "Saved data for symbol HYMC to C:/Users/atlas/OneDrive/Desktop/usstock/HYMC.csv\n",
      "Saved data for symbol HYMCL to C:/Users/atlas/OneDrive/Desktop/usstock/HYMCL.csv\n"
     ]
    },
    {
     "name": "stderr",
     "output_type": "stream",
     "text": [
      "\n",
      "1 Failed download:\n",
      "['HYMCW']: Exception('%ticker%: 1d data not available for startTime=-14831751840 and endTime=1713529936. Only 100 years worth of day granularity data are allowed to be fetched per request.')\n"
     ]
    },
    {
     "name": "stdout",
     "output_type": "stream",
     "text": [
      "Saved data for symbol HYMCW to C:/Users/atlas/OneDrive/Desktop/usstock/HYMCW.csv\n",
      "Saved data for symbol HYPR to C:/Users/atlas/OneDrive/Desktop/usstock/HYPR.csv\n",
      "Saved data for symbol HYT to C:/Users/atlas/OneDrive/Desktop/usstock/HYT.csv\n",
      "Saved data for symbol HYW to C:/Users/atlas/OneDrive/Desktop/usstock/HYW.csv\n",
      "Saved data for symbol HYZN to C:/Users/atlas/OneDrive/Desktop/usstock/HYZN.csv\n"
     ]
    },
    {
     "name": "stderr",
     "output_type": "stream",
     "text": [
      "\n",
      "1 Failed download:\n",
      "['HYZNW']: Exception('%ticker%: 1d data not available for startTime=-14831751840 and endTime=1713529940. Only 100 years worth of day granularity data are allowed to be fetched per request.')\n"
     ]
    },
    {
     "name": "stdout",
     "output_type": "stream",
     "text": [
      "Saved data for symbol HYZNW to C:/Users/atlas/OneDrive/Desktop/usstock/HYZNW.csv\n",
      "Saved data for symbol HZO to C:/Users/atlas/OneDrive/Desktop/usstock/HZO.csv\n",
      "Saved data for symbol IAC to C:/Users/atlas/OneDrive/Desktop/usstock/IAC.csv\n",
      "Saved data for symbol IAE to C:/Users/atlas/OneDrive/Desktop/usstock/IAE.csv\n",
      "Saved data for symbol IAF to C:/Users/atlas/OneDrive/Desktop/usstock/IAF.csv\n",
      "Saved data for symbol IAG to C:/Users/atlas/OneDrive/Desktop/usstock/IAG.csv\n",
      "Saved data for symbol IART to C:/Users/atlas/OneDrive/Desktop/usstock/IART.csv\n",
      "Saved data for symbol IAS to C:/Users/atlas/OneDrive/Desktop/usstock/IAS.csv\n",
      "Saved data for symbol IAUX to C:/Users/atlas/OneDrive/Desktop/usstock/IAUX.csv\n",
      "Saved data for symbol IBACU to C:/Users/atlas/OneDrive/Desktop/usstock/IBACU.csv\n",
      "Saved data for symbol IBCP to C:/Users/atlas/OneDrive/Desktop/usstock/IBCP.csv\n",
      "Saved data for symbol IBEX to C:/Users/atlas/OneDrive/Desktop/usstock/IBEX.csv\n",
      "Saved data for symbol IBIO to C:/Users/atlas/OneDrive/Desktop/usstock/IBIO.csv\n",
      "Saved data for symbol IBKR to C:/Users/atlas/OneDrive/Desktop/usstock/IBKR.csv\n",
      "Saved data for symbol IBM to C:/Users/atlas/OneDrive/Desktop/usstock/IBM.csv\n",
      "Saved data for symbol IBN to C:/Users/atlas/OneDrive/Desktop/usstock/IBN.csv\n",
      "Saved data for symbol IBOC to C:/Users/atlas/OneDrive/Desktop/usstock/IBOC.csv\n",
      "Saved data for symbol IBP to C:/Users/atlas/OneDrive/Desktop/usstock/IBP.csv\n",
      "Saved data for symbol IBRX to C:/Users/atlas/OneDrive/Desktop/usstock/IBRX.csv\n",
      "Saved data for symbol IBTA to C:/Users/atlas/OneDrive/Desktop/usstock/IBTA.csv\n",
      "Saved data for symbol IBTX to C:/Users/atlas/OneDrive/Desktop/usstock/IBTX.csv\n",
      "Saved data for symbol ICAD to C:/Users/atlas/OneDrive/Desktop/usstock/ICAD.csv\n",
      "Saved data for symbol ICCC to C:/Users/atlas/OneDrive/Desktop/usstock/ICCC.csv\n",
      "Saved data for symbol ICCH to C:/Users/atlas/OneDrive/Desktop/usstock/ICCH.csv\n",
      "Saved data for symbol ICCM to C:/Users/atlas/OneDrive/Desktop/usstock/ICCM.csv\n",
      "Saved data for symbol ICCT to C:/Users/atlas/OneDrive/Desktop/usstock/ICCT.csv\n",
      "Saved data for symbol ICD to C:/Users/atlas/OneDrive/Desktop/usstock/ICD.csv\n",
      "Saved data for symbol ICE to C:/Users/atlas/OneDrive/Desktop/usstock/ICE.csv\n",
      "Saved data for symbol ICFI to C:/Users/atlas/OneDrive/Desktop/usstock/ICFI.csv\n",
      "Saved data for symbol ICG to C:/Users/atlas/OneDrive/Desktop/usstock/ICG.csv\n",
      "Saved data for symbol ICHR to C:/Users/atlas/OneDrive/Desktop/usstock/ICHR.csv\n",
      "Saved data for symbol ICL to C:/Users/atlas/OneDrive/Desktop/usstock/ICL.csv\n",
      "Saved data for symbol ICLK to C:/Users/atlas/OneDrive/Desktop/usstock/ICLK.csv\n",
      "Saved data for symbol ICLR to C:/Users/atlas/OneDrive/Desktop/usstock/ICLR.csv\n",
      "Saved data for symbol ICMB to C:/Users/atlas/OneDrive/Desktop/usstock/ICMB.csv\n"
     ]
    },
    {
     "name": "stderr",
     "output_type": "stream",
     "text": [
      "\n",
      "1 Failed download:\n",
      "['ICR^A']: Exception('%ticker%: No timezone found, symbol may be delisted')\n"
     ]
    },
    {
     "name": "stdout",
     "output_type": "stream",
     "text": [
      "Saved data for symbol ICR^A to C:/Users/atlas/OneDrive/Desktop/usstock/ICR^A.csv\n",
      "Saved data for symbol ICU to C:/Users/atlas/OneDrive/Desktop/usstock/ICU.csv\n"
     ]
    },
    {
     "name": "stderr",
     "output_type": "stream",
     "text": [
      "\n",
      "1 Failed download:\n",
      "['ICUCW']: Exception('%ticker%: 1d data not available for startTime=-14831751840 and endTime=1713529960. Only 100 years worth of day granularity data are allowed to be fetched per request.')\n"
     ]
    },
    {
     "name": "stdout",
     "output_type": "stream",
     "text": [
      "Saved data for symbol ICUCW to C:/Users/atlas/OneDrive/Desktop/usstock/ICUCW.csv\n",
      "Saved data for symbol ICUI to C:/Users/atlas/OneDrive/Desktop/usstock/ICUI.csv\n",
      "Saved data for symbol IDA to C:/Users/atlas/OneDrive/Desktop/usstock/IDA.csv\n",
      "Saved data for symbol IDAI to C:/Users/atlas/OneDrive/Desktop/usstock/IDAI.csv\n",
      "Saved data for symbol IDCC to C:/Users/atlas/OneDrive/Desktop/usstock/IDCC.csv\n",
      "Saved data for symbol IDE to C:/Users/atlas/OneDrive/Desktop/usstock/IDE.csv\n",
      "Saved data for symbol IDEX to C:/Users/atlas/OneDrive/Desktop/usstock/IDEX.csv\n",
      "Saved data for symbol IDN to C:/Users/atlas/OneDrive/Desktop/usstock/IDN.csv\n",
      "Saved data for symbol IDR to C:/Users/atlas/OneDrive/Desktop/usstock/IDR.csv\n",
      "Saved data for symbol IDT to C:/Users/atlas/OneDrive/Desktop/usstock/IDT.csv\n",
      "Saved data for symbol IDXX to C:/Users/atlas/OneDrive/Desktop/usstock/IDXX.csv\n",
      "Saved data for symbol IDYA to C:/Users/atlas/OneDrive/Desktop/usstock/IDYA.csv\n",
      "Saved data for symbol IE to C:/Users/atlas/OneDrive/Desktop/usstock/IE.csv\n",
      "Saved data for symbol IEP to C:/Users/atlas/OneDrive/Desktop/usstock/IEP.csv\n",
      "Saved data for symbol IESC to C:/Users/atlas/OneDrive/Desktop/usstock/IESC.csv\n",
      "Saved data for symbol IEX to C:/Users/atlas/OneDrive/Desktop/usstock/IEX.csv\n",
      "Saved data for symbol IFBD to C:/Users/atlas/OneDrive/Desktop/usstock/IFBD.csv\n",
      "Saved data for symbol IFF to C:/Users/atlas/OneDrive/Desktop/usstock/IFF.csv\n",
      "Saved data for symbol IFIN to C:/Users/atlas/OneDrive/Desktop/usstock/IFIN.csv\n",
      "Saved data for symbol IFN to C:/Users/atlas/OneDrive/Desktop/usstock/IFN.csv\n",
      "Saved data for symbol IFRX to C:/Users/atlas/OneDrive/Desktop/usstock/IFRX.csv\n",
      "Saved data for symbol IFS to C:/Users/atlas/OneDrive/Desktop/usstock/IFS.csv\n",
      "Saved data for symbol IGA to C:/Users/atlas/OneDrive/Desktop/usstock/IGA.csv\n",
      "Saved data for symbol IGC to C:/Users/atlas/OneDrive/Desktop/usstock/IGC.csv\n",
      "Saved data for symbol IGD to C:/Users/atlas/OneDrive/Desktop/usstock/IGD.csv\n",
      "Saved data for symbol IGI to C:/Users/atlas/OneDrive/Desktop/usstock/IGI.csv\n",
      "Saved data for symbol IGIC to C:/Users/atlas/OneDrive/Desktop/usstock/IGIC.csv\n",
      "Saved data for symbol IGMS to C:/Users/atlas/OneDrive/Desktop/usstock/IGMS.csv\n",
      "Saved data for symbol IGR to C:/Users/atlas/OneDrive/Desktop/usstock/IGR.csv\n",
      "Saved data for symbol IGT to C:/Users/atlas/OneDrive/Desktop/usstock/IGT.csv\n",
      "Saved data for symbol IGTA to C:/Users/atlas/OneDrive/Desktop/usstock/IGTA.csv\n"
     ]
    },
    {
     "name": "stderr",
     "output_type": "stream",
     "text": [
      "\n",
      "1 Failed download:\n",
      "['IGTAR']: Exception('%ticker%: 1d data not available for startTime=-14831751840 and endTime=1713529975. Only 100 years worth of day granularity data are allowed to be fetched per request.')\n"
     ]
    },
    {
     "name": "stdout",
     "output_type": "stream",
     "text": [
      "Saved data for symbol IGTAR to C:/Users/atlas/OneDrive/Desktop/usstock/IGTAR.csv\n"
     ]
    },
    {
     "name": "stderr",
     "output_type": "stream",
     "text": [
      "\n",
      "1 Failed download:\n",
      "['IGTAW']: Exception('%ticker%: 1d data not available for startTime=-14831751840 and endTime=1713529977. Only 100 years worth of day granularity data are allowed to be fetched per request.')\n"
     ]
    },
    {
     "name": "stdout",
     "output_type": "stream",
     "text": [
      "Saved data for symbol IGTAW to C:/Users/atlas/OneDrive/Desktop/usstock/IGTAW.csv\n",
      "Saved data for symbol IH to C:/Users/atlas/OneDrive/Desktop/usstock/IH.csv\n",
      "Saved data for symbol IHD to C:/Users/atlas/OneDrive/Desktop/usstock/IHD.csv\n",
      "Saved data for symbol IHG to C:/Users/atlas/OneDrive/Desktop/usstock/IHG.csv\n",
      "Saved data for symbol IHRT to C:/Users/atlas/OneDrive/Desktop/usstock/IHRT.csv\n",
      "Saved data for symbol IHS to C:/Users/atlas/OneDrive/Desktop/usstock/IHS.csv\n",
      "Saved data for symbol IHT to C:/Users/atlas/OneDrive/Desktop/usstock/IHT.csv\n",
      "Saved data for symbol IHTA to C:/Users/atlas/OneDrive/Desktop/usstock/IHTA.csv\n",
      "Saved data for symbol IIF to C:/Users/atlas/OneDrive/Desktop/usstock/IIF.csv\n",
      "Saved data for symbol III to C:/Users/atlas/OneDrive/Desktop/usstock/III.csv\n",
      "Saved data for symbol IIIN to C:/Users/atlas/OneDrive/Desktop/usstock/IIIN.csv\n",
      "Saved data for symbol IIIV to C:/Users/atlas/OneDrive/Desktop/usstock/IIIV.csv\n",
      "Saved data for symbol IIM to C:/Users/atlas/OneDrive/Desktop/usstock/IIM.csv\n",
      "Saved data for symbol IINN to C:/Users/atlas/OneDrive/Desktop/usstock/IINN.csv\n",
      "Saved data for symbol IINNW to C:/Users/atlas/OneDrive/Desktop/usstock/IINNW.csv\n",
      "Saved data for symbol IIPR to C:/Users/atlas/OneDrive/Desktop/usstock/IIPR.csv\n"
     ]
    },
    {
     "name": "stderr",
     "output_type": "stream",
     "text": [
      "\n",
      "1 Failed download:\n",
      "['IIPR^A']: Exception('%ticker%: No timezone found, symbol may be delisted')\n"
     ]
    },
    {
     "name": "stdout",
     "output_type": "stream",
     "text": [
      "Saved data for symbol IIPR^A to C:/Users/atlas/OneDrive/Desktop/usstock/IIPR^A.csv\n",
      "Saved data for symbol IKNA to C:/Users/atlas/OneDrive/Desktop/usstock/IKNA.csv\n",
      "Saved data for symbol IKT to C:/Users/atlas/OneDrive/Desktop/usstock/IKT.csv\n",
      "Saved data for symbol ILAG to C:/Users/atlas/OneDrive/Desktop/usstock/ILAG.csv\n",
      "Saved data for symbol ILMN to C:/Users/atlas/OneDrive/Desktop/usstock/ILMN.csv\n",
      "Saved data for symbol ILPT to C:/Users/atlas/OneDrive/Desktop/usstock/ILPT.csv\n",
      "Saved data for symbol IMAB to C:/Users/atlas/OneDrive/Desktop/usstock/IMAB.csv\n",
      "Saved data for symbol IMAQ to C:/Users/atlas/OneDrive/Desktop/usstock/IMAQ.csv\n"
     ]
    },
    {
     "name": "stderr",
     "output_type": "stream",
     "text": [
      "\n",
      "1 Failed download:\n",
      "['IMAQW']: Exception('%ticker%: 1d data not available for startTime=-14831751840 and endTime=1713529990. Only 100 years worth of day granularity data are allowed to be fetched per request.')\n"
     ]
    },
    {
     "name": "stdout",
     "output_type": "stream",
     "text": [
      "Saved data for symbol IMAQW to C:/Users/atlas/OneDrive/Desktop/usstock/IMAQW.csv\n",
      "Saved data for symbol IMAX to C:/Users/atlas/OneDrive/Desktop/usstock/IMAX.csv\n",
      "Saved data for symbol IMCC to C:/Users/atlas/OneDrive/Desktop/usstock/IMCC.csv\n",
      "Saved data for symbol IMCR to C:/Users/atlas/OneDrive/Desktop/usstock/IMCR.csv\n",
      "Saved data for symbol IMKTA to C:/Users/atlas/OneDrive/Desktop/usstock/IMKTA.csv\n",
      "Saved data for symbol IMMP to C:/Users/atlas/OneDrive/Desktop/usstock/IMMP.csv\n",
      "Saved data for symbol IMMR to C:/Users/atlas/OneDrive/Desktop/usstock/IMMR.csv\n",
      "Saved data for symbol IMMX to C:/Users/atlas/OneDrive/Desktop/usstock/IMMX.csv\n",
      "Saved data for symbol IMNM to C:/Users/atlas/OneDrive/Desktop/usstock/IMNM.csv\n",
      "Saved data for symbol IMNN to C:/Users/atlas/OneDrive/Desktop/usstock/IMNN.csv\n",
      "Saved data for symbol IMO to C:/Users/atlas/OneDrive/Desktop/usstock/IMO.csv\n",
      "Saved data for symbol IMOS to C:/Users/atlas/OneDrive/Desktop/usstock/IMOS.csv\n",
      "Saved data for symbol IMPP to C:/Users/atlas/OneDrive/Desktop/usstock/IMPP.csv\n",
      "Saved data for symbol IMPPP to C:/Users/atlas/OneDrive/Desktop/usstock/IMPPP.csv\n",
      "Saved data for symbol IMRN to C:/Users/atlas/OneDrive/Desktop/usstock/IMRN.csv\n",
      "Saved data for symbol IMRX to C:/Users/atlas/OneDrive/Desktop/usstock/IMRX.csv\n",
      "Saved data for symbol IMTE to C:/Users/atlas/OneDrive/Desktop/usstock/IMTE.csv\n",
      "Saved data for symbol IMTX to C:/Users/atlas/OneDrive/Desktop/usstock/IMTX.csv\n"
     ]
    },
    {
     "name": "stderr",
     "output_type": "stream",
     "text": [
      "\n",
      "1 Failed download:\n",
      "['IMTXW']: Exception('%ticker%: 1d data not available for startTime=-14831751840 and endTime=1713529998. Only 100 years worth of day granularity data are allowed to be fetched per request.')\n"
     ]
    },
    {
     "name": "stdout",
     "output_type": "stream",
     "text": [
      "Saved data for symbol IMTXW to C:/Users/atlas/OneDrive/Desktop/usstock/IMTXW.csv\n",
      "Saved data for symbol IMUX to C:/Users/atlas/OneDrive/Desktop/usstock/IMUX.csv\n",
      "Saved data for symbol IMVT to C:/Users/atlas/OneDrive/Desktop/usstock/IMVT.csv\n",
      "Saved data for symbol IMXI to C:/Users/atlas/OneDrive/Desktop/usstock/IMXI.csv\n",
      "Saved data for symbol INAB to C:/Users/atlas/OneDrive/Desktop/usstock/INAB.csv\n",
      "Saved data for symbol INAQ to C:/Users/atlas/OneDrive/Desktop/usstock/INAQ.csv\n",
      "Saved data for symbol INAQU to C:/Users/atlas/OneDrive/Desktop/usstock/INAQU.csv\n",
      "Saved data for symbol INAQW to C:/Users/atlas/OneDrive/Desktop/usstock/INAQW.csv\n",
      "Saved data for symbol INBK to C:/Users/atlas/OneDrive/Desktop/usstock/INBK.csv\n",
      "Saved data for symbol INBKZ to C:/Users/atlas/OneDrive/Desktop/usstock/INBKZ.csv\n",
      "Saved data for symbol INBS to C:/Users/atlas/OneDrive/Desktop/usstock/INBS.csv\n",
      "Saved data for symbol INBX to C:/Users/atlas/OneDrive/Desktop/usstock/INBX.csv\n",
      "Saved data for symbol INCR to C:/Users/atlas/OneDrive/Desktop/usstock/INCR.csv\n",
      "Saved data for symbol INCY to C:/Users/atlas/OneDrive/Desktop/usstock/INCY.csv\n",
      "Saved data for symbol INDB to C:/Users/atlas/OneDrive/Desktop/usstock/INDB.csv\n",
      "Saved data for symbol INDI to C:/Users/atlas/OneDrive/Desktop/usstock/INDI.csv\n",
      "Saved data for symbol INDO to C:/Users/atlas/OneDrive/Desktop/usstock/INDO.csv\n",
      "Saved data for symbol INDP to C:/Users/atlas/OneDrive/Desktop/usstock/INDP.csv\n",
      "Saved data for symbol INDV to C:/Users/atlas/OneDrive/Desktop/usstock/INDV.csv\n",
      "Saved data for symbol INFA to C:/Users/atlas/OneDrive/Desktop/usstock/INFA.csv\n",
      "Saved data for symbol INFN to C:/Users/atlas/OneDrive/Desktop/usstock/INFN.csv\n",
      "Saved data for symbol INFU to C:/Users/atlas/OneDrive/Desktop/usstock/INFU.csv\n",
      "Saved data for symbol INFY to C:/Users/atlas/OneDrive/Desktop/usstock/INFY.csv\n",
      "Saved data for symbol ING to C:/Users/atlas/OneDrive/Desktop/usstock/ING.csv\n",
      "Saved data for symbol INGN to C:/Users/atlas/OneDrive/Desktop/usstock/INGN.csv\n",
      "Saved data for symbol INGR to C:/Users/atlas/OneDrive/Desktop/usstock/INGR.csv\n",
      "Saved data for symbol INHD to C:/Users/atlas/OneDrive/Desktop/usstock/INHD.csv\n",
      "Saved data for symbol INKT to C:/Users/atlas/OneDrive/Desktop/usstock/INKT.csv\n",
      "Saved data for symbol INLX to C:/Users/atlas/OneDrive/Desktop/usstock/INLX.csv\n",
      "Saved data for symbol INM to C:/Users/atlas/OneDrive/Desktop/usstock/INM.csv\n",
      "Saved data for symbol INMB to C:/Users/atlas/OneDrive/Desktop/usstock/INMB.csv\n",
      "Saved data for symbol INMD to C:/Users/atlas/OneDrive/Desktop/usstock/INMD.csv\n",
      "Saved data for symbol INN to C:/Users/atlas/OneDrive/Desktop/usstock/INN.csv\n"
     ]
    },
    {
     "name": "stderr",
     "output_type": "stream",
     "text": [
      "\n",
      "1 Failed download:\n",
      "['INN^E']: Exception('%ticker%: No timezone found, symbol may be delisted')\n"
     ]
    },
    {
     "name": "stdout",
     "output_type": "stream",
     "text": [
      "Saved data for symbol INN^E to C:/Users/atlas/OneDrive/Desktop/usstock/INN^E.csv\n"
     ]
    },
    {
     "name": "stderr",
     "output_type": "stream",
     "text": [
      "\n",
      "1 Failed download:\n",
      "['INN^F']: Exception('%ticker%: No timezone found, symbol may be delisted')\n"
     ]
    },
    {
     "name": "stdout",
     "output_type": "stream",
     "text": [
      "Saved data for symbol INN^F to C:/Users/atlas/OneDrive/Desktop/usstock/INN^F.csv\n",
      "Saved data for symbol INNV to C:/Users/atlas/OneDrive/Desktop/usstock/INNV.csv\n",
      "Saved data for symbol INO to C:/Users/atlas/OneDrive/Desktop/usstock/INO.csv\n",
      "Saved data for symbol INOD to C:/Users/atlas/OneDrive/Desktop/usstock/INOD.csv\n",
      "Saved data for symbol INSE to C:/Users/atlas/OneDrive/Desktop/usstock/INSE.csv\n",
      "Saved data for symbol INSG to C:/Users/atlas/OneDrive/Desktop/usstock/INSG.csv\n",
      "Saved data for symbol INSI to C:/Users/atlas/OneDrive/Desktop/usstock/INSI.csv\n",
      "Saved data for symbol INSM to C:/Users/atlas/OneDrive/Desktop/usstock/INSM.csv\n",
      "Saved data for symbol INSP to C:/Users/atlas/OneDrive/Desktop/usstock/INSP.csv\n",
      "Saved data for symbol INST to C:/Users/atlas/OneDrive/Desktop/usstock/INST.csv\n",
      "Saved data for symbol INSW to C:/Users/atlas/OneDrive/Desktop/usstock/INSW.csv\n",
      "Saved data for symbol INTA to C:/Users/atlas/OneDrive/Desktop/usstock/INTA.csv\n",
      "Saved data for symbol INTC to C:/Users/atlas/OneDrive/Desktop/usstock/INTC.csv\n",
      "Saved data for symbol INTE to C:/Users/atlas/OneDrive/Desktop/usstock/INTE.csv\n"
     ]
    },
    {
     "name": "stderr",
     "output_type": "stream",
     "text": [
      "\n",
      "1 Failed download:\n",
      "['INTEW']: Exception('%ticker%: 1d data not available for startTime=-14831751840 and endTime=1713530019. Only 100 years worth of day granularity data are allowed to be fetched per request.')\n"
     ]
    },
    {
     "name": "stdout",
     "output_type": "stream",
     "text": [
      "Saved data for symbol INTEW to C:/Users/atlas/OneDrive/Desktop/usstock/INTEW.csv\n",
      "Saved data for symbol INTG to C:/Users/atlas/OneDrive/Desktop/usstock/INTG.csv\n",
      "Saved data for symbol INTJ to C:/Users/atlas/OneDrive/Desktop/usstock/INTJ.csv\n",
      "Saved data for symbol INTR to C:/Users/atlas/OneDrive/Desktop/usstock/INTR.csv\n",
      "Saved data for symbol INTS to C:/Users/atlas/OneDrive/Desktop/usstock/INTS.csv\n",
      "Saved data for symbol INTT to C:/Users/atlas/OneDrive/Desktop/usstock/INTT.csv\n",
      "Saved data for symbol INTU to C:/Users/atlas/OneDrive/Desktop/usstock/INTU.csv\n",
      "Saved data for symbol INTZ to C:/Users/atlas/OneDrive/Desktop/usstock/INTZ.csv\n",
      "Saved data for symbol INUV to C:/Users/atlas/OneDrive/Desktop/usstock/INUV.csv\n",
      "Saved data for symbol INVA to C:/Users/atlas/OneDrive/Desktop/usstock/INVA.csv\n",
      "Saved data for symbol INVE to C:/Users/atlas/OneDrive/Desktop/usstock/INVE.csv\n",
      "Saved data for symbol INVH to C:/Users/atlas/OneDrive/Desktop/usstock/INVH.csv\n",
      "Saved data for symbol INVO to C:/Users/atlas/OneDrive/Desktop/usstock/INVO.csv\n",
      "Saved data for symbol INVZ to C:/Users/atlas/OneDrive/Desktop/usstock/INVZ.csv\n"
     ]
    },
    {
     "name": "stderr",
     "output_type": "stream",
     "text": [
      "\n",
      "1 Failed download:\n",
      "['INVZW']: Exception('%ticker%: 1d data not available for startTime=-14831751840 and endTime=1713530026. Only 100 years worth of day granularity data are allowed to be fetched per request.')\n"
     ]
    },
    {
     "name": "stdout",
     "output_type": "stream",
     "text": [
      "Saved data for symbol INVZW to C:/Users/atlas/OneDrive/Desktop/usstock/INVZW.csv\n",
      "Saved data for symbol INZY to C:/Users/atlas/OneDrive/Desktop/usstock/INZY.csv\n",
      "Saved data for symbol IOBT to C:/Users/atlas/OneDrive/Desktop/usstock/IOBT.csv\n",
      "Saved data for symbol IONM to C:/Users/atlas/OneDrive/Desktop/usstock/IONM.csv\n",
      "Saved data for symbol IONQ to C:/Users/atlas/OneDrive/Desktop/usstock/IONQ.csv\n",
      "Saved data for symbol IONR to C:/Users/atlas/OneDrive/Desktop/usstock/IONR.csv\n",
      "Saved data for symbol IONS to C:/Users/atlas/OneDrive/Desktop/usstock/IONS.csv\n",
      "Saved data for symbol IOR to C:/Users/atlas/OneDrive/Desktop/usstock/IOR.csv\n",
      "Saved data for symbol IOSP to C:/Users/atlas/OneDrive/Desktop/usstock/IOSP.csv\n",
      "Saved data for symbol IOT to C:/Users/atlas/OneDrive/Desktop/usstock/IOT.csv\n",
      "Saved data for symbol IOVA to C:/Users/atlas/OneDrive/Desktop/usstock/IOVA.csv\n",
      "Saved data for symbol IP to C:/Users/atlas/OneDrive/Desktop/usstock/IP.csv\n",
      "Saved data for symbol IPA to C:/Users/atlas/OneDrive/Desktop/usstock/IPA.csv\n",
      "Saved data for symbol IPAR to C:/Users/atlas/OneDrive/Desktop/usstock/IPAR.csv\n",
      "Saved data for symbol IPDN to C:/Users/atlas/OneDrive/Desktop/usstock/IPDN.csv\n",
      "Saved data for symbol IPG to C:/Users/atlas/OneDrive/Desktop/usstock/IPG.csv\n",
      "Saved data for symbol IPGP to C:/Users/atlas/OneDrive/Desktop/usstock/IPGP.csv\n",
      "Saved data for symbol IPHA to C:/Users/atlas/OneDrive/Desktop/usstock/IPHA.csv\n",
      "Saved data for symbol IPI to C:/Users/atlas/OneDrive/Desktop/usstock/IPI.csv\n",
      "Saved data for symbol IPSC to C:/Users/atlas/OneDrive/Desktop/usstock/IPSC.csv\n",
      "Saved data for symbol IPW to C:/Users/atlas/OneDrive/Desktop/usstock/IPW.csv\n",
      "Saved data for symbol IPWR to C:/Users/atlas/OneDrive/Desktop/usstock/IPWR.csv\n",
      "Saved data for symbol IPX to C:/Users/atlas/OneDrive/Desktop/usstock/IPX.csv\n",
      "Saved data for symbol IPXX to C:/Users/atlas/OneDrive/Desktop/usstock/IPXX.csv\n",
      "Saved data for symbol IPXXU to C:/Users/atlas/OneDrive/Desktop/usstock/IPXXU.csv\n"
     ]
    },
    {
     "name": "stderr",
     "output_type": "stream",
     "text": [
      "\n",
      "1 Failed download:\n",
      "['IPXXW']: Exception('%ticker%: 1d data not available for startTime=-14831751840 and endTime=1713530038. Only 100 years worth of day granularity data are allowed to be fetched per request.')\n"
     ]
    },
    {
     "name": "stdout",
     "output_type": "stream",
     "text": [
      "Saved data for symbol IPXXW to C:/Users/atlas/OneDrive/Desktop/usstock/IPXXW.csv\n",
      "Saved data for symbol IQ to C:/Users/atlas/OneDrive/Desktop/usstock/IQ.csv\n",
      "Saved data for symbol IQI to C:/Users/atlas/OneDrive/Desktop/usstock/IQI.csv\n",
      "Saved data for symbol IQV to C:/Users/atlas/OneDrive/Desktop/usstock/IQV.csv\n",
      "Saved data for symbol IR to C:/Users/atlas/OneDrive/Desktop/usstock/IR.csv\n",
      "Saved data for symbol IRAA to C:/Users/atlas/OneDrive/Desktop/usstock/IRAA.csv\n"
     ]
    },
    {
     "name": "stderr",
     "output_type": "stream",
     "text": [
      "\n",
      "1 Failed download:\n",
      "['IRAAW']: Exception('%ticker%: 1d data not available for startTime=-14831751840 and endTime=1713530042. Only 100 years worth of day granularity data are allowed to be fetched per request.')\n"
     ]
    },
    {
     "name": "stdout",
     "output_type": "stream",
     "text": [
      "Saved data for symbol IRAAW to C:/Users/atlas/OneDrive/Desktop/usstock/IRAAW.csv\n",
      "Saved data for symbol IRBT to C:/Users/atlas/OneDrive/Desktop/usstock/IRBT.csv\n",
      "Saved data for symbol IRDM to C:/Users/atlas/OneDrive/Desktop/usstock/IRDM.csv\n",
      "Saved data for symbol IREN to C:/Users/atlas/OneDrive/Desktop/usstock/IREN.csv\n",
      "Saved data for symbol IRIX to C:/Users/atlas/OneDrive/Desktop/usstock/IRIX.csv\n",
      "Saved data for symbol IRM to C:/Users/atlas/OneDrive/Desktop/usstock/IRM.csv\n",
      "Saved data for symbol IRMD to C:/Users/atlas/OneDrive/Desktop/usstock/IRMD.csv\n",
      "Saved data for symbol IROH to C:/Users/atlas/OneDrive/Desktop/usstock/IROH.csv\n"
     ]
    },
    {
     "name": "stderr",
     "output_type": "stream",
     "text": [
      "\n",
      "1 Failed download:\n",
      "['IROHR']: Exception('%ticker%: 1d data not available for startTime=-14831751840 and endTime=1713530047. Only 100 years worth of day granularity data are allowed to be fetched per request.')\n"
     ]
    },
    {
     "name": "stdout",
     "output_type": "stream",
     "text": [
      "Saved data for symbol IROHR to C:/Users/atlas/OneDrive/Desktop/usstock/IROHR.csv\n",
      "Saved data for symbol IROHU to C:/Users/atlas/OneDrive/Desktop/usstock/IROHU.csv\n"
     ]
    },
    {
     "name": "stderr",
     "output_type": "stream",
     "text": [
      "\n",
      "1 Failed download:\n",
      "['IROHW']: Exception('%ticker%: 1d data not available for startTime=-14831751840 and endTime=1713530050. Only 100 years worth of day granularity data are allowed to be fetched per request.')\n"
     ]
    },
    {
     "name": "stdout",
     "output_type": "stream",
     "text": [
      "Saved data for symbol IROHW to C:/Users/atlas/OneDrive/Desktop/usstock/IROHW.csv\n",
      "Saved data for symbol IRON to C:/Users/atlas/OneDrive/Desktop/usstock/IRON.csv\n",
      "Saved data for symbol IROQ to C:/Users/atlas/OneDrive/Desktop/usstock/IROQ.csv\n",
      "Saved data for symbol IRS to C:/Users/atlas/OneDrive/Desktop/usstock/IRS.csv\n",
      "Saved data for symbol IRT to C:/Users/atlas/OneDrive/Desktop/usstock/IRT.csv\n",
      "Saved data for symbol IRTC to C:/Users/atlas/OneDrive/Desktop/usstock/IRTC.csv\n",
      "Saved data for symbol IRWD to C:/Users/atlas/OneDrive/Desktop/usstock/IRWD.csv\n",
      "Saved data for symbol ISD to C:/Users/atlas/OneDrive/Desktop/usstock/ISD.csv\n",
      "Saved data for symbol ISDR to C:/Users/atlas/OneDrive/Desktop/usstock/ISDR.csv\n",
      "Saved data for symbol ISPC to C:/Users/atlas/OneDrive/Desktop/usstock/ISPC.csv\n",
      "Saved data for symbol ISPO to C:/Users/atlas/OneDrive/Desktop/usstock/ISPO.csv\n",
      "Saved data for symbol ISPOW to C:/Users/atlas/OneDrive/Desktop/usstock/ISPOW.csv\n",
      "Saved data for symbol ISPR to C:/Users/atlas/OneDrive/Desktop/usstock/ISPR.csv\n",
      "Saved data for symbol ISRG to C:/Users/atlas/OneDrive/Desktop/usstock/ISRG.csv\n",
      "Saved data for symbol ISRL to C:/Users/atlas/OneDrive/Desktop/usstock/ISRL.csv\n",
      "Saved data for symbol ISRLU to C:/Users/atlas/OneDrive/Desktop/usstock/ISRLU.csv\n"
     ]
    },
    {
     "name": "stderr",
     "output_type": "stream",
     "text": [
      "\n",
      "1 Failed download:\n",
      "['ISRLW']: Exception('%ticker%: 1d data not available for startTime=-14831751840 and endTime=1713530057. Only 100 years worth of day granularity data are allowed to be fetched per request.')\n"
     ]
    },
    {
     "name": "stdout",
     "output_type": "stream",
     "text": [
      "Saved data for symbol ISRLW to C:/Users/atlas/OneDrive/Desktop/usstock/ISRLW.csv\n",
      "Saved data for symbol ISSC to C:/Users/atlas/OneDrive/Desktop/usstock/ISSC.csv\n",
      "Saved data for symbol ISTR to C:/Users/atlas/OneDrive/Desktop/usstock/ISTR.csv\n",
      "Saved data for symbol ISUN to C:/Users/atlas/OneDrive/Desktop/usstock/ISUN.csv\n",
      "Saved data for symbol IT to C:/Users/atlas/OneDrive/Desktop/usstock/IT.csv\n",
      "Saved data for symbol ITCI to C:/Users/atlas/OneDrive/Desktop/usstock/ITCI.csv\n",
      "Saved data for symbol ITGR to C:/Users/atlas/OneDrive/Desktop/usstock/ITGR.csv\n",
      "Saved data for symbol ITI to C:/Users/atlas/OneDrive/Desktop/usstock/ITI.csv\n",
      "Saved data for symbol ITIC to C:/Users/atlas/OneDrive/Desktop/usstock/ITIC.csv\n",
      "Saved data for symbol ITOS to C:/Users/atlas/OneDrive/Desktop/usstock/ITOS.csv\n",
      "Saved data for symbol ITP to C:/Users/atlas/OneDrive/Desktop/usstock/ITP.csv\n",
      "Saved data for symbol ITRG to C:/Users/atlas/OneDrive/Desktop/usstock/ITRG.csv\n",
      "Saved data for symbol ITRI to C:/Users/atlas/OneDrive/Desktop/usstock/ITRI.csv\n",
      "Saved data for symbol ITRM to C:/Users/atlas/OneDrive/Desktop/usstock/ITRM.csv\n",
      "Saved data for symbol ITRN to C:/Users/atlas/OneDrive/Desktop/usstock/ITRN.csv\n",
      "Saved data for symbol ITT to C:/Users/atlas/OneDrive/Desktop/usstock/ITT.csv\n",
      "Saved data for symbol ITUB to C:/Users/atlas/OneDrive/Desktop/usstock/ITUB.csv\n",
      "Saved data for symbol ITW to C:/Users/atlas/OneDrive/Desktop/usstock/ITW.csv\n",
      "Saved data for symbol IVA to C:/Users/atlas/OneDrive/Desktop/usstock/IVA.csv\n",
      "Saved data for symbol IVAC to C:/Users/atlas/OneDrive/Desktop/usstock/IVAC.csv\n",
      "Saved data for symbol IVCA to C:/Users/atlas/OneDrive/Desktop/usstock/IVCA.csv\n"
     ]
    },
    {
     "name": "stderr",
     "output_type": "stream",
     "text": [
      "\n",
      "1 Failed download:\n",
      "['IVCAW']: Exception('%ticker%: 1d data not available for startTime=-14831751840 and endTime=1713530067. Only 100 years worth of day granularity data are allowed to be fetched per request.')\n"
     ]
    },
    {
     "name": "stdout",
     "output_type": "stream",
     "text": [
      "Saved data for symbol IVCAW to C:/Users/atlas/OneDrive/Desktop/usstock/IVCAW.csv\n",
      "Saved data for symbol IVCB to C:/Users/atlas/OneDrive/Desktop/usstock/IVCB.csv\n",
      "Saved data for symbol IVCP to C:/Users/atlas/OneDrive/Desktop/usstock/IVCP.csv\n",
      "Saved data for symbol IVCPU to C:/Users/atlas/OneDrive/Desktop/usstock/IVCPU.csv\n"
     ]
    },
    {
     "name": "stderr",
     "output_type": "stream",
     "text": [
      "\n",
      "1 Failed download:\n",
      "['IVCPW']: Exception('%ticker%: 1d data not available for startTime=-14831751840 and endTime=1713530070. Only 100 years worth of day granularity data are allowed to be fetched per request.')\n"
     ]
    },
    {
     "name": "stdout",
     "output_type": "stream",
     "text": [
      "Saved data for symbol IVCPW to C:/Users/atlas/OneDrive/Desktop/usstock/IVCPW.csv\n",
      "Saved data for symbol IVDA to C:/Users/atlas/OneDrive/Desktop/usstock/IVDA.csv\n"
     ]
    },
    {
     "name": "stderr",
     "output_type": "stream",
     "text": [
      "\n",
      "1 Failed download:\n",
      "['IVDAW']: Exception('%ticker%: 1d data not available for startTime=-14831751840 and endTime=1713530074. Only 100 years worth of day granularity data are allowed to be fetched per request.')\n"
     ]
    },
    {
     "name": "stdout",
     "output_type": "stream",
     "text": [
      "Saved data for symbol IVDAW to C:/Users/atlas/OneDrive/Desktop/usstock/IVDAW.csv\n",
      "Saved data for symbol IVP to C:/Users/atlas/OneDrive/Desktop/usstock/IVP.csv\n",
      "Saved data for symbol IVR to C:/Users/atlas/OneDrive/Desktop/usstock/IVR.csv\n"
     ]
    },
    {
     "name": "stderr",
     "output_type": "stream",
     "text": [
      "\n",
      "1 Failed download:\n",
      "['IVR^B']: Exception('%ticker%: No timezone found, symbol may be delisted')\n"
     ]
    },
    {
     "name": "stdout",
     "output_type": "stream",
     "text": [
      "Saved data for symbol IVR^B to C:/Users/atlas/OneDrive/Desktop/usstock/IVR^B.csv\n"
     ]
    },
    {
     "name": "stderr",
     "output_type": "stream",
     "text": [
      "\n",
      "1 Failed download:\n",
      "['IVR^C']: Exception('%ticker%: No timezone found, symbol may be delisted')\n"
     ]
    },
    {
     "name": "stdout",
     "output_type": "stream",
     "text": [
      "Saved data for symbol IVR^C to C:/Users/atlas/OneDrive/Desktop/usstock/IVR^C.csv\n",
      "Saved data for symbol IVT to C:/Users/atlas/OneDrive/Desktop/usstock/IVT.csv\n",
      "Saved data for symbol IVVD to C:/Users/atlas/OneDrive/Desktop/usstock/IVVD.csv\n",
      "Saved data for symbol IVZ to C:/Users/atlas/OneDrive/Desktop/usstock/IVZ.csv\n",
      "Saved data for symbol IX to C:/Users/atlas/OneDrive/Desktop/usstock/IX.csv\n",
      "Saved data for symbol IXAQ to C:/Users/atlas/OneDrive/Desktop/usstock/IXAQ.csv\n"
     ]
    },
    {
     "name": "stderr",
     "output_type": "stream",
     "text": [
      "\n",
      "1 Failed download:\n",
      "['IXAQW']: Exception('%ticker%: 1d data not available for startTime=-14831751840 and endTime=1713530084. Only 100 years worth of day granularity data are allowed to be fetched per request.')\n"
     ]
    },
    {
     "name": "stdout",
     "output_type": "stream",
     "text": [
      "Saved data for symbol IXAQW to C:/Users/atlas/OneDrive/Desktop/usstock/IXAQW.csv\n",
      "Saved data for symbol IXHL to C:/Users/atlas/OneDrive/Desktop/usstock/IXHL.csv\n",
      "Saved data for symbol IZEA to C:/Users/atlas/OneDrive/Desktop/usstock/IZEA.csv\n",
      "Saved data for symbol IZM to C:/Users/atlas/OneDrive/Desktop/usstock/IZM.csv\n",
      "Saved data for symbol J to C:/Users/atlas/OneDrive/Desktop/usstock/J.csv\n",
      "Saved data for symbol JACK to C:/Users/atlas/OneDrive/Desktop/usstock/JACK.csv\n",
      "Saved data for symbol JAGX to C:/Users/atlas/OneDrive/Desktop/usstock/JAGX.csv\n",
      "Saved data for symbol JAKK to C:/Users/atlas/OneDrive/Desktop/usstock/JAKK.csv\n",
      "Saved data for symbol JAMF to C:/Users/atlas/OneDrive/Desktop/usstock/JAMF.csv\n",
      "Saved data for symbol JAN to C:/Users/atlas/OneDrive/Desktop/usstock/JAN.csv\n",
      "Saved data for symbol JANX to C:/Users/atlas/OneDrive/Desktop/usstock/JANX.csv\n",
      "Saved data for symbol JAZZ to C:/Users/atlas/OneDrive/Desktop/usstock/JAZZ.csv\n",
      "Saved data for symbol JBGS to C:/Users/atlas/OneDrive/Desktop/usstock/JBGS.csv\n",
      "Saved data for symbol JBHT to C:/Users/atlas/OneDrive/Desktop/usstock/JBHT.csv\n",
      "Saved data for symbol JBI to C:/Users/atlas/OneDrive/Desktop/usstock/JBI.csv\n",
      "Saved data for symbol JBK to C:/Users/atlas/OneDrive/Desktop/usstock/JBK.csv\n",
      "Saved data for symbol JBL to C:/Users/atlas/OneDrive/Desktop/usstock/JBL.csv\n",
      "Saved data for symbol JBLU to C:/Users/atlas/OneDrive/Desktop/usstock/JBLU.csv\n",
      "Saved data for symbol JBSS to C:/Users/atlas/OneDrive/Desktop/usstock/JBSS.csv\n",
      "Saved data for symbol JBT to C:/Users/atlas/OneDrive/Desktop/usstock/JBT.csv\n",
      "Saved data for symbol JCE to C:/Users/atlas/OneDrive/Desktop/usstock/JCE.csv\n",
      "Saved data for symbol JCI to C:/Users/atlas/OneDrive/Desktop/usstock/JCI.csv\n",
      "Saved data for symbol JCSE to C:/Users/atlas/OneDrive/Desktop/usstock/JCSE.csv\n",
      "Saved data for symbol JCTCF to C:/Users/atlas/OneDrive/Desktop/usstock/JCTCF.csv\n",
      "Saved data for symbol JD to C:/Users/atlas/OneDrive/Desktop/usstock/JD.csv\n",
      "Saved data for symbol JEF to C:/Users/atlas/OneDrive/Desktop/usstock/JEF.csv\n",
      "Saved data for symbol JELD to C:/Users/atlas/OneDrive/Desktop/usstock/JELD.csv\n",
      "Saved data for symbol JEQ to C:/Users/atlas/OneDrive/Desktop/usstock/JEQ.csv\n",
      "Saved data for symbol JEWL to C:/Users/atlas/OneDrive/Desktop/usstock/JEWL.csv\n",
      "Saved data for symbol JFBR to C:/Users/atlas/OneDrive/Desktop/usstock/JFBR.csv\n",
      "Saved data for symbol JFIN to C:/Users/atlas/OneDrive/Desktop/usstock/JFIN.csv\n",
      "Saved data for symbol JFR to C:/Users/atlas/OneDrive/Desktop/usstock/JFR.csv\n",
      "Saved data for symbol JFU to C:/Users/atlas/OneDrive/Desktop/usstock/JFU.csv\n",
      "Saved data for symbol JG to C:/Users/atlas/OneDrive/Desktop/usstock/JG.csv\n",
      "Saved data for symbol JGH to C:/Users/atlas/OneDrive/Desktop/usstock/JGH.csv\n",
      "Saved data for symbol JHG to C:/Users/atlas/OneDrive/Desktop/usstock/JHG.csv\n",
      "Saved data for symbol JHI to C:/Users/atlas/OneDrive/Desktop/usstock/JHI.csv\n",
      "Saved data for symbol JHS to C:/Users/atlas/OneDrive/Desktop/usstock/JHS.csv\n",
      "Saved data for symbol JHX to C:/Users/atlas/OneDrive/Desktop/usstock/JHX.csv\n",
      "Saved data for symbol JILL to C:/Users/atlas/OneDrive/Desktop/usstock/JILL.csv\n",
      "Saved data for symbol JJSF to C:/Users/atlas/OneDrive/Desktop/usstock/JJSF.csv\n",
      "Saved data for symbol JKHY to C:/Users/atlas/OneDrive/Desktop/usstock/JKHY.csv\n",
      "Saved data for symbol JKS to C:/Users/atlas/OneDrive/Desktop/usstock/JKS.csv\n",
      "Saved data for symbol JL to C:/Users/atlas/OneDrive/Desktop/usstock/JL.csv\n",
      "Saved data for symbol JLL to C:/Users/atlas/OneDrive/Desktop/usstock/JLL.csv\n",
      "Saved data for symbol JLS to C:/Users/atlas/OneDrive/Desktop/usstock/JLS.csv\n",
      "Saved data for symbol JMIA to C:/Users/atlas/OneDrive/Desktop/usstock/JMIA.csv\n",
      "Saved data for symbol JMM to C:/Users/atlas/OneDrive/Desktop/usstock/JMM.csv\n",
      "Saved data for symbol JMSB to C:/Users/atlas/OneDrive/Desktop/usstock/JMSB.csv\n",
      "Saved data for symbol JNJ to C:/Users/atlas/OneDrive/Desktop/usstock/JNJ.csv\n",
      "Saved data for symbol JNPR to C:/Users/atlas/OneDrive/Desktop/usstock/JNPR.csv\n",
      "Saved data for symbol JNVR to C:/Users/atlas/OneDrive/Desktop/usstock/JNVR.csv\n",
      "Saved data for symbol JOB to C:/Users/atlas/OneDrive/Desktop/usstock/JOB.csv\n",
      "Saved data for symbol JOBY to C:/Users/atlas/OneDrive/Desktop/usstock/JOBY.csv\n",
      "Saved data for symbol JOE to C:/Users/atlas/OneDrive/Desktop/usstock/JOE.csv\n",
      "Saved data for symbol JOF to C:/Users/atlas/OneDrive/Desktop/usstock/JOF.csv\n",
      "Saved data for symbol JOUT to C:/Users/atlas/OneDrive/Desktop/usstock/JOUT.csv\n",
      "Saved data for symbol JPC to C:/Users/atlas/OneDrive/Desktop/usstock/JPC.csv\n",
      "Saved data for symbol JPI to C:/Users/atlas/OneDrive/Desktop/usstock/JPI.csv\n",
      "Saved data for symbol JPM to C:/Users/atlas/OneDrive/Desktop/usstock/JPM.csv\n"
     ]
    },
    {
     "name": "stderr",
     "output_type": "stream",
     "text": [
      "\n",
      "1 Failed download:\n",
      "['JPM^C']: Exception('%ticker%: No timezone found, symbol may be delisted')\n"
     ]
    },
    {
     "name": "stdout",
     "output_type": "stream",
     "text": [
      "Saved data for symbol JPM^C to C:/Users/atlas/OneDrive/Desktop/usstock/JPM^C.csv\n"
     ]
    },
    {
     "name": "stderr",
     "output_type": "stream",
     "text": [
      "\n",
      "1 Failed download:\n",
      "['JPM^D']: Exception('%ticker%: No timezone found, symbol may be delisted')\n"
     ]
    },
    {
     "name": "stdout",
     "output_type": "stream",
     "text": [
      "Saved data for symbol JPM^D to C:/Users/atlas/OneDrive/Desktop/usstock/JPM^D.csv\n"
     ]
    },
    {
     "name": "stderr",
     "output_type": "stream",
     "text": [
      "\n",
      "1 Failed download:\n",
      "['JPM^J']: Exception('%ticker%: No timezone found, symbol may be delisted')\n"
     ]
    },
    {
     "name": "stdout",
     "output_type": "stream",
     "text": [
      "Saved data for symbol JPM^J to C:/Users/atlas/OneDrive/Desktop/usstock/JPM^J.csv\n"
     ]
    },
    {
     "name": "stderr",
     "output_type": "stream",
     "text": [
      "\n",
      "1 Failed download:\n",
      "['JPM^K']: Exception('%ticker%: No timezone found, symbol may be delisted')\n"
     ]
    },
    {
     "name": "stdout",
     "output_type": "stream",
     "text": [
      "Saved data for symbol JPM^K to C:/Users/atlas/OneDrive/Desktop/usstock/JPM^K.csv\n"
     ]
    },
    {
     "name": "stderr",
     "output_type": "stream",
     "text": [
      "\n",
      "1 Failed download:\n",
      "['JPM^L']: Exception('%ticker%: No timezone found, symbol may be delisted')\n"
     ]
    },
    {
     "name": "stdout",
     "output_type": "stream",
     "text": [
      "Saved data for symbol JPM^L to C:/Users/atlas/OneDrive/Desktop/usstock/JPM^L.csv\n"
     ]
    },
    {
     "name": "stderr",
     "output_type": "stream",
     "text": [
      "\n",
      "1 Failed download:\n",
      "['JPM^M']: Exception('%ticker%: No timezone found, symbol may be delisted')\n"
     ]
    },
    {
     "name": "stdout",
     "output_type": "stream",
     "text": [
      "Saved data for symbol JPM^M to C:/Users/atlas/OneDrive/Desktop/usstock/JPM^M.csv\n",
      "Saved data for symbol JQC to C:/Users/atlas/OneDrive/Desktop/usstock/JQC.csv\n",
      "Saved data for symbol JRI to C:/Users/atlas/OneDrive/Desktop/usstock/JRI.csv\n",
      "Saved data for symbol JRS to C:/Users/atlas/OneDrive/Desktop/usstock/JRS.csv\n",
      "Saved data for symbol JRSH to C:/Users/atlas/OneDrive/Desktop/usstock/JRSH.csv\n",
      "Saved data for symbol JRVR to C:/Users/atlas/OneDrive/Desktop/usstock/JRVR.csv\n",
      "Saved data for symbol JSM to C:/Users/atlas/OneDrive/Desktop/usstock/JSM.csv\n",
      "Saved data for symbol JSPR to C:/Users/atlas/OneDrive/Desktop/usstock/JSPR.csv\n"
     ]
    },
    {
     "name": "stderr",
     "output_type": "stream",
     "text": [
      "\n",
      "1 Failed download:\n",
      "['JSPRW']: Exception('%ticker%: 1d data not available for startTime=-14831751840 and endTime=1713530131. Only 100 years worth of day granularity data are allowed to be fetched per request.')\n"
     ]
    },
    {
     "name": "stdout",
     "output_type": "stream",
     "text": [
      "Saved data for symbol JSPRW to C:/Users/atlas/OneDrive/Desktop/usstock/JSPRW.csv\n",
      "Saved data for symbol JTAI to C:/Users/atlas/OneDrive/Desktop/usstock/JTAI.csv\n"
     ]
    },
    {
     "name": "stderr",
     "output_type": "stream",
     "text": [
      "\n",
      "1 Failed download:\n",
      "['JTAIW']: Exception('%ticker%: 1d data not available for startTime=-14831751840 and endTime=1713530133. Only 100 years worth of day granularity data are allowed to be fetched per request.')\n"
     ]
    },
    {
     "name": "stdout",
     "output_type": "stream",
     "text": [
      "Saved data for symbol JTAIW to C:/Users/atlas/OneDrive/Desktop/usstock/JTAIW.csv\n",
      "Saved data for symbol JTAIZ to C:/Users/atlas/OneDrive/Desktop/usstock/JTAIZ.csv\n",
      "Saved data for symbol JUNE to C:/Users/atlas/OneDrive/Desktop/usstock/JUNE.csv\n",
      "Saved data for symbol JVA to C:/Users/atlas/OneDrive/Desktop/usstock/JVA.csv\n",
      "Saved data for symbol JVSA to C:/Users/atlas/OneDrive/Desktop/usstock/JVSA.csv\n"
     ]
    },
    {
     "name": "stderr",
     "output_type": "stream",
     "text": [
      "\n",
      "1 Failed download:\n",
      "['JVSAR']: Exception('%ticker%: 1d data not available for startTime=-14831751840 and endTime=1713530136. Only 100 years worth of day granularity data are allowed to be fetched per request.')\n"
     ]
    },
    {
     "name": "stdout",
     "output_type": "stream",
     "text": [
      "Saved data for symbol JVSAR to C:/Users/atlas/OneDrive/Desktop/usstock/JVSAR.csv\n",
      "Saved data for symbol JVSAU to C:/Users/atlas/OneDrive/Desktop/usstock/JVSAU.csv\n",
      "Saved data for symbol JWEL to C:/Users/atlas/OneDrive/Desktop/usstock/JWEL.csv\n",
      "Saved data for symbol JWN to C:/Users/atlas/OneDrive/Desktop/usstock/JWN.csv\n",
      "Saved data for symbol JWSM to C:/Users/atlas/OneDrive/Desktop/usstock/JWSM.csv\n",
      "Saved data for symbol JXJT to C:/Users/atlas/OneDrive/Desktop/usstock/JXJT.csv\n",
      "Saved data for symbol JXN to C:/Users/atlas/OneDrive/Desktop/usstock/JXN.csv\n"
     ]
    },
    {
     "name": "stderr",
     "output_type": "stream",
     "text": [
      "\n",
      "1 Failed download:\n",
      "['JXN^A']: Exception('%ticker%: No timezone found, symbol may be delisted')\n"
     ]
    },
    {
     "name": "stdout",
     "output_type": "stream",
     "text": [
      "Saved data for symbol JXN^A to C:/Users/atlas/OneDrive/Desktop/usstock/JXN^A.csv\n",
      "Saved data for symbol JYD to C:/Users/atlas/OneDrive/Desktop/usstock/JYD.csv\n",
      "Saved data for symbol JYNT to C:/Users/atlas/OneDrive/Desktop/usstock/JYNT.csv\n",
      "Saved data for symbol JZ to C:/Users/atlas/OneDrive/Desktop/usstock/JZ.csv\n",
      "Saved data for symbol JZXN to C:/Users/atlas/OneDrive/Desktop/usstock/JZXN.csv\n",
      "Saved data for symbol K to C:/Users/atlas/OneDrive/Desktop/usstock/K.csv\n",
      "Saved data for symbol KA to C:/Users/atlas/OneDrive/Desktop/usstock/KA.csv\n",
      "Saved data for symbol KACL to C:/Users/atlas/OneDrive/Desktop/usstock/KACL.csv\n",
      "Saved data for symbol KAI to C:/Users/atlas/OneDrive/Desktop/usstock/KAI.csv\n",
      "Saved data for symbol KALA to C:/Users/atlas/OneDrive/Desktop/usstock/KALA.csv\n",
      "Saved data for symbol KALU to C:/Users/atlas/OneDrive/Desktop/usstock/KALU.csv\n",
      "Saved data for symbol KALV to C:/Users/atlas/OneDrive/Desktop/usstock/KALV.csv\n",
      "Saved data for symbol KAMN to C:/Users/atlas/OneDrive/Desktop/usstock/KAMN.csv\n",
      "Saved data for symbol KAR to C:/Users/atlas/OneDrive/Desktop/usstock/KAR.csv\n",
      "Saved data for symbol KARO to C:/Users/atlas/OneDrive/Desktop/usstock/KARO.csv\n",
      "Saved data for symbol KAVL to C:/Users/atlas/OneDrive/Desktop/usstock/KAVL.csv\n",
      "Saved data for symbol KB to C:/Users/atlas/OneDrive/Desktop/usstock/KB.csv\n",
      "Saved data for symbol KBH to C:/Users/atlas/OneDrive/Desktop/usstock/KBH.csv\n",
      "Saved data for symbol KBR to C:/Users/atlas/OneDrive/Desktop/usstock/KBR.csv\n",
      "Saved data for symbol KC to C:/Users/atlas/OneDrive/Desktop/usstock/KC.csv\n",
      "Saved data for symbol KCGI to C:/Users/atlas/OneDrive/Desktop/usstock/KCGI.csv\n",
      "Saved data for symbol KD to C:/Users/atlas/OneDrive/Desktop/usstock/KD.csv\n",
      "Saved data for symbol KDP to C:/Users/atlas/OneDrive/Desktop/usstock/KDP.csv\n",
      "Saved data for symbol KE to C:/Users/atlas/OneDrive/Desktop/usstock/KE.csv\n",
      "Saved data for symbol KELYA to C:/Users/atlas/OneDrive/Desktop/usstock/KELYA.csv\n",
      "Saved data for symbol KELYB to C:/Users/atlas/OneDrive/Desktop/usstock/KELYB.csv\n",
      "Saved data for symbol KEN to C:/Users/atlas/OneDrive/Desktop/usstock/KEN.csv\n",
      "Saved data for symbol KEP to C:/Users/atlas/OneDrive/Desktop/usstock/KEP.csv\n",
      "Saved data for symbol KEQU to C:/Users/atlas/OneDrive/Desktop/usstock/KEQU.csv\n",
      "Saved data for symbol KEX to C:/Users/atlas/OneDrive/Desktop/usstock/KEX.csv\n",
      "Saved data for symbol KEY to C:/Users/atlas/OneDrive/Desktop/usstock/KEY.csv\n"
     ]
    },
    {
     "name": "stderr",
     "output_type": "stream",
     "text": [
      "\n",
      "1 Failed download:\n",
      "['KEY^I']: Exception('%ticker%: No timezone found, symbol may be delisted')\n"
     ]
    },
    {
     "name": "stdout",
     "output_type": "stream",
     "text": [
      "Saved data for symbol KEY^I to C:/Users/atlas/OneDrive/Desktop/usstock/KEY^I.csv\n"
     ]
    },
    {
     "name": "stderr",
     "output_type": "stream",
     "text": [
      "\n",
      "1 Failed download:\n",
      "['KEY^J']: Exception('%ticker%: No timezone found, symbol may be delisted')\n"
     ]
    },
    {
     "name": "stdout",
     "output_type": "stream",
     "text": [
      "Saved data for symbol KEY^J to C:/Users/atlas/OneDrive/Desktop/usstock/KEY^J.csv\n"
     ]
    },
    {
     "name": "stderr",
     "output_type": "stream",
     "text": [
      "\n",
      "1 Failed download:\n",
      "['KEY^K']: Exception('%ticker%: No timezone found, symbol may be delisted')\n"
     ]
    },
    {
     "name": "stdout",
     "output_type": "stream",
     "text": [
      "Saved data for symbol KEY^K to C:/Users/atlas/OneDrive/Desktop/usstock/KEY^K.csv\n"
     ]
    },
    {
     "name": "stderr",
     "output_type": "stream",
     "text": [
      "\n",
      "1 Failed download:\n",
      "['KEY^L']: Exception('%ticker%: No timezone found, symbol may be delisted')\n"
     ]
    },
    {
     "name": "stdout",
     "output_type": "stream",
     "text": [
      "Saved data for symbol KEY^L to C:/Users/atlas/OneDrive/Desktop/usstock/KEY^L.csv\n",
      "Saved data for symbol KEYS to C:/Users/atlas/OneDrive/Desktop/usstock/KEYS.csv\n",
      "Saved data for symbol KF to C:/Users/atlas/OneDrive/Desktop/usstock/KF.csv\n",
      "Saved data for symbol KFFB to C:/Users/atlas/OneDrive/Desktop/usstock/KFFB.csv\n",
      "Saved data for symbol KFRC to C:/Users/atlas/OneDrive/Desktop/usstock/KFRC.csv\n",
      "Saved data for symbol KFS to C:/Users/atlas/OneDrive/Desktop/usstock/KFS.csv\n",
      "Saved data for symbol KFY to C:/Users/atlas/OneDrive/Desktop/usstock/KFY.csv\n",
      "Saved data for symbol KGC to C:/Users/atlas/OneDrive/Desktop/usstock/KGC.csv\n",
      "Saved data for symbol KGEI to C:/Users/atlas/OneDrive/Desktop/usstock/KGEI.csv\n",
      "Saved data for symbol KGS to C:/Users/atlas/OneDrive/Desktop/usstock/KGS.csv\n",
      "Saved data for symbol KHC to C:/Users/atlas/OneDrive/Desktop/usstock/KHC.csv\n",
      "Saved data for symbol KIDS to C:/Users/atlas/OneDrive/Desktop/usstock/KIDS.csv\n",
      "Saved data for symbol KIM to C:/Users/atlas/OneDrive/Desktop/usstock/KIM.csv\n"
     ]
    },
    {
     "name": "stderr",
     "output_type": "stream",
     "text": [
      "\n",
      "1 Failed download:\n",
      "['KIM^L']: Exception('%ticker%: No timezone found, symbol may be delisted')\n"
     ]
    },
    {
     "name": "stdout",
     "output_type": "stream",
     "text": [
      "Saved data for symbol KIM^L to C:/Users/atlas/OneDrive/Desktop/usstock/KIM^L.csv\n"
     ]
    },
    {
     "name": "stderr",
     "output_type": "stream",
     "text": [
      "\n",
      "1 Failed download:\n",
      "['KIM^M']: Exception('%ticker%: No timezone found, symbol may be delisted')\n"
     ]
    },
    {
     "name": "stdout",
     "output_type": "stream",
     "text": [
      "Saved data for symbol KIM^M to C:/Users/atlas/OneDrive/Desktop/usstock/KIM^M.csv\n"
     ]
    },
    {
     "name": "stderr",
     "output_type": "stream",
     "text": [
      "\n",
      "1 Failed download:\n",
      "['KIM^N']: Exception('%ticker%: No timezone found, symbol may be delisted')\n"
     ]
    },
    {
     "name": "stdout",
     "output_type": "stream",
     "text": [
      "Saved data for symbol KIM^N to C:/Users/atlas/OneDrive/Desktop/usstock/KIM^N.csv\n",
      "Saved data for symbol KIND to C:/Users/atlas/OneDrive/Desktop/usstock/KIND.csv\n",
      "Saved data for symbol KINS to C:/Users/atlas/OneDrive/Desktop/usstock/KINS.csv\n",
      "Saved data for symbol KIO to C:/Users/atlas/OneDrive/Desktop/usstock/KIO.csv\n",
      "Saved data for symbol KIRK to C:/Users/atlas/OneDrive/Desktop/usstock/KIRK.csv\n",
      "Saved data for symbol KITT to C:/Users/atlas/OneDrive/Desktop/usstock/KITT.csv\n"
     ]
    },
    {
     "name": "stderr",
     "output_type": "stream",
     "text": [
      "\n",
      "1 Failed download:\n",
      "['KITTW']: Exception('%ticker%: 1d data not available for startTime=-14831751840 and endTime=1713530178. Only 100 years worth of day granularity data are allowed to be fetched per request.')\n"
     ]
    },
    {
     "name": "stdout",
     "output_type": "stream",
     "text": [
      "Saved data for symbol KITTW to C:/Users/atlas/OneDrive/Desktop/usstock/KITTW.csv\n",
      "Saved data for symbol KKR to C:/Users/atlas/OneDrive/Desktop/usstock/KKR.csv\n",
      "Saved data for symbol KKRS to C:/Users/atlas/OneDrive/Desktop/usstock/KKRS.csv\n",
      "Saved data for symbol KLAC to C:/Users/atlas/OneDrive/Desktop/usstock/KLAC.csv\n",
      "Saved data for symbol KLG to C:/Users/atlas/OneDrive/Desktop/usstock/KLG.csv\n",
      "Saved data for symbol KLIC to C:/Users/atlas/OneDrive/Desktop/usstock/KLIC.csv\n",
      "Saved data for symbol KLTR to C:/Users/atlas/OneDrive/Desktop/usstock/KLTR.csv\n",
      "Saved data for symbol KLXE to C:/Users/atlas/OneDrive/Desktop/usstock/KLXE.csv\n",
      "Saved data for symbol KMB to C:/Users/atlas/OneDrive/Desktop/usstock/KMB.csv\n",
      "Saved data for symbol KMDA to C:/Users/atlas/OneDrive/Desktop/usstock/KMDA.csv\n",
      "Saved data for symbol KMI to C:/Users/atlas/OneDrive/Desktop/usstock/KMI.csv\n",
      "Saved data for symbol KMPB to C:/Users/atlas/OneDrive/Desktop/usstock/KMPB.csv\n",
      "Saved data for symbol KMPR to C:/Users/atlas/OneDrive/Desktop/usstock/KMPR.csv\n",
      "Saved data for symbol KMT to C:/Users/atlas/OneDrive/Desktop/usstock/KMT.csv\n",
      "Saved data for symbol KMX to C:/Users/atlas/OneDrive/Desktop/usstock/KMX.csv\n",
      "Saved data for symbol KN to C:/Users/atlas/OneDrive/Desktop/usstock/KN.csv\n",
      "Saved data for symbol KNDI to C:/Users/atlas/OneDrive/Desktop/usstock/KNDI.csv\n",
      "Saved data for symbol KNF to C:/Users/atlas/OneDrive/Desktop/usstock/KNF.csv\n",
      "Saved data for symbol KNOP to C:/Users/atlas/OneDrive/Desktop/usstock/KNOP.csv\n",
      "Saved data for symbol KNSA to C:/Users/atlas/OneDrive/Desktop/usstock/KNSA.csv\n",
      "Saved data for symbol KNSL to C:/Users/atlas/OneDrive/Desktop/usstock/KNSL.csv\n",
      "Saved data for symbol KNTK to C:/Users/atlas/OneDrive/Desktop/usstock/KNTK.csv\n",
      "Saved data for symbol KNW to C:/Users/atlas/OneDrive/Desktop/usstock/KNW.csv\n",
      "Saved data for symbol KNX to C:/Users/atlas/OneDrive/Desktop/usstock/KNX.csv\n",
      "Saved data for symbol KO to C:/Users/atlas/OneDrive/Desktop/usstock/KO.csv\n",
      "Saved data for symbol KOD to C:/Users/atlas/OneDrive/Desktop/usstock/KOD.csv\n",
      "Saved data for symbol KODK to C:/Users/atlas/OneDrive/Desktop/usstock/KODK.csv\n",
      "Saved data for symbol KOF to C:/Users/atlas/OneDrive/Desktop/usstock/KOF.csv\n",
      "Saved data for symbol KOP to C:/Users/atlas/OneDrive/Desktop/usstock/KOP.csv\n",
      "Saved data for symbol KOPN to C:/Users/atlas/OneDrive/Desktop/usstock/KOPN.csv\n",
      "Saved data for symbol KORE to C:/Users/atlas/OneDrive/Desktop/usstock/KORE.csv\n",
      "Saved data for symbol KOS to C:/Users/atlas/OneDrive/Desktop/usstock/KOS.csv\n",
      "Saved data for symbol KOSS to C:/Users/atlas/OneDrive/Desktop/usstock/KOSS.csv\n",
      "Saved data for symbol KPLT to C:/Users/atlas/OneDrive/Desktop/usstock/KPLT.csv\n"
     ]
    },
    {
     "name": "stderr",
     "output_type": "stream",
     "text": [
      "\n",
      "1 Failed download:\n",
      "['KPLTW']: Exception('%ticker%: 1d data not available for startTime=-14831751840 and endTime=1713530195. Only 100 years worth of day granularity data are allowed to be fetched per request.')\n"
     ]
    },
    {
     "name": "stdout",
     "output_type": "stream",
     "text": [
      "Saved data for symbol KPLTW to C:/Users/atlas/OneDrive/Desktop/usstock/KPLTW.csv\n",
      "Saved data for symbol KPRX to C:/Users/atlas/OneDrive/Desktop/usstock/KPRX.csv\n",
      "Saved data for symbol KPTI to C:/Users/atlas/OneDrive/Desktop/usstock/KPTI.csv\n",
      "Saved data for symbol KR to C:/Users/atlas/OneDrive/Desktop/usstock/KR.csv\n",
      "Saved data for symbol KRC to C:/Users/atlas/OneDrive/Desktop/usstock/KRC.csv\n",
      "Saved data for symbol KREF to C:/Users/atlas/OneDrive/Desktop/usstock/KREF.csv\n"
     ]
    },
    {
     "name": "stderr",
     "output_type": "stream",
     "text": [
      "\n",
      "1 Failed download:\n",
      "['KREF^A']: Exception('%ticker%: No timezone found, symbol may be delisted')\n"
     ]
    },
    {
     "name": "stdout",
     "output_type": "stream",
     "text": [
      "Saved data for symbol KREF^A to C:/Users/atlas/OneDrive/Desktop/usstock/KREF^A.csv\n",
      "Saved data for symbol KRG to C:/Users/atlas/OneDrive/Desktop/usstock/KRG.csv\n",
      "Saved data for symbol KRKR to C:/Users/atlas/OneDrive/Desktop/usstock/KRKR.csv\n",
      "Saved data for symbol KRMD to C:/Users/atlas/OneDrive/Desktop/usstock/KRMD.csv\n",
      "Saved data for symbol KRNL to C:/Users/atlas/OneDrive/Desktop/usstock/KRNL.csv\n",
      "Saved data for symbol KRNT to C:/Users/atlas/OneDrive/Desktop/usstock/KRNT.csv\n",
      "Saved data for symbol KRNY to C:/Users/atlas/OneDrive/Desktop/usstock/KRNY.csv\n",
      "Saved data for symbol KRO to C:/Users/atlas/OneDrive/Desktop/usstock/KRO.csv\n",
      "Saved data for symbol KRON to C:/Users/atlas/OneDrive/Desktop/usstock/KRON.csv\n",
      "Saved data for symbol KROS to C:/Users/atlas/OneDrive/Desktop/usstock/KROS.csv\n",
      "Saved data for symbol KRP to C:/Users/atlas/OneDrive/Desktop/usstock/KRP.csv\n",
      "Saved data for symbol KRRO to C:/Users/atlas/OneDrive/Desktop/usstock/KRRO.csv\n",
      "Saved data for symbol KRT to C:/Users/atlas/OneDrive/Desktop/usstock/KRT.csv\n",
      "Saved data for symbol KRUS to C:/Users/atlas/OneDrive/Desktop/usstock/KRUS.csv\n",
      "Saved data for symbol KRYS to C:/Users/atlas/OneDrive/Desktop/usstock/KRYS.csv\n",
      "Saved data for symbol KSCP to C:/Users/atlas/OneDrive/Desktop/usstock/KSCP.csv\n",
      "Saved data for symbol KSM to C:/Users/atlas/OneDrive/Desktop/usstock/KSM.csv\n",
      "Saved data for symbol KSPI to C:/Users/atlas/OneDrive/Desktop/usstock/KSPI.csv\n",
      "Saved data for symbol KSS to C:/Users/atlas/OneDrive/Desktop/usstock/KSS.csv\n",
      "Saved data for symbol KT to C:/Users/atlas/OneDrive/Desktop/usstock/KT.csv\n",
      "Saved data for symbol KTB to C:/Users/atlas/OneDrive/Desktop/usstock/KTB.csv\n",
      "Saved data for symbol KTCC to C:/Users/atlas/OneDrive/Desktop/usstock/KTCC.csv\n",
      "Saved data for symbol KTF to C:/Users/atlas/OneDrive/Desktop/usstock/KTF.csv\n",
      "Saved data for symbol KTH to C:/Users/atlas/OneDrive/Desktop/usstock/KTH.csv\n",
      "Saved data for symbol KTN to C:/Users/atlas/OneDrive/Desktop/usstock/KTN.csv\n",
      "Saved data for symbol KTOS to C:/Users/atlas/OneDrive/Desktop/usstock/KTOS.csv\n",
      "Saved data for symbol KTRA to C:/Users/atlas/OneDrive/Desktop/usstock/KTRA.csv\n",
      "Saved data for symbol KTTA to C:/Users/atlas/OneDrive/Desktop/usstock/KTTA.csv\n"
     ]
    },
    {
     "name": "stderr",
     "output_type": "stream",
     "text": [
      "\n",
      "1 Failed download:\n",
      "['KTTAW']: Exception('%ticker%: 1d data not available for startTime=-14831751840 and endTime=1713530213. Only 100 years worth of day granularity data are allowed to be fetched per request.')\n"
     ]
    },
    {
     "name": "stdout",
     "output_type": "stream",
     "text": [
      "Saved data for symbol KTTAW to C:/Users/atlas/OneDrive/Desktop/usstock/KTTAW.csv\n",
      "Saved data for symbol KUKE to C:/Users/atlas/OneDrive/Desktop/usstock/KUKE.csv\n",
      "Saved data for symbol KULR to C:/Users/atlas/OneDrive/Desktop/usstock/KULR.csv\n",
      "Saved data for symbol KURA to C:/Users/atlas/OneDrive/Desktop/usstock/KURA.csv\n",
      "Saved data for symbol KVAC to C:/Users/atlas/OneDrive/Desktop/usstock/KVAC.csv\n",
      "Saved data for symbol KVACU to C:/Users/atlas/OneDrive/Desktop/usstock/KVACU.csv\n"
     ]
    },
    {
     "name": "stderr",
     "output_type": "stream",
     "text": [
      "\n",
      "1 Failed download:\n",
      "['KVACW']: Exception('%ticker%: 1d data not available for startTime=-14831751840 and endTime=1713530216. Only 100 years worth of day granularity data are allowed to be fetched per request.')\n"
     ]
    },
    {
     "name": "stdout",
     "output_type": "stream",
     "text": [
      "Saved data for symbol KVACW to C:/Users/atlas/OneDrive/Desktop/usstock/KVACW.csv\n",
      "Saved data for symbol KVHI to C:/Users/atlas/OneDrive/Desktop/usstock/KVHI.csv\n",
      "Saved data for symbol KVUE to C:/Users/atlas/OneDrive/Desktop/usstock/KVUE.csv\n",
      "Saved data for symbol KVYO to C:/Users/atlas/OneDrive/Desktop/usstock/KVYO.csv\n",
      "Saved data for symbol KW to C:/Users/atlas/OneDrive/Desktop/usstock/KW.csv\n",
      "Saved data for symbol KWE to C:/Users/atlas/OneDrive/Desktop/usstock/KWE.csv\n"
     ]
    },
    {
     "name": "stderr",
     "output_type": "stream",
     "text": [
      "\n",
      "1 Failed download:\n",
      "['KWESW']: Exception('%ticker%: 1d data not available for startTime=-14831751840 and endTime=1713530228. Only 100 years worth of day granularity data are allowed to be fetched per request.')\n"
     ]
    },
    {
     "name": "stdout",
     "output_type": "stream",
     "text": [
      "Saved data for symbol KWESW to C:/Users/atlas/OneDrive/Desktop/usstock/KWESW.csv\n",
      "Saved data for symbol KWR to C:/Users/atlas/OneDrive/Desktop/usstock/KWR.csv\n",
      "Saved data for symbol KXIN to C:/Users/atlas/OneDrive/Desktop/usstock/KXIN.csv\n",
      "Saved data for symbol KYMR to C:/Users/atlas/OneDrive/Desktop/usstock/KYMR.csv\n",
      "Saved data for symbol KYN to C:/Users/atlas/OneDrive/Desktop/usstock/KYN.csv\n",
      "Saved data for symbol KYTX to C:/Users/atlas/OneDrive/Desktop/usstock/KYTX.csv\n",
      "Saved data for symbol KZIA to C:/Users/atlas/OneDrive/Desktop/usstock/KZIA.csv\n",
      "Saved data for symbol KZR to C:/Users/atlas/OneDrive/Desktop/usstock/KZR.csv\n",
      "Saved data for symbol L to C:/Users/atlas/OneDrive/Desktop/usstock/L.csv\n",
      "Saved data for symbol LAAC to C:/Users/atlas/OneDrive/Desktop/usstock/LAAC.csv\n",
      "Saved data for symbol LAB to C:/Users/atlas/OneDrive/Desktop/usstock/LAB.csv\n",
      "Saved data for symbol LABP to C:/Users/atlas/OneDrive/Desktop/usstock/LABP.csv\n",
      "Saved data for symbol LAC to C:/Users/atlas/OneDrive/Desktop/usstock/LAC.csv\n",
      "Saved data for symbol LAD to C:/Users/atlas/OneDrive/Desktop/usstock/LAD.csv\n",
      "Saved data for symbol LADR to C:/Users/atlas/OneDrive/Desktop/usstock/LADR.csv\n",
      "Saved data for symbol LAES to C:/Users/atlas/OneDrive/Desktop/usstock/LAES.csv\n",
      "Saved data for symbol LAKE to C:/Users/atlas/OneDrive/Desktop/usstock/LAKE.csv\n",
      "Saved data for symbol LAMR to C:/Users/atlas/OneDrive/Desktop/usstock/LAMR.csv\n",
      "Saved data for symbol LANC to C:/Users/atlas/OneDrive/Desktop/usstock/LANC.csv\n",
      "Saved data for symbol LAND to C:/Users/atlas/OneDrive/Desktop/usstock/LAND.csv\n",
      "Saved data for symbol LANDM to C:/Users/atlas/OneDrive/Desktop/usstock/LANDM.csv\n",
      "Saved data for symbol LANDO to C:/Users/atlas/OneDrive/Desktop/usstock/LANDO.csv\n",
      "Saved data for symbol LANDP to C:/Users/atlas/OneDrive/Desktop/usstock/LANDP.csv\n",
      "Saved data for symbol LANV to C:/Users/atlas/OneDrive/Desktop/usstock/LANV.csv\n",
      "Saved data for symbol LARK to C:/Users/atlas/OneDrive/Desktop/usstock/LARK.csv\n",
      "Saved data for symbol LASE to C:/Users/atlas/OneDrive/Desktop/usstock/LASE.csv\n",
      "Saved data for symbol LASR to C:/Users/atlas/OneDrive/Desktop/usstock/LASR.csv\n",
      "Saved data for symbol LATG to C:/Users/atlas/OneDrive/Desktop/usstock/LATG.csv\n",
      "Saved data for symbol LATGU to C:/Users/atlas/OneDrive/Desktop/usstock/LATGU.csv\n",
      "Saved data for symbol LAUR to C:/Users/atlas/OneDrive/Desktop/usstock/LAUR.csv\n",
      "Saved data for symbol LAW to C:/Users/atlas/OneDrive/Desktop/usstock/LAW.csv\n",
      "Saved data for symbol LAZ to C:/Users/atlas/OneDrive/Desktop/usstock/LAZ.csv\n",
      "Saved data for symbol LAZR to C:/Users/atlas/OneDrive/Desktop/usstock/LAZR.csv\n",
      "Saved data for symbol LBAI to C:/Users/atlas/OneDrive/Desktop/usstock/LBAI.csv\n",
      "Saved data for symbol LBPH to C:/Users/atlas/OneDrive/Desktop/usstock/LBPH.csv\n",
      "Saved data for symbol LBRDA to C:/Users/atlas/OneDrive/Desktop/usstock/LBRDA.csv\n",
      "Saved data for symbol LBRDK to C:/Users/atlas/OneDrive/Desktop/usstock/LBRDK.csv\n",
      "Saved data for symbol LBRDP to C:/Users/atlas/OneDrive/Desktop/usstock/LBRDP.csv\n",
      "Saved data for symbol LBRT to C:/Users/atlas/OneDrive/Desktop/usstock/LBRT.csv\n",
      "Saved data for symbol LBTYA to C:/Users/atlas/OneDrive/Desktop/usstock/LBTYA.csv\n",
      "Saved data for symbol LBTYB to C:/Users/atlas/OneDrive/Desktop/usstock/LBTYB.csv\n",
      "Saved data for symbol LBTYK to C:/Users/atlas/OneDrive/Desktop/usstock/LBTYK.csv\n",
      "Saved data for symbol LC to C:/Users/atlas/OneDrive/Desktop/usstock/LC.csv\n",
      "Saved data for symbol LCFY to C:/Users/atlas/OneDrive/Desktop/usstock/LCFY.csv\n"
     ]
    },
    {
     "name": "stderr",
     "output_type": "stream",
     "text": [
      "\n",
      "1 Failed download:\n",
      "['LCFYW']: Exception('%ticker%: 1d data not available for startTime=-14831751840 and endTime=1713530246. Only 100 years worth of day granularity data are allowed to be fetched per request.')\n"
     ]
    },
    {
     "name": "stdout",
     "output_type": "stream",
     "text": [
      "Saved data for symbol LCFYW to C:/Users/atlas/OneDrive/Desktop/usstock/LCFYW.csv\n",
      "Saved data for symbol LCID to C:/Users/atlas/OneDrive/Desktop/usstock/LCID.csv\n",
      "Saved data for symbol LCII to C:/Users/atlas/OneDrive/Desktop/usstock/LCII.csv\n",
      "Saved data for symbol LCNB to C:/Users/atlas/OneDrive/Desktop/usstock/LCNB.csv\n",
      "Saved data for symbol LCTX to C:/Users/atlas/OneDrive/Desktop/usstock/LCTX.csv\n",
      "Saved data for symbol LCUT to C:/Users/atlas/OneDrive/Desktop/usstock/LCUT.csv\n",
      "Saved data for symbol LCW to C:/Users/atlas/OneDrive/Desktop/usstock/LCW.csv\n",
      "Saved data for symbol LDI to C:/Users/atlas/OneDrive/Desktop/usstock/LDI.csv\n",
      "Saved data for symbol LDOS to C:/Users/atlas/OneDrive/Desktop/usstock/LDOS.csv\n",
      "Saved data for symbol LDP to C:/Users/atlas/OneDrive/Desktop/usstock/LDP.csv\n",
      "Saved data for symbol LDTC to C:/Users/atlas/OneDrive/Desktop/usstock/LDTC.csv\n"
     ]
    },
    {
     "name": "stderr",
     "output_type": "stream",
     "text": [
      "\n",
      "1 Failed download:\n",
      "['LDTCW']: Exception('%ticker%: 1d data not available for startTime=-14831751840 and endTime=1713530252. Only 100 years worth of day granularity data are allowed to be fetched per request.')\n"
     ]
    },
    {
     "name": "stdout",
     "output_type": "stream",
     "text": [
      "Saved data for symbol LDTCW to C:/Users/atlas/OneDrive/Desktop/usstock/LDTCW.csv\n",
      "Saved data for symbol LDWY to C:/Users/atlas/OneDrive/Desktop/usstock/LDWY.csv\n",
      "Saved data for symbol LE to C:/Users/atlas/OneDrive/Desktop/usstock/LE.csv\n",
      "Saved data for symbol LEA to C:/Users/atlas/OneDrive/Desktop/usstock/LEA.csv\n",
      "Saved data for symbol LECO to C:/Users/atlas/OneDrive/Desktop/usstock/LECO.csv\n",
      "Saved data for symbol LEDS to C:/Users/atlas/OneDrive/Desktop/usstock/LEDS.csv\n",
      "Saved data for symbol LEE to C:/Users/atlas/OneDrive/Desktop/usstock/LEE.csv\n",
      "Saved data for symbol LEG to C:/Users/atlas/OneDrive/Desktop/usstock/LEG.csv\n",
      "Saved data for symbol LEGH to C:/Users/atlas/OneDrive/Desktop/usstock/LEGH.csv\n",
      "Saved data for symbol LEGN to C:/Users/atlas/OneDrive/Desktop/usstock/LEGN.csv\n",
      "Saved data for symbol LEGT to C:/Users/atlas/OneDrive/Desktop/usstock/LEGT.csv\n",
      "Saved data for symbol LEN to C:/Users/atlas/OneDrive/Desktop/usstock/LEN.csv\n",
      "Saved data for symbol LENZ to C:/Users/atlas/OneDrive/Desktop/usstock/LENZ.csv\n",
      "Saved data for symbol LEO to C:/Users/atlas/OneDrive/Desktop/usstock/LEO.csv\n",
      "Saved data for symbol LESL to C:/Users/atlas/OneDrive/Desktop/usstock/LESL.csv\n",
      "Saved data for symbol LEU to C:/Users/atlas/OneDrive/Desktop/usstock/LEU.csv\n",
      "Saved data for symbol LEV to C:/Users/atlas/OneDrive/Desktop/usstock/LEV.csv\n",
      "Saved data for symbol LEVI to C:/Users/atlas/OneDrive/Desktop/usstock/LEVI.csv\n",
      "Saved data for symbol LEXX to C:/Users/atlas/OneDrive/Desktop/usstock/LEXX.csv\n"
     ]
    },
    {
     "name": "stderr",
     "output_type": "stream",
     "text": [
      "\n",
      "1 Failed download:\n",
      "['LEXXW']: Exception('%ticker%: 1d data not available for startTime=-14831751840 and endTime=1713530263. Only 100 years worth of day granularity data are allowed to be fetched per request.')\n"
     ]
    },
    {
     "name": "stdout",
     "output_type": "stream",
     "text": [
      "Saved data for symbol LEXXW to C:/Users/atlas/OneDrive/Desktop/usstock/LEXXW.csv\n",
      "Saved data for symbol LFCR to C:/Users/atlas/OneDrive/Desktop/usstock/LFCR.csv\n",
      "Saved data for symbol LFLY to C:/Users/atlas/OneDrive/Desktop/usstock/LFLY.csv\n"
     ]
    },
    {
     "name": "stderr",
     "output_type": "stream",
     "text": [
      "\n",
      "1 Failed download:\n",
      "['LFLYW']: Exception('%ticker%: 1d data not available for startTime=-14831751840 and endTime=1713530265. Only 100 years worth of day granularity data are allowed to be fetched per request.')\n"
     ]
    },
    {
     "name": "stdout",
     "output_type": "stream",
     "text": [
      "Saved data for symbol LFLYW to C:/Users/atlas/OneDrive/Desktop/usstock/LFLYW.csv\n",
      "Saved data for symbol LFMD to C:/Users/atlas/OneDrive/Desktop/usstock/LFMD.csv\n",
      "Saved data for symbol LFMDP to C:/Users/atlas/OneDrive/Desktop/usstock/LFMDP.csv\n",
      "Saved data for symbol LFST to C:/Users/atlas/OneDrive/Desktop/usstock/LFST.csv\n",
      "Saved data for symbol LFT to C:/Users/atlas/OneDrive/Desktop/usstock/LFT.csv\n"
     ]
    },
    {
     "name": "stderr",
     "output_type": "stream",
     "text": [
      "\n",
      "1 Failed download:\n",
      "['LFT^A']: Exception('%ticker%: No timezone found, symbol may be delisted')\n"
     ]
    },
    {
     "name": "stdout",
     "output_type": "stream",
     "text": [
      "Saved data for symbol LFT^A to C:/Users/atlas/OneDrive/Desktop/usstock/LFT^A.csv\n",
      "Saved data for symbol LFUS to C:/Users/atlas/OneDrive/Desktop/usstock/LFUS.csv\n",
      "Saved data for symbol LFVN to C:/Users/atlas/OneDrive/Desktop/usstock/LFVN.csv\n",
      "Saved data for symbol LFWD to C:/Users/atlas/OneDrive/Desktop/usstock/LFWD.csv\n",
      "Saved data for symbol LGCB to C:/Users/atlas/OneDrive/Desktop/usstock/LGCB.csv\n",
      "Saved data for symbol LGCL to C:/Users/atlas/OneDrive/Desktop/usstock/LGCL.csv\n",
      "Saved data for symbol LGHL to C:/Users/atlas/OneDrive/Desktop/usstock/LGHL.csv\n"
     ]
    },
    {
     "name": "stderr",
     "output_type": "stream",
     "text": [
      "\n",
      "1 Failed download:\n",
      "['LGHLW']: Exception('%ticker%: 1d data not available for startTime=-14831751840 and endTime=1713530272. Only 100 years worth of day granularity data are allowed to be fetched per request.')\n"
     ]
    },
    {
     "name": "stdout",
     "output_type": "stream",
     "text": [
      "Saved data for symbol LGHLW to C:/Users/atlas/OneDrive/Desktop/usstock/LGHLW.csv\n",
      "Saved data for symbol LGI to C:/Users/atlas/OneDrive/Desktop/usstock/LGI.csv\n",
      "Saved data for symbol LGIH to C:/Users/atlas/OneDrive/Desktop/usstock/LGIH.csv\n",
      "Saved data for symbol LGL to C:/Users/atlas/OneDrive/Desktop/usstock/LGL.csv\n",
      "Saved data for symbol LGMK to C:/Users/atlas/OneDrive/Desktop/usstock/LGMK.csv\n",
      "Saved data for symbol LGND to C:/Users/atlas/OneDrive/Desktop/usstock/LGND.csv\n",
      "Saved data for symbol LGO to C:/Users/atlas/OneDrive/Desktop/usstock/LGO.csv\n",
      "Saved data for symbol LGVC to C:/Users/atlas/OneDrive/Desktop/usstock/LGVC.csv\n",
      "Saved data for symbol LGVCU to C:/Users/atlas/OneDrive/Desktop/usstock/LGVCU.csv\n",
      "Saved data for symbol LGVN to C:/Users/atlas/OneDrive/Desktop/usstock/LGVN.csv\n",
      "Saved data for symbol LH to C:/Users/atlas/OneDrive/Desktop/usstock/LH.csv\n",
      "Saved data for symbol LHX to C:/Users/atlas/OneDrive/Desktop/usstock/LHX.csv\n",
      "Saved data for symbol LI to C:/Users/atlas/OneDrive/Desktop/usstock/LI.csv\n",
      "Saved data for symbol LICN to C:/Users/atlas/OneDrive/Desktop/usstock/LICN.csv\n",
      "Saved data for symbol LICY to C:/Users/atlas/OneDrive/Desktop/usstock/LICY.csv\n",
      "Saved data for symbol LIDR to C:/Users/atlas/OneDrive/Desktop/usstock/LIDR.csv\n",
      "Saved data for symbol LIDRW to C:/Users/atlas/OneDrive/Desktop/usstock/LIDRW.csv\n",
      "Saved data for symbol LIFE to C:/Users/atlas/OneDrive/Desktop/usstock/LIFE.csv\n",
      "Saved data for symbol LIFW to C:/Users/atlas/OneDrive/Desktop/usstock/LIFW.csv\n",
      "Saved data for symbol LIFWW to C:/Users/atlas/OneDrive/Desktop/usstock/LIFWW.csv\n"
     ]
    },
    {
     "name": "stderr",
     "output_type": "stream",
     "text": [
      "\n",
      "1 Failed download:\n",
      "['LIFWZ']: Exception('%ticker%: 1d data not available for startTime=-14831751840 and endTime=1713530281. Only 100 years worth of day granularity data are allowed to be fetched per request.')\n"
     ]
    },
    {
     "name": "stdout",
     "output_type": "stream",
     "text": [
      "Saved data for symbol LIFWZ to C:/Users/atlas/OneDrive/Desktop/usstock/LIFWZ.csv\n",
      "Saved data for symbol LII to C:/Users/atlas/OneDrive/Desktop/usstock/LII.csv\n",
      "Saved data for symbol LILA to C:/Users/atlas/OneDrive/Desktop/usstock/LILA.csv\n",
      "Saved data for symbol LILAK to C:/Users/atlas/OneDrive/Desktop/usstock/LILAK.csv\n",
      "Saved data for symbol LILM to C:/Users/atlas/OneDrive/Desktop/usstock/LILM.csv\n",
      "Saved data for symbol LILMW to C:/Users/atlas/OneDrive/Desktop/usstock/LILMW.csv\n",
      "Saved data for symbol LIN to C:/Users/atlas/OneDrive/Desktop/usstock/LIN.csv\n",
      "Saved data for symbol LINC to C:/Users/atlas/OneDrive/Desktop/usstock/LINC.csv\n",
      "Saved data for symbol LIND to C:/Users/atlas/OneDrive/Desktop/usstock/LIND.csv\n",
      "Saved data for symbol LINK to C:/Users/atlas/OneDrive/Desktop/usstock/LINK.csv\n",
      "Saved data for symbol LIPO to C:/Users/atlas/OneDrive/Desktop/usstock/LIPO.csv\n",
      "Saved data for symbol LIQT to C:/Users/atlas/OneDrive/Desktop/usstock/LIQT.csv\n",
      "Saved data for symbol LITB to C:/Users/atlas/OneDrive/Desktop/usstock/LITB.csv\n",
      "Saved data for symbol LITE to C:/Users/atlas/OneDrive/Desktop/usstock/LITE.csv\n",
      "Saved data for symbol LITM to C:/Users/atlas/OneDrive/Desktop/usstock/LITM.csv\n",
      "Saved data for symbol LIVE to C:/Users/atlas/OneDrive/Desktop/usstock/LIVE.csv\n",
      "Saved data for symbol LIVN to C:/Users/atlas/OneDrive/Desktop/usstock/LIVN.csv\n",
      "Saved data for symbol LIXT to C:/Users/atlas/OneDrive/Desktop/usstock/LIXT.csv\n",
      "Saved data for symbol LIXTW to C:/Users/atlas/OneDrive/Desktop/usstock/LIXTW.csv\n",
      "Saved data for symbol LKCO to C:/Users/atlas/OneDrive/Desktop/usstock/LKCO.csv\n",
      "Saved data for symbol LKFN to C:/Users/atlas/OneDrive/Desktop/usstock/LKFN.csv\n",
      "Saved data for symbol LKQ to C:/Users/atlas/OneDrive/Desktop/usstock/LKQ.csv\n",
      "Saved data for symbol LL to C:/Users/atlas/OneDrive/Desktop/usstock/LL.csv\n",
      "Saved data for symbol LLAP to C:/Users/atlas/OneDrive/Desktop/usstock/LLAP.csv\n",
      "Saved data for symbol LLY to C:/Users/atlas/OneDrive/Desktop/usstock/LLY.csv\n",
      "Saved data for symbol LLYVA to C:/Users/atlas/OneDrive/Desktop/usstock/LLYVA.csv\n",
      "Saved data for symbol LLYVK to C:/Users/atlas/OneDrive/Desktop/usstock/LLYVK.csv\n",
      "Saved data for symbol LMAT to C:/Users/atlas/OneDrive/Desktop/usstock/LMAT.csv\n",
      "Saved data for symbol LMB to C:/Users/atlas/OneDrive/Desktop/usstock/LMB.csv\n",
      "Saved data for symbol LMFA to C:/Users/atlas/OneDrive/Desktop/usstock/LMFA.csv\n",
      "Saved data for symbol LMND to C:/Users/atlas/OneDrive/Desktop/usstock/LMND.csv\n",
      "Saved data for symbol LMNR to C:/Users/atlas/OneDrive/Desktop/usstock/LMNR.csv\n",
      "Saved data for symbol LMT to C:/Users/atlas/OneDrive/Desktop/usstock/LMT.csv\n",
      "Saved data for symbol LNC to C:/Users/atlas/OneDrive/Desktop/usstock/LNC.csv\n"
     ]
    },
    {
     "name": "stderr",
     "output_type": "stream",
     "text": [
      "\n",
      "1 Failed download:\n",
      "['LNC^D']: Exception('%ticker%: No timezone found, symbol may be delisted')\n"
     ]
    },
    {
     "name": "stdout",
     "output_type": "stream",
     "text": [
      "Saved data for symbol LNC^D to C:/Users/atlas/OneDrive/Desktop/usstock/LNC^D.csv\n",
      "Saved data for symbol LND to C:/Users/atlas/OneDrive/Desktop/usstock/LND.csv\n",
      "Saved data for symbol LNG to C:/Users/atlas/OneDrive/Desktop/usstock/LNG.csv\n",
      "Saved data for symbol LNKB to C:/Users/atlas/OneDrive/Desktop/usstock/LNKB.csv\n",
      "Saved data for symbol LNN to C:/Users/atlas/OneDrive/Desktop/usstock/LNN.csv\n",
      "Saved data for symbol LNSR to C:/Users/atlas/OneDrive/Desktop/usstock/LNSR.csv\n",
      "Saved data for symbol LNT to C:/Users/atlas/OneDrive/Desktop/usstock/LNT.csv\n",
      "Saved data for symbol LNTH to C:/Users/atlas/OneDrive/Desktop/usstock/LNTH.csv\n",
      "Saved data for symbol LNW to C:/Users/atlas/OneDrive/Desktop/usstock/LNW.csv\n",
      "Saved data for symbol LNZA to C:/Users/atlas/OneDrive/Desktop/usstock/LNZA.csv\n"
     ]
    },
    {
     "name": "stderr",
     "output_type": "stream",
     "text": [
      "\n",
      "1 Failed download:\n",
      "['LNZAW']: Exception('%ticker%: 1d data not available for startTime=-14831751840 and endTime=1713530302. Only 100 years worth of day granularity data are allowed to be fetched per request.')\n"
     ]
    },
    {
     "name": "stdout",
     "output_type": "stream",
     "text": [
      "Saved data for symbol LNZAW to C:/Users/atlas/OneDrive/Desktop/usstock/LNZAW.csv\n",
      "Saved data for symbol LOAN to C:/Users/atlas/OneDrive/Desktop/usstock/LOAN.csv\n",
      "Saved data for symbol LOB to C:/Users/atlas/OneDrive/Desktop/usstock/LOB.csv\n",
      "Saved data for symbol LOBO to C:/Users/atlas/OneDrive/Desktop/usstock/LOBO.csv\n",
      "Saved data for symbol LOCL to C:/Users/atlas/OneDrive/Desktop/usstock/LOCL.csv\n",
      "Saved data for symbol LOCO to C:/Users/atlas/OneDrive/Desktop/usstock/LOCO.csv\n",
      "Saved data for symbol LODE to C:/Users/atlas/OneDrive/Desktop/usstock/LODE.csv\n",
      "Saved data for symbol LOGI to C:/Users/atlas/OneDrive/Desktop/usstock/LOGI.csv\n",
      "Saved data for symbol LOMA to C:/Users/atlas/OneDrive/Desktop/usstock/LOMA.csv\n",
      "Saved data for symbol LOOP to C:/Users/atlas/OneDrive/Desktop/usstock/LOOP.csv\n",
      "Saved data for symbol LOPE to C:/Users/atlas/OneDrive/Desktop/usstock/LOPE.csv\n",
      "Saved data for symbol LOT to C:/Users/atlas/OneDrive/Desktop/usstock/LOT.csv\n"
     ]
    },
    {
     "name": "stderr",
     "output_type": "stream",
     "text": [
      "\n",
      "1 Failed download:\n",
      "['LOTWW']: Exception('%ticker%: 1d data not available for startTime=-14831751840 and endTime=1713530309. Only 100 years worth of day granularity data are allowed to be fetched per request.')\n"
     ]
    },
    {
     "name": "stdout",
     "output_type": "stream",
     "text": [
      "Saved data for symbol LOTWW to C:/Users/atlas/OneDrive/Desktop/usstock/LOTWW.csv\n",
      "Saved data for symbol LOVE to C:/Users/atlas/OneDrive/Desktop/usstock/LOVE.csv\n",
      "Saved data for symbol LOW to C:/Users/atlas/OneDrive/Desktop/usstock/LOW.csv\n",
      "Saved data for symbol LPA to C:/Users/atlas/OneDrive/Desktop/usstock/LPA.csv\n",
      "Saved data for symbol LPCN to C:/Users/atlas/OneDrive/Desktop/usstock/LPCN.csv\n",
      "Saved data for symbol LPG to C:/Users/atlas/OneDrive/Desktop/usstock/LPG.csv\n",
      "Saved data for symbol LPL to C:/Users/atlas/OneDrive/Desktop/usstock/LPL.csv\n",
      "Saved data for symbol LPLA to C:/Users/atlas/OneDrive/Desktop/usstock/LPLA.csv\n",
      "Saved data for symbol LPRO to C:/Users/atlas/OneDrive/Desktop/usstock/LPRO.csv\n",
      "Saved data for symbol LPSN to C:/Users/atlas/OneDrive/Desktop/usstock/LPSN.csv\n",
      "Saved data for symbol LPTH to C:/Users/atlas/OneDrive/Desktop/usstock/LPTH.csv\n",
      "Saved data for symbol LPTV to C:/Users/atlas/OneDrive/Desktop/usstock/LPTV.csv\n",
      "Saved data for symbol LPTX to C:/Users/atlas/OneDrive/Desktop/usstock/LPTX.csv\n",
      "Saved data for symbol LPX to C:/Users/atlas/OneDrive/Desktop/usstock/LPX.csv\n",
      "Saved data for symbol LQDA to C:/Users/atlas/OneDrive/Desktop/usstock/LQDA.csv\n",
      "Saved data for symbol LQDT to C:/Users/atlas/OneDrive/Desktop/usstock/LQDT.csv\n",
      "Saved data for symbol LQR to C:/Users/atlas/OneDrive/Desktop/usstock/LQR.csv\n",
      "Saved data for symbol LRCX to C:/Users/atlas/OneDrive/Desktop/usstock/LRCX.csv\n",
      "Saved data for symbol LRE to C:/Users/atlas/OneDrive/Desktop/usstock/LRE.csv\n",
      "Saved data for symbol LRFC to C:/Users/atlas/OneDrive/Desktop/usstock/LRFC.csv\n",
      "Saved data for symbol LRHC to C:/Users/atlas/OneDrive/Desktop/usstock/LRHC.csv\n",
      "Saved data for symbol LRMR to C:/Users/atlas/OneDrive/Desktop/usstock/LRMR.csv\n",
      "Saved data for symbol LRN to C:/Users/atlas/OneDrive/Desktop/usstock/LRN.csv\n",
      "Saved data for symbol LSAK to C:/Users/atlas/OneDrive/Desktop/usstock/LSAK.csv\n",
      "Saved data for symbol LSBK to C:/Users/atlas/OneDrive/Desktop/usstock/LSBK.csv\n",
      "Saved data for symbol LSCC to C:/Users/atlas/OneDrive/Desktop/usstock/LSCC.csv\n",
      "Saved data for symbol LSDI to C:/Users/atlas/OneDrive/Desktop/usstock/LSDI.csv\n",
      "Saved data for symbol LSEA to C:/Users/atlas/OneDrive/Desktop/usstock/LSEA.csv\n"
     ]
    },
    {
     "name": "stderr",
     "output_type": "stream",
     "text": [
      "\n",
      "1 Failed download:\n",
      "['LSEAW']: Exception('%ticker%: 1d data not available for startTime=-14831751840 and endTime=1713530321. Only 100 years worth of day granularity data are allowed to be fetched per request.')\n"
     ]
    },
    {
     "name": "stdout",
     "output_type": "stream",
     "text": [
      "Saved data for symbol LSEAW to C:/Users/atlas/OneDrive/Desktop/usstock/LSEAW.csv\n",
      "Saved data for symbol LSF to C:/Users/atlas/OneDrive/Desktop/usstock/LSF.csv\n",
      "Saved data for symbol LSPD to C:/Users/atlas/OneDrive/Desktop/usstock/LSPD.csv\n",
      "Saved data for symbol LSTA to C:/Users/atlas/OneDrive/Desktop/usstock/LSTA.csv\n",
      "Saved data for symbol LSTR to C:/Users/atlas/OneDrive/Desktop/usstock/LSTR.csv\n",
      "Saved data for symbol LSXMA to C:/Users/atlas/OneDrive/Desktop/usstock/LSXMA.csv\n",
      "Saved data for symbol LSXMB to C:/Users/atlas/OneDrive/Desktop/usstock/LSXMB.csv\n",
      "Saved data for symbol LSXMK to C:/Users/atlas/OneDrive/Desktop/usstock/LSXMK.csv\n",
      "Saved data for symbol LTBR to C:/Users/atlas/OneDrive/Desktop/usstock/LTBR.csv\n",
      "Saved data for symbol LTC to C:/Users/atlas/OneDrive/Desktop/usstock/LTC.csv\n",
      "Saved data for symbol LTH to C:/Users/atlas/OneDrive/Desktop/usstock/LTH.csv\n",
      "Saved data for symbol LTRN to C:/Users/atlas/OneDrive/Desktop/usstock/LTRN.csv\n",
      "Saved data for symbol LTRX to C:/Users/atlas/OneDrive/Desktop/usstock/LTRX.csv\n",
      "Saved data for symbol LTRY to C:/Users/atlas/OneDrive/Desktop/usstock/LTRY.csv\n"
     ]
    },
    {
     "name": "stderr",
     "output_type": "stream",
     "text": [
      "\n",
      "1 Failed download:\n",
      "['LTRYW']: Exception('%ticker%: 1d data not available for startTime=-14831751840 and endTime=1713530329. Only 100 years worth of day granularity data are allowed to be fetched per request.')\n"
     ]
    },
    {
     "name": "stdout",
     "output_type": "stream",
     "text": [
      "Saved data for symbol LTRYW to C:/Users/atlas/OneDrive/Desktop/usstock/LTRYW.csv\n",
      "Saved data for symbol LU to C:/Users/atlas/OneDrive/Desktop/usstock/LU.csv\n",
      "Saved data for symbol LUCD to C:/Users/atlas/OneDrive/Desktop/usstock/LUCD.csv\n",
      "Saved data for symbol LUCY to C:/Users/atlas/OneDrive/Desktop/usstock/LUCY.csv\n",
      "Saved data for symbol LULU to C:/Users/atlas/OneDrive/Desktop/usstock/LULU.csv\n",
      "Saved data for symbol LUMN to C:/Users/atlas/OneDrive/Desktop/usstock/LUMN.csv\n",
      "Saved data for symbol LUMO to C:/Users/atlas/OneDrive/Desktop/usstock/LUMO.csv\n",
      "Saved data for symbol LUNA to C:/Users/atlas/OneDrive/Desktop/usstock/LUNA.csv\n",
      "Saved data for symbol LUNG to C:/Users/atlas/OneDrive/Desktop/usstock/LUNG.csv\n",
      "Saved data for symbol LUNR to C:/Users/atlas/OneDrive/Desktop/usstock/LUNR.csv\n"
     ]
    },
    {
     "name": "stderr",
     "output_type": "stream",
     "text": [
      "\n",
      "1 Failed download:\n",
      "['LUNRW']: Exception('%ticker%: 1d data not available for startTime=-14831751840 and endTime=1713530333. Only 100 years worth of day granularity data are allowed to be fetched per request.')\n"
     ]
    },
    {
     "name": "stdout",
     "output_type": "stream",
     "text": [
      "Saved data for symbol LUNRW to C:/Users/atlas/OneDrive/Desktop/usstock/LUNRW.csv\n",
      "Saved data for symbol LUV to C:/Users/atlas/OneDrive/Desktop/usstock/LUV.csv\n",
      "Saved data for symbol LUXH to C:/Users/atlas/OneDrive/Desktop/usstock/LUXH.csv\n",
      "Saved data for symbol LUXHP to C:/Users/atlas/OneDrive/Desktop/usstock/LUXHP.csv\n",
      "Saved data for symbol LVLU to C:/Users/atlas/OneDrive/Desktop/usstock/LVLU.csv\n",
      "Saved data for symbol LVO to C:/Users/atlas/OneDrive/Desktop/usstock/LVO.csv\n",
      "Saved data for symbol LVRO to C:/Users/atlas/OneDrive/Desktop/usstock/LVRO.csv\n"
     ]
    },
    {
     "name": "stderr",
     "output_type": "stream",
     "text": [
      "\n",
      "1 Failed download:\n",
      "['LVROW']: Exception('%ticker%: 1d data not available for startTime=-14831751840 and endTime=1713530338. Only 100 years worth of day granularity data are allowed to be fetched per request.')\n"
     ]
    },
    {
     "name": "stdout",
     "output_type": "stream",
     "text": [
      "Saved data for symbol LVROW to C:/Users/atlas/OneDrive/Desktop/usstock/LVROW.csv\n",
      "Saved data for symbol LVS to C:/Users/atlas/OneDrive/Desktop/usstock/LVS.csv\n",
      "Saved data for symbol LVTX to C:/Users/atlas/OneDrive/Desktop/usstock/LVTX.csv\n",
      "Saved data for symbol LVWR to C:/Users/atlas/OneDrive/Desktop/usstock/LVWR.csv\n",
      "Saved data for symbol LW to C:/Users/atlas/OneDrive/Desktop/usstock/LW.csv\n",
      "Saved data for symbol LWAY to C:/Users/atlas/OneDrive/Desktop/usstock/LWAY.csv\n",
      "Saved data for symbol LWLG to C:/Users/atlas/OneDrive/Desktop/usstock/LWLG.csv\n",
      "Saved data for symbol LX to C:/Users/atlas/OneDrive/Desktop/usstock/LX.csv\n",
      "Saved data for symbol LXEH to C:/Users/atlas/OneDrive/Desktop/usstock/LXEH.csv\n",
      "Saved data for symbol LXEO to C:/Users/atlas/OneDrive/Desktop/usstock/LXEO.csv\n",
      "Saved data for symbol LXFR to C:/Users/atlas/OneDrive/Desktop/usstock/LXFR.csv\n",
      "Saved data for symbol LXP to C:/Users/atlas/OneDrive/Desktop/usstock/LXP.csv\n"
     ]
    },
    {
     "name": "stderr",
     "output_type": "stream",
     "text": [
      "\n",
      "1 Failed download:\n",
      "['LXP^C']: Exception('%ticker%: No timezone found, symbol may be delisted')\n"
     ]
    },
    {
     "name": "stdout",
     "output_type": "stream",
     "text": [
      "Saved data for symbol LXP^C to C:/Users/atlas/OneDrive/Desktop/usstock/LXP^C.csv\n",
      "Saved data for symbol LXRX to C:/Users/atlas/OneDrive/Desktop/usstock/LXRX.csv\n",
      "Saved data for symbol LXU to C:/Users/atlas/OneDrive/Desktop/usstock/LXU.csv\n",
      "Saved data for symbol LYB to C:/Users/atlas/OneDrive/Desktop/usstock/LYB.csv\n",
      "Saved data for symbol LYEL to C:/Users/atlas/OneDrive/Desktop/usstock/LYEL.csv\n",
      "Saved data for symbol LYFT to C:/Users/atlas/OneDrive/Desktop/usstock/LYFT.csv\n",
      "Saved data for symbol LYG to C:/Users/atlas/OneDrive/Desktop/usstock/LYG.csv\n",
      "Saved data for symbol LYRA to C:/Users/atlas/OneDrive/Desktop/usstock/LYRA.csv\n",
      "Saved data for symbol LYT to C:/Users/atlas/OneDrive/Desktop/usstock/LYT.csv\n",
      "Saved data for symbol LYTS to C:/Users/atlas/OneDrive/Desktop/usstock/LYTS.csv\n",
      "Saved data for symbol LYV to C:/Users/atlas/OneDrive/Desktop/usstock/LYV.csv\n",
      "Saved data for symbol LZ to C:/Users/atlas/OneDrive/Desktop/usstock/LZ.csv\n",
      "Saved data for symbol LZB to C:/Users/atlas/OneDrive/Desktop/usstock/LZB.csv\n",
      "Saved data for symbol LZM to C:/Users/atlas/OneDrive/Desktop/usstock/LZM.csv\n",
      "Saved data for symbol M to C:/Users/atlas/OneDrive/Desktop/usstock/M.csv\n",
      "Saved data for symbol MA to C:/Users/atlas/OneDrive/Desktop/usstock/MA.csv\n",
      "Saved data for symbol MAA to C:/Users/atlas/OneDrive/Desktop/usstock/MAA.csv\n"
     ]
    },
    {
     "name": "stderr",
     "output_type": "stream",
     "text": [
      "\n",
      "1 Failed download:\n",
      "['MAA^I']: Exception('%ticker%: No timezone found, symbol may be delisted')\n"
     ]
    },
    {
     "name": "stdout",
     "output_type": "stream",
     "text": [
      "Saved data for symbol MAA^I to C:/Users/atlas/OneDrive/Desktop/usstock/MAA^I.csv\n",
      "Saved data for symbol MAC to C:/Users/atlas/OneDrive/Desktop/usstock/MAC.csv\n",
      "Saved data for symbol MACA to C:/Users/atlas/OneDrive/Desktop/usstock/MACA.csv\n",
      "Saved data for symbol MACK to C:/Users/atlas/OneDrive/Desktop/usstock/MACK.csv\n",
      "Saved data for symbol MAG to C:/Users/atlas/OneDrive/Desktop/usstock/MAG.csv\n",
      "Saved data for symbol MAIA to C:/Users/atlas/OneDrive/Desktop/usstock/MAIA.csv\n",
      "Saved data for symbol MAIN to C:/Users/atlas/OneDrive/Desktop/usstock/MAIN.csv\n",
      "Saved data for symbol MAMA to C:/Users/atlas/OneDrive/Desktop/usstock/MAMA.csv\n",
      "Saved data for symbol MAMO to C:/Users/atlas/OneDrive/Desktop/usstock/MAMO.csv\n",
      "Saved data for symbol MAN to C:/Users/atlas/OneDrive/Desktop/usstock/MAN.csv\n",
      "Saved data for symbol MANH to C:/Users/atlas/OneDrive/Desktop/usstock/MANH.csv\n",
      "Saved data for symbol MANU to C:/Users/atlas/OneDrive/Desktop/usstock/MANU.csv\n",
      "Saved data for symbol MAPS to C:/Users/atlas/OneDrive/Desktop/usstock/MAPS.csv\n"
     ]
    },
    {
     "name": "stderr",
     "output_type": "stream",
     "text": [
      "\n",
      "1 Failed download:\n",
      "['MAPSW']: Exception('%ticker%: 1d data not available for startTime=-14831751840 and endTime=1713530359. Only 100 years worth of day granularity data are allowed to be fetched per request.')\n"
     ]
    },
    {
     "name": "stdout",
     "output_type": "stream",
     "text": [
      "Saved data for symbol MAPSW to C:/Users/atlas/OneDrive/Desktop/usstock/MAPSW.csv\n",
      "Saved data for symbol MAQC to C:/Users/atlas/OneDrive/Desktop/usstock/MAQC.csv\n"
     ]
    },
    {
     "name": "stderr",
     "output_type": "stream",
     "text": [
      "\n",
      "1 Failed download:\n",
      "['MAQCW']: ChunkedEncodingError(ProtocolError(\"Connection broken: InvalidChunkLength(got length b'', 0 bytes read)\", InvalidChunkLength(got length b'', 0 bytes read)))\n"
     ]
    },
    {
     "name": "stdout",
     "output_type": "stream",
     "text": [
      "Saved data for symbol MAQCW to C:/Users/atlas/OneDrive/Desktop/usstock/MAQCW.csv\n",
      "Saved data for symbol MAR to C:/Users/atlas/OneDrive/Desktop/usstock/MAR.csv\n",
      "Saved data for symbol MARA to C:/Users/atlas/OneDrive/Desktop/usstock/MARA.csv\n",
      "Saved data for symbol MARPS to C:/Users/atlas/OneDrive/Desktop/usstock/MARPS.csv\n",
      "Saved data for symbol MARX to C:/Users/atlas/OneDrive/Desktop/usstock/MARX.csv\n",
      "Saved data for symbol MAS to C:/Users/atlas/OneDrive/Desktop/usstock/MAS.csv\n",
      "Saved data for symbol MASI to C:/Users/atlas/OneDrive/Desktop/usstock/MASI.csv\n",
      "Saved data for symbol MASS to C:/Users/atlas/OneDrive/Desktop/usstock/MASS.csv\n",
      "Saved data for symbol MAT to C:/Users/atlas/OneDrive/Desktop/usstock/MAT.csv\n",
      "Saved data for symbol MATH to C:/Users/atlas/OneDrive/Desktop/usstock/MATH.csv\n",
      "Saved data for symbol MATV to C:/Users/atlas/OneDrive/Desktop/usstock/MATV.csv\n",
      "Saved data for symbol MATW to C:/Users/atlas/OneDrive/Desktop/usstock/MATW.csv\n",
      "Saved data for symbol MATX to C:/Users/atlas/OneDrive/Desktop/usstock/MATX.csv\n",
      "Saved data for symbol MAV to C:/Users/atlas/OneDrive/Desktop/usstock/MAV.csv\n",
      "Saved data for symbol MAX to C:/Users/atlas/OneDrive/Desktop/usstock/MAX.csv\n",
      "Saved data for symbol MAXN to C:/Users/atlas/OneDrive/Desktop/usstock/MAXN.csv\n",
      "Saved data for symbol MAYS to C:/Users/atlas/OneDrive/Desktop/usstock/MAYS.csv\n",
      "Saved data for symbol MBC to C:/Users/atlas/OneDrive/Desktop/usstock/MBC.csv\n",
      "Saved data for symbol MBCN to C:/Users/atlas/OneDrive/Desktop/usstock/MBCN.csv\n",
      "Saved data for symbol MBI to C:/Users/atlas/OneDrive/Desktop/usstock/MBI.csv\n",
      "Saved data for symbol MBIN to C:/Users/atlas/OneDrive/Desktop/usstock/MBIN.csv\n",
      "Saved data for symbol MBINM to C:/Users/atlas/OneDrive/Desktop/usstock/MBINM.csv\n",
      "Saved data for symbol MBINN to C:/Users/atlas/OneDrive/Desktop/usstock/MBINN.csv\n",
      "Saved data for symbol MBINO to C:/Users/atlas/OneDrive/Desktop/usstock/MBINO.csv\n",
      "Saved data for symbol MBIO to C:/Users/atlas/OneDrive/Desktop/usstock/MBIO.csv\n",
      "Saved data for symbol MBLY to C:/Users/atlas/OneDrive/Desktop/usstock/MBLY.csv\n",
      "Saved data for symbol MBNKP to C:/Users/atlas/OneDrive/Desktop/usstock/MBNKP.csv\n",
      "Saved data for symbol MBOT to C:/Users/atlas/OneDrive/Desktop/usstock/MBOT.csv\n",
      "Saved data for symbol MBRX to C:/Users/atlas/OneDrive/Desktop/usstock/MBRX.csv\n",
      "Saved data for symbol MBUU to C:/Users/atlas/OneDrive/Desktop/usstock/MBUU.csv\n",
      "Saved data for symbol MBWM to C:/Users/atlas/OneDrive/Desktop/usstock/MBWM.csv\n",
      "Saved data for symbol MC to C:/Users/atlas/OneDrive/Desktop/usstock/MC.csv\n",
      "Saved data for symbol MCAA to C:/Users/atlas/OneDrive/Desktop/usstock/MCAA.csv\n",
      "Saved data for symbol MCAC to C:/Users/atlas/OneDrive/Desktop/usstock/MCAC.csv\n"
     ]
    },
    {
     "name": "stderr",
     "output_type": "stream",
     "text": [
      "\n",
      "1 Failed download:\n",
      "['MCACR']: Exception('%ticker%: 1d data not available for startTime=-14831751840 and endTime=1713530383. Only 100 years worth of day granularity data are allowed to be fetched per request.')\n"
     ]
    },
    {
     "name": "stdout",
     "output_type": "stream",
     "text": [
      "Saved data for symbol MCACR to C:/Users/atlas/OneDrive/Desktop/usstock/MCACR.csv\n"
     ]
    },
    {
     "name": "stderr",
     "output_type": "stream",
     "text": [
      "\n",
      "1 Failed download:\n",
      "['MCAGR']: Exception('%ticker%: 1d data not available for startTime=-14831751840 and endTime=1713530386. Only 100 years worth of day granularity data are allowed to be fetched per request.')\n"
     ]
    },
    {
     "name": "stdout",
     "output_type": "stream",
     "text": [
      "Saved data for symbol MCAGR to C:/Users/atlas/OneDrive/Desktop/usstock/MCAGR.csv\n",
      "Saved data for symbol MCB to C:/Users/atlas/OneDrive/Desktop/usstock/MCB.csv\n",
      "Saved data for symbol MCBC to C:/Users/atlas/OneDrive/Desktop/usstock/MCBC.csv\n",
      "Saved data for symbol MCBS to C:/Users/atlas/OneDrive/Desktop/usstock/MCBS.csv\n",
      "Saved data for symbol MCD to C:/Users/atlas/OneDrive/Desktop/usstock/MCD.csv\n",
      "Saved data for symbol MCFT to C:/Users/atlas/OneDrive/Desktop/usstock/MCFT.csv\n",
      "Saved data for symbol MCHP to C:/Users/atlas/OneDrive/Desktop/usstock/MCHP.csv\n",
      "Saved data for symbol MCHX to C:/Users/atlas/OneDrive/Desktop/usstock/MCHX.csv\n",
      "Saved data for symbol MCI to C:/Users/atlas/OneDrive/Desktop/usstock/MCI.csv\n",
      "Saved data for symbol MCK to C:/Users/atlas/OneDrive/Desktop/usstock/MCK.csv\n",
      "Saved data for symbol MCN to C:/Users/atlas/OneDrive/Desktop/usstock/MCN.csv\n",
      "Saved data for symbol MCO to C:/Users/atlas/OneDrive/Desktop/usstock/MCO.csv\n",
      "Saved data for symbol MCR to C:/Users/atlas/OneDrive/Desktop/usstock/MCR.csv\n",
      "Saved data for symbol MCRB to C:/Users/atlas/OneDrive/Desktop/usstock/MCRB.csv\n",
      "Saved data for symbol MCRI to C:/Users/atlas/OneDrive/Desktop/usstock/MCRI.csv\n",
      "Saved data for symbol MCS to C:/Users/atlas/OneDrive/Desktop/usstock/MCS.csv\n",
      "Saved data for symbol MCVT to C:/Users/atlas/OneDrive/Desktop/usstock/MCVT.csv\n",
      "Saved data for symbol MCW to C:/Users/atlas/OneDrive/Desktop/usstock/MCW.csv\n",
      "Saved data for symbol MCY to C:/Users/atlas/OneDrive/Desktop/usstock/MCY.csv\n",
      "Saved data for symbol MD to C:/Users/atlas/OneDrive/Desktop/usstock/MD.csv\n",
      "Saved data for symbol MDAI to C:/Users/atlas/OneDrive/Desktop/usstock/MDAI.csv\n"
     ]
    },
    {
     "name": "stderr",
     "output_type": "stream",
     "text": [
      "\n",
      "1 Failed download:\n",
      "['MDAIW']: Exception('%ticker%: 1d data not available for startTime=-14831751840 and endTime=1713530398. Only 100 years worth of day granularity data are allowed to be fetched per request.')\n"
     ]
    },
    {
     "name": "stdout",
     "output_type": "stream",
     "text": [
      "Saved data for symbol MDAIW to C:/Users/atlas/OneDrive/Desktop/usstock/MDAIW.csv\n",
      "Saved data for symbol MDB to C:/Users/atlas/OneDrive/Desktop/usstock/MDB.csv\n",
      "Saved data for symbol MDBH to C:/Users/atlas/OneDrive/Desktop/usstock/MDBH.csv\n",
      "Saved data for symbol MDC to C:/Users/atlas/OneDrive/Desktop/usstock/MDC.csv\n",
      "Saved data for symbol MDGL to C:/Users/atlas/OneDrive/Desktop/usstock/MDGL.csv\n",
      "Saved data for symbol MDIA to C:/Users/atlas/OneDrive/Desktop/usstock/MDIA.csv\n",
      "Saved data for symbol MDJH to C:/Users/atlas/OneDrive/Desktop/usstock/MDJH.csv\n",
      "Saved data for symbol MDLZ to C:/Users/atlas/OneDrive/Desktop/usstock/MDLZ.csv\n",
      "Saved data for symbol MDRR to C:/Users/atlas/OneDrive/Desktop/usstock/MDRR.csv\n",
      "Saved data for symbol MDRRP to C:/Users/atlas/OneDrive/Desktop/usstock/MDRRP.csv\n",
      "Saved data for symbol MDT to C:/Users/atlas/OneDrive/Desktop/usstock/MDT.csv\n",
      "Saved data for symbol MDU to C:/Users/atlas/OneDrive/Desktop/usstock/MDU.csv\n",
      "Saved data for symbol MDV to C:/Users/atlas/OneDrive/Desktop/usstock/MDV.csv\n"
     ]
    },
    {
     "name": "stderr",
     "output_type": "stream",
     "text": [
      "\n",
      "1 Failed download:\n",
      "['MDV^A']: Exception('%ticker%: No timezone found, symbol may be delisted')\n"
     ]
    },
    {
     "name": "stdout",
     "output_type": "stream",
     "text": [
      "Saved data for symbol MDV^A to C:/Users/atlas/OneDrive/Desktop/usstock/MDV^A.csv\n",
      "Saved data for symbol MDWD to C:/Users/atlas/OneDrive/Desktop/usstock/MDWD.csv\n",
      "Saved data for symbol MDXG to C:/Users/atlas/OneDrive/Desktop/usstock/MDXG.csv\n",
      "Saved data for symbol MDXH to C:/Users/atlas/OneDrive/Desktop/usstock/MDXH.csv\n",
      "Saved data for symbol ME to C:/Users/atlas/OneDrive/Desktop/usstock/ME.csv\n",
      "Saved data for symbol MEC to C:/Users/atlas/OneDrive/Desktop/usstock/MEC.csv\n",
      "Saved data for symbol MED to C:/Users/atlas/OneDrive/Desktop/usstock/MED.csv\n",
      "Saved data for symbol MEDP to C:/Users/atlas/OneDrive/Desktop/usstock/MEDP.csv\n",
      "Saved data for symbol MEDS to C:/Users/atlas/OneDrive/Desktop/usstock/MEDS.csv\n",
      "Saved data for symbol MEG to C:/Users/atlas/OneDrive/Desktop/usstock/MEG.csv\n",
      "Saved data for symbol MEGI to C:/Users/atlas/OneDrive/Desktop/usstock/MEGI.csv\n",
      "Saved data for symbol MEGL to C:/Users/atlas/OneDrive/Desktop/usstock/MEGL.csv\n",
      "Saved data for symbol MEI to C:/Users/atlas/OneDrive/Desktop/usstock/MEI.csv\n",
      "Saved data for symbol MEIP to C:/Users/atlas/OneDrive/Desktop/usstock/MEIP.csv\n",
      "Saved data for symbol MELI to C:/Users/atlas/OneDrive/Desktop/usstock/MELI.csv\n",
      "Saved data for symbol MEOH to C:/Users/atlas/OneDrive/Desktop/usstock/MEOH.csv\n"
     ]
    },
    {
     "name": "stderr",
     "output_type": "stream",
     "text": [
      "\n",
      "1 Failed download:\n",
      "['MER^K']: Exception('%ticker%: No timezone found, symbol may be delisted')\n"
     ]
    },
    {
     "name": "stdout",
     "output_type": "stream",
     "text": [
      "Saved data for symbol MER^K to C:/Users/atlas/OneDrive/Desktop/usstock/MER^K.csv\n",
      "Saved data for symbol MERC to C:/Users/atlas/OneDrive/Desktop/usstock/MERC.csv\n",
      "Saved data for symbol MESA to C:/Users/atlas/OneDrive/Desktop/usstock/MESA.csv\n",
      "Saved data for symbol MESO to C:/Users/atlas/OneDrive/Desktop/usstock/MESO.csv\n",
      "Saved data for symbol MET to C:/Users/atlas/OneDrive/Desktop/usstock/MET.csv\n"
     ]
    },
    {
     "name": "stderr",
     "output_type": "stream",
     "text": [
      "\n",
      "1 Failed download:\n",
      "['MET^A']: Exception('%ticker%: No timezone found, symbol may be delisted')\n"
     ]
    },
    {
     "name": "stdout",
     "output_type": "stream",
     "text": [
      "Saved data for symbol MET^A to C:/Users/atlas/OneDrive/Desktop/usstock/MET^A.csv\n"
     ]
    },
    {
     "name": "stderr",
     "output_type": "stream",
     "text": [
      "\n",
      "1 Failed download:\n",
      "['MET^E']: Exception('%ticker%: No timezone found, symbol may be delisted')\n"
     ]
    },
    {
     "name": "stdout",
     "output_type": "stream",
     "text": [
      "Saved data for symbol MET^E to C:/Users/atlas/OneDrive/Desktop/usstock/MET^E.csv\n"
     ]
    },
    {
     "name": "stderr",
     "output_type": "stream",
     "text": [
      "\n",
      "1 Failed download:\n",
      "['MET^F']: Exception('%ticker%: No timezone found, symbol may be delisted')\n"
     ]
    },
    {
     "name": "stdout",
     "output_type": "stream",
     "text": [
      "Saved data for symbol MET^F to C:/Users/atlas/OneDrive/Desktop/usstock/MET^F.csv\n",
      "Saved data for symbol META to C:/Users/atlas/OneDrive/Desktop/usstock/META.csv\n",
      "Saved data for symbol METC to C:/Users/atlas/OneDrive/Desktop/usstock/METC.csv\n",
      "Saved data for symbol METCB to C:/Users/atlas/OneDrive/Desktop/usstock/METCB.csv\n",
      "Saved data for symbol METCL to C:/Users/atlas/OneDrive/Desktop/usstock/METCL.csv\n",
      "Saved data for symbol MFA to C:/Users/atlas/OneDrive/Desktop/usstock/MFA.csv\n"
     ]
    },
    {
     "name": "stderr",
     "output_type": "stream",
     "text": [
      "\n",
      "1 Failed download:\n",
      "['MFA^B']: Exception('%ticker%: No timezone found, symbol may be delisted')\n"
     ]
    },
    {
     "name": "stdout",
     "output_type": "stream",
     "text": [
      "Saved data for symbol MFA^B to C:/Users/atlas/OneDrive/Desktop/usstock/MFA^B.csv\n"
     ]
    },
    {
     "name": "stderr",
     "output_type": "stream",
     "text": [
      "\n",
      "1 Failed download:\n",
      "['MFA^C']: Exception('%ticker%: No timezone found, symbol may be delisted')\n"
     ]
    },
    {
     "name": "stdout",
     "output_type": "stream",
     "text": [
      "Saved data for symbol MFA^C to C:/Users/atlas/OneDrive/Desktop/usstock/MFA^C.csv\n",
      "Saved data for symbol MFAN to C:/Users/atlas/OneDrive/Desktop/usstock/MFAN.csv\n",
      "Saved data for symbol MFC to C:/Users/atlas/OneDrive/Desktop/usstock/MFC.csv\n",
      "Saved data for symbol MFD to C:/Users/atlas/OneDrive/Desktop/usstock/MFD.csv\n",
      "Saved data for symbol MFG to C:/Users/atlas/OneDrive/Desktop/usstock/MFG.csv\n",
      "Saved data for symbol MFH to C:/Users/atlas/OneDrive/Desktop/usstock/MFH.csv\n",
      "Saved data for symbol MFIC to C:/Users/atlas/OneDrive/Desktop/usstock/MFIC.csv\n",
      "Saved data for symbol MFICL to C:/Users/atlas/OneDrive/Desktop/usstock/MFICL.csv\n",
      "Saved data for symbol MFIN to C:/Users/atlas/OneDrive/Desktop/usstock/MFIN.csv\n",
      "Saved data for symbol MFM to C:/Users/atlas/OneDrive/Desktop/usstock/MFM.csv\n",
      "Saved data for symbol MG to C:/Users/atlas/OneDrive/Desktop/usstock/MG.csv\n",
      "Saved data for symbol MGA to C:/Users/atlas/OneDrive/Desktop/usstock/MGA.csv\n",
      "Saved data for symbol MGEE to C:/Users/atlas/OneDrive/Desktop/usstock/MGEE.csv\n",
      "Saved data for symbol MGF to C:/Users/atlas/OneDrive/Desktop/usstock/MGF.csv\n",
      "Saved data for symbol MGIC to C:/Users/atlas/OneDrive/Desktop/usstock/MGIC.csv\n",
      "Saved data for symbol MGIH to C:/Users/atlas/OneDrive/Desktop/usstock/MGIH.csv\n",
      "Saved data for symbol MGLD to C:/Users/atlas/OneDrive/Desktop/usstock/MGLD.csv\n",
      "Saved data for symbol MGM to C:/Users/atlas/OneDrive/Desktop/usstock/MGM.csv\n",
      "Saved data for symbol MGNI to C:/Users/atlas/OneDrive/Desktop/usstock/MGNI.csv\n"
     ]
    },
    {
     "name": "stderr",
     "output_type": "stream",
     "text": [
      "\n",
      "1 Failed download:\n",
      "['MGOL']: ConnectionError(ProtocolError('Connection aborted.', RemoteDisconnected('Remote end closed connection without response')))\n"
     ]
    },
    {
     "name": "stdout",
     "output_type": "stream",
     "text": [
      "Saved data for symbol MGNX to C:/Users/atlas/OneDrive/Desktop/usstock/MGNX.csv\n",
      "Saved data for symbol MGOL to C:/Users/atlas/OneDrive/Desktop/usstock/MGOL.csv\n",
      "Saved data for symbol MGPI to C:/Users/atlas/OneDrive/Desktop/usstock/MGPI.csv\n",
      "Saved data for symbol MGR to C:/Users/atlas/OneDrive/Desktop/usstock/MGR.csv\n",
      "Saved data for symbol MGRB to C:/Users/atlas/OneDrive/Desktop/usstock/MGRB.csv\n",
      "Saved data for symbol MGRC to C:/Users/atlas/OneDrive/Desktop/usstock/MGRC.csv\n",
      "Saved data for symbol MGRD to C:/Users/atlas/OneDrive/Desktop/usstock/MGRD.csv\n",
      "Saved data for symbol MGRE to C:/Users/atlas/OneDrive/Desktop/usstock/MGRE.csv\n",
      "Saved data for symbol MGRM to C:/Users/atlas/OneDrive/Desktop/usstock/MGRM.csv\n",
      "Saved data for symbol MGRX to C:/Users/atlas/OneDrive/Desktop/usstock/MGRX.csv\n",
      "Saved data for symbol MGTX to C:/Users/atlas/OneDrive/Desktop/usstock/MGTX.csv\n",
      "Saved data for symbol MGX to C:/Users/atlas/OneDrive/Desktop/usstock/MGX.csv\n",
      "Saved data for symbol MGY to C:/Users/atlas/OneDrive/Desktop/usstock/MGY.csv\n",
      "Saved data for symbol MGYR to C:/Users/atlas/OneDrive/Desktop/usstock/MGYR.csv\n",
      "Saved data for symbol MHD to C:/Users/atlas/OneDrive/Desktop/usstock/MHD.csv\n",
      "Saved data for symbol MHF to C:/Users/atlas/OneDrive/Desktop/usstock/MHF.csv\n",
      "Saved data for symbol MHH to C:/Users/atlas/OneDrive/Desktop/usstock/MHH.csv\n",
      "Saved data for symbol MHI to C:/Users/atlas/OneDrive/Desktop/usstock/MHI.csv\n",
      "Saved data for symbol MHK to C:/Users/atlas/OneDrive/Desktop/usstock/MHK.csv\n",
      "Saved data for symbol MHLA to C:/Users/atlas/OneDrive/Desktop/usstock/MHLA.csv\n",
      "Saved data for symbol MHLD to C:/Users/atlas/OneDrive/Desktop/usstock/MHLD.csv\n",
      "Saved data for symbol MHN to C:/Users/atlas/OneDrive/Desktop/usstock/MHN.csv\n",
      "Saved data for symbol MHNC to C:/Users/atlas/OneDrive/Desktop/usstock/MHNC.csv\n",
      "Saved data for symbol MHO to C:/Users/atlas/OneDrive/Desktop/usstock/MHO.csv\n",
      "Saved data for symbol MHUA to C:/Users/atlas/OneDrive/Desktop/usstock/MHUA.csv\n",
      "Saved data for symbol MI to C:/Users/atlas/OneDrive/Desktop/usstock/MI.csv\n",
      "Saved data for symbol MICS to C:/Users/atlas/OneDrive/Desktop/usstock/MICS.csv\n",
      "Saved data for symbol MIDD to C:/Users/atlas/OneDrive/Desktop/usstock/MIDD.csv\n",
      "Saved data for symbol MIGI to C:/Users/atlas/OneDrive/Desktop/usstock/MIGI.csv\n",
      "Saved data for symbol MIN to C:/Users/atlas/OneDrive/Desktop/usstock/MIN.csv\n",
      "Saved data for symbol MIND to C:/Users/atlas/OneDrive/Desktop/usstock/MIND.csv\n",
      "Saved data for symbol MINDP to C:/Users/atlas/OneDrive/Desktop/usstock/MINDP.csv\n",
      "Saved data for symbol MINM to C:/Users/atlas/OneDrive/Desktop/usstock/MINM.csv\n",
      "Saved data for symbol MIO to C:/Users/atlas/OneDrive/Desktop/usstock/MIO.csv\n",
      "Saved data for symbol MIR to C:/Users/atlas/OneDrive/Desktop/usstock/MIR.csv\n",
      "Saved data for symbol MIRA to C:/Users/atlas/OneDrive/Desktop/usstock/MIRA.csv\n",
      "Saved data for symbol MIRM to C:/Users/atlas/OneDrive/Desktop/usstock/MIRM.csv\n",
      "Saved data for symbol MIST to C:/Users/atlas/OneDrive/Desktop/usstock/MIST.csv\n",
      "Saved data for symbol MITA to C:/Users/atlas/OneDrive/Desktop/usstock/MITA.csv\n",
      "Saved data for symbol MITAU to C:/Users/atlas/OneDrive/Desktop/usstock/MITAU.csv\n",
      "Saved data for symbol MITK to C:/Users/atlas/OneDrive/Desktop/usstock/MITK.csv\n",
      "Saved data for symbol MITN to C:/Users/atlas/OneDrive/Desktop/usstock/MITN.csv\n",
      "Saved data for symbol MITQ to C:/Users/atlas/OneDrive/Desktop/usstock/MITQ.csv\n",
      "Saved data for symbol MITT to C:/Users/atlas/OneDrive/Desktop/usstock/MITT.csv\n"
     ]
    },
    {
     "name": "stderr",
     "output_type": "stream",
     "text": [
      "Failed to get ticker 'MITT^A' reason: ('Connection aborted.', RemoteDisconnected('Remote end closed connection without response'))\n",
      "\n",
      "1 Failed download:\n",
      "['MITT^A']: Exception('%ticker%: No timezone found, symbol may be delisted')\n"
     ]
    },
    {
     "name": "stdout",
     "output_type": "stream",
     "text": [
      "Saved data for symbol MITT^A to C:/Users/atlas/OneDrive/Desktop/usstock/MITT^A.csv\n"
     ]
    },
    {
     "name": "stderr",
     "output_type": "stream",
     "text": [
      "Failed to get ticker 'MITT^B' reason: ('Connection aborted.', RemoteDisconnected('Remote end closed connection without response'))\n",
      "\n",
      "1 Failed download:\n",
      "['MITT^B']: Exception('%ticker%: No timezone found, symbol may be delisted')\n"
     ]
    },
    {
     "name": "stdout",
     "output_type": "stream",
     "text": [
      "Saved data for symbol MITT^B to C:/Users/atlas/OneDrive/Desktop/usstock/MITT^B.csv\n"
     ]
    },
    {
     "name": "stderr",
     "output_type": "stream",
     "text": [
      "Failed to get ticker 'MITT^C' reason: ('Connection aborted.', RemoteDisconnected('Remote end closed connection without response'))\n",
      "\n",
      "1 Failed download:\n",
      "['MITT^C']: Exception('%ticker%: No timezone found, symbol may be delisted')\n"
     ]
    },
    {
     "name": "stdout",
     "output_type": "stream",
     "text": [
      "Saved data for symbol MITT^C to C:/Users/atlas/OneDrive/Desktop/usstock/MITT^C.csv\n",
      "Saved data for symbol MIY to C:/Users/atlas/OneDrive/Desktop/usstock/MIY.csv\n",
      "Saved data for symbol MKC to C:/Users/atlas/OneDrive/Desktop/usstock/MKC.csv\n",
      "Saved data for symbol MKFG to C:/Users/atlas/OneDrive/Desktop/usstock/MKFG.csv\n",
      "Saved data for symbol MKL to C:/Users/atlas/OneDrive/Desktop/usstock/MKL.csv\n",
      "Saved data for symbol MKSI to C:/Users/atlas/OneDrive/Desktop/usstock/MKSI.csv\n",
      "Saved data for symbol MKTW to C:/Users/atlas/OneDrive/Desktop/usstock/MKTW.csv\n",
      "Saved data for symbol MKTX to C:/Users/atlas/OneDrive/Desktop/usstock/MKTX.csv\n",
      "Saved data for symbol ML to C:/Users/atlas/OneDrive/Desktop/usstock/ML.csv\n",
      "Saved data for symbol MLAB to C:/Users/atlas/OneDrive/Desktop/usstock/MLAB.csv\n",
      "Saved data for symbol MLCO to C:/Users/atlas/OneDrive/Desktop/usstock/MLCO.csv\n",
      "Saved data for symbol MLEC to C:/Users/atlas/OneDrive/Desktop/usstock/MLEC.csv\n"
     ]
    },
    {
     "name": "stderr",
     "output_type": "stream",
     "text": [
      "\n",
      "1 Failed download:\n",
      "['MLECW']: Exception('%ticker%: 1d data not available for startTime=-14831751840 and endTime=1713530721. Only 100 years worth of day granularity data are allowed to be fetched per request.')\n"
     ]
    },
    {
     "name": "stdout",
     "output_type": "stream",
     "text": [
      "Saved data for symbol MLECW to C:/Users/atlas/OneDrive/Desktop/usstock/MLECW.csv\n",
      "Saved data for symbol MLGO to C:/Users/atlas/OneDrive/Desktop/usstock/MLGO.csv\n",
      "Saved data for symbol MLI to C:/Users/atlas/OneDrive/Desktop/usstock/MLI.csv\n",
      "Saved data for symbol MLKN to C:/Users/atlas/OneDrive/Desktop/usstock/MLKN.csv\n",
      "Saved data for symbol MLM to C:/Users/atlas/OneDrive/Desktop/usstock/MLM.csv\n",
      "Saved data for symbol MLNK to C:/Users/atlas/OneDrive/Desktop/usstock/MLNK.csv\n",
      "Saved data for symbol MLP to C:/Users/atlas/OneDrive/Desktop/usstock/MLP.csv\n",
      "Saved data for symbol MLR to C:/Users/atlas/OneDrive/Desktop/usstock/MLR.csv\n",
      "Saved data for symbol MLSS to C:/Users/atlas/OneDrive/Desktop/usstock/MLSS.csv\n",
      "Saved data for symbol MLTX to C:/Users/atlas/OneDrive/Desktop/usstock/MLTX.csv\n",
      "Saved data for symbol MLYS to C:/Users/atlas/OneDrive/Desktop/usstock/MLYS.csv\n",
      "Saved data for symbol MMA to C:/Users/atlas/OneDrive/Desktop/usstock/MMA.csv\n",
      "Saved data for symbol MMAT to C:/Users/atlas/OneDrive/Desktop/usstock/MMAT.csv\n",
      "Saved data for symbol MMC to C:/Users/atlas/OneDrive/Desktop/usstock/MMC.csv\n",
      "Saved data for symbol MMD to C:/Users/atlas/OneDrive/Desktop/usstock/MMD.csv\n",
      "Saved data for symbol MMI to C:/Users/atlas/OneDrive/Desktop/usstock/MMI.csv\n",
      "Saved data for symbol MMLP to C:/Users/atlas/OneDrive/Desktop/usstock/MMLP.csv\n",
      "Saved data for symbol MMM to C:/Users/atlas/OneDrive/Desktop/usstock/MMM.csv\n",
      "Saved data for symbol MMS to C:/Users/atlas/OneDrive/Desktop/usstock/MMS.csv\n",
      "Saved data for symbol MMSI to C:/Users/atlas/OneDrive/Desktop/usstock/MMSI.csv\n",
      "Saved data for symbol MMT to C:/Users/atlas/OneDrive/Desktop/usstock/MMT.csv\n",
      "Saved data for symbol MMU to C:/Users/atlas/OneDrive/Desktop/usstock/MMU.csv\n",
      "Saved data for symbol MMV to C:/Users/atlas/OneDrive/Desktop/usstock/MMV.csv\n",
      "Saved data for symbol MMYT to C:/Users/atlas/OneDrive/Desktop/usstock/MMYT.csv\n",
      "Saved data for symbol MNDO to C:/Users/atlas/OneDrive/Desktop/usstock/MNDO.csv\n",
      "Saved data for symbol MNDR to C:/Users/atlas/OneDrive/Desktop/usstock/MNDR.csv\n",
      "Saved data for symbol MNDY to C:/Users/atlas/OneDrive/Desktop/usstock/MNDY.csv\n",
      "Saved data for symbol MNKD to C:/Users/atlas/OneDrive/Desktop/usstock/MNKD.csv\n",
      "Saved data for symbol MNMD to C:/Users/atlas/OneDrive/Desktop/usstock/MNMD.csv\n",
      "Saved data for symbol MNOV to C:/Users/atlas/OneDrive/Desktop/usstock/MNOV.csv\n",
      "Saved data for symbol MNPR to C:/Users/atlas/OneDrive/Desktop/usstock/MNPR.csv\n",
      "Saved data for symbol MNR to C:/Users/atlas/OneDrive/Desktop/usstock/MNR.csv\n",
      "Saved data for symbol MNRO to C:/Users/atlas/OneDrive/Desktop/usstock/MNRO.csv\n",
      "Saved data for symbol MNSB to C:/Users/atlas/OneDrive/Desktop/usstock/MNSB.csv\n",
      "Saved data for symbol MNSBP to C:/Users/atlas/OneDrive/Desktop/usstock/MNSBP.csv\n",
      "Saved data for symbol MNSO to C:/Users/atlas/OneDrive/Desktop/usstock/MNSO.csv\n",
      "Saved data for symbol MNST to C:/Users/atlas/OneDrive/Desktop/usstock/MNST.csv\n",
      "Saved data for symbol MNTK to C:/Users/atlas/OneDrive/Desktop/usstock/MNTK.csv\n",
      "Saved data for symbol MNTN to C:/Users/atlas/OneDrive/Desktop/usstock/MNTN.csv\n",
      "Saved data for symbol MNTS to C:/Users/atlas/OneDrive/Desktop/usstock/MNTS.csv\n"
     ]
    },
    {
     "name": "stderr",
     "output_type": "stream",
     "text": [
      "\n",
      "1 Failed download:\n",
      "['MNTSW']: Exception('%ticker%: 1d data not available for startTime=-14831751840 and endTime=1713530739. Only 100 years worth of day granularity data are allowed to be fetched per request.')\n"
     ]
    },
    {
     "name": "stdout",
     "output_type": "stream",
     "text": [
      "Saved data for symbol MNTSW to C:/Users/atlas/OneDrive/Desktop/usstock/MNTSW.csv\n",
      "Saved data for symbol MNTX to C:/Users/atlas/OneDrive/Desktop/usstock/MNTX.csv\n",
      "Saved data for symbol MNY to C:/Users/atlas/OneDrive/Desktop/usstock/MNY.csv\n",
      "Saved data for symbol MNYWW to C:/Users/atlas/OneDrive/Desktop/usstock/MNYWW.csv\n",
      "Saved data for symbol MO to C:/Users/atlas/OneDrive/Desktop/usstock/MO.csv\n",
      "Saved data for symbol MOB to C:/Users/atlas/OneDrive/Desktop/usstock/MOB.csv\n",
      "Saved data for symbol MOBBW to C:/Users/atlas/OneDrive/Desktop/usstock/MOBBW.csv\n",
      "Saved data for symbol MOBX to C:/Users/atlas/OneDrive/Desktop/usstock/MOBX.csv\n"
     ]
    },
    {
     "name": "stderr",
     "output_type": "stream",
     "text": [
      "\n",
      "1 Failed download:\n",
      "['MOBXW']: Exception('%ticker%: 1d data not available for startTime=-14831751840 and endTime=1713530745. Only 100 years worth of day granularity data are allowed to be fetched per request.')\n"
     ]
    },
    {
     "name": "stdout",
     "output_type": "stream",
     "text": [
      "Saved data for symbol MOBXW to C:/Users/atlas/OneDrive/Desktop/usstock/MOBXW.csv\n",
      "Saved data for symbol MOD to C:/Users/atlas/OneDrive/Desktop/usstock/MOD.csv\n",
      "Saved data for symbol MODD to C:/Users/atlas/OneDrive/Desktop/usstock/MODD.csv\n",
      "Saved data for symbol MODG to C:/Users/atlas/OneDrive/Desktop/usstock/MODG.csv\n",
      "Saved data for symbol MODN to C:/Users/atlas/OneDrive/Desktop/usstock/MODN.csv\n",
      "Saved data for symbol MODV to C:/Users/atlas/OneDrive/Desktop/usstock/MODV.csv\n",
      "Saved data for symbol MOFG to C:/Users/atlas/OneDrive/Desktop/usstock/MOFG.csv\n",
      "Saved data for symbol MOGO to C:/Users/atlas/OneDrive/Desktop/usstock/MOGO.csv\n",
      "Saved data for symbol MOGU to C:/Users/atlas/OneDrive/Desktop/usstock/MOGU.csv\n",
      "Saved data for symbol MOH to C:/Users/atlas/OneDrive/Desktop/usstock/MOH.csv\n",
      "Saved data for symbol MOLN to C:/Users/atlas/OneDrive/Desktop/usstock/MOLN.csv\n",
      "Saved data for symbol MOMO to C:/Users/atlas/OneDrive/Desktop/usstock/MOMO.csv\n",
      "Saved data for symbol MOND to C:/Users/atlas/OneDrive/Desktop/usstock/MOND.csv\n",
      "Saved data for symbol MOR to C:/Users/atlas/OneDrive/Desktop/usstock/MOR.csv\n",
      "Saved data for symbol MORF to C:/Users/atlas/OneDrive/Desktop/usstock/MORF.csv\n",
      "Saved data for symbol MORN to C:/Users/atlas/OneDrive/Desktop/usstock/MORN.csv\n",
      "Saved data for symbol MOS to C:/Users/atlas/OneDrive/Desktop/usstock/MOS.csv\n",
      "Saved data for symbol MOV to C:/Users/atlas/OneDrive/Desktop/usstock/MOV.csv\n",
      "Saved data for symbol MOVE to C:/Users/atlas/OneDrive/Desktop/usstock/MOVE.csv\n",
      "Saved data for symbol MP to C:/Users/atlas/OneDrive/Desktop/usstock/MP.csv\n",
      "Saved data for symbol MPA to C:/Users/atlas/OneDrive/Desktop/usstock/MPA.csv\n",
      "Saved data for symbol MPAA to C:/Users/atlas/OneDrive/Desktop/usstock/MPAA.csv\n",
      "Saved data for symbol MPB to C:/Users/atlas/OneDrive/Desktop/usstock/MPB.csv\n",
      "Saved data for symbol MPC to C:/Users/atlas/OneDrive/Desktop/usstock/MPC.csv\n",
      "Saved data for symbol MPLN to C:/Users/atlas/OneDrive/Desktop/usstock/MPLN.csv\n",
      "Saved data for symbol MPLX to C:/Users/atlas/OneDrive/Desktop/usstock/MPLX.csv\n",
      "Saved data for symbol MPTI to C:/Users/atlas/OneDrive/Desktop/usstock/MPTI.csv\n",
      "Saved data for symbol MPU to C:/Users/atlas/OneDrive/Desktop/usstock/MPU.csv\n",
      "Saved data for symbol MPV to C:/Users/atlas/OneDrive/Desktop/usstock/MPV.csv\n",
      "Saved data for symbol MPW to C:/Users/atlas/OneDrive/Desktop/usstock/MPW.csv\n",
      "Saved data for symbol MPWR to C:/Users/atlas/OneDrive/Desktop/usstock/MPWR.csv\n",
      "Saved data for symbol MPX to C:/Users/atlas/OneDrive/Desktop/usstock/MPX.csv\n",
      "Saved data for symbol MQ to C:/Users/atlas/OneDrive/Desktop/usstock/MQ.csv\n",
      "Saved data for symbol MQT to C:/Users/atlas/OneDrive/Desktop/usstock/MQT.csv\n",
      "Saved data for symbol MQY to C:/Users/atlas/OneDrive/Desktop/usstock/MQY.csv\n",
      "Saved data for symbol MRAI to C:/Users/atlas/OneDrive/Desktop/usstock/MRAI.csv\n",
      "Saved data for symbol MRAM to C:/Users/atlas/OneDrive/Desktop/usstock/MRAM.csv\n",
      "Saved data for symbol MRBK to C:/Users/atlas/OneDrive/Desktop/usstock/MRBK.csv\n",
      "Saved data for symbol MRC to C:/Users/atlas/OneDrive/Desktop/usstock/MRC.csv\n",
      "Saved data for symbol MRCC to C:/Users/atlas/OneDrive/Desktop/usstock/MRCC.csv\n",
      "Saved data for symbol MRCY to C:/Users/atlas/OneDrive/Desktop/usstock/MRCY.csv\n",
      "Saved data for symbol MRDB to C:/Users/atlas/OneDrive/Desktop/usstock/MRDB.csv\n",
      "Saved data for symbol MREO to C:/Users/atlas/OneDrive/Desktop/usstock/MREO.csv\n",
      "Saved data for symbol MRIN to C:/Users/atlas/OneDrive/Desktop/usstock/MRIN.csv\n",
      "Saved data for symbol MRK to C:/Users/atlas/OneDrive/Desktop/usstock/MRK.csv\n",
      "Saved data for symbol MRKR to C:/Users/atlas/OneDrive/Desktop/usstock/MRKR.csv\n",
      "Saved data for symbol MRM to C:/Users/atlas/OneDrive/Desktop/usstock/MRM.csv\n",
      "Saved data for symbol MRNA to C:/Users/atlas/OneDrive/Desktop/usstock/MRNA.csv\n",
      "Saved data for symbol MRNO to C:/Users/atlas/OneDrive/Desktop/usstock/MRNO.csv\n"
     ]
    },
    {
     "name": "stderr",
     "output_type": "stream",
     "text": [
      "\n",
      "1 Failed download:\n",
      "['MRNOW']: Exception('%ticker%: 1d data not available for startTime=-14831751840 and endTime=1713530764. Only 100 years worth of day granularity data are allowed to be fetched per request.')\n"
     ]
    },
    {
     "name": "stdout",
     "output_type": "stream",
     "text": [
      "Saved data for symbol MRNOW to C:/Users/atlas/OneDrive/Desktop/usstock/MRNOW.csv\n",
      "Saved data for symbol MRNS to C:/Users/atlas/OneDrive/Desktop/usstock/MRNS.csv\n",
      "Saved data for symbol MRO to C:/Users/atlas/OneDrive/Desktop/usstock/MRO.csv\n",
      "Saved data for symbol MRSN to C:/Users/atlas/OneDrive/Desktop/usstock/MRSN.csv\n",
      "Saved data for symbol MRT to C:/Users/atlas/OneDrive/Desktop/usstock/MRT.csv\n",
      "Saved data for symbol MRTN to C:/Users/atlas/OneDrive/Desktop/usstock/MRTN.csv\n",
      "Saved data for symbol MRUS to C:/Users/atlas/OneDrive/Desktop/usstock/MRUS.csv\n",
      "Saved data for symbol MRVI to C:/Users/atlas/OneDrive/Desktop/usstock/MRVI.csv\n",
      "Saved data for symbol MRVL to C:/Users/atlas/OneDrive/Desktop/usstock/MRVL.csv\n",
      "Saved data for symbol MS to C:/Users/atlas/OneDrive/Desktop/usstock/MS.csv\n"
     ]
    },
    {
     "name": "stderr",
     "output_type": "stream",
     "text": [
      "\n",
      "1 Failed download:\n",
      "['MS^A']: Exception('%ticker%: No timezone found, symbol may be delisted')\n"
     ]
    },
    {
     "name": "stdout",
     "output_type": "stream",
     "text": [
      "Saved data for symbol MS^A to C:/Users/atlas/OneDrive/Desktop/usstock/MS^A.csv\n"
     ]
    },
    {
     "name": "stderr",
     "output_type": "stream",
     "text": [
      "\n",
      "1 Failed download:\n",
      "['MS^E']: Exception('%ticker%: No timezone found, symbol may be delisted')\n"
     ]
    },
    {
     "name": "stdout",
     "output_type": "stream",
     "text": [
      "Saved data for symbol MS^E to C:/Users/atlas/OneDrive/Desktop/usstock/MS^E.csv\n"
     ]
    },
    {
     "name": "stderr",
     "output_type": "stream",
     "text": [
      "\n",
      "1 Failed download:\n",
      "['MS^F']: Exception('%ticker%: No timezone found, symbol may be delisted')\n"
     ]
    },
    {
     "name": "stdout",
     "output_type": "stream",
     "text": [
      "Saved data for symbol MS^F to C:/Users/atlas/OneDrive/Desktop/usstock/MS^F.csv\n"
     ]
    },
    {
     "name": "stderr",
     "output_type": "stream",
     "text": [
      "\n",
      "1 Failed download:\n",
      "['MS^I']: Exception('%ticker%: No timezone found, symbol may be delisted')\n"
     ]
    },
    {
     "name": "stdout",
     "output_type": "stream",
     "text": [
      "Saved data for symbol MS^I to C:/Users/atlas/OneDrive/Desktop/usstock/MS^I.csv\n"
     ]
    },
    {
     "name": "stderr",
     "output_type": "stream",
     "text": [
      "\n",
      "1 Failed download:\n",
      "['MS^K']: Exception('%ticker%: No timezone found, symbol may be delisted')\n"
     ]
    },
    {
     "name": "stdout",
     "output_type": "stream",
     "text": [
      "Saved data for symbol MS^K to C:/Users/atlas/OneDrive/Desktop/usstock/MS^K.csv\n"
     ]
    },
    {
     "name": "stderr",
     "output_type": "stream",
     "text": [
      "\n",
      "1 Failed download:\n",
      "['MS^L']: Exception('%ticker%: No timezone found, symbol may be delisted')\n"
     ]
    },
    {
     "name": "stdout",
     "output_type": "stream",
     "text": [
      "Saved data for symbol MS^L to C:/Users/atlas/OneDrive/Desktop/usstock/MS^L.csv\n"
     ]
    },
    {
     "name": "stderr",
     "output_type": "stream",
     "text": [
      "\n",
      "1 Failed download:\n",
      "['MS^O']: Exception('%ticker%: No timezone found, symbol may be delisted')\n"
     ]
    },
    {
     "name": "stdout",
     "output_type": "stream",
     "text": [
      "Saved data for symbol MS^O to C:/Users/atlas/OneDrive/Desktop/usstock/MS^O.csv\n"
     ]
    },
    {
     "name": "stderr",
     "output_type": "stream",
     "text": [
      "\n",
      "1 Failed download:\n",
      "['MS^P']: Exception('%ticker%: No timezone found, symbol may be delisted')\n"
     ]
    },
    {
     "name": "stdout",
     "output_type": "stream",
     "text": [
      "Saved data for symbol MS^P to C:/Users/atlas/OneDrive/Desktop/usstock/MS^P.csv\n",
      "Saved data for symbol MSA to C:/Users/atlas/OneDrive/Desktop/usstock/MSA.csv\n",
      "Saved data for symbol MSAI to C:/Users/atlas/OneDrive/Desktop/usstock/MSAI.csv\n"
     ]
    },
    {
     "name": "stderr",
     "output_type": "stream",
     "text": [
      "\n",
      "1 Failed download:\n",
      "['MSAIW']: Exception('%ticker%: 1d data not available for startTime=-14831751840 and endTime=1713530789. Only 100 years worth of day granularity data are allowed to be fetched per request.')\n"
     ]
    },
    {
     "name": "stdout",
     "output_type": "stream",
     "text": [
      "Saved data for symbol MSAIW to C:/Users/atlas/OneDrive/Desktop/usstock/MSAIW.csv\n",
      "Saved data for symbol MSB to C:/Users/atlas/OneDrive/Desktop/usstock/MSB.csv\n",
      "Saved data for symbol MSBI to C:/Users/atlas/OneDrive/Desktop/usstock/MSBI.csv\n",
      "Saved data for symbol MSBIP to C:/Users/atlas/OneDrive/Desktop/usstock/MSBIP.csv\n",
      "Saved data for symbol MSC to C:/Users/atlas/OneDrive/Desktop/usstock/MSC.csv\n",
      "Saved data for symbol MSCI to C:/Users/atlas/OneDrive/Desktop/usstock/MSCI.csv\n",
      "Saved data for symbol MSD to C:/Users/atlas/OneDrive/Desktop/usstock/MSD.csv\n",
      "Saved data for symbol MSDL to C:/Users/atlas/OneDrive/Desktop/usstock/MSDL.csv\n",
      "Saved data for symbol MSEX to C:/Users/atlas/OneDrive/Desktop/usstock/MSEX.csv\n",
      "Saved data for symbol MSFT to C:/Users/atlas/OneDrive/Desktop/usstock/MSFT.csv\n",
      "Saved data for symbol MSGE to C:/Users/atlas/OneDrive/Desktop/usstock/MSGE.csv\n",
      "Saved data for symbol MSGM to C:/Users/atlas/OneDrive/Desktop/usstock/MSGM.csv\n",
      "Saved data for symbol MSGS to C:/Users/atlas/OneDrive/Desktop/usstock/MSGS.csv\n",
      "Saved data for symbol MSI to C:/Users/atlas/OneDrive/Desktop/usstock/MSI.csv\n",
      "Saved data for symbol MSM to C:/Users/atlas/OneDrive/Desktop/usstock/MSM.csv\n",
      "Saved data for symbol MSN to C:/Users/atlas/OneDrive/Desktop/usstock/MSN.csv\n",
      "Saved data for symbol MSS to C:/Users/atlas/OneDrive/Desktop/usstock/MSS.csv\n",
      "Saved data for symbol MSSA to C:/Users/atlas/OneDrive/Desktop/usstock/MSSA.csv\n"
     ]
    },
    {
     "name": "stderr",
     "output_type": "stream",
     "text": [
      "\n",
      "1 Failed download:\n",
      "['MSSAR']: Exception('%ticker%: 1d data not available for startTime=-14831751840 and endTime=1713530799. Only 100 years worth of day granularity data are allowed to be fetched per request.')\n"
     ]
    },
    {
     "name": "stdout",
     "output_type": "stream",
     "text": [
      "Saved data for symbol MSSAR to C:/Users/atlas/OneDrive/Desktop/usstock/MSSAR.csv\n"
     ]
    },
    {
     "name": "stderr",
     "output_type": "stream",
     "text": [
      "\n",
      "1 Failed download:\n",
      "['MSSAW']: Exception('%ticker%: 1d data not available for startTime=-14831751840 and endTime=1713530801. Only 100 years worth of day granularity data are allowed to be fetched per request.')\n"
     ]
    },
    {
     "name": "stdout",
     "output_type": "stream",
     "text": [
      "Saved data for symbol MSSAW to C:/Users/atlas/OneDrive/Desktop/usstock/MSSAW.csv\n",
      "Saved data for symbol MSTR to C:/Users/atlas/OneDrive/Desktop/usstock/MSTR.csv\n",
      "Saved data for symbol MT to C:/Users/atlas/OneDrive/Desktop/usstock/MT.csv\n",
      "Saved data for symbol MTA to C:/Users/atlas/OneDrive/Desktop/usstock/MTA.csv\n",
      "Saved data for symbol MTAL to C:/Users/atlas/OneDrive/Desktop/usstock/MTAL.csv\n",
      "Saved data for symbol MTB to C:/Users/atlas/OneDrive/Desktop/usstock/MTB.csv\n"
     ]
    },
    {
     "name": "stderr",
     "output_type": "stream",
     "text": [
      "\n",
      "1 Failed download:\n",
      "['MTB^H']: Exception('%ticker%: No timezone found, symbol may be delisted')\n"
     ]
    },
    {
     "name": "stdout",
     "output_type": "stream",
     "text": [
      "Saved data for symbol MTB^H to C:/Users/atlas/OneDrive/Desktop/usstock/MTB^H.csv\n",
      "Saved data for symbol MTC to C:/Users/atlas/OneDrive/Desktop/usstock/MTC.csv\n",
      "Saved data for symbol MTCH to C:/Users/atlas/OneDrive/Desktop/usstock/MTCH.csv\n",
      "Saved data for symbol MTD to C:/Users/atlas/OneDrive/Desktop/usstock/MTD.csv\n",
      "Saved data for symbol MTDR to C:/Users/atlas/OneDrive/Desktop/usstock/MTDR.csv\n",
      "Saved data for symbol MTEK to C:/Users/atlas/OneDrive/Desktop/usstock/MTEK.csv\n"
     ]
    },
    {
     "name": "stderr",
     "output_type": "stream",
     "text": [
      "\n",
      "1 Failed download:\n",
      "['MTEKW']: Exception('%ticker%: 1d data not available for startTime=-14831751840 and endTime=1713530810. Only 100 years worth of day granularity data are allowed to be fetched per request.')\n"
     ]
    },
    {
     "name": "stdout",
     "output_type": "stream",
     "text": [
      "Saved data for symbol MTEKW to C:/Users/atlas/OneDrive/Desktop/usstock/MTEKW.csv\n",
      "Saved data for symbol MTEM to C:/Users/atlas/OneDrive/Desktop/usstock/MTEM.csv\n",
      "Saved data for symbol MTEN to C:/Users/atlas/OneDrive/Desktop/usstock/MTEN.csv\n",
      "Saved data for symbol MTEX to C:/Users/atlas/OneDrive/Desktop/usstock/MTEX.csv\n",
      "Saved data for symbol MTG to C:/Users/atlas/OneDrive/Desktop/usstock/MTG.csv\n",
      "Saved data for symbol MTH to C:/Users/atlas/OneDrive/Desktop/usstock/MTH.csv\n",
      "Saved data for symbol MTLS to C:/Users/atlas/OneDrive/Desktop/usstock/MTLS.csv\n",
      "Saved data for symbol MTN to C:/Users/atlas/OneDrive/Desktop/usstock/MTN.csv\n",
      "Saved data for symbol MTNB to C:/Users/atlas/OneDrive/Desktop/usstock/MTNB.csv\n",
      "Saved data for symbol MTR to C:/Users/atlas/OneDrive/Desktop/usstock/MTR.csv\n",
      "Saved data for symbol MTRN to C:/Users/atlas/OneDrive/Desktop/usstock/MTRN.csv\n",
      "Saved data for symbol MTRX to C:/Users/atlas/OneDrive/Desktop/usstock/MTRX.csv\n",
      "Saved data for symbol MTSI to C:/Users/atlas/OneDrive/Desktop/usstock/MTSI.csv\n",
      "Saved data for symbol MTTR to C:/Users/atlas/OneDrive/Desktop/usstock/MTTR.csv\n",
      "Saved data for symbol MTUS to C:/Users/atlas/OneDrive/Desktop/usstock/MTUS.csv\n",
      "Saved data for symbol MTW to C:/Users/atlas/OneDrive/Desktop/usstock/MTW.csv\n",
      "Saved data for symbol MTX to C:/Users/atlas/OneDrive/Desktop/usstock/MTX.csv\n",
      "Saved data for symbol MTZ to C:/Users/atlas/OneDrive/Desktop/usstock/MTZ.csv\n",
      "Saved data for symbol MU to C:/Users/atlas/OneDrive/Desktop/usstock/MU.csv\n",
      "Saved data for symbol MUA to C:/Users/atlas/OneDrive/Desktop/usstock/MUA.csv\n",
      "Saved data for symbol MUC to C:/Users/atlas/OneDrive/Desktop/usstock/MUC.csv\n",
      "Saved data for symbol MUE to C:/Users/atlas/OneDrive/Desktop/usstock/MUE.csv\n",
      "Saved data for symbol MUFG to C:/Users/atlas/OneDrive/Desktop/usstock/MUFG.csv\n",
      "Saved data for symbol MUI to C:/Users/atlas/OneDrive/Desktop/usstock/MUI.csv\n",
      "Saved data for symbol MUJ to C:/Users/atlas/OneDrive/Desktop/usstock/MUJ.csv\n",
      "Saved data for symbol MULN to C:/Users/atlas/OneDrive/Desktop/usstock/MULN.csv\n",
      "Saved data for symbol MUR to C:/Users/atlas/OneDrive/Desktop/usstock/MUR.csv\n",
      "Saved data for symbol MURA to C:/Users/atlas/OneDrive/Desktop/usstock/MURA.csv\n",
      "Saved data for symbol MUSA to C:/Users/atlas/OneDrive/Desktop/usstock/MUSA.csv\n",
      "Saved data for symbol MUX to C:/Users/atlas/OneDrive/Desktop/usstock/MUX.csv\n",
      "Saved data for symbol MVBF to C:/Users/atlas/OneDrive/Desktop/usstock/MVBF.csv\n",
      "Saved data for symbol MVF to C:/Users/atlas/OneDrive/Desktop/usstock/MVF.csv\n",
      "Saved data for symbol MVIS to C:/Users/atlas/OneDrive/Desktop/usstock/MVIS.csv\n",
      "Saved data for symbol MVO to C:/Users/atlas/OneDrive/Desktop/usstock/MVO.csv\n",
      "Saved data for symbol MVST to C:/Users/atlas/OneDrive/Desktop/usstock/MVST.csv\n"
     ]
    },
    {
     "name": "stderr",
     "output_type": "stream",
     "text": [
      "\n",
      "1 Failed download:\n",
      "['MVSTW']: Exception('%ticker%: 1d data not available for startTime=-14831751840 and endTime=1713530827. Only 100 years worth of day granularity data are allowed to be fetched per request.')\n"
     ]
    },
    {
     "name": "stdout",
     "output_type": "stream",
     "text": [
      "Saved data for symbol MVSTW to C:/Users/atlas/OneDrive/Desktop/usstock/MVSTW.csv\n",
      "Saved data for symbol MVT to C:/Users/atlas/OneDrive/Desktop/usstock/MVT.csv\n",
      "Saved data for symbol MWA to C:/Users/atlas/OneDrive/Desktop/usstock/MWA.csv\n",
      "Saved data for symbol MWG to C:/Users/atlas/OneDrive/Desktop/usstock/MWG.csv\n",
      "Saved data for symbol MX to C:/Users/atlas/OneDrive/Desktop/usstock/MX.csv\n",
      "Saved data for symbol MXC to C:/Users/atlas/OneDrive/Desktop/usstock/MXC.csv\n",
      "Saved data for symbol MXCT to C:/Users/atlas/OneDrive/Desktop/usstock/MXCT.csv\n",
      "Saved data for symbol MXE to C:/Users/atlas/OneDrive/Desktop/usstock/MXE.csv\n",
      "Saved data for symbol MXF to C:/Users/atlas/OneDrive/Desktop/usstock/MXF.csv\n",
      "Saved data for symbol MXL to C:/Users/atlas/OneDrive/Desktop/usstock/MXL.csv\n",
      "Saved data for symbol MYD to C:/Users/atlas/OneDrive/Desktop/usstock/MYD.csv\n",
      "Saved data for symbol MYE to C:/Users/atlas/OneDrive/Desktop/usstock/MYE.csv\n",
      "Saved data for symbol MYFW to C:/Users/atlas/OneDrive/Desktop/usstock/MYFW.csv\n",
      "Saved data for symbol MYGN to C:/Users/atlas/OneDrive/Desktop/usstock/MYGN.csv\n",
      "Saved data for symbol MYI to C:/Users/atlas/OneDrive/Desktop/usstock/MYI.csv\n",
      "Saved data for symbol MYMD to C:/Users/atlas/OneDrive/Desktop/usstock/MYMD.csv\n",
      "Saved data for symbol MYN to C:/Users/atlas/OneDrive/Desktop/usstock/MYN.csv\n",
      "Saved data for symbol MYNA to C:/Users/atlas/OneDrive/Desktop/usstock/MYNA.csv\n",
      "Saved data for symbol MYND to C:/Users/atlas/OneDrive/Desktop/usstock/MYND.csv\n",
      "Saved data for symbol MYNZ to C:/Users/atlas/OneDrive/Desktop/usstock/MYNZ.csv\n",
      "Saved data for symbol MYO to C:/Users/atlas/OneDrive/Desktop/usstock/MYO.csv\n",
      "Saved data for symbol MYPS to C:/Users/atlas/OneDrive/Desktop/usstock/MYPS.csv\n",
      "Saved data for symbol MYRG to C:/Users/atlas/OneDrive/Desktop/usstock/MYRG.csv\n",
      "Saved data for symbol MYSZ to C:/Users/atlas/OneDrive/Desktop/usstock/MYSZ.csv\n",
      "Saved data for symbol MYTE to C:/Users/atlas/OneDrive/Desktop/usstock/MYTE.csv\n",
      "Error occurred while downloading data for symbol nan: 'float' object has no attribute 'replace'\n",
      "Saved data for symbol NAAS to C:/Users/atlas/OneDrive/Desktop/usstock/NAAS.csv\n",
      "Saved data for symbol NABL to C:/Users/atlas/OneDrive/Desktop/usstock/NABL.csv\n",
      "Saved data for symbol NAC to C:/Users/atlas/OneDrive/Desktop/usstock/NAC.csv\n",
      "Saved data for symbol NAD to C:/Users/atlas/OneDrive/Desktop/usstock/NAD.csv\n",
      "Saved data for symbol NAII to C:/Users/atlas/OneDrive/Desktop/usstock/NAII.csv\n",
      "Saved data for symbol NAK to C:/Users/atlas/OneDrive/Desktop/usstock/NAK.csv\n",
      "Saved data for symbol NAMS to C:/Users/atlas/OneDrive/Desktop/usstock/NAMS.csv\n",
      "Saved data for symbol NAMSW to C:/Users/atlas/OneDrive/Desktop/usstock/NAMSW.csv\n",
      "Saved data for symbol NAN to C:/Users/atlas/OneDrive/Desktop/usstock/NAN.csv\n",
      "Saved data for symbol NAOV to C:/Users/atlas/OneDrive/Desktop/usstock/NAOV.csv\n",
      "Saved data for symbol NAPA to C:/Users/atlas/OneDrive/Desktop/usstock/NAPA.csv\n",
      "Saved data for symbol NARI to C:/Users/atlas/OneDrive/Desktop/usstock/NARI.csv\n",
      "Saved data for symbol NAT to C:/Users/atlas/OneDrive/Desktop/usstock/NAT.csv\n",
      "Saved data for symbol NATH to C:/Users/atlas/OneDrive/Desktop/usstock/NATH.csv\n",
      "Saved data for symbol NATL to C:/Users/atlas/OneDrive/Desktop/usstock/NATL.csv\n",
      "Saved data for symbol NATR to C:/Users/atlas/OneDrive/Desktop/usstock/NATR.csv\n",
      "Saved data for symbol NAUT to C:/Users/atlas/OneDrive/Desktop/usstock/NAUT.csv\n",
      "Saved data for symbol NAVI to C:/Users/atlas/OneDrive/Desktop/usstock/NAVI.csv\n",
      "Saved data for symbol NAZ to C:/Users/atlas/OneDrive/Desktop/usstock/NAZ.csv\n",
      "Saved data for symbol NB to C:/Users/atlas/OneDrive/Desktop/usstock/NB.csv\n",
      "Saved data for symbol NBB to C:/Users/atlas/OneDrive/Desktop/usstock/NBB.csv\n",
      "Saved data for symbol NBBK to C:/Users/atlas/OneDrive/Desktop/usstock/NBBK.csv\n",
      "Saved data for symbol NBH to C:/Users/atlas/OneDrive/Desktop/usstock/NBH.csv\n",
      "Saved data for symbol NBHC to C:/Users/atlas/OneDrive/Desktop/usstock/NBHC.csv\n",
      "Saved data for symbol NBIX to C:/Users/atlas/OneDrive/Desktop/usstock/NBIX.csv\n",
      "Saved data for symbol NBN to C:/Users/atlas/OneDrive/Desktop/usstock/NBN.csv\n",
      "Saved data for symbol NBR to C:/Users/atlas/OneDrive/Desktop/usstock/NBR.csv\n",
      "Saved data for symbol NBSE to C:/Users/atlas/OneDrive/Desktop/usstock/NBSE.csv\n",
      "Saved data for symbol NBST to C:/Users/atlas/OneDrive/Desktop/usstock/NBST.csv\n"
     ]
    },
    {
     "name": "stderr",
     "output_type": "stream",
     "text": [
      "\n",
      "1 Failed download:\n",
      "['NBSTW']: Exception('%ticker%: 1d data not available for startTime=-14831751840 and endTime=1713530850. Only 100 years worth of day granularity data are allowed to be fetched per request.')\n"
     ]
    },
    {
     "name": "stdout",
     "output_type": "stream",
     "text": [
      "Saved data for symbol NBSTW to C:/Users/atlas/OneDrive/Desktop/usstock/NBSTW.csv\n",
      "Saved data for symbol NBTB to C:/Users/atlas/OneDrive/Desktop/usstock/NBTB.csv\n",
      "Saved data for symbol NBTX to C:/Users/atlas/OneDrive/Desktop/usstock/NBTX.csv\n",
      "Saved data for symbol NBXG to C:/Users/atlas/OneDrive/Desktop/usstock/NBXG.csv\n",
      "Saved data for symbol NBY to C:/Users/atlas/OneDrive/Desktop/usstock/NBY.csv\n",
      "Saved data for symbol NC to C:/Users/atlas/OneDrive/Desktop/usstock/NC.csv\n",
      "Saved data for symbol NCA to C:/Users/atlas/OneDrive/Desktop/usstock/NCA.csv\n",
      "Saved data for symbol NCDL to C:/Users/atlas/OneDrive/Desktop/usstock/NCDL.csv\n",
      "Saved data for symbol NCL to C:/Users/atlas/OneDrive/Desktop/usstock/NCL.csv\n",
      "Saved data for symbol NCLH to C:/Users/atlas/OneDrive/Desktop/usstock/NCLH.csv\n",
      "Saved data for symbol NCMI to C:/Users/atlas/OneDrive/Desktop/usstock/NCMI.csv\n",
      "Saved data for symbol NCNA to C:/Users/atlas/OneDrive/Desktop/usstock/NCNA.csv\n",
      "Saved data for symbol NCNC to C:/Users/atlas/OneDrive/Desktop/usstock/NCNC.csv\n"
     ]
    },
    {
     "name": "stderr",
     "output_type": "stream",
     "text": [
      "\n",
      "1 Failed download:\n",
      "['NCNCW']: Exception('%ticker%: 1d data not available for startTime=-14831751840 and endTime=1713530858. Only 100 years worth of day granularity data are allowed to be fetched per request.')\n"
     ]
    },
    {
     "name": "stdout",
     "output_type": "stream",
     "text": [
      "Saved data for symbol NCNCW to C:/Users/atlas/OneDrive/Desktop/usstock/NCNCW.csv\n",
      "Saved data for symbol NCNO to C:/Users/atlas/OneDrive/Desktop/usstock/NCNO.csv\n",
      "Saved data for symbol NCPL to C:/Users/atlas/OneDrive/Desktop/usstock/NCPL.csv\n",
      "Saved data for symbol NCRA to C:/Users/atlas/OneDrive/Desktop/usstock/NCRA.csv\n",
      "Saved data for symbol NCSM to C:/Users/atlas/OneDrive/Desktop/usstock/NCSM.csv\n",
      "Saved data for symbol NCTY to C:/Users/atlas/OneDrive/Desktop/usstock/NCTY.csv\n",
      "Saved data for symbol NCV to C:/Users/atlas/OneDrive/Desktop/usstock/NCV.csv\n"
     ]
    },
    {
     "name": "stderr",
     "output_type": "stream",
     "text": [
      "\n",
      "1 Failed download:\n",
      "['NCV^A']: Exception('%ticker%: No timezone found, symbol may be delisted')\n"
     ]
    },
    {
     "name": "stdout",
     "output_type": "stream",
     "text": [
      "Saved data for symbol NCV^A to C:/Users/atlas/OneDrive/Desktop/usstock/NCV^A.csv\n",
      "Saved data for symbol NCZ to C:/Users/atlas/OneDrive/Desktop/usstock/NCZ.csv\n"
     ]
    },
    {
     "name": "stderr",
     "output_type": "stream",
     "text": [
      "\n",
      "1 Failed download:\n",
      "['NCZ^A']: Exception('%ticker%: No timezone found, symbol may be delisted')\n"
     ]
    },
    {
     "name": "stdout",
     "output_type": "stream",
     "text": [
      "Saved data for symbol NCZ^A to C:/Users/atlas/OneDrive/Desktop/usstock/NCZ^A.csv\n",
      "Saved data for symbol NDAQ to C:/Users/atlas/OneDrive/Desktop/usstock/NDAQ.csv\n",
      "Saved data for symbol NDLS to C:/Users/atlas/OneDrive/Desktop/usstock/NDLS.csv\n",
      "Saved data for symbol NDMO to C:/Users/atlas/OneDrive/Desktop/usstock/NDMO.csv\n",
      "Saved data for symbol NDP to C:/Users/atlas/OneDrive/Desktop/usstock/NDP.csv\n",
      "Saved data for symbol NDRA to C:/Users/atlas/OneDrive/Desktop/usstock/NDRA.csv\n",
      "Saved data for symbol NDSN to C:/Users/atlas/OneDrive/Desktop/usstock/NDSN.csv\n",
      "Saved data for symbol NE to C:/Users/atlas/OneDrive/Desktop/usstock/NE.csv\n",
      "Saved data for symbol NEA to C:/Users/atlas/OneDrive/Desktop/usstock/NEA.csv\n",
      "Saved data for symbol NECB to C:/Users/atlas/OneDrive/Desktop/usstock/NECB.csv\n",
      "Saved data for symbol NEE to C:/Users/atlas/OneDrive/Desktop/usstock/NEE.csv\n"
     ]
    },
    {
     "name": "stderr",
     "output_type": "stream",
     "text": [
      "\n",
      "1 Failed download:\n",
      "['NEE^N']: Exception('%ticker%: No timezone found, symbol may be delisted')\n"
     ]
    },
    {
     "name": "stdout",
     "output_type": "stream",
     "text": [
      "Saved data for symbol NEE^N to C:/Users/atlas/OneDrive/Desktop/usstock/NEE^N.csv\n"
     ]
    },
    {
     "name": "stderr",
     "output_type": "stream",
     "text": [
      "\n",
      "1 Failed download:\n",
      "['NEE^R']: Exception('%ticker%: No timezone found, symbol may be delisted')\n"
     ]
    },
    {
     "name": "stdout",
     "output_type": "stream",
     "text": [
      "Saved data for symbol NEE^R to C:/Users/atlas/OneDrive/Desktop/usstock/NEE^R.csv\n",
      "Saved data for symbol NEGG to C:/Users/atlas/OneDrive/Desktop/usstock/NEGG.csv\n",
      "Saved data for symbol NEM to C:/Users/atlas/OneDrive/Desktop/usstock/NEM.csv\n",
      "Saved data for symbol NEN to C:/Users/atlas/OneDrive/Desktop/usstock/NEN.csv\n",
      "Saved data for symbol NEO to C:/Users/atlas/OneDrive/Desktop/usstock/NEO.csv\n",
      "Saved data for symbol NEOG to C:/Users/atlas/OneDrive/Desktop/usstock/NEOG.csv\n",
      "Saved data for symbol NEON to C:/Users/atlas/OneDrive/Desktop/usstock/NEON.csv\n",
      "Saved data for symbol NEOV to C:/Users/atlas/OneDrive/Desktop/usstock/NEOV.csv\n"
     ]
    },
    {
     "name": "stderr",
     "output_type": "stream",
     "text": [
      "\n",
      "1 Failed download:\n",
      "['NEOVW']: Exception('%ticker%: 1d data not available for startTime=-14831751840 and endTime=1713530878. Only 100 years worth of day granularity data are allowed to be fetched per request.')\n"
     ]
    },
    {
     "name": "stdout",
     "output_type": "stream",
     "text": [
      "Saved data for symbol NEOVW to C:/Users/atlas/OneDrive/Desktop/usstock/NEOVW.csv\n",
      "Saved data for symbol NEP to C:/Users/atlas/OneDrive/Desktop/usstock/NEP.csv\n",
      "Saved data for symbol NEPH to C:/Users/atlas/OneDrive/Desktop/usstock/NEPH.csv\n",
      "Saved data for symbol NERV to C:/Users/atlas/OneDrive/Desktop/usstock/NERV.csv\n",
      "Saved data for symbol NET to C:/Users/atlas/OneDrive/Desktop/usstock/NET.csv\n",
      "Saved data for symbol NETD to C:/Users/atlas/OneDrive/Desktop/usstock/NETD.csv\n",
      "Saved data for symbol NETDU to C:/Users/atlas/OneDrive/Desktop/usstock/NETDU.csv\n"
     ]
    },
    {
     "name": "stderr",
     "output_type": "stream",
     "text": [
      "\n",
      "1 Failed download:\n",
      "['NETDW']: Exception('%ticker%: 1d data not available for startTime=-14831751840 and endTime=1713530881. Only 100 years worth of day granularity data are allowed to be fetched per request.')\n"
     ]
    },
    {
     "name": "stdout",
     "output_type": "stream",
     "text": [
      "Saved data for symbol NETDW to C:/Users/atlas/OneDrive/Desktop/usstock/NETDW.csv\n",
      "Saved data for symbol NEU to C:/Users/atlas/OneDrive/Desktop/usstock/NEU.csv\n",
      "Saved data for symbol NEUE to C:/Users/atlas/OneDrive/Desktop/usstock/NEUE.csv\n",
      "Saved data for symbol NEWP to C:/Users/atlas/OneDrive/Desktop/usstock/NEWP.csv\n",
      "Saved data for symbol NEWT to C:/Users/atlas/OneDrive/Desktop/usstock/NEWT.csv\n",
      "Saved data for symbol NEWTI to C:/Users/atlas/OneDrive/Desktop/usstock/NEWTI.csv\n",
      "Saved data for symbol NEWTL to C:/Users/atlas/OneDrive/Desktop/usstock/NEWTL.csv\n",
      "Saved data for symbol NEWTZ to C:/Users/atlas/OneDrive/Desktop/usstock/NEWTZ.csv\n",
      "Saved data for symbol NEXA to C:/Users/atlas/OneDrive/Desktop/usstock/NEXA.csv\n",
      "Saved data for symbol NEXI to C:/Users/atlas/OneDrive/Desktop/usstock/NEXI.csv\n",
      "Saved data for symbol NEXN to C:/Users/atlas/OneDrive/Desktop/usstock/NEXN.csv\n",
      "Saved data for symbol NEXT to C:/Users/atlas/OneDrive/Desktop/usstock/NEXT.csv\n",
      "Saved data for symbol NFBK to C:/Users/atlas/OneDrive/Desktop/usstock/NFBK.csv\n",
      "Saved data for symbol NFE to C:/Users/atlas/OneDrive/Desktop/usstock/NFE.csv\n",
      "Saved data for symbol NFG to C:/Users/atlas/OneDrive/Desktop/usstock/NFG.csv\n",
      "Saved data for symbol NFGC to C:/Users/atlas/OneDrive/Desktop/usstock/NFGC.csv\n",
      "Saved data for symbol NFJ to C:/Users/atlas/OneDrive/Desktop/usstock/NFJ.csv\n",
      "Saved data for symbol NFLX to C:/Users/atlas/OneDrive/Desktop/usstock/NFLX.csv\n",
      "Saved data for symbol NFYS to C:/Users/atlas/OneDrive/Desktop/usstock/NFYS.csv\n",
      "Saved data for symbol NG to C:/Users/atlas/OneDrive/Desktop/usstock/NG.csv\n",
      "Saved data for symbol NGD to C:/Users/atlas/OneDrive/Desktop/usstock/NGD.csv\n",
      "Saved data for symbol NGG to C:/Users/atlas/OneDrive/Desktop/usstock/NGG.csv\n",
      "Saved data for symbol NGL to C:/Users/atlas/OneDrive/Desktop/usstock/NGL.csv\n"
     ]
    },
    {
     "name": "stderr",
     "output_type": "stream",
     "text": [
      "\n",
      "1 Failed download:\n",
      "['NGL^B']: Exception('%ticker%: No timezone found, symbol may be delisted')\n"
     ]
    },
    {
     "name": "stdout",
     "output_type": "stream",
     "text": [
      "Saved data for symbol NGL^B to C:/Users/atlas/OneDrive/Desktop/usstock/NGL^B.csv\n"
     ]
    },
    {
     "name": "stderr",
     "output_type": "stream",
     "text": [
      "\n",
      "1 Failed download:\n",
      "['NGL^C']: Exception('%ticker%: No timezone found, symbol may be delisted')\n"
     ]
    },
    {
     "name": "stdout",
     "output_type": "stream",
     "text": [
      "Saved data for symbol NGL^C to C:/Users/atlas/OneDrive/Desktop/usstock/NGL^C.csv\n",
      "Saved data for symbol NGMS to C:/Users/atlas/OneDrive/Desktop/usstock/NGMS.csv\n",
      "Saved data for symbol NGNE to C:/Users/atlas/OneDrive/Desktop/usstock/NGNE.csv\n",
      "Saved data for symbol NGS to C:/Users/atlas/OneDrive/Desktop/usstock/NGS.csv\n",
      "Saved data for symbol NGVC to C:/Users/atlas/OneDrive/Desktop/usstock/NGVC.csv\n",
      "Saved data for symbol NGVT to C:/Users/atlas/OneDrive/Desktop/usstock/NGVT.csv\n",
      "Saved data for symbol NHC to C:/Users/atlas/OneDrive/Desktop/usstock/NHC.csv\n",
      "Saved data for symbol NHI to C:/Users/atlas/OneDrive/Desktop/usstock/NHI.csv\n",
      "Saved data for symbol NHS to C:/Users/atlas/OneDrive/Desktop/usstock/NHS.csv\n",
      "Saved data for symbol NHTC to C:/Users/atlas/OneDrive/Desktop/usstock/NHTC.csv\n",
      "Saved data for symbol NI to C:/Users/atlas/OneDrive/Desktop/usstock/NI.csv\n",
      "Saved data for symbol NIC to C:/Users/atlas/OneDrive/Desktop/usstock/NIC.csv\n",
      "Saved data for symbol NICE to C:/Users/atlas/OneDrive/Desktop/usstock/NICE.csv\n",
      "Saved data for symbol NICK to C:/Users/atlas/OneDrive/Desktop/usstock/NICK.csv\n",
      "Saved data for symbol NIE to C:/Users/atlas/OneDrive/Desktop/usstock/NIE.csv\n",
      "Saved data for symbol NIM to C:/Users/atlas/OneDrive/Desktop/usstock/NIM.csv\n",
      "Saved data for symbol NINE to C:/Users/atlas/OneDrive/Desktop/usstock/NINE.csv\n",
      "Saved data for symbol NIO to C:/Users/atlas/OneDrive/Desktop/usstock/NIO.csv\n"
     ]
    },
    {
     "name": "stderr",
     "output_type": "stream",
     "text": [
      "\n",
      "1 Failed download:\n",
      "['NIOBW']: Exception('%ticker%: 1d data not available for startTime=-14831751840 and endTime=1713530904. Only 100 years worth of day granularity data are allowed to be fetched per request.')\n"
     ]
    },
    {
     "name": "stdout",
     "output_type": "stream",
     "text": [
      "Saved data for symbol NIOBW to C:/Users/atlas/OneDrive/Desktop/usstock/NIOBW.csv\n",
      "Saved data for symbol NISN to C:/Users/atlas/OneDrive/Desktop/usstock/NISN.csv\n",
      "Saved data for symbol NITO to C:/Users/atlas/OneDrive/Desktop/usstock/NITO.csv\n",
      "Saved data for symbol NIU to C:/Users/atlas/OneDrive/Desktop/usstock/NIU.csv\n",
      "Saved data for symbol NIVF to C:/Users/atlas/OneDrive/Desktop/usstock/NIVF.csv\n"
     ]
    },
    {
     "name": "stderr",
     "output_type": "stream",
     "text": [
      "\n",
      "1 Failed download:\n",
      "['NIVFW']: Exception('%ticker%: 1d data not available for startTime=-14831751840 and endTime=1713530907. Only 100 years worth of day granularity data are allowed to be fetched per request.')\n"
     ]
    },
    {
     "name": "stdout",
     "output_type": "stream",
     "text": [
      "Saved data for symbol NIVFW to C:/Users/atlas/OneDrive/Desktop/usstock/NIVFW.csv\n",
      "Saved data for symbol NJR to C:/Users/atlas/OneDrive/Desktop/usstock/NJR.csv\n",
      "Saved data for symbol NKE to C:/Users/atlas/OneDrive/Desktop/usstock/NKE.csv\n",
      "Saved data for symbol NKGN to C:/Users/atlas/OneDrive/Desktop/usstock/NKGN.csv\n"
     ]
    },
    {
     "name": "stderr",
     "output_type": "stream",
     "text": [
      "\n",
      "1 Failed download:\n",
      "['NKGNW']: Exception('%ticker%: 1d data not available for startTime=-14831751840 and endTime=1713530911. Only 100 years worth of day granularity data are allowed to be fetched per request.')\n"
     ]
    },
    {
     "name": "stdout",
     "output_type": "stream",
     "text": [
      "Saved data for symbol NKGNW to C:/Users/atlas/OneDrive/Desktop/usstock/NKGNW.csv\n",
      "Saved data for symbol NKLA to C:/Users/atlas/OneDrive/Desktop/usstock/NKLA.csv\n",
      "Saved data for symbol NKSH to C:/Users/atlas/OneDrive/Desktop/usstock/NKSH.csv\n",
      "Saved data for symbol NKTR to C:/Users/atlas/OneDrive/Desktop/usstock/NKTR.csv\n",
      "Saved data for symbol NKTX to C:/Users/atlas/OneDrive/Desktop/usstock/NKTX.csv\n",
      "Saved data for symbol NKX to C:/Users/atlas/OneDrive/Desktop/usstock/NKX.csv\n",
      "Saved data for symbol NL to C:/Users/atlas/OneDrive/Desktop/usstock/NL.csv\n",
      "Saved data for symbol NLOP to C:/Users/atlas/OneDrive/Desktop/usstock/NLOP.csv\n",
      "Saved data for symbol NLSP to C:/Users/atlas/OneDrive/Desktop/usstock/NLSP.csv\n",
      "Saved data for symbol NLSPW to C:/Users/atlas/OneDrive/Desktop/usstock/NLSPW.csv\n",
      "Saved data for symbol NLY to C:/Users/atlas/OneDrive/Desktop/usstock/NLY.csv\n"
     ]
    },
    {
     "name": "stderr",
     "output_type": "stream",
     "text": [
      "\n",
      "1 Failed download:\n",
      "['NLY^F']: Exception('%ticker%: No timezone found, symbol may be delisted')\n"
     ]
    },
    {
     "name": "stdout",
     "output_type": "stream",
     "text": [
      "Saved data for symbol NLY^F to C:/Users/atlas/OneDrive/Desktop/usstock/NLY^F.csv\n"
     ]
    },
    {
     "name": "stderr",
     "output_type": "stream",
     "text": [
      "\n",
      "1 Failed download:\n",
      "['NLY^G']: Exception('%ticker%: No timezone found, symbol may be delisted')\n"
     ]
    },
    {
     "name": "stdout",
     "output_type": "stream",
     "text": [
      "Saved data for symbol NLY^G to C:/Users/atlas/OneDrive/Desktop/usstock/NLY^G.csv\n"
     ]
    },
    {
     "name": "stderr",
     "output_type": "stream",
     "text": [
      "\n",
      "1 Failed download:\n",
      "['NLY^I']: Exception('%ticker%: No timezone found, symbol may be delisted')\n"
     ]
    },
    {
     "name": "stdout",
     "output_type": "stream",
     "text": [
      "Saved data for symbol NLY^I to C:/Users/atlas/OneDrive/Desktop/usstock/NLY^I.csv\n",
      "Saved data for symbol NMAI to C:/Users/atlas/OneDrive/Desktop/usstock/NMAI.csv\n",
      "Saved data for symbol NMCO to C:/Users/atlas/OneDrive/Desktop/usstock/NMCO.csv\n",
      "Saved data for symbol NMFC to C:/Users/atlas/OneDrive/Desktop/usstock/NMFC.csv\n",
      "Saved data for symbol NMFCZ to C:/Users/atlas/OneDrive/Desktop/usstock/NMFCZ.csv\n",
      "Saved data for symbol NMG to C:/Users/atlas/OneDrive/Desktop/usstock/NMG.csv\n",
      "Saved data for symbol NMHI to C:/Users/atlas/OneDrive/Desktop/usstock/NMHI.csv\n"
     ]
    },
    {
     "name": "stderr",
     "output_type": "stream",
     "text": [
      "\n",
      "1 Failed download:\n",
      "['NMHIW']: Exception('%ticker%: 1d data not available for startTime=-14831751840 and endTime=1713530926. Only 100 years worth of day granularity data are allowed to be fetched per request.')\n"
     ]
    },
    {
     "name": "stdout",
     "output_type": "stream",
     "text": [
      "Saved data for symbol NMHIW to C:/Users/atlas/OneDrive/Desktop/usstock/NMHIW.csv\n",
      "Saved data for symbol NMI to C:/Users/atlas/OneDrive/Desktop/usstock/NMI.csv\n",
      "Saved data for symbol NMIH to C:/Users/atlas/OneDrive/Desktop/usstock/NMIH.csv\n",
      "Saved data for symbol NML to C:/Users/atlas/OneDrive/Desktop/usstock/NML.csv\n",
      "Saved data for symbol NMM to C:/Users/atlas/OneDrive/Desktop/usstock/NMM.csv\n",
      "Saved data for symbol NMR to C:/Users/atlas/OneDrive/Desktop/usstock/NMR.csv\n",
      "Saved data for symbol NMRA to C:/Users/atlas/OneDrive/Desktop/usstock/NMRA.csv\n",
      "Saved data for symbol NMRK to C:/Users/atlas/OneDrive/Desktop/usstock/NMRK.csv\n",
      "Saved data for symbol NMS to C:/Users/atlas/OneDrive/Desktop/usstock/NMS.csv\n",
      "Saved data for symbol NMT to C:/Users/atlas/OneDrive/Desktop/usstock/NMT.csv\n",
      "Saved data for symbol NMTC to C:/Users/atlas/OneDrive/Desktop/usstock/NMTC.csv\n",
      "Saved data for symbol NMZ to C:/Users/atlas/OneDrive/Desktop/usstock/NMZ.csv\n",
      "Saved data for symbol NN to C:/Users/atlas/OneDrive/Desktop/usstock/NN.csv\n",
      "Saved data for symbol NNAG to C:/Users/atlas/OneDrive/Desktop/usstock/NNAG.csv\n"
     ]
    },
    {
     "name": "stderr",
     "output_type": "stream",
     "text": [
      "\n",
      "1 Failed download:\n",
      "['NNAGR']: Exception('%ticker%: 1d data not available for startTime=-14831751840 and endTime=1713530933. Only 100 years worth of day granularity data are allowed to be fetched per request.')\n"
     ]
    },
    {
     "name": "stdout",
     "output_type": "stream",
     "text": [
      "Saved data for symbol NNAGR to C:/Users/atlas/OneDrive/Desktop/usstock/NNAGR.csv\n"
     ]
    },
    {
     "name": "stderr",
     "output_type": "stream",
     "text": [
      "\n",
      "1 Failed download:\n",
      "['NNAVW']: Exception('%ticker%: 1d data not available for startTime=-14831751840 and endTime=1713530937. Only 100 years worth of day granularity data are allowed to be fetched per request.')\n"
     ]
    },
    {
     "name": "stdout",
     "output_type": "stream",
     "text": [
      "Saved data for symbol NNAVW to C:/Users/atlas/OneDrive/Desktop/usstock/NNAVW.csv\n",
      "Saved data for symbol NNBR to C:/Users/atlas/OneDrive/Desktop/usstock/NNBR.csv\n",
      "Saved data for symbol NNDM to C:/Users/atlas/OneDrive/Desktop/usstock/NNDM.csv\n",
      "Saved data for symbol NNI to C:/Users/atlas/OneDrive/Desktop/usstock/NNI.csv\n",
      "Saved data for symbol NNN to C:/Users/atlas/OneDrive/Desktop/usstock/NNN.csv\n",
      "Saved data for symbol NNOX to C:/Users/atlas/OneDrive/Desktop/usstock/NNOX.csv\n",
      "Saved data for symbol NNVC to C:/Users/atlas/OneDrive/Desktop/usstock/NNVC.csv\n",
      "Saved data for symbol NNY to C:/Users/atlas/OneDrive/Desktop/usstock/NNY.csv\n",
      "Saved data for symbol NOA to C:/Users/atlas/OneDrive/Desktop/usstock/NOA.csv\n",
      "Saved data for symbol NOAH to C:/Users/atlas/OneDrive/Desktop/usstock/NOAH.csv\n",
      "Saved data for symbol NOC to C:/Users/atlas/OneDrive/Desktop/usstock/NOC.csv\n",
      "Saved data for symbol NODK to C:/Users/atlas/OneDrive/Desktop/usstock/NODK.csv\n",
      "Saved data for symbol NOG to C:/Users/atlas/OneDrive/Desktop/usstock/NOG.csv\n",
      "Saved data for symbol NOK to C:/Users/atlas/OneDrive/Desktop/usstock/NOK.csv\n",
      "Saved data for symbol NOM to C:/Users/atlas/OneDrive/Desktop/usstock/NOM.csv\n",
      "Saved data for symbol NOMD to C:/Users/atlas/OneDrive/Desktop/usstock/NOMD.csv\n",
      "Saved data for symbol NOTE to C:/Users/atlas/OneDrive/Desktop/usstock/NOTE.csv\n",
      "Saved data for symbol NOTV to C:/Users/atlas/OneDrive/Desktop/usstock/NOTV.csv\n",
      "Saved data for symbol NOV to C:/Users/atlas/OneDrive/Desktop/usstock/NOV.csv\n",
      "Saved data for symbol NOVA to C:/Users/atlas/OneDrive/Desktop/usstock/NOVA.csv\n",
      "Saved data for symbol NOVT to C:/Users/atlas/OneDrive/Desktop/usstock/NOVT.csv\n",
      "Saved data for symbol NOVV to C:/Users/atlas/OneDrive/Desktop/usstock/NOVV.csv\n"
     ]
    },
    {
     "name": "stderr",
     "output_type": "stream",
     "text": [
      "\n",
      "1 Failed download:\n",
      "['NOVVR']: Exception('%ticker%: 1d data not available for startTime=-14831751840 and endTime=1713530948. Only 100 years worth of day granularity data are allowed to be fetched per request.')\n"
     ]
    },
    {
     "name": "stdout",
     "output_type": "stream",
     "text": [
      "Saved data for symbol NOVVR to C:/Users/atlas/OneDrive/Desktop/usstock/NOVVR.csv\n",
      "Saved data for symbol NOVVU to C:/Users/atlas/OneDrive/Desktop/usstock/NOVVU.csv\n"
     ]
    },
    {
     "name": "stderr",
     "output_type": "stream",
     "text": [
      "\n",
      "1 Failed download:\n",
      "['NOVVW']: Exception('%ticker%: 1d data not available for startTime=-14831751840 and endTime=1713530952. Only 100 years worth of day granularity data are allowed to be fetched per request.')\n"
     ]
    },
    {
     "name": "stdout",
     "output_type": "stream",
     "text": [
      "Saved data for symbol NOVVW to C:/Users/atlas/OneDrive/Desktop/usstock/NOVVW.csv\n",
      "Saved data for symbol NOW to C:/Users/atlas/OneDrive/Desktop/usstock/NOW.csv\n",
      "Saved data for symbol NPAB to C:/Users/atlas/OneDrive/Desktop/usstock/NPAB.csv\n",
      "Saved data for symbol NPCE to C:/Users/atlas/OneDrive/Desktop/usstock/NPCE.csv\n",
      "Saved data for symbol NPCT to C:/Users/atlas/OneDrive/Desktop/usstock/NPCT.csv\n",
      "Saved data for symbol NPFD to C:/Users/atlas/OneDrive/Desktop/usstock/NPFD.csv\n",
      "Saved data for symbol NPK to C:/Users/atlas/OneDrive/Desktop/usstock/NPK.csv\n",
      "Saved data for symbol NPO to C:/Users/atlas/OneDrive/Desktop/usstock/NPO.csv\n",
      "Saved data for symbol NPV to C:/Users/atlas/OneDrive/Desktop/usstock/NPV.csv\n",
      "Saved data for symbol NPWR to C:/Users/atlas/OneDrive/Desktop/usstock/NPWR.csv\n",
      "Saved data for symbol NQP to C:/Users/atlas/OneDrive/Desktop/usstock/NQP.csv\n",
      "Saved data for symbol NR to C:/Users/atlas/OneDrive/Desktop/usstock/NR.csv\n",
      "Saved data for symbol NRBO to C:/Users/atlas/OneDrive/Desktop/usstock/NRBO.csv\n",
      "Saved data for symbol NRC to C:/Users/atlas/OneDrive/Desktop/usstock/NRC.csv\n",
      "Saved data for symbol NRDS to C:/Users/atlas/OneDrive/Desktop/usstock/NRDS.csv\n",
      "Saved data for symbol NRDY to C:/Users/atlas/OneDrive/Desktop/usstock/NRDY.csv\n",
      "Saved data for symbol NREF to C:/Users/atlas/OneDrive/Desktop/usstock/NREF.csv\n"
     ]
    },
    {
     "name": "stderr",
     "output_type": "stream",
     "text": [
      "\n",
      "1 Failed download:\n",
      "['NREF^A']: Exception('%ticker%: No timezone found, symbol may be delisted')\n"
     ]
    },
    {
     "name": "stdout",
     "output_type": "stream",
     "text": [
      "Saved data for symbol NREF^A to C:/Users/atlas/OneDrive/Desktop/usstock/NREF^A.csv\n",
      "Saved data for symbol NRG to C:/Users/atlas/OneDrive/Desktop/usstock/NRG.csv\n",
      "Saved data for symbol NRGV to C:/Users/atlas/OneDrive/Desktop/usstock/NRGV.csv\n",
      "Saved data for symbol NRIM to C:/Users/atlas/OneDrive/Desktop/usstock/NRIM.csv\n",
      "Saved data for symbol NRIX to C:/Users/atlas/OneDrive/Desktop/usstock/NRIX.csv\n",
      "Saved data for symbol NRK to C:/Users/atlas/OneDrive/Desktop/usstock/NRK.csv\n",
      "Saved data for symbol NRO to C:/Users/atlas/OneDrive/Desktop/usstock/NRO.csv\n",
      "Saved data for symbol NRP to C:/Users/atlas/OneDrive/Desktop/usstock/NRP.csv\n",
      "Saved data for symbol NRSN to C:/Users/atlas/OneDrive/Desktop/usstock/NRSN.csv\n",
      "Saved data for symbol NRT to C:/Users/atlas/OneDrive/Desktop/usstock/NRT.csv\n",
      "Saved data for symbol NRUC to C:/Users/atlas/OneDrive/Desktop/usstock/NRUC.csv\n",
      "Saved data for symbol NRXP to C:/Users/atlas/OneDrive/Desktop/usstock/NRXP.csv\n"
     ]
    },
    {
     "name": "stderr",
     "output_type": "stream",
     "text": [
      "\n",
      "1 Failed download:\n",
      "['NRXPW']: Exception('%ticker%: 1d data not available for startTime=-14831751840 and endTime=1713530966. Only 100 years worth of day granularity data are allowed to be fetched per request.')\n"
     ]
    },
    {
     "name": "stdout",
     "output_type": "stream",
     "text": [
      "Saved data for symbol NRXPW to C:/Users/atlas/OneDrive/Desktop/usstock/NRXPW.csv\n",
      "Saved data for symbol NRXS to C:/Users/atlas/OneDrive/Desktop/usstock/NRXS.csv\n",
      "Saved data for symbol NS to C:/Users/atlas/OneDrive/Desktop/usstock/NS.csv\n"
     ]
    },
    {
     "name": "stderr",
     "output_type": "stream",
     "text": [
      "\n",
      "1 Failed download:\n",
      "['NS^A']: Exception('%ticker%: No timezone found, symbol may be delisted')\n"
     ]
    },
    {
     "name": "stdout",
     "output_type": "stream",
     "text": [
      "Saved data for symbol NS^A to C:/Users/atlas/OneDrive/Desktop/usstock/NS^A.csv\n"
     ]
    },
    {
     "name": "stderr",
     "output_type": "stream",
     "text": [
      "\n",
      "1 Failed download:\n",
      "['NS^B']: Exception('%ticker%: No timezone found, symbol may be delisted')\n"
     ]
    },
    {
     "name": "stdout",
     "output_type": "stream",
     "text": [
      "Saved data for symbol NS^B to C:/Users/atlas/OneDrive/Desktop/usstock/NS^B.csv\n"
     ]
    },
    {
     "name": "stderr",
     "output_type": "stream",
     "text": [
      "\n",
      "1 Failed download:\n",
      "['NS^C']: Exception('%ticker%: No timezone found, symbol may be delisted')\n"
     ]
    },
    {
     "name": "stdout",
     "output_type": "stream",
     "text": [
      "Saved data for symbol NS^C to C:/Users/atlas/OneDrive/Desktop/usstock/NS^C.csv\n",
      "Saved data for symbol NSA to C:/Users/atlas/OneDrive/Desktop/usstock/NSA.csv\n"
     ]
    },
    {
     "name": "stderr",
     "output_type": "stream",
     "text": [
      "\n",
      "1 Failed download:\n",
      "['NSA^A']: Exception('%ticker%: No timezone found, symbol may be delisted')\n"
     ]
    },
    {
     "name": "stdout",
     "output_type": "stream",
     "text": [
      "Saved data for symbol NSA^A to C:/Users/atlas/OneDrive/Desktop/usstock/NSA^A.csv\n",
      "Saved data for symbol NSC to C:/Users/atlas/OneDrive/Desktop/usstock/NSC.csv\n",
      "Saved data for symbol NSIT to C:/Users/atlas/OneDrive/Desktop/usstock/NSIT.csv\n",
      "Saved data for symbol NSP to C:/Users/atlas/OneDrive/Desktop/usstock/NSP.csv\n",
      "Saved data for symbol NSPR to C:/Users/atlas/OneDrive/Desktop/usstock/NSPR.csv\n",
      "Saved data for symbol NSS to C:/Users/atlas/OneDrive/Desktop/usstock/NSS.csv\n",
      "Saved data for symbol NSSC to C:/Users/atlas/OneDrive/Desktop/usstock/NSSC.csv\n",
      "Saved data for symbol NSTS to C:/Users/atlas/OneDrive/Desktop/usstock/NSTS.csv\n",
      "Saved data for symbol NSYS to C:/Users/atlas/OneDrive/Desktop/usstock/NSYS.csv\n",
      "Saved data for symbol NTAP to C:/Users/atlas/OneDrive/Desktop/usstock/NTAP.csv\n",
      "Saved data for symbol NTB to C:/Users/atlas/OneDrive/Desktop/usstock/NTB.csv\n",
      "Saved data for symbol NTBL to C:/Users/atlas/OneDrive/Desktop/usstock/NTBL.csv\n",
      "Saved data for symbol NTCT to C:/Users/atlas/OneDrive/Desktop/usstock/NTCT.csv\n",
      "Saved data for symbol NTES to C:/Users/atlas/OneDrive/Desktop/usstock/NTES.csv\n",
      "Saved data for symbol NTG to C:/Users/atlas/OneDrive/Desktop/usstock/NTG.csv\n",
      "Saved data for symbol NTGR to C:/Users/atlas/OneDrive/Desktop/usstock/NTGR.csv\n",
      "Saved data for symbol NTIC to C:/Users/atlas/OneDrive/Desktop/usstock/NTIC.csv\n",
      "Saved data for symbol NTIP to C:/Users/atlas/OneDrive/Desktop/usstock/NTIP.csv\n",
      "Saved data for symbol NTLA to C:/Users/atlas/OneDrive/Desktop/usstock/NTLA.csv\n",
      "Saved data for symbol NTNX to C:/Users/atlas/OneDrive/Desktop/usstock/NTNX.csv\n",
      "Saved data for symbol NTR to C:/Users/atlas/OneDrive/Desktop/usstock/NTR.csv\n",
      "Saved data for symbol NTRA to C:/Users/atlas/OneDrive/Desktop/usstock/NTRA.csv\n",
      "Saved data for symbol NTRB to C:/Users/atlas/OneDrive/Desktop/usstock/NTRB.csv\n",
      "Saved data for symbol NTRBW to C:/Users/atlas/OneDrive/Desktop/usstock/NTRBW.csv\n",
      "Saved data for symbol NTRP to C:/Users/atlas/OneDrive/Desktop/usstock/NTRP.csv\n",
      "Saved data for symbol NTRS to C:/Users/atlas/OneDrive/Desktop/usstock/NTRS.csv\n",
      "Saved data for symbol NTRSO to C:/Users/atlas/OneDrive/Desktop/usstock/NTRSO.csv\n",
      "Saved data for symbol NTST to C:/Users/atlas/OneDrive/Desktop/usstock/NTST.csv\n",
      "Saved data for symbol NTWK to C:/Users/atlas/OneDrive/Desktop/usstock/NTWK.csv\n",
      "Saved data for symbol NTZ to C:/Users/atlas/OneDrive/Desktop/usstock/NTZ.csv\n",
      "Saved data for symbol NU to C:/Users/atlas/OneDrive/Desktop/usstock/NU.csv\n",
      "Saved data for symbol NUE to C:/Users/atlas/OneDrive/Desktop/usstock/NUE.csv\n",
      "Saved data for symbol NUKK to C:/Users/atlas/OneDrive/Desktop/usstock/NUKK.csv\n",
      "Saved data for symbol NUKKW to C:/Users/atlas/OneDrive/Desktop/usstock/NUKKW.csv\n",
      "Saved data for symbol NURO to C:/Users/atlas/OneDrive/Desktop/usstock/NURO.csv\n",
      "Saved data for symbol NUS to C:/Users/atlas/OneDrive/Desktop/usstock/NUS.csv\n",
      "Saved data for symbol NUTX to C:/Users/atlas/OneDrive/Desktop/usstock/NUTX.csv\n",
      "Saved data for symbol NUV to C:/Users/atlas/OneDrive/Desktop/usstock/NUV.csv\n",
      "Saved data for symbol NUVB to C:/Users/atlas/OneDrive/Desktop/usstock/NUVB.csv\n",
      "Saved data for symbol NUVL to C:/Users/atlas/OneDrive/Desktop/usstock/NUVL.csv\n",
      "Saved data for symbol NUW to C:/Users/atlas/OneDrive/Desktop/usstock/NUW.csv\n",
      "Saved data for symbol NUWE to C:/Users/atlas/OneDrive/Desktop/usstock/NUWE.csv\n",
      "Saved data for symbol NUZE to C:/Users/atlas/OneDrive/Desktop/usstock/NUZE.csv\n",
      "Saved data for symbol NVAC to C:/Users/atlas/OneDrive/Desktop/usstock/NVAC.csv\n"
     ]
    },
    {
     "name": "stderr",
     "output_type": "stream",
     "text": [
      "\n",
      "1 Failed download:\n",
      "['NVACW']: Exception('%ticker%: 1d data not available for startTime=-14831751840 and endTime=1713530993. Only 100 years worth of day granularity data are allowed to be fetched per request.')\n"
     ]
    },
    {
     "name": "stdout",
     "output_type": "stream",
     "text": [
      "Saved data for symbol NVACW to C:/Users/atlas/OneDrive/Desktop/usstock/NVACW.csv\n",
      "Saved data for symbol NVAX to C:/Users/atlas/OneDrive/Desktop/usstock/NVAX.csv\n",
      "Saved data for symbol NVCR to C:/Users/atlas/OneDrive/Desktop/usstock/NVCR.csv\n",
      "Saved data for symbol NVCT to C:/Users/atlas/OneDrive/Desktop/usstock/NVCT.csv\n",
      "Saved data for symbol NVDA to C:/Users/atlas/OneDrive/Desktop/usstock/NVDA.csv\n",
      "Saved data for symbol NVEC to C:/Users/atlas/OneDrive/Desktop/usstock/NVEC.csv\n",
      "Saved data for symbol NVEE to C:/Users/atlas/OneDrive/Desktop/usstock/NVEE.csv\n",
      "Saved data for symbol NVEI to C:/Users/atlas/OneDrive/Desktop/usstock/NVEI.csv\n",
      "Saved data for symbol NVFY to C:/Users/atlas/OneDrive/Desktop/usstock/NVFY.csv\n",
      "Saved data for symbol NVG to C:/Users/atlas/OneDrive/Desktop/usstock/NVG.csv\n",
      "Saved data for symbol NVGS to C:/Users/atlas/OneDrive/Desktop/usstock/NVGS.csv\n",
      "Saved data for symbol NVMI to C:/Users/atlas/OneDrive/Desktop/usstock/NVMI.csv\n",
      "Saved data for symbol NVNI to C:/Users/atlas/OneDrive/Desktop/usstock/NVNI.csv\n",
      "Saved data for symbol NVNO to C:/Users/atlas/OneDrive/Desktop/usstock/NVNO.csv\n",
      "Saved data for symbol NVO to C:/Users/atlas/OneDrive/Desktop/usstock/NVO.csv\n",
      "Saved data for symbol NVOS to C:/Users/atlas/OneDrive/Desktop/usstock/NVOS.csv\n",
      "Saved data for symbol NVR to C:/Users/atlas/OneDrive/Desktop/usstock/NVR.csv\n",
      "Saved data for symbol NVRI to C:/Users/atlas/OneDrive/Desktop/usstock/NVRI.csv\n",
      "Saved data for symbol NVRO to C:/Users/atlas/OneDrive/Desktop/usstock/NVRO.csv\n",
      "Saved data for symbol NVS to C:/Users/atlas/OneDrive/Desktop/usstock/NVS.csv\n",
      "Saved data for symbol NVST to C:/Users/atlas/OneDrive/Desktop/usstock/NVST.csv\n",
      "Saved data for symbol NVT to C:/Users/atlas/OneDrive/Desktop/usstock/NVT.csv\n",
      "Saved data for symbol NVTS to C:/Users/atlas/OneDrive/Desktop/usstock/NVTS.csv\n",
      "Saved data for symbol NVVE to C:/Users/atlas/OneDrive/Desktop/usstock/NVVE.csv\n"
     ]
    },
    {
     "name": "stderr",
     "output_type": "stream",
     "text": [
      "\n",
      "1 Failed download:\n",
      "['NVVEW']: Exception('%ticker%: 1d data not available for startTime=-14831751840 and endTime=1713531004. Only 100 years worth of day granularity data are allowed to be fetched per request.')\n"
     ]
    },
    {
     "name": "stdout",
     "output_type": "stream",
     "text": [
      "Saved data for symbol NVVEW to C:/Users/atlas/OneDrive/Desktop/usstock/NVVEW.csv\n",
      "Saved data for symbol NVX to C:/Users/atlas/OneDrive/Desktop/usstock/NVX.csv\n",
      "Saved data for symbol NWBI to C:/Users/atlas/OneDrive/Desktop/usstock/NWBI.csv\n",
      "Saved data for symbol NWE to C:/Users/atlas/OneDrive/Desktop/usstock/NWE.csv\n",
      "Saved data for symbol NWFL to C:/Users/atlas/OneDrive/Desktop/usstock/NWFL.csv\n",
      "Saved data for symbol NWG to C:/Users/atlas/OneDrive/Desktop/usstock/NWG.csv\n",
      "Saved data for symbol NWGL to C:/Users/atlas/OneDrive/Desktop/usstock/NWGL.csv\n",
      "Saved data for symbol NWL to C:/Users/atlas/OneDrive/Desktop/usstock/NWL.csv\n",
      "Saved data for symbol NWLI to C:/Users/atlas/OneDrive/Desktop/usstock/NWLI.csv\n",
      "Saved data for symbol NWN to C:/Users/atlas/OneDrive/Desktop/usstock/NWN.csv\n",
      "Saved data for symbol NWPX to C:/Users/atlas/OneDrive/Desktop/usstock/NWPX.csv\n",
      "Saved data for symbol NWS to C:/Users/atlas/OneDrive/Desktop/usstock/NWS.csv\n",
      "Saved data for symbol NWSA to C:/Users/atlas/OneDrive/Desktop/usstock/NWSA.csv\n",
      "Saved data for symbol NWTN to C:/Users/atlas/OneDrive/Desktop/usstock/NWTN.csv\n"
     ]
    },
    {
     "name": "stderr",
     "output_type": "stream",
     "text": [
      "\n",
      "1 Failed download:\n",
      "['NWTNW']: Exception('%ticker%: 1d data not available for startTime=-14831751840 and endTime=1713531013. Only 100 years worth of day granularity data are allowed to be fetched per request.')\n"
     ]
    },
    {
     "name": "stdout",
     "output_type": "stream",
     "text": [
      "Saved data for symbol NWTNW to C:/Users/atlas/OneDrive/Desktop/usstock/NWTNW.csv\n",
      "Saved data for symbol NX to C:/Users/atlas/OneDrive/Desktop/usstock/NX.csv\n",
      "Saved data for symbol NXC to C:/Users/atlas/OneDrive/Desktop/usstock/NXC.csv\n",
      "Saved data for symbol NXDT to C:/Users/atlas/OneDrive/Desktop/usstock/NXDT.csv\n"
     ]
    },
    {
     "name": "stderr",
     "output_type": "stream",
     "text": [
      "\n",
      "1 Failed download:\n",
      "['NXDT^A']: Exception('%ticker%: No timezone found, symbol may be delisted')\n"
     ]
    },
    {
     "name": "stdout",
     "output_type": "stream",
     "text": [
      "Saved data for symbol NXDT^A to C:/Users/atlas/OneDrive/Desktop/usstock/NXDT^A.csv\n",
      "Saved data for symbol NXE to C:/Users/atlas/OneDrive/Desktop/usstock/NXE.csv\n",
      "Saved data for symbol NXG to C:/Users/atlas/OneDrive/Desktop/usstock/NXG.csv\n",
      "Saved data for symbol NXGL to C:/Users/atlas/OneDrive/Desktop/usstock/NXGL.csv\n"
     ]
    },
    {
     "name": "stderr",
     "output_type": "stream",
     "text": [
      "\n",
      "1 Failed download:\n",
      "['NXGLW']: Exception('%ticker%: 1d data not available for startTime=-14831751840 and endTime=1713531020. Only 100 years worth of day granularity data are allowed to be fetched per request.')\n"
     ]
    },
    {
     "name": "stdout",
     "output_type": "stream",
     "text": [
      "Saved data for symbol NXGLW to C:/Users/atlas/OneDrive/Desktop/usstock/NXGLW.csv\n",
      "Saved data for symbol NXJ to C:/Users/atlas/OneDrive/Desktop/usstock/NXJ.csv\n",
      "Saved data for symbol NXL to C:/Users/atlas/OneDrive/Desktop/usstock/NXL.csv\n"
     ]
    },
    {
     "name": "stderr",
     "output_type": "stream",
     "text": [
      "\n",
      "1 Failed download:\n",
      "['NXLIW']: Exception('%ticker%: 1d data not available for startTime=-14831751840 and endTime=1713531024. Only 100 years worth of day granularity data are allowed to be fetched per request.')\n"
     ]
    },
    {
     "name": "stdout",
     "output_type": "stream",
     "text": [
      "Saved data for symbol NXLIW to C:/Users/atlas/OneDrive/Desktop/usstock/NXLIW.csv\n",
      "Saved data for symbol NXN to C:/Users/atlas/OneDrive/Desktop/usstock/NXN.csv\n",
      "Saved data for symbol NXP to C:/Users/atlas/OneDrive/Desktop/usstock/NXP.csv\n",
      "Saved data for symbol NXPI to C:/Users/atlas/OneDrive/Desktop/usstock/NXPI.csv\n",
      "Saved data for symbol NXPL to C:/Users/atlas/OneDrive/Desktop/usstock/NXPL.csv\n"
     ]
    },
    {
     "name": "stderr",
     "output_type": "stream",
     "text": [
      "\n",
      "1 Failed download:\n",
      "['NXPLW']: Exception('%ticker%: 1d data not available for startTime=-14831751840 and endTime=1713531029. Only 100 years worth of day granularity data are allowed to be fetched per request.')\n"
     ]
    },
    {
     "name": "stdout",
     "output_type": "stream",
     "text": [
      "Saved data for symbol NXPLW to C:/Users/atlas/OneDrive/Desktop/usstock/NXPLW.csv\n",
      "Saved data for symbol NXRT to C:/Users/atlas/OneDrive/Desktop/usstock/NXRT.csv\n",
      "Saved data for symbol NXST to C:/Users/atlas/OneDrive/Desktop/usstock/NXST.csv\n",
      "Saved data for symbol NXT to C:/Users/atlas/OneDrive/Desktop/usstock/NXT.csv\n",
      "Saved data for symbol NXTC to C:/Users/atlas/OneDrive/Desktop/usstock/NXTC.csv\n",
      "Saved data for symbol NXTT to C:/Users/atlas/OneDrive/Desktop/usstock/NXTT.csv\n",
      "Saved data for symbol NXU to C:/Users/atlas/OneDrive/Desktop/usstock/NXU.csv\n",
      "Saved data for symbol NYAX to C:/Users/atlas/OneDrive/Desktop/usstock/NYAX.csv\n",
      "Saved data for symbol NYC to C:/Users/atlas/OneDrive/Desktop/usstock/NYC.csv\n",
      "Saved data for symbol NYCB to C:/Users/atlas/OneDrive/Desktop/usstock/NYCB.csv\n"
     ]
    },
    {
     "name": "stderr",
     "output_type": "stream",
     "text": [
      "\n",
      "1 Failed download:\n",
      "['NYCB^A']: Exception('%ticker%: No timezone found, symbol may be delisted')\n"
     ]
    },
    {
     "name": "stdout",
     "output_type": "stream",
     "text": [
      "Saved data for symbol NYCB^A to C:/Users/atlas/OneDrive/Desktop/usstock/NYCB^A.csv\n"
     ]
    },
    {
     "name": "stderr",
     "output_type": "stream",
     "text": [
      "\n",
      "1 Failed download:\n",
      "['NYCB^U']: Exception('%ticker%: No timezone found, symbol may be delisted')\n"
     ]
    },
    {
     "name": "stdout",
     "output_type": "stream",
     "text": [
      "Saved data for symbol NYCB^U to C:/Users/atlas/OneDrive/Desktop/usstock/NYCB^U.csv\n",
      "Saved data for symbol NYMT to C:/Users/atlas/OneDrive/Desktop/usstock/NYMT.csv\n",
      "Saved data for symbol NYMTL to C:/Users/atlas/OneDrive/Desktop/usstock/NYMTL.csv\n",
      "Saved data for symbol NYMTM to C:/Users/atlas/OneDrive/Desktop/usstock/NYMTM.csv\n",
      "Saved data for symbol NYMTN to C:/Users/atlas/OneDrive/Desktop/usstock/NYMTN.csv\n",
      "Saved data for symbol NYMTZ to C:/Users/atlas/OneDrive/Desktop/usstock/NYMTZ.csv\n",
      "Saved data for symbol NYT to C:/Users/atlas/OneDrive/Desktop/usstock/NYT.csv\n",
      "Saved data for symbol NYXH to C:/Users/atlas/OneDrive/Desktop/usstock/NYXH.csv\n",
      "Saved data for symbol NZF to C:/Users/atlas/OneDrive/Desktop/usstock/NZF.csv\n",
      "Saved data for symbol O to C:/Users/atlas/OneDrive/Desktop/usstock/O.csv\n"
     ]
    },
    {
     "name": "stderr",
     "output_type": "stream",
     "text": [
      "\n",
      "1 Failed download:\n",
      "['O^']: Exception('%ticker%: No timezone found, symbol may be delisted')\n"
     ]
    },
    {
     "name": "stdout",
     "output_type": "stream",
     "text": [
      "Saved data for symbol O^ to C:/Users/atlas/OneDrive/Desktop/usstock/O^.csv\n",
      "Saved data for symbol OABI to C:/Users/atlas/OneDrive/Desktop/usstock/OABI.csv\n"
     ]
    },
    {
     "name": "stderr",
     "output_type": "stream",
     "text": [
      "\n",
      "1 Failed download:\n",
      "['OABIW']: Exception('%ticker%: 1d data not available for startTime=-14831751840 and endTime=1713531043. Only 100 years worth of day granularity data are allowed to be fetched per request.')\n"
     ]
    },
    {
     "name": "stdout",
     "output_type": "stream",
     "text": [
      "Saved data for symbol OABIW to C:/Users/atlas/OneDrive/Desktop/usstock/OABIW.csv\n"
     ]
    },
    {
     "name": "stderr",
     "output_type": "stream",
     "text": [
      "\n",
      "1 Failed download:\n",
      "['OAK^A']: Exception('%ticker%: No timezone found, symbol may be delisted')\n"
     ]
    },
    {
     "name": "stdout",
     "output_type": "stream",
     "text": [
      "Saved data for symbol OAK^A to C:/Users/atlas/OneDrive/Desktop/usstock/OAK^A.csv\n"
     ]
    },
    {
     "name": "stderr",
     "output_type": "stream",
     "text": [
      "\n",
      "1 Failed download:\n",
      "['OAK^B']: Exception('%ticker%: No timezone found, symbol may be delisted')\n"
     ]
    },
    {
     "name": "stdout",
     "output_type": "stream",
     "text": [
      "Saved data for symbol OAK^B to C:/Users/atlas/OneDrive/Desktop/usstock/OAK^B.csv\n",
      "Saved data for symbol OAKU to C:/Users/atlas/OneDrive/Desktop/usstock/OAKU.csv\n",
      "Saved data for symbol OAKUR to C:/Users/atlas/OneDrive/Desktop/usstock/OAKUR.csv\n",
      "Saved data for symbol OB to C:/Users/atlas/OneDrive/Desktop/usstock/OB.csv\n",
      "Saved data for symbol OBDC to C:/Users/atlas/OneDrive/Desktop/usstock/OBDC.csv\n",
      "Saved data for symbol OBDE to C:/Users/atlas/OneDrive/Desktop/usstock/OBDE.csv\n",
      "Saved data for symbol OBE to C:/Users/atlas/OneDrive/Desktop/usstock/OBE.csv\n",
      "Saved data for symbol OBIO to C:/Users/atlas/OneDrive/Desktop/usstock/OBIO.csv\n",
      "Saved data for symbol OBK to C:/Users/atlas/OneDrive/Desktop/usstock/OBK.csv\n",
      "Saved data for symbol OBLG to C:/Users/atlas/OneDrive/Desktop/usstock/OBLG.csv\n",
      "Saved data for symbol OBT to C:/Users/atlas/OneDrive/Desktop/usstock/OBT.csv\n",
      "Saved data for symbol OC to C:/Users/atlas/OneDrive/Desktop/usstock/OC.csv\n",
      "Saved data for symbol OCAX to C:/Users/atlas/OneDrive/Desktop/usstock/OCAX.csv\n",
      "Saved data for symbol OCAXU to C:/Users/atlas/OneDrive/Desktop/usstock/OCAXU.csv\n"
     ]
    },
    {
     "name": "stderr",
     "output_type": "stream",
     "text": [
      "\n",
      "1 Failed download:\n",
      "['OCAXW']: Exception('%ticker%: 1d data not available for startTime=-14831751840 and endTime=1713531054. Only 100 years worth of day granularity data are allowed to be fetched per request.')\n"
     ]
    },
    {
     "name": "stdout",
     "output_type": "stream",
     "text": [
      "Saved data for symbol OCAXW to C:/Users/atlas/OneDrive/Desktop/usstock/OCAXW.csv\n",
      "Saved data for symbol OCC to C:/Users/atlas/OneDrive/Desktop/usstock/OCC.csv\n",
      "Saved data for symbol OCCI to C:/Users/atlas/OneDrive/Desktop/usstock/OCCI.csv\n",
      "Saved data for symbol OCCIN to C:/Users/atlas/OneDrive/Desktop/usstock/OCCIN.csv\n",
      "Saved data for symbol OCCIO to C:/Users/atlas/OneDrive/Desktop/usstock/OCCIO.csv\n",
      "Saved data for symbol OCEA to C:/Users/atlas/OneDrive/Desktop/usstock/OCEA.csv\n"
     ]
    },
    {
     "name": "stderr",
     "output_type": "stream",
     "text": [
      "\n",
      "1 Failed download:\n",
      "['OCEAW']: Exception('%ticker%: 1d data not available for startTime=-14831751840 and endTime=1713531058. Only 100 years worth of day granularity data are allowed to be fetched per request.')\n"
     ]
    },
    {
     "name": "stdout",
     "output_type": "stream",
     "text": [
      "Saved data for symbol OCEAW to C:/Users/atlas/OneDrive/Desktop/usstock/OCEAW.csv\n",
      "Saved data for symbol OCFC to C:/Users/atlas/OneDrive/Desktop/usstock/OCFC.csv\n",
      "Saved data for symbol OCFCP to C:/Users/atlas/OneDrive/Desktop/usstock/OCFCP.csv\n",
      "Saved data for symbol OCFT to C:/Users/atlas/OneDrive/Desktop/usstock/OCFT.csv\n",
      "Saved data for symbol OCG to C:/Users/atlas/OneDrive/Desktop/usstock/OCG.csv\n",
      "Saved data for symbol OCGN to C:/Users/atlas/OneDrive/Desktop/usstock/OCGN.csv\n",
      "Saved data for symbol OCN to C:/Users/atlas/OneDrive/Desktop/usstock/OCN.csv\n",
      "Saved data for symbol OCS to C:/Users/atlas/OneDrive/Desktop/usstock/OCS.csv\n"
     ]
    },
    {
     "name": "stderr",
     "output_type": "stream",
     "text": [
      "\n",
      "1 Failed download:\n",
      "['OCSAW']: Exception('%ticker%: 1d data not available for startTime=-14831751840 and endTime=1713531062. Only 100 years worth of day granularity data are allowed to be fetched per request.')\n"
     ]
    },
    {
     "name": "stdout",
     "output_type": "stream",
     "text": [
      "Saved data for symbol OCSAW to C:/Users/atlas/OneDrive/Desktop/usstock/OCSAW.csv\n",
      "Saved data for symbol OCSL to C:/Users/atlas/OneDrive/Desktop/usstock/OCSL.csv\n",
      "Saved data for symbol OCTO to C:/Users/atlas/OneDrive/Desktop/usstock/OCTO.csv\n",
      "Saved data for symbol OCUL to C:/Users/atlas/OneDrive/Desktop/usstock/OCUL.csv\n",
      "Saved data for symbol OCUP to C:/Users/atlas/OneDrive/Desktop/usstock/OCUP.csv\n",
      "Saved data for symbol OCX to C:/Users/atlas/OneDrive/Desktop/usstock/OCX.csv\n",
      "Saved data for symbol ODC to C:/Users/atlas/OneDrive/Desktop/usstock/ODC.csv\n",
      "Saved data for symbol ODD to C:/Users/atlas/OneDrive/Desktop/usstock/ODD.csv\n",
      "Saved data for symbol ODFL to C:/Users/atlas/OneDrive/Desktop/usstock/ODFL.csv\n",
      "Saved data for symbol ODP to C:/Users/atlas/OneDrive/Desktop/usstock/ODP.csv\n",
      "Saved data for symbol ODV to C:/Users/atlas/OneDrive/Desktop/usstock/ODV.csv\n"
     ]
    },
    {
     "name": "stderr",
     "output_type": "stream",
     "text": [
      "\n",
      "1 Failed download:\n",
      "['ODVWZ']: Exception('%ticker%: 1d data not available for startTime=-14831751840 and endTime=1713531068. Only 100 years worth of day granularity data are allowed to be fetched per request.')\n"
     ]
    },
    {
     "name": "stdout",
     "output_type": "stream",
     "text": [
      "Saved data for symbol ODVWZ to C:/Users/atlas/OneDrive/Desktop/usstock/ODVWZ.csv\n",
      "Saved data for symbol OEC to C:/Users/atlas/OneDrive/Desktop/usstock/OEC.csv\n",
      "Saved data for symbol OESX to C:/Users/atlas/OneDrive/Desktop/usstock/OESX.csv\n",
      "Saved data for symbol OFG to C:/Users/atlas/OneDrive/Desktop/usstock/OFG.csv\n",
      "Saved data for symbol OFIX to C:/Users/atlas/OneDrive/Desktop/usstock/OFIX.csv\n",
      "Saved data for symbol OFLX to C:/Users/atlas/OneDrive/Desktop/usstock/OFLX.csv\n",
      "Saved data for symbol OFS to C:/Users/atlas/OneDrive/Desktop/usstock/OFS.csv\n",
      "Saved data for symbol OFSSH to C:/Users/atlas/OneDrive/Desktop/usstock/OFSSH.csv\n",
      "Saved data for symbol OGE to C:/Users/atlas/OneDrive/Desktop/usstock/OGE.csv\n",
      "Saved data for symbol OGEN to C:/Users/atlas/OneDrive/Desktop/usstock/OGEN.csv\n",
      "Saved data for symbol OGI to C:/Users/atlas/OneDrive/Desktop/usstock/OGI.csv\n",
      "Saved data for symbol OGN to C:/Users/atlas/OneDrive/Desktop/usstock/OGN.csv\n",
      "Saved data for symbol OGS to C:/Users/atlas/OneDrive/Desktop/usstock/OGS.csv\n",
      "Saved data for symbol OHI to C:/Users/atlas/OneDrive/Desktop/usstock/OHI.csv\n",
      "Saved data for symbol OI to C:/Users/atlas/OneDrive/Desktop/usstock/OI.csv\n",
      "Saved data for symbol OIA to C:/Users/atlas/OneDrive/Desktop/usstock/OIA.csv\n",
      "Saved data for symbol OII to C:/Users/atlas/OneDrive/Desktop/usstock/OII.csv\n",
      "Saved data for symbol OIS to C:/Users/atlas/OneDrive/Desktop/usstock/OIS.csv\n",
      "Saved data for symbol OKE to C:/Users/atlas/OneDrive/Desktop/usstock/OKE.csv\n",
      "Saved data for symbol OKTA to C:/Users/atlas/OneDrive/Desktop/usstock/OKTA.csv\n",
      "Saved data for symbol OKYO to C:/Users/atlas/OneDrive/Desktop/usstock/OKYO.csv\n",
      "Saved data for symbol OLB to C:/Users/atlas/OneDrive/Desktop/usstock/OLB.csv\n",
      "Saved data for symbol OLED to C:/Users/atlas/OneDrive/Desktop/usstock/OLED.csv\n",
      "Saved data for symbol OLK to C:/Users/atlas/OneDrive/Desktop/usstock/OLK.csv\n",
      "Saved data for symbol OLLI to C:/Users/atlas/OneDrive/Desktop/usstock/OLLI.csv\n",
      "Saved data for symbol OLMA to C:/Users/atlas/OneDrive/Desktop/usstock/OLMA.csv\n",
      "Saved data for symbol OLN to C:/Users/atlas/OneDrive/Desktop/usstock/OLN.csv\n",
      "Saved data for symbol OLO to C:/Users/atlas/OneDrive/Desktop/usstock/OLO.csv\n",
      "Saved data for symbol OLP to C:/Users/atlas/OneDrive/Desktop/usstock/OLP.csv\n",
      "Saved data for symbol OLPX to C:/Users/atlas/OneDrive/Desktop/usstock/OLPX.csv\n",
      "Saved data for symbol OM to C:/Users/atlas/OneDrive/Desktop/usstock/OM.csv\n",
      "Saved data for symbol OMAB to C:/Users/atlas/OneDrive/Desktop/usstock/OMAB.csv\n",
      "Saved data for symbol OMC to C:/Users/atlas/OneDrive/Desktop/usstock/OMC.csv\n",
      "Saved data for symbol OMCL to C:/Users/atlas/OneDrive/Desktop/usstock/OMCL.csv\n",
      "Saved data for symbol OMER to C:/Users/atlas/OneDrive/Desktop/usstock/OMER.csv\n",
      "Saved data for symbol OMEX to C:/Users/atlas/OneDrive/Desktop/usstock/OMEX.csv\n",
      "Saved data for symbol OMF to C:/Users/atlas/OneDrive/Desktop/usstock/OMF.csv\n",
      "Saved data for symbol OMGA to C:/Users/atlas/OneDrive/Desktop/usstock/OMGA.csv\n",
      "Saved data for symbol OMH to C:/Users/atlas/OneDrive/Desktop/usstock/OMH.csv\n",
      "Saved data for symbol OMI to C:/Users/atlas/OneDrive/Desktop/usstock/OMI.csv\n",
      "Saved data for symbol OMIC to C:/Users/atlas/OneDrive/Desktop/usstock/OMIC.csv\n",
      "Saved data for symbol OMQS to C:/Users/atlas/OneDrive/Desktop/usstock/OMQS.csv\n",
      "Saved data for symbol ON to C:/Users/atlas/OneDrive/Desktop/usstock/ON.csv\n",
      "Saved data for symbol ONB to C:/Users/atlas/OneDrive/Desktop/usstock/ONB.csv\n",
      "Saved data for symbol ONBPO to C:/Users/atlas/OneDrive/Desktop/usstock/ONBPO.csv\n",
      "Saved data for symbol ONBPP to C:/Users/atlas/OneDrive/Desktop/usstock/ONBPP.csv\n",
      "Saved data for symbol ONCO to C:/Users/atlas/OneDrive/Desktop/usstock/ONCO.csv\n",
      "Saved data for symbol ONCT to C:/Users/atlas/OneDrive/Desktop/usstock/ONCT.csv\n",
      "Saved data for symbol ONCY to C:/Users/atlas/OneDrive/Desktop/usstock/ONCY.csv\n",
      "Saved data for symbol ONDS to C:/Users/atlas/OneDrive/Desktop/usstock/ONDS.csv\n",
      "Saved data for symbol ONEW to C:/Users/atlas/OneDrive/Desktop/usstock/ONEW.csv\n",
      "Saved data for symbol ONFO to C:/Users/atlas/OneDrive/Desktop/usstock/ONFO.csv\n"
     ]
    },
    {
     "name": "stderr",
     "output_type": "stream",
     "text": [
      "\n",
      "1 Failed download:\n",
      "['ONFOW']: Exception('%ticker%: 1d data not available for startTime=-14831751840 and endTime=1713531092. Only 100 years worth of day granularity data are allowed to be fetched per request.')\n"
     ]
    },
    {
     "name": "stdout",
     "output_type": "stream",
     "text": [
      "Saved data for symbol ONFOW to C:/Users/atlas/OneDrive/Desktop/usstock/ONFOW.csv\n",
      "Saved data for symbol ONL to C:/Users/atlas/OneDrive/Desktop/usstock/ONL.csv\n",
      "Saved data for symbol ONMD to C:/Users/atlas/OneDrive/Desktop/usstock/ONMD.csv\n"
     ]
    },
    {
     "name": "stderr",
     "output_type": "stream",
     "text": [
      "\n",
      "1 Failed download:\n",
      "['ONMDW']: Exception('%ticker%: 1d data not available for startTime=-14831751840 and endTime=1713531096. Only 100 years worth of day granularity data are allowed to be fetched per request.')\n"
     ]
    },
    {
     "name": "stdout",
     "output_type": "stream",
     "text": [
      "Saved data for symbol ONMDW to C:/Users/atlas/OneDrive/Desktop/usstock/ONMDW.csv\n",
      "Saved data for symbol ONON to C:/Users/atlas/OneDrive/Desktop/usstock/ONON.csv\n",
      "Saved data for symbol ONTF to C:/Users/atlas/OneDrive/Desktop/usstock/ONTF.csv\n",
      "Saved data for symbol ONTO to C:/Users/atlas/OneDrive/Desktop/usstock/ONTO.csv\n",
      "Saved data for symbol ONVO to C:/Users/atlas/OneDrive/Desktop/usstock/ONVO.csv\n",
      "Saved data for symbol ONYX to C:/Users/atlas/OneDrive/Desktop/usstock/ONYX.csv\n",
      "Saved data for symbol ONYXU to C:/Users/atlas/OneDrive/Desktop/usstock/ONYXU.csv\n"
     ]
    },
    {
     "name": "stderr",
     "output_type": "stream",
     "text": [
      "\n",
      "1 Failed download:\n",
      "['ONYXW']: Exception('%ticker%: 1d data not available for startTime=-14831751840 and endTime=1713531100. Only 100 years worth of day granularity data are allowed to be fetched per request.')\n"
     ]
    },
    {
     "name": "stdout",
     "output_type": "stream",
     "text": [
      "Saved data for symbol ONYXW to C:/Users/atlas/OneDrive/Desktop/usstock/ONYXW.csv\n",
      "Saved data for symbol OOMA to C:/Users/atlas/OneDrive/Desktop/usstock/OOMA.csv\n",
      "Saved data for symbol OP to C:/Users/atlas/OneDrive/Desktop/usstock/OP.csv\n",
      "Saved data for symbol OPAD to C:/Users/atlas/OneDrive/Desktop/usstock/OPAD.csv\n",
      "Saved data for symbol OPAL to C:/Users/atlas/OneDrive/Desktop/usstock/OPAL.csv\n",
      "Saved data for symbol OPBK to C:/Users/atlas/OneDrive/Desktop/usstock/OPBK.csv\n",
      "Saved data for symbol OPCH to C:/Users/atlas/OneDrive/Desktop/usstock/OPCH.csv\n",
      "Saved data for symbol OPEN to C:/Users/atlas/OneDrive/Desktop/usstock/OPEN.csv\n",
      "Saved data for symbol OPFI to C:/Users/atlas/OneDrive/Desktop/usstock/OPFI.csv\n",
      "Saved data for symbol OPGN to C:/Users/atlas/OneDrive/Desktop/usstock/OPGN.csv\n",
      "Saved data for symbol OPHC to C:/Users/atlas/OneDrive/Desktop/usstock/OPHC.csv\n",
      "Saved data for symbol OPI to C:/Users/atlas/OneDrive/Desktop/usstock/OPI.csv\n",
      "Saved data for symbol OPINL to C:/Users/atlas/OneDrive/Desktop/usstock/OPINL.csv\n",
      "Saved data for symbol OPK to C:/Users/atlas/OneDrive/Desktop/usstock/OPK.csv\n",
      "Saved data for symbol OPOF to C:/Users/atlas/OneDrive/Desktop/usstock/OPOF.csv\n",
      "Saved data for symbol OPP to C:/Users/atlas/OneDrive/Desktop/usstock/OPP.csv\n"
     ]
    },
    {
     "name": "stderr",
     "output_type": "stream",
     "text": [
      "\n",
      "1 Failed download:\n",
      "['OPP^A']: Exception('%ticker%: No timezone found, symbol may be delisted')\n"
     ]
    },
    {
     "name": "stdout",
     "output_type": "stream",
     "text": [
      "Saved data for symbol OPP^A to C:/Users/atlas/OneDrive/Desktop/usstock/OPP^A.csv\n"
     ]
    },
    {
     "name": "stderr",
     "output_type": "stream",
     "text": [
      "\n",
      "1 Failed download:\n",
      "['OPP^B']: Exception('%ticker%: No timezone found, symbol may be delisted')\n"
     ]
    },
    {
     "name": "stdout",
     "output_type": "stream",
     "text": [
      "Saved data for symbol OPP^B to C:/Users/atlas/OneDrive/Desktop/usstock/OPP^B.csv\n",
      "Saved data for symbol OPRA to C:/Users/atlas/OneDrive/Desktop/usstock/OPRA.csv\n",
      "Saved data for symbol OPRT to C:/Users/atlas/OneDrive/Desktop/usstock/OPRT.csv\n",
      "Saved data for symbol OPRX to C:/Users/atlas/OneDrive/Desktop/usstock/OPRX.csv\n",
      "Saved data for symbol OPT to C:/Users/atlas/OneDrive/Desktop/usstock/OPT.csv\n",
      "Saved data for symbol OPTN to C:/Users/atlas/OneDrive/Desktop/usstock/OPTN.csv\n",
      "Saved data for symbol OPTT to C:/Users/atlas/OneDrive/Desktop/usstock/OPTT.csv\n",
      "Saved data for symbol OPTX to C:/Users/atlas/OneDrive/Desktop/usstock/OPTX.csv\n"
     ]
    },
    {
     "name": "stderr",
     "output_type": "stream",
     "text": [
      "\n",
      "1 Failed download:\n",
      "['OPTXW']: Exception('%ticker%: 1d data not available for startTime=-14831751840 and endTime=1713531114. Only 100 years worth of day granularity data are allowed to be fetched per request.')\n"
     ]
    },
    {
     "name": "stdout",
     "output_type": "stream",
     "text": [
      "Saved data for symbol OPTXW to C:/Users/atlas/OneDrive/Desktop/usstock/OPTXW.csv\n",
      "Saved data for symbol OPXS to C:/Users/atlas/OneDrive/Desktop/usstock/OPXS.csv\n",
      "Saved data for symbol OPY to C:/Users/atlas/OneDrive/Desktop/usstock/OPY.csv\n",
      "Saved data for symbol OR to C:/Users/atlas/OneDrive/Desktop/usstock/OR.csv\n",
      "Saved data for symbol ORA to C:/Users/atlas/OneDrive/Desktop/usstock/ORA.csv\n",
      "Saved data for symbol ORAN to C:/Users/atlas/OneDrive/Desktop/usstock/ORAN.csv\n",
      "Saved data for symbol ORC to C:/Users/atlas/OneDrive/Desktop/usstock/ORC.csv\n",
      "Saved data for symbol ORCL to C:/Users/atlas/OneDrive/Desktop/usstock/ORCL.csv\n",
      "Saved data for symbol ORGN to C:/Users/atlas/OneDrive/Desktop/usstock/ORGN.csv\n"
     ]
    },
    {
     "name": "stderr",
     "output_type": "stream",
     "text": [
      "\n",
      "1 Failed download:\n",
      "['ORGNW']: Exception('%ticker%: 1d data not available for startTime=-14831751840 and endTime=1713531119. Only 100 years worth of day granularity data are allowed to be fetched per request.')\n"
     ]
    },
    {
     "name": "stdout",
     "output_type": "stream",
     "text": [
      "Saved data for symbol ORGNW to C:/Users/atlas/OneDrive/Desktop/usstock/ORGNW.csv\n",
      "Saved data for symbol ORGO to C:/Users/atlas/OneDrive/Desktop/usstock/ORGO.csv\n",
      "Saved data for symbol ORGS to C:/Users/atlas/OneDrive/Desktop/usstock/ORGS.csv\n",
      "Saved data for symbol ORI to C:/Users/atlas/OneDrive/Desktop/usstock/ORI.csv\n",
      "Saved data for symbol ORIC to C:/Users/atlas/OneDrive/Desktop/usstock/ORIC.csv\n",
      "Saved data for symbol ORLA to C:/Users/atlas/OneDrive/Desktop/usstock/ORLA.csv\n",
      "Saved data for symbol ORLY to C:/Users/atlas/OneDrive/Desktop/usstock/ORLY.csv\n",
      "Saved data for symbol ORMP to C:/Users/atlas/OneDrive/Desktop/usstock/ORMP.csv\n",
      "Saved data for symbol ORN to C:/Users/atlas/OneDrive/Desktop/usstock/ORN.csv\n",
      "Saved data for symbol ORRF to C:/Users/atlas/OneDrive/Desktop/usstock/ORRF.csv\n",
      "Saved data for symbol OSBC to C:/Users/atlas/OneDrive/Desktop/usstock/OSBC.csv\n",
      "Saved data for symbol OSCR to C:/Users/atlas/OneDrive/Desktop/usstock/OSCR.csv\n",
      "Saved data for symbol OSG to C:/Users/atlas/OneDrive/Desktop/usstock/OSG.csv\n",
      "Saved data for symbol OSI to C:/Users/atlas/OneDrive/Desktop/usstock/OSI.csv\n",
      "Saved data for symbol OSIS to C:/Users/atlas/OneDrive/Desktop/usstock/OSIS.csv\n",
      "Saved data for symbol OSK to C:/Users/atlas/OneDrive/Desktop/usstock/OSK.csv\n",
      "Saved data for symbol OSPN to C:/Users/atlas/OneDrive/Desktop/usstock/OSPN.csv\n",
      "Saved data for symbol OSS to C:/Users/atlas/OneDrive/Desktop/usstock/OSS.csv\n",
      "Saved data for symbol OST to C:/Users/atlas/OneDrive/Desktop/usstock/OST.csv\n",
      "Saved data for symbol OSUR to C:/Users/atlas/OneDrive/Desktop/usstock/OSUR.csv\n",
      "Saved data for symbol OSW to C:/Users/atlas/OneDrive/Desktop/usstock/OSW.csv\n",
      "Saved data for symbol OTEX to C:/Users/atlas/OneDrive/Desktop/usstock/OTEX.csv\n",
      "Saved data for symbol OTIS to C:/Users/atlas/OneDrive/Desktop/usstock/OTIS.csv\n",
      "Saved data for symbol OTLK to C:/Users/atlas/OneDrive/Desktop/usstock/OTLK.csv\n",
      "Saved data for symbol OTLY to C:/Users/atlas/OneDrive/Desktop/usstock/OTLY.csv\n",
      "Saved data for symbol OTRK to C:/Users/atlas/OneDrive/Desktop/usstock/OTRK.csv\n",
      "Saved data for symbol OTTR to C:/Users/atlas/OneDrive/Desktop/usstock/OTTR.csv\n",
      "Saved data for symbol OUST to C:/Users/atlas/OneDrive/Desktop/usstock/OUST.csv\n",
      "Saved data for symbol OUT to C:/Users/atlas/OneDrive/Desktop/usstock/OUT.csv\n",
      "Saved data for symbol OVBC to C:/Users/atlas/OneDrive/Desktop/usstock/OVBC.csv\n",
      "Saved data for symbol OVID to C:/Users/atlas/OneDrive/Desktop/usstock/OVID.csv\n",
      "Saved data for symbol OVLY to C:/Users/atlas/OneDrive/Desktop/usstock/OVLY.csv\n",
      "Saved data for symbol OVV to C:/Users/atlas/OneDrive/Desktop/usstock/OVV.csv\n",
      "Saved data for symbol OWL to C:/Users/atlas/OneDrive/Desktop/usstock/OWL.csv\n",
      "Saved data for symbol OWLT to C:/Users/atlas/OneDrive/Desktop/usstock/OWLT.csv\n",
      "Saved data for symbol OXBR to C:/Users/atlas/OneDrive/Desktop/usstock/OXBR.csv\n",
      "Saved data for symbol OXLC to C:/Users/atlas/OneDrive/Desktop/usstock/OXLC.csv\n",
      "Saved data for symbol OXLCL to C:/Users/atlas/OneDrive/Desktop/usstock/OXLCL.csv\n",
      "Saved data for symbol OXLCM to C:/Users/atlas/OneDrive/Desktop/usstock/OXLCM.csv\n",
      "Saved data for symbol OXLCN to C:/Users/atlas/OneDrive/Desktop/usstock/OXLCN.csv\n",
      "Saved data for symbol OXLCO to C:/Users/atlas/OneDrive/Desktop/usstock/OXLCO.csv\n",
      "Saved data for symbol OXLCP to C:/Users/atlas/OneDrive/Desktop/usstock/OXLCP.csv\n",
      "Saved data for symbol OXLCZ to C:/Users/atlas/OneDrive/Desktop/usstock/OXLCZ.csv\n",
      "Saved data for symbol OXM to C:/Users/atlas/OneDrive/Desktop/usstock/OXM.csv\n",
      "Saved data for symbol OXSQ to C:/Users/atlas/OneDrive/Desktop/usstock/OXSQ.csv\n",
      "Saved data for symbol OXSQG to C:/Users/atlas/OneDrive/Desktop/usstock/OXSQG.csv\n",
      "Saved data for symbol OXSQZ to C:/Users/atlas/OneDrive/Desktop/usstock/OXSQZ.csv\n",
      "Saved data for symbol OXY to C:/Users/atlas/OneDrive/Desktop/usstock/OXY.csv\n",
      "Saved data for symbol OZ to C:/Users/atlas/OneDrive/Desktop/usstock/OZ.csv\n",
      "Saved data for symbol OZK to C:/Users/atlas/OneDrive/Desktop/usstock/OZK.csv\n",
      "Saved data for symbol OZKAP to C:/Users/atlas/OneDrive/Desktop/usstock/OZKAP.csv\n",
      "Saved data for symbol PAA to C:/Users/atlas/OneDrive/Desktop/usstock/PAA.csv\n",
      "Saved data for symbol PAAS to C:/Users/atlas/OneDrive/Desktop/usstock/PAAS.csv\n",
      "Saved data for symbol PAC to C:/Users/atlas/OneDrive/Desktop/usstock/PAC.csv\n",
      "Saved data for symbol PACB to C:/Users/atlas/OneDrive/Desktop/usstock/PACB.csv\n",
      "Saved data for symbol PACK to C:/Users/atlas/OneDrive/Desktop/usstock/PACK.csv\n",
      "Saved data for symbol PACS to C:/Users/atlas/OneDrive/Desktop/usstock/PACS.csv\n",
      "Saved data for symbol PAG to C:/Users/atlas/OneDrive/Desktop/usstock/PAG.csv\n",
      "Saved data for symbol PAGP to C:/Users/atlas/OneDrive/Desktop/usstock/PAGP.csv\n",
      "Saved data for symbol PAGS to C:/Users/atlas/OneDrive/Desktop/usstock/PAGS.csv\n",
      "Saved data for symbol PAHC to C:/Users/atlas/OneDrive/Desktop/usstock/PAHC.csv\n",
      "Saved data for symbol PAI to C:/Users/atlas/OneDrive/Desktop/usstock/PAI.csv\n",
      "Saved data for symbol PALI to C:/Users/atlas/OneDrive/Desktop/usstock/PALI.csv\n",
      "Saved data for symbol PALT to C:/Users/atlas/OneDrive/Desktop/usstock/PALT.csv\n",
      "Saved data for symbol PAM to C:/Users/atlas/OneDrive/Desktop/usstock/PAM.csv\n",
      "Saved data for symbol PANL to C:/Users/atlas/OneDrive/Desktop/usstock/PANL.csv\n",
      "Saved data for symbol PANW to C:/Users/atlas/OneDrive/Desktop/usstock/PANW.csv\n",
      "Saved data for symbol PAPL to C:/Users/atlas/OneDrive/Desktop/usstock/PAPL.csv\n",
      "Saved data for symbol PAR to C:/Users/atlas/OneDrive/Desktop/usstock/PAR.csv\n",
      "Saved data for symbol PARA to C:/Users/atlas/OneDrive/Desktop/usstock/PARA.csv\n",
      "Saved data for symbol PARAA to C:/Users/atlas/OneDrive/Desktop/usstock/PARAA.csv\n",
      "Saved data for symbol PARR to C:/Users/atlas/OneDrive/Desktop/usstock/PARR.csv\n",
      "Saved data for symbol PASG to C:/Users/atlas/OneDrive/Desktop/usstock/PASG.csv\n",
      "Saved data for symbol PATH to C:/Users/atlas/OneDrive/Desktop/usstock/PATH.csv\n",
      "Saved data for symbol PATK to C:/Users/atlas/OneDrive/Desktop/usstock/PATK.csv\n",
      "Saved data for symbol PAVM to C:/Users/atlas/OneDrive/Desktop/usstock/PAVM.csv\n"
     ]
    },
    {
     "name": "stderr",
     "output_type": "stream",
     "text": [
      "\n",
      "1 Failed download:\n",
      "['PAVMZ']: Exception('%ticker%: 1d data not available for startTime=-14831751840 and endTime=1713531151. Only 100 years worth of day granularity data are allowed to be fetched per request.')\n"
     ]
    },
    {
     "name": "stdout",
     "output_type": "stream",
     "text": [
      "Saved data for symbol PAVMZ to C:/Users/atlas/OneDrive/Desktop/usstock/PAVMZ.csv\n",
      "Saved data for symbol PAVS to C:/Users/atlas/OneDrive/Desktop/usstock/PAVS.csv\n",
      "Saved data for symbol PAX to C:/Users/atlas/OneDrive/Desktop/usstock/PAX.csv\n",
      "Saved data for symbol PAXS to C:/Users/atlas/OneDrive/Desktop/usstock/PAXS.csv\n",
      "Saved data for symbol PAY to C:/Users/atlas/OneDrive/Desktop/usstock/PAY.csv\n",
      "Saved data for symbol PAYC to C:/Users/atlas/OneDrive/Desktop/usstock/PAYC.csv\n",
      "Saved data for symbol PAYO to C:/Users/atlas/OneDrive/Desktop/usstock/PAYO.csv\n"
     ]
    },
    {
     "name": "stderr",
     "output_type": "stream",
     "text": [
      "\n",
      "1 Failed download:\n",
      "['PAYOW']: Exception('%ticker%: 1d data not available for startTime=-14831751840 and endTime=1713531155. Only 100 years worth of day granularity data are allowed to be fetched per request.')\n"
     ]
    },
    {
     "name": "stdout",
     "output_type": "stream",
     "text": [
      "Saved data for symbol PAYOW to C:/Users/atlas/OneDrive/Desktop/usstock/PAYOW.csv\n",
      "Saved data for symbol PAYS to C:/Users/atlas/OneDrive/Desktop/usstock/PAYS.csv\n",
      "Saved data for symbol PAYX to C:/Users/atlas/OneDrive/Desktop/usstock/PAYX.csv\n",
      "Saved data for symbol PB to C:/Users/atlas/OneDrive/Desktop/usstock/PB.csv\n",
      "Saved data for symbol PBA to C:/Users/atlas/OneDrive/Desktop/usstock/PBA.csv\n",
      "Saved data for symbol PBBK to C:/Users/atlas/OneDrive/Desktop/usstock/PBBK.csv\n",
      "Saved data for symbol PBF to C:/Users/atlas/OneDrive/Desktop/usstock/PBF.csv\n",
      "Saved data for symbol PBFS to C:/Users/atlas/OneDrive/Desktop/usstock/PBFS.csv\n",
      "Saved data for symbol PBH to C:/Users/atlas/OneDrive/Desktop/usstock/PBH.csv\n",
      "Saved data for symbol PBHC to C:/Users/atlas/OneDrive/Desktop/usstock/PBHC.csv\n",
      "Saved data for symbol PBI to C:/Users/atlas/OneDrive/Desktop/usstock/PBI.csv\n"
     ]
    },
    {
     "name": "stderr",
     "output_type": "stream",
     "text": [
      "\n",
      "1 Failed download:\n",
      "['PBI^B']: Exception('%ticker%: No timezone found, symbol may be delisted')\n"
     ]
    },
    {
     "name": "stdout",
     "output_type": "stream",
     "text": [
      "Saved data for symbol PBI^B to C:/Users/atlas/OneDrive/Desktop/usstock/PBI^B.csv\n",
      "Saved data for symbol PBM to C:/Users/atlas/OneDrive/Desktop/usstock/PBM.csv\n"
     ]
    },
    {
     "name": "stderr",
     "output_type": "stream",
     "text": [
      "\n",
      "1 Failed download:\n",
      "['PBMWW']: Exception('%ticker%: 1d data not available for startTime=-14831751840 and endTime=1713531167. Only 100 years worth of day granularity data are allowed to be fetched per request.')\n"
     ]
    },
    {
     "name": "stdout",
     "output_type": "stream",
     "text": [
      "Saved data for symbol PBMWW to C:/Users/atlas/OneDrive/Desktop/usstock/PBMWW.csv\n",
      "Saved data for symbol PBPB to C:/Users/atlas/OneDrive/Desktop/usstock/PBPB.csv\n",
      "Saved data for symbol PBR to C:/Users/atlas/OneDrive/Desktop/usstock/PBR.csv\n",
      "Saved data for symbol PBT to C:/Users/atlas/OneDrive/Desktop/usstock/PBT.csv\n",
      "Saved data for symbol PBYI to C:/Users/atlas/OneDrive/Desktop/usstock/PBYI.csv\n",
      "Saved data for symbol PCAR to C:/Users/atlas/OneDrive/Desktop/usstock/PCAR.csv\n",
      "Saved data for symbol PCB to C:/Users/atlas/OneDrive/Desktop/usstock/PCB.csv\n",
      "Saved data for symbol PCF to C:/Users/atlas/OneDrive/Desktop/usstock/PCF.csv\n",
      "Saved data for symbol PCG to C:/Users/atlas/OneDrive/Desktop/usstock/PCG.csv\n"
     ]
    },
    {
     "name": "stderr",
     "output_type": "stream",
     "text": [
      "\n",
      "1 Failed download:\n",
      "['PCG^A']: Exception('%ticker%: No timezone found, symbol may be delisted')\n"
     ]
    },
    {
     "name": "stdout",
     "output_type": "stream",
     "text": [
      "Saved data for symbol PCG^A to C:/Users/atlas/OneDrive/Desktop/usstock/PCG^A.csv\n"
     ]
    },
    {
     "name": "stderr",
     "output_type": "stream",
     "text": [
      "\n",
      "1 Failed download:\n",
      "['PCG^B']: Exception('%ticker%: No timezone found, symbol may be delisted')\n"
     ]
    },
    {
     "name": "stdout",
     "output_type": "stream",
     "text": [
      "Saved data for symbol PCG^B to C:/Users/atlas/OneDrive/Desktop/usstock/PCG^B.csv\n"
     ]
    },
    {
     "name": "stderr",
     "output_type": "stream",
     "text": [
      "\n",
      "1 Failed download:\n",
      "['PCG^C']: Exception('%ticker%: No timezone found, symbol may be delisted')\n"
     ]
    },
    {
     "name": "stdout",
     "output_type": "stream",
     "text": [
      "Saved data for symbol PCG^C to C:/Users/atlas/OneDrive/Desktop/usstock/PCG^C.csv\n"
     ]
    },
    {
     "name": "stderr",
     "output_type": "stream",
     "text": [
      "\n",
      "1 Failed download:\n",
      "['PCG^D']: Exception('%ticker%: No timezone found, symbol may be delisted')\n"
     ]
    },
    {
     "name": "stdout",
     "output_type": "stream",
     "text": [
      "Saved data for symbol PCG^D to C:/Users/atlas/OneDrive/Desktop/usstock/PCG^D.csv\n"
     ]
    },
    {
     "name": "stderr",
     "output_type": "stream",
     "text": [
      "\n",
      "1 Failed download:\n",
      "['PCG^E']: Exception('%ticker%: No timezone found, symbol may be delisted')\n"
     ]
    },
    {
     "name": "stdout",
     "output_type": "stream",
     "text": [
      "Saved data for symbol PCG^E to C:/Users/atlas/OneDrive/Desktop/usstock/PCG^E.csv\n"
     ]
    },
    {
     "name": "stderr",
     "output_type": "stream",
     "text": [
      "\n",
      "1 Failed download:\n",
      "['PCG^G']: Exception('%ticker%: No timezone found, symbol may be delisted')\n"
     ]
    },
    {
     "name": "stdout",
     "output_type": "stream",
     "text": [
      "Saved data for symbol PCG^G to C:/Users/atlas/OneDrive/Desktop/usstock/PCG^G.csv\n"
     ]
    },
    {
     "name": "stderr",
     "output_type": "stream",
     "text": [
      "\n",
      "1 Failed download:\n",
      "['PCG^H']: Exception('%ticker%: No timezone found, symbol may be delisted')\n"
     ]
    },
    {
     "name": "stdout",
     "output_type": "stream",
     "text": [
      "Saved data for symbol PCG^H to C:/Users/atlas/OneDrive/Desktop/usstock/PCG^H.csv\n"
     ]
    },
    {
     "name": "stderr",
     "output_type": "stream",
     "text": [
      "\n",
      "1 Failed download:\n",
      "['PCG^I']: Exception('%ticker%: No timezone found, symbol may be delisted')\n"
     ]
    },
    {
     "name": "stdout",
     "output_type": "stream",
     "text": [
      "Saved data for symbol PCG^I to C:/Users/atlas/OneDrive/Desktop/usstock/PCG^I.csv\n",
      "Saved data for symbol PCH to C:/Users/atlas/OneDrive/Desktop/usstock/PCH.csv\n",
      "Saved data for symbol PCK to C:/Users/atlas/OneDrive/Desktop/usstock/PCK.csv\n",
      "Saved data for symbol PCM to C:/Users/atlas/OneDrive/Desktop/usstock/PCM.csv\n",
      "Saved data for symbol PCN to C:/Users/atlas/OneDrive/Desktop/usstock/PCN.csv\n",
      "Saved data for symbol PCOR to C:/Users/atlas/OneDrive/Desktop/usstock/PCOR.csv\n",
      "Saved data for symbol PCQ to C:/Users/atlas/OneDrive/Desktop/usstock/PCQ.csv\n",
      "Saved data for symbol PCRX to C:/Users/atlas/OneDrive/Desktop/usstock/PCRX.csv\n",
      "Saved data for symbol PCSA to C:/Users/atlas/OneDrive/Desktop/usstock/PCSA.csv\n",
      "Saved data for symbol PCT to C:/Users/atlas/OneDrive/Desktop/usstock/PCT.csv\n"
     ]
    },
    {
     "name": "stderr",
     "output_type": "stream",
     "text": [
      "\n",
      "1 Failed download:\n",
      "['PCTTW']: Exception('%ticker%: 1d data not available for startTime=-14831751840 and endTime=1713531195. Only 100 years worth of day granularity data are allowed to be fetched per request.')\n"
     ]
    },
    {
     "name": "stdout",
     "output_type": "stream",
     "text": [
      "Saved data for symbol PCTTW to C:/Users/atlas/OneDrive/Desktop/usstock/PCTTW.csv\n",
      "Saved data for symbol PCTY to C:/Users/atlas/OneDrive/Desktop/usstock/PCTY.csv\n",
      "Saved data for symbol PCVX to C:/Users/atlas/OneDrive/Desktop/usstock/PCVX.csv\n",
      "Saved data for symbol PCYO to C:/Users/atlas/OneDrive/Desktop/usstock/PCYO.csv\n",
      "Saved data for symbol PD to C:/Users/atlas/OneDrive/Desktop/usstock/PD.csv\n",
      "Saved data for symbol PDCO to C:/Users/atlas/OneDrive/Desktop/usstock/PDCO.csv\n",
      "Saved data for symbol PDD to C:/Users/atlas/OneDrive/Desktop/usstock/PDD.csv\n",
      "Saved data for symbol PDEX to C:/Users/atlas/OneDrive/Desktop/usstock/PDEX.csv\n",
      "Saved data for symbol PDFS to C:/Users/atlas/OneDrive/Desktop/usstock/PDFS.csv\n",
      "Saved data for symbol PDI to C:/Users/atlas/OneDrive/Desktop/usstock/PDI.csv\n",
      "Saved data for symbol PDLB to C:/Users/atlas/OneDrive/Desktop/usstock/PDLB.csv\n",
      "Saved data for symbol PDM to C:/Users/atlas/OneDrive/Desktop/usstock/PDM.csv\n",
      "Saved data for symbol PDO to C:/Users/atlas/OneDrive/Desktop/usstock/PDO.csv\n",
      "Saved data for symbol PDS to C:/Users/atlas/OneDrive/Desktop/usstock/PDS.csv\n",
      "Saved data for symbol PDSB to C:/Users/atlas/OneDrive/Desktop/usstock/PDSB.csv\n",
      "Saved data for symbol PDT to C:/Users/atlas/OneDrive/Desktop/usstock/PDT.csv\n",
      "Saved data for symbol PDX to C:/Users/atlas/OneDrive/Desktop/usstock/PDX.csv\n",
      "Saved data for symbol PDYN to C:/Users/atlas/OneDrive/Desktop/usstock/PDYN.csv\n",
      "Saved data for symbol PDYNW to C:/Users/atlas/OneDrive/Desktop/usstock/PDYNW.csv\n",
      "Saved data for symbol PEB to C:/Users/atlas/OneDrive/Desktop/usstock/PEB.csv\n"
     ]
    },
    {
     "name": "stderr",
     "output_type": "stream",
     "text": [
      "\n",
      "1 Failed download:\n",
      "['PEB^E']: Exception('%ticker%: No timezone found, symbol may be delisted')\n"
     ]
    },
    {
     "name": "stdout",
     "output_type": "stream",
     "text": [
      "Saved data for symbol PEB^E to C:/Users/atlas/OneDrive/Desktop/usstock/PEB^E.csv\n"
     ]
    },
    {
     "name": "stderr",
     "output_type": "stream",
     "text": [
      "\n",
      "1 Failed download:\n",
      "['PEB^F']: Exception('%ticker%: No timezone found, symbol may be delisted')\n"
     ]
    },
    {
     "name": "stdout",
     "output_type": "stream",
     "text": [
      "Saved data for symbol PEB^F to C:/Users/atlas/OneDrive/Desktop/usstock/PEB^F.csv\n"
     ]
    },
    {
     "name": "stderr",
     "output_type": "stream",
     "text": [
      "\n",
      "1 Failed download:\n",
      "['PEB^G']: Exception('%ticker%: No timezone found, symbol may be delisted')\n"
     ]
    },
    {
     "name": "stdout",
     "output_type": "stream",
     "text": [
      "Saved data for symbol PEB^G to C:/Users/atlas/OneDrive/Desktop/usstock/PEB^G.csv\n"
     ]
    },
    {
     "name": "stderr",
     "output_type": "stream",
     "text": [
      "\n",
      "1 Failed download:\n",
      "['PEB^H']: Exception('%ticker%: No timezone found, symbol may be delisted')\n"
     ]
    },
    {
     "name": "stdout",
     "output_type": "stream",
     "text": [
      "Saved data for symbol PEB^H to C:/Users/atlas/OneDrive/Desktop/usstock/PEB^H.csv\n",
      "Saved data for symbol PEBK to C:/Users/atlas/OneDrive/Desktop/usstock/PEBK.csv\n",
      "Saved data for symbol PEBO to C:/Users/atlas/OneDrive/Desktop/usstock/PEBO.csv\n",
      "Saved data for symbol PECO to C:/Users/atlas/OneDrive/Desktop/usstock/PECO.csv\n",
      "Saved data for symbol PED to C:/Users/atlas/OneDrive/Desktop/usstock/PED.csv\n",
      "Saved data for symbol PEG to C:/Users/atlas/OneDrive/Desktop/usstock/PEG.csv\n",
      "Saved data for symbol PEGA to C:/Users/atlas/OneDrive/Desktop/usstock/PEGA.csv\n",
      "Saved data for symbol PEGR to C:/Users/atlas/OneDrive/Desktop/usstock/PEGR.csv\n",
      "Saved data for symbol PEGRU to C:/Users/atlas/OneDrive/Desktop/usstock/PEGRU.csv\n"
     ]
    },
    {
     "name": "stderr",
     "output_type": "stream",
     "text": [
      "\n",
      "1 Failed download:\n",
      "['PEGRW']: Exception('%ticker%: 1d data not available for startTime=-14831751840 and endTime=1713531219. Only 100 years worth of day granularity data are allowed to be fetched per request.')\n"
     ]
    },
    {
     "name": "stdout",
     "output_type": "stream",
     "text": [
      "Saved data for symbol PEGRW to C:/Users/atlas/OneDrive/Desktop/usstock/PEGRW.csv\n",
      "Saved data for symbol PEGY to C:/Users/atlas/OneDrive/Desktop/usstock/PEGY.csv\n",
      "Saved data for symbol PEN to C:/Users/atlas/OneDrive/Desktop/usstock/PEN.csv\n",
      "Saved data for symbol PENN to C:/Users/atlas/OneDrive/Desktop/usstock/PENN.csv\n",
      "Saved data for symbol PEO to C:/Users/atlas/OneDrive/Desktop/usstock/PEO.csv\n",
      "Saved data for symbol PEP to C:/Users/atlas/OneDrive/Desktop/usstock/PEP.csv\n",
      "Saved data for symbol PEPG to C:/Users/atlas/OneDrive/Desktop/usstock/PEPG.csv\n",
      "Saved data for symbol PERF to C:/Users/atlas/OneDrive/Desktop/usstock/PERF.csv\n",
      "Saved data for symbol PERI to C:/Users/atlas/OneDrive/Desktop/usstock/PERI.csv\n",
      "Saved data for symbol PESI to C:/Users/atlas/OneDrive/Desktop/usstock/PESI.csv\n",
      "Saved data for symbol PET to C:/Users/atlas/OneDrive/Desktop/usstock/PET.csv\n",
      "Saved data for symbol PETQ to C:/Users/atlas/OneDrive/Desktop/usstock/PETQ.csv\n",
      "Saved data for symbol PETS to C:/Users/atlas/OneDrive/Desktop/usstock/PETS.csv\n",
      "Saved data for symbol PETZ to C:/Users/atlas/OneDrive/Desktop/usstock/PETZ.csv\n",
      "Saved data for symbol PEV to C:/Users/atlas/OneDrive/Desktop/usstock/PEV.csv\n",
      "Saved data for symbol PFBC to C:/Users/atlas/OneDrive/Desktop/usstock/PFBC.csv\n",
      "Saved data for symbol PFC to C:/Users/atlas/OneDrive/Desktop/usstock/PFC.csv\n",
      "Saved data for symbol PFD to C:/Users/atlas/OneDrive/Desktop/usstock/PFD.csv\n",
      "Saved data for symbol PFE to C:/Users/atlas/OneDrive/Desktop/usstock/PFE.csv\n",
      "Saved data for symbol PFG to C:/Users/atlas/OneDrive/Desktop/usstock/PFG.csv\n",
      "Saved data for symbol PFGC to C:/Users/atlas/OneDrive/Desktop/usstock/PFGC.csv\n",
      "Saved data for symbol PFH to C:/Users/atlas/OneDrive/Desktop/usstock/PFH.csv\n",
      "Saved data for symbol PFIE to C:/Users/atlas/OneDrive/Desktop/usstock/PFIE.csv\n",
      "Saved data for symbol PFIS to C:/Users/atlas/OneDrive/Desktop/usstock/PFIS.csv\n",
      "Saved data for symbol PFL to C:/Users/atlas/OneDrive/Desktop/usstock/PFL.csv\n",
      "Saved data for symbol PFLT to C:/Users/atlas/OneDrive/Desktop/usstock/PFLT.csv\n",
      "Saved data for symbol PFMT to C:/Users/atlas/OneDrive/Desktop/usstock/PFMT.csv\n",
      "Saved data for symbol PFN to C:/Users/atlas/OneDrive/Desktop/usstock/PFN.csv\n",
      "Saved data for symbol PFO to C:/Users/atlas/OneDrive/Desktop/usstock/PFO.csv\n",
      "Saved data for symbol PFS to C:/Users/atlas/OneDrive/Desktop/usstock/PFS.csv\n",
      "Saved data for symbol PFSI to C:/Users/atlas/OneDrive/Desktop/usstock/PFSI.csv\n",
      "Saved data for symbol PFTA to C:/Users/atlas/OneDrive/Desktop/usstock/PFTA.csv\n",
      "Saved data for symbol PFX to C:/Users/atlas/OneDrive/Desktop/usstock/PFX.csv\n",
      "Saved data for symbol PFXNZ to C:/Users/atlas/OneDrive/Desktop/usstock/PFXNZ.csv\n",
      "Saved data for symbol PG to C:/Users/atlas/OneDrive/Desktop/usstock/PG.csv\n",
      "Saved data for symbol PGC to C:/Users/atlas/OneDrive/Desktop/usstock/PGC.csv\n",
      "Saved data for symbol PGEN to C:/Users/atlas/OneDrive/Desktop/usstock/PGEN.csv\n",
      "Saved data for symbol PGNY to C:/Users/atlas/OneDrive/Desktop/usstock/PGNY.csv\n",
      "Saved data for symbol PGP to C:/Users/atlas/OneDrive/Desktop/usstock/PGP.csv\n",
      "Saved data for symbol PGR to C:/Users/atlas/OneDrive/Desktop/usstock/PGR.csv\n",
      "Saved data for symbol PGRE to C:/Users/atlas/OneDrive/Desktop/usstock/PGRE.csv\n",
      "Saved data for symbol PGRU to C:/Users/atlas/OneDrive/Desktop/usstock/PGRU.csv\n",
      "Saved data for symbol PGSS to C:/Users/atlas/OneDrive/Desktop/usstock/PGSS.csv\n",
      "Saved data for symbol PGY to C:/Users/atlas/OneDrive/Desktop/usstock/PGY.csv\n",
      "Saved data for symbol PGYWW to C:/Users/atlas/OneDrive/Desktop/usstock/PGYWW.csv\n",
      "Saved data for symbol PGZ to C:/Users/atlas/OneDrive/Desktop/usstock/PGZ.csv\n",
      "Saved data for symbol PH to C:/Users/atlas/OneDrive/Desktop/usstock/PH.csv\n",
      "Saved data for symbol PHAR to C:/Users/atlas/OneDrive/Desktop/usstock/PHAR.csv\n",
      "Saved data for symbol PHAT to C:/Users/atlas/OneDrive/Desktop/usstock/PHAT.csv\n",
      "Saved data for symbol PHD to C:/Users/atlas/OneDrive/Desktop/usstock/PHD.csv\n",
      "Saved data for symbol PHG to C:/Users/atlas/OneDrive/Desktop/usstock/PHG.csv\n",
      "Saved data for symbol PHGE to C:/Users/atlas/OneDrive/Desktop/usstock/PHGE.csv\n",
      "Saved data for symbol PHI to C:/Users/atlas/OneDrive/Desktop/usstock/PHI.csv\n",
      "Saved data for symbol PHIN to C:/Users/atlas/OneDrive/Desktop/usstock/PHIN.csv\n",
      "Saved data for symbol PHIO to C:/Users/atlas/OneDrive/Desktop/usstock/PHIO.csv\n",
      "Saved data for symbol PHK to C:/Users/atlas/OneDrive/Desktop/usstock/PHK.csv\n",
      "Saved data for symbol PHM to C:/Users/atlas/OneDrive/Desktop/usstock/PHM.csv\n",
      "Saved data for symbol PHR to C:/Users/atlas/OneDrive/Desktop/usstock/PHR.csv\n",
      "Saved data for symbol PHT to C:/Users/atlas/OneDrive/Desktop/usstock/PHT.csv\n",
      "Saved data for symbol PHUN to C:/Users/atlas/OneDrive/Desktop/usstock/PHUN.csv\n",
      "Saved data for symbol PHVS to C:/Users/atlas/OneDrive/Desktop/usstock/PHVS.csv\n",
      "Saved data for symbol PHX to C:/Users/atlas/OneDrive/Desktop/usstock/PHX.csv\n",
      "Saved data for symbol PHYT to C:/Users/atlas/OneDrive/Desktop/usstock/PHYT.csv\n",
      "Saved data for symbol PI to C:/Users/atlas/OneDrive/Desktop/usstock/PI.csv\n",
      "Saved data for symbol PII to C:/Users/atlas/OneDrive/Desktop/usstock/PII.csv\n",
      "Saved data for symbol PIII to C:/Users/atlas/OneDrive/Desktop/usstock/PIII.csv\n"
     ]
    },
    {
     "name": "stderr",
     "output_type": "stream",
     "text": [
      "\n",
      "1 Failed download:\n",
      "['PIIIW']: Exception('%ticker%: 1d data not available for startTime=-14831751840 and endTime=1713531256. Only 100 years worth of day granularity data are allowed to be fetched per request.')\n"
     ]
    },
    {
     "name": "stdout",
     "output_type": "stream",
     "text": [
      "Saved data for symbol PIIIW to C:/Users/atlas/OneDrive/Desktop/usstock/PIIIW.csv\n",
      "Saved data for symbol PIK to C:/Users/atlas/OneDrive/Desktop/usstock/PIK.csv\n",
      "Saved data for symbol PIM to C:/Users/atlas/OneDrive/Desktop/usstock/PIM.csv\n",
      "Saved data for symbol PINC to C:/Users/atlas/OneDrive/Desktop/usstock/PINC.csv\n",
      "Saved data for symbol PINE to C:/Users/atlas/OneDrive/Desktop/usstock/PINE.csv\n",
      "Saved data for symbol PINS to C:/Users/atlas/OneDrive/Desktop/usstock/PINS.csv\n",
      "Saved data for symbol PIPR to C:/Users/atlas/OneDrive/Desktop/usstock/PIPR.csv\n",
      "Saved data for symbol PIRS to C:/Users/atlas/OneDrive/Desktop/usstock/PIRS.csv\n",
      "Saved data for symbol PIXY to C:/Users/atlas/OneDrive/Desktop/usstock/PIXY.csv\n",
      "Saved data for symbol PJT to C:/Users/atlas/OneDrive/Desktop/usstock/PJT.csv\n",
      "Saved data for symbol PK to C:/Users/atlas/OneDrive/Desktop/usstock/PK.csv\n",
      "Saved data for symbol PKBK to C:/Users/atlas/OneDrive/Desktop/usstock/PKBK.csv\n",
      "Saved data for symbol PKE to C:/Users/atlas/OneDrive/Desktop/usstock/PKE.csv\n",
      "Saved data for symbol PKG to C:/Users/atlas/OneDrive/Desktop/usstock/PKG.csv\n",
      "Saved data for symbol PKOH to C:/Users/atlas/OneDrive/Desktop/usstock/PKOH.csv\n",
      "Saved data for symbol PKST to C:/Users/atlas/OneDrive/Desktop/usstock/PKST.csv\n",
      "Saved data for symbol PKX to C:/Users/atlas/OneDrive/Desktop/usstock/PKX.csv\n",
      "Saved data for symbol PL to C:/Users/atlas/OneDrive/Desktop/usstock/PL.csv\n",
      "Saved data for symbol PLAB to C:/Users/atlas/OneDrive/Desktop/usstock/PLAB.csv\n",
      "Saved data for symbol PLAG to C:/Users/atlas/OneDrive/Desktop/usstock/PLAG.csv\n",
      "Saved data for symbol PLAO to C:/Users/atlas/OneDrive/Desktop/usstock/PLAO.csv\n"
     ]
    },
    {
     "name": "stderr",
     "output_type": "stream",
     "text": [
      "\n",
      "1 Failed download:\n",
      "['PLAOW']: Exception('%ticker%: 1d data not available for startTime=-14831751840 and endTime=1713531267. Only 100 years worth of day granularity data are allowed to be fetched per request.')\n"
     ]
    },
    {
     "name": "stdout",
     "output_type": "stream",
     "text": [
      "Saved data for symbol PLAOW to C:/Users/atlas/OneDrive/Desktop/usstock/PLAOW.csv\n",
      "Saved data for symbol PLAY to C:/Users/atlas/OneDrive/Desktop/usstock/PLAY.csv\n",
      "Saved data for symbol PLBC to C:/Users/atlas/OneDrive/Desktop/usstock/PLBC.csv\n",
      "Saved data for symbol PLBY to C:/Users/atlas/OneDrive/Desktop/usstock/PLBY.csv\n",
      "Saved data for symbol PLCE to C:/Users/atlas/OneDrive/Desktop/usstock/PLCE.csv\n",
      "Saved data for symbol PLD to C:/Users/atlas/OneDrive/Desktop/usstock/PLD.csv\n",
      "Saved data for symbol PLG to C:/Users/atlas/OneDrive/Desktop/usstock/PLG.csv\n",
      "Saved data for symbol PLL to C:/Users/atlas/OneDrive/Desktop/usstock/PLL.csv\n",
      "Saved data for symbol PLMI to C:/Users/atlas/OneDrive/Desktop/usstock/PLMI.csv\n",
      "Saved data for symbol PLMJ to C:/Users/atlas/OneDrive/Desktop/usstock/PLMJ.csv\n",
      "Saved data for symbol PLMJU to C:/Users/atlas/OneDrive/Desktop/usstock/PLMJU.csv\n",
      "Saved data for symbol PLMR to C:/Users/atlas/OneDrive/Desktop/usstock/PLMR.csv\n",
      "Saved data for symbol PLNT to C:/Users/atlas/OneDrive/Desktop/usstock/PLNT.csv\n",
      "Saved data for symbol PLOW to C:/Users/atlas/OneDrive/Desktop/usstock/PLOW.csv\n",
      "Saved data for symbol PLPC to C:/Users/atlas/OneDrive/Desktop/usstock/PLPC.csv\n",
      "Saved data for symbol PLRX to C:/Users/atlas/OneDrive/Desktop/usstock/PLRX.csv\n",
      "Saved data for symbol PLSE to C:/Users/atlas/OneDrive/Desktop/usstock/PLSE.csv\n",
      "Saved data for symbol PLTK to C:/Users/atlas/OneDrive/Desktop/usstock/PLTK.csv\n",
      "Saved data for symbol PLTN to C:/Users/atlas/OneDrive/Desktop/usstock/PLTN.csv\n"
     ]
    },
    {
     "name": "stderr",
     "output_type": "stream",
     "text": [
      "\n",
      "1 Failed download:\n",
      "['PLTNR']: Exception('%ticker%: 1d data not available for startTime=-14831751840 and endTime=1713531277. Only 100 years worth of day granularity data are allowed to be fetched per request.')\n"
     ]
    },
    {
     "name": "stdout",
     "output_type": "stream",
     "text": [
      "Saved data for symbol PLTNR to C:/Users/atlas/OneDrive/Desktop/usstock/PLTNR.csv\n"
     ]
    },
    {
     "name": "stderr",
     "output_type": "stream",
     "text": [
      "\n",
      "1 Failed download:\n",
      "['PLTNW']: Exception('%ticker%: 1d data not available for startTime=-14831751840 and endTime=1713531279. Only 100 years worth of day granularity data are allowed to be fetched per request.')\n"
     ]
    },
    {
     "name": "stdout",
     "output_type": "stream",
     "text": [
      "Saved data for symbol PLTNW to C:/Users/atlas/OneDrive/Desktop/usstock/PLTNW.csv\n",
      "Saved data for symbol PLTR to C:/Users/atlas/OneDrive/Desktop/usstock/PLTR.csv\n",
      "Saved data for symbol PLUG to C:/Users/atlas/OneDrive/Desktop/usstock/PLUG.csv\n",
      "Saved data for symbol PLUR to C:/Users/atlas/OneDrive/Desktop/usstock/PLUR.csv\n",
      "Saved data for symbol PLUS to C:/Users/atlas/OneDrive/Desktop/usstock/PLUS.csv\n",
      "Saved data for symbol PLX to C:/Users/atlas/OneDrive/Desktop/usstock/PLX.csv\n",
      "Saved data for symbol PLXS to C:/Users/atlas/OneDrive/Desktop/usstock/PLXS.csv\n",
      "Saved data for symbol PLYA to C:/Users/atlas/OneDrive/Desktop/usstock/PLYA.csv\n",
      "Saved data for symbol PLYM to C:/Users/atlas/OneDrive/Desktop/usstock/PLYM.csv\n",
      "Saved data for symbol PM to C:/Users/atlas/OneDrive/Desktop/usstock/PM.csv\n",
      "Saved data for symbol PMCB to C:/Users/atlas/OneDrive/Desktop/usstock/PMCB.csv\n",
      "Saved data for symbol PMD to C:/Users/atlas/OneDrive/Desktop/usstock/PMD.csv\n",
      "Saved data for symbol PMEC to C:/Users/atlas/OneDrive/Desktop/usstock/PMEC.csv\n",
      "Saved data for symbol PMF to C:/Users/atlas/OneDrive/Desktop/usstock/PMF.csv\n",
      "Saved data for symbol PMGM to C:/Users/atlas/OneDrive/Desktop/usstock/PMGM.csv\n",
      "Saved data for symbol PMGMU to C:/Users/atlas/OneDrive/Desktop/usstock/PMGMU.csv\n"
     ]
    },
    {
     "name": "stderr",
     "output_type": "stream",
     "text": [
      "\n",
      "1 Failed download:\n",
      "['PMGMW']: Exception('%ticker%: 1d data not available for startTime=-14831751840 and endTime=1713531287. Only 100 years worth of day granularity data are allowed to be fetched per request.')\n"
     ]
    },
    {
     "name": "stdout",
     "output_type": "stream",
     "text": [
      "Saved data for symbol PMGMW to C:/Users/atlas/OneDrive/Desktop/usstock/PMGMW.csv\n",
      "Saved data for symbol PML to C:/Users/atlas/OneDrive/Desktop/usstock/PML.csv\n",
      "Saved data for symbol PMM to C:/Users/atlas/OneDrive/Desktop/usstock/PMM.csv\n",
      "Saved data for symbol PMN to C:/Users/atlas/OneDrive/Desktop/usstock/PMN.csv\n",
      "Saved data for symbol PMNT to C:/Users/atlas/OneDrive/Desktop/usstock/PMNT.csv\n",
      "Saved data for symbol PMO to C:/Users/atlas/OneDrive/Desktop/usstock/PMO.csv\n",
      "Saved data for symbol PMT to C:/Users/atlas/OneDrive/Desktop/usstock/PMT.csv\n"
     ]
    },
    {
     "name": "stderr",
     "output_type": "stream",
     "text": [
      "\n",
      "1 Failed download:\n",
      "['PMT^A']: Exception('%ticker%: No timezone found, symbol may be delisted')\n"
     ]
    },
    {
     "name": "stdout",
     "output_type": "stream",
     "text": [
      "Saved data for symbol PMT^A to C:/Users/atlas/OneDrive/Desktop/usstock/PMT^A.csv\n"
     ]
    },
    {
     "name": "stderr",
     "output_type": "stream",
     "text": [
      "\n",
      "1 Failed download:\n",
      "['PMT^B']: Exception('%ticker%: No timezone found, symbol may be delisted')\n"
     ]
    },
    {
     "name": "stdout",
     "output_type": "stream",
     "text": [
      "Saved data for symbol PMT^B to C:/Users/atlas/OneDrive/Desktop/usstock/PMT^B.csv\n"
     ]
    },
    {
     "name": "stderr",
     "output_type": "stream",
     "text": [
      "\n",
      "1 Failed download:\n",
      "['PMT^C']: Exception('%ticker%: No timezone found, symbol may be delisted')\n"
     ]
    },
    {
     "name": "stdout",
     "output_type": "stream",
     "text": [
      "Saved data for symbol PMT^C to C:/Users/atlas/OneDrive/Desktop/usstock/PMT^C.csv\n",
      "Saved data for symbol PMTS to C:/Users/atlas/OneDrive/Desktop/usstock/PMTS.csv\n",
      "Saved data for symbol PMTU to C:/Users/atlas/OneDrive/Desktop/usstock/PMTU.csv\n",
      "Saved data for symbol PMVP to C:/Users/atlas/OneDrive/Desktop/usstock/PMVP.csv\n",
      "Saved data for symbol PMX to C:/Users/atlas/OneDrive/Desktop/usstock/PMX.csv\n",
      "Saved data for symbol PNBK to C:/Users/atlas/OneDrive/Desktop/usstock/PNBK.csv\n",
      "Saved data for symbol PNC to C:/Users/atlas/OneDrive/Desktop/usstock/PNC.csv\n",
      "Saved data for symbol PNF to C:/Users/atlas/OneDrive/Desktop/usstock/PNF.csv\n",
      "Saved data for symbol PNFP to C:/Users/atlas/OneDrive/Desktop/usstock/PNFP.csv\n",
      "Saved data for symbol PNFPP to C:/Users/atlas/OneDrive/Desktop/usstock/PNFPP.csv\n",
      "Saved data for symbol PNI to C:/Users/atlas/OneDrive/Desktop/usstock/PNI.csv\n",
      "Saved data for symbol PNM to C:/Users/atlas/OneDrive/Desktop/usstock/PNM.csv\n",
      "Saved data for symbol PNNT to C:/Users/atlas/OneDrive/Desktop/usstock/PNNT.csv\n",
      "Saved data for symbol PNR to C:/Users/atlas/OneDrive/Desktop/usstock/PNR.csv\n",
      "Saved data for symbol PNRG to C:/Users/atlas/OneDrive/Desktop/usstock/PNRG.csv\n",
      "Saved data for symbol PNST to C:/Users/atlas/OneDrive/Desktop/usstock/PNST.csv\n",
      "Saved data for symbol PNTG to C:/Users/atlas/OneDrive/Desktop/usstock/PNTG.csv\n",
      "Saved data for symbol PNW to C:/Users/atlas/OneDrive/Desktop/usstock/PNW.csv\n",
      "Saved data for symbol POAI to C:/Users/atlas/OneDrive/Desktop/usstock/POAI.csv\n",
      "Saved data for symbol POCI to C:/Users/atlas/OneDrive/Desktop/usstock/POCI.csv\n",
      "Saved data for symbol PODC to C:/Users/atlas/OneDrive/Desktop/usstock/PODC.csv\n",
      "Saved data for symbol PODD to C:/Users/atlas/OneDrive/Desktop/usstock/PODD.csv\n",
      "Saved data for symbol POET to C:/Users/atlas/OneDrive/Desktop/usstock/POET.csv\n",
      "Saved data for symbol POLA to C:/Users/atlas/OneDrive/Desktop/usstock/POLA.csv\n",
      "Saved data for symbol POOL to C:/Users/atlas/OneDrive/Desktop/usstock/POOL.csv\n",
      "Saved data for symbol POR to C:/Users/atlas/OneDrive/Desktop/usstock/POR.csv\n",
      "Saved data for symbol POST to C:/Users/atlas/OneDrive/Desktop/usstock/POST.csv\n",
      "Saved data for symbol POWI to C:/Users/atlas/OneDrive/Desktop/usstock/POWI.csv\n",
      "Saved data for symbol POWL to C:/Users/atlas/OneDrive/Desktop/usstock/POWL.csv\n",
      "Saved data for symbol POWW to C:/Users/atlas/OneDrive/Desktop/usstock/POWW.csv\n",
      "Saved data for symbol POWWP to C:/Users/atlas/OneDrive/Desktop/usstock/POWWP.csv\n",
      "Saved data for symbol PPBI to C:/Users/atlas/OneDrive/Desktop/usstock/PPBI.csv\n",
      "Saved data for symbol PPBT to C:/Users/atlas/OneDrive/Desktop/usstock/PPBT.csv\n",
      "Saved data for symbol PPC to C:/Users/atlas/OneDrive/Desktop/usstock/PPC.csv\n",
      "Saved data for symbol PPG to C:/Users/atlas/OneDrive/Desktop/usstock/PPG.csv\n",
      "Saved data for symbol PPHP to C:/Users/atlas/OneDrive/Desktop/usstock/PPHP.csv\n"
     ]
    },
    {
     "name": "stderr",
     "output_type": "stream",
     "text": [
      "\n",
      "1 Failed download:\n",
      "['PPHPW']: Exception('%ticker%: 1d data not available for startTime=-14831751840 and endTime=1713531317. Only 100 years worth of day granularity data are allowed to be fetched per request.')\n"
     ]
    },
    {
     "name": "stdout",
     "output_type": "stream",
     "text": [
      "Saved data for symbol PPHPW to C:/Users/atlas/OneDrive/Desktop/usstock/PPHPW.csv\n",
      "Saved data for symbol PPIH to C:/Users/atlas/OneDrive/Desktop/usstock/PPIH.csv\n",
      "Saved data for symbol PPL to C:/Users/atlas/OneDrive/Desktop/usstock/PPL.csv\n",
      "Saved data for symbol PPSI to C:/Users/atlas/OneDrive/Desktop/usstock/PPSI.csv\n",
      "Saved data for symbol PPT to C:/Users/atlas/OneDrive/Desktop/usstock/PPT.csv\n",
      "Saved data for symbol PPTA to C:/Users/atlas/OneDrive/Desktop/usstock/PPTA.csv\n",
      "Saved data for symbol PPYA to C:/Users/atlas/OneDrive/Desktop/usstock/PPYA.csv\n",
      "Saved data for symbol PR to C:/Users/atlas/OneDrive/Desktop/usstock/PR.csv\n",
      "Saved data for symbol PRA to C:/Users/atlas/OneDrive/Desktop/usstock/PRA.csv\n",
      "Saved data for symbol PRAA to C:/Users/atlas/OneDrive/Desktop/usstock/PRAA.csv\n",
      "Saved data for symbol PRAX to C:/Users/atlas/OneDrive/Desktop/usstock/PRAX.csv\n",
      "Saved data for symbol PRCH to C:/Users/atlas/OneDrive/Desktop/usstock/PRCH.csv\n",
      "Saved data for symbol PRCT to C:/Users/atlas/OneDrive/Desktop/usstock/PRCT.csv\n",
      "Saved data for symbol PRDO to C:/Users/atlas/OneDrive/Desktop/usstock/PRDO.csv\n",
      "Saved data for symbol PRE to C:/Users/atlas/OneDrive/Desktop/usstock/PRE.csv\n"
     ]
    },
    {
     "name": "stderr",
     "output_type": "stream",
     "text": [
      "\n",
      "1 Failed download:\n",
      "['PRE^J']: Exception('%ticker%: No timezone found, symbol may be delisted')\n"
     ]
    },
    {
     "name": "stdout",
     "output_type": "stream",
     "text": [
      "Saved data for symbol PRE^J to C:/Users/atlas/OneDrive/Desktop/usstock/PRE^J.csv\n"
     ]
    },
    {
     "name": "stderr",
     "output_type": "stream",
     "text": [
      "\n",
      "1 Failed download:\n",
      "['PRENW']: Exception('%ticker%: 1d data not available for startTime=-14831751840 and endTime=1713531328. Only 100 years worth of day granularity data are allowed to be fetched per request.')\n"
     ]
    },
    {
     "name": "stdout",
     "output_type": "stream",
     "text": [
      "Saved data for symbol PRENW to C:/Users/atlas/OneDrive/Desktop/usstock/PRENW.csv\n",
      "Saved data for symbol PRFT to C:/Users/atlas/OneDrive/Desktop/usstock/PRFT.csv\n",
      "Saved data for symbol PRFX to C:/Users/atlas/OneDrive/Desktop/usstock/PRFX.csv\n",
      "Saved data for symbol PRG to C:/Users/atlas/OneDrive/Desktop/usstock/PRG.csv\n",
      "Saved data for symbol PRGO to C:/Users/atlas/OneDrive/Desktop/usstock/PRGO.csv\n",
      "Saved data for symbol PRGS to C:/Users/atlas/OneDrive/Desktop/usstock/PRGS.csv\n",
      "Saved data for symbol PRH to C:/Users/atlas/OneDrive/Desktop/usstock/PRH.csv\n",
      "Saved data for symbol PRI to C:/Users/atlas/OneDrive/Desktop/usstock/PRI.csv\n"
     ]
    },
    {
     "name": "stderr",
     "output_type": "stream",
     "text": [
      "\n",
      "1 Failed download:\n",
      "['PRIF^D']: Exception('%ticker%: No timezone found, symbol may be delisted')\n"
     ]
    },
    {
     "name": "stdout",
     "output_type": "stream",
     "text": [
      "Saved data for symbol PRIF^D to C:/Users/atlas/OneDrive/Desktop/usstock/PRIF^D.csv\n"
     ]
    },
    {
     "name": "stderr",
     "output_type": "stream",
     "text": [
      "\n",
      "1 Failed download:\n",
      "['PRIF^F']: Exception('%ticker%: No timezone found, symbol may be delisted')\n"
     ]
    },
    {
     "name": "stdout",
     "output_type": "stream",
     "text": [
      "Saved data for symbol PRIF^F to C:/Users/atlas/OneDrive/Desktop/usstock/PRIF^F.csv\n"
     ]
    },
    {
     "name": "stderr",
     "output_type": "stream",
     "text": [
      "\n",
      "1 Failed download:\n",
      "['PRIF^G']: Exception('%ticker%: No timezone found, symbol may be delisted')\n"
     ]
    },
    {
     "name": "stdout",
     "output_type": "stream",
     "text": [
      "Saved data for symbol PRIF^G to C:/Users/atlas/OneDrive/Desktop/usstock/PRIF^G.csv\n"
     ]
    },
    {
     "name": "stderr",
     "output_type": "stream",
     "text": [
      "\n",
      "1 Failed download:\n",
      "['PRIF^H']: Exception('%ticker%: No timezone found, symbol may be delisted')\n"
     ]
    },
    {
     "name": "stdout",
     "output_type": "stream",
     "text": [
      "Saved data for symbol PRIF^H to C:/Users/atlas/OneDrive/Desktop/usstock/PRIF^H.csv\n"
     ]
    },
    {
     "name": "stderr",
     "output_type": "stream",
     "text": [
      "\n",
      "1 Failed download:\n",
      "['PRIF^I']: Exception('%ticker%: No timezone found, symbol may be delisted')\n"
     ]
    },
    {
     "name": "stdout",
     "output_type": "stream",
     "text": [
      "Saved data for symbol PRIF^I to C:/Users/atlas/OneDrive/Desktop/usstock/PRIF^I.csv\n"
     ]
    },
    {
     "name": "stderr",
     "output_type": "stream",
     "text": [
      "\n",
      "1 Failed download:\n",
      "['PRIF^J']: Exception('%ticker%: No timezone found, symbol may be delisted')\n"
     ]
    },
    {
     "name": "stdout",
     "output_type": "stream",
     "text": [
      "Saved data for symbol PRIF^J to C:/Users/atlas/OneDrive/Desktop/usstock/PRIF^J.csv\n"
     ]
    },
    {
     "name": "stderr",
     "output_type": "stream",
     "text": [
      "\n",
      "1 Failed download:\n",
      "['PRIF^K']: Exception('%ticker%: No timezone found, symbol may be delisted')\n"
     ]
    },
    {
     "name": "stdout",
     "output_type": "stream",
     "text": [
      "Saved data for symbol PRIF^K to C:/Users/atlas/OneDrive/Desktop/usstock/PRIF^K.csv\n"
     ]
    },
    {
     "name": "stderr",
     "output_type": "stream",
     "text": [
      "\n",
      "1 Failed download:\n",
      "['PRIF^L']: Exception('%ticker%: No timezone found, symbol may be delisted')\n"
     ]
    },
    {
     "name": "stdout",
     "output_type": "stream",
     "text": [
      "Saved data for symbol PRIF^L to C:/Users/atlas/OneDrive/Desktop/usstock/PRIF^L.csv\n",
      "Saved data for symbol PRIM to C:/Users/atlas/OneDrive/Desktop/usstock/PRIM.csv\n",
      "Saved data for symbol PRK to C:/Users/atlas/OneDrive/Desktop/usstock/PRK.csv\n",
      "Saved data for symbol PRKS to C:/Users/atlas/OneDrive/Desktop/usstock/PRKS.csv\n",
      "Saved data for symbol PRLB to C:/Users/atlas/OneDrive/Desktop/usstock/PRLB.csv\n",
      "Saved data for symbol PRLD to C:/Users/atlas/OneDrive/Desktop/usstock/PRLD.csv\n",
      "Saved data for symbol PRLH to C:/Users/atlas/OneDrive/Desktop/usstock/PRLH.csv\n"
     ]
    },
    {
     "name": "stderr",
     "output_type": "stream",
     "text": [
      "\n",
      "1 Failed download:\n",
      "['PRLHW']: Exception('%ticker%: 1d data not available for startTime=-14831751840 and endTime=1713531354. Only 100 years worth of day granularity data are allowed to be fetched per request.')\n"
     ]
    },
    {
     "name": "stdout",
     "output_type": "stream",
     "text": [
      "Saved data for symbol PRLHW to C:/Users/atlas/OneDrive/Desktop/usstock/PRLHW.csv\n",
      "Saved data for symbol PRM to C:/Users/atlas/OneDrive/Desktop/usstock/PRM.csv\n",
      "Saved data for symbol PRME to C:/Users/atlas/OneDrive/Desktop/usstock/PRME.csv\n",
      "Saved data for symbol PRMW to C:/Users/atlas/OneDrive/Desktop/usstock/PRMW.csv\n",
      "Saved data for symbol PRO to C:/Users/atlas/OneDrive/Desktop/usstock/PRO.csv\n",
      "Saved data for symbol PROC to C:/Users/atlas/OneDrive/Desktop/usstock/PROC.csv\n"
     ]
    },
    {
     "name": "stderr",
     "output_type": "stream",
     "text": [
      "\n",
      "1 Failed download:\n",
      "['PROCW']: Exception('%ticker%: 1d data not available for startTime=-14831751840 and endTime=1713531358. Only 100 years worth of day granularity data are allowed to be fetched per request.')\n"
     ]
    },
    {
     "name": "stdout",
     "output_type": "stream",
     "text": [
      "Saved data for symbol PROCW to C:/Users/atlas/OneDrive/Desktop/usstock/PROCW.csv\n",
      "Saved data for symbol PROF to C:/Users/atlas/OneDrive/Desktop/usstock/PROF.csv\n",
      "Saved data for symbol PROK to C:/Users/atlas/OneDrive/Desktop/usstock/PROK.csv\n",
      "Saved data for symbol PROP to C:/Users/atlas/OneDrive/Desktop/usstock/PROP.csv\n",
      "Saved data for symbol PROV to C:/Users/atlas/OneDrive/Desktop/usstock/PROV.csv\n",
      "Saved data for symbol PRPH to C:/Users/atlas/OneDrive/Desktop/usstock/PRPH.csv\n",
      "Saved data for symbol PRPL to C:/Users/atlas/OneDrive/Desktop/usstock/PRPL.csv\n",
      "Saved data for symbol PRPO to C:/Users/atlas/OneDrive/Desktop/usstock/PRPO.csv\n",
      "Saved data for symbol PRQR to C:/Users/atlas/OneDrive/Desktop/usstock/PRQR.csv\n",
      "Saved data for symbol PRS to C:/Users/atlas/OneDrive/Desktop/usstock/PRS.csv\n",
      "Saved data for symbol PRSO to C:/Users/atlas/OneDrive/Desktop/usstock/PRSO.csv\n",
      "Saved data for symbol PRST to C:/Users/atlas/OneDrive/Desktop/usstock/PRST.csv\n"
     ]
    },
    {
     "name": "stderr",
     "output_type": "stream",
     "text": [
      "\n",
      "1 Failed download:\n",
      "['PRSTW']: Exception('%ticker%: 1d data not available for startTime=-14831751840 and endTime=1713531365. Only 100 years worth of day granularity data are allowed to be fetched per request.')\n"
     ]
    },
    {
     "name": "stdout",
     "output_type": "stream",
     "text": [
      "Saved data for symbol PRSTW to C:/Users/atlas/OneDrive/Desktop/usstock/PRSTW.csv\n",
      "Saved data for symbol PRT to C:/Users/atlas/OneDrive/Desktop/usstock/PRT.csv\n",
      "Saved data for symbol PRTA to C:/Users/atlas/OneDrive/Desktop/usstock/PRTA.csv\n",
      "Saved data for symbol PRTC to C:/Users/atlas/OneDrive/Desktop/usstock/PRTC.csv\n",
      "Saved data for symbol PRTG to C:/Users/atlas/OneDrive/Desktop/usstock/PRTG.csv\n",
      "Saved data for symbol PRTH to C:/Users/atlas/OneDrive/Desktop/usstock/PRTH.csv\n",
      "Saved data for symbol PRTS to C:/Users/atlas/OneDrive/Desktop/usstock/PRTS.csv\n",
      "Saved data for symbol PRU to C:/Users/atlas/OneDrive/Desktop/usstock/PRU.csv\n",
      "Saved data for symbol PRVA to C:/Users/atlas/OneDrive/Desktop/usstock/PRVA.csv\n",
      "Saved data for symbol PRZO to C:/Users/atlas/OneDrive/Desktop/usstock/PRZO.csv\n",
      "Saved data for symbol PSA to C:/Users/atlas/OneDrive/Desktop/usstock/PSA.csv\n"
     ]
    },
    {
     "name": "stderr",
     "output_type": "stream",
     "text": [
      "\n",
      "1 Failed download:\n",
      "['PSA^F']: Exception('%ticker%: No timezone found, symbol may be delisted')\n"
     ]
    },
    {
     "name": "stdout",
     "output_type": "stream",
     "text": [
      "Saved data for symbol PSA^F to C:/Users/atlas/OneDrive/Desktop/usstock/PSA^F.csv\n"
     ]
    },
    {
     "name": "stderr",
     "output_type": "stream",
     "text": [
      "\n",
      "1 Failed download:\n",
      "['PSA^G']: Exception('%ticker%: No timezone found, symbol may be delisted')\n"
     ]
    },
    {
     "name": "stdout",
     "output_type": "stream",
     "text": [
      "Saved data for symbol PSA^G to C:/Users/atlas/OneDrive/Desktop/usstock/PSA^G.csv\n"
     ]
    },
    {
     "name": "stderr",
     "output_type": "stream",
     "text": [
      "\n",
      "1 Failed download:\n",
      "['PSA^H']: Exception('%ticker%: No timezone found, symbol may be delisted')\n"
     ]
    },
    {
     "name": "stdout",
     "output_type": "stream",
     "text": [
      "Saved data for symbol PSA^H to C:/Users/atlas/OneDrive/Desktop/usstock/PSA^H.csv\n"
     ]
    },
    {
     "name": "stderr",
     "output_type": "stream",
     "text": [
      "\n",
      "1 Failed download:\n",
      "['PSA^I']: Exception('%ticker%: No timezone found, symbol may be delisted')\n"
     ]
    },
    {
     "name": "stdout",
     "output_type": "stream",
     "text": [
      "Saved data for symbol PSA^I to C:/Users/atlas/OneDrive/Desktop/usstock/PSA^I.csv\n"
     ]
    },
    {
     "name": "stderr",
     "output_type": "stream",
     "text": [
      "\n",
      "1 Failed download:\n",
      "['PSA^J']: Exception('%ticker%: No timezone found, symbol may be delisted')\n"
     ]
    },
    {
     "name": "stdout",
     "output_type": "stream",
     "text": [
      "Saved data for symbol PSA^J to C:/Users/atlas/OneDrive/Desktop/usstock/PSA^J.csv\n"
     ]
    },
    {
     "name": "stderr",
     "output_type": "stream",
     "text": [
      "\n",
      "1 Failed download:\n",
      "['PSA^K']: Exception('%ticker%: No timezone found, symbol may be delisted')\n"
     ]
    },
    {
     "name": "stdout",
     "output_type": "stream",
     "text": [
      "Saved data for symbol PSA^K to C:/Users/atlas/OneDrive/Desktop/usstock/PSA^K.csv\n"
     ]
    },
    {
     "name": "stderr",
     "output_type": "stream",
     "text": [
      "\n",
      "1 Failed download:\n",
      "['PSA^L']: Exception('%ticker%: No timezone found, symbol may be delisted')\n"
     ]
    },
    {
     "name": "stdout",
     "output_type": "stream",
     "text": [
      "Saved data for symbol PSA^L to C:/Users/atlas/OneDrive/Desktop/usstock/PSA^L.csv\n"
     ]
    },
    {
     "name": "stderr",
     "output_type": "stream",
     "text": [
      "\n",
      "1 Failed download:\n",
      "['PSA^M']: Exception('%ticker%: No timezone found, symbol may be delisted')\n"
     ]
    },
    {
     "name": "stdout",
     "output_type": "stream",
     "text": [
      "Saved data for symbol PSA^M to C:/Users/atlas/OneDrive/Desktop/usstock/PSA^M.csv\n"
     ]
    },
    {
     "name": "stderr",
     "output_type": "stream",
     "text": [
      "\n",
      "1 Failed download:\n",
      "['PSA^N']: Exception('%ticker%: No timezone found, symbol may be delisted')\n"
     ]
    },
    {
     "name": "stdout",
     "output_type": "stream",
     "text": [
      "Saved data for symbol PSA^N to C:/Users/atlas/OneDrive/Desktop/usstock/PSA^N.csv\n"
     ]
    },
    {
     "name": "stderr",
     "output_type": "stream",
     "text": [
      "\n",
      "1 Failed download:\n",
      "['PSA^O']: Exception('%ticker%: No timezone found, symbol may be delisted')\n"
     ]
    },
    {
     "name": "stdout",
     "output_type": "stream",
     "text": [
      "Saved data for symbol PSA^O to C:/Users/atlas/OneDrive/Desktop/usstock/PSA^O.csv\n"
     ]
    },
    {
     "name": "stderr",
     "output_type": "stream",
     "text": [
      "\n",
      "1 Failed download:\n",
      "['PSA^P']: Exception('%ticker%: No timezone found, symbol may be delisted')\n"
     ]
    },
    {
     "name": "stdout",
     "output_type": "stream",
     "text": [
      "Saved data for symbol PSA^P to C:/Users/atlas/OneDrive/Desktop/usstock/PSA^P.csv\n"
     ]
    },
    {
     "name": "stderr",
     "output_type": "stream",
     "text": [
      "\n",
      "1 Failed download:\n",
      "['PSA^Q']: Exception('%ticker%: No timezone found, symbol may be delisted')\n"
     ]
    },
    {
     "name": "stdout",
     "output_type": "stream",
     "text": [
      "Saved data for symbol PSA^Q to C:/Users/atlas/OneDrive/Desktop/usstock/PSA^Q.csv\n"
     ]
    },
    {
     "name": "stderr",
     "output_type": "stream",
     "text": [
      "\n",
      "1 Failed download:\n",
      "['PSA^R']: Exception('%ticker%: No timezone found, symbol may be delisted')\n"
     ]
    },
    {
     "name": "stdout",
     "output_type": "stream",
     "text": [
      "Saved data for symbol PSA^R to C:/Users/atlas/OneDrive/Desktop/usstock/PSA^R.csv\n"
     ]
    },
    {
     "name": "stderr",
     "output_type": "stream",
     "text": [
      "\n",
      "1 Failed download:\n",
      "['PSA^S']: Exception('%ticker%: No timezone found, symbol may be delisted')\n"
     ]
    },
    {
     "name": "stdout",
     "output_type": "stream",
     "text": [
      "Saved data for symbol PSA^S to C:/Users/atlas/OneDrive/Desktop/usstock/PSA^S.csv\n",
      "Saved data for symbol PSBD to C:/Users/atlas/OneDrive/Desktop/usstock/PSBD.csv\n",
      "Saved data for symbol PSEC to C:/Users/atlas/OneDrive/Desktop/usstock/PSEC.csv\n"
     ]
    },
    {
     "name": "stderr",
     "output_type": "stream",
     "text": [
      "\n",
      "1 Failed download:\n",
      "['PSEC^A']: Exception('%ticker%: No timezone found, symbol may be delisted')\n"
     ]
    },
    {
     "name": "stdout",
     "output_type": "stream",
     "text": [
      "Saved data for symbol PSEC^A to C:/Users/atlas/OneDrive/Desktop/usstock/PSEC^A.csv\n",
      "Saved data for symbol PSF to C:/Users/atlas/OneDrive/Desktop/usstock/PSF.csv\n",
      "Saved data for symbol PSFE to C:/Users/atlas/OneDrive/Desktop/usstock/PSFE.csv\n",
      "Saved data for symbol PSHG to C:/Users/atlas/OneDrive/Desktop/usstock/PSHG.csv\n",
      "Saved data for symbol PSMT to C:/Users/atlas/OneDrive/Desktop/usstock/PSMT.csv\n",
      "Saved data for symbol PSN to C:/Users/atlas/OneDrive/Desktop/usstock/PSN.csv\n",
      "Saved data for symbol PSNL to C:/Users/atlas/OneDrive/Desktop/usstock/PSNL.csv\n",
      "Saved data for symbol PSNY to C:/Users/atlas/OneDrive/Desktop/usstock/PSNY.csv\n",
      "Saved data for symbol PSNYW to C:/Users/atlas/OneDrive/Desktop/usstock/PSNYW.csv\n",
      "Saved data for symbol PSO to C:/Users/atlas/OneDrive/Desktop/usstock/PSO.csv\n",
      "Saved data for symbol PSQH to C:/Users/atlas/OneDrive/Desktop/usstock/PSQH.csv\n",
      "Saved data for symbol PSTG to C:/Users/atlas/OneDrive/Desktop/usstock/PSTG.csv\n",
      "Saved data for symbol PSTL to C:/Users/atlas/OneDrive/Desktop/usstock/PSTL.csv\n",
      "Saved data for symbol PSTV to C:/Users/atlas/OneDrive/Desktop/usstock/PSTV.csv\n",
      "Saved data for symbol PSTX to C:/Users/atlas/OneDrive/Desktop/usstock/PSTX.csv\n",
      "Saved data for symbol PSX to C:/Users/atlas/OneDrive/Desktop/usstock/PSX.csv\n",
      "Saved data for symbol PT to C:/Users/atlas/OneDrive/Desktop/usstock/PT.csv\n",
      "Saved data for symbol PTA to C:/Users/atlas/OneDrive/Desktop/usstock/PTA.csv\n",
      "Saved data for symbol PTC to C:/Users/atlas/OneDrive/Desktop/usstock/PTC.csv\n",
      "Saved data for symbol PTCT to C:/Users/atlas/OneDrive/Desktop/usstock/PTCT.csv\n",
      "Saved data for symbol PTEN to C:/Users/atlas/OneDrive/Desktop/usstock/PTEN.csv\n",
      "Saved data for symbol PTGX to C:/Users/atlas/OneDrive/Desktop/usstock/PTGX.csv\n",
      "Saved data for symbol PTIX to C:/Users/atlas/OneDrive/Desktop/usstock/PTIX.csv\n",
      "Saved data for symbol PTLO to C:/Users/atlas/OneDrive/Desktop/usstock/PTLO.csv\n",
      "Saved data for symbol PTMN to C:/Users/atlas/OneDrive/Desktop/usstock/PTMN.csv\n",
      "Saved data for symbol PTN to C:/Users/atlas/OneDrive/Desktop/usstock/PTN.csv\n",
      "Saved data for symbol PTON to C:/Users/atlas/OneDrive/Desktop/usstock/PTON.csv\n",
      "Saved data for symbol PTPI to C:/Users/atlas/OneDrive/Desktop/usstock/PTPI.csv\n",
      "Saved data for symbol PTSI to C:/Users/atlas/OneDrive/Desktop/usstock/PTSI.csv\n",
      "Saved data for symbol PTVE to C:/Users/atlas/OneDrive/Desktop/usstock/PTVE.csv\n",
      "Saved data for symbol PTWO to C:/Users/atlas/OneDrive/Desktop/usstock/PTWO.csv\n",
      "Saved data for symbol PTY to C:/Users/atlas/OneDrive/Desktop/usstock/PTY.csv\n",
      "Saved data for symbol PUBM to C:/Users/atlas/OneDrive/Desktop/usstock/PUBM.csv\n",
      "Saved data for symbol PUCK to C:/Users/atlas/OneDrive/Desktop/usstock/PUCK.csv\n",
      "Saved data for symbol PUCKU to C:/Users/atlas/OneDrive/Desktop/usstock/PUCKU.csv\n"
     ]
    },
    {
     "name": "stderr",
     "output_type": "stream",
     "text": [
      "\n",
      "1 Failed download:\n",
      "['PUCKW']: Exception('%ticker%: 1d data not available for startTime=-14831751840 and endTime=1713531423. Only 100 years worth of day granularity data are allowed to be fetched per request.')\n"
     ]
    },
    {
     "name": "stdout",
     "output_type": "stream",
     "text": [
      "Saved data for symbol PUCKW to C:/Users/atlas/OneDrive/Desktop/usstock/PUCKW.csv\n",
      "Saved data for symbol PUK to C:/Users/atlas/OneDrive/Desktop/usstock/PUK.csv\n",
      "Saved data for symbol PULM to C:/Users/atlas/OneDrive/Desktop/usstock/PULM.csv\n",
      "Saved data for symbol PUMP to C:/Users/atlas/OneDrive/Desktop/usstock/PUMP.csv\n",
      "Saved data for symbol PVBC to C:/Users/atlas/OneDrive/Desktop/usstock/PVBC.csv\n",
      "Saved data for symbol PVH to C:/Users/atlas/OneDrive/Desktop/usstock/PVH.csv\n",
      "Saved data for symbol PVL to C:/Users/atlas/OneDrive/Desktop/usstock/PVL.csv\n",
      "Saved data for symbol PW to C:/Users/atlas/OneDrive/Desktop/usstock/PW.csv\n"
     ]
    },
    {
     "name": "stderr",
     "output_type": "stream",
     "text": [
      "\n",
      "1 Failed download:\n",
      "['PW^A']: Exception('%ticker%: No timezone found, symbol may be delisted')\n"
     ]
    },
    {
     "name": "stdout",
     "output_type": "stream",
     "text": [
      "Saved data for symbol PW^A to C:/Users/atlas/OneDrive/Desktop/usstock/PW^A.csv\n",
      "Saved data for symbol PWFL to C:/Users/atlas/OneDrive/Desktop/usstock/PWFL.csv\n",
      "Saved data for symbol PWM to C:/Users/atlas/OneDrive/Desktop/usstock/PWM.csv\n",
      "Saved data for symbol PWOD to C:/Users/atlas/OneDrive/Desktop/usstock/PWOD.csv\n",
      "Saved data for symbol PWP to C:/Users/atlas/OneDrive/Desktop/usstock/PWP.csv\n",
      "Saved data for symbol PWR to C:/Users/atlas/OneDrive/Desktop/usstock/PWR.csv\n",
      "Saved data for symbol PWSC to C:/Users/atlas/OneDrive/Desktop/usstock/PWSC.csv\n",
      "Saved data for symbol PWUP to C:/Users/atlas/OneDrive/Desktop/usstock/PWUP.csv\n",
      "Saved data for symbol PX to C:/Users/atlas/OneDrive/Desktop/usstock/PX.csv\n",
      "Saved data for symbol PXD to C:/Users/atlas/OneDrive/Desktop/usstock/PXD.csv\n",
      "Saved data for symbol PXDT to C:/Users/atlas/OneDrive/Desktop/usstock/PXDT.csv\n",
      "Saved data for symbol PXLW to C:/Users/atlas/OneDrive/Desktop/usstock/PXLW.csv\n",
      "Saved data for symbol PXMD to C:/Users/atlas/OneDrive/Desktop/usstock/PXMD.csv\n",
      "Saved data for symbol PXS to C:/Users/atlas/OneDrive/Desktop/usstock/PXS.csv\n",
      "Saved data for symbol PXSAP to C:/Users/atlas/OneDrive/Desktop/usstock/PXSAP.csv\n"
     ]
    },
    {
     "name": "stderr",
     "output_type": "stream",
     "text": [
      "\n",
      "1 Failed download:\n",
      "['PXSAW']: Exception('%ticker%: 1d data not available for startTime=-14831751840 and endTime=1713531434. Only 100 years worth of day granularity data are allowed to be fetched per request.')\n"
     ]
    },
    {
     "name": "stdout",
     "output_type": "stream",
     "text": [
      "Saved data for symbol PXSAW to C:/Users/atlas/OneDrive/Desktop/usstock/PXSAW.csv\n",
      "Saved data for symbol PYCR to C:/Users/atlas/OneDrive/Desktop/usstock/PYCR.csv\n",
      "Saved data for symbol PYN to C:/Users/atlas/OneDrive/Desktop/usstock/PYN.csv\n",
      "Saved data for symbol PYPD to C:/Users/atlas/OneDrive/Desktop/usstock/PYPD.csv\n",
      "Saved data for symbol PYPL to C:/Users/atlas/OneDrive/Desktop/usstock/PYPL.csv\n",
      "Saved data for symbol PYT to C:/Users/atlas/OneDrive/Desktop/usstock/PYT.csv\n",
      "Saved data for symbol PYXS to C:/Users/atlas/OneDrive/Desktop/usstock/PYXS.csv\n",
      "Saved data for symbol PZC to C:/Users/atlas/OneDrive/Desktop/usstock/PZC.csv\n",
      "Saved data for symbol PZG to C:/Users/atlas/OneDrive/Desktop/usstock/PZG.csv\n",
      "Saved data for symbol PZZA to C:/Users/atlas/OneDrive/Desktop/usstock/PZZA.csv\n",
      "Saved data for symbol QBTS to C:/Users/atlas/OneDrive/Desktop/usstock/QBTS.csv\n",
      "Saved data for symbol QCOM to C:/Users/atlas/OneDrive/Desktop/usstock/QCOM.csv\n",
      "Saved data for symbol QCRH to C:/Users/atlas/OneDrive/Desktop/usstock/QCRH.csv\n",
      "Saved data for symbol QD to C:/Users/atlas/OneDrive/Desktop/usstock/QD.csv\n",
      "Saved data for symbol QDEL to C:/Users/atlas/OneDrive/Desktop/usstock/QDEL.csv\n",
      "Saved data for symbol QDRO to C:/Users/atlas/OneDrive/Desktop/usstock/QDRO.csv\n",
      "Saved data for symbol QDROU to C:/Users/atlas/OneDrive/Desktop/usstock/QDROU.csv\n",
      "Saved data for symbol QETA to C:/Users/atlas/OneDrive/Desktop/usstock/QETA.csv\n"
     ]
    },
    {
     "name": "stderr",
     "output_type": "stream",
     "text": [
      "\n",
      "1 Failed download:\n",
      "['QETAR']: Exception('%ticker%: 1d data not available for startTime=-14831751840 and endTime=1713531443. Only 100 years worth of day granularity data are allowed to be fetched per request.')\n"
     ]
    },
    {
     "name": "stdout",
     "output_type": "stream",
     "text": [
      "Saved data for symbol QETAR to C:/Users/atlas/OneDrive/Desktop/usstock/QETAR.csv\n",
      "Saved data for symbol QFIN to C:/Users/atlas/OneDrive/Desktop/usstock/QFIN.csv\n",
      "Saved data for symbol QGEN to C:/Users/atlas/OneDrive/Desktop/usstock/QGEN.csv\n",
      "Saved data for symbol QH to C:/Users/atlas/OneDrive/Desktop/usstock/QH.csv\n",
      "Saved data for symbol QIPT to C:/Users/atlas/OneDrive/Desktop/usstock/QIPT.csv\n",
      "Saved data for symbol QLGN to C:/Users/atlas/OneDrive/Desktop/usstock/QLGN.csv\n",
      "Saved data for symbol QLI to C:/Users/atlas/OneDrive/Desktop/usstock/QLI.csv\n",
      "Saved data for symbol QLYS to C:/Users/atlas/OneDrive/Desktop/usstock/QLYS.csv\n",
      "Saved data for symbol QMCO to C:/Users/atlas/OneDrive/Desktop/usstock/QMCO.csv\n",
      "Saved data for symbol QNCX to C:/Users/atlas/OneDrive/Desktop/usstock/QNCX.csv\n",
      "Saved data for symbol QNRX to C:/Users/atlas/OneDrive/Desktop/usstock/QNRX.csv\n",
      "Saved data for symbol QNST to C:/Users/atlas/OneDrive/Desktop/usstock/QNST.csv\n",
      "Saved data for symbol QOMO to C:/Users/atlas/OneDrive/Desktop/usstock/QOMO.csv\n"
     ]
    },
    {
     "name": "stderr",
     "output_type": "stream",
     "text": [
      "\n",
      "1 Failed download:\n",
      "['QOMOR']: Exception('%ticker%: 1d data not available for startTime=-14831751840 and endTime=1713531450. Only 100 years worth of day granularity data are allowed to be fetched per request.')\n"
     ]
    },
    {
     "name": "stdout",
     "output_type": "stream",
     "text": [
      "Saved data for symbol QOMOR to C:/Users/atlas/OneDrive/Desktop/usstock/QOMOR.csv\n"
     ]
    },
    {
     "name": "stderr",
     "output_type": "stream",
     "text": [
      "\n",
      "1 Failed download:\n",
      "['QOMOW']: Exception('%ticker%: 1d data not available for startTime=-14831751840 and endTime=1713531451. Only 100 years worth of day granularity data are allowed to be fetched per request.')\n"
     ]
    },
    {
     "name": "stdout",
     "output_type": "stream",
     "text": [
      "Saved data for symbol QOMOW to C:/Users/atlas/OneDrive/Desktop/usstock/QOMOW.csv\n",
      "Saved data for symbol QQQX to C:/Users/atlas/OneDrive/Desktop/usstock/QQQX.csv\n",
      "Saved data for symbol QRHC to C:/Users/atlas/OneDrive/Desktop/usstock/QRHC.csv\n",
      "Saved data for symbol QRTEA to C:/Users/atlas/OneDrive/Desktop/usstock/QRTEA.csv\n",
      "Saved data for symbol QRTEB to C:/Users/atlas/OneDrive/Desktop/usstock/QRTEB.csv\n",
      "Saved data for symbol QRTEP to C:/Users/atlas/OneDrive/Desktop/usstock/QRTEP.csv\n",
      "Saved data for symbol QRVO to C:/Users/atlas/OneDrive/Desktop/usstock/QRVO.csv\n",
      "Saved data for symbol QS to C:/Users/atlas/OneDrive/Desktop/usstock/QS.csv\n",
      "Saved data for symbol QSG to C:/Users/atlas/OneDrive/Desktop/usstock/QSG.csv\n",
      "Saved data for symbol QSI to C:/Users/atlas/OneDrive/Desktop/usstock/QSI.csv\n"
     ]
    },
    {
     "name": "stderr",
     "output_type": "stream",
     "text": [
      "\n",
      "1 Failed download:\n",
      "['QSIAW']: Exception('%ticker%: 1d data not available for startTime=-14831751840 and endTime=1713531457. Only 100 years worth of day granularity data are allowed to be fetched per request.')\n"
     ]
    },
    {
     "name": "stdout",
     "output_type": "stream",
     "text": [
      "Saved data for symbol QSIAW to C:/Users/atlas/OneDrive/Desktop/usstock/QSIAW.csv\n",
      "Saved data for symbol QSR to C:/Users/atlas/OneDrive/Desktop/usstock/QSR.csv\n",
      "Saved data for symbol QTI to C:/Users/atlas/OneDrive/Desktop/usstock/QTI.csv\n",
      "Saved data for symbol QTRX to C:/Users/atlas/OneDrive/Desktop/usstock/QTRX.csv\n",
      "Saved data for symbol QTTB to C:/Users/atlas/OneDrive/Desktop/usstock/QTTB.csv\n",
      "Saved data for symbol QTWO to C:/Users/atlas/OneDrive/Desktop/usstock/QTWO.csv\n",
      "Saved data for symbol QUAD to C:/Users/atlas/OneDrive/Desktop/usstock/QUAD.csv\n",
      "Saved data for symbol QUBT to C:/Users/atlas/OneDrive/Desktop/usstock/QUBT.csv\n",
      "Saved data for symbol QUIK to C:/Users/atlas/OneDrive/Desktop/usstock/QUIK.csv\n",
      "Saved data for symbol QURE to C:/Users/atlas/OneDrive/Desktop/usstock/QURE.csv\n",
      "Saved data for symbol QVCC to C:/Users/atlas/OneDrive/Desktop/usstock/QVCC.csv\n",
      "Saved data for symbol QVCD to C:/Users/atlas/OneDrive/Desktop/usstock/QVCD.csv\n",
      "Saved data for symbol R to C:/Users/atlas/OneDrive/Desktop/usstock/R.csv\n",
      "Saved data for symbol RA to C:/Users/atlas/OneDrive/Desktop/usstock/RA.csv\n",
      "Saved data for symbol RACE to C:/Users/atlas/OneDrive/Desktop/usstock/RACE.csv\n",
      "Saved data for symbol RAIL to C:/Users/atlas/OneDrive/Desktop/usstock/RAIL.csv\n",
      "Saved data for symbol RAMP to C:/Users/atlas/OneDrive/Desktop/usstock/RAMP.csv\n",
      "Saved data for symbol RAND to C:/Users/atlas/OneDrive/Desktop/usstock/RAND.csv\n",
      "Saved data for symbol RANI to C:/Users/atlas/OneDrive/Desktop/usstock/RANI.csv\n",
      "Saved data for symbol RAPT to C:/Users/atlas/OneDrive/Desktop/usstock/RAPT.csv\n",
      "Saved data for symbol RARE to C:/Users/atlas/OneDrive/Desktop/usstock/RARE.csv\n",
      "Saved data for symbol RAVE to C:/Users/atlas/OneDrive/Desktop/usstock/RAVE.csv\n",
      "Saved data for symbol RAYA to C:/Users/atlas/OneDrive/Desktop/usstock/RAYA.csv\n",
      "Saved data for symbol RBA to C:/Users/atlas/OneDrive/Desktop/usstock/RBA.csv\n",
      "Saved data for symbol RBB to C:/Users/atlas/OneDrive/Desktop/usstock/RBB.csv\n",
      "Saved data for symbol RBBN to C:/Users/atlas/OneDrive/Desktop/usstock/RBBN.csv\n",
      "Saved data for symbol RBC to C:/Users/atlas/OneDrive/Desktop/usstock/RBC.csv\n",
      "Saved data for symbol RBCAA to C:/Users/atlas/OneDrive/Desktop/usstock/RBCAA.csv\n",
      "Saved data for symbol RBCP to C:/Users/atlas/OneDrive/Desktop/usstock/RBCP.csv\n",
      "Saved data for symbol RBKB to C:/Users/atlas/OneDrive/Desktop/usstock/RBKB.csv\n",
      "Saved data for symbol RBLX to C:/Users/atlas/OneDrive/Desktop/usstock/RBLX.csv\n",
      "Saved data for symbol RBOT to C:/Users/atlas/OneDrive/Desktop/usstock/RBOT.csv\n",
      "Saved data for symbol RBT to C:/Users/atlas/OneDrive/Desktop/usstock/RBT.csv\n",
      "Saved data for symbol RC to C:/Users/atlas/OneDrive/Desktop/usstock/RC.csv\n"
     ]
    },
    {
     "name": "stderr",
     "output_type": "stream",
     "text": [
      "\n",
      "1 Failed download:\n",
      "['RC^C']: Exception('%ticker%: No timezone found, symbol may be delisted')\n"
     ]
    },
    {
     "name": "stdout",
     "output_type": "stream",
     "text": [
      "Saved data for symbol RC^C to C:/Users/atlas/OneDrive/Desktop/usstock/RC^C.csv\n"
     ]
    },
    {
     "name": "stderr",
     "output_type": "stream",
     "text": [
      "\n",
      "1 Failed download:\n",
      "['RC^E']: Exception('%ticker%: No timezone found, symbol may be delisted')\n"
     ]
    },
    {
     "name": "stdout",
     "output_type": "stream",
     "text": [
      "Saved data for symbol RC^E to C:/Users/atlas/OneDrive/Desktop/usstock/RC^E.csv\n",
      "Saved data for symbol RCAT to C:/Users/atlas/OneDrive/Desktop/usstock/RCAT.csv\n",
      "Saved data for symbol RCB to C:/Users/atlas/OneDrive/Desktop/usstock/RCB.csv\n",
      "Saved data for symbol RCC to C:/Users/atlas/OneDrive/Desktop/usstock/RCC.csv\n",
      "Saved data for symbol RCEL to C:/Users/atlas/OneDrive/Desktop/usstock/RCEL.csv\n",
      "Saved data for symbol RCFA to C:/Users/atlas/OneDrive/Desktop/usstock/RCFA.csv\n",
      "Saved data for symbol RCG to C:/Users/atlas/OneDrive/Desktop/usstock/RCG.csv\n",
      "Saved data for symbol RCI to C:/Users/atlas/OneDrive/Desktop/usstock/RCI.csv\n",
      "Saved data for symbol RCKT to C:/Users/atlas/OneDrive/Desktop/usstock/RCKT.csv\n"
     ]
    },
    {
     "name": "stderr",
     "output_type": "stream",
     "text": [
      "\n",
      "1 Failed download:\n",
      "['RCKTW']: Exception('%ticker%: 1d data not available for startTime=-14831751840 and endTime=1713531478. Only 100 years worth of day granularity data are allowed to be fetched per request.')\n"
     ]
    },
    {
     "name": "stdout",
     "output_type": "stream",
     "text": [
      "Saved data for symbol RCKTW to C:/Users/atlas/OneDrive/Desktop/usstock/RCKTW.csv\n",
      "Saved data for symbol RCKY to C:/Users/atlas/OneDrive/Desktop/usstock/RCKY.csv\n",
      "Saved data for symbol RCL to C:/Users/atlas/OneDrive/Desktop/usstock/RCL.csv\n",
      "Saved data for symbol RCM to C:/Users/atlas/OneDrive/Desktop/usstock/RCM.csv\n",
      "Saved data for symbol RCMT to C:/Users/atlas/OneDrive/Desktop/usstock/RCMT.csv\n",
      "Saved data for symbol RCON to C:/Users/atlas/OneDrive/Desktop/usstock/RCON.csv\n",
      "Saved data for symbol RCRT to C:/Users/atlas/OneDrive/Desktop/usstock/RCRT.csv\n",
      "Saved data for symbol RCS to C:/Users/atlas/OneDrive/Desktop/usstock/RCS.csv\n",
      "Saved data for symbol RCUS to C:/Users/atlas/OneDrive/Desktop/usstock/RCUS.csv\n",
      "Saved data for symbol RDCM to C:/Users/atlas/OneDrive/Desktop/usstock/RDCM.csv\n",
      "Saved data for symbol RDDT to C:/Users/atlas/OneDrive/Desktop/usstock/RDDT.csv\n",
      "Saved data for symbol RDFN to C:/Users/atlas/OneDrive/Desktop/usstock/RDFN.csv\n",
      "Saved data for symbol RDHL to C:/Users/atlas/OneDrive/Desktop/usstock/RDHL.csv\n",
      "Saved data for symbol RDI to C:/Users/atlas/OneDrive/Desktop/usstock/RDI.csv\n",
      "Saved data for symbol RDIB to C:/Users/atlas/OneDrive/Desktop/usstock/RDIB.csv\n",
      "Saved data for symbol RDN to C:/Users/atlas/OneDrive/Desktop/usstock/RDN.csv\n",
      "Saved data for symbol RDNT to C:/Users/atlas/OneDrive/Desktop/usstock/RDNT.csv\n",
      "Saved data for symbol RDUS to C:/Users/atlas/OneDrive/Desktop/usstock/RDUS.csv\n",
      "Saved data for symbol RDVT to C:/Users/atlas/OneDrive/Desktop/usstock/RDVT.csv\n",
      "Saved data for symbol RDW to C:/Users/atlas/OneDrive/Desktop/usstock/RDW.csv\n",
      "Saved data for symbol RDWR to C:/Users/atlas/OneDrive/Desktop/usstock/RDWR.csv\n",
      "Saved data for symbol RDY to C:/Users/atlas/OneDrive/Desktop/usstock/RDY.csv\n",
      "Saved data for symbol RDZN to C:/Users/atlas/OneDrive/Desktop/usstock/RDZN.csv\n"
     ]
    },
    {
     "name": "stderr",
     "output_type": "stream",
     "text": [
      "\n",
      "1 Failed download:\n",
      "['RDZNW']: Exception('%ticker%: 1d data not available for startTime=-14831751840 and endTime=1713531490. Only 100 years worth of day granularity data are allowed to be fetched per request.')\n"
     ]
    },
    {
     "name": "stdout",
     "output_type": "stream",
     "text": [
      "Saved data for symbol RDZNW to C:/Users/atlas/OneDrive/Desktop/usstock/RDZNW.csv\n",
      "Saved data for symbol REAL to C:/Users/atlas/OneDrive/Desktop/usstock/REAL.csv\n",
      "Saved data for symbol REAX to C:/Users/atlas/OneDrive/Desktop/usstock/REAX.csv\n",
      "Saved data for symbol REBN to C:/Users/atlas/OneDrive/Desktop/usstock/REBN.csv\n",
      "Saved data for symbol REE to C:/Users/atlas/OneDrive/Desktop/usstock/REE.csv\n",
      "Saved data for symbol REFI to C:/Users/atlas/OneDrive/Desktop/usstock/REFI.csv\n",
      "Saved data for symbol REFR to C:/Users/atlas/OneDrive/Desktop/usstock/REFR.csv\n",
      "Saved data for symbol REG to C:/Users/atlas/OneDrive/Desktop/usstock/REG.csv\n",
      "Saved data for symbol REGCO to C:/Users/atlas/OneDrive/Desktop/usstock/REGCO.csv\n",
      "Saved data for symbol REGCP to C:/Users/atlas/OneDrive/Desktop/usstock/REGCP.csv\n",
      "Saved data for symbol REGN to C:/Users/atlas/OneDrive/Desktop/usstock/REGN.csv\n",
      "Saved data for symbol REI to C:/Users/atlas/OneDrive/Desktop/usstock/REI.csv\n",
      "Saved data for symbol REKR to C:/Users/atlas/OneDrive/Desktop/usstock/REKR.csv\n",
      "Saved data for symbol RELI to C:/Users/atlas/OneDrive/Desktop/usstock/RELI.csv\n"
     ]
    },
    {
     "name": "stderr",
     "output_type": "stream",
     "text": [
      "\n",
      "1 Failed download:\n",
      "['RELIW']: Exception('%ticker%: 1d data not available for startTime=-14831751840 and endTime=1713531497. Only 100 years worth of day granularity data are allowed to be fetched per request.')\n"
     ]
    },
    {
     "name": "stdout",
     "output_type": "stream",
     "text": [
      "Saved data for symbol RELIW to C:/Users/atlas/OneDrive/Desktop/usstock/RELIW.csv\n",
      "Saved data for symbol RELL to C:/Users/atlas/OneDrive/Desktop/usstock/RELL.csv\n",
      "Saved data for symbol RELX to C:/Users/atlas/OneDrive/Desktop/usstock/RELX.csv\n",
      "Saved data for symbol RELY to C:/Users/atlas/OneDrive/Desktop/usstock/RELY.csv\n",
      "Saved data for symbol RENB to C:/Users/atlas/OneDrive/Desktop/usstock/RENB.csv\n",
      "Saved data for symbol RENE to C:/Users/atlas/OneDrive/Desktop/usstock/RENE.csv\n",
      "Saved data for symbol RENEW to C:/Users/atlas/OneDrive/Desktop/usstock/RENEW.csv\n",
      "Saved data for symbol RENT to C:/Users/atlas/OneDrive/Desktop/usstock/RENT.csv\n",
      "Saved data for symbol REPL to C:/Users/atlas/OneDrive/Desktop/usstock/REPL.csv\n",
      "Saved data for symbol REPX to C:/Users/atlas/OneDrive/Desktop/usstock/REPX.csv\n",
      "Saved data for symbol RERE to C:/Users/atlas/OneDrive/Desktop/usstock/RERE.csv\n",
      "Saved data for symbol RES to C:/Users/atlas/OneDrive/Desktop/usstock/RES.csv\n",
      "Saved data for symbol RETO to C:/Users/atlas/OneDrive/Desktop/usstock/RETO.csv\n",
      "Saved data for symbol REVB to C:/Users/atlas/OneDrive/Desktop/usstock/REVB.csv\n"
     ]
    },
    {
     "name": "stderr",
     "output_type": "stream",
     "text": [
      "\n",
      "1 Failed download:\n",
      "['REVBW']: Exception('%ticker%: 1d data not available for startTime=-14831751840 and endTime=1713531505. Only 100 years worth of day granularity data are allowed to be fetched per request.')\n"
     ]
    },
    {
     "name": "stdout",
     "output_type": "stream",
     "text": [
      "Saved data for symbol REVBW to C:/Users/atlas/OneDrive/Desktop/usstock/REVBW.csv\n",
      "Saved data for symbol REVG to C:/Users/atlas/OneDrive/Desktop/usstock/REVG.csv\n",
      "Saved data for symbol REX to C:/Users/atlas/OneDrive/Desktop/usstock/REX.csv\n",
      "Saved data for symbol REXR to C:/Users/atlas/OneDrive/Desktop/usstock/REXR.csv\n"
     ]
    },
    {
     "name": "stderr",
     "output_type": "stream",
     "text": [
      "\n",
      "1 Failed download:\n",
      "['REXR^B']: Exception('%ticker%: No timezone found, symbol may be delisted')\n"
     ]
    },
    {
     "name": "stdout",
     "output_type": "stream",
     "text": [
      "Saved data for symbol REXR^B to C:/Users/atlas/OneDrive/Desktop/usstock/REXR^B.csv\n"
     ]
    },
    {
     "name": "stderr",
     "output_type": "stream",
     "text": [
      "\n",
      "1 Failed download:\n",
      "['REXR^C']: Exception('%ticker%: No timezone found, symbol may be delisted')\n"
     ]
    },
    {
     "name": "stdout",
     "output_type": "stream",
     "text": [
      "Saved data for symbol REXR^C to C:/Users/atlas/OneDrive/Desktop/usstock/REXR^C.csv\n",
      "Saved data for symbol REYN to C:/Users/atlas/OneDrive/Desktop/usstock/REYN.csv\n",
      "Saved data for symbol REZI to C:/Users/atlas/OneDrive/Desktop/usstock/REZI.csv\n",
      "Saved data for symbol RF to C:/Users/atlas/OneDrive/Desktop/usstock/RF.csv\n"
     ]
    },
    {
     "name": "stderr",
     "output_type": "stream",
     "text": [
      "\n",
      "1 Failed download:\n",
      "['RF^B']: Exception('%ticker%: No timezone found, symbol may be delisted')\n"
     ]
    },
    {
     "name": "stdout",
     "output_type": "stream",
     "text": [
      "Saved data for symbol RF^B to C:/Users/atlas/OneDrive/Desktop/usstock/RF^B.csv\n"
     ]
    },
    {
     "name": "stderr",
     "output_type": "stream",
     "text": [
      "\n",
      "1 Failed download:\n",
      "['RF^C']: Exception('%ticker%: No timezone found, symbol may be delisted')\n"
     ]
    },
    {
     "name": "stdout",
     "output_type": "stream",
     "text": [
      "Saved data for symbol RF^C to C:/Users/atlas/OneDrive/Desktop/usstock/RF^C.csv\n"
     ]
    },
    {
     "name": "stderr",
     "output_type": "stream",
     "text": [
      "\n",
      "1 Failed download:\n",
      "['RF^E']: Exception('%ticker%: No timezone found, symbol may be delisted')\n"
     ]
    },
    {
     "name": "stdout",
     "output_type": "stream",
     "text": [
      "Saved data for symbol RF^E to C:/Users/atlas/OneDrive/Desktop/usstock/RF^E.csv\n",
      "Saved data for symbol RFAC to C:/Users/atlas/OneDrive/Desktop/usstock/RFAC.csv\n"
     ]
    },
    {
     "name": "stderr",
     "output_type": "stream",
     "text": [
      "\n",
      "1 Failed download:\n",
      "['RFACR']: Exception('%ticker%: 1d data not available for startTime=-14831751840 and endTime=1713531524. Only 100 years worth of day granularity data are allowed to be fetched per request.')\n"
     ]
    },
    {
     "name": "stdout",
     "output_type": "stream",
     "text": [
      "Saved data for symbol RFACR to C:/Users/atlas/OneDrive/Desktop/usstock/RFACR.csv\n"
     ]
    },
    {
     "name": "stderr",
     "output_type": "stream",
     "text": [
      "\n",
      "1 Failed download:\n",
      "['RFACW']: Exception('%ticker%: 1d data not available for startTime=-14831751840 and endTime=1713531527. Only 100 years worth of day granularity data are allowed to be fetched per request.')\n"
     ]
    },
    {
     "name": "stdout",
     "output_type": "stream",
     "text": [
      "Saved data for symbol RFACW to C:/Users/atlas/OneDrive/Desktop/usstock/RFACW.csv\n",
      "Saved data for symbol RFI to C:/Users/atlas/OneDrive/Desktop/usstock/RFI.csv\n",
      "Saved data for symbol RFIL to C:/Users/atlas/OneDrive/Desktop/usstock/RFIL.csv\n",
      "Saved data for symbol RFL to C:/Users/atlas/OneDrive/Desktop/usstock/RFL.csv\n",
      "Saved data for symbol RFM to C:/Users/atlas/OneDrive/Desktop/usstock/RFM.csv\n",
      "Saved data for symbol RFMZ to C:/Users/atlas/OneDrive/Desktop/usstock/RFMZ.csv\n",
      "Saved data for symbol RGA to C:/Users/atlas/OneDrive/Desktop/usstock/RGA.csv\n",
      "Saved data for symbol RGC to C:/Users/atlas/OneDrive/Desktop/usstock/RGC.csv\n",
      "Saved data for symbol RGCO to C:/Users/atlas/OneDrive/Desktop/usstock/RGCO.csv\n",
      "Saved data for symbol RGEN to C:/Users/atlas/OneDrive/Desktop/usstock/RGEN.csv\n",
      "Saved data for symbol RGF to C:/Users/atlas/OneDrive/Desktop/usstock/RGF.csv\n",
      "Saved data for symbol RGLD to C:/Users/atlas/OneDrive/Desktop/usstock/RGLD.csv\n",
      "Saved data for symbol RGLS to C:/Users/atlas/OneDrive/Desktop/usstock/RGLS.csv\n",
      "Saved data for symbol RGNX to C:/Users/atlas/OneDrive/Desktop/usstock/RGNX.csv\n",
      "Saved data for symbol RGP to C:/Users/atlas/OneDrive/Desktop/usstock/RGP.csv\n",
      "Saved data for symbol RGR to C:/Users/atlas/OneDrive/Desktop/usstock/RGR.csv\n",
      "Saved data for symbol RGS to C:/Users/atlas/OneDrive/Desktop/usstock/RGS.csv\n",
      "Saved data for symbol RGT to C:/Users/atlas/OneDrive/Desktop/usstock/RGT.csv\n",
      "Saved data for symbol RGTI to C:/Users/atlas/OneDrive/Desktop/usstock/RGTI.csv\n"
     ]
    },
    {
     "name": "stderr",
     "output_type": "stream",
     "text": [
      "\n",
      "1 Failed download:\n",
      "['RGTIW']: Exception('%ticker%: 1d data not available for startTime=-14831751840 and endTime=1713531537. Only 100 years worth of day granularity data are allowed to be fetched per request.')\n"
     ]
    },
    {
     "name": "stdout",
     "output_type": "stream",
     "text": [
      "Saved data for symbol RGTIW to C:/Users/atlas/OneDrive/Desktop/usstock/RGTIW.csv\n",
      "Saved data for symbol RH to C:/Users/atlas/OneDrive/Desktop/usstock/RH.csv\n",
      "Saved data for symbol RHE to C:/Users/atlas/OneDrive/Desktop/usstock/RHE.csv\n"
     ]
    },
    {
     "name": "stderr",
     "output_type": "stream",
     "text": [
      "\n",
      "1 Failed download:\n",
      "['RHE^A']: Exception('%ticker%: No timezone found, symbol may be delisted')\n"
     ]
    },
    {
     "name": "stdout",
     "output_type": "stream",
     "text": [
      "Saved data for symbol RHE^A to C:/Users/atlas/OneDrive/Desktop/usstock/RHE^A.csv\n",
      "Saved data for symbol RHI to C:/Users/atlas/OneDrive/Desktop/usstock/RHI.csv\n",
      "Saved data for symbol RHP to C:/Users/atlas/OneDrive/Desktop/usstock/RHP.csv\n",
      "Saved data for symbol RICK to C:/Users/atlas/OneDrive/Desktop/usstock/RICK.csv\n",
      "Saved data for symbol RIG to C:/Users/atlas/OneDrive/Desktop/usstock/RIG.csv\n",
      "Saved data for symbol RIGL to C:/Users/atlas/OneDrive/Desktop/usstock/RIGL.csv\n",
      "Saved data for symbol RILY to C:/Users/atlas/OneDrive/Desktop/usstock/RILY.csv\n",
      "Saved data for symbol RILYG to C:/Users/atlas/OneDrive/Desktop/usstock/RILYG.csv\n",
      "Saved data for symbol RILYK to C:/Users/atlas/OneDrive/Desktop/usstock/RILYK.csv\n",
      "Saved data for symbol RILYL to C:/Users/atlas/OneDrive/Desktop/usstock/RILYL.csv\n",
      "Saved data for symbol RILYM to C:/Users/atlas/OneDrive/Desktop/usstock/RILYM.csv\n",
      "Saved data for symbol RILYN to C:/Users/atlas/OneDrive/Desktop/usstock/RILYN.csv\n",
      "Saved data for symbol RILYO to C:/Users/atlas/OneDrive/Desktop/usstock/RILYO.csv\n",
      "Saved data for symbol RILYP to C:/Users/atlas/OneDrive/Desktop/usstock/RILYP.csv\n",
      "Saved data for symbol RILYT to C:/Users/atlas/OneDrive/Desktop/usstock/RILYT.csv\n",
      "Saved data for symbol RILYZ to C:/Users/atlas/OneDrive/Desktop/usstock/RILYZ.csv\n",
      "Saved data for symbol RIO to C:/Users/atlas/OneDrive/Desktop/usstock/RIO.csv\n",
      "Saved data for symbol RIOT to C:/Users/atlas/OneDrive/Desktop/usstock/RIOT.csv\n",
      "Saved data for symbol RITM to C:/Users/atlas/OneDrive/Desktop/usstock/RITM.csv\n"
     ]
    },
    {
     "name": "stderr",
     "output_type": "stream",
     "text": [
      "\n",
      "1 Failed download:\n",
      "['RITM^A']: Exception('%ticker%: No timezone found, symbol may be delisted')\n"
     ]
    },
    {
     "name": "stdout",
     "output_type": "stream",
     "text": [
      "Saved data for symbol RITM^A to C:/Users/atlas/OneDrive/Desktop/usstock/RITM^A.csv\n"
     ]
    },
    {
     "name": "stderr",
     "output_type": "stream",
     "text": [
      "\n",
      "1 Failed download:\n",
      "['RITM^B']: Exception('%ticker%: No timezone found, symbol may be delisted')\n"
     ]
    },
    {
     "name": "stdout",
     "output_type": "stream",
     "text": [
      "Saved data for symbol RITM^B to C:/Users/atlas/OneDrive/Desktop/usstock/RITM^B.csv\n"
     ]
    },
    {
     "name": "stderr",
     "output_type": "stream",
     "text": [
      "\n",
      "1 Failed download:\n",
      "['RITM^C']: Exception('%ticker%: No timezone found, symbol may be delisted')\n"
     ]
    },
    {
     "name": "stdout",
     "output_type": "stream",
     "text": [
      "Saved data for symbol RITM^C to C:/Users/atlas/OneDrive/Desktop/usstock/RITM^C.csv\n"
     ]
    },
    {
     "name": "stderr",
     "output_type": "stream",
     "text": [
      "\n",
      "1 Failed download:\n",
      "['RITM^D']: Exception('%ticker%: No timezone found, symbol may be delisted')\n"
     ]
    },
    {
     "name": "stdout",
     "output_type": "stream",
     "text": [
      "Saved data for symbol RITM^D to C:/Users/atlas/OneDrive/Desktop/usstock/RITM^D.csv\n",
      "Saved data for symbol RIV to C:/Users/atlas/OneDrive/Desktop/usstock/RIV.csv\n"
     ]
    },
    {
     "name": "stderr",
     "output_type": "stream",
     "text": [
      "\n",
      "1 Failed download:\n",
      "['RIV^A']: Exception('%ticker%: No timezone found, symbol may be delisted')\n"
     ]
    },
    {
     "name": "stdout",
     "output_type": "stream",
     "text": [
      "Saved data for symbol RIV^A to C:/Users/atlas/OneDrive/Desktop/usstock/RIV^A.csv\n",
      "Saved data for symbol RIVN to C:/Users/atlas/OneDrive/Desktop/usstock/RIVN.csv\n",
      "Saved data for symbol RJF to C:/Users/atlas/OneDrive/Desktop/usstock/RJF.csv\n"
     ]
    },
    {
     "name": "stderr",
     "output_type": "stream",
     "text": [
      "\n",
      "1 Failed download:\n",
      "['RJF^B']: Exception('%ticker%: No timezone found, symbol may be delisted')\n"
     ]
    },
    {
     "name": "stdout",
     "output_type": "stream",
     "text": [
      "Saved data for symbol RJF^B to C:/Users/atlas/OneDrive/Desktop/usstock/RJF^B.csv\n",
      "Saved data for symbol RKDA to C:/Users/atlas/OneDrive/Desktop/usstock/RKDA.csv\n",
      "Saved data for symbol RKLB to C:/Users/atlas/OneDrive/Desktop/usstock/RKLB.csv\n",
      "Saved data for symbol RKT to C:/Users/atlas/OneDrive/Desktop/usstock/RKT.csv\n",
      "Saved data for symbol RL to C:/Users/atlas/OneDrive/Desktop/usstock/RL.csv\n",
      "Saved data for symbol RLAY to C:/Users/atlas/OneDrive/Desktop/usstock/RLAY.csv\n",
      "Saved data for symbol RLGT to C:/Users/atlas/OneDrive/Desktop/usstock/RLGT.csv\n",
      "Saved data for symbol RLI to C:/Users/atlas/OneDrive/Desktop/usstock/RLI.csv\n",
      "Saved data for symbol RLJ to C:/Users/atlas/OneDrive/Desktop/usstock/RLJ.csv\n"
     ]
    },
    {
     "name": "stderr",
     "output_type": "stream",
     "text": [
      "\n",
      "1 Failed download:\n",
      "['RLJ^A']: Exception('%ticker%: No timezone found, symbol may be delisted')\n"
     ]
    },
    {
     "name": "stdout",
     "output_type": "stream",
     "text": [
      "Saved data for symbol RLJ^A to C:/Users/atlas/OneDrive/Desktop/usstock/RLJ^A.csv\n",
      "Saved data for symbol RLMD to C:/Users/atlas/OneDrive/Desktop/usstock/RLMD.csv\n",
      "Saved data for symbol RLTY to C:/Users/atlas/OneDrive/Desktop/usstock/RLTY.csv\n",
      "Saved data for symbol RLX to C:/Users/atlas/OneDrive/Desktop/usstock/RLX.csv\n",
      "Saved data for symbol RLYB to C:/Users/atlas/OneDrive/Desktop/usstock/RLYB.csv\n",
      "Saved data for symbol RM to C:/Users/atlas/OneDrive/Desktop/usstock/RM.csv\n",
      "Saved data for symbol RMAX to C:/Users/atlas/OneDrive/Desktop/usstock/RMAX.csv\n",
      "Saved data for symbol RMBI to C:/Users/atlas/OneDrive/Desktop/usstock/RMBI.csv\n",
      "Saved data for symbol RMBL to C:/Users/atlas/OneDrive/Desktop/usstock/RMBL.csv\n",
      "Saved data for symbol RMBS to C:/Users/atlas/OneDrive/Desktop/usstock/RMBS.csv\n",
      "Saved data for symbol RMCF to C:/Users/atlas/OneDrive/Desktop/usstock/RMCF.csv\n",
      "Saved data for symbol RMCO to C:/Users/atlas/OneDrive/Desktop/usstock/RMCO.csv\n"
     ]
    },
    {
     "name": "stderr",
     "output_type": "stream",
     "text": [
      "\n",
      "1 Failed download:\n",
      "['RMCOW']: Exception('%ticker%: 1d data not available for startTime=-14831751840 and endTime=1713531575. Only 100 years worth of day granularity data are allowed to be fetched per request.')\n"
     ]
    },
    {
     "name": "stdout",
     "output_type": "stream",
     "text": [
      "Saved data for symbol RMCOW to C:/Users/atlas/OneDrive/Desktop/usstock/RMCOW.csv\n",
      "Saved data for symbol RMD to C:/Users/atlas/OneDrive/Desktop/usstock/RMD.csv\n",
      "Saved data for symbol RMGC to C:/Users/atlas/OneDrive/Desktop/usstock/RMGC.csv\n",
      "Saved data for symbol RMI to C:/Users/atlas/OneDrive/Desktop/usstock/RMI.csv\n",
      "Saved data for symbol RMM to C:/Users/atlas/OneDrive/Desktop/usstock/RMM.csv\n",
      "Saved data for symbol RMMZ to C:/Users/atlas/OneDrive/Desktop/usstock/RMMZ.csv\n",
      "Saved data for symbol RMNI to C:/Users/atlas/OneDrive/Desktop/usstock/RMNI.csv\n"
     ]
    },
    {
     "name": "stderr",
     "output_type": "stream",
     "text": [
      "\n",
      "1 Failed download:\n",
      "['RMPL^']: Exception('%ticker%: No timezone found, symbol may be delisted')\n"
     ]
    },
    {
     "name": "stdout",
     "output_type": "stream",
     "text": [
      "Saved data for symbol RMPL^ to C:/Users/atlas/OneDrive/Desktop/usstock/RMPL^.csv\n",
      "Saved data for symbol RMR to C:/Users/atlas/OneDrive/Desktop/usstock/RMR.csv\n",
      "Saved data for symbol RMT to C:/Users/atlas/OneDrive/Desktop/usstock/RMT.csv\n",
      "Saved data for symbol RMTI to C:/Users/atlas/OneDrive/Desktop/usstock/RMTI.csv\n",
      "Saved data for symbol RNA to C:/Users/atlas/OneDrive/Desktop/usstock/RNA.csv\n",
      "Saved data for symbol RNAC to C:/Users/atlas/OneDrive/Desktop/usstock/RNAC.csv\n",
      "Saved data for symbol RNAZ to C:/Users/atlas/OneDrive/Desktop/usstock/RNAZ.csv\n",
      "Saved data for symbol RNG to C:/Users/atlas/OneDrive/Desktop/usstock/RNG.csv\n",
      "Saved data for symbol RNGR to C:/Users/atlas/OneDrive/Desktop/usstock/RNGR.csv\n",
      "Saved data for symbol RNLX to C:/Users/atlas/OneDrive/Desktop/usstock/RNLX.csv\n",
      "Saved data for symbol RNP to C:/Users/atlas/OneDrive/Desktop/usstock/RNP.csv\n",
      "Saved data for symbol RNR to C:/Users/atlas/OneDrive/Desktop/usstock/RNR.csv\n"
     ]
    },
    {
     "name": "stderr",
     "output_type": "stream",
     "text": [
      "\n",
      "1 Failed download:\n",
      "['RNR^F']: Exception('%ticker%: No timezone found, symbol may be delisted')\n"
     ]
    },
    {
     "name": "stdout",
     "output_type": "stream",
     "text": [
      "Saved data for symbol RNR^F to C:/Users/atlas/OneDrive/Desktop/usstock/RNR^F.csv\n"
     ]
    },
    {
     "name": "stderr",
     "output_type": "stream",
     "text": [
      "\n",
      "1 Failed download:\n",
      "['RNR^G']: Exception('%ticker%: No timezone found, symbol may be delisted')\n"
     ]
    },
    {
     "name": "stdout",
     "output_type": "stream",
     "text": [
      "Saved data for symbol RNR^G to C:/Users/atlas/OneDrive/Desktop/usstock/RNR^G.csv\n",
      "Saved data for symbol RNST to C:/Users/atlas/OneDrive/Desktop/usstock/RNST.csv\n",
      "Saved data for symbol RNW to C:/Users/atlas/OneDrive/Desktop/usstock/RNW.csv\n",
      "Saved data for symbol RNWWW to C:/Users/atlas/OneDrive/Desktop/usstock/RNWWW.csv\n",
      "Saved data for symbol RNXT to C:/Users/atlas/OneDrive/Desktop/usstock/RNXT.csv\n",
      "Saved data for symbol ROAD to C:/Users/atlas/OneDrive/Desktop/usstock/ROAD.csv\n",
      "Saved data for symbol ROCK to C:/Users/atlas/OneDrive/Desktop/usstock/ROCK.csv\n",
      "Saved data for symbol ROCL to C:/Users/atlas/OneDrive/Desktop/usstock/ROCL.csv\n",
      "Saved data for symbol ROCLU to C:/Users/atlas/OneDrive/Desktop/usstock/ROCLU.csv\n"
     ]
    },
    {
     "name": "stderr",
     "output_type": "stream",
     "text": [
      "\n",
      "1 Failed download:\n",
      "['ROCLW']: Exception('%ticker%: 1d data not available for startTime=-14831751840 and endTime=1713531591. Only 100 years worth of day granularity data are allowed to be fetched per request.')\n"
     ]
    },
    {
     "name": "stdout",
     "output_type": "stream",
     "text": [
      "Saved data for symbol ROCLW to C:/Users/atlas/OneDrive/Desktop/usstock/ROCLW.csv\n",
      "Saved data for symbol ROG to C:/Users/atlas/OneDrive/Desktop/usstock/ROG.csv\n",
      "Saved data for symbol ROIC to C:/Users/atlas/OneDrive/Desktop/usstock/ROIC.csv\n",
      "Saved data for symbol ROIV to C:/Users/atlas/OneDrive/Desktop/usstock/ROIV.csv\n",
      "Saved data for symbol ROK to C:/Users/atlas/OneDrive/Desktop/usstock/ROK.csv\n",
      "Saved data for symbol ROKU to C:/Users/atlas/OneDrive/Desktop/usstock/ROKU.csv\n",
      "Saved data for symbol ROL to C:/Users/atlas/OneDrive/Desktop/usstock/ROL.csv\n",
      "Saved data for symbol ROMA to C:/Users/atlas/OneDrive/Desktop/usstock/ROMA.csv\n",
      "Saved data for symbol ROOT to C:/Users/atlas/OneDrive/Desktop/usstock/ROOT.csv\n",
      "Saved data for symbol ROP to C:/Users/atlas/OneDrive/Desktop/usstock/ROP.csv\n",
      "Saved data for symbol ROST to C:/Users/atlas/OneDrive/Desktop/usstock/ROST.csv\n",
      "Saved data for symbol RPAY to C:/Users/atlas/OneDrive/Desktop/usstock/RPAY.csv\n",
      "Saved data for symbol RPD to C:/Users/atlas/OneDrive/Desktop/usstock/RPD.csv\n",
      "Saved data for symbol RPHM to C:/Users/atlas/OneDrive/Desktop/usstock/RPHM.csv\n",
      "Saved data for symbol RPID to C:/Users/atlas/OneDrive/Desktop/usstock/RPID.csv\n",
      "Saved data for symbol RPM to C:/Users/atlas/OneDrive/Desktop/usstock/RPM.csv\n",
      "Saved data for symbol RPRX to C:/Users/atlas/OneDrive/Desktop/usstock/RPRX.csv\n",
      "Saved data for symbol RPTX to C:/Users/atlas/OneDrive/Desktop/usstock/RPTX.csv\n",
      "Saved data for symbol RQI to C:/Users/atlas/OneDrive/Desktop/usstock/RQI.csv\n",
      "Saved data for symbol RR to C:/Users/atlas/OneDrive/Desktop/usstock/RR.csv\n",
      "Saved data for symbol RRAC to C:/Users/atlas/OneDrive/Desktop/usstock/RRAC.csv\n",
      "Saved data for symbol RRBI to C:/Users/atlas/OneDrive/Desktop/usstock/RRBI.csv\n",
      "Saved data for symbol RRC to C:/Users/atlas/OneDrive/Desktop/usstock/RRC.csv\n",
      "Saved data for symbol RRGB to C:/Users/atlas/OneDrive/Desktop/usstock/RRGB.csv\n",
      "Saved data for symbol RRR to C:/Users/atlas/OneDrive/Desktop/usstock/RRR.csv\n",
      "Saved data for symbol RRX to C:/Users/atlas/OneDrive/Desktop/usstock/RRX.csv\n",
      "Saved data for symbol RS to C:/Users/atlas/OneDrive/Desktop/usstock/RS.csv\n",
      "Saved data for symbol RSF to C:/Users/atlas/OneDrive/Desktop/usstock/RSF.csv\n",
      "Saved data for symbol RSG to C:/Users/atlas/OneDrive/Desktop/usstock/RSG.csv\n",
      "Saved data for symbol RSI to C:/Users/atlas/OneDrive/Desktop/usstock/RSI.csv\n",
      "Saved data for symbol RSKD to C:/Users/atlas/OneDrive/Desktop/usstock/RSKD.csv\n",
      "Saved data for symbol RSLS to C:/Users/atlas/OneDrive/Desktop/usstock/RSLS.csv\n",
      "Saved data for symbol RSSS to C:/Users/atlas/OneDrive/Desktop/usstock/RSSS.csv\n",
      "Saved data for symbol RSVR to C:/Users/atlas/OneDrive/Desktop/usstock/RSVR.csv\n",
      "Saved data for symbol RSVRW to C:/Users/atlas/OneDrive/Desktop/usstock/RSVRW.csv\n",
      "Saved data for symbol RTC to C:/Users/atlas/OneDrive/Desktop/usstock/RTC.csv\n",
      "Saved data for symbol RTO to C:/Users/atlas/OneDrive/Desktop/usstock/RTO.csv\n",
      "Saved data for symbol RTX to C:/Users/atlas/OneDrive/Desktop/usstock/RTX.csv\n",
      "Saved data for symbol RUM to C:/Users/atlas/OneDrive/Desktop/usstock/RUM.csv\n"
     ]
    },
    {
     "name": "stderr",
     "output_type": "stream",
     "text": [
      "\n",
      "1 Failed download:\n",
      "['RUMBW']: Exception('%ticker%: 1d data not available for startTime=-14831751840 and endTime=1713531612. Only 100 years worth of day granularity data are allowed to be fetched per request.')\n"
     ]
    },
    {
     "name": "stdout",
     "output_type": "stream",
     "text": [
      "Saved data for symbol RUMBW to C:/Users/atlas/OneDrive/Desktop/usstock/RUMBW.csv\n",
      "Saved data for symbol RUN to C:/Users/atlas/OneDrive/Desktop/usstock/RUN.csv\n",
      "Saved data for symbol RUSHA to C:/Users/atlas/OneDrive/Desktop/usstock/RUSHA.csv\n",
      "Saved data for symbol RUSHB to C:/Users/atlas/OneDrive/Desktop/usstock/RUSHB.csv\n",
      "Saved data for symbol RVLV to C:/Users/atlas/OneDrive/Desktop/usstock/RVLV.csv\n",
      "Saved data for symbol RVMD to C:/Users/atlas/OneDrive/Desktop/usstock/RVMD.csv\n"
     ]
    },
    {
     "name": "stderr",
     "output_type": "stream",
     "text": [
      "\n",
      "1 Failed download:\n",
      "['RVMDW']: Exception('%ticker%: 1d data not available for startTime=-14831751840 and endTime=1713531618. Only 100 years worth of day granularity data are allowed to be fetched per request.')\n"
     ]
    },
    {
     "name": "stdout",
     "output_type": "stream",
     "text": [
      "Saved data for symbol RVMDW to C:/Users/atlas/OneDrive/Desktop/usstock/RVMDW.csv\n",
      "Saved data for symbol RVNC to C:/Users/atlas/OneDrive/Desktop/usstock/RVNC.csv\n",
      "Saved data for symbol RVP to C:/Users/atlas/OneDrive/Desktop/usstock/RVP.csv\n",
      "Saved data for symbol RVPH to C:/Users/atlas/OneDrive/Desktop/usstock/RVPH.csv\n"
     ]
    },
    {
     "name": "stderr",
     "output_type": "stream",
     "text": [
      "\n",
      "1 Failed download:\n",
      "['RVPHW']: Exception('%ticker%: 1d data not available for startTime=-14831751840 and endTime=1713531621. Only 100 years worth of day granularity data are allowed to be fetched per request.')\n"
     ]
    },
    {
     "name": "stdout",
     "output_type": "stream",
     "text": [
      "Saved data for symbol RVPHW to C:/Users/atlas/OneDrive/Desktop/usstock/RVPHW.csv\n",
      "Saved data for symbol RVSB to C:/Users/atlas/OneDrive/Desktop/usstock/RVSB.csv\n",
      "Saved data for symbol RVSN to C:/Users/atlas/OneDrive/Desktop/usstock/RVSN.csv\n"
     ]
    },
    {
     "name": "stderr",
     "output_type": "stream",
     "text": [
      "\n",
      "1 Failed download:\n",
      "['RVSNW']: Exception('%ticker%: 1d data not available for startTime=-14831751840 and endTime=1713531624. Only 100 years worth of day granularity data are allowed to be fetched per request.')\n"
     ]
    },
    {
     "name": "stdout",
     "output_type": "stream",
     "text": [
      "Saved data for symbol RVSNW to C:/Users/atlas/OneDrive/Desktop/usstock/RVSNW.csv\n",
      "Saved data for symbol RVT to C:/Users/atlas/OneDrive/Desktop/usstock/RVT.csv\n",
      "Saved data for symbol RVTY to C:/Users/atlas/OneDrive/Desktop/usstock/RVTY.csv\n",
      "Saved data for symbol RVYL to C:/Users/atlas/OneDrive/Desktop/usstock/RVYL.csv\n",
      "Saved data for symbol RWAY to C:/Users/atlas/OneDrive/Desktop/usstock/RWAY.csv\n",
      "Saved data for symbol RWAYL to C:/Users/atlas/OneDrive/Desktop/usstock/RWAYL.csv\n",
      "Saved data for symbol RWAYZ to C:/Users/atlas/OneDrive/Desktop/usstock/RWAYZ.csv\n",
      "Saved data for symbol RWOD to C:/Users/atlas/OneDrive/Desktop/usstock/RWOD.csv\n"
     ]
    },
    {
     "name": "stderr",
     "output_type": "stream",
     "text": [
      "\n",
      "1 Failed download:\n",
      "['RWODR']: Exception('%ticker%: 1d data not available for startTime=-14831751840 and endTime=1713531628. Only 100 years worth of day granularity data are allowed to be fetched per request.')\n"
     ]
    },
    {
     "name": "stdout",
     "output_type": "stream",
     "text": [
      "Saved data for symbol RWODR to C:/Users/atlas/OneDrive/Desktop/usstock/RWODR.csv\n",
      "Saved data for symbol RWODU to C:/Users/atlas/OneDrive/Desktop/usstock/RWODU.csv\n"
     ]
    },
    {
     "name": "stderr",
     "output_type": "stream",
     "text": [
      "\n",
      "1 Failed download:\n",
      "['RWODW']: Exception('%ticker%: 1d data not available for startTime=-14831751840 and endTime=1713531630. Only 100 years worth of day granularity data are allowed to be fetched per request.')\n"
     ]
    },
    {
     "name": "stdout",
     "output_type": "stream",
     "text": [
      "Saved data for symbol RWODW to C:/Users/atlas/OneDrive/Desktop/usstock/RWODW.csv\n",
      "Saved data for symbol RWT to C:/Users/atlas/OneDrive/Desktop/usstock/RWT.csv\n"
     ]
    },
    {
     "name": "stderr",
     "output_type": "stream",
     "text": [
      "\n",
      "1 Failed download:\n",
      "['RWT^A']: Exception('%ticker%: No timezone found, symbol may be delisted')\n"
     ]
    },
    {
     "name": "stdout",
     "output_type": "stream",
     "text": [
      "Saved data for symbol RWT^A to C:/Users/atlas/OneDrive/Desktop/usstock/RWT^A.csv\n",
      "Saved data for symbol RWTN to C:/Users/atlas/OneDrive/Desktop/usstock/RWTN.csv\n",
      "Saved data for symbol RXO to C:/Users/atlas/OneDrive/Desktop/usstock/RXO.csv\n",
      "Saved data for symbol RXRX to C:/Users/atlas/OneDrive/Desktop/usstock/RXRX.csv\n",
      "Saved data for symbol RXST to C:/Users/atlas/OneDrive/Desktop/usstock/RXST.csv\n",
      "Saved data for symbol RXT to C:/Users/atlas/OneDrive/Desktop/usstock/RXT.csv\n",
      "Saved data for symbol RY to C:/Users/atlas/OneDrive/Desktop/usstock/RY.csv\n",
      "Saved data for symbol RYAAY to C:/Users/atlas/OneDrive/Desktop/usstock/RYAAY.csv\n",
      "Saved data for symbol RYAM to C:/Users/atlas/OneDrive/Desktop/usstock/RYAM.csv\n",
      "Saved data for symbol RYAN to C:/Users/atlas/OneDrive/Desktop/usstock/RYAN.csv\n",
      "Saved data for symbol RYDE to C:/Users/atlas/OneDrive/Desktop/usstock/RYDE.csv\n",
      "Saved data for symbol RYI to C:/Users/atlas/OneDrive/Desktop/usstock/RYI.csv\n",
      "Saved data for symbol RYN to C:/Users/atlas/OneDrive/Desktop/usstock/RYN.csv\n",
      "Saved data for symbol RYTM to C:/Users/atlas/OneDrive/Desktop/usstock/RYTM.csv\n",
      "Saved data for symbol RZB to C:/Users/atlas/OneDrive/Desktop/usstock/RZB.csv\n",
      "Saved data for symbol RZC to C:/Users/atlas/OneDrive/Desktop/usstock/RZC.csv\n",
      "Saved data for symbol RZLT to C:/Users/atlas/OneDrive/Desktop/usstock/RZLT.csv\n",
      "Saved data for symbol S to C:/Users/atlas/OneDrive/Desktop/usstock/S.csv\n",
      "Saved data for symbol SA to C:/Users/atlas/OneDrive/Desktop/usstock/SA.csv\n",
      "Saved data for symbol SABA to C:/Users/atlas/OneDrive/Desktop/usstock/SABA.csv\n",
      "Saved data for symbol SABR to C:/Users/atlas/OneDrive/Desktop/usstock/SABR.csv\n",
      "Saved data for symbol SABS to C:/Users/atlas/OneDrive/Desktop/usstock/SABS.csv\n",
      "Saved data for symbol SACC to C:/Users/atlas/OneDrive/Desktop/usstock/SACC.csv\n",
      "Saved data for symbol SACH to C:/Users/atlas/OneDrive/Desktop/usstock/SACH.csv\n"
     ]
    },
    {
     "name": "stderr",
     "output_type": "stream",
     "text": [
      "\n",
      "1 Failed download:\n",
      "['SACH^A']: Exception('%ticker%: No timezone found, symbol may be delisted')\n"
     ]
    },
    {
     "name": "stdout",
     "output_type": "stream",
     "text": [
      "Saved data for symbol SACH^A to C:/Users/atlas/OneDrive/Desktop/usstock/SACH^A.csv\n",
      "Saved data for symbol SAFE to C:/Users/atlas/OneDrive/Desktop/usstock/SAFE.csv\n",
      "Saved data for symbol SAFT to C:/Users/atlas/OneDrive/Desktop/usstock/SAFT.csv\n",
      "Saved data for symbol SAGE to C:/Users/atlas/OneDrive/Desktop/usstock/SAGE.csv\n",
      "Saved data for symbol SAH to C:/Users/atlas/OneDrive/Desktop/usstock/SAH.csv\n",
      "Saved data for symbol SAI to C:/Users/atlas/OneDrive/Desktop/usstock/SAI.csv\n",
      "Saved data for symbol SAIA to C:/Users/atlas/OneDrive/Desktop/usstock/SAIA.csv\n",
      "Saved data for symbol SAIC to C:/Users/atlas/OneDrive/Desktop/usstock/SAIC.csv\n"
     ]
    },
    {
     "name": "stderr",
     "output_type": "stream",
     "text": [
      "\n",
      "1 Failed download:\n",
      "['SAITW']: Exception('%ticker%: 1d data not available for startTime=-14831751840 and endTime=1713531648. Only 100 years worth of day granularity data are allowed to be fetched per request.')\n"
     ]
    },
    {
     "name": "stdout",
     "output_type": "stream",
     "text": [
      "Saved data for symbol SAITW to C:/Users/atlas/OneDrive/Desktop/usstock/SAITW.csv\n",
      "Saved data for symbol SAJ to C:/Users/atlas/OneDrive/Desktop/usstock/SAJ.csv\n",
      "Saved data for symbol SAM to C:/Users/atlas/OneDrive/Desktop/usstock/SAM.csv\n",
      "Saved data for symbol SAMG to C:/Users/atlas/OneDrive/Desktop/usstock/SAMG.csv\n",
      "Saved data for symbol SAN to C:/Users/atlas/OneDrive/Desktop/usstock/SAN.csv\n",
      "Saved data for symbol SANA to C:/Users/atlas/OneDrive/Desktop/usstock/SANA.csv\n",
      "Saved data for symbol SAND           to C:/Users/atlas/OneDrive/Desktop/usstock/SAND          .csv\n",
      "Saved data for symbol SANG to C:/Users/atlas/OneDrive/Desktop/usstock/SANG.csv\n",
      "Saved data for symbol SANM to C:/Users/atlas/OneDrive/Desktop/usstock/SANM.csv\n",
      "Saved data for symbol SANW to C:/Users/atlas/OneDrive/Desktop/usstock/SANW.csv\n",
      "Saved data for symbol SAP to C:/Users/atlas/OneDrive/Desktop/usstock/SAP.csv\n",
      "Saved data for symbol SAR to C:/Users/atlas/OneDrive/Desktop/usstock/SAR.csv\n",
      "Saved data for symbol SASR to C:/Users/atlas/OneDrive/Desktop/usstock/SASR.csv\n",
      "Saved data for symbol SAT to C:/Users/atlas/OneDrive/Desktop/usstock/SAT.csv\n",
      "Saved data for symbol SATL to C:/Users/atlas/OneDrive/Desktop/usstock/SATL.csv\n"
     ]
    },
    {
     "name": "stderr",
     "output_type": "stream",
     "text": [
      "\n",
      "1 Failed download:\n",
      "['SATLW']: Exception('%ticker%: 1d data not available for startTime=-14831751840 and endTime=1713531655. Only 100 years worth of day granularity data are allowed to be fetched per request.')\n"
     ]
    },
    {
     "name": "stdout",
     "output_type": "stream",
     "text": [
      "Saved data for symbol SATLW to C:/Users/atlas/OneDrive/Desktop/usstock/SATLW.csv\n",
      "Saved data for symbol SATS to C:/Users/atlas/OneDrive/Desktop/usstock/SATS.csv\n",
      "Saved data for symbol SATX to C:/Users/atlas/OneDrive/Desktop/usstock/SATX.csv\n",
      "Saved data for symbol SAVA to C:/Users/atlas/OneDrive/Desktop/usstock/SAVA.csv\n",
      "Saved data for symbol SAVAW to C:/Users/atlas/OneDrive/Desktop/usstock/SAVAW.csv\n",
      "Saved data for symbol SAVE to C:/Users/atlas/OneDrive/Desktop/usstock/SAVE.csv\n",
      "Saved data for symbol SAY to C:/Users/atlas/OneDrive/Desktop/usstock/SAY.csv\n",
      "Saved data for symbol SAZ to C:/Users/atlas/OneDrive/Desktop/usstock/SAZ.csv\n",
      "Saved data for symbol SB to C:/Users/atlas/OneDrive/Desktop/usstock/SB.csv\n"
     ]
    },
    {
     "name": "stderr",
     "output_type": "stream",
     "text": [
      "\n",
      "1 Failed download:\n",
      "['SB^C']: Exception('%ticker%: No timezone found, symbol may be delisted')\n"
     ]
    },
    {
     "name": "stdout",
     "output_type": "stream",
     "text": [
      "Saved data for symbol SB^C to C:/Users/atlas/OneDrive/Desktop/usstock/SB^C.csv\n"
     ]
    },
    {
     "name": "stderr",
     "output_type": "stream",
     "text": [
      "\n",
      "1 Failed download:\n",
      "['SB^D']: Exception('%ticker%: No timezone found, symbol may be delisted')\n"
     ]
    },
    {
     "name": "stdout",
     "output_type": "stream",
     "text": [
      "Saved data for symbol SB^D to C:/Users/atlas/OneDrive/Desktop/usstock/SB^D.csv\n",
      "Saved data for symbol SBAC to C:/Users/atlas/OneDrive/Desktop/usstock/SBAC.csv\n",
      "Saved data for symbol SBBA to C:/Users/atlas/OneDrive/Desktop/usstock/SBBA.csv\n",
      "Saved data for symbol SBCF to C:/Users/atlas/OneDrive/Desktop/usstock/SBCF.csv\n",
      "Saved data for symbol SBET to C:/Users/atlas/OneDrive/Desktop/usstock/SBET.csv\n",
      "Saved data for symbol SBEV to C:/Users/atlas/OneDrive/Desktop/usstock/SBEV.csv\n",
      "Saved data for symbol SBFG to C:/Users/atlas/OneDrive/Desktop/usstock/SBFG.csv\n",
      "Saved data for symbol SBFM to C:/Users/atlas/OneDrive/Desktop/usstock/SBFM.csv\n"
     ]
    },
    {
     "name": "stderr",
     "output_type": "stream",
     "text": [
      "\n",
      "1 Failed download:\n",
      "['SBFMW']: Exception('%ticker%: 1d data not available for startTime=-14831751840 and endTime=1713531668. Only 100 years worth of day granularity data are allowed to be fetched per request.')\n"
     ]
    },
    {
     "name": "stdout",
     "output_type": "stream",
     "text": [
      "Saved data for symbol SBFMW to C:/Users/atlas/OneDrive/Desktop/usstock/SBFMW.csv\n",
      "Saved data for symbol SBGI to C:/Users/atlas/OneDrive/Desktop/usstock/SBGI.csv\n",
      "Saved data for symbol SBH to C:/Users/atlas/OneDrive/Desktop/usstock/SBH.csv\n",
      "Saved data for symbol SBI to C:/Users/atlas/OneDrive/Desktop/usstock/SBI.csv\n",
      "Saved data for symbol SBLK to C:/Users/atlas/OneDrive/Desktop/usstock/SBLK.csv\n",
      "Saved data for symbol SBOW to C:/Users/atlas/OneDrive/Desktop/usstock/SBOW.csv\n",
      "Saved data for symbol SBR to C:/Users/atlas/OneDrive/Desktop/usstock/SBR.csv\n",
      "Saved data for symbol SBRA to C:/Users/atlas/OneDrive/Desktop/usstock/SBRA.csv\n",
      "Saved data for symbol SBS to C:/Users/atlas/OneDrive/Desktop/usstock/SBS.csv\n",
      "Saved data for symbol SBSI to C:/Users/atlas/OneDrive/Desktop/usstock/SBSI.csv\n",
      "Saved data for symbol SBSW to C:/Users/atlas/OneDrive/Desktop/usstock/SBSW.csv\n",
      "Saved data for symbol SBT to C:/Users/atlas/OneDrive/Desktop/usstock/SBT.csv\n",
      "Saved data for symbol SBUX to C:/Users/atlas/OneDrive/Desktop/usstock/SBUX.csv\n",
      "Saved data for symbol SBXC to C:/Users/atlas/OneDrive/Desktop/usstock/SBXC.csv\n",
      "Saved data for symbol SCCB to C:/Users/atlas/OneDrive/Desktop/usstock/SCCB.csv\n",
      "Saved data for symbol SCCC to C:/Users/atlas/OneDrive/Desktop/usstock/SCCC.csv\n",
      "Saved data for symbol SCCD to C:/Users/atlas/OneDrive/Desktop/usstock/SCCD.csv\n",
      "Saved data for symbol SCCE to C:/Users/atlas/OneDrive/Desktop/usstock/SCCE.csv\n",
      "Saved data for symbol SCCF to C:/Users/atlas/OneDrive/Desktop/usstock/SCCF.csv\n",
      "Saved data for symbol SCCG to C:/Users/atlas/OneDrive/Desktop/usstock/SCCG.csv\n",
      "Saved data for symbol SCCO to C:/Users/atlas/OneDrive/Desktop/usstock/SCCO.csv\n",
      "Saved data for symbol SCD to C:/Users/atlas/OneDrive/Desktop/usstock/SCD.csv\n"
     ]
    },
    {
     "name": "stderr",
     "output_type": "stream",
     "text": [
      "\n",
      "1 Failed download:\n",
      "['SCE^G']: Exception('%ticker%: No timezone found, symbol may be delisted')\n"
     ]
    },
    {
     "name": "stdout",
     "output_type": "stream",
     "text": [
      "Saved data for symbol SCE^G to C:/Users/atlas/OneDrive/Desktop/usstock/SCE^G.csv\n"
     ]
    },
    {
     "name": "stderr",
     "output_type": "stream",
     "text": [
      "\n",
      "1 Failed download:\n",
      "['SCE^H']: Exception('%ticker%: No timezone found, symbol may be delisted')\n"
     ]
    },
    {
     "name": "stdout",
     "output_type": "stream",
     "text": [
      "Saved data for symbol SCE^H to C:/Users/atlas/OneDrive/Desktop/usstock/SCE^H.csv\n"
     ]
    },
    {
     "name": "stderr",
     "output_type": "stream",
     "text": [
      "\n",
      "1 Failed download:\n",
      "['SCE^J']: Exception('%ticker%: No timezone found, symbol may be delisted')\n"
     ]
    },
    {
     "name": "stdout",
     "output_type": "stream",
     "text": [
      "Saved data for symbol SCE^J to C:/Users/atlas/OneDrive/Desktop/usstock/SCE^J.csv\n"
     ]
    },
    {
     "name": "stderr",
     "output_type": "stream",
     "text": [
      "\n",
      "1 Failed download:\n",
      "['SCE^K']: Exception('%ticker%: No timezone found, symbol may be delisted')\n"
     ]
    },
    {
     "name": "stdout",
     "output_type": "stream",
     "text": [
      "Saved data for symbol SCE^K to C:/Users/atlas/OneDrive/Desktop/usstock/SCE^K.csv\n"
     ]
    },
    {
     "name": "stderr",
     "output_type": "stream",
     "text": [
      "\n",
      "1 Failed download:\n",
      "['SCE^L']: Exception('%ticker%: No timezone found, symbol may be delisted')\n"
     ]
    },
    {
     "name": "stdout",
     "output_type": "stream",
     "text": [
      "Saved data for symbol SCE^L to C:/Users/atlas/OneDrive/Desktop/usstock/SCE^L.csv\n"
     ]
    },
    {
     "name": "stderr",
     "output_type": "stream",
     "text": [
      "\n",
      "1 Failed download:\n",
      "['SCE^M']: Exception('%ticker%: No timezone found, symbol may be delisted')\n"
     ]
    },
    {
     "name": "stdout",
     "output_type": "stream",
     "text": [
      "Saved data for symbol SCE^M to C:/Users/atlas/OneDrive/Desktop/usstock/SCE^M.csv\n",
      "Saved data for symbol SCHL to C:/Users/atlas/OneDrive/Desktop/usstock/SCHL.csv\n",
      "Saved data for symbol SCHW to C:/Users/atlas/OneDrive/Desktop/usstock/SCHW.csv\n"
     ]
    },
    {
     "name": "stderr",
     "output_type": "stream",
     "text": [
      "\n",
      "1 Failed download:\n",
      "['SCHW^D']: Exception('%ticker%: No timezone found, symbol may be delisted')\n"
     ]
    },
    {
     "name": "stdout",
     "output_type": "stream",
     "text": [
      "Saved data for symbol SCHW^D to C:/Users/atlas/OneDrive/Desktop/usstock/SCHW^D.csv\n"
     ]
    },
    {
     "name": "stderr",
     "output_type": "stream",
     "text": [
      "\n",
      "1 Failed download:\n",
      "['SCHW^J']: Exception('%ticker%: No timezone found, symbol may be delisted')\n"
     ]
    },
    {
     "name": "stdout",
     "output_type": "stream",
     "text": [
      "Saved data for symbol SCHW^J to C:/Users/atlas/OneDrive/Desktop/usstock/SCHW^J.csv\n",
      "Saved data for symbol SCI to C:/Users/atlas/OneDrive/Desktop/usstock/SCI.csv\n",
      "Saved data for symbol SCKT to C:/Users/atlas/OneDrive/Desktop/usstock/SCKT.csv\n",
      "Saved data for symbol SCL to C:/Users/atlas/OneDrive/Desktop/usstock/SCL.csv\n",
      "Saved data for symbol SCLX to C:/Users/atlas/OneDrive/Desktop/usstock/SCLX.csv\n"
     ]
    },
    {
     "name": "stderr",
     "output_type": "stream",
     "text": [
      "\n",
      "1 Failed download:\n",
      "['SCLXW']: Exception('%ticker%: 1d data not available for startTime=-14831751840 and endTime=1713531705. Only 100 years worth of day granularity data are allowed to be fetched per request.')\n"
     ]
    },
    {
     "name": "stdout",
     "output_type": "stream",
     "text": [
      "Saved data for symbol SCLXW to C:/Users/atlas/OneDrive/Desktop/usstock/SCLXW.csv\n",
      "Saved data for symbol SCM to C:/Users/atlas/OneDrive/Desktop/usstock/SCM.csv\n",
      "Saved data for symbol SCNI to C:/Users/atlas/OneDrive/Desktop/usstock/SCNI.csv\n",
      "Saved data for symbol SCOR to C:/Users/atlas/OneDrive/Desktop/usstock/SCOR.csv\n",
      "Saved data for symbol SCPH to C:/Users/atlas/OneDrive/Desktop/usstock/SCPH.csv\n",
      "Saved data for symbol SCPX to C:/Users/atlas/OneDrive/Desktop/usstock/SCPX.csv\n",
      "Saved data for symbol SCRM to C:/Users/atlas/OneDrive/Desktop/usstock/SCRM.csv\n",
      "Saved data for symbol SCRMU to C:/Users/atlas/OneDrive/Desktop/usstock/SCRMU.csv\n"
     ]
    },
    {
     "name": "stderr",
     "output_type": "stream",
     "text": [
      "\n",
      "1 Failed download:\n",
      "['SCRMW']: Exception('%ticker%: 1d data not available for startTime=-14831751840 and endTime=1713531711. Only 100 years worth of day granularity data are allowed to be fetched per request.')\n"
     ]
    },
    {
     "name": "stdout",
     "output_type": "stream",
     "text": [
      "Saved data for symbol SCRMW to C:/Users/atlas/OneDrive/Desktop/usstock/SCRMW.csv\n",
      "Saved data for symbol SCS to C:/Users/atlas/OneDrive/Desktop/usstock/SCS.csv\n",
      "Saved data for symbol SCSC to C:/Users/atlas/OneDrive/Desktop/usstock/SCSC.csv\n",
      "Saved data for symbol SCVL to C:/Users/atlas/OneDrive/Desktop/usstock/SCVL.csv\n",
      "Saved data for symbol SCWO to C:/Users/atlas/OneDrive/Desktop/usstock/SCWO.csv\n",
      "Saved data for symbol SCWX to C:/Users/atlas/OneDrive/Desktop/usstock/SCWX.csv\n",
      "Saved data for symbol SCX to C:/Users/atlas/OneDrive/Desktop/usstock/SCX.csv\n",
      "Saved data for symbol SCYX to C:/Users/atlas/OneDrive/Desktop/usstock/SCYX.csv\n",
      "Saved data for symbol SD to C:/Users/atlas/OneDrive/Desktop/usstock/SD.csv\n",
      "Saved data for symbol SDA to C:/Users/atlas/OneDrive/Desktop/usstock/SDA.csv\n"
     ]
    },
    {
     "name": "stderr",
     "output_type": "stream",
     "text": [
      "\n",
      "1 Failed download:\n",
      "['SDAWW']: Exception('%ticker%: 1d data not available for startTime=-14831751840 and endTime=1713531716. Only 100 years worth of day granularity data are allowed to be fetched per request.')\n"
     ]
    },
    {
     "name": "stdout",
     "output_type": "stream",
     "text": [
      "Saved data for symbol SDAWW to C:/Users/atlas/OneDrive/Desktop/usstock/SDAWW.csv\n",
      "Saved data for symbol SDGR to C:/Users/atlas/OneDrive/Desktop/usstock/SDGR.csv\n",
      "Saved data for symbol SDHC to C:/Users/atlas/OneDrive/Desktop/usstock/SDHC.csv\n",
      "Saved data for symbol SDHY to C:/Users/atlas/OneDrive/Desktop/usstock/SDHY.csv\n",
      "Saved data for symbol SDIG to C:/Users/atlas/OneDrive/Desktop/usstock/SDIG.csv\n",
      "Saved data for symbol SDOT to C:/Users/atlas/OneDrive/Desktop/usstock/SDOT.csv\n",
      "Saved data for symbol SDPI to C:/Users/atlas/OneDrive/Desktop/usstock/SDPI.csv\n",
      "Saved data for symbol SDRL to C:/Users/atlas/OneDrive/Desktop/usstock/SDRL.csv\n",
      "Saved data for symbol SE to C:/Users/atlas/OneDrive/Desktop/usstock/SE.csv\n"
     ]
    },
    {
     "name": "stderr",
     "output_type": "stream",
     "text": [
      "\n",
      "1 Failed download:\n",
      "['SEAL^A']: Exception('%ticker%: No timezone found, symbol may be delisted')\n"
     ]
    },
    {
     "name": "stdout",
     "output_type": "stream",
     "text": [
      "Saved data for symbol SEAL^A to C:/Users/atlas/OneDrive/Desktop/usstock/SEAL^A.csv\n"
     ]
    },
    {
     "name": "stderr",
     "output_type": "stream",
     "text": [
      "\n",
      "1 Failed download:\n",
      "['SEAL^B']: Exception('%ticker%: No timezone found, symbol may be delisted')\n"
     ]
    },
    {
     "name": "stdout",
     "output_type": "stream",
     "text": [
      "Saved data for symbol SEAL^B to C:/Users/atlas/OneDrive/Desktop/usstock/SEAL^B.csv\n",
      "Saved data for symbol SEAT to C:/Users/atlas/OneDrive/Desktop/usstock/SEAT.csv\n",
      "Saved data for symbol SEB to C:/Users/atlas/OneDrive/Desktop/usstock/SEB.csv\n",
      "Saved data for symbol SECO to C:/Users/atlas/OneDrive/Desktop/usstock/SECO.csv\n",
      "Saved data for symbol SEDA to C:/Users/atlas/OneDrive/Desktop/usstock/SEDA.csv\n",
      "Saved data for symbol SEDG to C:/Users/atlas/OneDrive/Desktop/usstock/SEDG.csv\n",
      "Saved data for symbol SEE to C:/Users/atlas/OneDrive/Desktop/usstock/SEE.csv\n",
      "Saved data for symbol SEED to C:/Users/atlas/OneDrive/Desktop/usstock/SEED.csv\n",
      "Saved data for symbol SEEL to C:/Users/atlas/OneDrive/Desktop/usstock/SEEL.csv\n",
      "Saved data for symbol SEER to C:/Users/atlas/OneDrive/Desktop/usstock/SEER.csv\n",
      "Saved data for symbol SEIC to C:/Users/atlas/OneDrive/Desktop/usstock/SEIC.csv\n",
      "Saved data for symbol SELF to C:/Users/atlas/OneDrive/Desktop/usstock/SELF.csv\n",
      "Saved data for symbol SELX to C:/Users/atlas/OneDrive/Desktop/usstock/SELX.csv\n",
      "Saved data for symbol SEM to C:/Users/atlas/OneDrive/Desktop/usstock/SEM.csv\n",
      "Saved data for symbol SEMR to C:/Users/atlas/OneDrive/Desktop/usstock/SEMR.csv\n",
      "Saved data for symbol SENEA to C:/Users/atlas/OneDrive/Desktop/usstock/SENEA.csv\n",
      "Saved data for symbol SENEB to C:/Users/atlas/OneDrive/Desktop/usstock/SENEB.csv\n",
      "Saved data for symbol SENS to C:/Users/atlas/OneDrive/Desktop/usstock/SENS.csv\n",
      "Saved data for symbol SEPA to C:/Users/atlas/OneDrive/Desktop/usstock/SEPA.csv\n",
      "Saved data for symbol SEPAU to C:/Users/atlas/OneDrive/Desktop/usstock/SEPAU.csv\n"
     ]
    },
    {
     "name": "stderr",
     "output_type": "stream",
     "text": [
      "\n",
      "1 Failed download:\n",
      "['SEPAW']: Exception('%ticker%: 1d data not available for startTime=-14831751840 and endTime=1713531733. Only 100 years worth of day granularity data are allowed to be fetched per request.')\n"
     ]
    },
    {
     "name": "stdout",
     "output_type": "stream",
     "text": [
      "Saved data for symbol SEPAW to C:/Users/atlas/OneDrive/Desktop/usstock/SEPAW.csv\n",
      "Saved data for symbol SER to C:/Users/atlas/OneDrive/Desktop/usstock/SER.csv\n",
      "Saved data for symbol SERA to C:/Users/atlas/OneDrive/Desktop/usstock/SERA.csv\n",
      "Saved data for symbol SERV to C:/Users/atlas/OneDrive/Desktop/usstock/SERV.csv\n",
      "Saved data for symbol SES to C:/Users/atlas/OneDrive/Desktop/usstock/SES.csv\n",
      "Saved data for symbol SEVN to C:/Users/atlas/OneDrive/Desktop/usstock/SEVN.csv\n",
      "Saved data for symbol SEZL to C:/Users/atlas/OneDrive/Desktop/usstock/SEZL.csv\n",
      "Saved data for symbol SF to C:/Users/atlas/OneDrive/Desktop/usstock/SF.csv\n"
     ]
    },
    {
     "name": "stderr",
     "output_type": "stream",
     "text": [
      "\n",
      "1 Failed download:\n",
      "['SF^B']: Exception('%ticker%: No timezone found, symbol may be delisted')\n"
     ]
    },
    {
     "name": "stdout",
     "output_type": "stream",
     "text": [
      "Saved data for symbol SF^B to C:/Users/atlas/OneDrive/Desktop/usstock/SF^B.csv\n"
     ]
    },
    {
     "name": "stderr",
     "output_type": "stream",
     "text": [
      "\n",
      "1 Failed download:\n",
      "['SF^C']: Exception('%ticker%: No timezone found, symbol may be delisted')\n"
     ]
    },
    {
     "name": "stdout",
     "output_type": "stream",
     "text": [
      "Saved data for symbol SF^C to C:/Users/atlas/OneDrive/Desktop/usstock/SF^C.csv\n"
     ]
    },
    {
     "name": "stderr",
     "output_type": "stream",
     "text": [
      "\n",
      "1 Failed download:\n",
      "['SF^D']: Exception('%ticker%: No timezone found, symbol may be delisted')\n"
     ]
    },
    {
     "name": "stdout",
     "output_type": "stream",
     "text": [
      "Saved data for symbol SF^D to C:/Users/atlas/OneDrive/Desktop/usstock/SF^D.csv\n"
     ]
    },
    {
     "name": "stderr",
     "output_type": "stream",
     "text": [
      "\n",
      "1 Failed download:\n",
      "['SFB']: Exception('%ticker%: 1d data not available for startTime=-14831751840 and endTime=1713531743. Only 100 years worth of day granularity data are allowed to be fetched per request.')\n"
     ]
    },
    {
     "name": "stdout",
     "output_type": "stream",
     "text": [
      "Saved data for symbol SFB to C:/Users/atlas/OneDrive/Desktop/usstock/SFB.csv\n",
      "Saved data for symbol SFBC to C:/Users/atlas/OneDrive/Desktop/usstock/SFBC.csv\n",
      "Saved data for symbol SFBS to C:/Users/atlas/OneDrive/Desktop/usstock/SFBS.csv\n",
      "Saved data for symbol SFIX to C:/Users/atlas/OneDrive/Desktop/usstock/SFIX.csv\n",
      "Saved data for symbol SFL to C:/Users/atlas/OneDrive/Desktop/usstock/SFL.csv\n",
      "Saved data for symbol SFM to C:/Users/atlas/OneDrive/Desktop/usstock/SFM.csv\n",
      "Saved data for symbol SFNC to C:/Users/atlas/OneDrive/Desktop/usstock/SFNC.csv\n",
      "Saved data for symbol SFST to C:/Users/atlas/OneDrive/Desktop/usstock/SFST.csv\n",
      "Saved data for symbol SFWL to C:/Users/atlas/OneDrive/Desktop/usstock/SFWL.csv\n",
      "Saved data for symbol SG to C:/Users/atlas/OneDrive/Desktop/usstock/SG.csv\n",
      "Saved data for symbol SGA to C:/Users/atlas/OneDrive/Desktop/usstock/SGA.csv\n",
      "Saved data for symbol SGBX to C:/Users/atlas/OneDrive/Desktop/usstock/SGBX.csv\n",
      "Saved data for symbol SGC to C:/Users/atlas/OneDrive/Desktop/usstock/SGC.csv\n",
      "Saved data for symbol SGD to C:/Users/atlas/OneDrive/Desktop/usstock/SGD.csv\n",
      "Saved data for symbol SGE to C:/Users/atlas/OneDrive/Desktop/usstock/SGE.csv\n",
      "Saved data for symbol SGH to C:/Users/atlas/OneDrive/Desktop/usstock/SGH.csv\n",
      "Saved data for symbol SGHC to C:/Users/atlas/OneDrive/Desktop/usstock/SGHC.csv\n",
      "Saved data for symbol SGHT to C:/Users/atlas/OneDrive/Desktop/usstock/SGHT.csv\n",
      "Saved data for symbol SGLY to C:/Users/atlas/OneDrive/Desktop/usstock/SGLY.csv\n",
      "Saved data for symbol SGMA to C:/Users/atlas/OneDrive/Desktop/usstock/SGMA.csv\n",
      "Saved data for symbol SGML to C:/Users/atlas/OneDrive/Desktop/usstock/SGML.csv\n",
      "Saved data for symbol SGMO to C:/Users/atlas/OneDrive/Desktop/usstock/SGMO.csv\n",
      "Saved data for symbol SGMT to C:/Users/atlas/OneDrive/Desktop/usstock/SGMT.csv\n",
      "Saved data for symbol SGN to C:/Users/atlas/OneDrive/Desktop/usstock/SGN.csv\n",
      "Saved data for symbol SGRP to C:/Users/atlas/OneDrive/Desktop/usstock/SGRP.csv\n",
      "Saved data for symbol SGRY to C:/Users/atlas/OneDrive/Desktop/usstock/SGRY.csv\n",
      "Saved data for symbol SGU to C:/Users/atlas/OneDrive/Desktop/usstock/SGU.csv\n",
      "Saved data for symbol SHAK to C:/Users/atlas/OneDrive/Desktop/usstock/SHAK.csv\n",
      "Saved data for symbol SHBI to C:/Users/atlas/OneDrive/Desktop/usstock/SHBI.csv\n",
      "Saved data for symbol SHC to C:/Users/atlas/OneDrive/Desktop/usstock/SHC.csv\n",
      "Saved data for symbol SHCO to C:/Users/atlas/OneDrive/Desktop/usstock/SHCO.csv\n",
      "Saved data for symbol SHCR to C:/Users/atlas/OneDrive/Desktop/usstock/SHCR.csv\n",
      "Saved data for symbol SHCRW to C:/Users/atlas/OneDrive/Desktop/usstock/SHCRW.csv\n",
      "Saved data for symbol SHEL to C:/Users/atlas/OneDrive/Desktop/usstock/SHEL.csv\n",
      "Saved data for symbol SHEN to C:/Users/atlas/OneDrive/Desktop/usstock/SHEN.csv\n",
      "Saved data for symbol SHFS to C:/Users/atlas/OneDrive/Desktop/usstock/SHFS.csv\n"
     ]
    },
    {
     "name": "stderr",
     "output_type": "stream",
     "text": [
      "\n",
      "1 Failed download:\n",
      "['SHFSW']: Exception('%ticker%: 1d data not available for startTime=-14831751840 and endTime=1713531758. Only 100 years worth of day granularity data are allowed to be fetched per request.')\n"
     ]
    },
    {
     "name": "stdout",
     "output_type": "stream",
     "text": [
      "Saved data for symbol SHFSW to C:/Users/atlas/OneDrive/Desktop/usstock/SHFSW.csv\n",
      "Saved data for symbol SHG to C:/Users/atlas/OneDrive/Desktop/usstock/SHG.csv\n",
      "Saved data for symbol SHIM to C:/Users/atlas/OneDrive/Desktop/usstock/SHIM.csv\n",
      "Saved data for symbol SHIP to C:/Users/atlas/OneDrive/Desktop/usstock/SHIP.csv\n",
      "Saved data for symbol SHLS to C:/Users/atlas/OneDrive/Desktop/usstock/SHLS.csv\n",
      "Saved data for symbol SHLT to C:/Users/atlas/OneDrive/Desktop/usstock/SHLT.csv\n",
      "Saved data for symbol SHO to C:/Users/atlas/OneDrive/Desktop/usstock/SHO.csv\n"
     ]
    },
    {
     "name": "stderr",
     "output_type": "stream",
     "text": [
      "\n",
      "1 Failed download:\n",
      "['SHO^H']: Exception('%ticker%: No timezone found, symbol may be delisted')\n"
     ]
    },
    {
     "name": "stdout",
     "output_type": "stream",
     "text": [
      "Saved data for symbol SHO^H to C:/Users/atlas/OneDrive/Desktop/usstock/SHO^H.csv\n"
     ]
    },
    {
     "name": "stderr",
     "output_type": "stream",
     "text": [
      "\n",
      "1 Failed download:\n",
      "['SHO^I']: Exception('%ticker%: No timezone found, symbol may be delisted')\n"
     ]
    },
    {
     "name": "stdout",
     "output_type": "stream",
     "text": [
      "Saved data for symbol SHO^I to C:/Users/atlas/OneDrive/Desktop/usstock/SHO^I.csv\n",
      "Saved data for symbol SHOO to C:/Users/atlas/OneDrive/Desktop/usstock/SHOO.csv\n",
      "Saved data for symbol SHOP to C:/Users/atlas/OneDrive/Desktop/usstock/SHOP.csv\n",
      "Saved data for symbol SHOT to C:/Users/atlas/OneDrive/Desktop/usstock/SHOT.csv\n"
     ]
    },
    {
     "name": "stderr",
     "output_type": "stream",
     "text": [
      "\n",
      "1 Failed download:\n",
      "['SHOTW']: Exception('%ticker%: 1d data not available for startTime=-14831751840 and endTime=1713531768. Only 100 years worth of day granularity data are allowed to be fetched per request.')\n"
     ]
    },
    {
     "name": "stdout",
     "output_type": "stream",
     "text": [
      "Saved data for symbol SHOTW to C:/Users/atlas/OneDrive/Desktop/usstock/SHOTW.csv\n",
      "Saved data for symbol SHPH to C:/Users/atlas/OneDrive/Desktop/usstock/SHPH.csv\n",
      "Saved data for symbol SHPW to C:/Users/atlas/OneDrive/Desktop/usstock/SHPW.csv\n"
     ]
    },
    {
     "name": "stderr",
     "output_type": "stream",
     "text": [
      "\n",
      "1 Failed download:\n",
      "['SHPWW']: Exception('%ticker%: 1d data not available for startTime=-14831751840 and endTime=1713531770. Only 100 years worth of day granularity data are allowed to be fetched per request.')\n"
     ]
    },
    {
     "name": "stdout",
     "output_type": "stream",
     "text": [
      "Saved data for symbol SHPWW to C:/Users/atlas/OneDrive/Desktop/usstock/SHPWW.csv\n",
      "Saved data for symbol SHW to C:/Users/atlas/OneDrive/Desktop/usstock/SHW.csv\n",
      "Saved data for symbol SHYF to C:/Users/atlas/OneDrive/Desktop/usstock/SHYF.csv\n",
      "Saved data for symbol SIBN to C:/Users/atlas/OneDrive/Desktop/usstock/SIBN.csv\n",
      "Saved data for symbol SID to C:/Users/atlas/OneDrive/Desktop/usstock/SID.csv\n",
      "Saved data for symbol SIDU to C:/Users/atlas/OneDrive/Desktop/usstock/SIDU.csv\n",
      "Saved data for symbol SIEB to C:/Users/atlas/OneDrive/Desktop/usstock/SIEB.csv\n",
      "Saved data for symbol SIF to C:/Users/atlas/OneDrive/Desktop/usstock/SIF.csv\n",
      "Saved data for symbol SIFY to C:/Users/atlas/OneDrive/Desktop/usstock/SIFY.csv\n",
      "Saved data for symbol SIG to C:/Users/atlas/OneDrive/Desktop/usstock/SIG.csv\n",
      "Saved data for symbol SIGA to C:/Users/atlas/OneDrive/Desktop/usstock/SIGA.csv\n",
      "Saved data for symbol SIGI to C:/Users/atlas/OneDrive/Desktop/usstock/SIGI.csv\n",
      "Saved data for symbol SIGIP to C:/Users/atlas/OneDrive/Desktop/usstock/SIGIP.csv\n",
      "Saved data for symbol SII to C:/Users/atlas/OneDrive/Desktop/usstock/SII.csv\n",
      "Saved data for symbol SILC to C:/Users/atlas/OneDrive/Desktop/usstock/SILC.csv\n",
      "Saved data for symbol SILK to C:/Users/atlas/OneDrive/Desktop/usstock/SILK.csv\n",
      "Saved data for symbol SILO to C:/Users/atlas/OneDrive/Desktop/usstock/SILO.csv\n",
      "Saved data for symbol SILV to C:/Users/atlas/OneDrive/Desktop/usstock/SILV.csv\n",
      "Saved data for symbol SIM to C:/Users/atlas/OneDrive/Desktop/usstock/SIM.csv\n",
      "Saved data for symbol SIMO to C:/Users/atlas/OneDrive/Desktop/usstock/SIMO.csv\n",
      "Saved data for symbol SING to C:/Users/atlas/OneDrive/Desktop/usstock/SING.csv\n",
      "Saved data for symbol SINT to C:/Users/atlas/OneDrive/Desktop/usstock/SINT.csv\n",
      "Saved data for symbol SIRI to C:/Users/atlas/OneDrive/Desktop/usstock/SIRI.csv\n",
      "Saved data for symbol SISI to C:/Users/atlas/OneDrive/Desktop/usstock/SISI.csv\n",
      "Saved data for symbol SITC to C:/Users/atlas/OneDrive/Desktop/usstock/SITC.csv\n"
     ]
    },
    {
     "name": "stderr",
     "output_type": "stream",
     "text": [
      "\n",
      "1 Failed download:\n",
      "['SITC^A']: Exception('%ticker%: No timezone found, symbol may be delisted')\n"
     ]
    },
    {
     "name": "stdout",
     "output_type": "stream",
     "text": [
      "Saved data for symbol SITC^A to C:/Users/atlas/OneDrive/Desktop/usstock/SITC^A.csv\n",
      "Saved data for symbol SITE to C:/Users/atlas/OneDrive/Desktop/usstock/SITE.csv\n",
      "Saved data for symbol SITM to C:/Users/atlas/OneDrive/Desktop/usstock/SITM.csv\n",
      "Saved data for symbol SIX to C:/Users/atlas/OneDrive/Desktop/usstock/SIX.csv\n",
      "Saved data for symbol SJ to C:/Users/atlas/OneDrive/Desktop/usstock/SJ.csv\n",
      "Saved data for symbol SJM to C:/Users/atlas/OneDrive/Desktop/usstock/SJM.csv\n",
      "Saved data for symbol SJT to C:/Users/atlas/OneDrive/Desktop/usstock/SJT.csv\n",
      "Saved data for symbol SJW to C:/Users/atlas/OneDrive/Desktop/usstock/SJW.csv\n",
      "Saved data for symbol SKE to C:/Users/atlas/OneDrive/Desktop/usstock/SKE.csv\n",
      "Saved data for symbol SKGR to C:/Users/atlas/OneDrive/Desktop/usstock/SKGR.csv\n",
      "Saved data for symbol SKGRW to C:/Users/atlas/OneDrive/Desktop/usstock/SKGRW.csv\n",
      "Saved data for symbol SKIL to C:/Users/atlas/OneDrive/Desktop/usstock/SKIL.csv\n",
      "Saved data for symbol SKIN to C:/Users/atlas/OneDrive/Desktop/usstock/SKIN.csv\n",
      "Saved data for symbol SKLZ to C:/Users/atlas/OneDrive/Desktop/usstock/SKLZ.csv\n",
      "Saved data for symbol SKM to C:/Users/atlas/OneDrive/Desktop/usstock/SKM.csv\n",
      "Saved data for symbol SKT to C:/Users/atlas/OneDrive/Desktop/usstock/SKT.csv\n",
      "Saved data for symbol SKWD to C:/Users/atlas/OneDrive/Desktop/usstock/SKWD.csv\n",
      "Saved data for symbol SKX to C:/Users/atlas/OneDrive/Desktop/usstock/SKX.csv\n",
      "Saved data for symbol SKY to C:/Users/atlas/OneDrive/Desktop/usstock/SKY.csv\n",
      "Saved data for symbol SKYE to C:/Users/atlas/OneDrive/Desktop/usstock/SKYE.csv\n",
      "Saved data for symbol SKYH to C:/Users/atlas/OneDrive/Desktop/usstock/SKYH.csv\n",
      "Saved data for symbol SKYT to C:/Users/atlas/OneDrive/Desktop/usstock/SKYT.csv\n",
      "Saved data for symbol SKYW to C:/Users/atlas/OneDrive/Desktop/usstock/SKYW.csv\n",
      "Saved data for symbol SKYX to C:/Users/atlas/OneDrive/Desktop/usstock/SKYX.csv\n",
      "Saved data for symbol SLAB to C:/Users/atlas/OneDrive/Desktop/usstock/SLAB.csv\n",
      "Saved data for symbol SLAM to C:/Users/atlas/OneDrive/Desktop/usstock/SLAM.csv\n",
      "Saved data for symbol SLAMU to C:/Users/atlas/OneDrive/Desktop/usstock/SLAMU.csv\n"
     ]
    },
    {
     "name": "stderr",
     "output_type": "stream",
     "text": [
      "\n",
      "1 Failed download:\n",
      "['SLAMW']: Exception('%ticker%: 1d data not available for startTime=-14831751840 and endTime=1713531796. Only 100 years worth of day granularity data are allowed to be fetched per request.')\n"
     ]
    },
    {
     "name": "stdout",
     "output_type": "stream",
     "text": [
      "Saved data for symbol SLAMW to C:/Users/atlas/OneDrive/Desktop/usstock/SLAMW.csv\n",
      "Saved data for symbol SLB to C:/Users/atlas/OneDrive/Desktop/usstock/SLB.csv\n",
      "Saved data for symbol SLCA to C:/Users/atlas/OneDrive/Desktop/usstock/SLCA.csv\n",
      "Saved data for symbol SLDB to C:/Users/atlas/OneDrive/Desktop/usstock/SLDB.csv\n",
      "Saved data for symbol SLDP to C:/Users/atlas/OneDrive/Desktop/usstock/SLDP.csv\n"
     ]
    },
    {
     "name": "stderr",
     "output_type": "stream",
     "text": [
      "\n",
      "1 Failed download:\n",
      "['SLDPW']: Exception('%ticker%: 1d data not available for startTime=-14831751840 and endTime=1713531799. Only 100 years worth of day granularity data are allowed to be fetched per request.')\n"
     ]
    },
    {
     "name": "stdout",
     "output_type": "stream",
     "text": [
      "Saved data for symbol SLDPW to C:/Users/atlas/OneDrive/Desktop/usstock/SLDPW.csv\n",
      "Saved data for symbol SLE to C:/Users/atlas/OneDrive/Desktop/usstock/SLE.csv\n",
      "Saved data for symbol SLF to C:/Users/atlas/OneDrive/Desktop/usstock/SLF.csv\n",
      "Saved data for symbol SLG to C:/Users/atlas/OneDrive/Desktop/usstock/SLG.csv\n"
     ]
    },
    {
     "name": "stderr",
     "output_type": "stream",
     "text": [
      "\n",
      "1 Failed download:\n",
      "['SLG^I']: Exception('%ticker%: No timezone found, symbol may be delisted')\n"
     ]
    },
    {
     "name": "stdout",
     "output_type": "stream",
     "text": [
      "Saved data for symbol SLG^I to C:/Users/atlas/OneDrive/Desktop/usstock/SLG^I.csv\n",
      "Saved data for symbol SLGL to C:/Users/atlas/OneDrive/Desktop/usstock/SLGL.csv\n",
      "Saved data for symbol SLGN to C:/Users/atlas/OneDrive/Desktop/usstock/SLGN.csv\n",
      "Saved data for symbol SLI to C:/Users/atlas/OneDrive/Desktop/usstock/SLI.csv\n",
      "Saved data for symbol SLM to C:/Users/atlas/OneDrive/Desktop/usstock/SLM.csv\n",
      "Saved data for symbol SLMBP to C:/Users/atlas/OneDrive/Desktop/usstock/SLMBP.csv\n",
      "Saved data for symbol SLN to C:/Users/atlas/OneDrive/Desktop/usstock/SLN.csv\n",
      "Saved data for symbol SLNA to C:/Users/atlas/OneDrive/Desktop/usstock/SLNA.csv\n"
     ]
    },
    {
     "name": "stderr",
     "output_type": "stream",
     "text": [
      "\n",
      "1 Failed download:\n",
      "['SLNAW']: Exception('%ticker%: 1d data not available for startTime=-14831751840 and endTime=1713531808. Only 100 years worth of day granularity data are allowed to be fetched per request.')\n"
     ]
    },
    {
     "name": "stdout",
     "output_type": "stream",
     "text": [
      "Saved data for symbol SLNAW to C:/Users/atlas/OneDrive/Desktop/usstock/SLNAW.csv\n",
      "Saved data for symbol SLND to C:/Users/atlas/OneDrive/Desktop/usstock/SLND.csv\n",
      "Saved data for symbol SLNG to C:/Users/atlas/OneDrive/Desktop/usstock/SLNG.csv\n",
      "Saved data for symbol SLNH to C:/Users/atlas/OneDrive/Desktop/usstock/SLNH.csv\n",
      "Saved data for symbol SLNHP to C:/Users/atlas/OneDrive/Desktop/usstock/SLNHP.csv\n",
      "Saved data for symbol SLNO to C:/Users/atlas/OneDrive/Desktop/usstock/SLNO.csv\n",
      "Saved data for symbol SLP to C:/Users/atlas/OneDrive/Desktop/usstock/SLP.csv\n",
      "Saved data for symbol SLQT to C:/Users/atlas/OneDrive/Desktop/usstock/SLQT.csv\n",
      "Saved data for symbol SLRC to C:/Users/atlas/OneDrive/Desktop/usstock/SLRC.csv\n",
      "Saved data for symbol SLRN to C:/Users/atlas/OneDrive/Desktop/usstock/SLRN.csv\n",
      "Saved data for symbol SLRX to C:/Users/atlas/OneDrive/Desktop/usstock/SLRX.csv\n",
      "Saved data for symbol SLS to C:/Users/atlas/OneDrive/Desktop/usstock/SLS.csv\n",
      "Saved data for symbol SLVM to C:/Users/atlas/OneDrive/Desktop/usstock/SLVM.csv\n",
      "Saved data for symbol SM to C:/Users/atlas/OneDrive/Desktop/usstock/SM.csv\n",
      "Saved data for symbol SMAR to C:/Users/atlas/OneDrive/Desktop/usstock/SMAR.csv\n",
      "Saved data for symbol SMBC to C:/Users/atlas/OneDrive/Desktop/usstock/SMBC.csv\n",
      "Saved data for symbol SMBK to C:/Users/atlas/OneDrive/Desktop/usstock/SMBK.csv\n",
      "Saved data for symbol SMCI to C:/Users/atlas/OneDrive/Desktop/usstock/SMCI.csv\n",
      "Saved data for symbol SMFG to C:/Users/atlas/OneDrive/Desktop/usstock/SMFG.csv\n",
      "Saved data for symbol SMFL to C:/Users/atlas/OneDrive/Desktop/usstock/SMFL.csv\n",
      "Saved data for symbol SMG to C:/Users/atlas/OneDrive/Desktop/usstock/SMG.csv\n",
      "Saved data for symbol SMHI to C:/Users/atlas/OneDrive/Desktop/usstock/SMHI.csv\n",
      "Saved data for symbol SMID to C:/Users/atlas/OneDrive/Desktop/usstock/SMID.csv\n",
      "Saved data for symbol SMLP to C:/Users/atlas/OneDrive/Desktop/usstock/SMLP.csv\n",
      "Saved data for symbol SMLR to C:/Users/atlas/OneDrive/Desktop/usstock/SMLR.csv\n",
      "Saved data for symbol SMMF to C:/Users/atlas/OneDrive/Desktop/usstock/SMMF.csv\n",
      "Saved data for symbol SMMT to C:/Users/atlas/OneDrive/Desktop/usstock/SMMT.csv\n",
      "Saved data for symbol SMP to C:/Users/atlas/OneDrive/Desktop/usstock/SMP.csv\n",
      "Saved data for symbol SMPL to C:/Users/atlas/OneDrive/Desktop/usstock/SMPL.csv\n",
      "Saved data for symbol SMR to C:/Users/atlas/OneDrive/Desktop/usstock/SMR.csv\n",
      "Saved data for symbol SMRT to C:/Users/atlas/OneDrive/Desktop/usstock/SMRT.csv\n",
      "Saved data for symbol SMSI to C:/Users/atlas/OneDrive/Desktop/usstock/SMSI.csv\n",
      "Saved data for symbol SMTC to C:/Users/atlas/OneDrive/Desktop/usstock/SMTC.csv\n",
      "Saved data for symbol SMTI to C:/Users/atlas/OneDrive/Desktop/usstock/SMTI.csv\n",
      "Saved data for symbol SMWB to C:/Users/atlas/OneDrive/Desktop/usstock/SMWB.csv\n",
      "Saved data for symbol SMX to C:/Users/atlas/OneDrive/Desktop/usstock/SMX.csv\n",
      "Saved data for symbol SMXT to C:/Users/atlas/OneDrive/Desktop/usstock/SMXT.csv\n"
     ]
    },
    {
     "name": "stderr",
     "output_type": "stream",
     "text": [
      "\n",
      "1 Failed download:\n",
      "['SMXWW']: Exception('%ticker%: 1d data not available for startTime=-14831751840 and endTime=1713531825. Only 100 years worth of day granularity data are allowed to be fetched per request.')\n"
     ]
    },
    {
     "name": "stdout",
     "output_type": "stream",
     "text": [
      "Saved data for symbol SMXWW to C:/Users/atlas/OneDrive/Desktop/usstock/SMXWW.csv\n",
      "Saved data for symbol SN to C:/Users/atlas/OneDrive/Desktop/usstock/SN.csv\n",
      "Saved data for symbol SNA to C:/Users/atlas/OneDrive/Desktop/usstock/SNA.csv\n",
      "Saved data for symbol SNAL to C:/Users/atlas/OneDrive/Desktop/usstock/SNAL.csv\n",
      "Saved data for symbol SNAP to C:/Users/atlas/OneDrive/Desktop/usstock/SNAP.csv\n",
      "Saved data for symbol SNAX to C:/Users/atlas/OneDrive/Desktop/usstock/SNAX.csv\n"
     ]
    },
    {
     "name": "stderr",
     "output_type": "stream",
     "text": [
      "\n",
      "1 Failed download:\n",
      "['SNAXW']: Exception('%ticker%: 1d data not available for startTime=-14831751840 and endTime=1713531828. Only 100 years worth of day granularity data are allowed to be fetched per request.')\n"
     ]
    },
    {
     "name": "stdout",
     "output_type": "stream",
     "text": [
      "Saved data for symbol SNAXW to C:/Users/atlas/OneDrive/Desktop/usstock/SNAXW.csv\n",
      "Saved data for symbol SNBR to C:/Users/atlas/OneDrive/Desktop/usstock/SNBR.csv\n",
      "Saved data for symbol SNCR to C:/Users/atlas/OneDrive/Desktop/usstock/SNCR.csv\n",
      "Saved data for symbol SNCRL to C:/Users/atlas/OneDrive/Desktop/usstock/SNCRL.csv\n",
      "Saved data for symbol SNCY to C:/Users/atlas/OneDrive/Desktop/usstock/SNCY.csv\n",
      "Saved data for symbol SND to C:/Users/atlas/OneDrive/Desktop/usstock/SND.csv\n",
      "Saved data for symbol SNDA to C:/Users/atlas/OneDrive/Desktop/usstock/SNDA.csv\n",
      "Saved data for symbol SNDL to C:/Users/atlas/OneDrive/Desktop/usstock/SNDL.csv\n",
      "Saved data for symbol SNDR to C:/Users/atlas/OneDrive/Desktop/usstock/SNDR.csv\n",
      "Saved data for symbol SNDX to C:/Users/atlas/OneDrive/Desktop/usstock/SNDX.csv\n",
      "Saved data for symbol SNES to C:/Users/atlas/OneDrive/Desktop/usstock/SNES.csv\n",
      "Saved data for symbol SNEX to C:/Users/atlas/OneDrive/Desktop/usstock/SNEX.csv\n",
      "Saved data for symbol SNFCA to C:/Users/atlas/OneDrive/Desktop/usstock/SNFCA.csv\n",
      "Saved data for symbol SNGX to C:/Users/atlas/OneDrive/Desktop/usstock/SNGX.csv\n",
      "Saved data for symbol SNN to C:/Users/atlas/OneDrive/Desktop/usstock/SNN.csv\n",
      "Saved data for symbol SNOA to C:/Users/atlas/OneDrive/Desktop/usstock/SNOA.csv\n",
      "Saved data for symbol SNOW to C:/Users/atlas/OneDrive/Desktop/usstock/SNOW.csv\n",
      "Saved data for symbol SNPO to C:/Users/atlas/OneDrive/Desktop/usstock/SNPO.csv\n",
      "Saved data for symbol SNPS to C:/Users/atlas/OneDrive/Desktop/usstock/SNPS.csv\n",
      "Saved data for symbol SNPX to C:/Users/atlas/OneDrive/Desktop/usstock/SNPX.csv\n",
      "Saved data for symbol SNSE to C:/Users/atlas/OneDrive/Desktop/usstock/SNSE.csv\n",
      "Saved data for symbol SNT to C:/Users/atlas/OneDrive/Desktop/usstock/SNT.csv\n",
      "Saved data for symbol SNTG to C:/Users/atlas/OneDrive/Desktop/usstock/SNTG.csv\n",
      "Saved data for symbol SNTI to C:/Users/atlas/OneDrive/Desktop/usstock/SNTI.csv\n",
      "Saved data for symbol SNV to C:/Users/atlas/OneDrive/Desktop/usstock/SNV.csv\n"
     ]
    },
    {
     "name": "stderr",
     "output_type": "stream",
     "text": [
      "\n",
      "1 Failed download:\n",
      "['SNV^D']: Exception('%ticker%: No timezone found, symbol may be delisted')\n"
     ]
    },
    {
     "name": "stdout",
     "output_type": "stream",
     "text": [
      "Saved data for symbol SNV^D to C:/Users/atlas/OneDrive/Desktop/usstock/SNV^D.csv\n"
     ]
    },
    {
     "name": "stderr",
     "output_type": "stream",
     "text": [
      "\n",
      "1 Failed download:\n",
      "['SNV^E']: Exception('%ticker%: No timezone found, symbol may be delisted')\n"
     ]
    },
    {
     "name": "stdout",
     "output_type": "stream",
     "text": [
      "Saved data for symbol SNV^E to C:/Users/atlas/OneDrive/Desktop/usstock/SNV^E.csv\n",
      "Saved data for symbol SNX to C:/Users/atlas/OneDrive/Desktop/usstock/SNX.csv\n",
      "Saved data for symbol SNY to C:/Users/atlas/OneDrive/Desktop/usstock/SNY.csv\n",
      "Saved data for symbol SO to C:/Users/atlas/OneDrive/Desktop/usstock/SO.csv\n",
      "Saved data for symbol SOAR to C:/Users/atlas/OneDrive/Desktop/usstock/SOAR.csv\n",
      "Saved data for symbol SOBR to C:/Users/atlas/OneDrive/Desktop/usstock/SOBR.csv\n",
      "Saved data for symbol SOC to C:/Users/atlas/OneDrive/Desktop/usstock/SOC.csv\n",
      "Saved data for symbol SOFI to C:/Users/atlas/OneDrive/Desktop/usstock/SOFI.csv\n",
      "Saved data for symbol SOGP to C:/Users/atlas/OneDrive/Desktop/usstock/SOGP.csv\n",
      "Saved data for symbol SOHO to C:/Users/atlas/OneDrive/Desktop/usstock/SOHO.csv\n",
      "Saved data for symbol SOHOB to C:/Users/atlas/OneDrive/Desktop/usstock/SOHOB.csv\n",
      "Saved data for symbol SOHON to C:/Users/atlas/OneDrive/Desktop/usstock/SOHON.csv\n",
      "Saved data for symbol SOHOO to C:/Users/atlas/OneDrive/Desktop/usstock/SOHOO.csv\n",
      "Saved data for symbol SOHU to C:/Users/atlas/OneDrive/Desktop/usstock/SOHU.csv\n",
      "Saved data for symbol SOI to C:/Users/atlas/OneDrive/Desktop/usstock/SOI.csv\n",
      "Saved data for symbol SOJC to C:/Users/atlas/OneDrive/Desktop/usstock/SOJC.csv\n",
      "Saved data for symbol SOJD to C:/Users/atlas/OneDrive/Desktop/usstock/SOJD.csv\n",
      "Saved data for symbol SOJE to C:/Users/atlas/OneDrive/Desktop/usstock/SOJE.csv\n",
      "Saved data for symbol SOL to C:/Users/atlas/OneDrive/Desktop/usstock/SOL.csv\n",
      "Saved data for symbol SOLV to C:/Users/atlas/OneDrive/Desktop/usstock/SOLV.csv\n",
      "Saved data for symbol SON to C:/Users/atlas/OneDrive/Desktop/usstock/SON.csv\n",
      "Saved data for symbol SOND to C:/Users/atlas/OneDrive/Desktop/usstock/SOND.csv\n"
     ]
    },
    {
     "name": "stderr",
     "output_type": "stream",
     "text": [
      "\n",
      "1 Failed download:\n",
      "['SONDW']: Exception('%ticker%: 1d data not available for startTime=-14831751840 and endTime=1713531852. Only 100 years worth of day granularity data are allowed to be fetched per request.')\n"
     ]
    },
    {
     "name": "stdout",
     "output_type": "stream",
     "text": [
      "Saved data for symbol SONDW to C:/Users/atlas/OneDrive/Desktop/usstock/SONDW.csv\n",
      "Saved data for symbol SONM to C:/Users/atlas/OneDrive/Desktop/usstock/SONM.csv\n",
      "Saved data for symbol SONN to C:/Users/atlas/OneDrive/Desktop/usstock/SONN.csv\n",
      "Saved data for symbol SONO to C:/Users/atlas/OneDrive/Desktop/usstock/SONO.csv\n",
      "Saved data for symbol SONY to C:/Users/atlas/OneDrive/Desktop/usstock/SONY.csv\n",
      "Saved data for symbol SOPA to C:/Users/atlas/OneDrive/Desktop/usstock/SOPA.csv\n",
      "Saved data for symbol SOPH to C:/Users/atlas/OneDrive/Desktop/usstock/SOPH.csv\n",
      "Saved data for symbol SOR to C:/Users/atlas/OneDrive/Desktop/usstock/SOR.csv\n",
      "Saved data for symbol SOS to C:/Users/atlas/OneDrive/Desktop/usstock/SOS.csv\n",
      "Saved data for symbol SOTK to C:/Users/atlas/OneDrive/Desktop/usstock/SOTK.csv\n",
      "Saved data for symbol SOUN to C:/Users/atlas/OneDrive/Desktop/usstock/SOUN.csv\n"
     ]
    },
    {
     "name": "stderr",
     "output_type": "stream",
     "text": [
      "\n",
      "1 Failed download:\n",
      "['SOUNW']: Exception('%ticker%: 1d data not available for startTime=-14831751840 and endTime=1713531858. Only 100 years worth of day granularity data are allowed to be fetched per request.')\n"
     ]
    },
    {
     "name": "stdout",
     "output_type": "stream",
     "text": [
      "Saved data for symbol SOUNW to C:/Users/atlas/OneDrive/Desktop/usstock/SOUNW.csv\n",
      "Saved data for symbol SP to C:/Users/atlas/OneDrive/Desktop/usstock/SP.csv\n",
      "Saved data for symbol SPB to C:/Users/atlas/OneDrive/Desktop/usstock/SPB.csv\n",
      "Saved data for symbol SPCB to C:/Users/atlas/OneDrive/Desktop/usstock/SPCB.csv\n",
      "Saved data for symbol SPCE to C:/Users/atlas/OneDrive/Desktop/usstock/SPCE.csv\n",
      "Saved data for symbol SPE to C:/Users/atlas/OneDrive/Desktop/usstock/SPE.csv\n"
     ]
    },
    {
     "name": "stderr",
     "output_type": "stream",
     "text": [
      "\n",
      "1 Failed download:\n",
      "['SPE^C']: Exception('%ticker%: No timezone found, symbol may be delisted')\n"
     ]
    },
    {
     "name": "stdout",
     "output_type": "stream",
     "text": [
      "Saved data for symbol SPE^C to C:/Users/atlas/OneDrive/Desktop/usstock/SPE^C.csv\n",
      "Saved data for symbol SPEC to C:/Users/atlas/OneDrive/Desktop/usstock/SPEC.csv\n"
     ]
    },
    {
     "name": "stderr",
     "output_type": "stream",
     "text": [
      "\n",
      "1 Failed download:\n",
      "['SPECW']: Exception('%ticker%: 1d data not available for startTime=-14831751840 and endTime=1713531866. Only 100 years worth of day granularity data are allowed to be fetched per request.')\n"
     ]
    },
    {
     "name": "stdout",
     "output_type": "stream",
     "text": [
      "Saved data for symbol SPECW to C:/Users/atlas/OneDrive/Desktop/usstock/SPECW.csv\n",
      "Saved data for symbol SPFI to C:/Users/atlas/OneDrive/Desktop/usstock/SPFI.csv\n",
      "Saved data for symbol SPG to C:/Users/atlas/OneDrive/Desktop/usstock/SPG.csv\n"
     ]
    },
    {
     "name": "stderr",
     "output_type": "stream",
     "text": [
      "\n",
      "1 Failed download:\n",
      "['SPG^J']: Exception('%ticker%: No timezone found, symbol may be delisted')\n"
     ]
    },
    {
     "name": "stdout",
     "output_type": "stream",
     "text": [
      "Saved data for symbol SPG^J to C:/Users/atlas/OneDrive/Desktop/usstock/SPG^J.csv\n",
      "Saved data for symbol SPGC to C:/Users/atlas/OneDrive/Desktop/usstock/SPGC.csv\n",
      "Saved data for symbol SPGI to C:/Users/atlas/OneDrive/Desktop/usstock/SPGI.csv\n",
      "Saved data for symbol SPH to C:/Users/atlas/OneDrive/Desktop/usstock/SPH.csv\n",
      "Saved data for symbol SPHR to C:/Users/atlas/OneDrive/Desktop/usstock/SPHR.csv\n",
      "Saved data for symbol SPI to C:/Users/atlas/OneDrive/Desktop/usstock/SPI.csv\n",
      "Saved data for symbol SPIR to C:/Users/atlas/OneDrive/Desktop/usstock/SPIR.csv\n",
      "Saved data for symbol SPKL to C:/Users/atlas/OneDrive/Desktop/usstock/SPKL.csv\n",
      "Saved data for symbol SPLP to C:/Users/atlas/OneDrive/Desktop/usstock/SPLP.csv\n"
     ]
    },
    {
     "name": "stderr",
     "output_type": "stream",
     "text": [
      "\n",
      "1 Failed download:\n",
      "['SPLP^A']: Exception('%ticker%: No timezone found, symbol may be delisted')\n"
     ]
    },
    {
     "name": "stdout",
     "output_type": "stream",
     "text": [
      "Saved data for symbol SPLP^A to C:/Users/atlas/OneDrive/Desktop/usstock/SPLP^A.csv\n",
      "Saved data for symbol SPNS to C:/Users/atlas/OneDrive/Desktop/usstock/SPNS.csv\n",
      "Saved data for symbol SPNT to C:/Users/atlas/OneDrive/Desktop/usstock/SPNT.csv\n"
     ]
    },
    {
     "name": "stderr",
     "output_type": "stream",
     "text": [
      "\n",
      "1 Failed download:\n",
      "['SPNT^B']: Exception('%ticker%: No timezone found, symbol may be delisted')\n"
     ]
    },
    {
     "name": "stdout",
     "output_type": "stream",
     "text": [
      "Saved data for symbol SPNT^B to C:/Users/atlas/OneDrive/Desktop/usstock/SPNT^B.csv\n",
      "Saved data for symbol SPOK to C:/Users/atlas/OneDrive/Desktop/usstock/SPOK.csv\n",
      "Saved data for symbol SPOT to C:/Users/atlas/OneDrive/Desktop/usstock/SPOT.csv\n",
      "Saved data for symbol SPPL to C:/Users/atlas/OneDrive/Desktop/usstock/SPPL.csv\n",
      "Saved data for symbol SPR to C:/Users/atlas/OneDrive/Desktop/usstock/SPR.csv\n",
      "Saved data for symbol SPRB to C:/Users/atlas/OneDrive/Desktop/usstock/SPRB.csv\n",
      "Saved data for symbol SPRC to C:/Users/atlas/OneDrive/Desktop/usstock/SPRC.csv\n",
      "Saved data for symbol SPRO to C:/Users/atlas/OneDrive/Desktop/usstock/SPRO.csv\n",
      "Saved data for symbol SPRU to C:/Users/atlas/OneDrive/Desktop/usstock/SPRU.csv\n",
      "Saved data for symbol SPRY to C:/Users/atlas/OneDrive/Desktop/usstock/SPRY.csv\n",
      "Saved data for symbol SPSC to C:/Users/atlas/OneDrive/Desktop/usstock/SPSC.csv\n",
      "Saved data for symbol SPT to C:/Users/atlas/OneDrive/Desktop/usstock/SPT.csv\n",
      "Saved data for symbol SPTN to C:/Users/atlas/OneDrive/Desktop/usstock/SPTN.csv\n",
      "Saved data for symbol SPWH to C:/Users/atlas/OneDrive/Desktop/usstock/SPWH.csv\n",
      "Saved data for symbol SPWR to C:/Users/atlas/OneDrive/Desktop/usstock/SPWR.csv\n",
      "Saved data for symbol SPXC to C:/Users/atlas/OneDrive/Desktop/usstock/SPXC.csv\n",
      "Saved data for symbol SPXX to C:/Users/atlas/OneDrive/Desktop/usstock/SPXX.csv\n",
      "Saved data for symbol SQ to C:/Users/atlas/OneDrive/Desktop/usstock/SQ.csv\n",
      "Saved data for symbol SQFT to C:/Users/atlas/OneDrive/Desktop/usstock/SQFT.csv\n",
      "Saved data for symbol SQFTP to C:/Users/atlas/OneDrive/Desktop/usstock/SQFTP.csv\n"
     ]
    },
    {
     "name": "stderr",
     "output_type": "stream",
     "text": [
      "\n",
      "1 Failed download:\n",
      "['SQFTW']: Exception('%ticker%: 1d data not available for startTime=-14831751840 and endTime=1713531886. Only 100 years worth of day granularity data are allowed to be fetched per request.')\n"
     ]
    },
    {
     "name": "stdout",
     "output_type": "stream",
     "text": [
      "Saved data for symbol SQFTW to C:/Users/atlas/OneDrive/Desktop/usstock/SQFTW.csv\n",
      "Saved data for symbol SQM to C:/Users/atlas/OneDrive/Desktop/usstock/SQM.csv\n",
      "Saved data for symbol SQNS to C:/Users/atlas/OneDrive/Desktop/usstock/SQNS.csv\n",
      "Saved data for symbol SQSP to C:/Users/atlas/OneDrive/Desktop/usstock/SQSP.csv\n",
      "Saved data for symbol SR to C:/Users/atlas/OneDrive/Desktop/usstock/SR.csv\n"
     ]
    },
    {
     "name": "stderr",
     "output_type": "stream",
     "text": [
      "\n",
      "1 Failed download:\n",
      "['SR^A']: Exception('%ticker%: No timezone found, symbol may be delisted')\n"
     ]
    },
    {
     "name": "stdout",
     "output_type": "stream",
     "text": [
      "Saved data for symbol SR^A to C:/Users/atlas/OneDrive/Desktop/usstock/SR^A.csv\n",
      "Saved data for symbol SRAD to C:/Users/atlas/OneDrive/Desktop/usstock/SRAD.csv\n",
      "Saved data for symbol SRBK to C:/Users/atlas/OneDrive/Desktop/usstock/SRBK.csv\n",
      "Saved data for symbol SRCE to C:/Users/atlas/OneDrive/Desktop/usstock/SRCE.csv\n",
      "Saved data for symbol SRCL to C:/Users/atlas/OneDrive/Desktop/usstock/SRCL.csv\n",
      "Saved data for symbol SRDX to C:/Users/atlas/OneDrive/Desktop/usstock/SRDX.csv\n",
      "Saved data for symbol SRE to C:/Users/atlas/OneDrive/Desktop/usstock/SRE.csv\n",
      "Saved data for symbol SREA to C:/Users/atlas/OneDrive/Desktop/usstock/SREA.csv\n",
      "Saved data for symbol SRFM to C:/Users/atlas/OneDrive/Desktop/usstock/SRFM.csv\n",
      "Saved data for symbol SRG to C:/Users/atlas/OneDrive/Desktop/usstock/SRG.csv\n"
     ]
    },
    {
     "name": "stderr",
     "output_type": "stream",
     "text": [
      "\n",
      "1 Failed download:\n",
      "['SRG^A']: Exception('%ticker%: No timezone found, symbol may be delisted')\n"
     ]
    },
    {
     "name": "stdout",
     "output_type": "stream",
     "text": [
      "Saved data for symbol SRG^A to C:/Users/atlas/OneDrive/Desktop/usstock/SRG^A.csv\n",
      "Saved data for symbol SRI to C:/Users/atlas/OneDrive/Desktop/usstock/SRI.csv\n",
      "Saved data for symbol SRL to C:/Users/atlas/OneDrive/Desktop/usstock/SRL.csv\n",
      "Saved data for symbol SRM to C:/Users/atlas/OneDrive/Desktop/usstock/SRM.csv\n",
      "Saved data for symbol SRPT to C:/Users/atlas/OneDrive/Desktop/usstock/SRPT.csv\n",
      "Saved data for symbol SRRK to C:/Users/atlas/OneDrive/Desktop/usstock/SRRK.csv\n",
      "Saved data for symbol SRTS to C:/Users/atlas/OneDrive/Desktop/usstock/SRTS.csv\n",
      "Saved data for symbol SRV to C:/Users/atlas/OneDrive/Desktop/usstock/SRV.csv\n",
      "Saved data for symbol SRZN to C:/Users/atlas/OneDrive/Desktop/usstock/SRZN.csv\n"
     ]
    },
    {
     "name": "stderr",
     "output_type": "stream",
     "text": [
      "\n",
      "1 Failed download:\n",
      "['SRZNW']: Exception('%ticker%: 1d data not available for startTime=-14831751840 and endTime=1713531900. Only 100 years worth of day granularity data are allowed to be fetched per request.')\n"
     ]
    },
    {
     "name": "stdout",
     "output_type": "stream",
     "text": [
      "Saved data for symbol SRZNW to C:/Users/atlas/OneDrive/Desktop/usstock/SRZNW.csv\n",
      "Saved data for symbol SSB to C:/Users/atlas/OneDrive/Desktop/usstock/SSB.csv\n",
      "Saved data for symbol SSBI to C:/Users/atlas/OneDrive/Desktop/usstock/SSBI.csv\n",
      "Saved data for symbol SSBK to C:/Users/atlas/OneDrive/Desktop/usstock/SSBK.csv\n",
      "Saved data for symbol SSD to C:/Users/atlas/OneDrive/Desktop/usstock/SSD.csv\n",
      "Saved data for symbol SSIC to C:/Users/atlas/OneDrive/Desktop/usstock/SSIC.csv\n",
      "Saved data for symbol SSKN to C:/Users/atlas/OneDrive/Desktop/usstock/SSKN.csv\n",
      "Saved data for symbol SSL to C:/Users/atlas/OneDrive/Desktop/usstock/SSL.csv\n",
      "Saved data for symbol SSNC to C:/Users/atlas/OneDrive/Desktop/usstock/SSNC.csv\n",
      "Saved data for symbol SSNT to C:/Users/atlas/OneDrive/Desktop/usstock/SSNT.csv\n",
      "Saved data for symbol SSP to C:/Users/atlas/OneDrive/Desktop/usstock/SSP.csv\n",
      "Saved data for symbol SSRM to C:/Users/atlas/OneDrive/Desktop/usstock/SSRM.csv\n",
      "Saved data for symbol SSSS to C:/Users/atlas/OneDrive/Desktop/usstock/SSSS.csv\n",
      "Saved data for symbol SSSSL to C:/Users/atlas/OneDrive/Desktop/usstock/SSSSL.csv\n",
      "Saved data for symbol SST to C:/Users/atlas/OneDrive/Desktop/usstock/SST.csv\n",
      "Saved data for symbol SSTI to C:/Users/atlas/OneDrive/Desktop/usstock/SSTI.csv\n",
      "Saved data for symbol SSTK to C:/Users/atlas/OneDrive/Desktop/usstock/SSTK.csv\n",
      "Saved data for symbol SSY to C:/Users/atlas/OneDrive/Desktop/usstock/SSY.csv\n",
      "Saved data for symbol SSYS to C:/Users/atlas/OneDrive/Desktop/usstock/SSYS.csv\n",
      "Saved data for symbol ST to C:/Users/atlas/OneDrive/Desktop/usstock/ST.csv\n",
      "Saved data for symbol STAA to C:/Users/atlas/OneDrive/Desktop/usstock/STAA.csv\n",
      "Saved data for symbol STAF to C:/Users/atlas/OneDrive/Desktop/usstock/STAF.csv\n",
      "Saved data for symbol STAG to C:/Users/atlas/OneDrive/Desktop/usstock/STAG.csv\n",
      "Saved data for symbol STBA to C:/Users/atlas/OneDrive/Desktop/usstock/STBA.csv\n",
      "Saved data for symbol STBX to C:/Users/atlas/OneDrive/Desktop/usstock/STBX.csv\n",
      "Saved data for symbol STC to C:/Users/atlas/OneDrive/Desktop/usstock/STC.csv\n",
      "Saved data for symbol STCN to C:/Users/atlas/OneDrive/Desktop/usstock/STCN.csv\n",
      "Saved data for symbol STE to C:/Users/atlas/OneDrive/Desktop/usstock/STE.csv\n",
      "Saved data for symbol STEL to C:/Users/atlas/OneDrive/Desktop/usstock/STEL.csv\n",
      "Saved data for symbol STEM to C:/Users/atlas/OneDrive/Desktop/usstock/STEM.csv\n",
      "Saved data for symbol STEP to C:/Users/atlas/OneDrive/Desktop/usstock/STEP.csv\n",
      "Saved data for symbol STER to C:/Users/atlas/OneDrive/Desktop/usstock/STER.csv\n",
      "Saved data for symbol STEW to C:/Users/atlas/OneDrive/Desktop/usstock/STEW.csv\n",
      "Saved data for symbol STG to C:/Users/atlas/OneDrive/Desktop/usstock/STG.csv\n",
      "Saved data for symbol STGW to C:/Users/atlas/OneDrive/Desktop/usstock/STGW.csv\n",
      "Saved data for symbol STHO to C:/Users/atlas/OneDrive/Desktop/usstock/STHO.csv\n",
      "Saved data for symbol STI to C:/Users/atlas/OneDrive/Desktop/usstock/STI.csv\n",
      "Saved data for symbol STIM to C:/Users/atlas/OneDrive/Desktop/usstock/STIM.csv\n",
      "Saved data for symbol STK to C:/Users/atlas/OneDrive/Desktop/usstock/STK.csv\n",
      "Saved data for symbol STKH to C:/Users/atlas/OneDrive/Desktop/usstock/STKH.csv\n",
      "Saved data for symbol STKL to C:/Users/atlas/OneDrive/Desktop/usstock/STKL.csv\n",
      "Saved data for symbol STKS to C:/Users/atlas/OneDrive/Desktop/usstock/STKS.csv\n",
      "Saved data for symbol STLA to C:/Users/atlas/OneDrive/Desktop/usstock/STLA.csv\n",
      "Saved data for symbol STLD to C:/Users/atlas/OneDrive/Desktop/usstock/STLD.csv\n",
      "Saved data for symbol STM to C:/Users/atlas/OneDrive/Desktop/usstock/STM.csv\n",
      "Saved data for symbol STN to C:/Users/atlas/OneDrive/Desktop/usstock/STN.csv\n",
      "Saved data for symbol STNE to C:/Users/atlas/OneDrive/Desktop/usstock/STNE.csv\n",
      "Saved data for symbol STNG to C:/Users/atlas/OneDrive/Desktop/usstock/STNG.csv\n",
      "Saved data for symbol STOK to C:/Users/atlas/OneDrive/Desktop/usstock/STOK.csv\n",
      "Saved data for symbol STR to C:/Users/atlas/OneDrive/Desktop/usstock/STR.csv\n",
      "Saved data for symbol STRA to C:/Users/atlas/OneDrive/Desktop/usstock/STRA.csv\n",
      "Saved data for symbol STRL to C:/Users/atlas/OneDrive/Desktop/usstock/STRL.csv\n",
      "Saved data for symbol STRM to C:/Users/atlas/OneDrive/Desktop/usstock/STRM.csv\n",
      "Saved data for symbol STRO to C:/Users/atlas/OneDrive/Desktop/usstock/STRO.csv\n",
      "Saved data for symbol STRR to C:/Users/atlas/OneDrive/Desktop/usstock/STRR.csv\n",
      "Saved data for symbol STRRP to C:/Users/atlas/OneDrive/Desktop/usstock/STRRP.csv\n",
      "Saved data for symbol STRS to C:/Users/atlas/OneDrive/Desktop/usstock/STRS.csv\n",
      "Saved data for symbol STRT to C:/Users/atlas/OneDrive/Desktop/usstock/STRT.csv\n",
      "Saved data for symbol STRW to C:/Users/atlas/OneDrive/Desktop/usstock/STRW.csv\n",
      "Saved data for symbol STSS to C:/Users/atlas/OneDrive/Desktop/usstock/STSS.csv\n"
     ]
    },
    {
     "name": "stderr",
     "output_type": "stream",
     "text": [
      "\n",
      "1 Failed download:\n",
      "['STSSW']: Exception('%ticker%: 1d data not available for startTime=-14831751840 and endTime=1713531925. Only 100 years worth of day granularity data are allowed to be fetched per request.')\n"
     ]
    },
    {
     "name": "stdout",
     "output_type": "stream",
     "text": [
      "Saved data for symbol STSSW to C:/Users/atlas/OneDrive/Desktop/usstock/STSSW.csv\n",
      "Saved data for symbol STT to C:/Users/atlas/OneDrive/Desktop/usstock/STT.csv\n"
     ]
    },
    {
     "name": "stderr",
     "output_type": "stream",
     "text": [
      "\n",
      "1 Failed download:\n",
      "['STT^G']: Exception('%ticker%: No timezone found, symbol may be delisted')\n"
     ]
    },
    {
     "name": "stdout",
     "output_type": "stream",
     "text": [
      "Saved data for symbol STT^G to C:/Users/atlas/OneDrive/Desktop/usstock/STT^G.csv\n",
      "Saved data for symbol STTK to C:/Users/atlas/OneDrive/Desktop/usstock/STTK.csv\n",
      "Saved data for symbol STVN to C:/Users/atlas/OneDrive/Desktop/usstock/STVN.csv\n",
      "Saved data for symbol STWD to C:/Users/atlas/OneDrive/Desktop/usstock/STWD.csv\n",
      "Saved data for symbol STX to C:/Users/atlas/OneDrive/Desktop/usstock/STX.csv\n",
      "Saved data for symbol STXS to C:/Users/atlas/OneDrive/Desktop/usstock/STXS.csv\n",
      "Saved data for symbol STZ to C:/Users/atlas/OneDrive/Desktop/usstock/STZ.csv\n",
      "Saved data for symbol SU to C:/Users/atlas/OneDrive/Desktop/usstock/SU.csv\n",
      "Saved data for symbol SUGP to C:/Users/atlas/OneDrive/Desktop/usstock/SUGP.csv\n",
      "Saved data for symbol SUI to C:/Users/atlas/OneDrive/Desktop/usstock/SUI.csv\n",
      "Saved data for symbol SUM to C:/Users/atlas/OneDrive/Desktop/usstock/SUM.csv\n",
      "Saved data for symbol SUN to C:/Users/atlas/OneDrive/Desktop/usstock/SUN.csv\n",
      "Saved data for symbol SUP to C:/Users/atlas/OneDrive/Desktop/usstock/SUP.csv\n",
      "Saved data for symbol SUPN to C:/Users/atlas/OneDrive/Desktop/usstock/SUPN.csv\n",
      "Saved data for symbol SUPV to C:/Users/atlas/OneDrive/Desktop/usstock/SUPV.csv\n",
      "Saved data for symbol SURG to C:/Users/atlas/OneDrive/Desktop/usstock/SURG.csv\n"
     ]
    },
    {
     "name": "stderr",
     "output_type": "stream",
     "text": [
      "\n",
      "1 Failed download:\n",
      "['SURGW']: Exception('%ticker%: 1d data not available for startTime=-14831751840 and endTime=1713531938. Only 100 years worth of day granularity data are allowed to be fetched per request.')\n"
     ]
    },
    {
     "name": "stdout",
     "output_type": "stream",
     "text": [
      "Saved data for symbol SURGW to C:/Users/atlas/OneDrive/Desktop/usstock/SURGW.csv\n",
      "Saved data for symbol SUUN to C:/Users/atlas/OneDrive/Desktop/usstock/SUUN.csv\n",
      "Saved data for symbol SUZ to C:/Users/atlas/OneDrive/Desktop/usstock/SUZ.csv\n",
      "Saved data for symbol SVC to C:/Users/atlas/OneDrive/Desktop/usstock/SVC.csv\n",
      "Saved data for symbol SVII to C:/Users/atlas/OneDrive/Desktop/usstock/SVII.csv\n"
     ]
    },
    {
     "name": "stderr",
     "output_type": "stream",
     "text": [
      "\n",
      "1 Failed download:\n",
      "['SVIIW']: Exception('%ticker%: 1d data not available for startTime=-14831751840 and endTime=1713531940. Only 100 years worth of day granularity data are allowed to be fetched per request.')\n"
     ]
    },
    {
     "name": "stdout",
     "output_type": "stream",
     "text": [
      "Saved data for symbol SVIIW to C:/Users/atlas/OneDrive/Desktop/usstock/SVIIW.csv\n",
      "Saved data for symbol SVM to C:/Users/atlas/OneDrive/Desktop/usstock/SVM.csv\n",
      "Saved data for symbol SVMH to C:/Users/atlas/OneDrive/Desktop/usstock/SVMH.csv\n",
      "Saved data for symbol SVRA to C:/Users/atlas/OneDrive/Desktop/usstock/SVRA.csv\n",
      "Saved data for symbol SVRE to C:/Users/atlas/OneDrive/Desktop/usstock/SVRE.csv\n",
      "Saved data for symbol SVT to C:/Users/atlas/OneDrive/Desktop/usstock/SVT.csv\n",
      "Saved data for symbol SVV to C:/Users/atlas/OneDrive/Desktop/usstock/SVV.csv\n",
      "Saved data for symbol SWAG to C:/Users/atlas/OneDrive/Desktop/usstock/SWAG.csv\n"
     ]
    },
    {
     "name": "stderr",
     "output_type": "stream",
     "text": [
      "\n",
      "1 Failed download:\n",
      "['SWAGW']: Exception('%ticker%: 1d data not available for startTime=-14831751840 and endTime=1713531944. Only 100 years worth of day granularity data are allowed to be fetched per request.')\n"
     ]
    },
    {
     "name": "stdout",
     "output_type": "stream",
     "text": [
      "Saved data for symbol SWAGW to C:/Users/atlas/OneDrive/Desktop/usstock/SWAGW.csv\n",
      "Saved data for symbol SWAV to C:/Users/atlas/OneDrive/Desktop/usstock/SWAV.csv\n",
      "Saved data for symbol SWBI to C:/Users/atlas/OneDrive/Desktop/usstock/SWBI.csv\n",
      "Saved data for symbol SWI to C:/Users/atlas/OneDrive/Desktop/usstock/SWI.csv\n",
      "Saved data for symbol SWIM to C:/Users/atlas/OneDrive/Desktop/usstock/SWIM.csv\n",
      "Saved data for symbol SWIN to C:/Users/atlas/OneDrive/Desktop/usstock/SWIN.csv\n",
      "Saved data for symbol SWK to C:/Users/atlas/OneDrive/Desktop/usstock/SWK.csv\n",
      "Saved data for symbol SWKH to C:/Users/atlas/OneDrive/Desktop/usstock/SWKH.csv\n",
      "Saved data for symbol SWKHL to C:/Users/atlas/OneDrive/Desktop/usstock/SWKHL.csv\n",
      "Saved data for symbol SWKS to C:/Users/atlas/OneDrive/Desktop/usstock/SWKS.csv\n",
      "Saved data for symbol SWN to C:/Users/atlas/OneDrive/Desktop/usstock/SWN.csv\n",
      "Saved data for symbol SWSS to C:/Users/atlas/OneDrive/Desktop/usstock/SWSS.csv\n"
     ]
    },
    {
     "name": "stderr",
     "output_type": "stream",
     "text": [
      "\n",
      "1 Failed download:\n",
      "['SWSSW']: Exception('%ticker%: 1d data not available for startTime=-14831751840 and endTime=1713531951. Only 100 years worth of day granularity data are allowed to be fetched per request.')\n"
     ]
    },
    {
     "name": "stdout",
     "output_type": "stream",
     "text": [
      "Saved data for symbol SWSSW to C:/Users/atlas/OneDrive/Desktop/usstock/SWSSW.csv\n",
      "Saved data for symbol SWTX to C:/Users/atlas/OneDrive/Desktop/usstock/SWTX.csv\n",
      "Saved data for symbol SWVL to C:/Users/atlas/OneDrive/Desktop/usstock/SWVL.csv\n"
     ]
    },
    {
     "name": "stderr",
     "output_type": "stream",
     "text": [
      "\n",
      "1 Failed download:\n",
      "['SWVLW']: Exception('%ticker%: 1d data not available for startTime=-14831751840 and endTime=1713531953. Only 100 years worth of day granularity data are allowed to be fetched per request.')\n"
     ]
    },
    {
     "name": "stdout",
     "output_type": "stream",
     "text": [
      "Saved data for symbol SWVLW to C:/Users/atlas/OneDrive/Desktop/usstock/SWVLW.csv\n",
      "Saved data for symbol SWX to C:/Users/atlas/OneDrive/Desktop/usstock/SWX.csv\n",
      "Saved data for symbol SWZ to C:/Users/atlas/OneDrive/Desktop/usstock/SWZ.csv\n",
      "Saved data for symbol SXC to C:/Users/atlas/OneDrive/Desktop/usstock/SXC.csv\n",
      "Saved data for symbol SXI to C:/Users/atlas/OneDrive/Desktop/usstock/SXI.csv\n",
      "Saved data for symbol SXT to C:/Users/atlas/OneDrive/Desktop/usstock/SXT.csv\n",
      "Saved data for symbol SXTC to C:/Users/atlas/OneDrive/Desktop/usstock/SXTC.csv\n",
      "Saved data for symbol SXTP to C:/Users/atlas/OneDrive/Desktop/usstock/SXTP.csv\n",
      "Saved data for symbol SY to C:/Users/atlas/OneDrive/Desktop/usstock/SY.csv\n",
      "Saved data for symbol SYBT to C:/Users/atlas/OneDrive/Desktop/usstock/SYBT.csv\n",
      "Saved data for symbol SYBX to C:/Users/atlas/OneDrive/Desktop/usstock/SYBX.csv\n",
      "Saved data for symbol SYF to C:/Users/atlas/OneDrive/Desktop/usstock/SYF.csv\n"
     ]
    },
    {
     "name": "stderr",
     "output_type": "stream",
     "text": [
      "\n",
      "1 Failed download:\n",
      "['SYF^A']: Exception('%ticker%: No timezone found, symbol may be delisted')\n"
     ]
    },
    {
     "name": "stdout",
     "output_type": "stream",
     "text": [
      "Saved data for symbol SYF^A to C:/Users/atlas/OneDrive/Desktop/usstock/SYF^A.csv\n"
     ]
    },
    {
     "name": "stderr",
     "output_type": "stream",
     "text": [
      "\n",
      "1 Failed download:\n",
      "['SYF^B']: Exception('%ticker%: No timezone found, symbol may be delisted')\n"
     ]
    },
    {
     "name": "stdout",
     "output_type": "stream",
     "text": [
      "Saved data for symbol SYF^B to C:/Users/atlas/OneDrive/Desktop/usstock/SYF^B.csv\n",
      "Saved data for symbol SYK to C:/Users/atlas/OneDrive/Desktop/usstock/SYK.csv\n",
      "Saved data for symbol SYM to C:/Users/atlas/OneDrive/Desktop/usstock/SYM.csv\n",
      "Saved data for symbol SYNA to C:/Users/atlas/OneDrive/Desktop/usstock/SYNA.csv\n",
      "Saved data for symbol SYNX to C:/Users/atlas/OneDrive/Desktop/usstock/SYNX.csv\n",
      "Saved data for symbol SYPR to C:/Users/atlas/OneDrive/Desktop/usstock/SYPR.csv\n",
      "Saved data for symbol SYRA to C:/Users/atlas/OneDrive/Desktop/usstock/SYRA.csv\n",
      "Saved data for symbol SYRE to C:/Users/atlas/OneDrive/Desktop/usstock/SYRE.csv\n",
      "Saved data for symbol SYRS to C:/Users/atlas/OneDrive/Desktop/usstock/SYRS.csv\n",
      "Saved data for symbol SYT to C:/Users/atlas/OneDrive/Desktop/usstock/SYT.csv\n",
      "Saved data for symbol SYTA to C:/Users/atlas/OneDrive/Desktop/usstock/SYTA.csv\n"
     ]
    },
    {
     "name": "stderr",
     "output_type": "stream",
     "text": [
      "\n",
      "1 Failed download:\n",
      "['SYTAW']: Exception('%ticker%: 1d data not available for startTime=-14831751840 and endTime=1713531967. Only 100 years worth of day granularity data are allowed to be fetched per request.')\n"
     ]
    },
    {
     "name": "stdout",
     "output_type": "stream",
     "text": [
      "Saved data for symbol SYTAW to C:/Users/atlas/OneDrive/Desktop/usstock/SYTAW.csv\n",
      "Saved data for symbol SYY to C:/Users/atlas/OneDrive/Desktop/usstock/SYY.csv\n",
      "Saved data for symbol T to C:/Users/atlas/OneDrive/Desktop/usstock/T.csv\n"
     ]
    },
    {
     "name": "stderr",
     "output_type": "stream",
     "text": [
      "\n",
      "1 Failed download:\n",
      "['T^A']: Exception('%ticker%: No timezone found, symbol may be delisted')\n"
     ]
    },
    {
     "name": "stdout",
     "output_type": "stream",
     "text": [
      "Saved data for symbol T^A to C:/Users/atlas/OneDrive/Desktop/usstock/T^A.csv\n"
     ]
    },
    {
     "name": "stderr",
     "output_type": "stream",
     "text": [
      "\n",
      "1 Failed download:\n",
      "['T^C']: Exception('%ticker%: No timezone found, symbol may be delisted')\n"
     ]
    },
    {
     "name": "stdout",
     "output_type": "stream",
     "text": [
      "Saved data for symbol T^C to C:/Users/atlas/OneDrive/Desktop/usstock/T^C.csv\n",
      "Saved data for symbol TAC to C:/Users/atlas/OneDrive/Desktop/usstock/TAC.csv\n",
      "Saved data for symbol TACT to C:/Users/atlas/OneDrive/Desktop/usstock/TACT.csv\n",
      "Saved data for symbol TAIT to C:/Users/atlas/OneDrive/Desktop/usstock/TAIT.csv\n",
      "Saved data for symbol TAK to C:/Users/atlas/OneDrive/Desktop/usstock/TAK.csv\n",
      "Saved data for symbol TAL to C:/Users/atlas/OneDrive/Desktop/usstock/TAL.csv\n",
      "Saved data for symbol TALK to C:/Users/atlas/OneDrive/Desktop/usstock/TALK.csv\n"
     ]
    },
    {
     "name": "stderr",
     "output_type": "stream",
     "text": [
      "\n",
      "1 Failed download:\n",
      "['TALKW']: Exception('%ticker%: 1d data not available for startTime=-14831751840 and endTime=1713531979. Only 100 years worth of day granularity data are allowed to be fetched per request.')\n"
     ]
    },
    {
     "name": "stdout",
     "output_type": "stream",
     "text": [
      "Saved data for symbol TALKW to C:/Users/atlas/OneDrive/Desktop/usstock/TALKW.csv\n",
      "Saved data for symbol TALO to C:/Users/atlas/OneDrive/Desktop/usstock/TALO.csv\n",
      "Saved data for symbol TANH to C:/Users/atlas/OneDrive/Desktop/usstock/TANH.csv\n",
      "Saved data for symbol TAOP to C:/Users/atlas/OneDrive/Desktop/usstock/TAOP.csv\n",
      "Saved data for symbol TAP to C:/Users/atlas/OneDrive/Desktop/usstock/TAP.csv\n",
      "Saved data for symbol TARA to C:/Users/atlas/OneDrive/Desktop/usstock/TARA.csv\n",
      "Saved data for symbol TARO to C:/Users/atlas/OneDrive/Desktop/usstock/TARO.csv\n",
      "Saved data for symbol TARS to C:/Users/atlas/OneDrive/Desktop/usstock/TARS.csv\n",
      "Saved data for symbol TASK to C:/Users/atlas/OneDrive/Desktop/usstock/TASK.csv\n",
      "Saved data for symbol TAST to C:/Users/atlas/OneDrive/Desktop/usstock/TAST.csv\n",
      "Saved data for symbol TATT to C:/Users/atlas/OneDrive/Desktop/usstock/TATT.csv\n",
      "Saved data for symbol TAYD to C:/Users/atlas/OneDrive/Desktop/usstock/TAYD.csv\n",
      "Saved data for symbol TBB to C:/Users/atlas/OneDrive/Desktop/usstock/TBB.csv\n",
      "Saved data for symbol TBBB to C:/Users/atlas/OneDrive/Desktop/usstock/TBBB.csv\n",
      "Saved data for symbol TBBK to C:/Users/atlas/OneDrive/Desktop/usstock/TBBK.csv\n",
      "Saved data for symbol TBC to C:/Users/atlas/OneDrive/Desktop/usstock/TBC.csv\n",
      "Saved data for symbol TBI to C:/Users/atlas/OneDrive/Desktop/usstock/TBI.csv\n",
      "Saved data for symbol TBIO to C:/Users/atlas/OneDrive/Desktop/usstock/TBIO.csv\n",
      "Saved data for symbol TBLA to C:/Users/atlas/OneDrive/Desktop/usstock/TBLA.csv\n"
     ]
    },
    {
     "name": "stderr",
     "output_type": "stream",
     "text": [
      "\n",
      "1 Failed download:\n",
      "['TBLAW']: Exception('%ticker%: 1d data not available for startTime=-14831751840 and endTime=1713531987. Only 100 years worth of day granularity data are allowed to be fetched per request.')\n"
     ]
    },
    {
     "name": "stdout",
     "output_type": "stream",
     "text": [
      "Saved data for symbol TBLAW to C:/Users/atlas/OneDrive/Desktop/usstock/TBLAW.csv\n",
      "Saved data for symbol TBLD to C:/Users/atlas/OneDrive/Desktop/usstock/TBLD.csv\n",
      "Saved data for symbol TBLT to C:/Users/atlas/OneDrive/Desktop/usstock/TBLT.csv\n",
      "Saved data for symbol TBMC to C:/Users/atlas/OneDrive/Desktop/usstock/TBMC.csv\n",
      "Saved data for symbol TBNK to C:/Users/atlas/OneDrive/Desktop/usstock/TBNK.csv\n",
      "Saved data for symbol TBPH to C:/Users/atlas/OneDrive/Desktop/usstock/TBPH.csv\n",
      "Saved data for symbol TBRG to C:/Users/atlas/OneDrive/Desktop/usstock/TBRG.csv\n",
      "Saved data for symbol TC to C:/Users/atlas/OneDrive/Desktop/usstock/TC.csv\n",
      "Saved data for symbol TCBC to C:/Users/atlas/OneDrive/Desktop/usstock/TCBC.csv\n",
      "Saved data for symbol TCBI to C:/Users/atlas/OneDrive/Desktop/usstock/TCBI.csv\n",
      "Saved data for symbol TCBIO to C:/Users/atlas/OneDrive/Desktop/usstock/TCBIO.csv\n",
      "Saved data for symbol TCBK to C:/Users/atlas/OneDrive/Desktop/usstock/TCBK.csv\n",
      "Saved data for symbol TCBP to C:/Users/atlas/OneDrive/Desktop/usstock/TCBP.csv\n"
     ]
    },
    {
     "name": "stderr",
     "output_type": "stream",
     "text": [
      "\n",
      "1 Failed download:\n",
      "['TCBPW']: Exception('%ticker%: 1d data not available for startTime=-14831751840 and endTime=1713531992. Only 100 years worth of day granularity data are allowed to be fetched per request.')\n"
     ]
    },
    {
     "name": "stdout",
     "output_type": "stream",
     "text": [
      "Saved data for symbol TCBPW to C:/Users/atlas/OneDrive/Desktop/usstock/TCBPW.csv\n",
      "Saved data for symbol TCBS to C:/Users/atlas/OneDrive/Desktop/usstock/TCBS.csv\n",
      "Saved data for symbol TCBX to C:/Users/atlas/OneDrive/Desktop/usstock/TCBX.csv\n",
      "Saved data for symbol TCI to C:/Users/atlas/OneDrive/Desktop/usstock/TCI.csv\n",
      "Saved data for symbol TCJH to C:/Users/atlas/OneDrive/Desktop/usstock/TCJH.csv\n",
      "Saved data for symbol TCMD to C:/Users/atlas/OneDrive/Desktop/usstock/TCMD.csv\n",
      "Saved data for symbol TCN to C:/Users/atlas/OneDrive/Desktop/usstock/TCN.csv\n",
      "Saved data for symbol TCOA to C:/Users/atlas/OneDrive/Desktop/usstock/TCOA.csv\n",
      "Saved data for symbol TCOM to C:/Users/atlas/OneDrive/Desktop/usstock/TCOM.csv\n",
      "Saved data for symbol TCON to C:/Users/atlas/OneDrive/Desktop/usstock/TCON.csv\n",
      "Saved data for symbol TCPC to C:/Users/atlas/OneDrive/Desktop/usstock/TCPC.csv\n",
      "Saved data for symbol TCRT to C:/Users/atlas/OneDrive/Desktop/usstock/TCRT.csv\n",
      "Saved data for symbol TCRX to C:/Users/atlas/OneDrive/Desktop/usstock/TCRX.csv\n",
      "Saved data for symbol TCS to C:/Users/atlas/OneDrive/Desktop/usstock/TCS.csv\n",
      "Saved data for symbol TCTM to C:/Users/atlas/OneDrive/Desktop/usstock/TCTM.csv\n",
      "Saved data for symbol TCX to C:/Users/atlas/OneDrive/Desktop/usstock/TCX.csv\n",
      "Saved data for symbol TD to C:/Users/atlas/OneDrive/Desktop/usstock/TD.csv\n",
      "Saved data for symbol TDC to C:/Users/atlas/OneDrive/Desktop/usstock/TDC.csv\n",
      "Saved data for symbol TDCX to C:/Users/atlas/OneDrive/Desktop/usstock/TDCX.csv\n",
      "Saved data for symbol TDF to C:/Users/atlas/OneDrive/Desktop/usstock/TDF.csv\n",
      "Saved data for symbol TDG to C:/Users/atlas/OneDrive/Desktop/usstock/TDG.csv\n",
      "Saved data for symbol TDOC to C:/Users/atlas/OneDrive/Desktop/usstock/TDOC.csv\n",
      "Saved data for symbol TDS to C:/Users/atlas/OneDrive/Desktop/usstock/TDS.csv\n"
     ]
    },
    {
     "name": "stderr",
     "output_type": "stream",
     "text": [
      "\n",
      "1 Failed download:\n",
      "['TDS^U']: Exception('%ticker%: No timezone found, symbol may be delisted')\n"
     ]
    },
    {
     "name": "stdout",
     "output_type": "stream",
     "text": [
      "Saved data for symbol TDS^U to C:/Users/atlas/OneDrive/Desktop/usstock/TDS^U.csv\n"
     ]
    },
    {
     "name": "stderr",
     "output_type": "stream",
     "text": [
      "\n",
      "1 Failed download:\n",
      "['TDS^V']: Exception('%ticker%: No timezone found, symbol may be delisted')\n"
     ]
    },
    {
     "name": "stdout",
     "output_type": "stream",
     "text": [
      "Saved data for symbol TDS^V to C:/Users/atlas/OneDrive/Desktop/usstock/TDS^V.csv\n",
      "Saved data for symbol TDUP to C:/Users/atlas/OneDrive/Desktop/usstock/TDUP.csv\n",
      "Saved data for symbol TDW to C:/Users/atlas/OneDrive/Desktop/usstock/TDW.csv\n",
      "Saved data for symbol TDY to C:/Users/atlas/OneDrive/Desktop/usstock/TDY.csv\n",
      "Saved data for symbol TEAF to C:/Users/atlas/OneDrive/Desktop/usstock/TEAF.csv\n",
      "Saved data for symbol TEAM to C:/Users/atlas/OneDrive/Desktop/usstock/TEAM.csv\n",
      "Saved data for symbol TECH to C:/Users/atlas/OneDrive/Desktop/usstock/TECH.csv\n",
      "Saved data for symbol TECK to C:/Users/atlas/OneDrive/Desktop/usstock/TECK.csv\n",
      "Saved data for symbol TECTP to C:/Users/atlas/OneDrive/Desktop/usstock/TECTP.csv\n",
      "Saved data for symbol TEF to C:/Users/atlas/OneDrive/Desktop/usstock/TEF.csv\n",
      "Saved data for symbol TEI to C:/Users/atlas/OneDrive/Desktop/usstock/TEI.csv\n",
      "Saved data for symbol TEL to C:/Users/atlas/OneDrive/Desktop/usstock/TEL.csv\n",
      "Saved data for symbol TELA to C:/Users/atlas/OneDrive/Desktop/usstock/TELA.csv\n",
      "Saved data for symbol TELL to C:/Users/atlas/OneDrive/Desktop/usstock/TELL.csv\n",
      "Saved data for symbol TELO to C:/Users/atlas/OneDrive/Desktop/usstock/TELO.csv\n",
      "Saved data for symbol TELZ to C:/Users/atlas/OneDrive/Desktop/usstock/TELZ.csv\n",
      "Saved data for symbol TENB to C:/Users/atlas/OneDrive/Desktop/usstock/TENB.csv\n",
      "Saved data for symbol TENK to C:/Users/atlas/OneDrive/Desktop/usstock/TENK.csv\n",
      "Saved data for symbol TENX to C:/Users/atlas/OneDrive/Desktop/usstock/TENX.csv\n",
      "Saved data for symbol TEO to C:/Users/atlas/OneDrive/Desktop/usstock/TEO.csv\n",
      "Saved data for symbol TER to C:/Users/atlas/OneDrive/Desktop/usstock/TER.csv\n",
      "Saved data for symbol TERN to C:/Users/atlas/OneDrive/Desktop/usstock/TERN.csv\n",
      "Saved data for symbol TETE to C:/Users/atlas/OneDrive/Desktop/usstock/TETE.csv\n",
      "Saved data for symbol TEVA to C:/Users/atlas/OneDrive/Desktop/usstock/TEVA.csv\n",
      "Saved data for symbol TEX to C:/Users/atlas/OneDrive/Desktop/usstock/TEX.csv\n",
      "Saved data for symbol TFC to C:/Users/atlas/OneDrive/Desktop/usstock/TFC.csv\n"
     ]
    },
    {
     "name": "stderr",
     "output_type": "stream",
     "text": [
      "\n",
      "1 Failed download:\n",
      "['TFC^I']: Exception('%ticker%: No timezone found, symbol may be delisted')\n"
     ]
    },
    {
     "name": "stdout",
     "output_type": "stream",
     "text": [
      "Saved data for symbol TFC^I to C:/Users/atlas/OneDrive/Desktop/usstock/TFC^I.csv\n"
     ]
    },
    {
     "name": "stderr",
     "output_type": "stream",
     "text": [
      "\n",
      "1 Failed download:\n",
      "['TFC^O']: Exception('%ticker%: No timezone found, symbol may be delisted')\n"
     ]
    },
    {
     "name": "stdout",
     "output_type": "stream",
     "text": [
      "Saved data for symbol TFC^O to C:/Users/atlas/OneDrive/Desktop/usstock/TFC^O.csv\n"
     ]
    },
    {
     "name": "stderr",
     "output_type": "stream",
     "text": [
      "\n",
      "1 Failed download:\n",
      "['TFC^R']: Exception('%ticker%: No timezone found, symbol may be delisted')\n"
     ]
    },
    {
     "name": "stdout",
     "output_type": "stream",
     "text": [
      "Saved data for symbol TFC^R to C:/Users/atlas/OneDrive/Desktop/usstock/TFC^R.csv\n",
      "Saved data for symbol TFFP to C:/Users/atlas/OneDrive/Desktop/usstock/TFFP.csv\n",
      "Saved data for symbol TFII to C:/Users/atlas/OneDrive/Desktop/usstock/TFII.csv\n",
      "Saved data for symbol TFIN to C:/Users/atlas/OneDrive/Desktop/usstock/TFIN.csv\n",
      "Saved data for symbol TFINP to C:/Users/atlas/OneDrive/Desktop/usstock/TFINP.csv\n",
      "Saved data for symbol TFPM to C:/Users/atlas/OneDrive/Desktop/usstock/TFPM.csv\n",
      "Saved data for symbol TFSL to C:/Users/atlas/OneDrive/Desktop/usstock/TFSL.csv\n",
      "Saved data for symbol TFX to C:/Users/atlas/OneDrive/Desktop/usstock/TFX.csv\n",
      "Saved data for symbol TG to C:/Users/atlas/OneDrive/Desktop/usstock/TG.csv\n",
      "Saved data for symbol TGAA to C:/Users/atlas/OneDrive/Desktop/usstock/TGAA.csv\n"
     ]
    },
    {
     "name": "stderr",
     "output_type": "stream",
     "text": [
      "\n",
      "1 Failed download:\n",
      "['TGAAW']: Exception('%ticker%: 1d data not available for startTime=-14831751840 and endTime=1713532030. Only 100 years worth of day granularity data are allowed to be fetched per request.')\n"
     ]
    },
    {
     "name": "stdout",
     "output_type": "stream",
     "text": [
      "Saved data for symbol TGAAW to C:/Users/atlas/OneDrive/Desktop/usstock/TGAAW.csv\n",
      "Saved data for symbol TGAN to C:/Users/atlas/OneDrive/Desktop/usstock/TGAN.csv\n",
      "Saved data for symbol TGB to C:/Users/atlas/OneDrive/Desktop/usstock/TGB.csv\n",
      "Saved data for symbol TGI to C:/Users/atlas/OneDrive/Desktop/usstock/TGI.csv\n",
      "Saved data for symbol TGL to C:/Users/atlas/OneDrive/Desktop/usstock/TGL.csv\n",
      "Saved data for symbol TGLS to C:/Users/atlas/OneDrive/Desktop/usstock/TGLS.csv\n",
      "Saved data for symbol TGNA to C:/Users/atlas/OneDrive/Desktop/usstock/TGNA.csv\n",
      "Saved data for symbol TGS to C:/Users/atlas/OneDrive/Desktop/usstock/TGS.csv\n",
      "Saved data for symbol TGT to C:/Users/atlas/OneDrive/Desktop/usstock/TGT.csv\n",
      "Saved data for symbol TGTX to C:/Users/atlas/OneDrive/Desktop/usstock/TGTX.csv\n",
      "Saved data for symbol TH to C:/Users/atlas/OneDrive/Desktop/usstock/TH.csv\n",
      "Saved data for symbol THAR to C:/Users/atlas/OneDrive/Desktop/usstock/THAR.csv\n",
      "Saved data for symbol THC to C:/Users/atlas/OneDrive/Desktop/usstock/THC.csv\n",
      "Saved data for symbol THCH to C:/Users/atlas/OneDrive/Desktop/usstock/THCH.csv\n",
      "Saved data for symbol THCP to C:/Users/atlas/OneDrive/Desktop/usstock/THCP.csv\n"
     ]
    },
    {
     "name": "stderr",
     "output_type": "stream",
     "text": [
      "\n",
      "1 Failed download:\n",
      "['THCPW']: Exception('%ticker%: 1d data not available for startTime=-14831751840 and endTime=1713532039. Only 100 years worth of day granularity data are allowed to be fetched per request.')\n"
     ]
    },
    {
     "name": "stdout",
     "output_type": "stream",
     "text": [
      "Saved data for symbol THCPW to C:/Users/atlas/OneDrive/Desktop/usstock/THCPW.csv\n",
      "Saved data for symbol THFF to C:/Users/atlas/OneDrive/Desktop/usstock/THFF.csv\n",
      "Saved data for symbol THG to C:/Users/atlas/OneDrive/Desktop/usstock/THG.csv\n",
      "Saved data for symbol THM to C:/Users/atlas/OneDrive/Desktop/usstock/THM.csv\n",
      "Saved data for symbol THMO to C:/Users/atlas/OneDrive/Desktop/usstock/THMO.csv\n",
      "Saved data for symbol THO to C:/Users/atlas/OneDrive/Desktop/usstock/THO.csv\n",
      "Saved data for symbol THQ to C:/Users/atlas/OneDrive/Desktop/usstock/THQ.csv\n",
      "Saved data for symbol THR to C:/Users/atlas/OneDrive/Desktop/usstock/THR.csv\n",
      "Saved data for symbol THRD to C:/Users/atlas/OneDrive/Desktop/usstock/THRD.csv\n",
      "Saved data for symbol THRM to C:/Users/atlas/OneDrive/Desktop/usstock/THRM.csv\n",
      "Saved data for symbol THRY to C:/Users/atlas/OneDrive/Desktop/usstock/THRY.csv\n",
      "Saved data for symbol THS to C:/Users/atlas/OneDrive/Desktop/usstock/THS.csv\n",
      "Saved data for symbol THTX to C:/Users/atlas/OneDrive/Desktop/usstock/THTX.csv\n",
      "Saved data for symbol THW to C:/Users/atlas/OneDrive/Desktop/usstock/THW.csv\n",
      "Saved data for symbol TIGO to C:/Users/atlas/OneDrive/Desktop/usstock/TIGO.csv\n",
      "Saved data for symbol TIGR to C:/Users/atlas/OneDrive/Desktop/usstock/TIGR.csv\n",
      "Saved data for symbol TIL to C:/Users/atlas/OneDrive/Desktop/usstock/TIL.csv\n",
      "Saved data for symbol TILE to C:/Users/atlas/OneDrive/Desktop/usstock/TILE.csv\n",
      "Saved data for symbol TIMB to C:/Users/atlas/OneDrive/Desktop/usstock/TIMB.csv\n",
      "Saved data for symbol TIPT to C:/Users/atlas/OneDrive/Desktop/usstock/TIPT.csv\n",
      "Saved data for symbol TIRX to C:/Users/atlas/OneDrive/Desktop/usstock/TIRX.csv\n",
      "Saved data for symbol TISI to C:/Users/atlas/OneDrive/Desktop/usstock/TISI.csv\n",
      "Saved data for symbol TITN to C:/Users/atlas/OneDrive/Desktop/usstock/TITN.csv\n",
      "Saved data for symbol TIVC to C:/Users/atlas/OneDrive/Desktop/usstock/TIVC.csv\n",
      "Saved data for symbol TIXT to C:/Users/atlas/OneDrive/Desktop/usstock/TIXT.csv\n",
      "Saved data for symbol TJX to C:/Users/atlas/OneDrive/Desktop/usstock/TJX.csv\n",
      "Saved data for symbol TK to C:/Users/atlas/OneDrive/Desktop/usstock/TK.csv\n",
      "Saved data for symbol TKC to C:/Users/atlas/OneDrive/Desktop/usstock/TKC.csv\n",
      "Saved data for symbol TKLF to C:/Users/atlas/OneDrive/Desktop/usstock/TKLF.csv\n",
      "Saved data for symbol TKNO to C:/Users/atlas/OneDrive/Desktop/usstock/TKNO.csv\n",
      "Saved data for symbol TKO to C:/Users/atlas/OneDrive/Desktop/usstock/TKO.csv\n",
      "Saved data for symbol TKR to C:/Users/atlas/OneDrive/Desktop/usstock/TKR.csv\n",
      "Saved data for symbol TLF to C:/Users/atlas/OneDrive/Desktop/usstock/TLF.csv\n",
      "Saved data for symbol TLGY to C:/Users/atlas/OneDrive/Desktop/usstock/TLGY.csv\n",
      "Saved data for symbol TLIS to C:/Users/atlas/OneDrive/Desktop/usstock/TLIS.csv\n",
      "Saved data for symbol TLK to C:/Users/atlas/OneDrive/Desktop/usstock/TLK.csv\n",
      "Saved data for symbol TLPH to C:/Users/atlas/OneDrive/Desktop/usstock/TLPH.csv\n",
      "Saved data for symbol TLRY to C:/Users/atlas/OneDrive/Desktop/usstock/TLRY.csv\n",
      "Saved data for symbol TLS to C:/Users/atlas/OneDrive/Desktop/usstock/TLS.csv\n",
      "Saved data for symbol TLSA to C:/Users/atlas/OneDrive/Desktop/usstock/TLSA.csv\n",
      "Saved data for symbol TLSI to C:/Users/atlas/OneDrive/Desktop/usstock/TLSI.csv\n",
      "Saved data for symbol TLSIW to C:/Users/atlas/OneDrive/Desktop/usstock/TLSIW.csv\n",
      "Saved data for symbol TLYS to C:/Users/atlas/OneDrive/Desktop/usstock/TLYS.csv\n",
      "Saved data for symbol TM to C:/Users/atlas/OneDrive/Desktop/usstock/TM.csv\n",
      "Saved data for symbol TMC to C:/Users/atlas/OneDrive/Desktop/usstock/TMC.csv\n",
      "Saved data for symbol TMCI to C:/Users/atlas/OneDrive/Desktop/usstock/TMCI.csv\n",
      "Saved data for symbol TMCWW to C:/Users/atlas/OneDrive/Desktop/usstock/TMCWW.csv\n",
      "Saved data for symbol TMDX to C:/Users/atlas/OneDrive/Desktop/usstock/TMDX.csv\n",
      "Saved data for symbol TME to C:/Users/atlas/OneDrive/Desktop/usstock/TME.csv\n",
      "Saved data for symbol TMHC to C:/Users/atlas/OneDrive/Desktop/usstock/TMHC.csv\n",
      "Saved data for symbol TMO to C:/Users/atlas/OneDrive/Desktop/usstock/TMO.csv\n",
      "Saved data for symbol TMP to C:/Users/atlas/OneDrive/Desktop/usstock/TMP.csv\n",
      "Saved data for symbol TMQ to C:/Users/atlas/OneDrive/Desktop/usstock/TMQ.csv\n",
      "Saved data for symbol TMTC to C:/Users/atlas/OneDrive/Desktop/usstock/TMTC.csv\n"
     ]
    },
    {
     "name": "stderr",
     "output_type": "stream",
     "text": [
      "\n",
      "1 Failed download:\n",
      "['TMTCR']: Exception('%ticker%: 1d data not available for startTime=-14831751840 and endTime=1713532062. Only 100 years worth of day granularity data are allowed to be fetched per request.')\n"
     ]
    },
    {
     "name": "stdout",
     "output_type": "stream",
     "text": [
      "Saved data for symbol TMTCR to C:/Users/atlas/OneDrive/Desktop/usstock/TMTCR.csv\n",
      "Saved data for symbol TMTCU to C:/Users/atlas/OneDrive/Desktop/usstock/TMTCU.csv\n",
      "Saved data for symbol TMUS to C:/Users/atlas/OneDrive/Desktop/usstock/TMUS.csv\n",
      "Saved data for symbol TNC to C:/Users/atlas/OneDrive/Desktop/usstock/TNC.csv\n",
      "Saved data for symbol TNDM to C:/Users/atlas/OneDrive/Desktop/usstock/TNDM.csv\n",
      "Saved data for symbol TNET to C:/Users/atlas/OneDrive/Desktop/usstock/TNET.csv\n",
      "Saved data for symbol TNGX to C:/Users/atlas/OneDrive/Desktop/usstock/TNGX.csv\n",
      "Saved data for symbol TNK to C:/Users/atlas/OneDrive/Desktop/usstock/TNK.csv\n",
      "Saved data for symbol TNL to C:/Users/atlas/OneDrive/Desktop/usstock/TNL.csv\n",
      "Saved data for symbol TNON to C:/Users/atlas/OneDrive/Desktop/usstock/TNON.csv\n"
     ]
    },
    {
     "name": "stderr",
     "output_type": "stream",
     "text": [
      "\n",
      "1 Failed download:\n",
      "['TNONW']: Exception('%ticker%: 1d data not available for startTime=-14831751840 and endTime=1713532066. Only 100 years worth of day granularity data are allowed to be fetched per request.')\n"
     ]
    },
    {
     "name": "stdout",
     "output_type": "stream",
     "text": [
      "Saved data for symbol TNONW to C:/Users/atlas/OneDrive/Desktop/usstock/TNONW.csv\n",
      "Saved data for symbol TNP to C:/Users/atlas/OneDrive/Desktop/usstock/TNP.csv\n"
     ]
    },
    {
     "name": "stderr",
     "output_type": "stream",
     "text": [
      "\n",
      "1 Failed download:\n",
      "['TNP^E']: Exception('%ticker%: No timezone found, symbol may be delisted')\n"
     ]
    },
    {
     "name": "stdout",
     "output_type": "stream",
     "text": [
      "Saved data for symbol TNP^E to C:/Users/atlas/OneDrive/Desktop/usstock/TNP^E.csv\n"
     ]
    },
    {
     "name": "stderr",
     "output_type": "stream",
     "text": [
      "\n",
      "1 Failed download:\n",
      "['TNP^F']: Exception('%ticker%: No timezone found, symbol may be delisted')\n"
     ]
    },
    {
     "name": "stdout",
     "output_type": "stream",
     "text": [
      "Saved data for symbol TNP^F to C:/Users/atlas/OneDrive/Desktop/usstock/TNP^F.csv\n",
      "Saved data for symbol TNXP to C:/Users/atlas/OneDrive/Desktop/usstock/TNXP.csv\n",
      "Saved data for symbol TNYA to C:/Users/atlas/OneDrive/Desktop/usstock/TNYA.csv\n",
      "Saved data for symbol TOI to C:/Users/atlas/OneDrive/Desktop/usstock/TOI.csv\n"
     ]
    },
    {
     "name": "stderr",
     "output_type": "stream",
     "text": [
      "\n",
      "1 Failed download:\n",
      "['TOIIW']: Exception('%ticker%: 1d data not available for startTime=-14831751840 and endTime=1713532072. Only 100 years worth of day granularity data are allowed to be fetched per request.')\n"
     ]
    },
    {
     "name": "stdout",
     "output_type": "stream",
     "text": [
      "Saved data for symbol TOIIW to C:/Users/atlas/OneDrive/Desktop/usstock/TOIIW.csv\n",
      "Saved data for symbol TOL to C:/Users/atlas/OneDrive/Desktop/usstock/TOL.csv\n",
      "Saved data for symbol TOMZ to C:/Users/atlas/OneDrive/Desktop/usstock/TOMZ.csv\n",
      "Saved data for symbol TOON to C:/Users/atlas/OneDrive/Desktop/usstock/TOON.csv\n",
      "Saved data for symbol TOP to C:/Users/atlas/OneDrive/Desktop/usstock/TOP.csv\n",
      "Saved data for symbol TOPS to C:/Users/atlas/OneDrive/Desktop/usstock/TOPS.csv\n",
      "Saved data for symbol TORO to C:/Users/atlas/OneDrive/Desktop/usstock/TORO.csv\n",
      "Saved data for symbol TOST to C:/Users/atlas/OneDrive/Desktop/usstock/TOST.csv\n",
      "Saved data for symbol TOUR to C:/Users/atlas/OneDrive/Desktop/usstock/TOUR.csv\n",
      "Saved data for symbol TOVX to C:/Users/atlas/OneDrive/Desktop/usstock/TOVX.csv\n",
      "Saved data for symbol TOWN to C:/Users/atlas/OneDrive/Desktop/usstock/TOWN.csv\n",
      "Saved data for symbol TPB to C:/Users/atlas/OneDrive/Desktop/usstock/TPB.csv\n",
      "Saved data for symbol TPC to C:/Users/atlas/OneDrive/Desktop/usstock/TPC.csv\n",
      "Saved data for symbol TPCS to C:/Users/atlas/OneDrive/Desktop/usstock/TPCS.csv\n",
      "Saved data for symbol TPET to C:/Users/atlas/OneDrive/Desktop/usstock/TPET.csv\n",
      "Saved data for symbol TPG to C:/Users/atlas/OneDrive/Desktop/usstock/TPG.csv\n",
      "Saved data for symbol TPGXL to C:/Users/atlas/OneDrive/Desktop/usstock/TPGXL.csv\n",
      "Saved data for symbol TPH to C:/Users/atlas/OneDrive/Desktop/usstock/TPH.csv\n",
      "Saved data for symbol TPHS to C:/Users/atlas/OneDrive/Desktop/usstock/TPHS.csv\n",
      "Saved data for symbol TPIC to C:/Users/atlas/OneDrive/Desktop/usstock/TPIC.csv\n",
      "Saved data for symbol TPL to C:/Users/atlas/OneDrive/Desktop/usstock/TPL.csv\n",
      "Saved data for symbol TPR to C:/Users/atlas/OneDrive/Desktop/usstock/TPR.csv\n",
      "Saved data for symbol TPST to C:/Users/atlas/OneDrive/Desktop/usstock/TPST.csv\n",
      "Saved data for symbol TPTA to C:/Users/atlas/OneDrive/Desktop/usstock/TPTA.csv\n",
      "Saved data for symbol TPVG to C:/Users/atlas/OneDrive/Desktop/usstock/TPVG.csv\n",
      "Saved data for symbol TPX to C:/Users/atlas/OneDrive/Desktop/usstock/TPX.csv\n",
      "Saved data for symbol TPZ to C:/Users/atlas/OneDrive/Desktop/usstock/TPZ.csv\n",
      "Saved data for symbol TR to C:/Users/atlas/OneDrive/Desktop/usstock/TR.csv\n",
      "Saved data for symbol TRAK to C:/Users/atlas/OneDrive/Desktop/usstock/TRAK.csv\n",
      "Saved data for symbol TRAW to C:/Users/atlas/OneDrive/Desktop/usstock/TRAW.csv\n",
      "Saved data for symbol TRC to C:/Users/atlas/OneDrive/Desktop/usstock/TRC.csv\n",
      "Saved data for symbol TRDA to C:/Users/atlas/OneDrive/Desktop/usstock/TRDA.csv\n",
      "Saved data for symbol TREE to C:/Users/atlas/OneDrive/Desktop/usstock/TREE.csv\n",
      "Saved data for symbol TREX to C:/Users/atlas/OneDrive/Desktop/usstock/TREX.csv\n",
      "Saved data for symbol TRGP to C:/Users/atlas/OneDrive/Desktop/usstock/TRGP.csv\n",
      "Saved data for symbol TRI to C:/Users/atlas/OneDrive/Desktop/usstock/TRI.csv\n",
      "Saved data for symbol TRIB to C:/Users/atlas/OneDrive/Desktop/usstock/TRIB.csv\n",
      "Saved data for symbol TRIN to C:/Users/atlas/OneDrive/Desktop/usstock/TRIN.csv\n",
      "Saved data for symbol TRINL to C:/Users/atlas/OneDrive/Desktop/usstock/TRINL.csv\n",
      "Saved data for symbol TRINZ to C:/Users/atlas/OneDrive/Desktop/usstock/TRINZ.csv\n",
      "Saved data for symbol TRIP to C:/Users/atlas/OneDrive/Desktop/usstock/TRIP.csv\n",
      "Saved data for symbol TRIS to C:/Users/atlas/OneDrive/Desktop/usstock/TRIS.csv\n",
      "Saved data for symbol TRMB to C:/Users/atlas/OneDrive/Desktop/usstock/TRMB.csv\n",
      "Saved data for symbol TRMD to C:/Users/atlas/OneDrive/Desktop/usstock/TRMD.csv\n",
      "Saved data for symbol TRMK to C:/Users/atlas/OneDrive/Desktop/usstock/TRMK.csv\n",
      "Saved data for symbol TRML to C:/Users/atlas/OneDrive/Desktop/usstock/TRML.csv\n",
      "Saved data for symbol TRN to C:/Users/atlas/OneDrive/Desktop/usstock/TRN.csv\n",
      "Saved data for symbol TRNO to C:/Users/atlas/OneDrive/Desktop/usstock/TRNO.csv\n",
      "Saved data for symbol TRNR to C:/Users/atlas/OneDrive/Desktop/usstock/TRNR.csv\n",
      "Saved data for symbol TRNS to C:/Users/atlas/OneDrive/Desktop/usstock/TRNS.csv\n",
      "Saved data for symbol TRON to C:/Users/atlas/OneDrive/Desktop/usstock/TRON.csv\n"
     ]
    },
    {
     "name": "stderr",
     "output_type": "stream",
     "text": [
      "\n",
      "1 Failed download:\n",
      "['TRONW']: Exception('%ticker%: 1d data not available for startTime=-14831751840 and endTime=1713532094. Only 100 years worth of day granularity data are allowed to be fetched per request.')\n"
     ]
    },
    {
     "name": "stdout",
     "output_type": "stream",
     "text": [
      "Saved data for symbol TRONW to C:/Users/atlas/OneDrive/Desktop/usstock/TRONW.csv\n",
      "Saved data for symbol TROO to C:/Users/atlas/OneDrive/Desktop/usstock/TROO.csv\n",
      "Saved data for symbol TROW to C:/Users/atlas/OneDrive/Desktop/usstock/TROW.csv\n",
      "Saved data for symbol TROX to C:/Users/atlas/OneDrive/Desktop/usstock/TROX.csv\n",
      "Saved data for symbol TRP to C:/Users/atlas/OneDrive/Desktop/usstock/TRP.csv\n",
      "Saved data for symbol TRS to C:/Users/atlas/OneDrive/Desktop/usstock/TRS.csv\n",
      "Saved data for symbol TRST to C:/Users/atlas/OneDrive/Desktop/usstock/TRST.csv\n",
      "Saved data for symbol TRT to C:/Users/atlas/OneDrive/Desktop/usstock/TRT.csv\n",
      "Saved data for symbol TRTL to C:/Users/atlas/OneDrive/Desktop/usstock/TRTL.csv\n"
     ]
    },
    {
     "name": "stderr",
     "output_type": "stream",
     "text": [
      "\n",
      "1 Failed download:\n",
      "['TRTN^A']: Exception('%ticker%: No timezone found, symbol may be delisted')\n"
     ]
    },
    {
     "name": "stdout",
     "output_type": "stream",
     "text": [
      "Saved data for symbol TRTN^A to C:/Users/atlas/OneDrive/Desktop/usstock/TRTN^A.csv\n"
     ]
    },
    {
     "name": "stderr",
     "output_type": "stream",
     "text": [
      "\n",
      "1 Failed download:\n",
      "['TRTN^B']: Exception('%ticker%: No timezone found, symbol may be delisted')\n"
     ]
    },
    {
     "name": "stdout",
     "output_type": "stream",
     "text": [
      "Saved data for symbol TRTN^B to C:/Users/atlas/OneDrive/Desktop/usstock/TRTN^B.csv\n"
     ]
    },
    {
     "name": "stderr",
     "output_type": "stream",
     "text": [
      "\n",
      "1 Failed download:\n",
      "['TRTN^C']: Exception('%ticker%: No timezone found, symbol may be delisted')\n"
     ]
    },
    {
     "name": "stdout",
     "output_type": "stream",
     "text": [
      "Saved data for symbol TRTN^C to C:/Users/atlas/OneDrive/Desktop/usstock/TRTN^C.csv\n"
     ]
    },
    {
     "name": "stderr",
     "output_type": "stream",
     "text": [
      "\n",
      "1 Failed download:\n",
      "['TRTN^D']: Exception('%ticker%: No timezone found, symbol may be delisted')\n"
     ]
    },
    {
     "name": "stdout",
     "output_type": "stream",
     "text": [
      "Saved data for symbol TRTN^D to C:/Users/atlas/OneDrive/Desktop/usstock/TRTN^D.csv\n"
     ]
    },
    {
     "name": "stderr",
     "output_type": "stream",
     "text": [
      "\n",
      "1 Failed download:\n",
      "['TRTN^E']: Exception('%ticker%: No timezone found, symbol may be delisted')\n"
     ]
    },
    {
     "name": "stdout",
     "output_type": "stream",
     "text": [
      "Saved data for symbol TRTN^E to C:/Users/atlas/OneDrive/Desktop/usstock/TRTN^E.csv\n",
      "Saved data for symbol TRTX to C:/Users/atlas/OneDrive/Desktop/usstock/TRTX.csv\n"
     ]
    },
    {
     "name": "stderr",
     "output_type": "stream",
     "text": [
      "\n",
      "1 Failed download:\n",
      "['TRTX^C']: Exception('%ticker%: No timezone found, symbol may be delisted')\n"
     ]
    },
    {
     "name": "stdout",
     "output_type": "stream",
     "text": [
      "Saved data for symbol TRTX^C to C:/Users/atlas/OneDrive/Desktop/usstock/TRTX^C.csv\n",
      "Saved data for symbol TRU to C:/Users/atlas/OneDrive/Desktop/usstock/TRU.csv\n",
      "Saved data for symbol TRUE to C:/Users/atlas/OneDrive/Desktop/usstock/TRUE.csv\n",
      "Saved data for symbol TRUG to C:/Users/atlas/OneDrive/Desktop/usstock/TRUG.csv\n",
      "Saved data for symbol TRUP to C:/Users/atlas/OneDrive/Desktop/usstock/TRUP.csv\n",
      "Saved data for symbol TRV to C:/Users/atlas/OneDrive/Desktop/usstock/TRV.csv\n",
      "Saved data for symbol TRVG to C:/Users/atlas/OneDrive/Desktop/usstock/TRVG.csv\n",
      "Saved data for symbol TRVI to C:/Users/atlas/OneDrive/Desktop/usstock/TRVI.csv\n",
      "Saved data for symbol TRVN to C:/Users/atlas/OneDrive/Desktop/usstock/TRVN.csv\n",
      "Saved data for symbol TRX to C:/Users/atlas/OneDrive/Desktop/usstock/TRX.csv\n",
      "Saved data for symbol TS to C:/Users/atlas/OneDrive/Desktop/usstock/TS.csv\n",
      "Saved data for symbol TSAT to C:/Users/atlas/OneDrive/Desktop/usstock/TSAT.csv\n",
      "Saved data for symbol TSBK to C:/Users/atlas/OneDrive/Desktop/usstock/TSBK.csv\n",
      "Saved data for symbol TSBX to C:/Users/atlas/OneDrive/Desktop/usstock/TSBX.csv\n",
      "Saved data for symbol TSCO to C:/Users/atlas/OneDrive/Desktop/usstock/TSCO.csv\n",
      "Saved data for symbol TSE to C:/Users/atlas/OneDrive/Desktop/usstock/TSE.csv\n",
      "Saved data for symbol TSEM to C:/Users/atlas/OneDrive/Desktop/usstock/TSEM.csv\n",
      "Saved data for symbol TSHA to C:/Users/atlas/OneDrive/Desktop/usstock/TSHA.csv\n",
      "Saved data for symbol TSI to C:/Users/atlas/OneDrive/Desktop/usstock/TSI.csv\n",
      "Saved data for symbol TSLA to C:/Users/atlas/OneDrive/Desktop/usstock/TSLA.csv\n",
      "Saved data for symbol TSLX to C:/Users/atlas/OneDrive/Desktop/usstock/TSLX.csv\n",
      "Saved data for symbol TSM to C:/Users/atlas/OneDrive/Desktop/usstock/TSM.csv\n",
      "Saved data for symbol TSN to C:/Users/atlas/OneDrive/Desktop/usstock/TSN.csv\n",
      "Saved data for symbol TSQ to C:/Users/atlas/OneDrive/Desktop/usstock/TSQ.csv\n",
      "Saved data for symbol TSRI to C:/Users/atlas/OneDrive/Desktop/usstock/TSRI.csv\n",
      "Saved data for symbol TSVT to C:/Users/atlas/OneDrive/Desktop/usstock/TSVT.csv\n",
      "Saved data for symbol TT to C:/Users/atlas/OneDrive/Desktop/usstock/TT.csv\n",
      "Saved data for symbol TTC to C:/Users/atlas/OneDrive/Desktop/usstock/TTC.csv\n",
      "Saved data for symbol TTD to C:/Users/atlas/OneDrive/Desktop/usstock/TTD.csv\n",
      "Saved data for symbol TTE to C:/Users/atlas/OneDrive/Desktop/usstock/TTE.csv\n",
      "Saved data for symbol TTEC to C:/Users/atlas/OneDrive/Desktop/usstock/TTEC.csv\n",
      "Saved data for symbol TTEK to C:/Users/atlas/OneDrive/Desktop/usstock/TTEK.csv\n",
      "Saved data for symbol TTGT to C:/Users/atlas/OneDrive/Desktop/usstock/TTGT.csv\n",
      "Saved data for symbol TTI to C:/Users/atlas/OneDrive/Desktop/usstock/TTI.csv\n",
      "Saved data for symbol TTMI to C:/Users/atlas/OneDrive/Desktop/usstock/TTMI.csv\n",
      "Saved data for symbol TTNP to C:/Users/atlas/OneDrive/Desktop/usstock/TTNP.csv\n",
      "Saved data for symbol TTOO to C:/Users/atlas/OneDrive/Desktop/usstock/TTOO.csv\n",
      "Saved data for symbol TTP to C:/Users/atlas/OneDrive/Desktop/usstock/TTP.csv\n",
      "Saved data for symbol TTSH to C:/Users/atlas/OneDrive/Desktop/usstock/TTSH.csv\n",
      "Saved data for symbol TTWO to C:/Users/atlas/OneDrive/Desktop/usstock/TTWO.csv\n",
      "Saved data for symbol TU to C:/Users/atlas/OneDrive/Desktop/usstock/TU.csv\n",
      "Saved data for symbol TUP to C:/Users/atlas/OneDrive/Desktop/usstock/TUP.csv\n",
      "Saved data for symbol TURB to C:/Users/atlas/OneDrive/Desktop/usstock/TURB.csv\n",
      "Saved data for symbol TURN to C:/Users/atlas/OneDrive/Desktop/usstock/TURN.csv\n",
      "Saved data for symbol TUSK to C:/Users/atlas/OneDrive/Desktop/usstock/TUSK.csv\n",
      "Saved data for symbol TUYA to C:/Users/atlas/OneDrive/Desktop/usstock/TUYA.csv\n",
      "Saved data for symbol TV to C:/Users/atlas/OneDrive/Desktop/usstock/TV.csv\n",
      "Saved data for symbol TVC to C:/Users/atlas/OneDrive/Desktop/usstock/TVC.csv\n",
      "Saved data for symbol TVE to C:/Users/atlas/OneDrive/Desktop/usstock/TVE.csv\n",
      "Saved data for symbol TVGN to C:/Users/atlas/OneDrive/Desktop/usstock/TVGN.csv\n"
     ]
    },
    {
     "name": "stderr",
     "output_type": "stream",
     "text": [
      "\n",
      "1 Failed download:\n",
      "['TVGNW']: Exception('%ticker%: 1d data not available for startTime=-14831751840 and endTime=1713532134. Only 100 years worth of day granularity data are allowed to be fetched per request.')\n"
     ]
    },
    {
     "name": "stdout",
     "output_type": "stream",
     "text": [
      "Saved data for symbol TVGNW to C:/Users/atlas/OneDrive/Desktop/usstock/TVGNW.csv\n",
      "Saved data for symbol TVTX to C:/Users/atlas/OneDrive/Desktop/usstock/TVTX.csv\n",
      "Saved data for symbol TW to C:/Users/atlas/OneDrive/Desktop/usstock/TW.csv\n",
      "Saved data for symbol TWG to C:/Users/atlas/OneDrive/Desktop/usstock/TWG.csv\n",
      "Saved data for symbol TWI to C:/Users/atlas/OneDrive/Desktop/usstock/TWI.csv\n",
      "Saved data for symbol TWIN to C:/Users/atlas/OneDrive/Desktop/usstock/TWIN.csv\n",
      "Saved data for symbol TWKS to C:/Users/atlas/OneDrive/Desktop/usstock/TWKS.csv\n",
      "Saved data for symbol TWLO to C:/Users/atlas/OneDrive/Desktop/usstock/TWLO.csv\n",
      "Saved data for symbol TWLV to C:/Users/atlas/OneDrive/Desktop/usstock/TWLV.csv\n",
      "Saved data for symbol TWLVU to C:/Users/atlas/OneDrive/Desktop/usstock/TWLVU.csv\n"
     ]
    },
    {
     "name": "stderr",
     "output_type": "stream",
     "text": [
      "\n",
      "1 Failed download:\n",
      "['TWLVW']: Exception('%ticker%: 1d data not available for startTime=-14831751840 and endTime=1713532139. Only 100 years worth of day granularity data are allowed to be fetched per request.')\n"
     ]
    },
    {
     "name": "stdout",
     "output_type": "stream",
     "text": [
      "Saved data for symbol TWLVW to C:/Users/atlas/OneDrive/Desktop/usstock/TWLVW.csv\n",
      "Saved data for symbol TWN to C:/Users/atlas/OneDrive/Desktop/usstock/TWN.csv\n",
      "Saved data for symbol TWO to C:/Users/atlas/OneDrive/Desktop/usstock/TWO.csv\n"
     ]
    },
    {
     "name": "stderr",
     "output_type": "stream",
     "text": [
      "\n",
      "1 Failed download:\n",
      "['TWO^A']: Exception('%ticker%: No timezone found, symbol may be delisted')\n"
     ]
    },
    {
     "name": "stdout",
     "output_type": "stream",
     "text": [
      "Saved data for symbol TWO^A to C:/Users/atlas/OneDrive/Desktop/usstock/TWO^A.csv\n"
     ]
    },
    {
     "name": "stderr",
     "output_type": "stream",
     "text": [
      "\n",
      "1 Failed download:\n",
      "['TWO^B']: Exception('%ticker%: No timezone found, symbol may be delisted')\n"
     ]
    },
    {
     "name": "stdout",
     "output_type": "stream",
     "text": [
      "Saved data for symbol TWO^B to C:/Users/atlas/OneDrive/Desktop/usstock/TWO^B.csv\n"
     ]
    },
    {
     "name": "stderr",
     "output_type": "stream",
     "text": [
      "\n",
      "1 Failed download:\n",
      "['TWO^C']: Exception('%ticker%: No timezone found, symbol may be delisted')\n"
     ]
    },
    {
     "name": "stdout",
     "output_type": "stream",
     "text": [
      "Saved data for symbol TWO^C to C:/Users/atlas/OneDrive/Desktop/usstock/TWO^C.csv\n",
      "Saved data for symbol TWOU to C:/Users/atlas/OneDrive/Desktop/usstock/TWOU.csv\n",
      "Saved data for symbol TWST to C:/Users/atlas/OneDrive/Desktop/usstock/TWST.csv\n",
      "Saved data for symbol TX to C:/Users/atlas/OneDrive/Desktop/usstock/TX.csv\n",
      "Saved data for symbol TXG to C:/Users/atlas/OneDrive/Desktop/usstock/TXG.csv\n",
      "Saved data for symbol TXMD to C:/Users/atlas/OneDrive/Desktop/usstock/TXMD.csv\n",
      "Saved data for symbol TXN to C:/Users/atlas/OneDrive/Desktop/usstock/TXN.csv\n",
      "Saved data for symbol TXO to C:/Users/atlas/OneDrive/Desktop/usstock/TXO.csv\n",
      "Saved data for symbol TXRH to C:/Users/atlas/OneDrive/Desktop/usstock/TXRH.csv\n",
      "Saved data for symbol TXT to C:/Users/atlas/OneDrive/Desktop/usstock/TXT.csv\n",
      "Saved data for symbol TY to C:/Users/atlas/OneDrive/Desktop/usstock/TY.csv\n"
     ]
    },
    {
     "name": "stderr",
     "output_type": "stream",
     "text": [
      "\n",
      "1 Failed download:\n",
      "['TY^']: Exception('%ticker%: No timezone found, symbol may be delisted')\n"
     ]
    },
    {
     "name": "stdout",
     "output_type": "stream",
     "text": [
      "Saved data for symbol TY^ to C:/Users/atlas/OneDrive/Desktop/usstock/TY^.csv\n",
      "Saved data for symbol TYG to C:/Users/atlas/OneDrive/Desktop/usstock/TYG.csv\n",
      "Saved data for symbol TYGO to C:/Users/atlas/OneDrive/Desktop/usstock/TYGO.csv\n",
      "Saved data for symbol TYL to C:/Users/atlas/OneDrive/Desktop/usstock/TYL.csv\n",
      "Saved data for symbol TYRA to C:/Users/atlas/OneDrive/Desktop/usstock/TYRA.csv\n",
      "Saved data for symbol TZOO to C:/Users/atlas/OneDrive/Desktop/usstock/TZOO.csv\n",
      "Saved data for symbol U to C:/Users/atlas/OneDrive/Desktop/usstock/U.csv\n",
      "Saved data for symbol UA to C:/Users/atlas/OneDrive/Desktop/usstock/UA.csv\n",
      "Saved data for symbol UAA to C:/Users/atlas/OneDrive/Desktop/usstock/UAA.csv\n",
      "Saved data for symbol UAL to C:/Users/atlas/OneDrive/Desktop/usstock/UAL.csv\n",
      "Saved data for symbol UAMY to C:/Users/atlas/OneDrive/Desktop/usstock/UAMY.csv\n",
      "Saved data for symbol UAN to C:/Users/atlas/OneDrive/Desktop/usstock/UAN.csv\n",
      "Saved data for symbol UAVS to C:/Users/atlas/OneDrive/Desktop/usstock/UAVS.csv\n",
      "Saved data for symbol UBCP to C:/Users/atlas/OneDrive/Desktop/usstock/UBCP.csv\n",
      "Saved data for symbol UBER to C:/Users/atlas/OneDrive/Desktop/usstock/UBER.csv\n",
      "Saved data for symbol UBFO to C:/Users/atlas/OneDrive/Desktop/usstock/UBFO.csv\n",
      "Saved data for symbol UBS to C:/Users/atlas/OneDrive/Desktop/usstock/UBS.csv\n",
      "Saved data for symbol UBSI to C:/Users/atlas/OneDrive/Desktop/usstock/UBSI.csv\n",
      "Saved data for symbol UBX to C:/Users/atlas/OneDrive/Desktop/usstock/UBX.csv\n",
      "Saved data for symbol UBXG to C:/Users/atlas/OneDrive/Desktop/usstock/UBXG.csv\n",
      "Saved data for symbol UCAR to C:/Users/atlas/OneDrive/Desktop/usstock/UCAR.csv\n",
      "Saved data for symbol UCBI to C:/Users/atlas/OneDrive/Desktop/usstock/UCBI.csv\n",
      "Saved data for symbol UCBIO to C:/Users/atlas/OneDrive/Desktop/usstock/UCBIO.csv\n",
      "Saved data for symbol UCL to C:/Users/atlas/OneDrive/Desktop/usstock/UCL.csv\n",
      "Saved data for symbol UCTT to C:/Users/atlas/OneDrive/Desktop/usstock/UCTT.csv\n",
      "Saved data for symbol UDMY to C:/Users/atlas/OneDrive/Desktop/usstock/UDMY.csv\n",
      "Saved data for symbol UDR to C:/Users/atlas/OneDrive/Desktop/usstock/UDR.csv\n",
      "Saved data for symbol UE to C:/Users/atlas/OneDrive/Desktop/usstock/UE.csv\n",
      "Saved data for symbol UEC to C:/Users/atlas/OneDrive/Desktop/usstock/UEC.csv\n",
      "Saved data for symbol UEIC to C:/Users/atlas/OneDrive/Desktop/usstock/UEIC.csv\n",
      "Saved data for symbol UFCS to C:/Users/atlas/OneDrive/Desktop/usstock/UFCS.csv\n",
      "Saved data for symbol UFI to C:/Users/atlas/OneDrive/Desktop/usstock/UFI.csv\n",
      "Saved data for symbol UFPI to C:/Users/atlas/OneDrive/Desktop/usstock/UFPI.csv\n",
      "Saved data for symbol UFPT to C:/Users/atlas/OneDrive/Desktop/usstock/UFPT.csv\n",
      "Saved data for symbol UG to C:/Users/atlas/OneDrive/Desktop/usstock/UG.csv\n",
      "Saved data for symbol UGI to C:/Users/atlas/OneDrive/Desktop/usstock/UGI.csv\n",
      "Saved data for symbol UGIC to C:/Users/atlas/OneDrive/Desktop/usstock/UGIC.csv\n",
      "Saved data for symbol UGP to C:/Users/atlas/OneDrive/Desktop/usstock/UGP.csv\n",
      "Saved data for symbol UGRO to C:/Users/atlas/OneDrive/Desktop/usstock/UGRO.csv\n",
      "Saved data for symbol UHAL to C:/Users/atlas/OneDrive/Desktop/usstock/UHAL.csv\n",
      "Saved data for symbol UHG to C:/Users/atlas/OneDrive/Desktop/usstock/UHG.csv\n"
     ]
    },
    {
     "name": "stderr",
     "output_type": "stream",
     "text": [
      "\n",
      "1 Failed download:\n",
      "['UHGWW']: Exception('%ticker%: 1d data not available for startTime=-14831751840 and endTime=1713532175. Only 100 years worth of day granularity data are allowed to be fetched per request.')\n"
     ]
    },
    {
     "name": "stdout",
     "output_type": "stream",
     "text": [
      "Saved data for symbol UHGWW to C:/Users/atlas/OneDrive/Desktop/usstock/UHGWW.csv\n",
      "Saved data for symbol UHS to C:/Users/atlas/OneDrive/Desktop/usstock/UHS.csv\n",
      "Saved data for symbol UHT to C:/Users/atlas/OneDrive/Desktop/usstock/UHT.csv\n",
      "Saved data for symbol UI to C:/Users/atlas/OneDrive/Desktop/usstock/UI.csv\n",
      "Saved data for symbol UIS to C:/Users/atlas/OneDrive/Desktop/usstock/UIS.csv\n",
      "Saved data for symbol UK to C:/Users/atlas/OneDrive/Desktop/usstock/UK.csv\n"
     ]
    },
    {
     "name": "stderr",
     "output_type": "stream",
     "text": [
      "\n",
      "1 Failed download:\n",
      "['UKOMW']: Exception('%ticker%: 1d data not available for startTime=-14831751840 and endTime=1713532180. Only 100 years worth of day granularity data are allowed to be fetched per request.')\n"
     ]
    },
    {
     "name": "stdout",
     "output_type": "stream",
     "text": [
      "Saved data for symbol UKOMW to C:/Users/atlas/OneDrive/Desktop/usstock/UKOMW.csv\n",
      "Saved data for symbol UL to C:/Users/atlas/OneDrive/Desktop/usstock/UL.csv\n",
      "Saved data for symbol ULBI to C:/Users/atlas/OneDrive/Desktop/usstock/ULBI.csv\n",
      "Saved data for symbol ULCC to C:/Users/atlas/OneDrive/Desktop/usstock/ULCC.csv\n",
      "Saved data for symbol ULH to C:/Users/atlas/OneDrive/Desktop/usstock/ULH.csv\n",
      "Saved data for symbol ULS to C:/Users/atlas/OneDrive/Desktop/usstock/ULS.csv\n",
      "Saved data for symbol ULTA to C:/Users/atlas/OneDrive/Desktop/usstock/ULTA.csv\n",
      "Saved data for symbol ULY to C:/Users/atlas/OneDrive/Desktop/usstock/ULY.csv\n",
      "Saved data for symbol UMAC to C:/Users/atlas/OneDrive/Desktop/usstock/UMAC.csv\n",
      "Saved data for symbol UMBF to C:/Users/atlas/OneDrive/Desktop/usstock/UMBF.csv\n",
      "Saved data for symbol UMC to C:/Users/atlas/OneDrive/Desktop/usstock/UMC.csv\n",
      "Saved data for symbol UMH to C:/Users/atlas/OneDrive/Desktop/usstock/UMH.csv\n"
     ]
    },
    {
     "name": "stderr",
     "output_type": "stream",
     "text": [
      "\n",
      "1 Failed download:\n",
      "['UMH^D']: Exception('%ticker%: No timezone found, symbol may be delisted')\n"
     ]
    },
    {
     "name": "stdout",
     "output_type": "stream",
     "text": [
      "Saved data for symbol UMH^D to C:/Users/atlas/OneDrive/Desktop/usstock/UMH^D.csv\n",
      "Saved data for symbol UNB to C:/Users/atlas/OneDrive/Desktop/usstock/UNB.csv\n",
      "Saved data for symbol UNCY to C:/Users/atlas/OneDrive/Desktop/usstock/UNCY.csv\n",
      "Saved data for symbol UNF to C:/Users/atlas/OneDrive/Desktop/usstock/UNF.csv\n",
      "Saved data for symbol UNFI to C:/Users/atlas/OneDrive/Desktop/usstock/UNFI.csv\n",
      "Saved data for symbol UNH to C:/Users/atlas/OneDrive/Desktop/usstock/UNH.csv\n",
      "Saved data for symbol UNIT to C:/Users/atlas/OneDrive/Desktop/usstock/UNIT.csv\n",
      "Saved data for symbol UNM to C:/Users/atlas/OneDrive/Desktop/usstock/UNM.csv\n",
      "Saved data for symbol UNMA to C:/Users/atlas/OneDrive/Desktop/usstock/UNMA.csv\n",
      "Saved data for symbol UNP to C:/Users/atlas/OneDrive/Desktop/usstock/UNP.csv\n",
      "Saved data for symbol UNTY to C:/Users/atlas/OneDrive/Desktop/usstock/UNTY.csv\n",
      "Saved data for symbol UONE to C:/Users/atlas/OneDrive/Desktop/usstock/UONE.csv\n",
      "Saved data for symbol UONEK to C:/Users/atlas/OneDrive/Desktop/usstock/UONEK.csv\n",
      "Saved data for symbol UP to C:/Users/atlas/OneDrive/Desktop/usstock/UP.csv\n",
      "Saved data for symbol UPBD to C:/Users/atlas/OneDrive/Desktop/usstock/UPBD.csv\n",
      "Saved data for symbol UPC to C:/Users/atlas/OneDrive/Desktop/usstock/UPC.csv\n",
      "Saved data for symbol UPLD to C:/Users/atlas/OneDrive/Desktop/usstock/UPLD.csv\n",
      "Saved data for symbol UPS to C:/Users/atlas/OneDrive/Desktop/usstock/UPS.csv\n",
      "Saved data for symbol UPST to C:/Users/atlas/OneDrive/Desktop/usstock/UPST.csv\n",
      "Saved data for symbol UPWK to C:/Users/atlas/OneDrive/Desktop/usstock/UPWK.csv\n",
      "Saved data for symbol UPXI to C:/Users/atlas/OneDrive/Desktop/usstock/UPXI.csv\n",
      "Saved data for symbol URBN to C:/Users/atlas/OneDrive/Desktop/usstock/URBN.csv\n",
      "Saved data for symbol URG to C:/Users/atlas/OneDrive/Desktop/usstock/URG.csv\n",
      "Saved data for symbol URGN to C:/Users/atlas/OneDrive/Desktop/usstock/URGN.csv\n",
      "Saved data for symbol URI to C:/Users/atlas/OneDrive/Desktop/usstock/URI.csv\n",
      "Saved data for symbol UROY to C:/Users/atlas/OneDrive/Desktop/usstock/UROY.csv\n",
      "Saved data for symbol USA to C:/Users/atlas/OneDrive/Desktop/usstock/USA.csv\n",
      "Saved data for symbol USAC to C:/Users/atlas/OneDrive/Desktop/usstock/USAC.csv\n",
      "Saved data for symbol USAP to C:/Users/atlas/OneDrive/Desktop/usstock/USAP.csv\n",
      "Saved data for symbol USAS to C:/Users/atlas/OneDrive/Desktop/usstock/USAS.csv\n",
      "Saved data for symbol USAU to C:/Users/atlas/OneDrive/Desktop/usstock/USAU.csv\n",
      "Saved data for symbol USB to C:/Users/atlas/OneDrive/Desktop/usstock/USB.csv\n"
     ]
    },
    {
     "name": "stderr",
     "output_type": "stream",
     "text": [
      "\n",
      "1 Failed download:\n",
      "['USB^A']: Exception('%ticker%: No timezone found, symbol may be delisted')\n"
     ]
    },
    {
     "name": "stdout",
     "output_type": "stream",
     "text": [
      "Saved data for symbol USB^A to C:/Users/atlas/OneDrive/Desktop/usstock/USB^A.csv\n"
     ]
    },
    {
     "name": "stderr",
     "output_type": "stream",
     "text": [
      "\n",
      "1 Failed download:\n",
      "['USB^H']: Exception('%ticker%: No timezone found, symbol may be delisted')\n"
     ]
    },
    {
     "name": "stdout",
     "output_type": "stream",
     "text": [
      "Saved data for symbol USB^H to C:/Users/atlas/OneDrive/Desktop/usstock/USB^H.csv\n"
     ]
    },
    {
     "name": "stderr",
     "output_type": "stream",
     "text": [
      "\n",
      "1 Failed download:\n",
      "['USB^P']: Exception('%ticker%: No timezone found, symbol may be delisted')\n"
     ]
    },
    {
     "name": "stdout",
     "output_type": "stream",
     "text": [
      "Saved data for symbol USB^P to C:/Users/atlas/OneDrive/Desktop/usstock/USB^P.csv\n"
     ]
    },
    {
     "name": "stderr",
     "output_type": "stream",
     "text": [
      "\n",
      "1 Failed download:\n",
      "['USB^Q']: Exception('%ticker%: No timezone found, symbol may be delisted')\n"
     ]
    },
    {
     "name": "stdout",
     "output_type": "stream",
     "text": [
      "Saved data for symbol USB^Q to C:/Users/atlas/OneDrive/Desktop/usstock/USB^Q.csv\n"
     ]
    },
    {
     "name": "stderr",
     "output_type": "stream",
     "text": [
      "\n",
      "1 Failed download:\n",
      "['USB^R']: Exception('%ticker%: No timezone found, symbol may be delisted')\n"
     ]
    },
    {
     "name": "stdout",
     "output_type": "stream",
     "text": [
      "Saved data for symbol USB^R to C:/Users/atlas/OneDrive/Desktop/usstock/USB^R.csv\n"
     ]
    },
    {
     "name": "stderr",
     "output_type": "stream",
     "text": [
      "\n",
      "1 Failed download:\n",
      "['USB^S']: Exception('%ticker%: No timezone found, symbol may be delisted')\n"
     ]
    },
    {
     "name": "stdout",
     "output_type": "stream",
     "text": [
      "Saved data for symbol USB^S to C:/Users/atlas/OneDrive/Desktop/usstock/USB^S.csv\n",
      "Saved data for symbol USCB to C:/Users/atlas/OneDrive/Desktop/usstock/USCB.csv\n",
      "Saved data for symbol USCT to C:/Users/atlas/OneDrive/Desktop/usstock/USCT.csv\n"
     ]
    },
    {
     "name": "stderr",
     "output_type": "stream",
     "text": [
      "\n",
      "1 Failed download:\n",
      "['USCTW']: Exception('%ticker%: 1d data not available for startTime=-14831751840 and endTime=1713532215. Only 100 years worth of day granularity data are allowed to be fetched per request.')\n"
     ]
    },
    {
     "name": "stdout",
     "output_type": "stream",
     "text": [
      "Saved data for symbol USCTW to C:/Users/atlas/OneDrive/Desktop/usstock/USCTW.csv\n",
      "Saved data for symbol USEA to C:/Users/atlas/OneDrive/Desktop/usstock/USEA.csv\n",
      "Saved data for symbol USEG to C:/Users/atlas/OneDrive/Desktop/usstock/USEG.csv\n",
      "Saved data for symbol USFD to C:/Users/atlas/OneDrive/Desktop/usstock/USFD.csv\n",
      "Saved data for symbol USGO to C:/Users/atlas/OneDrive/Desktop/usstock/USGO.csv\n"
     ]
    },
    {
     "name": "stderr",
     "output_type": "stream",
     "text": [
      "\n",
      "1 Failed download:\n",
      "['USGOW']: Exception('%ticker%: 1d data not available for startTime=-14831751840 and endTime=1713532218. Only 100 years worth of day granularity data are allowed to be fetched per request.')\n"
     ]
    },
    {
     "name": "stdout",
     "output_type": "stream",
     "text": [
      "Saved data for symbol USGOW to C:/Users/atlas/OneDrive/Desktop/usstock/USGOW.csv\n",
      "Saved data for symbol USIO to C:/Users/atlas/OneDrive/Desktop/usstock/USIO.csv\n",
      "Saved data for symbol USLM to C:/Users/atlas/OneDrive/Desktop/usstock/USLM.csv\n",
      "Saved data for symbol USM to C:/Users/atlas/OneDrive/Desktop/usstock/USM.csv\n",
      "Saved data for symbol USNA to C:/Users/atlas/OneDrive/Desktop/usstock/USNA.csv\n",
      "Saved data for symbol USPH to C:/Users/atlas/OneDrive/Desktop/usstock/USPH.csv\n",
      "Saved data for symbol UTF to C:/Users/atlas/OneDrive/Desktop/usstock/UTF.csv\n",
      "Saved data for symbol UTG to C:/Users/atlas/OneDrive/Desktop/usstock/UTG.csv\n",
      "Saved data for symbol UTHR to C:/Users/atlas/OneDrive/Desktop/usstock/UTHR.csv\n",
      "Saved data for symbol UTI to C:/Users/atlas/OneDrive/Desktop/usstock/UTI.csv\n",
      "Saved data for symbol UTL to C:/Users/atlas/OneDrive/Desktop/usstock/UTL.csv\n",
      "Saved data for symbol UTMD to C:/Users/atlas/OneDrive/Desktop/usstock/UTMD.csv\n",
      "Saved data for symbol UTSI to C:/Users/atlas/OneDrive/Desktop/usstock/UTSI.csv\n",
      "Saved data for symbol UTZ to C:/Users/atlas/OneDrive/Desktop/usstock/UTZ.csv\n",
      "Saved data for symbol UUU to C:/Users/atlas/OneDrive/Desktop/usstock/UUU.csv\n",
      "Saved data for symbol UUUU to C:/Users/atlas/OneDrive/Desktop/usstock/UUUU.csv\n",
      "Saved data for symbol UVE to C:/Users/atlas/OneDrive/Desktop/usstock/UVE.csv\n",
      "Saved data for symbol UVSP to C:/Users/atlas/OneDrive/Desktop/usstock/UVSP.csv\n",
      "Saved data for symbol UVV to C:/Users/atlas/OneDrive/Desktop/usstock/UVV.csv\n",
      "Saved data for symbol UWMC to C:/Users/atlas/OneDrive/Desktop/usstock/UWMC.csv\n",
      "Saved data for symbol UXIN to C:/Users/atlas/OneDrive/Desktop/usstock/UXIN.csv\n",
      "Saved data for symbol UZD to C:/Users/atlas/OneDrive/Desktop/usstock/UZD.csv\n",
      "Saved data for symbol UZE to C:/Users/atlas/OneDrive/Desktop/usstock/UZE.csv\n",
      "Saved data for symbol UZF to C:/Users/atlas/OneDrive/Desktop/usstock/UZF.csv\n",
      "Saved data for symbol V to C:/Users/atlas/OneDrive/Desktop/usstock/V.csv\n",
      "Saved data for symbol VABK to C:/Users/atlas/OneDrive/Desktop/usstock/VABK.csv\n",
      "Saved data for symbol VAC to C:/Users/atlas/OneDrive/Desktop/usstock/VAC.csv\n",
      "Saved data for symbol VAL to C:/Users/atlas/OneDrive/Desktop/usstock/VAL.csv\n",
      "Saved data for symbol VALE to C:/Users/atlas/OneDrive/Desktop/usstock/VALE.csv\n",
      "Saved data for symbol VALN to C:/Users/atlas/OneDrive/Desktop/usstock/VALN.csv\n",
      "Saved data for symbol VALU to C:/Users/atlas/OneDrive/Desktop/usstock/VALU.csv\n",
      "Saved data for symbol VANI to C:/Users/atlas/OneDrive/Desktop/usstock/VANI.csv\n",
      "Saved data for symbol VATE to C:/Users/atlas/OneDrive/Desktop/usstock/VATE.csv\n",
      "Saved data for symbol VAXX to C:/Users/atlas/OneDrive/Desktop/usstock/VAXX.csv\n",
      "Saved data for symbol VBF to C:/Users/atlas/OneDrive/Desktop/usstock/VBF.csv\n",
      "Saved data for symbol VBFC to C:/Users/atlas/OneDrive/Desktop/usstock/VBFC.csv\n",
      "Saved data for symbol VBIV to C:/Users/atlas/OneDrive/Desktop/usstock/VBIV.csv\n",
      "Saved data for symbol VBNK to C:/Users/atlas/OneDrive/Desktop/usstock/VBNK.csv\n",
      "Saved data for symbol VBTX to C:/Users/atlas/OneDrive/Desktop/usstock/VBTX.csv\n",
      "Saved data for symbol VC to C:/Users/atlas/OneDrive/Desktop/usstock/VC.csv\n",
      "Saved data for symbol VCEL to C:/Users/atlas/OneDrive/Desktop/usstock/VCEL.csv\n",
      "Saved data for symbol VCIG to C:/Users/atlas/OneDrive/Desktop/usstock/VCIG.csv\n",
      "Saved data for symbol VCNX to C:/Users/atlas/OneDrive/Desktop/usstock/VCNX.csv\n",
      "Saved data for symbol VCSA to C:/Users/atlas/OneDrive/Desktop/usstock/VCSA.csv\n",
      "Saved data for symbol VCTR to C:/Users/atlas/OneDrive/Desktop/usstock/VCTR.csv\n",
      "Saved data for symbol VCV to C:/Users/atlas/OneDrive/Desktop/usstock/VCV.csv\n",
      "Saved data for symbol VCXB to C:/Users/atlas/OneDrive/Desktop/usstock/VCXB.csv\n",
      "Saved data for symbol VCYT to C:/Users/atlas/OneDrive/Desktop/usstock/VCYT.csv\n",
      "Saved data for symbol VECO to C:/Users/atlas/OneDrive/Desktop/usstock/VECO.csv\n",
      "Saved data for symbol VEEE to C:/Users/atlas/OneDrive/Desktop/usstock/VEEE.csv\n",
      "Saved data for symbol VEEV to C:/Users/atlas/OneDrive/Desktop/usstock/VEEV.csv\n",
      "Saved data for symbol VEL to C:/Users/atlas/OneDrive/Desktop/usstock/VEL.csv\n",
      "Saved data for symbol VEON to C:/Users/atlas/OneDrive/Desktop/usstock/VEON.csv\n",
      "Saved data for symbol VERA to C:/Users/atlas/OneDrive/Desktop/usstock/VERA.csv\n",
      "Saved data for symbol VERB to C:/Users/atlas/OneDrive/Desktop/usstock/VERB.csv\n",
      "Saved data for symbol VERI to C:/Users/atlas/OneDrive/Desktop/usstock/VERI.csv\n",
      "Saved data for symbol VERO to C:/Users/atlas/OneDrive/Desktop/usstock/VERO.csv\n",
      "Saved data for symbol VERU to C:/Users/atlas/OneDrive/Desktop/usstock/VERU.csv\n",
      "Saved data for symbol VERV to C:/Users/atlas/OneDrive/Desktop/usstock/VERV.csv\n",
      "Saved data for symbol VERX to C:/Users/atlas/OneDrive/Desktop/usstock/VERX.csv\n",
      "Saved data for symbol VERY to C:/Users/atlas/OneDrive/Desktop/usstock/VERY.csv\n",
      "Saved data for symbol VET to C:/Users/atlas/OneDrive/Desktop/usstock/VET.csv\n",
      "Saved data for symbol VEV to C:/Users/atlas/OneDrive/Desktop/usstock/VEV.csv\n",
      "Saved data for symbol VFC to C:/Users/atlas/OneDrive/Desktop/usstock/VFC.csv\n",
      "Saved data for symbol VFF to C:/Users/atlas/OneDrive/Desktop/usstock/VFF.csv\n",
      "Saved data for symbol VFL to C:/Users/atlas/OneDrive/Desktop/usstock/VFL.csv\n",
      "Saved data for symbol VFS to C:/Users/atlas/OneDrive/Desktop/usstock/VFS.csv\n",
      "Saved data for symbol VFSWW to C:/Users/atlas/OneDrive/Desktop/usstock/VFSWW.csv\n",
      "Saved data for symbol VGAS to C:/Users/atlas/OneDrive/Desktop/usstock/VGAS.csv\n"
     ]
    },
    {
     "name": "stderr",
     "output_type": "stream",
     "text": [
      "\n",
      "1 Failed download:\n",
      "['VGASW']: Exception('%ticker%: 1d data not available for startTime=-14831751840 and endTime=1713532245. Only 100 years worth of day granularity data are allowed to be fetched per request.')\n"
     ]
    },
    {
     "name": "stdout",
     "output_type": "stream",
     "text": [
      "Saved data for symbol VGASW to C:/Users/atlas/OneDrive/Desktop/usstock/VGASW.csv\n",
      "Saved data for symbol VGI to C:/Users/atlas/OneDrive/Desktop/usstock/VGI.csv\n",
      "Saved data for symbol VGM to C:/Users/atlas/OneDrive/Desktop/usstock/VGM.csv\n",
      "Saved data for symbol VGR to C:/Users/atlas/OneDrive/Desktop/usstock/VGR.csv\n",
      "Saved data for symbol VGZ to C:/Users/atlas/OneDrive/Desktop/usstock/VGZ.csv\n",
      "Saved data for symbol VHAI to C:/Users/atlas/OneDrive/Desktop/usstock/VHAI.csv\n",
      "Saved data for symbol VHC to C:/Users/atlas/OneDrive/Desktop/usstock/VHC.csv\n",
      "Saved data for symbol VHI to C:/Users/atlas/OneDrive/Desktop/usstock/VHI.csv\n",
      "Saved data for symbol VIA to C:/Users/atlas/OneDrive/Desktop/usstock/VIA.csv\n",
      "Saved data for symbol VIAO to C:/Users/atlas/OneDrive/Desktop/usstock/VIAO.csv\n",
      "Saved data for symbol VIASP to C:/Users/atlas/OneDrive/Desktop/usstock/VIASP.csv\n",
      "Saved data for symbol VIAV to C:/Users/atlas/OneDrive/Desktop/usstock/VIAV.csv\n",
      "Saved data for symbol VICI to C:/Users/atlas/OneDrive/Desktop/usstock/VICI.csv\n",
      "Saved data for symbol VICR to C:/Users/atlas/OneDrive/Desktop/usstock/VICR.csv\n",
      "Saved data for symbol VIGL to C:/Users/atlas/OneDrive/Desktop/usstock/VIGL.csv\n",
      "Saved data for symbol VINC to C:/Users/atlas/OneDrive/Desktop/usstock/VINC.csv\n",
      "Saved data for symbol VINE to C:/Users/atlas/OneDrive/Desktop/usstock/VINE.csv\n",
      "Saved data for symbol VINO to C:/Users/atlas/OneDrive/Desktop/usstock/VINO.csv\n",
      "Saved data for symbol VINP to C:/Users/atlas/OneDrive/Desktop/usstock/VINP.csv\n",
      "Saved data for symbol VIOT to C:/Users/atlas/OneDrive/Desktop/usstock/VIOT.csv\n",
      "Saved data for symbol VIPS to C:/Users/atlas/OneDrive/Desktop/usstock/VIPS.csv\n",
      "Saved data for symbol VIR to C:/Users/atlas/OneDrive/Desktop/usstock/VIR.csv\n",
      "Saved data for symbol VIRC to C:/Users/atlas/OneDrive/Desktop/usstock/VIRC.csv\n",
      "Saved data for symbol VIRI to C:/Users/atlas/OneDrive/Desktop/usstock/VIRI.csv\n",
      "Saved data for symbol VIRT to C:/Users/atlas/OneDrive/Desktop/usstock/VIRT.csv\n",
      "Saved data for symbol VIRX to C:/Users/atlas/OneDrive/Desktop/usstock/VIRX.csv\n",
      "Saved data for symbol VISL to C:/Users/atlas/OneDrive/Desktop/usstock/VISL.csv\n",
      "Saved data for symbol VIST to C:/Users/atlas/OneDrive/Desktop/usstock/VIST.csv\n",
      "Saved data for symbol VITL to C:/Users/atlas/OneDrive/Desktop/usstock/VITL.csv\n",
      "Saved data for symbol VIV to C:/Users/atlas/OneDrive/Desktop/usstock/VIV.csv\n",
      "Saved data for symbol VIVK to C:/Users/atlas/OneDrive/Desktop/usstock/VIVK.csv\n",
      "Saved data for symbol VKI to C:/Users/atlas/OneDrive/Desktop/usstock/VKI.csv\n",
      "Saved data for symbol VKQ to C:/Users/atlas/OneDrive/Desktop/usstock/VKQ.csv\n",
      "Saved data for symbol VKTX to C:/Users/atlas/OneDrive/Desktop/usstock/VKTX.csv\n",
      "Saved data for symbol VLCN to C:/Users/atlas/OneDrive/Desktop/usstock/VLCN.csv\n",
      "Saved data for symbol VLD to C:/Users/atlas/OneDrive/Desktop/usstock/VLD.csv\n",
      "Saved data for symbol VLGEA to C:/Users/atlas/OneDrive/Desktop/usstock/VLGEA.csv\n",
      "Saved data for symbol VLN to C:/Users/atlas/OneDrive/Desktop/usstock/VLN.csv\n",
      "Saved data for symbol VLO to C:/Users/atlas/OneDrive/Desktop/usstock/VLO.csv\n",
      "Saved data for symbol VLRS to C:/Users/atlas/OneDrive/Desktop/usstock/VLRS.csv\n",
      "Saved data for symbol VLT to C:/Users/atlas/OneDrive/Desktop/usstock/VLT.csv\n",
      "Saved data for symbol VLTO to C:/Users/atlas/OneDrive/Desktop/usstock/VLTO.csv\n",
      "Saved data for symbol VLY to C:/Users/atlas/OneDrive/Desktop/usstock/VLY.csv\n",
      "Saved data for symbol VLYPO to C:/Users/atlas/OneDrive/Desktop/usstock/VLYPO.csv\n",
      "Saved data for symbol VLYPP to C:/Users/atlas/OneDrive/Desktop/usstock/VLYPP.csv\n",
      "Saved data for symbol VMAR to C:/Users/atlas/OneDrive/Desktop/usstock/VMAR.csv\n",
      "Saved data for symbol VMC to C:/Users/atlas/OneDrive/Desktop/usstock/VMC.csv\n",
      "Saved data for symbol VMCA to C:/Users/atlas/OneDrive/Desktop/usstock/VMCA.csv\n"
     ]
    },
    {
     "name": "stderr",
     "output_type": "stream",
     "text": [
      "\n",
      "1 Failed download:\n",
      "['VMCAW']: Exception('%ticker%: 1d data not available for startTime=-14831751840 and endTime=1713532266. Only 100 years worth of day granularity data are allowed to be fetched per request.')\n"
     ]
    },
    {
     "name": "stdout",
     "output_type": "stream",
     "text": [
      "Saved data for symbol VMCAW to C:/Users/atlas/OneDrive/Desktop/usstock/VMCAW.csv\n",
      "Saved data for symbol VMD to C:/Users/atlas/OneDrive/Desktop/usstock/VMD.csv\n",
      "Saved data for symbol VMEO to C:/Users/atlas/OneDrive/Desktop/usstock/VMEO.csv\n",
      "Saved data for symbol VMI to C:/Users/atlas/OneDrive/Desktop/usstock/VMI.csv\n",
      "Saved data for symbol VMO to C:/Users/atlas/OneDrive/Desktop/usstock/VMO.csv\n",
      "Saved data for symbol VNCE to C:/Users/atlas/OneDrive/Desktop/usstock/VNCE.csv\n",
      "Saved data for symbol VNDA to C:/Users/atlas/OneDrive/Desktop/usstock/VNDA.csv\n",
      "Saved data for symbol VNET to C:/Users/atlas/OneDrive/Desktop/usstock/VNET.csv\n",
      "Saved data for symbol VNO to C:/Users/atlas/OneDrive/Desktop/usstock/VNO.csv\n"
     ]
    },
    {
     "name": "stderr",
     "output_type": "stream",
     "text": [
      "\n",
      "1 Failed download:\n",
      "['VNO^L']: Exception('%ticker%: No timezone found, symbol may be delisted')\n"
     ]
    },
    {
     "name": "stdout",
     "output_type": "stream",
     "text": [
      "Saved data for symbol VNO^L to C:/Users/atlas/OneDrive/Desktop/usstock/VNO^L.csv\n"
     ]
    },
    {
     "name": "stderr",
     "output_type": "stream",
     "text": [
      "\n",
      "1 Failed download:\n",
      "['VNO^M']: Exception('%ticker%: No timezone found, symbol may be delisted')\n"
     ]
    },
    {
     "name": "stdout",
     "output_type": "stream",
     "text": [
      "Saved data for symbol VNO^M to C:/Users/atlas/OneDrive/Desktop/usstock/VNO^M.csv\n"
     ]
    },
    {
     "name": "stderr",
     "output_type": "stream",
     "text": [
      "\n",
      "1 Failed download:\n",
      "['VNO^N']: Exception('%ticker%: No timezone found, symbol may be delisted')\n"
     ]
    },
    {
     "name": "stdout",
     "output_type": "stream",
     "text": [
      "Saved data for symbol VNO^N to C:/Users/atlas/OneDrive/Desktop/usstock/VNO^N.csv\n"
     ]
    },
    {
     "name": "stderr",
     "output_type": "stream",
     "text": [
      "\n",
      "1 Failed download:\n",
      "['VNO^O']: Exception('%ticker%: No timezone found, symbol may be delisted')\n"
     ]
    },
    {
     "name": "stdout",
     "output_type": "stream",
     "text": [
      "Saved data for symbol VNO^O to C:/Users/atlas/OneDrive/Desktop/usstock/VNO^O.csv\n",
      "Saved data for symbol VNOM to C:/Users/atlas/OneDrive/Desktop/usstock/VNOM.csv\n",
      "Saved data for symbol VNRX to C:/Users/atlas/OneDrive/Desktop/usstock/VNRX.csv\n",
      "Saved data for symbol VNT to C:/Users/atlas/OneDrive/Desktop/usstock/VNT.csv\n",
      "Saved data for symbol VOC to C:/Users/atlas/OneDrive/Desktop/usstock/VOC.csv\n",
      "Saved data for symbol VOD to C:/Users/atlas/OneDrive/Desktop/usstock/VOD.csv\n",
      "Saved data for symbol VOR to C:/Users/atlas/OneDrive/Desktop/usstock/VOR.csv\n",
      "Saved data for symbol VOXR to C:/Users/atlas/OneDrive/Desktop/usstock/VOXR.csv\n",
      "Saved data for symbol VOXX to C:/Users/atlas/OneDrive/Desktop/usstock/VOXX.csv\n",
      "Saved data for symbol VOYA to C:/Users/atlas/OneDrive/Desktop/usstock/VOYA.csv\n"
     ]
    },
    {
     "name": "stderr",
     "output_type": "stream",
     "text": [
      "\n",
      "1 Failed download:\n",
      "['VOYA^B']: Exception('%ticker%: No timezone found, symbol may be delisted')\n"
     ]
    },
    {
     "name": "stdout",
     "output_type": "stream",
     "text": [
      "Saved data for symbol VOYA^B to C:/Users/atlas/OneDrive/Desktop/usstock/VOYA^B.csv\n",
      "Saved data for symbol VPG to C:/Users/atlas/OneDrive/Desktop/usstock/VPG.csv\n",
      "Saved data for symbol VPV to C:/Users/atlas/OneDrive/Desktop/usstock/VPV.csv\n",
      "Saved data for symbol VRA to C:/Users/atlas/OneDrive/Desktop/usstock/VRA.csv\n",
      "Saved data for symbol VRAR to C:/Users/atlas/OneDrive/Desktop/usstock/VRAR.csv\n",
      "Saved data for symbol VRAX to C:/Users/atlas/OneDrive/Desktop/usstock/VRAX.csv\n",
      "Saved data for symbol VRCA to C:/Users/atlas/OneDrive/Desktop/usstock/VRCA.csv\n",
      "Saved data for symbol VRDN to C:/Users/atlas/OneDrive/Desktop/usstock/VRDN.csv\n",
      "Saved data for symbol VRE to C:/Users/atlas/OneDrive/Desktop/usstock/VRE.csv\n",
      "Saved data for symbol VREX to C:/Users/atlas/OneDrive/Desktop/usstock/VREX.csv\n",
      "Saved data for symbol VRM to C:/Users/atlas/OneDrive/Desktop/usstock/VRM.csv\n",
      "Saved data for symbol VRME to C:/Users/atlas/OneDrive/Desktop/usstock/VRME.csv\n"
     ]
    },
    {
     "name": "stderr",
     "output_type": "stream",
     "text": [
      "\n",
      "1 Failed download:\n",
      "['VRMEW']: Exception('%ticker%: 1d data not available for startTime=-14831751840 and endTime=1713532293. Only 100 years worth of day granularity data are allowed to be fetched per request.')\n"
     ]
    },
    {
     "name": "stdout",
     "output_type": "stream",
     "text": [
      "Saved data for symbol VRMEW to C:/Users/atlas/OneDrive/Desktop/usstock/VRMEW.csv\n",
      "Saved data for symbol VRNA to C:/Users/atlas/OneDrive/Desktop/usstock/VRNA.csv\n",
      "Saved data for symbol VRNS to C:/Users/atlas/OneDrive/Desktop/usstock/VRNS.csv\n",
      "Saved data for symbol VRNT to C:/Users/atlas/OneDrive/Desktop/usstock/VRNT.csv\n",
      "Saved data for symbol VRPX to C:/Users/atlas/OneDrive/Desktop/usstock/VRPX.csv\n",
      "Saved data for symbol VRRM to C:/Users/atlas/OneDrive/Desktop/usstock/VRRM.csv\n",
      "Saved data for symbol VRSK to C:/Users/atlas/OneDrive/Desktop/usstock/VRSK.csv\n",
      "Saved data for symbol VRSN to C:/Users/atlas/OneDrive/Desktop/usstock/VRSN.csv\n",
      "Saved data for symbol VRT to C:/Users/atlas/OneDrive/Desktop/usstock/VRT.csv\n",
      "Saved data for symbol VRTS to C:/Users/atlas/OneDrive/Desktop/usstock/VRTS.csv\n",
      "Saved data for symbol VRTX to C:/Users/atlas/OneDrive/Desktop/usstock/VRTX.csv\n",
      "Saved data for symbol VS to C:/Users/atlas/OneDrive/Desktop/usstock/VS.csv\n",
      "Saved data for symbol VSAC to C:/Users/atlas/OneDrive/Desktop/usstock/VSAC.csv\n",
      "Saved data for symbol VSAT to C:/Users/atlas/OneDrive/Desktop/usstock/VSAT.csv\n",
      "Saved data for symbol VSCO to C:/Users/atlas/OneDrive/Desktop/usstock/VSCO.csv\n",
      "Saved data for symbol VSEC to C:/Users/atlas/OneDrive/Desktop/usstock/VSEC.csv\n",
      "Saved data for symbol VSH to C:/Users/atlas/OneDrive/Desktop/usstock/VSH.csv\n",
      "Saved data for symbol VSME to C:/Users/atlas/OneDrive/Desktop/usstock/VSME.csv\n",
      "Saved data for symbol VSSYW to C:/Users/atlas/OneDrive/Desktop/usstock/VSSYW.csv\n",
      "Saved data for symbol VST to C:/Users/atlas/OneDrive/Desktop/usstock/VST.csv\n",
      "Saved data for symbol VSTA to C:/Users/atlas/OneDrive/Desktop/usstock/VSTA.csv\n",
      "Saved data for symbol VSTE to C:/Users/atlas/OneDrive/Desktop/usstock/VSTE.csv\n",
      "Saved data for symbol VSTM to C:/Users/atlas/OneDrive/Desktop/usstock/VSTM.csv\n",
      "Saved data for symbol VSTO to C:/Users/atlas/OneDrive/Desktop/usstock/VSTO.csv\n",
      "Saved data for symbol VSTS to C:/Users/atlas/OneDrive/Desktop/usstock/VSTS.csv\n",
      "Saved data for symbol VTAK to C:/Users/atlas/OneDrive/Desktop/usstock/VTAK.csv\n",
      "Saved data for symbol VTEX to C:/Users/atlas/OneDrive/Desktop/usstock/VTEX.csv\n",
      "Saved data for symbol VTGN to C:/Users/atlas/OneDrive/Desktop/usstock/VTGN.csv\n",
      "Saved data for symbol VTLE to C:/Users/atlas/OneDrive/Desktop/usstock/VTLE.csv\n",
      "Saved data for symbol VTMX to C:/Users/atlas/OneDrive/Desktop/usstock/VTMX.csv\n",
      "Saved data for symbol VTN to C:/Users/atlas/OneDrive/Desktop/usstock/VTN.csv\n",
      "Saved data for symbol VTNR to C:/Users/atlas/OneDrive/Desktop/usstock/VTNR.csv\n",
      "Saved data for symbol VTOL to C:/Users/atlas/OneDrive/Desktop/usstock/VTOL.csv\n",
      "Saved data for symbol VTR to C:/Users/atlas/OneDrive/Desktop/usstock/VTR.csv\n",
      "Saved data for symbol VTRS to C:/Users/atlas/OneDrive/Desktop/usstock/VTRS.csv\n",
      "Saved data for symbol VTRU to C:/Users/atlas/OneDrive/Desktop/usstock/VTRU.csv\n",
      "Saved data for symbol VTS to C:/Users/atlas/OneDrive/Desktop/usstock/VTS.csv\n",
      "Saved data for symbol VTSI to C:/Users/atlas/OneDrive/Desktop/usstock/VTSI.csv\n",
      "Saved data for symbol VTVT to C:/Users/atlas/OneDrive/Desktop/usstock/VTVT.csv\n",
      "Saved data for symbol VTYX to C:/Users/atlas/OneDrive/Desktop/usstock/VTYX.csv\n",
      "Saved data for symbol VUZI to C:/Users/atlas/OneDrive/Desktop/usstock/VUZI.csv\n",
      "Saved data for symbol VVI to C:/Users/atlas/OneDrive/Desktop/usstock/VVI.csv\n",
      "Saved data for symbol VVOS to C:/Users/atlas/OneDrive/Desktop/usstock/VVOS.csv\n",
      "Saved data for symbol VVPR to C:/Users/atlas/OneDrive/Desktop/usstock/VVPR.csv\n",
      "Saved data for symbol VVR to C:/Users/atlas/OneDrive/Desktop/usstock/VVR.csv\n",
      "Saved data for symbol VVV to C:/Users/atlas/OneDrive/Desktop/usstock/VVV.csv\n",
      "Saved data for symbol VVX to C:/Users/atlas/OneDrive/Desktop/usstock/VVX.csv\n",
      "Saved data for symbol VWE to C:/Users/atlas/OneDrive/Desktop/usstock/VWE.csv\n"
     ]
    },
    {
     "name": "stderr",
     "output_type": "stream",
     "text": [
      "\n",
      "1 Failed download:\n",
      "['VWEWW']: Exception('%ticker%: 1d data not available for startTime=-14831751840 and endTime=1713532311. Only 100 years worth of day granularity data are allowed to be fetched per request.')\n"
     ]
    },
    {
     "name": "stdout",
     "output_type": "stream",
     "text": [
      "Saved data for symbol VWEWW to C:/Users/atlas/OneDrive/Desktop/usstock/VWEWW.csv\n",
      "Saved data for symbol VXRT to C:/Users/atlas/OneDrive/Desktop/usstock/VXRT.csv\n",
      "Saved data for symbol VYGR to C:/Users/atlas/OneDrive/Desktop/usstock/VYGR.csv\n",
      "Saved data for symbol VYNE to C:/Users/atlas/OneDrive/Desktop/usstock/VYNE.csv\n",
      "Saved data for symbol VYX to C:/Users/atlas/OneDrive/Desktop/usstock/VYX.csv\n",
      "Saved data for symbol VZ to C:/Users/atlas/OneDrive/Desktop/usstock/VZ.csv\n",
      "Saved data for symbol VZIO to C:/Users/atlas/OneDrive/Desktop/usstock/VZIO.csv\n",
      "Saved data for symbol VZLA to C:/Users/atlas/OneDrive/Desktop/usstock/VZLA.csv\n",
      "Saved data for symbol W to C:/Users/atlas/OneDrive/Desktop/usstock/W.csv\n",
      "Saved data for symbol WAB to C:/Users/atlas/OneDrive/Desktop/usstock/WAB.csv\n",
      "Saved data for symbol WABC to C:/Users/atlas/OneDrive/Desktop/usstock/WABC.csv\n",
      "Saved data for symbol WAFD to C:/Users/atlas/OneDrive/Desktop/usstock/WAFD.csv\n",
      "Saved data for symbol WAFDP to C:/Users/atlas/OneDrive/Desktop/usstock/WAFDP.csv\n",
      "Saved data for symbol WAFU to C:/Users/atlas/OneDrive/Desktop/usstock/WAFU.csv\n",
      "Saved data for symbol WAL to C:/Users/atlas/OneDrive/Desktop/usstock/WAL.csv\n"
     ]
    },
    {
     "name": "stderr",
     "output_type": "stream",
     "text": [
      "\n",
      "1 Failed download:\n",
      "['WAL^A']: Exception('%ticker%: No timezone found, symbol may be delisted')\n"
     ]
    },
    {
     "name": "stdout",
     "output_type": "stream",
     "text": [
      "Saved data for symbol WAL^A to C:/Users/atlas/OneDrive/Desktop/usstock/WAL^A.csv\n",
      "Saved data for symbol WALD to C:/Users/atlas/OneDrive/Desktop/usstock/WALD.csv\n",
      "Saved data for symbol WALDW to C:/Users/atlas/OneDrive/Desktop/usstock/WALDW.csv\n",
      "Saved data for symbol WASH to C:/Users/atlas/OneDrive/Desktop/usstock/WASH.csv\n",
      "Saved data for symbol WAT to C:/Users/atlas/OneDrive/Desktop/usstock/WAT.csv\n",
      "Saved data for symbol WATT to C:/Users/atlas/OneDrive/Desktop/usstock/WATT.csv\n",
      "Saved data for symbol WAVD to C:/Users/atlas/OneDrive/Desktop/usstock/WAVD.csv\n",
      "Saved data for symbol WAVE to C:/Users/atlas/OneDrive/Desktop/usstock/WAVE.csv\n",
      "Saved data for symbol WAVS to C:/Users/atlas/OneDrive/Desktop/usstock/WAVS.csv\n",
      "Saved data for symbol WB to C:/Users/atlas/OneDrive/Desktop/usstock/WB.csv\n",
      "Saved data for symbol WBA to C:/Users/atlas/OneDrive/Desktop/usstock/WBA.csv\n",
      "Saved data for symbol WBD to C:/Users/atlas/OneDrive/Desktop/usstock/WBD.csv\n",
      "Saved data for symbol WBS to C:/Users/atlas/OneDrive/Desktop/usstock/WBS.csv\n"
     ]
    },
    {
     "name": "stderr",
     "output_type": "stream",
     "text": [
      "\n",
      "1 Failed download:\n",
      "['WBS^F']: Exception('%ticker%: No timezone found, symbol may be delisted')\n"
     ]
    },
    {
     "name": "stdout",
     "output_type": "stream",
     "text": [
      "Saved data for symbol WBS^F to C:/Users/atlas/OneDrive/Desktop/usstock/WBS^F.csv\n"
     ]
    },
    {
     "name": "stderr",
     "output_type": "stream",
     "text": [
      "\n",
      "1 Failed download:\n",
      "['WBS^G']: Exception('%ticker%: No timezone found, symbol may be delisted')\n"
     ]
    },
    {
     "name": "stdout",
     "output_type": "stream",
     "text": [
      "Saved data for symbol WBS^G to C:/Users/atlas/OneDrive/Desktop/usstock/WBS^G.csv\n",
      "Saved data for symbol WBUY to C:/Users/atlas/OneDrive/Desktop/usstock/WBUY.csv\n",
      "Saved data for symbol WBX to C:/Users/atlas/OneDrive/Desktop/usstock/WBX.csv\n",
      "Saved data for symbol WCC to C:/Users/atlas/OneDrive/Desktop/usstock/WCC.csv\n"
     ]
    },
    {
     "name": "stderr",
     "output_type": "stream",
     "text": [
      "\n",
      "1 Failed download:\n",
      "['WCC^A']: Exception('%ticker%: No timezone found, symbol may be delisted')\n"
     ]
    },
    {
     "name": "stdout",
     "output_type": "stream",
     "text": [
      "Saved data for symbol WCC^A to C:/Users/atlas/OneDrive/Desktop/usstock/WCC^A.csv\n",
      "Saved data for symbol WCN to C:/Users/atlas/OneDrive/Desktop/usstock/WCN.csv\n",
      "Saved data for symbol WD to C:/Users/atlas/OneDrive/Desktop/usstock/WD.csv\n",
      "Saved data for symbol WDAY to C:/Users/atlas/OneDrive/Desktop/usstock/WDAY.csv\n",
      "Saved data for symbol WDC to C:/Users/atlas/OneDrive/Desktop/usstock/WDC.csv\n",
      "Saved data for symbol WDFC to C:/Users/atlas/OneDrive/Desktop/usstock/WDFC.csv\n",
      "Saved data for symbol WDH to C:/Users/atlas/OneDrive/Desktop/usstock/WDH.csv\n",
      "Saved data for symbol WDI to C:/Users/atlas/OneDrive/Desktop/usstock/WDI.csv\n",
      "Saved data for symbol WDS to C:/Users/atlas/OneDrive/Desktop/usstock/WDS.csv\n",
      "Saved data for symbol WEA to C:/Users/atlas/OneDrive/Desktop/usstock/WEA.csv\n",
      "Saved data for symbol WEAV to C:/Users/atlas/OneDrive/Desktop/usstock/WEAV.csv\n",
      "Saved data for symbol WEC to C:/Users/atlas/OneDrive/Desktop/usstock/WEC.csv\n",
      "Saved data for symbol WEL to C:/Users/atlas/OneDrive/Desktop/usstock/WEL.csv\n",
      "Saved data for symbol WELL to C:/Users/atlas/OneDrive/Desktop/usstock/WELL.csv\n",
      "Saved data for symbol WEN to C:/Users/atlas/OneDrive/Desktop/usstock/WEN.csv\n",
      "Saved data for symbol WERN to C:/Users/atlas/OneDrive/Desktop/usstock/WERN.csv\n",
      "Saved data for symbol WES to C:/Users/atlas/OneDrive/Desktop/usstock/WES.csv\n",
      "Saved data for symbol WEST to C:/Users/atlas/OneDrive/Desktop/usstock/WEST.csv\n"
     ]
    },
    {
     "name": "stderr",
     "output_type": "stream",
     "text": [
      "\n",
      "1 Failed download:\n",
      "['WESTW']: Exception('%ticker%: 1d data not available for startTime=-14831751840 and endTime=1713532342. Only 100 years worth of day granularity data are allowed to be fetched per request.')\n"
     ]
    },
    {
     "name": "stdout",
     "output_type": "stream",
     "text": [
      "Saved data for symbol WESTW to C:/Users/atlas/OneDrive/Desktop/usstock/WESTW.csv\n",
      "Saved data for symbol WETH to C:/Users/atlas/OneDrive/Desktop/usstock/WETH.csv\n",
      "Saved data for symbol WEX to C:/Users/atlas/OneDrive/Desktop/usstock/WEX.csv\n",
      "Saved data for symbol WEYS to C:/Users/atlas/OneDrive/Desktop/usstock/WEYS.csv\n",
      "Saved data for symbol WF to C:/Users/atlas/OneDrive/Desktop/usstock/WF.csv\n",
      "Saved data for symbol WFC to C:/Users/atlas/OneDrive/Desktop/usstock/WFC.csv\n"
     ]
    },
    {
     "name": "stderr",
     "output_type": "stream",
     "text": [
      "\n",
      "1 Failed download:\n",
      "['WFC^A']: Exception('%ticker%: No timezone found, symbol may be delisted')\n"
     ]
    },
    {
     "name": "stdout",
     "output_type": "stream",
     "text": [
      "Saved data for symbol WFC^A to C:/Users/atlas/OneDrive/Desktop/usstock/WFC^A.csv\n"
     ]
    },
    {
     "name": "stderr",
     "output_type": "stream",
     "text": [
      "\n",
      "1 Failed download:\n",
      "['WFC^C']: Exception('%ticker%: No timezone found, symbol may be delisted')\n"
     ]
    },
    {
     "name": "stdout",
     "output_type": "stream",
     "text": [
      "Saved data for symbol WFC^C to C:/Users/atlas/OneDrive/Desktop/usstock/WFC^C.csv\n"
     ]
    },
    {
     "name": "stderr",
     "output_type": "stream",
     "text": [
      "\n",
      "1 Failed download:\n",
      "['WFC^D']: Exception('%ticker%: No timezone found, symbol may be delisted')\n"
     ]
    },
    {
     "name": "stdout",
     "output_type": "stream",
     "text": [
      "Saved data for symbol WFC^D to C:/Users/atlas/OneDrive/Desktop/usstock/WFC^D.csv\n"
     ]
    },
    {
     "name": "stderr",
     "output_type": "stream",
     "text": [
      "\n",
      "1 Failed download:\n",
      "['WFC^L']: Exception('%ticker%: No timezone found, symbol may be delisted')\n"
     ]
    },
    {
     "name": "stdout",
     "output_type": "stream",
     "text": [
      "Saved data for symbol WFC^L to C:/Users/atlas/OneDrive/Desktop/usstock/WFC^L.csv\n"
     ]
    },
    {
     "name": "stderr",
     "output_type": "stream",
     "text": [
      "\n",
      "1 Failed download:\n",
      "['WFC^Y']: Exception('%ticker%: No timezone found, symbol may be delisted')\n"
     ]
    },
    {
     "name": "stdout",
     "output_type": "stream",
     "text": [
      "Saved data for symbol WFC^Y to C:/Users/atlas/OneDrive/Desktop/usstock/WFC^Y.csv\n"
     ]
    },
    {
     "name": "stderr",
     "output_type": "stream",
     "text": [
      "\n",
      "1 Failed download:\n",
      "['WFC^Z']: Exception('%ticker%: No timezone found, symbol may be delisted')\n"
     ]
    },
    {
     "name": "stdout",
     "output_type": "stream",
     "text": [
      "Saved data for symbol WFC^Z to C:/Users/atlas/OneDrive/Desktop/usstock/WFC^Z.csv\n",
      "Saved data for symbol WFCF to C:/Users/atlas/OneDrive/Desktop/usstock/WFCF.csv\n",
      "Saved data for symbol WFG to C:/Users/atlas/OneDrive/Desktop/usstock/WFG.csv\n",
      "Saved data for symbol WFRD to C:/Users/atlas/OneDrive/Desktop/usstock/WFRD.csv\n",
      "Saved data for symbol WGO to C:/Users/atlas/OneDrive/Desktop/usstock/WGO.csv\n",
      "Saved data for symbol WGS to C:/Users/atlas/OneDrive/Desktop/usstock/WGS.csv\n"
     ]
    },
    {
     "name": "stderr",
     "output_type": "stream",
     "text": [
      "\n",
      "1 Failed download:\n",
      "['WGSWW']: Exception('%ticker%: 1d data not available for startTime=-14831751840 and endTime=1713532364. Only 100 years worth of day granularity data are allowed to be fetched per request.')\n"
     ]
    },
    {
     "name": "stdout",
     "output_type": "stream",
     "text": [
      "Saved data for symbol WGSWW to C:/Users/atlas/OneDrive/Desktop/usstock/WGSWW.csv\n",
      "Saved data for symbol WH to C:/Users/atlas/OneDrive/Desktop/usstock/WH.csv\n",
      "Saved data for symbol WHD to C:/Users/atlas/OneDrive/Desktop/usstock/WHD.csv\n",
      "Saved data for symbol WHF to C:/Users/atlas/OneDrive/Desktop/usstock/WHF.csv\n",
      "Saved data for symbol WHFCL to C:/Users/atlas/OneDrive/Desktop/usstock/WHFCL.csv\n",
      "Saved data for symbol WHG to C:/Users/atlas/OneDrive/Desktop/usstock/WHG.csv\n",
      "Saved data for symbol WHLM to C:/Users/atlas/OneDrive/Desktop/usstock/WHLM.csv\n",
      "Saved data for symbol WHLR to C:/Users/atlas/OneDrive/Desktop/usstock/WHLR.csv\n",
      "Saved data for symbol WHLRD to C:/Users/atlas/OneDrive/Desktop/usstock/WHLRD.csv\n",
      "Saved data for symbol WHLRP to C:/Users/atlas/OneDrive/Desktop/usstock/WHLRP.csv\n",
      "Saved data for symbol WHR to C:/Users/atlas/OneDrive/Desktop/usstock/WHR.csv\n",
      "Saved data for symbol WIA to C:/Users/atlas/OneDrive/Desktop/usstock/WIA.csv\n",
      "Saved data for symbol WILC to C:/Users/atlas/OneDrive/Desktop/usstock/WILC.csv\n",
      "Saved data for symbol WIMI to C:/Users/atlas/OneDrive/Desktop/usstock/WIMI.csv\n",
      "Saved data for symbol WINA to C:/Users/atlas/OneDrive/Desktop/usstock/WINA.csv\n",
      "Saved data for symbol WING to C:/Users/atlas/OneDrive/Desktop/usstock/WING.csv\n",
      "Saved data for symbol WINT to C:/Users/atlas/OneDrive/Desktop/usstock/WINT.csv\n",
      "Saved data for symbol WINV to C:/Users/atlas/OneDrive/Desktop/usstock/WINV.csv\n",
      "Saved data for symbol WIRE to C:/Users/atlas/OneDrive/Desktop/usstock/WIRE.csv\n",
      "Saved data for symbol WISA to C:/Users/atlas/OneDrive/Desktop/usstock/WISA.csv\n",
      "Saved data for symbol WISH to C:/Users/atlas/OneDrive/Desktop/usstock/WISH.csv\n",
      "Saved data for symbol WIT to C:/Users/atlas/OneDrive/Desktop/usstock/WIT.csv\n",
      "Saved data for symbol WIW to C:/Users/atlas/OneDrive/Desktop/usstock/WIW.csv\n",
      "Saved data for symbol WIX to C:/Users/atlas/OneDrive/Desktop/usstock/WIX.csv\n",
      "Saved data for symbol WK to C:/Users/atlas/OneDrive/Desktop/usstock/WK.csv\n",
      "Saved data for symbol WKC to C:/Users/atlas/OneDrive/Desktop/usstock/WKC.csv\n",
      "Saved data for symbol WKEY to C:/Users/atlas/OneDrive/Desktop/usstock/WKEY.csv\n",
      "Saved data for symbol WKHS to C:/Users/atlas/OneDrive/Desktop/usstock/WKHS.csv\n",
      "Saved data for symbol WKME to C:/Users/atlas/OneDrive/Desktop/usstock/WKME.csv\n",
      "Saved data for symbol WKSP to C:/Users/atlas/OneDrive/Desktop/usstock/WKSP.csv\n"
     ]
    },
    {
     "name": "stderr",
     "output_type": "stream",
     "text": [
      "\n",
      "1 Failed download:\n",
      "['WKSPW']: Exception('%ticker%: 1d data not available for startTime=-14831751840 and endTime=1713532377. Only 100 years worth of day granularity data are allowed to be fetched per request.')\n"
     ]
    },
    {
     "name": "stdout",
     "output_type": "stream",
     "text": [
      "Saved data for symbol WKSPW to C:/Users/atlas/OneDrive/Desktop/usstock/WKSPW.csv\n",
      "Saved data for symbol WLDN to C:/Users/atlas/OneDrive/Desktop/usstock/WLDN.csv\n",
      "Saved data for symbol WLDS to C:/Users/atlas/OneDrive/Desktop/usstock/WLDS.csv\n"
     ]
    },
    {
     "name": "stderr",
     "output_type": "stream",
     "text": [
      "\n",
      "1 Failed download:\n",
      "['WLDSW']: Exception('%ticker%: 1d data not available for startTime=-14831751840 and endTime=1713532381. Only 100 years worth of day granularity data are allowed to be fetched per request.')\n"
     ]
    },
    {
     "name": "stdout",
     "output_type": "stream",
     "text": [
      "Saved data for symbol WLDSW to C:/Users/atlas/OneDrive/Desktop/usstock/WLDSW.csv\n",
      "Saved data for symbol WLFC to C:/Users/atlas/OneDrive/Desktop/usstock/WLFC.csv\n",
      "Saved data for symbol WLGS to C:/Users/atlas/OneDrive/Desktop/usstock/WLGS.csv\n",
      "Saved data for symbol WLK to C:/Users/atlas/OneDrive/Desktop/usstock/WLK.csv\n",
      "Saved data for symbol WLKP to C:/Users/atlas/OneDrive/Desktop/usstock/WLKP.csv\n",
      "Saved data for symbol WLY to C:/Users/atlas/OneDrive/Desktop/usstock/WLY.csv\n",
      "Saved data for symbol WLYB to C:/Users/atlas/OneDrive/Desktop/usstock/WLYB.csv\n",
      "Saved data for symbol WM to C:/Users/atlas/OneDrive/Desktop/usstock/WM.csv\n",
      "Saved data for symbol WMB to C:/Users/atlas/OneDrive/Desktop/usstock/WMB.csv\n",
      "Saved data for symbol WMG to C:/Users/atlas/OneDrive/Desktop/usstock/WMG.csv\n",
      "Saved data for symbol WMK to C:/Users/atlas/OneDrive/Desktop/usstock/WMK.csv\n",
      "Saved data for symbol WMPN to C:/Users/atlas/OneDrive/Desktop/usstock/WMPN.csv\n",
      "Saved data for symbol WMS to C:/Users/atlas/OneDrive/Desktop/usstock/WMS.csv\n",
      "Saved data for symbol WMT to C:/Users/atlas/OneDrive/Desktop/usstock/WMT.csv\n",
      "Saved data for symbol WNC to C:/Users/atlas/OneDrive/Desktop/usstock/WNC.csv\n",
      "Saved data for symbol WNEB to C:/Users/atlas/OneDrive/Desktop/usstock/WNEB.csv\n",
      "Saved data for symbol WNS to C:/Users/atlas/OneDrive/Desktop/usstock/WNS.csv\n",
      "Saved data for symbol WNW to C:/Users/atlas/OneDrive/Desktop/usstock/WNW.csv\n",
      "Saved data for symbol WOLF to C:/Users/atlas/OneDrive/Desktop/usstock/WOLF.csv\n",
      "Saved data for symbol WOOF to C:/Users/atlas/OneDrive/Desktop/usstock/WOOF.csv\n",
      "Saved data for symbol WOR to C:/Users/atlas/OneDrive/Desktop/usstock/WOR.csv\n",
      "Saved data for symbol WORX to C:/Users/atlas/OneDrive/Desktop/usstock/WORX.csv\n",
      "Saved data for symbol WOW to C:/Users/atlas/OneDrive/Desktop/usstock/WOW.csv\n",
      "Saved data for symbol WPC to C:/Users/atlas/OneDrive/Desktop/usstock/WPC.csv\n",
      "Saved data for symbol WPM to C:/Users/atlas/OneDrive/Desktop/usstock/WPM.csv\n",
      "Saved data for symbol WPP to C:/Users/atlas/OneDrive/Desktop/usstock/WPP.csv\n",
      "Saved data for symbol WPRT to C:/Users/atlas/OneDrive/Desktop/usstock/WPRT.csv\n",
      "Saved data for symbol WRAP to C:/Users/atlas/OneDrive/Desktop/usstock/WRAP.csv\n",
      "Saved data for symbol WRB to C:/Users/atlas/OneDrive/Desktop/usstock/WRB.csv\n"
     ]
    },
    {
     "name": "stderr",
     "output_type": "stream",
     "text": [
      "\n",
      "1 Failed download:\n",
      "['WRB^E']: Exception('%ticker%: No timezone found, symbol may be delisted')\n"
     ]
    },
    {
     "name": "stdout",
     "output_type": "stream",
     "text": [
      "Saved data for symbol WRB^E to C:/Users/atlas/OneDrive/Desktop/usstock/WRB^E.csv\n"
     ]
    },
    {
     "name": "stderr",
     "output_type": "stream",
     "text": [
      "\n",
      "1 Failed download:\n",
      "['WRB^F']: Exception('%ticker%: No timezone found, symbol may be delisted')\n"
     ]
    },
    {
     "name": "stdout",
     "output_type": "stream",
     "text": [
      "Saved data for symbol WRB^F to C:/Users/atlas/OneDrive/Desktop/usstock/WRB^F.csv\n"
     ]
    },
    {
     "name": "stderr",
     "output_type": "stream",
     "text": [
      "\n",
      "1 Failed download:\n",
      "['WRB^G']: Exception('%ticker%: No timezone found, symbol may be delisted')\n"
     ]
    },
    {
     "name": "stdout",
     "output_type": "stream",
     "text": [
      "Saved data for symbol WRB^G to C:/Users/atlas/OneDrive/Desktop/usstock/WRB^G.csv\n"
     ]
    },
    {
     "name": "stderr",
     "output_type": "stream",
     "text": [
      "\n",
      "1 Failed download:\n",
      "['WRB^H']: Exception('%ticker%: No timezone found, symbol may be delisted')\n"
     ]
    },
    {
     "name": "stdout",
     "output_type": "stream",
     "text": [
      "Saved data for symbol WRB^H to C:/Users/atlas/OneDrive/Desktop/usstock/WRB^H.csv\n",
      "Saved data for symbol WRBY to C:/Users/atlas/OneDrive/Desktop/usstock/WRBY.csv\n",
      "Saved data for symbol WRK to C:/Users/atlas/OneDrive/Desktop/usstock/WRK.csv\n",
      "Saved data for symbol WRLD to C:/Users/atlas/OneDrive/Desktop/usstock/WRLD.csv\n",
      "Saved data for symbol WRN to C:/Users/atlas/OneDrive/Desktop/usstock/WRN.csv\n",
      "Saved data for symbol WRNT to C:/Users/atlas/OneDrive/Desktop/usstock/WRNT.csv\n",
      "Saved data for symbol WS to C:/Users/atlas/OneDrive/Desktop/usstock/WS.csv\n",
      "Saved data for symbol WSBC to C:/Users/atlas/OneDrive/Desktop/usstock/WSBC.csv\n",
      "Saved data for symbol WSBCP to C:/Users/atlas/OneDrive/Desktop/usstock/WSBCP.csv\n",
      "Saved data for symbol WSBF to C:/Users/atlas/OneDrive/Desktop/usstock/WSBF.csv\n",
      "Saved data for symbol WSC to C:/Users/atlas/OneDrive/Desktop/usstock/WSC.csv\n",
      "Saved data for symbol WSFS to C:/Users/atlas/OneDrive/Desktop/usstock/WSFS.csv\n",
      "Saved data for symbol WSM to C:/Users/atlas/OneDrive/Desktop/usstock/WSM.csv\n",
      "Saved data for symbol WSO to C:/Users/atlas/OneDrive/Desktop/usstock/WSO.csv\n"
     ]
    },
    {
     "name": "stderr",
     "output_type": "stream",
     "text": [
      "Failed to get ticker 'WSO/B' reason: Expecting value: line 1 column 1 (char 0)\n",
      "\n",
      "1 Failed download:\n",
      "['WSO/B']: Exception('%ticker%: No timezone found, symbol may be delisted')\n"
     ]
    },
    {
     "name": "stdout",
     "output_type": "stream",
     "text": [
      "Error occurred while downloading data for symbol WSO/B: Cannot save file into a non-existent directory: 'C:\\Users\\atlas\\OneDrive\\Desktop\\usstock\\WSO'\n",
      "Saved data for symbol WSR to C:/Users/atlas/OneDrive/Desktop/usstock/WSR.csv\n",
      "Saved data for symbol WST to C:/Users/atlas/OneDrive/Desktop/usstock/WST.csv\n",
      "Saved data for symbol WT to C:/Users/atlas/OneDrive/Desktop/usstock/WT.csv\n",
      "Saved data for symbol WTBA to C:/Users/atlas/OneDrive/Desktop/usstock/WTBA.csv\n",
      "Saved data for symbol WTFC to C:/Users/atlas/OneDrive/Desktop/usstock/WTFC.csv\n",
      "Saved data for symbol WTFCM to C:/Users/atlas/OneDrive/Desktop/usstock/WTFCM.csv\n",
      "Saved data for symbol WTFCP to C:/Users/atlas/OneDrive/Desktop/usstock/WTFCP.csv\n",
      "Saved data for symbol WTI to C:/Users/atlas/OneDrive/Desktop/usstock/WTI.csv\n",
      "Saved data for symbol WTM to C:/Users/atlas/OneDrive/Desktop/usstock/WTM.csv\n",
      "Saved data for symbol WTMA to C:/Users/atlas/OneDrive/Desktop/usstock/WTMA.csv\n",
      "Saved data for symbol WTO to C:/Users/atlas/OneDrive/Desktop/usstock/WTO.csv\n",
      "Saved data for symbol WTRG to C:/Users/atlas/OneDrive/Desktop/usstock/WTRG.csv\n",
      "Saved data for symbol WTS to C:/Users/atlas/OneDrive/Desktop/usstock/WTS.csv\n",
      "Saved data for symbol WTTR to C:/Users/atlas/OneDrive/Desktop/usstock/WTTR.csv\n",
      "Saved data for symbol WTW to C:/Users/atlas/OneDrive/Desktop/usstock/WTW.csv\n",
      "Saved data for symbol WU to C:/Users/atlas/OneDrive/Desktop/usstock/WU.csv\n",
      "Saved data for symbol WULF to C:/Users/atlas/OneDrive/Desktop/usstock/WULF.csv\n",
      "Saved data for symbol WVE to C:/Users/atlas/OneDrive/Desktop/usstock/WVE.csv\n",
      "Saved data for symbol WVVI to C:/Users/atlas/OneDrive/Desktop/usstock/WVVI.csv\n",
      "Saved data for symbol WVVIP to C:/Users/atlas/OneDrive/Desktop/usstock/WVVIP.csv\n",
      "Saved data for symbol WW to C:/Users/atlas/OneDrive/Desktop/usstock/WW.csv\n",
      "Saved data for symbol WWD to C:/Users/atlas/OneDrive/Desktop/usstock/WWD.csv\n",
      "Saved data for symbol WWR to C:/Users/atlas/OneDrive/Desktop/usstock/WWR.csv\n",
      "Saved data for symbol WWW to C:/Users/atlas/OneDrive/Desktop/usstock/WWW.csv\n",
      "Saved data for symbol WY to C:/Users/atlas/OneDrive/Desktop/usstock/WY.csv\n",
      "Saved data for symbol WYNN to C:/Users/atlas/OneDrive/Desktop/usstock/WYNN.csv\n",
      "Saved data for symbol WYY to C:/Users/atlas/OneDrive/Desktop/usstock/WYY.csv\n",
      "Saved data for symbol X to C:/Users/atlas/OneDrive/Desktop/usstock/X.csv\n",
      "Saved data for symbol XAIR to C:/Users/atlas/OneDrive/Desktop/usstock/XAIR.csv\n",
      "Saved data for symbol XBIO to C:/Users/atlas/OneDrive/Desktop/usstock/XBIO.csv\n",
      "Saved data for symbol XBIT to C:/Users/atlas/OneDrive/Desktop/usstock/XBIT.csv\n",
      "Saved data for symbol XBP to C:/Users/atlas/OneDrive/Desktop/usstock/XBP.csv\n",
      "Saved data for symbol XCUR to C:/Users/atlas/OneDrive/Desktop/usstock/XCUR.csv\n",
      "Saved data for symbol XEL to C:/Users/atlas/OneDrive/Desktop/usstock/XEL.csv\n",
      "Saved data for symbol XELA to C:/Users/atlas/OneDrive/Desktop/usstock/XELA.csv\n",
      "Saved data for symbol XELAP to C:/Users/atlas/OneDrive/Desktop/usstock/XELAP.csv\n",
      "Saved data for symbol XELB to C:/Users/atlas/OneDrive/Desktop/usstock/XELB.csv\n",
      "Saved data for symbol XENE to C:/Users/atlas/OneDrive/Desktop/usstock/XENE.csv\n",
      "Saved data for symbol XERS to C:/Users/atlas/OneDrive/Desktop/usstock/XERS.csv\n",
      "Saved data for symbol XFIN to C:/Users/atlas/OneDrive/Desktop/usstock/XFIN.csv\n"
     ]
    },
    {
     "name": "stderr",
     "output_type": "stream",
     "text": [
      "\n",
      "1 Failed download:\n",
      "['XFINW']: Exception('%ticker%: 1d data not available for startTime=-14831751840 and endTime=1713532429. Only 100 years worth of day granularity data are allowed to be fetched per request.')\n"
     ]
    },
    {
     "name": "stdout",
     "output_type": "stream",
     "text": [
      "Saved data for symbol XFINW to C:/Users/atlas/OneDrive/Desktop/usstock/XFINW.csv\n",
      "Saved data for symbol XFLT to C:/Users/atlas/OneDrive/Desktop/usstock/XFLT.csv\n"
     ]
    },
    {
     "name": "stderr",
     "output_type": "stream",
     "text": [
      "\n",
      "1 Failed download:\n",
      "['XFLT^A']: Exception('%ticker%: No timezone found, symbol may be delisted')\n"
     ]
    },
    {
     "name": "stdout",
     "output_type": "stream",
     "text": [
      "Saved data for symbol XFLT^A to C:/Users/atlas/OneDrive/Desktop/usstock/XFLT^A.csv\n",
      "Saved data for symbol XFOR to C:/Users/atlas/OneDrive/Desktop/usstock/XFOR.csv\n",
      "Saved data for symbol XGN to C:/Users/atlas/OneDrive/Desktop/usstock/XGN.csv\n",
      "Saved data for symbol XHR to C:/Users/atlas/OneDrive/Desktop/usstock/XHR.csv\n",
      "Saved data for symbol XIN to C:/Users/atlas/OneDrive/Desktop/usstock/XIN.csv\n",
      "Saved data for symbol XLO to C:/Users/atlas/OneDrive/Desktop/usstock/XLO.csv\n",
      "Saved data for symbol XLYO to C:/Users/atlas/OneDrive/Desktop/usstock/XLYO.csv\n",
      "Saved data for symbol XMTR to C:/Users/atlas/OneDrive/Desktop/usstock/XMTR.csv\n",
      "Saved data for symbol XNCR to C:/Users/atlas/OneDrive/Desktop/usstock/XNCR.csv\n",
      "Saved data for symbol XNET to C:/Users/atlas/OneDrive/Desktop/usstock/XNET.csv\n",
      "Saved data for symbol XOM to C:/Users/atlas/OneDrive/Desktop/usstock/XOM.csv\n",
      "Saved data for symbol XOMA to C:/Users/atlas/OneDrive/Desktop/usstock/XOMA.csv\n",
      "Saved data for symbol XOMAO to C:/Users/atlas/OneDrive/Desktop/usstock/XOMAO.csv\n",
      "Saved data for symbol XOMAP to C:/Users/atlas/OneDrive/Desktop/usstock/XOMAP.csv\n",
      "Saved data for symbol XOS to C:/Users/atlas/OneDrive/Desktop/usstock/XOS.csv\n"
     ]
    },
    {
     "name": "stderr",
     "output_type": "stream",
     "text": [
      "\n",
      "1 Failed download:\n",
      "['XOSWW']: Exception('%ticker%: 1d data not available for startTime=-14831751840 and endTime=1713532438. Only 100 years worth of day granularity data are allowed to be fetched per request.')\n"
     ]
    },
    {
     "name": "stdout",
     "output_type": "stream",
     "text": [
      "Saved data for symbol XOSWW to C:/Users/atlas/OneDrive/Desktop/usstock/XOSWW.csv\n",
      "Saved data for symbol XP to C:/Users/atlas/OneDrive/Desktop/usstock/XP.csv\n",
      "Saved data for symbol XPEL to C:/Users/atlas/OneDrive/Desktop/usstock/XPEL.csv\n",
      "Saved data for symbol XPER to C:/Users/atlas/OneDrive/Desktop/usstock/XPER.csv\n",
      "Saved data for symbol XPEV to C:/Users/atlas/OneDrive/Desktop/usstock/XPEV.csv\n",
      "Saved data for symbol XPL to C:/Users/atlas/OneDrive/Desktop/usstock/XPL.csv\n",
      "Saved data for symbol XPO to C:/Users/atlas/OneDrive/Desktop/usstock/XPO.csv\n",
      "Saved data for symbol XPOF to C:/Users/atlas/OneDrive/Desktop/usstock/XPOF.csv\n",
      "Saved data for symbol XPON to C:/Users/atlas/OneDrive/Desktop/usstock/XPON.csv\n",
      "Saved data for symbol XPRO to C:/Users/atlas/OneDrive/Desktop/usstock/XPRO.csv\n",
      "Saved data for symbol XRAY to C:/Users/atlas/OneDrive/Desktop/usstock/XRAY.csv\n",
      "Saved data for symbol XRTX to C:/Users/atlas/OneDrive/Desktop/usstock/XRTX.csv\n",
      "Saved data for symbol XRX to C:/Users/atlas/OneDrive/Desktop/usstock/XRX.csv\n",
      "Saved data for symbol XTIA to C:/Users/atlas/OneDrive/Desktop/usstock/XTIA.csv\n",
      "Saved data for symbol XTKG to C:/Users/atlas/OneDrive/Desktop/usstock/XTKG.csv\n",
      "Saved data for symbol XTLB to C:/Users/atlas/OneDrive/Desktop/usstock/XTLB.csv\n",
      "Saved data for symbol XTNT to C:/Users/atlas/OneDrive/Desktop/usstock/XTNT.csv\n",
      "Saved data for symbol XWEL to C:/Users/atlas/OneDrive/Desktop/usstock/XWEL.csv\n",
      "Saved data for symbol XXII to C:/Users/atlas/OneDrive/Desktop/usstock/XXII.csv\n",
      "Saved data for symbol XYF to C:/Users/atlas/OneDrive/Desktop/usstock/XYF.csv\n",
      "Saved data for symbol XYL to C:/Users/atlas/OneDrive/Desktop/usstock/XYL.csv\n",
      "Saved data for symbol YALA to C:/Users/atlas/OneDrive/Desktop/usstock/YALA.csv\n",
      "Saved data for symbol YCBD to C:/Users/atlas/OneDrive/Desktop/usstock/YCBD.csv\n"
     ]
    },
    {
     "name": "stderr",
     "output_type": "stream",
     "text": [
      "\n",
      "1 Failed download:\n",
      "['YCBD^A']: Exception('%ticker%: No timezone found, symbol may be delisted')\n"
     ]
    },
    {
     "name": "stdout",
     "output_type": "stream",
     "text": [
      "Saved data for symbol YCBD^A to C:/Users/atlas/OneDrive/Desktop/usstock/YCBD^A.csv\n",
      "Saved data for symbol YELP to C:/Users/atlas/OneDrive/Desktop/usstock/YELP.csv\n",
      "Saved data for symbol YETI to C:/Users/atlas/OneDrive/Desktop/usstock/YETI.csv\n",
      "Saved data for symbol YEXT to C:/Users/atlas/OneDrive/Desktop/usstock/YEXT.csv\n",
      "Saved data for symbol YGMZ to C:/Users/atlas/OneDrive/Desktop/usstock/YGMZ.csv\n",
      "Saved data for symbol YHGJ to C:/Users/atlas/OneDrive/Desktop/usstock/YHGJ.csv\n",
      "Saved data for symbol YI to C:/Users/atlas/OneDrive/Desktop/usstock/YI.csv\n",
      "Saved data for symbol YIBO to C:/Users/atlas/OneDrive/Desktop/usstock/YIBO.csv\n",
      "Saved data for symbol YJ to C:/Users/atlas/OneDrive/Desktop/usstock/YJ.csv\n",
      "Saved data for symbol YMAB to C:/Users/atlas/OneDrive/Desktop/usstock/YMAB.csv\n",
      "Saved data for symbol YMM to C:/Users/atlas/OneDrive/Desktop/usstock/YMM.csv\n",
      "Saved data for symbol YORW to C:/Users/atlas/OneDrive/Desktop/usstock/YORW.csv\n",
      "Saved data for symbol YOSH to C:/Users/atlas/OneDrive/Desktop/usstock/YOSH.csv\n",
      "Saved data for symbol YOTA to C:/Users/atlas/OneDrive/Desktop/usstock/YOTA.csv\n"
     ]
    },
    {
     "name": "stderr",
     "output_type": "stream",
     "text": [
      "\n",
      "1 Failed download:\n",
      "['YOTAR']: Exception('%ticker%: 1d data not available for startTime=-14831751840 and endTime=1713532454. Only 100 years worth of day granularity data are allowed to be fetched per request.')\n"
     ]
    },
    {
     "name": "stdout",
     "output_type": "stream",
     "text": [
      "Saved data for symbol YOTAR to C:/Users/atlas/OneDrive/Desktop/usstock/YOTAR.csv\n"
     ]
    },
    {
     "name": "stderr",
     "output_type": "stream",
     "text": [
      "\n",
      "1 Failed download:\n",
      "['YOTAW']: Exception('%ticker%: 1d data not available for startTime=-14831751840 and endTime=1713532456. Only 100 years worth of day granularity data are allowed to be fetched per request.')\n"
     ]
    },
    {
     "name": "stdout",
     "output_type": "stream",
     "text": [
      "Saved data for symbol YOTAW to C:/Users/atlas/OneDrive/Desktop/usstock/YOTAW.csv\n",
      "Saved data for symbol YOU to C:/Users/atlas/OneDrive/Desktop/usstock/YOU.csv\n",
      "Saved data for symbol YPF to C:/Users/atlas/OneDrive/Desktop/usstock/YPF.csv\n",
      "Saved data for symbol YQ to C:/Users/atlas/OneDrive/Desktop/usstock/YQ.csv\n",
      "Saved data for symbol YRD to C:/Users/atlas/OneDrive/Desktop/usstock/YRD.csv\n",
      "Saved data for symbol YS to C:/Users/atlas/OneDrive/Desktop/usstock/YS.csv\n"
     ]
    },
    {
     "name": "stderr",
     "output_type": "stream",
     "text": [
      "\n",
      "1 Failed download:\n",
      "['YSBPW']: Exception('%ticker%: 1d data not available for startTime=-14831751840 and endTime=1713532459. Only 100 years worth of day granularity data are allowed to be fetched per request.')\n"
     ]
    },
    {
     "name": "stdout",
     "output_type": "stream",
     "text": [
      "Saved data for symbol YSBPW to C:/Users/atlas/OneDrive/Desktop/usstock/YSBPW.csv\n",
      "Saved data for symbol YSG to C:/Users/atlas/OneDrive/Desktop/usstock/YSG.csv\n",
      "Saved data for symbol YTEN to C:/Users/atlas/OneDrive/Desktop/usstock/YTEN.csv\n",
      "Saved data for symbol YTRA to C:/Users/atlas/OneDrive/Desktop/usstock/YTRA.csv\n",
      "Saved data for symbol YUM to C:/Users/atlas/OneDrive/Desktop/usstock/YUM.csv\n",
      "Saved data for symbol YUMC to C:/Users/atlas/OneDrive/Desktop/usstock/YUMC.csv\n",
      "Saved data for symbol YY to C:/Users/atlas/OneDrive/Desktop/usstock/YY.csv\n",
      "Saved data for symbol YYAI to C:/Users/atlas/OneDrive/Desktop/usstock/YYAI.csv\n",
      "Saved data for symbol Z to C:/Users/atlas/OneDrive/Desktop/usstock/Z.csv\n",
      "Saved data for symbol ZAPP to C:/Users/atlas/OneDrive/Desktop/usstock/ZAPP.csv\n"
     ]
    },
    {
     "name": "stderr",
     "output_type": "stream",
     "text": [
      "\n",
      "1 Failed download:\n",
      "['ZAPPW']: Exception('%ticker%: 1d data not available for startTime=-14831751840 and endTime=1713532464. Only 100 years worth of day granularity data are allowed to be fetched per request.')\n"
     ]
    },
    {
     "name": "stdout",
     "output_type": "stream",
     "text": [
      "Saved data for symbol ZAPPW to C:/Users/atlas/OneDrive/Desktop/usstock/ZAPPW.csv\n",
      "Saved data for symbol ZBAO to C:/Users/atlas/OneDrive/Desktop/usstock/ZBAO.csv\n",
      "Saved data for symbol ZBH to C:/Users/atlas/OneDrive/Desktop/usstock/ZBH.csv\n",
      "Saved data for symbol ZBRA to C:/Users/atlas/OneDrive/Desktop/usstock/ZBRA.csv\n",
      "Saved data for symbol ZCAR to C:/Users/atlas/OneDrive/Desktop/usstock/ZCAR.csv\n"
     ]
    },
    {
     "name": "stderr",
     "output_type": "stream",
     "text": [
      "\n",
      "1 Failed download:\n",
      "['ZCARW']: Exception('%ticker%: 1d data not available for startTime=-14831751840 and endTime=1713532467. Only 100 years worth of day granularity data are allowed to be fetched per request.')\n"
     ]
    },
    {
     "name": "stdout",
     "output_type": "stream",
     "text": [
      "Saved data for symbol ZCARW to C:/Users/atlas/OneDrive/Desktop/usstock/ZCARW.csv\n",
      "Saved data for symbol ZCMD to C:/Users/atlas/OneDrive/Desktop/usstock/ZCMD.csv\n",
      "Saved data for symbol ZD to C:/Users/atlas/OneDrive/Desktop/usstock/ZD.csv\n",
      "Saved data for symbol ZDGE to C:/Users/atlas/OneDrive/Desktop/usstock/ZDGE.csv\n",
      "Saved data for symbol ZENV to C:/Users/atlas/OneDrive/Desktop/usstock/ZENV.csv\n",
      "Saved data for symbol ZEO to C:/Users/atlas/OneDrive/Desktop/usstock/ZEO.csv\n"
     ]
    },
    {
     "name": "stderr",
     "output_type": "stream",
     "text": [
      "\n",
      "1 Failed download:\n",
      "['ZEOWW']: Exception('%ticker%: 1d data not available for startTime=-14831751840 and endTime=1713532470. Only 100 years worth of day granularity data are allowed to be fetched per request.')\n"
     ]
    },
    {
     "name": "stdout",
     "output_type": "stream",
     "text": [
      "Saved data for symbol ZEOWW to C:/Users/atlas/OneDrive/Desktop/usstock/ZEOWW.csv\n",
      "Saved data for symbol ZEPP to C:/Users/atlas/OneDrive/Desktop/usstock/ZEPP.csv\n",
      "Saved data for symbol ZETA to C:/Users/atlas/OneDrive/Desktop/usstock/ZETA.csv\n",
      "Saved data for symbol ZEUS to C:/Users/atlas/OneDrive/Desktop/usstock/ZEUS.csv\n",
      "Saved data for symbol ZFOX to C:/Users/atlas/OneDrive/Desktop/usstock/ZFOX.csv\n",
      "Saved data for symbol ZFOXW to C:/Users/atlas/OneDrive/Desktop/usstock/ZFOXW.csv\n",
      "Saved data for symbol ZG to C:/Users/atlas/OneDrive/Desktop/usstock/ZG.csv\n",
      "Saved data for symbol ZGN to C:/Users/atlas/OneDrive/Desktop/usstock/ZGN.csv\n",
      "Saved data for symbol ZH to C:/Users/atlas/OneDrive/Desktop/usstock/ZH.csv\n",
      "Saved data for symbol ZI to C:/Users/atlas/OneDrive/Desktop/usstock/ZI.csv\n",
      "Saved data for symbol ZIM to C:/Users/atlas/OneDrive/Desktop/usstock/ZIM.csv\n",
      "Saved data for symbol ZIMV to C:/Users/atlas/OneDrive/Desktop/usstock/ZIMV.csv\n",
      "Saved data for symbol ZION to C:/Users/atlas/OneDrive/Desktop/usstock/ZION.csv\n",
      "Saved data for symbol ZIONL to C:/Users/atlas/OneDrive/Desktop/usstock/ZIONL.csv\n",
      "Saved data for symbol ZIONO to C:/Users/atlas/OneDrive/Desktop/usstock/ZIONO.csv\n",
      "Saved data for symbol ZIONP to C:/Users/atlas/OneDrive/Desktop/usstock/ZIONP.csv\n",
      "Saved data for symbol ZIP to C:/Users/atlas/OneDrive/Desktop/usstock/ZIP.csv\n",
      "Saved data for symbol ZJYL to C:/Users/atlas/OneDrive/Desktop/usstock/ZJYL.csv\n",
      "Saved data for symbol ZKH to C:/Users/atlas/OneDrive/Desktop/usstock/ZKH.csv\n",
      "Saved data for symbol ZKIN to C:/Users/atlas/OneDrive/Desktop/usstock/ZKIN.csv\n",
      "Saved data for symbol ZLAB to C:/Users/atlas/OneDrive/Desktop/usstock/ZLAB.csv\n",
      "Saved data for symbol ZLS to C:/Users/atlas/OneDrive/Desktop/usstock/ZLS.csv\n",
      "Saved data for symbol ZM to C:/Users/atlas/OneDrive/Desktop/usstock/ZM.csv\n",
      "Saved data for symbol ZNTL to C:/Users/atlas/OneDrive/Desktop/usstock/ZNTL.csv\n",
      "Saved data for symbol ZOM to C:/Users/atlas/OneDrive/Desktop/usstock/ZOM.csv\n",
      "Saved data for symbol ZOOZ to C:/Users/atlas/OneDrive/Desktop/usstock/ZOOZ.csv\n"
     ]
    },
    {
     "name": "stderr",
     "output_type": "stream",
     "text": [
      "\n",
      "1 Failed download:\n",
      "['ZOOZW']: Exception('%ticker%: 1d data not available for startTime=-14831751840 and endTime=1713532479. Only 100 years worth of day granularity data are allowed to be fetched per request.')\n"
     ]
    },
    {
     "name": "stdout",
     "output_type": "stream",
     "text": [
      "Saved data for symbol ZOOZW to C:/Users/atlas/OneDrive/Desktop/usstock/ZOOZW.csv\n",
      "Saved data for symbol ZPTA to C:/Users/atlas/OneDrive/Desktop/usstock/ZPTA.csv\n"
     ]
    },
    {
     "name": "stderr",
     "output_type": "stream",
     "text": [
      "\n",
      "1 Failed download:\n",
      "['ZPTAW']: Exception('%ticker%: 1d data not available for startTime=-14831751840 and endTime=1713532481. Only 100 years worth of day granularity data are allowed to be fetched per request.')\n"
     ]
    },
    {
     "name": "stdout",
     "output_type": "stream",
     "text": [
      "Saved data for symbol ZPTAW to C:/Users/atlas/OneDrive/Desktop/usstock/ZPTAW.csv\n",
      "Saved data for symbol ZS to C:/Users/atlas/OneDrive/Desktop/usstock/ZS.csv\n",
      "Saved data for symbol ZTEK to C:/Users/atlas/OneDrive/Desktop/usstock/ZTEK.csv\n",
      "Saved data for symbol ZTO to C:/Users/atlas/OneDrive/Desktop/usstock/ZTO.csv\n",
      "Saved data for symbol ZTR to C:/Users/atlas/OneDrive/Desktop/usstock/ZTR.csv\n",
      "Saved data for symbol ZTS to C:/Users/atlas/OneDrive/Desktop/usstock/ZTS.csv\n",
      "Saved data for symbol ZUMZ to C:/Users/atlas/OneDrive/Desktop/usstock/ZUMZ.csv\n",
      "Saved data for symbol ZUO to C:/Users/atlas/OneDrive/Desktop/usstock/ZUO.csv\n",
      "Saved data for symbol ZURA to C:/Users/atlas/OneDrive/Desktop/usstock/ZURA.csv\n"
     ]
    },
    {
     "name": "stderr",
     "output_type": "stream",
     "text": [
      "\n",
      "1 Failed download:\n",
      "['ZURAW']: Exception('%ticker%: 1d data not available for startTime=-14831751840 and endTime=1713532485. Only 100 years worth of day granularity data are allowed to be fetched per request.')\n"
     ]
    },
    {
     "name": "stdout",
     "output_type": "stream",
     "text": [
      "Saved data for symbol ZURAW to C:/Users/atlas/OneDrive/Desktop/usstock/ZURAW.csv\n",
      "Saved data for symbol ZVIA to C:/Users/atlas/OneDrive/Desktop/usstock/ZVIA.csv\n",
      "Saved data for symbol ZVRA to C:/Users/atlas/OneDrive/Desktop/usstock/ZVRA.csv\n",
      "Saved data for symbol ZVSA to C:/Users/atlas/OneDrive/Desktop/usstock/ZVSA.csv\n",
      "Saved data for symbol ZWS to C:/Users/atlas/OneDrive/Desktop/usstock/ZWS.csv\n",
      "Saved data for symbol ZYME to C:/Users/atlas/OneDrive/Desktop/usstock/ZYME.csv\n",
      "Saved data for symbol ZYXI to C:/Users/atlas/OneDrive/Desktop/usstock/ZYXI.csv\n"
     ]
    },
    {
     "name": "stderr",
     "output_type": "stream",
     "text": [
      "C:\\Users\\atlas\\AppData\\Local\\Temp\\ipykernel_9780\\684879693.py:36: FutureWarning: The behavior of DataFrame concatenation with empty or all-NA entries is deprecated. In a future version, this will no longer exclude empty or all-NA columns when determining the result dtypes. To retain the old behavior, exclude the relevant entries before the concat operation.\n",
      "  final_df = pd.concat(df_list)\n"
     ]
    }
   ],
   "source": [
    "# Define the directory to save the CSV files\n",
    "output_dir = 'C:/Users/atlas/OneDrive/Desktop/usstock/'\n",
    "\n",
    "\n",
    "# Define the directory to save the CSV files\n",
    "output_dir = 'C:/Users/atlas/OneDrive/Desktop/usstock/'\n",
    "\n",
    "symbols = df['Symbol'].tolist()\n",
    "#symbols = ['AAPL']\n",
    "\n",
    "df_list = []\n",
    "for symbol in symbols:\n",
    "    try:\n",
    "        data = yf.download(symbol, start='1500-01-01', end='2025-01-01', progress=False)\n",
    "        # Add a 'Ticker' column with the current symbol\n",
    "        data['Ticker'] = symbol\n",
    "        data.reset_index(drop=False, inplace=True)\n",
    "        \n",
    "        # Append data to the list\n",
    "        df_list.append(data)\n",
    "        \n",
    "        # Define the file path for the CSV file (without \"_data\" suffix)\n",
    "        csv_file_path = os.path.join(output_dir, f'{symbol}.csv')\n",
    "        \n",
    "        # Save the data to the CSV file\n",
    "        data.to_csv(csv_file_path, index=False)\n",
    "        \n",
    "        print(f'Saved data for symbol {symbol} to {csv_file_path}')\n",
    "    except Exception as e:\n",
    "        print(f\"Error occurred while downloading data for symbol {symbol}: {e}\")\n",
    "\n",
    "# Concatenate the DataFrames in df_list into a single DataFrame\n",
    "final_df = pd.concat(df_list)"
   ]
  }
 ],
 "metadata": {
  "kernelspec": {
   "display_name": "Python 3 (ipykernel)",
   "language": "python",
   "name": "python3"
  },
  "language_info": {
   "codemirror_mode": {
    "name": "ipython",
    "version": 3
   },
   "file_extension": ".py",
   "mimetype": "text/x-python",
   "name": "python",
   "nbconvert_exporter": "python",
   "pygments_lexer": "ipython3",
   "version": "3.11.7"
  }
 },
 "nbformat": 4,
 "nbformat_minor": 5
}
