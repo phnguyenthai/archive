{
 "cells": [
  {
   "cell_type": "code",
   "execution_count": 1,
   "id": "ac1b673f",
   "metadata": {},
   "outputs": [],
   "source": [
    "import os\n",
    "from datetime import datetime, timedelta\n",
    "import pandas as pd\n",
    "import numpy as np\n",
    "from dateutil.parser import parse\n",
    "from dateutil.relativedelta import relativedelta\n",
    "from vnstock import *"
   ]
  },
  {
   "cell_type": "code",
   "execution_count": 2,
   "id": "069c8429",
   "metadata": {},
   "outputs": [],
   "source": [
    "list = listing_companies(live=True)\n",
    "list = list[list['comGroupCode'] == \"HOSE\"]"
   ]
  },
  {
   "cell_type": "code",
   "execution_count": 3,
   "id": "174f8efb-8d8f-4e41-84a5-b489ffc6384d",
   "metadata": {},
   "outputs": [],
   "source": [
    "#Import file from local path:\n",
    "csv_file_path = 'C:/Users/atlas/OneDrive/Desktop/vnstock/daily_price.csv'\n",
    "daily_price = pd.read_csv(csv_file_path)"
   ]
  },
  {
   "cell_type": "code",
   "execution_count": 4,
   "id": "7a0d9c87-0c6c-4f53-accf-44ff13e2e803",
   "metadata": {},
   "outputs": [
    {
     "data": {
      "text/html": [
       "<div>\n",
       "<style scoped>\n",
       "    .dataframe tbody tr th:only-of-type {\n",
       "        vertical-align: middle;\n",
       "    }\n",
       "\n",
       "    .dataframe tbody tr th {\n",
       "        vertical-align: top;\n",
       "    }\n",
       "\n",
       "    .dataframe thead th {\n",
       "        text-align: right;\n",
       "    }\n",
       "</style>\n",
       "<table border=\"1\" class=\"dataframe\">\n",
       "  <thead>\n",
       "    <tr style=\"text-align: right;\">\n",
       "      <th></th>\n",
       "      <th>time</th>\n",
       "      <th>open</th>\n",
       "      <th>high</th>\n",
       "      <th>low</th>\n",
       "      <th>close</th>\n",
       "      <th>volume</th>\n",
       "      <th>ticker</th>\n",
       "    </tr>\n",
       "  </thead>\n",
       "  <tbody>\n",
       "    <tr>\n",
       "      <th>0</th>\n",
       "      <td>2024-04-12</td>\n",
       "      <td>10800</td>\n",
       "      <td>10900</td>\n",
       "      <td>10650</td>\n",
       "      <td>10800</td>\n",
       "      <td>3471800</td>\n",
       "      <td>AAA</td>\n",
       "    </tr>\n",
       "    <tr>\n",
       "      <th>1</th>\n",
       "      <td>2024-04-15</td>\n",
       "      <td>10700</td>\n",
       "      <td>10750</td>\n",
       "      <td>10050</td>\n",
       "      <td>10050</td>\n",
       "      <td>5509000</td>\n",
       "      <td>AAA</td>\n",
       "    </tr>\n",
       "  </tbody>\n",
       "</table>\n",
       "</div>"
      ],
      "text/plain": [
       "         time   open   high    low  close   volume ticker\n",
       "0  2024-04-12  10800  10900  10650  10800  3471800    AAA\n",
       "1  2024-04-15  10700  10750  10050  10050  5509000    AAA"
      ]
     },
     "execution_count": 4,
     "metadata": {},
     "output_type": "execute_result"
    }
   ],
   "source": [
    "daily_price.head(2)"
   ]
  },
  {
   "cell_type": "code",
   "execution_count": 5,
   "id": "f143fef5-8216-4d72-8ccf-dd5be1b9e950",
   "metadata": {},
   "outputs": [],
   "source": [
    "max_date = daily_price['time'].max()"
   ]
  },
  {
   "cell_type": "code",
   "execution_count": 11,
   "id": "17319731-c1e4-4b00-9f1b-5062c984d3d2",
   "metadata": {},
   "outputs": [
    {
     "data": {
      "text/plain": [
       "'2024-04-17'"
      ]
     },
     "execution_count": 11,
     "metadata": {},
     "output_type": "execute_result"
    }
   ],
   "source": [
    "max_date"
   ]
  },
  {
   "cell_type": "code",
   "execution_count": 15,
   "id": "ba38f359-3614-4dfb-81ef-c6da51ee4d70",
   "metadata": {},
   "outputs": [
    {
     "data": {
      "text/plain": [
       "'2024-04-18'"
      ]
     },
     "execution_count": 15,
     "metadata": {},
     "output_type": "execute_result"
    }
   ],
   "source": [
    "# Convert 'max_date' to datetime object\n",
    "max_date = pd.to_datetime(max_date)\n",
    "\n",
    "# Add one day to the maximum date\n",
    "max_date_plus_one_day = (max_date + timedelta(days=1)).strftime('%Y-%m-%d')\n",
    "max_date_plus_one_day"
   ]
  },
  {
   "cell_type": "code",
   "execution_count": null,
   "id": "2d142dd7",
   "metadata": {},
   "outputs": [],
   "source": [
    "symbols = list['ticker'].tolist() \n",
    "dfs = []\n",
    "\n",
    "# Get today's date\n",
    "today = datetime.now().strftime(\"%Y-%m-%d\")\n",
    "\n",
    "for symbol in symbols:\n",
    "    # Calculate start date\n",
    "    start_date = max_date_plus_one_day\n",
    "    end_date = today  # Use today's date\n",
    "    \n",
    "    # Fetch historical price data\n",
    "    df = stock_historical_data(symbol, start_date, end_date, \"1D\", 'stock')\n",
    "    \n",
    "    dfs.append(df)\n",
    "\n",
    "# Concatenate all dataframes into a single dataframe\n",
    "df_append = pd.concat(dfs, ignore_index=True)"
   ]
  },
  {
   "cell_type": "code",
   "execution_count": 37,
   "id": "e62cf815-71fe-411c-818d-5dd83c95adeb",
   "metadata": {},
   "outputs": [],
   "source": [
    "# combine historical data and extra data\n",
    "df_append = pd.concat([df_append, daily_price], ignore_index=True)"
   ]
  },
  {
   "cell_type": "code",
   "execution_count": 38,
   "id": "e6951327-fc47-4ef3-aaa3-ecaabac1385b",
   "metadata": {},
   "outputs": [],
   "source": [
    "# write df to csv file and open it.\n",
    "csv_file_path = 'C:/Users/atlas/OneDrive/Desktop/vnstock/daily_price.csv'\n",
    "df_append.to_csv(csv_file_path, index=False)"
   ]
  }
 ],
 "metadata": {
  "kernelspec": {
   "display_name": "Python 3 (ipykernel)",
   "language": "python",
   "name": "python3"
  },
  "language_info": {
   "codemirror_mode": {
    "name": "ipython",
    "version": 3
   },
   "file_extension": ".py",
   "mimetype": "text/x-python",
   "name": "python",
   "nbconvert_exporter": "python",
   "pygments_lexer": "ipython3",
   "version": "3.11.7"
  }
 },
 "nbformat": 4,
 "nbformat_minor": 5
}
