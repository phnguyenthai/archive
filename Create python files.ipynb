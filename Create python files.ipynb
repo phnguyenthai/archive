{
 "cells": [
  {
   "cell_type": "code",
   "execution_count": 2,
   "id": "656705b0",
   "metadata": {},
   "outputs": [],
   "source": [
    "import numpy as mp\n",
    "import pandas as pd\n",
    "import scipy\n",
    "import requests\n",
    "import os\n",
    "import requests\n",
    "from pandas import read_html"
   ]
  },
  {
   "cell_type": "code",
   "execution_count": 3,
   "id": "72a87b69",
   "metadata": {},
   "outputs": [],
   "source": [
    "csv_file_path = 'C:/Users/phong/OneDrive/Desktop/usstock/nasdaq_screener.csv'\n",
    "df = pd.read_csv(csv_file_path)"
   ]
  },
  {
   "cell_type": "code",
   "execution_count": 4,
   "id": "4c5e4b4f",
   "metadata": {},
   "outputs": [],
   "source": [
    "df = df[['ticker','url']]"
   ]
  },
  {
   "cell_type": "code",
   "execution_count": 19,
   "id": "44757d1a",
   "metadata": {},
   "outputs": [],
   "source": [
    "#df = df.head(5)"
   ]
  },
  {
   "cell_type": "code",
   "execution_count": 29,
   "id": "ffc76344",
   "metadata": {},
   "outputs": [],
   "source": [
    "import pandas as pd\n",
    "import os\n",
    "\n",
    "\n",
    "# Path to the directory where you want to save the Python files\n",
    "directory = \"C:/Users/phong/OneDrive/Desktop/program\"\n",
    "directory2 = \"C:/Users/phong/OneDrive/Desktop/save\"\n",
    "\n",
    "\n",
    "# Create the directory if it doesn't exist\n",
    "if not os.path.exists(directory):\n",
    "    os.makedirs(directory)\n",
    "\n",
    "# Loop through the DataFrame rows\n",
    "for index, row in df.iterrows():\n",
    "    # Get Symbol and url values from the current row\n",
    "    ticker = row['ticker']\n",
    "    url = row['url']\n",
    "    \n",
    "    # Create the Python file name\n",
    "    file_name = f\"{ticker}.py\"\n",
    "    # Create the full file path\n",
    "    file_path = os.path.join(directory, file_name)\n",
    "    # Generate the Python script content\n",
    "    script_content = f\"\"\"\n",
    "import pandas as pd\n",
    "import requests\n",
    "\n",
    "headers = {{\n",
    "  'User-Agent': 'Mozilla/5.0 (Windows NT 10.0; Win64; x64) AppleWebKit/537.36 (KHTML, like Gecko) Chrome/58.0.3029.110 Safari/537.3'\n",
    "}}\n",
    "\n",
    "url = '{url}'\n",
    "response = requests.get(url, headers=headers)\n",
    "\n",
    "data = pd.read_html(response.text)\n",
    "df = pd.DataFrame(data[0])\n",
    "\n",
    "df['ticker'] = '{ticker}'\n",
    "df.columns = ['Date', 'Stock Price', 'TTM Net EPS', 'PE Ratio','Ticker']\n",
    "\n",
    "csv_filename = \"{directory2}/{ticker}.csv\"\n",
    "df.to_csv(csv_filename, index=False)\n",
    "\"\"\"\n",
    "    # Write the script content to the Python file\n",
    "    with open(file_path, \"w\") as file:\n",
    "        file.write(script_content)\n"
   ]
  },
  {
   "cell_type": "code",
   "execution_count": null,
   "id": "a9c164d3",
   "metadata": {},
   "outputs": [],
   "source": []
  },
  {
   "cell_type": "code",
   "execution_count": 8,
   "id": "c98798b1",
   "metadata": {},
   "outputs": [],
   "source": [
    "import pandas as pd\n",
    "import requests\n",
    "\n",
    "headers = {\n",
    "  'User-Agent': 'Mozilla/5.0 (Windows NT 10.0; Win64; x64) AppleWebKit/537.36 (KHTML, like Gecko) Chrome/58.0.3029.110 Safari/537.3'\n",
    "}\n",
    "\n",
    "url = 'https://www.macrotrends.net/stocks/charts/A/apple/roa'\n",
    "response = requests.get(url, headers=headers)\n",
    "\n",
    "data = pd.read_html(response.text)\n",
    "df = pd.DataFrame(data[0])"
   ]
  },
  {
   "cell_type": "code",
   "execution_count": 9,
   "id": "681a851c",
   "metadata": {},
   "outputs": [
    {
     "data": {
      "text/html": [
       "<div>\n",
       "<style scoped>\n",
       "    .dataframe tbody tr th:only-of-type {\n",
       "        vertical-align: middle;\n",
       "    }\n",
       "\n",
       "    .dataframe tbody tr th {\n",
       "        vertical-align: top;\n",
       "    }\n",
       "\n",
       "    .dataframe thead tr th {\n",
       "        text-align: left;\n",
       "    }\n",
       "</style>\n",
       "<table border=\"1\" class=\"dataframe\">\n",
       "  <thead>\n",
       "    <tr>\n",
       "      <th></th>\n",
       "      <th colspan=\"4\" halign=\"left\">Agilent Technologies ROA - Return on Assets Historical Data</th>\n",
       "    </tr>\n",
       "    <tr>\n",
       "      <th></th>\n",
       "      <th>Date</th>\n",
       "      <th>TTM Net Income</th>\n",
       "      <th>Total Assets</th>\n",
       "      <th>Return on Assets</th>\n",
       "    </tr>\n",
       "  </thead>\n",
       "  <tbody>\n",
       "    <tr>\n",
       "      <th>0</th>\n",
       "      <td>2024-01-31</td>\n",
       "      <td>$1.24B</td>\n",
       "      <td>$10.95B</td>\n",
       "      <td>11.45%</td>\n",
       "    </tr>\n",
       "    <tr>\n",
       "      <th>1</th>\n",
       "      <td>2023-10-31</td>\n",
       "      <td>$1.24B</td>\n",
       "      <td>$10.76B</td>\n",
       "      <td>11.50%</td>\n",
       "    </tr>\n",
       "    <tr>\n",
       "      <th>2</th>\n",
       "      <td>2023-07-31</td>\n",
       "      <td>$1.13B</td>\n",
       "      <td>$10.68B</td>\n",
       "      <td>10.56%</td>\n",
       "    </tr>\n",
       "    <tr>\n",
       "      <th>3</th>\n",
       "      <td>2023-04-30</td>\n",
       "      <td>$1.35B</td>\n",
       "      <td>$10.79B</td>\n",
       "      <td>12.65%</td>\n",
       "    </tr>\n",
       "    <tr>\n",
       "      <th>4</th>\n",
       "      <td>2023-01-31</td>\n",
       "      <td>$1.32B</td>\n",
       "      <td>$10.92B</td>\n",
       "      <td>12.48%</td>\n",
       "    </tr>\n",
       "  </tbody>\n",
       "</table>\n",
       "</div>"
      ],
      "text/plain": [
       "  Agilent Technologies ROA - Return on Assets Historical Data                 \\\n",
       "                                                         Date TTM Net Income   \n",
       "0                                         2024-01-31                  $1.24B   \n",
       "1                                         2023-10-31                  $1.24B   \n",
       "2                                         2023-07-31                  $1.13B   \n",
       "3                                         2023-04-30                  $1.35B   \n",
       "4                                         2023-01-31                  $1.32B   \n",
       "\n",
       "                                 \n",
       "  Total Assets Return on Assets  \n",
       "0      $10.95B           11.45%  \n",
       "1      $10.76B           11.50%  \n",
       "2      $10.68B           10.56%  \n",
       "3      $10.79B           12.65%  \n",
       "4      $10.92B           12.48%  "
      ]
     },
     "execution_count": 9,
     "metadata": {},
     "output_type": "execute_result"
    }
   ],
   "source": [
    "df.head()"
   ]
  },
  {
   "cell_type": "code",
   "execution_count": null,
   "id": "564be739",
   "metadata": {},
   "outputs": [],
   "source": [
    "df['ticker'] = 'A'\n",
    "df.columns = ['Date', 'TTM Net Income', 'TTM Net EPS', 'PE Ratio','Ticker']\n",
    "\n",
    "csv_filename = \"C:/Users/phong/OneDrive/Desktop/save/A.csv\"\n",
    "df.to_csv(csv_filename, index=False)"
   ]
  }
 ],
 "metadata": {
  "kernelspec": {
   "display_name": "Python 3 (ipykernel)",
   "language": "python",
   "name": "python3"
  },
  "language_info": {
   "codemirror_mode": {
    "name": "ipython",
    "version": 3
   },
   "file_extension": ".py",
   "mimetype": "text/x-python",
   "name": "python",
   "nbconvert_exporter": "python",
   "pygments_lexer": "ipython3",
   "version": "3.11.5"
  }
 },
 "nbformat": 4,
 "nbformat_minor": 5
}
