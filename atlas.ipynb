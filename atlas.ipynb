{
 "cells": [
  {
   "cell_type": "code",
   "execution_count": null,
   "id": "e907302d",
   "metadata": {},
   "outputs": [],
   "source": [
    "#open excel file in a folder\n",
    "import pandas as pd\n",
    "\n",
    "# Define the path to the Excel file\n",
    "file_path = r'C:\\Users\\phong\\OneDrive\\Documents\\GitHub\\example.xlsx'\n",
    "\n",
    "# Open the Excel file\n",
    "try:\n",
    "    df = pd.read_excel(file_path)\n",
    "    print(\"Excel file opened successfully!\")\n",
    "    print(df.head())  # Print the first few rows of the dataframe\n",
    "except FileNotFoundError:\n",
    "    print(\"The specified file was not found.\")\n",
    "except Exception as e:\n",
    "    print(f\"An error occurred: {e}\")\n"
   ]
  },
  {
   "cell_type": "code",
   "execution_count": null,
   "id": "9ab68774",
   "metadata": {},
   "outputs": [],
   "source": [
    "# Start notebook automatically\n",
    "\n",
    "@echo off\n",
    "cd C:\\Users\\phong\\OneDrive\\Documents\\GitHub\n",
    "call C:\\Users\\phong\\anaconda3\\Scripts\\activate.bat\n",
    "jupyter notebook"
   ]
  },
  {
   "cell_type": "code",
   "execution_count": null,
   "id": "73f4ed5f",
   "metadata": {},
   "outputs": [],
   "source": [
    "#get the price of last month\n",
    "price_df['date'] = pd.to_datetime(price_df['date'])\n",
    "\n",
    "# Group by 'ticker' and resample to get the last date of each month\n",
    "monthly_price = price_df.groupby(['ticker', pd.Grouper(key='date', freq='M')]).last().reset_index()"
   ]
  },
  {
   "cell_type": "code",
   "execution_count": null,
   "id": "df30275b",
   "metadata": {},
   "outputs": [],
   "source": [
    "#rank function\n",
    "merged_df['pe_rank'] = merged_df.groupby('date_adj')['PE Ratio'].rank(method='min')"
   ]
  },
  {
   "cell_type": "code",
   "execution_count": null,
   "id": "1ea41b70",
   "metadata": {},
   "outputs": [],
   "source": [
    "#to know the size of a dataframe (number of columns and number of rows)\n",
    "rows, columns = df.shape"
   ]
  },
  {
   "cell_type": "code",
   "execution_count": null,
   "id": "e2ad6f7b",
   "metadata": {},
   "outputs": [],
   "source": [
    "#read add csv file in a folder\n",
    "# Path to the directory containing the CSV files\n",
    "folder_path = 'C:/Users/phong/OneDrive/Desktop/save'\n",
    "\n",
    "# List all files in the directory\n",
    "files = os.listdir(folder_path)\n",
    "\n",
    "# Filter out the CSV files\n",
    "csv_files = [file for file in files if file.endswith('.csv')]\n",
    "\n",
    "# Initialize an empty list to hold DataFrames\n",
    "df_list = []\n",
    "\n",
    "# Loop through the CSV files and read them into DataFrames\n",
    "for csv_file in csv_files:\n",
    "    file_path = os.path.join(folder_path, csv_file)\n",
    "    df = pd.read_csv(file_path)\n",
    "    df_list.append(df)\n",
    "\n",
    "# Concatenate all DataFrames into a single DataFrame\n",
    "df = pd.concat(df_list, ignore_index=True)"
   ]
  },
  {
   "cell_type": "code",
   "execution_count": null,
   "id": "174b280d",
   "metadata": {},
   "outputs": [],
   "source": [
    "#sort with condition\n",
    "sorted_df = merged_df.sort_values(by=['edd', 'storagetype', 'fc_mapping', 'tbr'], ascending=[True, True, True, False])"
   ]
  },
  {
   "cell_type": "code",
   "execution_count": null,
   "id": "c6acb446",
   "metadata": {},
   "outputs": [],
   "source": [
    "#concat\n",
    "df['concat'] = df['edd'] + '_' + df['storagetype'] + '_' + df['fc_mapping']"
   ]
  },
  {
   "cell_type": "code",
   "execution_count": null,
   "id": "fe9e6f10",
   "metadata": {},
   "outputs": [],
   "source": [
    "#sort columns\n",
    "sorted_df = merged_df.sort_values(by=['edd', 'storagetype', 'fc_mapping'])"
   ]
  },
  {
   "cell_type": "code",
   "execution_count": null,
   "id": "b39231b3",
   "metadata": {},
   "outputs": [],
   "source": [
    "#left join\n",
    "merged_df = pd.merge(df_expanded, df1, on=['edd', 'storagetype', 'fc_mapping'], how='left')"
   ]
  },
  {
   "cell_type": "code",
   "execution_count": null,
   "id": "237a98d9",
   "metadata": {},
   "outputs": [],
   "source": [
    "#yahoo final\n",
    "df = yf.download('AAPL')\n",
    "df_ticker = yf.download(ticker, start=start_date, end=end_date, progress=False)"
   ]
  },
  {
   "cell_type": "code",
   "execution_count": null,
   "id": "5aa6359e-75e8-406a-8027-73ecc685fa23",
   "metadata": {},
   "outputs": [],
   "source": [
    "#drop a column\n",
    "test.drop(columns=['ticker'], inplace=True)\n"
   ]
  },
  {
   "cell_type": "code",
   "execution_count": null,
   "id": "6948f908-f3db-490d-85f4-f21fcee3250c",
   "metadata": {},
   "outputs": [],
   "source": [
    "merged_df_final = pd.merge(top_tickers_df_final, df0, left_on=['time', 'Top Ticker'], right_on=['time', 'ticker'], how='left')"
   ]
  },
  {
   "cell_type": "code",
   "execution_count": null,
   "id": "05e0b1a6-05f7-498a-ad06-fa7a5d3787c9",
   "metadata": {},
   "outputs": [],
   "source": [
    "#How to launch jupyter notebook from any folder\n",
    "When you launch Jupyter Notebook from Anaconda, it will load the jupyter server from the default folder of Anaconda Powershell Prompt which is usually C:\\Users\\yourname. Unless you store all your notebooks under the default folder, you may want to load your notebooks from a different folder. It is very simple, just follow the following steps:\n",
    "\t1. launch Anaconda Powershell Prompt\n",
    "\t2. type cd yourfolder to move the working directory to the folder of your choice\n",
    "\t3. type jupyter notebook and it will start the server from your folder\n",
    "Alternatively you may also change the default loading folder for Anaconda Powershell Prompt. I do not do so as I usually store notebooks in different folders.\n",
    "Done!\n",
    "\n",
    "From <https://www.drdataking.com/post/how-to-launch-jupyter-notebook-from-any-folder/> \n"
   ]
  },
  {
   "cell_type": "code",
   "execution_count": null,
   "id": "b6f51944-d1f6-4de8-b144-322c7cb040cb",
   "metadata": {},
   "outputs": [],
   "source": [
    "# write df to csv file and open it.\n",
    "csv_file_path = 'C:/Users/atlas/OneDrive/Desktop/vnstock/price.csv'\n",
    "df_append.to_csv(csv_file_path, index=False)\n",
    "# Open the CSV file\n",
    "os.startfile(csv_file_path)"
   ]
  },
  {
   "cell_type": "code",
   "execution_count": null,
   "id": "ebcbb9ee-b9ab-4417-8f54-cac548f5b1dd",
   "metadata": {},
   "outputs": [],
   "source": [
    "#Import file from local path:\n",
    "csv_file_path = 'C:/Users/phong/OneDrive/Desktop/usstock/nasdaq_screener.csv'\n",
    "df = pd.read_csv(csv_file_path)"
   ]
  },
  {
   "cell_type": "code",
   "execution_count": 6,
   "id": "e5146836-8d24-4c25-bb9d-726896ca7b69",
   "metadata": {
    "scrolled": true
   },
   "outputs": [
    {
     "name": "stdout",
     "output_type": "stream",
     "text": [
      "        Date        Open        High         Low       Close   Adj Close  \\\n",
      "0 2024-04-12  174.259995  178.360001  174.210007  176.550003  176.550003   \n",
      "0 2024-04-12  159.404999  161.699997  158.600006  159.190002  159.190002   \n",
      "0 2024-04-12  424.049988  425.179993  419.769989  421.899994  421.899994   \n",
      "0 2024-04-12  187.720001  188.380005  185.080002  186.130005  186.130005   \n",
      "\n",
      "      Volume ticker  \n",
      "0  101593300   AAPL  \n",
      "0   16968200   GOOG  \n",
      "0   19232100   MSFT  \n",
      "0   38554300   AMZN  \n"
     ]
    }
   ],
   "source": [
    "import pandas as pd\n",
    "import yfinance as yf\n",
    "from datetime import datetime\n",
    "\n",
    "# Creating a sample DataFrame\n",
    "data = {\n",
    "    'Symbol': ['AAPL', 'GOOG', 'MSFT', 'AMZN'],\n",
    "    'Company': ['Apple Inc.', 'Alphabet Inc.', 'Microsoft Corporation', 'Amazon.com Inc.']\n",
    "}\n",
    "\n",
    "df = pd.DataFrame(data)\n",
    "\n",
    "# Downloading stock data for symbols in the DataFrame\n",
    "symbols = df['Symbol'].tolist()\n",
    "end_date = datetime.today().strftime('%Y-%m-%d')\n",
    "start_date = '2024-04-12'\n",
    "\n",
    "df_append = []\n",
    "\n",
    "for ticker in symbols:\n",
    "    df_ticker = yf.download(ticker, start=start_date, end=end_date, progress=False)\n",
    "    df_ticker['ticker'] = ticker\n",
    "    df_ticker.reset_index(drop=False, inplace=True)\n",
    "    df_append.append(df_ticker)\n",
    "\n",
    "df_ticker = pd.concat(df_append)\n",
    "print(df_ticker)\n"
   ]
  },
  {
   "cell_type": "code",
   "execution_count": 7,
   "id": "a7e3b72b-2b18-4c94-a0ea-7ba8585bd9b7",
   "metadata": {},
   "outputs": [
    {
     "name": "stdout",
     "output_type": "stream",
     "text": [
      "        Date        Open        High         Low       Close   Adj Close  \\\n",
      "0 2024-04-12  187.720001  188.380005  185.080002  186.130005  186.130005   \n",
      "\n",
      "     Volume ticker  \n",
      "0  38554300   AMZN  \n"
     ]
    }
   ],
   "source": [
    "# this is the same program lile Cell2, but the difference is the \"if\" function. Use if to loop 1 value only.\n",
    "import pandas as pd\n",
    "import yfinance as yf\n",
    "from datetime import datetime\n",
    "\n",
    "# Creating a sample DataFrame\n",
    "data = {\n",
    "    'Symbol': ['AAPL', 'GOOG', 'MSFT', 'AMZN'],\n",
    "    'Company': ['Apple Inc.', 'Alphabet Inc.', 'Microsoft Corporation', 'Amazon.com Inc.']\n",
    "}\n",
    "\n",
    "df = pd.DataFrame(data)\n",
    "\n",
    "# Downloading stock data for symbols in the DataFrame\n",
    "symbols = df['Symbol'].tolist()\n",
    "end_date = datetime.today().strftime('%Y-%m-%d')\n",
    "start_date = '2024-04-12'\n",
    "\n",
    "df_append = []\n",
    "\n",
    "if ticker in symbols:\n",
    "    df_ticker = yf.download(ticker, start=start_date, end=end_date, progress=False)\n",
    "    df_ticker['ticker'] = ticker\n",
    "    df_ticker.reset_index(drop=False, inplace=True)\n",
    "    df_append.append(df_ticker)\n",
    "\n",
    "df_ticker = pd.concat(df_append)\n",
    "print(df_ticker)"
   ]
  },
  {
   "cell_type": "code",
   "execution_count": null,
   "id": "384f3225-0957-470d-8f17-1a372ca41035",
   "metadata": {},
   "outputs": [],
   "source": [
    "# Create a new column with condition from another column\n",
    "result_df['ROA flag'] = [0 if val <= 0.25 else 1 for val in result_df['roa']]"
   ]
  },
  {
   "cell_type": "code",
   "execution_count": 8,
   "id": "2c5ff7fb-faf2-4a08-b6aa-9a88235f163b",
   "metadata": {},
   "outputs": [],
   "source": [
    "# filter dataframe wit conditions:\n",
    "Create conditions\n",
    "\n",
    "con1 = result_df['ticker'] == 'AAA'\n",
    "con2 = result_df['range'] == 'Q4-2023'\n",
    "\n",
    "result_df[con1 & con2]\n"
   ]
  },
  {
   "cell_type": "code",
   "execution_count": null,
   "id": "de9c0ec8-616e-45e4-9f7d-0a3058cd19da",
   "metadata": {},
   "outputs": [],
   "source": [
    "# check the types of dataframe\n",
    "#type\n",
    "print(df1.dtypes)"
   ]
  },
  {
   "cell_type": "code",
   "execution_count": null,
   "id": "e862f702-a47a-4e7c-88ce-1e07e3ba1701",
   "metadata": {},
   "outputs": [],
   "source": [
    "# Reset index\n",
    "df.reset_index(drop=False, inplace=True)"
   ]
  },
  {
   "cell_type": "code",
   "execution_count": null,
   "id": "c13d129f-330d-4fbf-9d6d-651a516095c1",
   "metadata": {},
   "outputs": [],
   "source": [
    "#Run file.py\n",
    "%run C:/Users/phong/OneDrive/Desktop/program/AAPL.py"
   ]
  },
  {
   "cell_type": "code",
   "execution_count": null,
   "id": "c9125f64-6e23-43e1-8728-81e14664e7d9",
   "metadata": {},
   "outputs": [],
   "source": [
    "#Rename column\n",
    "df.rename(columns={'ticker': 'time'}, inplace=True)\n",
    "merged_df.rename(columns={'ticker': 'time', 'old_column2': 'new_column2', 'old_column3': 'new_column3'}, inplace=True)\n"
   ]
  },
  {
   "cell_type": "code",
   "execution_count": null,
   "id": "cad0dfbf-e965-40e1-975d-1ee6e06a9fdd",
   "metadata": {},
   "outputs": [],
   "source": [
    "# Set display options to show all rows without truncation\n",
    "pd.set_option('display.max_rows', None)"
   ]
  },
  {
   "cell_type": "code",
   "execution_count": null,
   "id": "f632f217-0388-4a20-9f8c-edbfefdd1181",
   "metadata": {},
   "outputs": [],
   "source": [
    "#get today date\n",
    "today = datetime.now().strftime(\"%Y-%m-%d\")"
   ]
  },
  {
   "cell_type": "code",
   "execution_count": null,
   "id": "8cba81a2-58ea-478a-81d2-dd849b6fb068",
   "metadata": {},
   "outputs": [],
   "source": [
    "# Count number of rows of df\n",
    "num_rows = df_append.shape[0]\n",
    "num_rows"
   ]
  },
  {
   "cell_type": "code",
   "execution_count": null,
   "id": "b497c5b0",
   "metadata": {},
   "outputs": [],
   "source": [
    "#Create imanges from excel file.\n",
    "import pandas as pd\n",
    "import openpyxl\n",
    "import matplotlib.pyplot as plt\n",
    "from matplotlib.table import Table\n",
    "import os\n",
    "from openpyxl.styles import PatternFill\n",
    "\n",
    "# Load the Excel file\n",
    "file_path = 'C:/Users/phong/OneDrive/Desktop/auto_email/auto_email.xlsx'\n",
    "wb = openpyxl.load_workbook(file_path)\n",
    "ws = wb['Sheet1']\n",
    "\n",
    "# Extract data and conditional formatting from the specified range\n",
    "data = ws['A1:C10']\n",
    "table_data = [[cell.value for cell in row] for row in data]\n",
    "\n",
    "# Function to get background color of a cell\n",
    "def get_fill_color(cell):\n",
    "    fill = cell.fill\n",
    "    if isinstance(fill, PatternFill) and fill.start_color.index != '00000000':\n",
    "        return f\"#{fill.start_color.rgb[2:]}\"\n",
    "    return None\n",
    "\n",
    "# Create a DataFrame from the data\n",
    "df = pd.DataFrame(table_data, columns=['Column1', 'Column2', 'Column3'])\n",
    "\n",
    "# Create a figure and axis\n",
    "fig, ax = plt.subplots(figsize=(8, 6))\n",
    "\n",
    "# Hide the axes\n",
    "ax.xaxis.set_visible(False) \n",
    "ax.yaxis.set_visible(False)\n",
    "ax.set_frame_on(False)\n",
    "\n",
    "# Create a table\n",
    "table = Table(ax, bbox=[0, 0, 1, 1])\n",
    "\n",
    "# Add cells with colors\n",
    "for i, row in enumerate(data):\n",
    "    for j, cell in enumerate(row):\n",
    "        cell_text = cell.value\n",
    "        cell_color = get_fill_color(cell)\n",
    "        table.add_cell(i, j, 1, 1, text=cell_text, loc='center', facecolor=cell_color or 'white')\n",
    "\n",
    "# Add the table to the axis\n",
    "ax.add_table(table)\n",
    "\n",
    "# Save the image\n",
    "image_path = os.path.join(os.path.dirname(file_path), 'table_image.png')\n",
    "plt.savefig(image_path, bbox_inches='tight')\n",
    "plt.close()\n",
    "\n",
    "print(f\"Image saved at {image_path}\")\n"
   ]
  }
 ],
 "metadata": {
  "kernelspec": {
   "display_name": "Python 3 (ipykernel)",
   "language": "python",
   "name": "python3"
  },
  "language_info": {
   "codemirror_mode": {
    "name": "ipython",
    "version": 3
   },
   "file_extension": ".py",
   "mimetype": "text/x-python",
   "name": "python",
   "nbconvert_exporter": "python",
   "pygments_lexer": "ipython3",
   "version": "3.11.5"
  }
 },
 "nbformat": 4,
 "nbformat_minor": 5
}
